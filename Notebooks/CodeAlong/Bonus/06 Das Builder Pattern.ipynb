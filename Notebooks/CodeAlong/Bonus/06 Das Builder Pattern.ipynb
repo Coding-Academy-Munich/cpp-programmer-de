{
 "cells": [
  {
   "cell_type": "markdown",
   "id": "1e53a4351d07cddd",
   "metadata": {
    "lang": "de",
    "slideshow": {
     "slide_type": "slide"
    },
    "tags": [
     "slide"
    ]
   },
   "source": [
    "\n",
    "<img src=\"data:image/png;base64,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\"\n",
    "     style=\"display:block;margin:auto;width:5%\"/>\n",
    "<br>\n",
    "\n",
    "<div style=\"text-align:center; font-size:200%;\">\n",
    " <b>Das Builder Pattern</b>\n",
    "</div>\n",
    "<br/>\n",
    "<div style=\"text-align:center; font-size:120%;\">Dr. Matthias Hölzl</div>\n",
    "<br/>\n",
    "<div style=\"text-align:center;\">Coding-Akademie München</div>\n",
    "<br/>\n",
    "<!-- 06 Das Builder Pattern.ipynb -->\n",
    "<!-- slides/module_470_cpp_patterns/topic_300_builder.cpp -->"
   ]
  },
  {
   "cell_type": "markdown",
   "id": "75d2c963b7be2431",
   "metadata": {
    "lang": "de",
    "slideshow": {
     "slide_type": "subslide"
    },
    "tags": [
     "subslide"
    ]
   },
   "source": [
    "\n",
    "- Pattern zum Erstellen von Objekten\n",
    "- Trennt die Konstruktion eines komplexen Objekts von seiner Repräsentation\n",
    "- Ermöglicht die gleiche Konstruktion, um unterschiedliche Repräsentationen zu\n",
    "erzeugen\n",
    "- In C++ manchmal auch als Ersatz für\n",
    "  - überladene Konstruktoren\n",
    "  - benannte Argumente"
   ]
  },
  {
   "cell_type": "markdown",
   "id": "a383c915c00e3190",
   "metadata": {
    "lang": "de",
    "slideshow": {
     "slide_type": "subslide"
    },
    "tags": [
     "subslide"
    ]
   },
   "source": [
    "\n",
    "## Idee\n",
    "\n",
    "- Verwende Builder Objekt, um die Konfiguration eines Objekts zu speichern\n",
    "- Erzeuge das Objekt aus der Konfiguration"
   ]
  },
  {
   "cell_type": "markdown",
   "id": "52c25d2deb36f651",
   "metadata": {
    "lang": "de",
    "slideshow": {
     "slide_type": "subslide"
    },
    "tags": [
     "subslide"
    ]
   },
   "source": [
    "\n",
    "## Beispiel\n",
    "\n",
    "- Dokumenten-Builder\n",
    "- Erzeuge Markdown- und HTML-Dokumente"
   ]
  },
  {
   "cell_type": "code",
   "execution_count": null,
   "id": "b3df8f4c8cf611c0",
   "metadata": {
    "slideshow": {
     "slide_type": "subslide"
    },
    "tags": [
     "keep",
     "subslide"
    ]
   },
   "outputs": [],
   "source": [
    "#include <memory>\n",
    "#include <string>\n",
    "#include <vector>"
   ]
  },
  {
   "cell_type": "code",
   "execution_count": null,
   "id": "c778223a7f55173a",
   "metadata": {
    "tags": [
     "keep"
    ]
   },
   "outputs": [],
   "source": [
    "class DocumentElement;"
   ]
  },
  {
   "cell_type": "code",
   "execution_count": null,
   "id": "7783e4ce23f77ea3",
   "metadata": {
    "tags": [
     "keep"
    ]
   },
   "outputs": [],
   "source": [
    "class DocumentBuilder\n",
    "{\n",
    "public:\n",
    "    DocumentBuilder& addTitle(const std::string& title);\n",
    "    DocumentBuilder& addHeader(const std::string& header);\n",
    "    DocumentBuilder& addParagraph(const std::string& paragraph);\n",
    "    std::string getMarkdown() const;\n",
    "    std::string getHtml() const;\n",
    "\n",
    "private:\n",
    "    std::vector<std::unique_ptr<DocumentElement>> elements;\n",
    "};"
   ]
  },
  {
   "cell_type": "code",
   "execution_count": null,
   "id": "f7e22333083e8ec8",
   "metadata": {
    "slideshow": {
     "slide_type": "subslide"
    },
    "tags": [
     "keep",
     "subslide"
    ]
   },
   "outputs": [],
   "source": [
    "class DocumentElement\n",
    "{\n",
    "public:\n",
    "    DocumentElement() = default;\n",
    "    DocumentElement(const DocumentElement&) = delete;\n",
    "    DocumentElement& operator=(const DocumentElement&) = delete;\n",
    "    DocumentElement(DocumentElement&&) = delete;\n",
    "    DocumentElement& operator=(DocumentElement&&) = delete;\n",
    "    virtual ~DocumentElement() = default;\n",
    "\n",
    "    virtual std::string getMarkdown() const = 0;\n",
    "    virtual std::string getHtml() const = 0;\n",
    "};"
   ]
  },
  {
   "cell_type": "code",
   "execution_count": null,
   "id": "ee9b76335bb1071e",
   "metadata": {
    "slideshow": {
     "slide_type": "subslide"
    },
    "tags": [
     "keep",
     "subslide"
    ]
   },
   "outputs": [],
   "source": [
    "class Title : public DocumentElement\n",
    "{\n",
    "public:\n",
    "    Title(const std::string& title) : title(title) {}\n",
    "    std::string getMarkdown() const override { return \"# \" + title + \"\\n\"; }\n",
    "    std::string getHtml() const override { return \"<h1>\" + title + \"</h1>\\n\"; }\n",
    "\n",
    "private:\n",
    "    std::string title;\n",
    "};"
   ]
  },
  {
   "cell_type": "code",
   "execution_count": null,
   "id": "87f81f56a079c638",
   "metadata": {
    "slideshow": {
     "slide_type": "subslide"
    },
    "tags": [
     "keep",
     "subslide"
    ]
   },
   "outputs": [],
   "source": [
    "class Header : public DocumentElement\n",
    "{\n",
    "public:\n",
    "    Header(const std::string& header) : header(header) {}\n",
    "    std::string getMarkdown() const override { return \"## \" + header + \"\\n\"; }\n",
    "    std::string getHtml() const override { return \"<h2>\" + header + \"</h2>\\n\"; }\n",
    "\n",
    "private:\n",
    "    std::string header;\n",
    "};"
   ]
  },
  {
   "cell_type": "code",
   "execution_count": null,
   "id": "b878e3ddd50eeaf1",
   "metadata": {
    "slideshow": {
     "slide_type": "subslide"
    },
    "tags": [
     "keep",
     "subslide"
    ]
   },
   "outputs": [],
   "source": [
    "class Paragraph : public DocumentElement\n",
    "{\n",
    "public:\n",
    "    Paragraph(const std::string& paragraph) : paragraph(paragraph) {}\n",
    "    std::string getMarkdown() const override { return paragraph + \"\\n\"; }\n",
    "    std::string getHtml() const override { return \"<p>\" + paragraph + \"</p>\\n\"; }\n",
    "\n",
    "private:\n",
    "    std::string paragraph;\n",
    "};"
   ]
  },
  {
   "cell_type": "code",
   "execution_count": null,
   "id": "2356462f6914310d",
   "metadata": {
    "slideshow": {
     "slide_type": "subslide"
    },
    "tags": [
     "keep",
     "subslide"
    ]
   },
   "outputs": [],
   "source": [
    "DocumentBuilder& DocumentBuilder::addTitle(const std::string& title)\n",
    "{\n",
    "    elements.push_back(std::make_unique<Title>(title));\n",
    "    return *this;\n",
    "}"
   ]
  },
  {
   "cell_type": "code",
   "execution_count": null,
   "id": "0b7d6df08003d0ac",
   "metadata": {
    "tags": [
     "keep"
    ]
   },
   "outputs": [],
   "source": [
    "DocumentBuilder& DocumentBuilder::addHeader(const std::string& header)\n",
    "{\n",
    "    elements.push_back(std::make_unique<Header>(header));\n",
    "    return *this;\n",
    "}"
   ]
  },
  {
   "cell_type": "code",
   "execution_count": null,
   "id": "1b96c5a76f70fceb",
   "metadata": {
    "tags": [
     "keep"
    ]
   },
   "outputs": [],
   "source": [
    "DocumentBuilder& DocumentBuilder::addParagraph(const std::string& paragraph)\n",
    "{\n",
    "    elements.push_back(std::make_unique<Paragraph>(paragraph));\n",
    "    return *this;\n",
    "}\n",
    "\n",
    "// tags=[\"keep\", \"subslide\"]\n",
    "#include <sstream>"
   ]
  },
  {
   "cell_type": "code",
   "execution_count": null,
   "id": "34efec0e5c2f8ac5",
   "metadata": {
    "tags": [
     "keep"
    ]
   },
   "outputs": [],
   "source": [
    "std::string DocumentBuilder::getMarkdown() const\n",
    "{\n",
    "    std::stringstream result;\n",
    "    for (const auto& element : elements)\n",
    "    {\n",
    "        result << element->getMarkdown();\n",
    "    }\n",
    "    return result.str();\n",
    "}"
   ]
  },
  {
   "cell_type": "code",
   "execution_count": null,
   "id": "13ae3d76ff1fcb2f",
   "metadata": {
    "tags": [
     "keep"
    ]
   },
   "outputs": [],
   "source": [
    "std::string DocumentBuilder::getHtml() const\n",
    "{\n",
    "    std::stringstream result;\n",
    "    for (const auto& element : elements)\n",
    "    {\n",
    "        result << element->getHtml();\n",
    "    }\n",
    "    return result.str();\n",
    "}"
   ]
  },
  {
   "cell_type": "code",
   "execution_count": null,
   "id": "6de9c4232cf26a43",
   "metadata": {
    "incorrectly_encoded_metadata": "tags=[\"keep, \"subslide\"]"
   },
   "outputs": [],
   "source": []
  },
  {
   "cell_type": "code",
   "execution_count": null,
   "id": "86a4bf4d4c5a8cf0",
   "metadata": {
    "tags": [
     "keep"
    ]
   },
   "outputs": [],
   "source": [
    "builder.addTitle(\"Builder Pattern\")\n",
    "    .addHeader(\"Introduction\")\n",
    "    .addParagraph(\"The builder pattern is a creational pattern.\")\n",
    "    .addParagraph(\"It is used to separate the construction of a complex object from \"\n",
    "                  \"its representation.\");"
   ]
  },
  {
   "cell_type": "code",
   "execution_count": null,
   "id": "a0ee650c342d197c",
   "metadata": {
    "slideshow": {
     "slide_type": "subslide"
    },
    "tags": [
     "keep",
     "subslide"
    ]
   },
   "outputs": [],
   "source": [
    "#include <iostream>"
   ]
  },
  {
   "cell_type": "code",
   "execution_count": null,
   "id": "ecec84885cfe4ff6",
   "metadata": {
    "tags": [
     "keep"
    ]
   },
   "outputs": [],
   "source": [
    "std::cout << builder.getMarkdown() << std::endl;"
   ]
  },
  {
   "cell_type": "code",
   "execution_count": null,
   "id": "20c7e7440060ac42",
   "metadata": {
    "tags": [
     "keep"
    ]
   },
   "outputs": [],
   "source": [
    "std::cout << builder.getHtml() << std::endl;"
   ]
  },
  {
   "cell_type": "markdown",
   "id": "06660e50d9cddccd",
   "metadata": {
    "lang": "de",
    "slideshow": {
     "slide_type": "subslide"
    },
    "tags": [
     "subslide"
    ]
   },
   "source": [
    "\n",
    "## Builder und Fluent Interface\n",
    "\n",
    "- Builder Pattern wird oft mit einem Fluent Interface kombiniert\n",
    "- Jede der Methoden gibt eine Referenz auf den Builder zurück\n",
    "- Ermöglicht das Verketten von Methodenaufrufen"
   ]
  },
  {
   "cell_type": "markdown",
   "id": "9ba3c248a3e2a89f",
   "metadata": {
    "lang": "de",
    "slideshow": {
     "slide_type": "subslide"
    },
    "tags": [
     "subslide"
    ]
   },
   "source": [
    "\n",
    "## Builder und Benannte Argumente\n",
    "\n",
    "- C++ bietet keinen direkten Support für benannte Argumente\n",
    "- Builder Pattern kann als Ersatz verwendet werden\n",
    "- Jede Methode des Builders nimmt ein Argument entgegen\n",
    "- Die ursprüngliche Methode wird mit dem Builder aufgerufen oder als Methode\n",
    "  des Builders implementiert"
   ]
  },
  {
   "cell_type": "code",
   "execution_count": null,
   "id": "a888fe615b640cdb",
   "metadata": {
    "slideshow": {
     "slide_type": "subslide"
    },
    "tags": [
     "keep",
     "subslide"
    ]
   },
   "outputs": [],
   "source": [
    "#include <iostream>"
   ]
  },
  {
   "cell_type": "code",
   "execution_count": null,
   "id": "84c8acc7a8fa5643",
   "metadata": {
    "tags": [
     "keep"
    ]
   },
   "outputs": [],
   "source": [
    "void sendRequest(\n",
    "    std::string url, std::string method = \"GET\",\n",
    "    std::map<std::string, std::string> headers = {},\n",
    "    std::map<std::string, std::string> params = {}, std::string data = \"\",\n",
    "    int timeout = 30\n",
    ")\n",
    "{\n",
    "    std::cout << \"Sending \" << method << \" request to \" << url << \"\\n\";\n",
    "    std::cout << \"Headers:\\n\";\n",
    "    for (const auto& [key, value] : headers)\n",
    "    {\n",
    "        std::cout << \"  \" << key << \": \" << value << \"\\n\";\n",
    "    }\n",
    "    std::cout << \"Parameters:\\n\";\n",
    "    for (const auto& [key, value] : params)\n",
    "    {\n",
    "        std::cout << \"  \" << key << \": \" << value << \"\\n\";\n",
    "    }\n",
    "    std::cout << \"Data: \" << data << \"\\n\";\n",
    "    std::cout << \"Timeout: \" << timeout << \" seconds.\\n\";\n",
    "}"
   ]
  },
  {
   "cell_type": "markdown",
   "id": "f45e05eb29c7ee68",
   "metadata": {
    "lang": "de",
    "slideshow": {
     "slide_type": "subslide"
    },
    "tags": [
     "subslide"
    ]
   },
   "source": [
    "\n",
    "- Die Funktion `sendRequest` hat viele Argumente, die den gleichen Typ haben.\n",
    "- Das macht es schwierig, sich die Reihenfolge der Argumente zu merken.\n",
    "- Außerdem müssen potentiell viele Argumente mit Default-Wert angegeben werden,\n",
    "  wenn nur ein oder zwei geändert werden sollen."
   ]
  },
  {
   "cell_type": "code",
   "execution_count": null,
   "id": "0b0402fb38e56d0b",
   "metadata": {
    "slideshow": {
     "slide_type": "subslide"
    },
    "tags": [
     "keep",
     "subslide"
    ]
   },
   "outputs": [],
   "source": [
    "sendRequest(\n",
    "    \"https://example.com\", \"POST\", {{\"Content-Type\", \"application/json\"}}, {},\n",
    "    \"My Data\", 60\n",
    ");"
   ]
  },
  {
   "cell_type": "code",
   "execution_count": null,
   "id": "f2169d54f563639e",
   "metadata": {
    "tags": [
     "keep"
    ]
   },
   "outputs": [],
   "source": [
    "// Change only the timeout....\n",
    "sendRequest(\"https://example.com\", \"GET\", {}, {}, \"\", 10);"
   ]
  },
  {
   "cell_type": "markdown",
   "id": "2ad0dd78fcc79205",
   "metadata": {
    "lang": "de",
    "slideshow": {
     "slide_type": "subslide"
    },
    "tags": [
     "subslide"
    ]
   },
   "source": [
    "\n",
    "- Wir können einen Builder verwenden, um den Aufbau des Requests zu vereinfachen.\n",
    "- Die Argumente werden durch Aufrufe benannter Methoden ersetzt.\n",
    "- Der Builder speichert die Konfiguration und erzeugt den Request.\n",
    "- Dadurch müssen wir nur die geänderten Werte angeben.\n",
    "- Die Reihenfolge der Argumente spielt keine Rolle mehr.\n",
    "- Die Funktion der Argumente wird klarer.\n",
    "- Leider ist zur Definition des Builders viel Code notwendig."
   ]
  },
  {
   "cell_type": "code",
   "execution_count": null,
   "id": "1ca91dbb266f5cb6",
   "metadata": {
    "slideshow": {
     "slide_type": "subslide"
    },
    "tags": [
     "keep",
     "subslide"
    ]
   },
   "outputs": [],
   "source": [
    "class RequestBuilder\n",
    "{\n",
    "public:\n",
    "    RequestBuilder& setUrl(const std::string& url);\n",
    "    RequestBuilder& setMethod(const std::string& method);\n",
    "    RequestBuilder& addHeader(const std::string& key, const std::string& value);\n",
    "    RequestBuilder& addParam(const std::string& key, const std::string& value);\n",
    "    RequestBuilder& setData(const std::string& data);\n",
    "    RequestBuilder& setTimeout(int timeout);\n",
    "    void send() const;\n",
    "\n",
    "private:\n",
    "    std::string url{\"https://example.com\"};\n",
    "    std::string method{\"GET\"};\n",
    "    std::map<std::string, std::string> headers;\n",
    "    std::map<std::string, std::string> params;\n",
    "    std::string data;\n",
    "    int timeout{30};\n",
    "};"
   ]
  },
  {
   "cell_type": "code",
   "execution_count": null,
   "id": "e14792c756db03cf",
   "metadata": {
    "slideshow": {
     "slide_type": "subslide"
    },
    "tags": [
     "keep",
     "subslide"
    ]
   },
   "outputs": [],
   "source": [
    "RequestBuilder& RequestBuilder::setUrl(const std::string& url)\n",
    "{\n",
    "    this->url = url;\n",
    "    return *this;\n",
    "}"
   ]
  },
  {
   "cell_type": "code",
   "execution_count": null,
   "id": "e76a2da7999c4224",
   "metadata": {
    "tags": [
     "keep"
    ]
   },
   "outputs": [],
   "source": [
    "RequestBuilder& RequestBuilder::setMethod(const std::string& method)\n",
    "{\n",
    "    this->method = method;\n",
    "    return *this;\n",
    "}"
   ]
  },
  {
   "cell_type": "code",
   "execution_count": null,
   "id": "c3c26f181c8a52dc",
   "metadata": {
    "tags": [
     "keep"
    ]
   },
   "outputs": [],
   "source": [
    "RequestBuilder& RequestBuilder::addHeader(\n",
    "    const std::string& key, const std::string& value\n",
    ")\n",
    "{\n",
    "    headers[key] = value;\n",
    "    return *this;\n",
    "}"
   ]
  },
  {
   "cell_type": "code",
   "execution_count": null,
   "id": "4a89960e5438a93e",
   "metadata": {
    "tags": [
     "keep"
    ]
   },
   "outputs": [],
   "source": [
    "RequestBuilder& RequestBuilder::addParam(\n",
    "    const std::string& key, const std::string& value\n",
    ")\n",
    "{\n",
    "    params[key] = value;\n",
    "    return *this;\n",
    "}"
   ]
  },
  {
   "cell_type": "code",
   "execution_count": null,
   "id": "c74643cb833685a3",
   "metadata": {
    "tags": [
     "keep"
    ]
   },
   "outputs": [],
   "source": [
    "RequestBuilder& RequestBuilder::setData(const std::string& data)\n",
    "{\n",
    "    this->data = data;\n",
    "    return *this;\n",
    "}"
   ]
  },
  {
   "cell_type": "code",
   "execution_count": null,
   "id": "9230613cb525936f",
   "metadata": {
    "tags": [
     "keep"
    ]
   },
   "outputs": [],
   "source": [
    "RequestBuilder& RequestBuilder::setTimeout(int timeout)\n",
    "{\n",
    "    this->timeout = timeout;\n",
    "    return *this;\n",
    "}"
   ]
  },
  {
   "cell_type": "code",
   "execution_count": null,
   "id": "e09afc44ce975660",
   "metadata": {
    "tags": [
     "keep"
    ]
   },
   "outputs": [],
   "source": [
    "void RequestBuilder::send() const\n",
    "{\n",
    "    sendRequest(url, method, headers, params, data, timeout);\n",
    "}"
   ]
  },
  {
   "cell_type": "code",
   "execution_count": null,
   "id": "ef16d7dba2e7d30e",
   "metadata": {
    "slideshow": {
     "slide_type": "subslide"
    },
    "tags": [
     "keep",
     "subslide"
    ]
   },
   "outputs": [],
   "source": [
    "RequestBuilder request;\n",
    "request.setUrl(\"https://example.com\")\n",
    "    .setMethod(\"POST\")\n",
    "    .addHeader(\"Content-Type\", \"application/json\")\n",
    "    .setData(\"My Data\")\n",
    "    .setTimeout(60)\n",
    "    .send();"
   ]
  },
  {
   "cell_type": "code",
   "execution_count": null,
   "id": "6364ae0c621ec2ee",
   "metadata": {
    "tags": [
     "keep"
    ]
   },
   "outputs": [],
   "source": [
    "// Change only the timeout....\n",
    "RequestBuilder{}.setTimeout(10).send();"
   ]
  }
 ],
 "metadata": {
  "kernelspec": {
   "display_name": "C++17",
   "language": "C++17",
   "name": "xcpp17"
  },
  "language_info": {
   "codemirror_mode": "text/x-c++src",
   "file_extension": ".cpp",
   "mimetype": "text/x-c++src",
   "name": "c++",
   "version": "17"
  }
 },
 "nbformat": 4,
 "nbformat_minor": 5
}
