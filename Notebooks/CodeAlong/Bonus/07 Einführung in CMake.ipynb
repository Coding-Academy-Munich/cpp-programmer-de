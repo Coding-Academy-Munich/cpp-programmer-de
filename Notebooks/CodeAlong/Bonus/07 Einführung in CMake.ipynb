{
 "cells": [
  {
   "cell_type": "markdown",
   "id": "9e04cb0fa9c59f01",
   "metadata": {
    "lang": "de",
    "slideshow": {
     "slide_type": "slide"
    },
    "tags": [
     "slide"
    ]
   },
   "source": [
    "\n",
    "<img src=\"data:image/png;base64,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\"\n",
    "     style=\"display:block;margin:auto;width:5%\"/>\n",
    "<br>\n",
    "\n",
    "<div style=\"text-align:center; font-size:200%;\">\n",
    " <b>Einführung in CMake</b>\n",
    "</div>\n",
    "<br/>\n",
    "<div style=\"text-align:center; font-size:120%;\">Dr. Matthias Hölzl</div>\n",
    "<br/>\n",
    "<div style=\"text-align:center;\">Coding-Akademie München</div>\n",
    "<br/>\n",
    "<!-- 07 Einführung in CMake.ipynb -->\n",
    "<!-- slides/module_600_build/topic_100_cmake_intro.cpp -->"
   ]
  },
  {
   "cell_type": "markdown",
   "id": "497b002643edd32d",
   "metadata": {
    "lang": "de",
    "slideshow": {
     "slide_type": "subslide"
    },
    "tags": [
     "subslide"
    ]
   },
   "source": [
    "\n",
    "# Was ist CMake?\n",
    "\n",
    "- Meta-Build-System\n",
    "  - Generiert Build-Systeme\n",
    "- Test- und Installations-Unterstützung\n",
    "- Plattformunabhängig\n",
    "- Open Source"
   ]
  },
  {
   "cell_type": "markdown",
   "id": "0ff540c942fd6051",
   "metadata": {
    "lines_to_next_cell": 2,
    "slideshow": {
     "slide_type": "subslide"
    },
    "tags": [
     "subslide"
    ]
   },
   "source": [
    "\n",
    "<img src=\"img/cmake-overview.png\"\n",
    "     style=\"display:block;margin:auto;width:50%\"/>"
   ]
  },
  {
   "cell_type": "markdown",
   "id": "e99f6ac73a71755e",
   "metadata": {
    "slideshow": {
     "slide_type": "subslide"
    },
    "tags": [
     "subslide"
    ]
   },
   "source": [
    "\n",
    "<img src=\"img/cmake-workflow.png\"\n",
    "     style=\"display:block;margin:auto;width:90%\"/>"
   ]
  },
  {
   "cell_type": "markdown",
   "id": "609fa1d0b97093ed",
   "metadata": {
    "lang": "de",
    "slideshow": {
     "slide_type": "subslide"
    },
    "tags": [
     "subslide"
    ]
   },
   "source": [
    "\n",
    "## `CMakeLists.txt`\n",
    "\n",
    "- Hauptdatei\n",
    "- Beschreibt das Projekt\n",
    "- Enthält Befehle für CMake\n",
    "- Bestimmt das Quellverzeichnis"
   ]
  },
  {
   "cell_type": "markdown",
   "id": "95872e68f538de70",
   "metadata": {
    "lang": "de",
    "slideshow": {
     "slide_type": "subslide"
    },
    "tags": [
     "subslide"
    ]
   },
   "source": [
    "\n",
    "## Der CMake-Prozess\n",
    "\n",
    "- Basierend auf der `CMakeLists.txt` wird ein Build-System generiert\n",
    "- Das Build-System wird verwendet, um das Projekt zu kompilieren\n",
    "- Typischerweise wird ein Verzeichnis für die Build-Artefakte erstellt\n",
    "- Das Build-System wird in diesem Verzeichnis generiert\n",
    "- Das Build-Verzeichnis sollte vom Quellverzeichnis getrennt sein\n",
    "  (\"out-of-source build\")\n",
    "- `CMakeCache.txt` im Build-Verzeichnis enthält Konfigurationsinformationen"
   ]
  },
  {
   "cell_type": "markdown",
   "id": "6ed1e6767b7438b4",
   "metadata": {
    "lang": "de",
    "slideshow": {
     "slide_type": "subslide"
    },
    "tags": [
     "subslide"
    ]
   },
   "source": [
    "\n",
    "## CMake Demo V0.1\n",
    "\n",
    "```cmake\n",
    "cmake_minimum_required(VERSION 3.27)\n",
    "project(cmake_demo)\n",
    "\n",
    "set(CMAKE_CXX_STANDARD 20)\n",
    "\n",
    "add_executable(say_hello say_hello.cpp)\n",
    "```"
   ]
  },
  {
   "cell_type": "markdown",
   "id": "e4a9f27bc9d2f74f",
   "metadata": {
    "lang": "de",
    "slideshow": {
     "slide_type": "subslide"
    },
    "tags": [
     "subslide"
    ]
   },
   "source": [
    "\n",
    "- `cmake_minimum_required(VERSION 3.27)` gibt die minimale CMake-Version an\n",
    "- `project(cmake_demo)` legt den Projektnamen fest\n",
    "- `set(CMAKE_CXX_STANDARD 20)` legt den C++-Standard fest\n",
    "- `add_executable(say_hello say_hello.cpp)` fügt eine ausführbare Datei hinzu\n",
    "  - `say_hello` ist der Name der ausführbaren Datei\n",
    "  - `say_hello.cpp` ist die Quelldatei"
   ]
  },
  {
   "cell_type": "markdown",
   "id": "e04ec9ec82ed3875",
   "metadata": {
    "lang": "de",
    "slideshow": {
     "slide_type": "subslide"
    },
    "tags": [
     "subslide"
    ]
   },
   "source": [
    "\n",
    "### Übersetzen des Projekts\n",
    "\n",
    "```bash\n",
    "mkdir build\n",
    "cd build\n",
    "cmake ..\n",
    "cmake --build .\n",
    "```"
   ]
  },
  {
   "cell_type": "markdown",
   "id": "4cbc2facd1aa615f",
   "metadata": {
    "lang": "de",
    "slideshow": {
     "slide_type": "subslide"
    },
    "tags": [
     "subslide"
    ]
   },
   "source": [
    "\n",
    "- CMake Builds sollten in einem separaten Verzeichnis erfolgen\n",
    "- `cmake ..` generiert das Build-System\n",
    "- `cmake --build .` kompiliert das Projekt\n",
    "- Damit können wir die gleichen Kommandos verwenden unabhängig, davon wie wir\n",
    "  das Projekt kompilieren wollen"
   ]
  },
  {
   "cell_type": "markdown",
   "id": "f39d83977e7ed2e3",
   "metadata": {
    "lang": "de",
    "slideshow": {
     "slide_type": "subslide"
    },
    "tags": [
     "subslide"
    ]
   },
   "source": [
    "\n",
    "- Die `CMakeLists.txt`-Datei definiert, wie das Projekt kompiliert wird\n",
    "- Die erste Zeile gibt an, welche CMake-Version erforderlich ist\n",
    "- Bei Version 0.1 des Projekts haben wir Version 3.27 oder höher angegeben\n",
    "- Das ist eine relativ neue Version, die möglicherweise nicht auf Ihrem\n",
    "  System installiert ist\n",
    "- CMake macht es einfach, die neueste Version lokal zu installieren, ohne das\n",
    "  System zu beeinträchtigen\n",
    "- Für das Beispiel ist in v0.2 die `CMakeLists.txt`-Datei so geändert, dass\n",
    "  nur Version 3.21 benötigt wird"
   ]
  },
  {
   "cell_type": "markdown",
   "id": "c98088f4796a1d62",
   "metadata": {
    "lang": "de",
    "slideshow": {
     "slide_type": "subslide"
    },
    "tags": [
     "subslide"
    ]
   },
   "source": [
    "\n",
    "### Explizite Auswahl des Targets\n",
    "\n",
    "- Ein CMake-Projekt kann mehrere Targets haben\n",
    "- Ein Target kann eine ausführbare Datei, eine Bibliothek oder eine\n",
    "  benutzerdefinierte Regel sein\n",
    "- Mit `cmake --build . --target <target>` können wir ein spezifisches Target\n",
    "  kompilieren\n",
    "\n",
    "```bash\n",
    "cmake --build . --target say_hello\n",
    "```"
   ]
  },
  {
   "cell_type": "markdown",
   "id": "f62ee0fa48fbed22",
   "metadata": {
    "lang": "de",
    "slideshow": {
     "slide_type": "subslide"
    },
    "tags": [
     "subslide"
    ]
   },
   "source": [
    "\n",
    "### Multi-Config-Generatoren\n",
    "\n",
    "- Generieren Projekte, die mehrere Konfigurationen unterstützen\n",
    "- Zum Beispiel Debug und Release\n",
    "- Visual Studio und Xcode sind Multi-Config-Generatoren\n",
    "- Mit `cmake --build . --config Release` oder `Debug` kann eine Konfiguration\n",
    "  ausgewählt werden"
   ]
  },
  {
   "cell_type": "markdown",
   "id": "e50f72472884c47f",
   "metadata": {
    "lang": "de",
    "slideshow": {
     "slide_type": "subslide"
    },
    "tags": [
     "subslide"
    ]
   },
   "source": [
    "\n",
    "- Wie entscheidet CMake, welches Build-System generiert wird?\n",
    "- Das wird vom ausgewählten Generator bestimmt\n",
    "- Welche Generatoren verfügbar sind, hängt von der Plattform ab\n",
    "- Wir können das mit `cmake --help` herausfinden\n",
    "- Mit `cmake -G` können wir den Generator explizit angeben"
   ]
  },
  {
   "cell_type": "markdown",
   "id": "e1b47d839a4d781c",
   "metadata": {
    "lang": "de",
    "slideshow": {
     "slide_type": "subslide"
    },
    "tags": [
     "subslide"
    ]
   },
   "source": [
    "\n",
    "### Übersetzen des Projekts mit Ninja\n",
    "\n",
    "Falls Sie Ninja installiert haben und noch im `build`-Verzeichnis sind:\n",
    "\n",
    "```bash\n",
    "mkdir ../build-ninja\n",
    "cd ../build-ninja\n",
    "cmake -G \"Ninja\" ..\n",
    "cmake --build .\n",
    "```"
   ]
  },
  {
   "cell_type": "markdown",
   "id": "35c0ebc34751365c",
   "metadata": {
    "lang": "de",
    "slideshow": {
     "slide_type": "subslide"
    },
    "tags": [
     "subslide"
    ]
   },
   "source": [
    "\n",
    "### Kommandos in `CMakeLists.txt`\n",
    "\n",
    "- `cmake_minimum_required(VERSION 3.21)` gibt die minimale CMake-Version an\n",
    "- `project(cmake_demo)` legt den Projektnamen fest\n",
    "   - mit `VERSION` kann eine Versionsnummer angegeben werden\n",
    "   - mit `LANGUAGES` können die unterstützten Sprachen angegeben werden\n",
    "- `set(CMAKE_CXX_STANDARD 20)` legt den C++-Standard fest\n",
    "  - Das ist ein Beispiel für eine Variable, die gesetzt wird\n",
    "- `add_executable(say_hello say_hello.cpp)` fügt eine ausführbare Datei hinzu"
   ]
  },
  {
   "cell_type": "markdown",
   "id": "684c0969c9d75807",
   "metadata": {
    "lang": "de",
    "slideshow": {
     "slide_type": "subslide"
    },
    "tags": [
     "subslide"
    ]
   },
   "source": [
    "\n",
    "## Version 0.3: Mehrere Targets\n",
    "\n",
    "- In dieser Version haben wir ein zweites Executable-Target hinzugefügt\n",
    "- Jetzt können wir mit `cmake --build . --target <target>` zwischen den\n",
    "  Targets wählen\n",
    "- Defaultmäßig werden alle Targets kompiliert"
   ]
  },
  {
   "cell_type": "markdown",
   "id": "15541163be21dab8",
   "metadata": {
    "lang": "de",
    "slideshow": {
     "slide_type": "subslide"
    },
    "tags": [
     "subslide"
    ]
   },
   "source": [
    "\n",
    "## Version 0.4: `TodoList`-Klasse\n",
    "\n",
    "- In dieser Version haben wir eine `TodoList`-Klasse hinzugefügt\n",
    "- Wir haben sie direkt zur `todo_list` Executable hinzugefügt\n",
    "- Das ist aus verschiedenen Gründen keine gute Idee\n",
    "  - Wir können die Klasse nicht in anderen Targets verwenden\n",
    "  - Die `CMakeLists.txt`-Datei wird unübersichtlich\n",
    "  - Wir können die Klasse nicht testen"
   ]
  },
  {
   "cell_type": "markdown",
   "id": "9ce3245d8fae02ac",
   "metadata": {
    "lang": "de",
    "slideshow": {
     "slide_type": "subslide"
    },
    "tags": [
     "subslide"
    ]
   },
   "source": [
    "\n",
    "## Version 0.5: Bibliothek\n",
    "\n",
    "- In dieser Version haben wir die `TodoList`-Klasse in eine Bibliothek\n",
    "  ausgelagert\n",
    "- Wir haben die Bibliothek zur `todo_list` Executable hinzugefügt\n",
    "- Jetzt können wir die Bibliothek in anderen Targets verwenden\n",
    "- Wir haben dabei darauf geachtet, dass wir die Bibliothek sowohl statisch\n",
    "  als auch dynamisch linken können\n",
    "- Das können wir testen, indem wir die `BUILD_SHARED_LIBS`-Variable beim\n",
    "  Erzeugen des Build-Systems setzen"
   ]
  },
  {
   "cell_type": "markdown",
   "id": "b70fbfa64ae05cec",
   "metadata": {
    "lang": "de",
    "slideshow": {
     "slide_type": "subslide"
    },
    "tags": [
     "subslide"
    ]
   },
   "source": [
    "\n",
    "```bash\n",
    "cmake -DBUILD_SHARED_LIBS=ON .. # oder OFF\n",
    "cmake --build . --clean-first\n",
    "```"
   ]
  },
  {
   "cell_type": "markdown",
   "id": "c7253730a38c2319",
   "metadata": {
    "lang": "de",
    "lines_to_next_cell": 2,
    "slideshow": {
     "slide_type": "subslide"
    },
    "tags": [
     "subslide"
    ]
   },
   "source": [
    "\n",
    "Unter Windows kann man das folgende Kommando verwenden um die dynamisch\n",
    "gelinkten Bibliotheken zu finden:\n",
    "\n",
    "```powershell\n",
    "dumpbin.exe /DEPENDENTS .\\Debug\\todo_list.exe\n",
    "```\n",
    "\n",
    "Unter Linux\n",
    "\n",
    "```bash\n",
    "ldd ./todo_list\n",
    "```"
   ]
  },
  {
   "cell_type": "markdown",
   "id": "1dc350ee91d74a8f",
   "metadata": {
    "lang": "de",
    "slideshow": {
     "slide_type": "subslide"
    },
    "tags": [
     "subslide"
    ]
   },
   "source": [
    "\n",
    "## Version 0.6: Unterverzeichnisse\n",
    "\n",
    "- In dieser Version haben wir die Quelldateien in Unterverzeichnisse\n",
    "  verschoben\n",
    "- Mit `add_subdirectory` können wir Unterverzeichnisse hinzufügen\n",
    "- Mit `target_include_directories` können wir die Include-Pfade für ein Target\n",
    "  festlegen"
   ]
  }
 ],
 "metadata": {
  "kernelspec": {
   "display_name": "C++17",
   "language": "C++17",
   "name": "xcpp17"
  },
  "language_info": {
   "codemirror_mode": "text/x-c++src",
   "file_extension": ".cpp",
   "mimetype": "text/x-c++src",
   "name": "c++",
   "version": "17"
  }
 },
 "nbformat": 4,
 "nbformat_minor": 5
}
