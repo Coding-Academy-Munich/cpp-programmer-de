{
 "cells": [
  {
   "cell_type": "markdown",
   "id": "f17a0d1bb5653fd7",
   "metadata": {
    "lang": "de",
    "slideshow": {
     "slide_type": "slide"
    },
    "tags": [
     "slide"
    ]
   },
   "source": [
    "\n",
    "<img src=\"data:image/png;base64,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\"\n",
    "     style=\"display:block;margin:auto;width:5%\"/>\n",
    "<br>\n",
    "\n",
    "<div style=\"text-align:center; font-size:200%;\">\n",
    " <b>Projekt: Othello (Reversi)</b>\n",
    "</div>\n",
    "<br/>\n",
    "<div style=\"text-align:center; font-size:120%;\">Dr. Matthias Hölzl</div>\n",
    "<br/>\n",
    "<div style=\"text-align:center;\">Coding-Akademie München</div>\n",
    "<br/>\n",
    "<!-- 09 Projekt Othello (Reversi).ipynb -->\n",
    "<!-- slides/projects/project_200_othello.cpp -->"
   ]
  },
  {
   "cell_type": "markdown",
   "id": "50b851b1a84e0fc5",
   "metadata": {
    "lang": "de",
    "slideshow": {
     "slide_type": "slide"
    },
    "tags": [
     "slide"
    ]
   },
   "source": [
    "\n",
    "# Projekt: Othello (Reversi)\n",
    "\n",
    "Othello, auch bekannt als Reversi, ist ein Strategiespiel für zwei Spieler,\n",
    "das auf einem 8x8-Brett gespielt wird. In diesem Projekt implementieren Sie\n",
    "das Spiel Othello in C++.\n",
    "\n",
    "Eine Beispielimplementierung des Spiels finden Sie auf\n",
    "[GitHub](https://github.com/hoelzl/Reviser)."
   ]
  },
  {
   "cell_type": "markdown",
   "id": "adac20db7787f0bb",
   "metadata": {
    "lang": "de",
    "slideshow": {
     "slide_type": "subslide"
    },
    "tags": [
     "subslide"
    ]
   },
   "source": [
    "\n",
    "## Spielregeln\n",
    "\n",
    "- Gespielt auf einem 8x8-Brett. Ein Spieler hat dunkle Steine, der andere\n",
    "  helle.\n",
    "- Die Anfangskonfiguration des Bretts hat 2 dunkle und 2 helle Steine in der\n",
    "  Mitte.\n",
    "- Die Spieler setzen abwechselnd Steine. Ein Stein muss so gesetzt werden,\n",
    "  dass er gegnerische Steine \"einschließt\" - es muss eine zusammenhängende\n",
    "  Linie von gegnerischen Steinen zwischen dem neuen Stein und einem anderen\n",
    "  Stein des aktuellen Spielers geben.\n",
    "- Alle eingeschlossenen gegnerischen Steine werden auf die Farbe des\n",
    "  aktuellen Spielers umgedreht.\n",
    "- Wenn ein Spieler keinen legalen Zug hat, setzt er aus. Das Spiel endet,\n",
    "  wenn kein Spieler mehr einen legalen Zug hat.\n",
    "- Der Spieler mit den meisten Steinen gewinnt. Das Spiel ist unentschieden,\n",
    "  wenn die Spieler die gleiche Anzahl von Steinen haben."
   ]
  },
  {
   "cell_type": "markdown",
   "id": "93d632873e8f5c4b",
   "metadata": {
    "lang": "de",
    "slideshow": {
     "slide_type": "subslide"
    },
    "tags": [
     "subslide"
    ]
   },
   "source": [
    "\n",
    "## Beispiel\n",
    "\n",
    "Die folgende Ausgabe zeigt ein Beispiel für ein Othello-Spiel zwischen einem\n",
    "Mensch und einem Computer-Spieler. Die Spieler sind mit \"*\" und \"O\"\n",
    "gekennzeichnet."
   ]
  },
  {
   "cell_type": "markdown",
   "id": "f67be0c43cf96da7",
   "metadata": {
    "slideshow": {
     "slide_type": "subslide"
    },
    "tags": [
     "subslide"
    ]
   },
   "source": [
    "\n",
    "```\n",
    "Starting a new game.\n",
    "Dark player: The computer player\n",
    "Light player: The human\n",
    "| | | | | | | | |\n",
    "| | | | | | | | |\n",
    "| | | | | | | | |\n",
    "| | | |*|O| | | |\n",
    "| | | |O|*| | | |\n",
    "| | | | | | | | |\n",
    "| | | | | | | | |\n",
    "| | | | | | | | |\n",
    "\n",
    "The computer player (dark) plays (6, 4).\n",
    "| | | | | | | | |\n",
    "| | | | | | | | |\n",
    "| | | | | | | | |\n",
    "| | | |*|O| | | |\n",
    "| | | |*|*| | | |\n",
    "| | | |*| | | | |\n",
    "| | | | | | | | |\n",
    "| | | | | | | | |\n",
    "\n",
    "Your possible moves are:\n",
    "   0:  4,  3\n",
    "   1:  6,  3\n",
    "   2:  6,  5\n",
    "Please select a move:\n",
    "2\n",
    "\n",
    "The human (light) plays (6, 5).\n",
    "| | | | | | | | |\n",
    "| | | | | | | | |\n",
    "| | | | | | | | |\n",
    "| | | |*|O| | | |\n",
    "| | | |*|O| | | |\n",
    "| | | |*|O| | | |\n",
    "| | | | | | | | |\n",
    "| | | | | | | | |\n",
    "\n",
    "The computer player (dark) plays (5, 6).\n",
    "| | | | | | | | |\n",
    "| | | | | | | | |\n",
    "| | | | | | | | |\n",
    "| | | |*|O| | | |\n",
    "| | | |*|*|*| | |\n",
    "| | | |*|O| | | |\n",
    "| | | | | | | | |\n",
    "| | | | | | | | |\n",
    "\n",
    "Your possible moves are:\n",
    "   0:  3,  5\n",
    "   1:  4,  3\n",
    "   2:  4,  7\n",
    "   3:  6,  3\n",
    "   4:  6,  7\n",
    "   5:  7,  5\n",
    "Please select a move:\n",
    "5\n",
    "\n",
    "The human (light) plays (7, 5).\n",
    "| | | | | | | | |\n",
    "| | | | | | | | |\n",
    "| | | | | | | | |\n",
    "| | | |*|O| | | |\n",
    "| | | |*|O|*| | |\n",
    "| | | |*|O| | | |\n",
    "| | | | |O| | | |\n",
    "| | | | | | | | |\n",
    "\n",
    "The computer player (dark) plays (6, 6).\n",
    "| | | | | | | | |\n",
    "| | | | | | | | |\n",
    "| | | | | | | | |\n",
    "| | | |*|O| | | |\n",
    "| | | |*|*|*| | |\n",
    "| | | |*|*|*| | |\n",
    "| | | | |O| | | |\n",
    "| | | | | | | | |\n",
    "\n",
    "Your possible moves are:\n",
    "   0:  3,  5\n",
    "   1:  4,  3\n",
    "   2:  5,  3\n",
    "   3:  5,  7\n",
    "   4:  6,  3\n",
    "   5:  6,  7\n",
    "   6:  8,  5\n",
    "Please select a move:\n",
    "3\n",
    "\n",
    "The human (light) plays (5, 7).\n",
    "| | | | | | | | |\n",
    "| | | | | | | | |\n",
    "| | | | | | | | |\n",
    "| | | |*|O| | | |\n",
    "| | | |*|*|*|O| |\n",
    "| | | |*|*|O| | |\n",
    "| | | | |O| | | |\n",
    "| | | | | | | | |\n",
    "\n",
    "The computer player (dark) plays (7, 6).\n",
    "| | | | | | | | |\n",
    "| | | | | | | | |\n",
    "| | | | | | | | |\n",
    "| | | |*|O| | | |\n",
    "| | | |*|*|*|O| |\n",
    "| | | |*|*|*| | |\n",
    "| | | | |O|*| | |\n",
    "| | | | | | | | |\n",
    "\n",
    "Your possible moves are:\n",
    "   0:  3,  5\n",
    "   1:  4,  3\n",
    "   2:  4,  8\n",
    "   3:  5,  3\n",
    "   4:  6,  3\n",
    "   5:  6,  7\n",
    "   6:  7,  7\n",
    "   7:  8,  4\n",
    "   8:  8,  5\n",
    "Please select a move:\n",
    "1\n",
    "\n",
    "The human (light) plays (4, 3).\n",
    "| | | | | | | | |\n",
    "| | | | | | | | |\n",
    "| | | | | | | | |\n",
    "| | |O|O|O| | | |\n",
    "| | | |*|*|*|O| |\n",
    "| | | |*|*|*| | |\n",
    "| | | | |O|*| | |\n",
    "| | | | | | | | |\n",
    "\n",
    "The computer player (dark) plays (5, 8).\n",
    "| | | | | | | | |\n",
    "| | | | | | | | |\n",
    "| | | | | | | | |\n",
    "| | |O|O|O| | | |\n",
    "| | | |*|*|*|*|*|\n",
    "| | | |*|*|*| | |\n",
    "| | | | |O|*| | |\n",
    "| | | | | | | | |\n",
    "\n",
    "Your possible moves are:\n",
    "   0:  3,  5\n",
    "   1:  4,  8\n",
    "   2:  5,  3\n",
    "   3:  6,  3\n",
    "   4:  6,  7\n",
    "   5:  7,  4\n",
    "   6:  7,  7\n",
    "   7:  8,  5\n",
    "   8:  8,  7\n",
    "Please select a move:\n",
    "0\n",
    "\n",
    "The human (light) plays (3, 5).\n",
    "| | | | | | | | |\n",
    "| | | | | | | | |\n",
    "| | | | |O| | | |\n",
    "| | |O|O|O| | | |\n",
    "| | | |*|O|*|*|*|\n",
    "| | | |*|O|*| | |\n",
    "| | | | |O|*| | |\n",
    "| | | | | | | | |\n",
    "\n",
    "...\n",
    "\n",
    "The computer player (dark) plays (4, 1).\n",
    "| | |O| |O|O| |O|\n",
    "|*| |O|O|O|O| |O|\n",
    "|*|*|*|O|O|O|O|O|\n",
    "|*|*|*|*|*|*|*|O|\n",
    "|*|*|*|*|*|O|*|O|\n",
    "|O| |*|*|*|O|O|O|\n",
    "|O|O|O|*|O|O|O|O|\n",
    "| |*|*| |*|*|*|O|\n",
    "\n",
    "Your possible moves are:\n",
    "   0:  1,  1\n",
    "   1:  1,  2\n",
    "   2:  1,  4\n",
    "   3:  2,  2\n",
    "   4:  2,  7\n",
    "   5:  6,  2\n",
    "   6:  8,  1\n",
    "   7:  8,  4\n",
    "Please select a move:\n",
    "0\n",
    "\n",
    "The human (light) plays (1, 1).\n",
    "|O| |O| |O|O| |O|\n",
    "|O| |O|O|O|O| |O|\n",
    "|O|*|*|O|O|O|O|O|\n",
    "|O|*|*|*|*|*|*|O|\n",
    "|O|*|*|*|*|O|*|O|\n",
    "|O| |*|*|*|O|O|O|\n",
    "|O|O|O|*|O|O|O|O|\n",
    "| |*|*| |*|*|*|O|\n",
    "\n",
    "The computer player (dark) plays (8, 4).\n",
    "|O| |O| |O|O| |O|\n",
    "|O| |O|O|O|O| |O|\n",
    "|O|*|*|O|O|O|O|O|\n",
    "|O|*|*|*|*|*|*|O|\n",
    "|O|*|*|*|*|O|*|O|\n",
    "|O| |*|*|*|*|O|O|\n",
    "|O|O|O|*|*|O|O|O|\n",
    "| |*|*|*|*|*|*|O|\n",
    "\n",
    "Your possible moves are:\n",
    "   0:  1,  2\n",
    "   1:  1,  4\n",
    "   2:  2,  2\n",
    "   3:  2,  7\n",
    "   4:  6,  2\n",
    "   5:  8,  1\n",
    "Please select a move:\n",
    "5\n",
    "\n",
    "The human (light) plays (8, 1).\n",
    "|O| |O| |O|O| |O|\n",
    "|O| |O|O|O|O| |O|\n",
    "|O|*|*|O|O|O|O|O|\n",
    "|O|*|*|*|O|*|*|O|\n",
    "|O|*|*|O|*|O|*|O|\n",
    "|O| |O|*|*|*|O|O|\n",
    "|O|O|O|*|*|O|O|O|\n",
    "|O|O|O|O|O|O|O|O|\n",
    "\n",
    "The computer player (dark) plays (1, 7).\n",
    "|O| |O| |O|O|*|O|\n",
    "|O| |O|O|O|*| |O|\n",
    "|O|*|*|O|*|O|O|O|\n",
    "|O|*|*|*|O|*|*|O|\n",
    "|O|*|*|O|*|O|*|O|\n",
    "|O| |O|*|*|*|O|O|\n",
    "|O|O|O|*|*|O|O|O|\n",
    "|O|O|O|O|O|O|O|O|\n",
    "\n",
    "Your possible moves are:\n",
    "   0:  1,  4\n",
    "   1:  2,  2\n",
    "   2:  2,  7\n",
    "   3:  6,  2\n",
    "Please select a move:\n",
    "2\n",
    "\n",
    "The human (light) plays (2, 7).\n",
    "|O| |O| |O|O|*|O|\n",
    "|O| |O|O|O|O|O|O|\n",
    "|O|*|*|O|*|O|O|O|\n",
    "|O|*|*|*|O|*|O|O|\n",
    "|O|*|*|O|*|O|O|O|\n",
    "|O| |O|*|*|*|O|O|\n",
    "|O|O|O|*|*|O|O|O|\n",
    "|O|O|O|O|O|O|O|O|\n",
    "\n",
    "The computer player (dark) plays (1, 4).\n",
    "|O| |O|*|*|*|*|O|\n",
    "|O| |*|*|O|O|O|O|\n",
    "|O|*|*|*|*|O|O|O|\n",
    "|O|*|*|*|O|*|O|O|\n",
    "|O|*|*|*|*|O|O|O|\n",
    "|O| |O|*|*|*|O|O|\n",
    "|O|O|O|*|*|O|O|O|\n",
    "|O|O|O|O|O|O|O|O|\n",
    "\n",
    "Your possible moves are:\n",
    "   0:  1,  2\n",
    "   1:  2,  2\n",
    "   2:  6,  2\n",
    "Please select a move:\n",
    "2\n",
    "\n",
    "The human (light) plays (6, 2).\n",
    "|O| |O|*|*|*|*|O|\n",
    "|O| |*|*|O|O|O|O|\n",
    "|O|*|*|*|O|O|O|O|\n",
    "|O|*|*|O|O|*|O|O|\n",
    "|O|*|O|*|*|O|O|O|\n",
    "|O|O|O|O|O|O|O|O|\n",
    "|O|O|O|*|*|O|O|O|\n",
    "|O|O|O|O|O|O|O|O|\n",
    "\n",
    "The computer player (dark) plays (2, 2).\n",
    "|O| |O|*|*|*|*|O|\n",
    "|O|*|*|*|O|O|O|O|\n",
    "|O|*|*|*|O|O|O|O|\n",
    "|O|*|*|*|O|*|O|O|\n",
    "|O|*|O|*|*|O|O|O|\n",
    "|O|O|O|O|O|O|O|O|\n",
    "|O|O|O|*|*|O|O|O|\n",
    "|O|O|O|O|O|O|O|O|\n",
    "\n",
    "Your possible moves are:\n",
    "   0:  1,  2\n",
    "Please select a move:\n",
    "0\n",
    "\n",
    "The human (light) plays (1, 2).\n",
    "|O|O|O|O|O|O|O|O|\n",
    "|O|O|O|*|O|O|O|O|\n",
    "|O|O|*|O|O|O|O|O|\n",
    "|O|O|*|*|O|*|O|O|\n",
    "|O|O|O|*|*|O|O|O|\n",
    "|O|O|O|O|O|O|O|O|\n",
    "|O|O|O|*|*|O|O|O|\n",
    "|O|O|O|O|O|O|O|O|\n",
    "\n",
    "GAME OVER.\n",
    "The human (light) won.\n",
    "The score was 55:9.\n",
    "```"
   ]
  },
  {
   "cell_type": "markdown",
   "id": "e578a83cf1599d76",
   "metadata": {
    "lang": "de",
    "slideshow": {
     "slide_type": "subslide"
    },
    "tags": [
     "subslide"
    ]
   },
   "source": [
    "\n",
    "# Implementierung\n",
    "\n",
    "Implementieren Sie das Spiel Othello/Reversi in C++. Das Spiel sollte\n",
    "folgendes unterstützen:\n",
    "\n",
    "- Eine 8x8-Brett-Repräsentation\n",
    "- Platzieren von Steinen auf dem Brett gemäß den Regeln\n",
    "- Bestimmen von legalen Zügen für einen Spieler\n",
    "- Umdrehen von eingeschlossenen gegnerischen Steinen\n",
    "- Überprüfen des Spielendes und Bestimmen des Gewinners\n",
    "- Eine einfache Konsolen-Schnittstelle\n",
    "- Autonome Computer-Spieler\n",
    "- Mensch gegen Computer und Computer gegen Computer Spiele"
   ]
  },
  {
   "cell_type": "markdown",
   "id": "5d247da1fcc2cb01",
   "metadata": {
    "lang": "de",
    "slideshow": {
     "slide_type": "subslide"
    },
    "tags": [
     "subslide"
    ]
   },
   "source": [
    "\n",
    "## Implementierungshinweise (Teil 1)\n",
    "\n",
    "Um die grundlegende Struktur des Spiels zu erstellen, können Sie folgende\n",
    "Schritte befolgen. Dabei werden Sie typischerweise nicht jede Klasse in einem\n",
    "Schritt implementieren, sondern iterativ vorgehen und bereits implementierte\n",
    "Klassen immer wieder verfeinern.\n",
    "\n",
    "**Sie müssen sich nicht an diese Struktur halten, es gibt viele andere\n",
    "Möglichkeiten, das Spiel zu implementieren. Wenn Sie einen anderen Ansatz\n",
    "verfolgen möchten, ist das in Ordnung.**"
   ]
  },
  {
   "cell_type": "markdown",
   "id": "ae87ff752d29f668",
   "metadata": {
    "lang": "de",
    "slideshow": {
     "slide_type": "subslide"
    },
    "tags": [
     "subslide"
    ]
   },
   "source": [
    "\n",
    "- Beginnen Sie mit der Erstellung einer `Player`-Klasse, um die Informationen\n",
    "  jedes Spielers zu verwalten. Dazu gehören der Name des Spielers und die\n",
    "  Farbe.\n",
    "- Implementieren Sie eine `Score`-Klasse, um den Spielstand zu verwalten.\n",
    "- Implementieren Sie eine `Field`-Aufzählung, um das Spielbrett zu verwalten.\n",
    "  `Field` enthält Werte, die angeben, ob ein Feld leer, dunkel oder hell ist.\n",
    "- Implementieren Sie eine `Position`-Klasse, die die Positionen auf dem\n",
    "  Spielfeld enthält.\n",
    "- Erstellen Sie eine `Board`-Klasse, um das Spielbrett zu verwalten. Diese\n",
    "  Klasse verwendet `Field` und `Position`, um den Zustand des Bretts zu\n",
    "  verfolgen.\n",
    "- Erstellen Sie dann eine `Game`-Klasse, um die Spiel-Schleife und den\n",
    "  Spielzustand zu verwalten. Diese Klasse verwendet Instanzen von `Player`\n",
    "  und `Board`.\n",
    "- Implementieren Sie eine Klasse `Notifier`, um Benachrichtigungen und\n",
    "  Updates über das Spiel zu verwalten. (Wenn Sie etwas über Designmuster\n",
    "  wissen, handelt es sich hierbei um eine Anwendung des Beobachtermusters)\n",
    "- Implementieren Sie schließlich `GameResult`, um das Ergebnis des Spiels zu\n",
    "  verfolgen und am Ende des Spiels anzuzeigen."
   ]
  },
  {
   "cell_type": "markdown",
   "id": "abd9bd216f658da3",
   "metadata": {
    "lang": "de",
    "slideshow": {
     "slide_type": "subslide"
    },
    "tags": [
     "subslide"
    ]
   },
   "source": [
    "\n",
    "Diese Klassen bieten die grundlegende Struktur für das Spiel. Sie können\n",
    "Versionen des Spiels erstellen, die menschliche gegen menschliche,\n",
    "menschliche gegen Computer- und Computer gegen Computer-Spiele unterstützen.\n",
    "Sie können auch textbasierte und grafische Benutzeroberflächen oder sogar\n",
    "eine Client-Server-Version des Spiels implementieren."
   ]
  },
  {
   "cell_type": "markdown",
   "id": "0fdef15578bb0297",
   "metadata": {
    "lang": "de",
    "slideshow": {
     "slide_type": "subslide"
    },
    "tags": [
     "subslide"
    ]
   },
   "source": [
    "\n",
    "Die nächsten Schritte werden die Implementierung der\n",
    "Befehlszeilenschnittstelle und der `Player`-Unterklassen für menschliche und\n",
    "Computer-Spieler sein.\n",
    "\n",
    "- Implementieren Sie eine `ConsoleNotifier`-Klasse, eine Unterklasse von\n",
    "  `Notifier`, um Updates und Benachrichtigungen über das Spiel in der Konsole\n",
    "  anzuzeigen.\n",
    "- Implementieren Sie eine `RandomPlayer`-Klasse, eine Unterklasse von\n",
    "  `Player`, um die Züge und das Verhalten des zufällig bewegenden KI-Spielers\n",
    "  zu handhaben.\n",
    "- Implementieren Sie `SimpleCommandLinePlayer`, eine weitere Unterklasse von\n",
    "  `Player`, um Benutzereingaben für das Bewegen von Steinen in einem auf der\n",
    "  Konsole gespielten Spiel zu handhaben."
   ]
  },
  {
   "cell_type": "markdown",
   "id": "dbc2a3b353f9f3ed",
   "metadata": {
    "lang": "de",
    "slideshow": {
     "slide_type": "subslide"
    },
    "tags": [
     "subslide"
    ]
   },
   "source": [
    "\n",
    "Diese Struktur basiert auf der Implementierung des Spiels, die Sie auf\n",
    "[GitHub](https://github.com/hoelzl/Reviser) finden können. Falls Sie sich\n",
    "noch genauer an die Struktur dieses Beispiels halten möchten, finden Sie im\n",
    "zweiten Teil der Implementierungshinweise weitere Details zu den\n",
    "Memberfunktionen der einzelnen Klassen."
   ]
  },
  {
   "cell_type": "markdown",
   "id": "2d3b49ee131143d3",
   "metadata": {
    "lang": "de",
    "slideshow": {
     "slide_type": "subslide"
    },
    "tags": [
     "subslide"
    ]
   },
   "source": [
    "\n",
    "## Implementierungshinweise (Teil 2)\n",
    "\n",
    "Die folgenden Hinweise sind detaillierter und beziehen sich auf die\n",
    "Implementierung der Memberfunktionen der Klassen, die im ersten Teil der\n",
    "Implementierungshinweise erwähnt wurden. Die Hinweise enthalten nicht alle\n",
    "Memberfunktionen der Klassen, decken aber viele der wichtigsten."
   ]
  },
  {
   "cell_type": "markdown",
   "id": "874aae28ecf882f7",
   "metadata": {
    "lang": "de",
    "slideshow": {
     "slide_type": "subslide"
    },
    "tags": [
     "subslide"
    ]
   },
   "source": [
    "\n",
    "1. `Player`-Klasse:\n",
    "   - `virtual void new_game();` : Diese Methode wird verwendet, um die\n",
    "     Einstellungen des Spielers zu initialisieren, wenn ein neues Spiel\n",
    "     beginnt.\n",
    "   - `virtual Position pick_move(const BasicBoard &board) const = 0;` : Dies\n",
    "     ist eine reine virtuelle Methode. Wenn sie in Unterklassen implementiert\n",
    "     wird, wählt sie einen Zug basierend auf dem aktuellen Zustand des\n",
    "     Spielbretts.\n",
    "   - `virtual void game_over();` : Diese Methode wird verwendet, um die\n",
    "     Einstellungen des Spielers aufzuräumen, wenn das Spiel vorbei ist."
   ]
  },
  {
   "cell_type": "markdown",
   "id": "a24328efa523c468",
   "metadata": {
    "lang": "de",
    "slideshow": {
     "slide_type": "subslide"
    },
    "tags": [
     "subslide"
    ]
   },
   "source": [
    "\n",
    "2. `Score`-Klasse\n",
    "    - Memberfunktionen, um die Anzahl der dunklen, hellen und leeren Felder\n",
    "      auf dem Brett, die Felder für einen bestimmten Spieler usw. zu\n",
    "      bestimmen.\n",
    "    - `bool is_tied() const;` : Diese Methode überprüft, ob das Spiel\n",
    "      unentschieden ist oder nicht.\n",
    "    - `std::tuple<const Player&, const Player&> compute_winner(...) const;` :\n",
    "      Diese Methode berechnet den Gewinner und Verlierer basierend auf der\n",
    "      Anzahl der Felder, die von jedem Spieler besetzt sind. Die Argumente\n",
    "      hängen davon ab, wie Sie die Spieler im Spiel verwalten."
   ]
  },
  {
   "cell_type": "markdown",
   "id": "afb680a88461e9ad",
   "metadata": {
    "lang": "de",
    "slideshow": {
     "slide_type": "subslide"
    },
    "tags": [
     "subslide"
    ]
   },
   "source": [
    "\n",
    "3. `Field`-Aufzählung:\n",
    "   - Freistehende Funktionen, um zu überprüfen, ob ein Feld leer oder besetzt\n",
    "     ist, wer das Feld besetzt, usw."
   ]
  },
  {
   "cell_type": "markdown",
   "id": "c969dd47e182cc39",
   "metadata": {
    "lang": "de",
    "slideshow": {
     "slide_type": "subslide"
    },
    "tags": [
     "subslide"
    ]
   },
   "source": [
    "\n",
    "4. `Position`-Klasse:\n",
    "   - `get_row() const;` : Diese Methode gibt die Zeile der Position zurück.\n",
    "   - `get_column() const;` : Diese Methode gibt die Spalte der Position\n",
    "     zurück.\n",
    "   - Sie können entweder einen integralen Typ, wie `unsigned int`, verwenden,\n",
    "     um die Zeile und Spalte zu repräsentieren, oder benutzerdefinierte Typen\n",
    "     für sie erstellen.\n",
    "   - `bool is_valid() const;` : Diese Methode überprüft, ob die Position auf\n",
    "     dem Brett gültig ist.\n",
    "   - `Position next_in_direction(Direction dir) const;` : Diese Methode gibt\n",
    "     die nächste Position in der angegebenen Richtung zurück.\n",
    "   - `std::size_t to_linear_index() const;` : Diese Methode konvertiert die\n",
    "     Position in einen linearen Index in ein Array."
   ]
  },
  {
   "cell_type": "markdown",
   "id": "0cab87c2cf618375",
   "metadata": {
    "lang": "de",
    "slideshow": {
     "slide_type": "subslide"
    },
    "tags": [
     "subslide"
    ]
   },
   "source": [
    "\n",
    "5. `Board`-Klasse:\n",
    "   - `virtual Field& operator[](Position pos) = 0;` : Diese Methode wird\n",
    "     verwendet, um auf das Feld an einer bestimmten Position auf dem Brett\n",
    "     zuzugreifen. Gibt es auch in einer `const`-Version.\n",
    "   - `void initialize(InitialBoardState initial_state);` Diese Methode\n",
    "     initialisiert das Brett.\n",
    "   - `bool is_empty(Position pos) const;` : Diese Methode überprüft, ob eine\n",
    "     Position auf dem Brett leer ist.\n",
    "   - `bool is_valid_move(PlayerColor pc, Position pos) const;` : Diese\n",
    "     Methode überprüft, ob ein Zug gültig ist oder nicht.\n",
    "   - `Moves find_valid_moves(PlayerColor pc) const;` : Diese Methode findet\n",
    "     und gibt alle möglichen gültigen Züge für einen Spieler zurück.\n",
    "   - `void play_move(PlayerColor pc, Position pos);` : Diese Methode lässt\n",
    "     einen Spieler einen Zug an einer bestimmten Position spielen.\n",
    "   - `Score compute_score() const;` : Diese Methode berechnet und gibt den\n",
    "     Spielstand zurück."
   ]
  },
  {
   "cell_type": "markdown",
   "id": "9e70055565d59256",
   "metadata": {
    "lang": "de",
    "slideshow": {
     "slide_type": "subslide"
    },
    "tags": [
     "subslide"
    ]
   },
   "source": [
    "\n",
    "6. `Game`-Klasse:\n",
    "   - `virtual void new_game(bool swap_payers) = 0;` : Diese Methode wird\n",
    "     verwendet, um ein neues Spiel zu starten, mit der Option, die\n",
    "     Reihenfolge, in der die Spieler ziehen zu tauschen.\n",
    "   - `virtual void run_game_loop() = 0;` : Diese Methode behandelt die\n",
    "     Spiel-Schleife, die die Abfolge von Schritten umfasst, die in jeder Runde\n",
    "     des Spiels stattfinden.\n",
    "   - `virtual std::shared_ptr<const GameResult> get_result() const = 0;`:\n",
    "     Diese Methode gibt das Ergebnis des Spiels zurück."
   ]
  },
  {
   "cell_type": "markdown",
   "id": "ac01e90404dd9a3e",
   "metadata": {
    "lang": "de",
    "slideshow": {
     "slide_type": "subslide"
    },
    "tags": [
     "subslide"
    ]
   },
   "source": [
    "\n",
    "7. `Notifier`-Klasse:\n",
    "   - `virtual void note_new_game(const Players& players, const BasicBoard&\n",
    "     board)`: Diese Methode wird verwendet, um die Spieler und das Brett über\n",
    "     den Beginn eines neuen Spiels zu informieren.\n",
    "   - `virtual void note_move(const Player& player, const Position& pos)`:\n",
    "     Diese Methode wird verwendet, um die Spieler und das Brett über einen Zug\n",
    "     zu informieren.\n",
    "   - `virtual void note_game_over(const GameResult& result)`: Diese Methode\n",
    "     wird verwendet, um die Spieler und das Brett über das Ende des Spiels zu\n",
    "     informieren.\n",
    "   - `virtual void display_message(std::string_view message) = 0;` : Diese\n",
    "     Methode zeigt eine Nachricht für den Benutzer an. Sie können diese\n",
    "     Methode verwenden, um die Implementierung einiger Unterklassen zu\n",
    "     vereinfachen: Wenn die Standardimplementierungen aller anderen Methoden\n",
    "     Ausgaben erzeugen, indem sie `display_message` aufrufen, können Sie nur\n",
    "     `display_message` in einigen Unterklassen überschreiben. (Andere\n",
    "     Unterklassen, z. B. für GUIs, müssen möglicherweise auch andere Methoden\n",
    "     überschreiben.)"
   ]
  },
  {
   "cell_type": "markdown",
   "id": "308e4333f3888257",
   "metadata": {
    "lang": "de",
    "slideshow": {
     "slide_type": "subslide"
    },
    "tags": [
     "subslide"
    ]
   },
   "source": [
    "\n",
    "8. `GameResult`-Klasse:\n",
    "   - `virtual std::string to_string() const = 0;` : Diese Methode gibt das\n",
    "     Ergebnis des Spiels als Zeichenkette zurück."
   ]
  },
  {
   "cell_type": "markdown",
   "id": "34193b8a3ee35768",
   "metadata": {
    "lang": "de",
    "slideshow": {
     "slide_type": "subslide"
    },
    "tags": [
     "subslide"
    ]
   },
   "source": [
    "\n",
    "9. `ConsoleNotifier`-Klasse:\n",
    "   - `void display_message(std::string_view message) override;` : Diese\n",
    "     Methode zeigt eine Nachricht für den Benutzer in der Konsole an."
   ]
  },
  {
   "cell_type": "markdown",
   "id": "453a7b5cedb7f917",
   "metadata": {
    "lang": "de",
    "slideshow": {
     "slide_type": "subslide"
    },
    "tags": [
     "subslide"
    ]
   },
   "source": [
    "\n",
    "10. `RandomPlayer`-Klasse:\n",
    "   - `Position pick_move(const BasicBoard &board) const override;` :\n",
    "     Diese Methode wählt einen zufälligen Zug aus den möglichen Zügen aus."
   ]
  },
  {
   "cell_type": "markdown",
   "id": "7c8072974085b056",
   "metadata": {
    "lang": "de",
    "slideshow": {
     "slide_type": "subslide"
    },
    "tags": [
     "subslide"
    ]
   },
   "source": [
    "\n",
    "11. `SimpleCommandLinePlayer`-Klasse:\n",
    "   - `Position pick_move(const BasicBoard &board) const override;` :\n",
    "     Diese Methode fordert den Benutzer auf, einen Zug auszuwählen und gibt\n",
    "     die ausgewählte Position zurück."
   ]
  }
 ],
 "metadata": {
  "kernelspec": {
   "display_name": "C++17",
   "language": "C++17",
   "name": "xcpp17"
  },
  "language_info": {
   "codemirror_mode": "text/x-c++src",
   "file_extension": ".cpp",
   "mimetype": "text/x-c++src",
   "name": "c++",
   "version": "17"
  }
 },
 "nbformat": 4,
 "nbformat_minor": 5
}
