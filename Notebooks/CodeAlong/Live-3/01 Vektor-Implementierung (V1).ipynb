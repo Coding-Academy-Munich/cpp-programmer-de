{
 "cells": [
  {
   "cell_type": "markdown",
   "id": "9edcce3f291d073f",
   "metadata": {
    "lang": "de",
    "slideshow": {
     "slide_type": "slide"
    },
    "tags": [
     "slide"
    ]
   },
   "source": [
    "\n",
    "<img src=\"data:image/png;base64,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\"\n",
    "     style=\"display:block;margin:auto;width:5%\"/>\n",
    "<br>\n",
    "\n",
    "<div style=\"text-align:center; font-size:200%;\">\n",
    " <b>Vektor-Implementierung (V1)</b>\n",
    "</div>\n",
    "<br/>\n",
    "<div style=\"text-align:center; font-size:120%;\">Dr. Matthias Hölzl</div>\n",
    "<br/>\n",
    "<div style=\"text-align:center;\">Coding-Akademie München</div>\n",
    "<br/>\n",
    "<!-- 01 Vektor-Implementierung (V1).ipynb -->\n",
    "<!-- slides/module_140_collections/topic_160_my_vector_v1.cpp -->"
   ]
  },
  {
   "cell_type": "markdown",
   "id": "8c1db31476418516",
   "metadata": {
    "lang": "de",
    "slideshow": {
     "slide_type": "subslide"
    },
    "tags": [
     "subslide"
    ]
   },
   "source": [
    "\n",
    "## `MyVector`-Klasse\n",
    "\n",
    "- Die `std::vector`-Klasse verwendet viele Features und Techniken, die in C++\n",
    "  häufig eingesetzt werden.\n",
    "- Wir wollen versuchen eine eigene, einfache Version von `std::vector` zu\n",
    "  implementieren.\n",
    "- Dabei sehen wir, welche Sprachfeatures und Techniken wir dafür benötigen."
   ]
  },
  {
   "cell_type": "markdown",
   "id": "5617c1cef27a9722",
   "metadata": {
    "lang": "de",
    "slideshow": {
     "slide_type": "subslide"
    },
    "tags": [
     "subslide"
    ]
   },
   "source": [
    "\n",
    "## Sehr naive Implementierung\n",
    "\n",
    "- Wir beginnen mit einer sehr naiven Implementierung.\n",
    "  - Nur für `int`-Werte.\n",
    "  - Wesentlich weniger benutzerfreundlich.\n",
    "  - Sehr viel fehleranfälliger."
   ]
  },
  {
   "cell_type": "markdown",
   "id": "b6d848a164506f6f",
   "metadata": {
    "lines_to_next_cell": 2,
    "slideshow": {
     "slide_type": "subslide"
    },
    "tags": [
     "subslide"
    ]
   },
   "source": [
    "\n",
    "<img src=\"../img/vector-01.png\" width=\"75%\">"
   ]
  },
  {
   "cell_type": "markdown",
   "id": "fa4eb7f73d24ab53",
   "metadata": {
    "lines_to_next_cell": 2,
    "slideshow": {
     "slide_type": "subslide"
    },
    "tags": [
     "subslide"
    ]
   },
   "source": [
    "\n",
    "<img src=\"../img/vector-02.png\" width=\"75%\">"
   ]
  },
  {
   "cell_type": "markdown",
   "id": "0c3af89cda676d9b",
   "metadata": {
    "lines_to_next_cell": 2,
    "slideshow": {
     "slide_type": "subslide"
    },
    "tags": [
     "subslide"
    ]
   },
   "source": [
    "\n",
    "<img src=\"../img/vector-03.png\" width=\"100%\">"
   ]
  },
  {
   "cell_type": "markdown",
   "id": "fd498f7640e5774c",
   "metadata": {
    "lines_to_next_cell": 2,
    "slideshow": {
     "slide_type": "subslide"
    },
    "tags": [
     "subslide"
    ]
   },
   "source": [
    "\n",
    "<img src=\"../img/vector-04.png\" width=\"100%\">"
   ]
  },
  {
   "cell_type": "markdown",
   "id": "401261e658365d40",
   "metadata": {
    "lines_to_next_cell": 2,
    "slideshow": {
     "slide_type": "subslide"
    },
    "tags": [
     "subslide"
    ]
   },
   "source": [
    "\n",
    "<img src=\"../img/vector-05.png\" width=\"90%\">"
   ]
  },
  {
   "cell_type": "code",
   "execution_count": null,
   "id": "283b84a01a78fcb6",
   "metadata": {
    "slideshow": {
     "slide_type": "subslide"
    },
    "tags": [
     "keep",
     "subslide"
    ]
   },
   "outputs": [],
   "source": [
    "struct MyVector {\n",
    "    int* data;\n",
    "    std::size_t size;\n",
    "    std::size_t capacity;\n",
    "};"
   ]
  },
  {
   "cell_type": "code",
   "execution_count": null,
   "id": "f9ea863c56d02238",
   "metadata": {
    "slideshow": {
     "slide_type": "subslide"
    },
    "tags": [
     "keep",
     "subslide"
    ]
   },
   "outputs": [],
   "source": [
    "void init(MyVector& vec) {\n",
    "    vec.data = nullptr;\n",
    "    vec.size = 0;\n",
    "    vec.capacity = 0;\n",
    "}"
   ]
  },
  {
   "cell_type": "code",
   "execution_count": null,
   "id": "0544183c31a95742",
   "metadata": {
    "tags": [
     "keep"
    ]
   },
   "outputs": [],
   "source": [
    "void destroy(MyVector& vec) {\n",
    "    delete[] vec.data;\n",
    "    vec.data = nullptr;\n",
    "    vec.size = 0;\n",
    "    vec.capacity = 0;\n",
    "}"
   ]
  },
  {
   "cell_type": "code",
   "execution_count": null,
   "id": "d6965313ed25873b",
   "metadata": {
    "slideshow": {
     "slide_type": "subslide"
    },
    "tags": [
     "keep",
     "subslide"
    ]
   },
   "outputs": [],
   "source": [
    "void push_back(MyVector& vec, int value) {\n",
    "    if (vec.size == vec.capacity) {\n",
    "        std::size_t new_capacity = vec.capacity == 0 ? 1 : vec.capacity * 2;\n",
    "        int* new_data = new int[new_capacity];\n",
    "        for (std::size_t i = 0; i < vec.size; ++i) {\n",
    "            new_data[i] = vec.data[i];\n",
    "        }\n",
    "        delete[] vec.data;\n",
    "        vec.data = new_data;\n",
    "        vec.capacity = new_capacity;\n",
    "    }\n",
    "    vec.data[vec.size] = value;\n",
    "    ++vec.size;\n",
    "}"
   ]
  },
  {
   "cell_type": "code",
   "execution_count": null,
   "id": "06f3af5039765ebd",
   "metadata": {
    "slideshow": {
     "slide_type": "subslide"
    },
    "tags": [
     "keep",
     "subslide"
    ]
   },
   "outputs": [],
   "source": [
    "int at(MyVector& vec, std::size_t index) {\n",
    "    // The `at()` method should do bounds checking...\n",
    "    return vec.data[index];\n",
    "}"
   ]
  },
  {
   "cell_type": "code",
   "execution_count": null,
   "id": "f4dccc7f4a1f436b",
   "metadata": {
    "tags": [
     "keep"
    ]
   },
   "outputs": [],
   "source": [
    "std::size_t size(const MyVector& vec) {\n",
    "    return vec.size;\n",
    "}"
   ]
  },
  {
   "cell_type": "code",
   "execution_count": null,
   "id": "47da8e18093f5652",
   "metadata": {
    "tags": [
     "keep"
    ]
   },
   "outputs": [],
   "source": [
    "std::size_t capacity(const MyVector& vec) {\n",
    "    return vec.capacity;\n",
    "}"
   ]
  },
  {
   "cell_type": "code",
   "execution_count": null,
   "id": "a0ee650c342d197c",
   "metadata": {
    "slideshow": {
     "slide_type": "subslide"
    },
    "tags": [
     "keep",
     "subslide"
    ]
   },
   "outputs": [],
   "source": [
    "#include <iostream>"
   ]
  },
  {
   "cell_type": "code",
   "execution_count": null,
   "id": "727f1869fd38e37e",
   "metadata": {
    "tags": [
     "keep"
    ]
   },
   "outputs": [],
   "source": [
    "void print(const MyVector& vec) {\n",
    "    std::cout << \"[\";\n",
    "    for (std::size_t i = 0; i < vec.size; ++i) {\n",
    "        std::cout << vec.data[i];\n",
    "        if (i < vec.size - 1) {\n",
    "            std::cout << \", \";\n",
    "        }\n",
    "    }\n",
    "    std::cout << \"]\";\n",
    "}"
   ]
  },
  {
   "cell_type": "code",
   "execution_count": null,
   "id": "45b4f3dea5697cab",
   "metadata": {
    "slideshow": {
     "slide_type": "subslide"
    },
    "tags": [
     "keep",
     "subslide"
    ]
   },
   "outputs": [],
   "source": [
    "void print_info(const MyVector& vec) {\n",
    "    std::cout << \"size: \" << size(vec) << \"\\n\";\n",
    "    std::cout << \"capacity: \" << capacity(vec) << \"\\n\";\n",
    "    std::cout << \"data: \";\n",
    "    print(vec);\n",
    "    std::cout << \"\\n\";\n",
    "}"
   ]
  },
  {
   "cell_type": "markdown",
   "id": "9bf5f71a78aefc29",
   "metadata": {
    "lang": "de",
    "slideshow": {
     "slide_type": "subslide"
    },
    "tags": [
     "subslide"
    ]
   },
   "source": [
    "\n",
    "## Verwendung\n",
    "\n",
    "- Erzeugen eines `MyVector`-Objekts"
   ]
  },
  {
   "cell_type": "code",
   "execution_count": null,
   "id": "1cfe3ed6e46512a8",
   "metadata": {},
   "outputs": [],
   "source": []
  },
  {
   "cell_type": "code",
   "execution_count": null,
   "id": "be28aec9b460c8df",
   "metadata": {},
   "outputs": [],
   "source": []
  },
  {
   "cell_type": "code",
   "execution_count": null,
   "id": "e72fe132eb80f5aa",
   "metadata": {},
   "outputs": [],
   "source": []
  },
  {
   "cell_type": "markdown",
   "id": "18e1fe522e76ebd8",
   "metadata": {
    "lang": "de",
    "slideshow": {
     "slide_type": "subslide"
    },
    "tags": [
     "subslide"
    ]
   },
   "source": [
    "\n",
    "- Hinzufügen von Elementen\n",
    "- Zugriff auf Elemente"
   ]
  },
  {
   "cell_type": "code",
   "execution_count": null,
   "id": "fa1a8d96b35ef02a",
   "metadata": {},
   "outputs": [],
   "source": []
  },
  {
   "cell_type": "code",
   "execution_count": null,
   "id": "2b475f3eca4f7108",
   "metadata": {
    "tags": [
     "keep"
    ]
   },
   "outputs": [],
   "source": [
    "print_info(vec);"
   ]
  },
  {
   "cell_type": "code",
   "execution_count": null,
   "id": "3512c97608e6cedf",
   "metadata": {
    "tags": [
     "keep"
    ]
   },
   "outputs": [],
   "source": [
    "at(vec, 0)"
   ]
  },
  {
   "cell_type": "markdown",
   "id": "ad734673ced4a0a1",
   "metadata": {
    "lang": "de",
    "slideshow": {
     "slide_type": "subslide"
    },
    "tags": [
     "subslide"
    ]
   },
   "source": [
    "\n",
    "- Hinzufügen weiterer Elemente\n",
    "- Beachten Sie den Unterschied zwischen `size` und `capacity`"
   ]
  },
  {
   "cell_type": "code",
   "execution_count": null,
   "id": "1f60ae346e0aeef3",
   "metadata": {
    "tags": [
     "keep"
    ]
   },
   "outputs": [],
   "source": [
    "push_back(vec, 20);"
   ]
  },
  {
   "cell_type": "code",
   "execution_count": null,
   "id": "2ca67261b38222b3",
   "metadata": {
    "tags": [
     "keep"
    ]
   },
   "outputs": [],
   "source": [
    "print_info(vec);"
   ]
  },
  {
   "cell_type": "code",
   "execution_count": null,
   "id": "cd8d71f37ebff2b0",
   "metadata": {
    "slideshow": {
     "slide_type": "subslide"
    },
    "tags": [
     "keep",
     "subslide"
    ]
   },
   "outputs": [],
   "source": [
    "push_back(vec, 30);"
   ]
  },
  {
   "cell_type": "code",
   "execution_count": null,
   "id": "8f5fb6d1832c70db",
   "metadata": {
    "tags": [
     "keep"
    ]
   },
   "outputs": [],
   "source": [
    "print_info(vec);"
   ]
  },
  {
   "cell_type": "code",
   "execution_count": null,
   "id": "2868e913aab82a5a",
   "metadata": {
    "tags": [
     "keep"
    ]
   },
   "outputs": [],
   "source": [
    "at(vec, 2)"
   ]
  },
  {
   "cell_type": "code",
   "execution_count": null,
   "id": "5fba8d4b29202ff4",
   "metadata": {
    "slideshow": {
     "slide_type": "subslide"
    },
    "tags": [
     "keep",
     "subslide"
    ]
   },
   "outputs": [],
   "source": [
    "push_back(vec, 40);\n",
    "print_info(vec);"
   ]
  },
  {
   "cell_type": "code",
   "execution_count": null,
   "id": "36cb2378004347d1",
   "metadata": {
    "tags": [
     "keep"
    ]
   },
   "outputs": [],
   "source": [
    "push_back(vec, 50);\n",
    "print_info(vec);"
   ]
  },
  {
   "cell_type": "markdown",
   "id": "8034a6e2e70c23f4",
   "metadata": {
    "lang": "de",
    "slideshow": {
     "slide_type": "subslide"
    },
    "tags": [
     "subslide"
    ]
   },
   "source": [
    "\n",
    "- Zerstören des `MyVector`-Objekts"
   ]
  },
  {
   "cell_type": "code",
   "execution_count": null,
   "id": "2aa27bc656806e6f",
   "metadata": {},
   "outputs": [],
   "source": []
  },
  {
   "cell_type": "markdown",
   "id": "3348db8672328dc3",
   "metadata": {
    "lang": "de",
    "slideshow": {
     "slide_type": "subslide"
    },
    "tags": [
     "subslide"
    ]
   },
   "source": [
    "\n",
    "## Probleme\n",
    "\n",
    "- `MyVector`-Objekte müssen nach der Erzeugung mit `init()`\n",
    "  initialisiert werden.\n",
    "  - Diese Two-Step-Initialization ist fehleranfällig.\n",
    "- `MyVector`-Objekte müssen nach der Verwendung mit `destroy()`\n",
    "  zerstört werden.\n",
    "  - Selbst wenn sie in lokalen Variablen gespeichert werden:"
   ]
  },
  {
   "cell_type": "code",
   "execution_count": null,
   "id": "a961cae36426a328",
   "metadata": {
    "lines_to_next_cell": 2,
    "slideshow": {
     "slide_type": "subslide"
    },
    "tags": [
     "keep",
     "subslide"
    ]
   },
   "outputs": [],
   "source": [
    "{\n",
    "    MyVector vec;\n",
    "    init(vec);\n",
    "    // Array for `vec.data` created here...\n",
    "    push_back(vec, 1);\n",
    "    // Oops, forgot to call `destroy()`...\n",
    "}\n",
    "// Array for `vec.data` leaked here..."
   ]
  },
  {
   "cell_type": "markdown",
   "id": "828d271a4c6c2077",
   "metadata": {
    "lines_to_next_cell": 2,
    "slideshow": {
     "slide_type": "subslide"
    },
    "tags": [
     "subslide"
    ]
   },
   "source": [
    "\n",
    "<img src=\"../img/vector-memory-leak.png\" width=\"75%\">"
   ]
  },
  {
   "cell_type": "markdown",
   "id": "2b1eb8d4b7e0db5d",
   "metadata": {
    "lang": "de",
    "slideshow": {
     "slide_type": "subslide"
    },
    "tags": [
     "subslide"
    ]
   },
   "source": [
    "\n",
    "## Probleme\n",
    "\n",
    "- `MyVector`-Objekte werden nicht richtig kopiert.\n",
    "  - `MyVector vec2 = vec;`\n",
    "  - Kopiert die Struct\n",
    "  - Kopiert **nicht** die Daten auf dem Heap\n",
    "- Damit können `MyVector`-Objekte nicht \"per value\" übergeben werden."
   ]
  },
  {
   "cell_type": "code",
   "execution_count": null,
   "id": "eca3f5816c2a1de9",
   "metadata": {
    "slideshow": {
     "slide_type": "subslide"
    },
    "tags": [
     "keep",
     "subslide"
    ]
   },
   "outputs": [],
   "source": [
    "{\n",
    "    MyVector vec;\n",
    "    init(vec);\n",
    "    push_back(vec, 1);\n",
    "    push_back(vec, 2);\n",
    "\n",
    "    MyVector vec2 = vec; // Oops, shallow copy!\n",
    "\n",
    "    print_info(vec);\n",
    "    print_info(vec2);\n",
    "\n",
    "    destroy(vec);\n",
    "    // destroy(vec2); // Oops, double free!\n",
    "}"
   ]
  },
  {
   "cell_type": "markdown",
   "id": "1998af0324cbf42f",
   "metadata": {
    "lines_to_next_cell": 2,
    "slideshow": {
     "slide_type": "subslide"
    },
    "tags": [
     "subslide"
    ]
   },
   "source": [
    "\n",
    "<img src=\"../img/vector-copy-error-1.png\" width=\"75%\">"
   ]
  },
  {
   "cell_type": "code",
   "execution_count": null,
   "id": "77f6a0ec67517345",
   "metadata": {
    "slideshow": {
     "slide_type": "subslide"
    },
    "tags": [
     "keep",
     "subslide"
    ]
   },
   "outputs": [],
   "source": [
    "{\n",
    "    MyVector vec;\n",
    "    init(vec);\n",
    "    push_back(vec, 1);\n",
    "    push_back(vec, 2);\n",
    "    push_back(vec, 3);\n",
    "    MyVector vec2 = vec;\n",
    "\n",
    "    push_back(vec, 4); // Oops, inconsistent data!\n",
    "\n",
    "    print_info(vec);\n",
    "    print_info(vec2);\n",
    "\n",
    "    destroy(vec);\n",
    "}"
   ]
  },
  {
   "cell_type": "markdown",
   "id": "8cd74af64e131a0d",
   "metadata": {
    "slideshow": {
     "slide_type": "subslide"
    },
    "tags": [
     "subslide"
    ]
   },
   "source": [
    "\n",
    "<img src=\"../img/vector-copy-error-2.png\" width=\"75%\">"
   ]
  },
  {
   "cell_type": "code",
   "execution_count": null,
   "id": "ee79d938e3fd79e5",
   "metadata": {
    "slideshow": {
     "slide_type": "subslide"
    },
    "tags": [
     "keep",
     "subslide"
    ]
   },
   "outputs": [],
   "source": [
    "{\n",
    "    MyVector vec;\n",
    "    init(vec);\n",
    "    push_back(vec, 1);\n",
    "    push_back(vec, 2);\n",
    "\n",
    "    MyVector vec2 = vec;\n",
    "\n",
    "    push_back(vec, 3); // Oops, reallocates!\n",
    "\n",
    "    print_info(vec);\n",
    "    print_info(vec2);\n",
    "\n",
    "    destroy(vec);\n",
    "}"
   ]
  },
  {
   "cell_type": "markdown",
   "id": "c2dc4b4c3261a5f7",
   "metadata": {
    "slideshow": {
     "slide_type": "subslide"
    },
    "tags": [
     "subslide"
    ]
   },
   "source": [
    "\n",
    "<img src=\"../img/vector-copy-error-3.png\" width=\"75%\">"
   ]
  },
  {
   "cell_type": "markdown",
   "id": "a4d4aaef10875530",
   "metadata": {
    "slideshow": {
     "slide_type": "subslide"
    },
    "tags": [
     "subslide"
    ]
   },
   "source": [
    "\n",
    "<img src=\"../img/vector-copy-error-4.png\" width=\"75%\">"
   ]
  },
  {
   "cell_type": "markdown",
   "id": "fec75bc98bfda0f9",
   "metadata": {
    "lines_to_next_cell": 2,
    "slideshow": {
     "slide_type": "subslide"
    },
    "tags": [
     "subslide"
    ]
   },
   "source": [
    "\n",
    "<img src=\"../img/vector-copy-error-5.png\" width=\"75%\">"
   ]
  },
  {
   "cell_type": "markdown",
   "id": "fe661e01b3c2b165",
   "metadata": {
    "lang": "de",
    "slideshow": {
     "slide_type": "subslide"
    },
    "tags": [
     "subslide"
    ]
   },
   "source": [
    "\n",
    "- Rückgabe von `MyVector`-Objekten ist möglich.\n",
    "- Aber das ist eher Zufall als Design."
   ]
  },
  {
   "cell_type": "code",
   "execution_count": null,
   "id": "d6c2322c7d4c18a7",
   "metadata": {
    "slideshow": {
     "slide_type": "subslide"
    },
    "tags": [
     "keep",
     "subslide"
    ]
   },
   "outputs": [],
   "source": [
    "MyVector return_vec() {\n",
    "    MyVector res;\n",
    "    init(res);\n",
    "    push_back(res, 1);\n",
    "    push_back(res, 2);\n",
    "    return res;\n",
    "}"
   ]
  },
  {
   "cell_type": "code",
   "execution_count": null,
   "id": "cf3a099cb30120af",
   "metadata": {
    "tags": [
     "keep"
    ]
   },
   "outputs": [],
   "source": [
    "MyVector vec = return_vec();\n",
    "print_info(vec);\n",
    "destroy(vec);"
   ]
  },
  {
   "cell_type": "markdown",
   "id": "e7ff7472eeb5cf30",
   "metadata": {
    "slideshow": {
     "slide_type": "subslide"
    },
    "tags": [
     "subslide"
    ]
   },
   "source": [
    "\n",
    "<img src=\"../img/vector-return-1.png\" width=\"75%\">"
   ]
  },
  {
   "cell_type": "markdown",
   "id": "5f065703014e2abf",
   "metadata": {
    "slideshow": {
     "slide_type": "subslide"
    },
    "tags": [
     "subslide"
    ]
   },
   "source": [
    "\n",
    "<img src=\"../img/vector-return-2.png\" width=\"75%\">"
   ]
  },
  {
   "cell_type": "markdown",
   "id": "9eb4a9da07b36159",
   "metadata": {
    "slideshow": {
     "slide_type": "subslide"
    },
    "tags": [
     "subslide"
    ]
   },
   "source": [
    "\n",
    "<img src=\"../img/vector-return-3.png\" width=\"75%\">"
   ]
  },
  {
   "cell_type": "markdown",
   "id": "14adff0c522bbd3a",
   "metadata": {
    "slideshow": {
     "slide_type": "subslide"
    },
    "tags": [
     "subslide"
    ]
   },
   "source": [
    "\n",
    "<img src=\"../img/vector-return-4.png\" width=\"75%\">"
   ]
  },
  {
   "cell_type": "markdown",
   "id": "a288d41a6b0cc833",
   "metadata": {
    "slideshow": {
     "slide_type": "subslide"
    },
    "tags": [
     "subslide"
    ]
   },
   "source": [
    "\n",
    "## Return Value Optimization (RVO)\n",
    "\n",
    "<br><br>\n",
    "<img src=\"../img/vector-return-5.png\" width=\"75%\">"
   ]
  },
  {
   "cell_type": "markdown",
   "id": "06e4aa6392de6e87",
   "metadata": {
    "lang": "de",
    "slideshow": {
     "slide_type": "subslide"
    },
    "tags": [
     "subslide"
    ]
   },
   "source": [
    "\n",
    "## Probleme\n",
    "\n",
    "- Die Daten von `MyVector`-Objekten sind öffentlich:"
   ]
  },
  {
   "cell_type": "code",
   "execution_count": null,
   "id": "05c99d3ecb4b27f5",
   "metadata": {
    "tags": [
     "keep"
    ]
   },
   "outputs": [],
   "source": [
    "{\n",
    "    MyVector vec;\n",
    "    init(vec);\n",
    "    push_back(vec, 1);\n",
    "    push_back(vec, 2);\n",
    "    print_info(vec);\n",
    "\n",
    "    vec.data[0] = 42;\n",
    "    vec.size = 5;\n",
    "    print_info(vec);\n",
    "\n",
    "    destroy(vec);\n",
    "}"
   ]
  },
  {
   "cell_type": "markdown",
   "id": "22efe4957087f346",
   "metadata": {
    "lang": "de",
    "slideshow": {
     "slide_type": "subslide"
    },
    "tags": [
     "subslide"
    ]
   },
   "source": [
    "\n",
    "## Probleme\n",
    "\n",
    "- Wir können keine Operatoren wie `[]` oder `<<` verwenden."
   ]
  }
 ],
 "metadata": {
  "kernelspec": {
   "display_name": "C++17",
   "language": "C++17",
   "name": "xcpp17"
  },
  "language_info": {
   "codemirror_mode": "text/x-c++src",
   "file_extension": ".cpp",
   "mimetype": "text/x-c++src",
   "name": "c++",
   "version": "17"
  }
 },
 "nbformat": 4,
 "nbformat_minor": 5
}
