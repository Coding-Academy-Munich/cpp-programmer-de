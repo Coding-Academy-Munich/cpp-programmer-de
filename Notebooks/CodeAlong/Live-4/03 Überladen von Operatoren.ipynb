{
 "cells": [
  {
   "cell_type": "markdown",
   "id": "57025b734001915c",
   "metadata": {
    "lang": "de",
    "slideshow": {
     "slide_type": "slide"
    },
    "tags": [
     "slide"
    ]
   },
   "source": [
    "\n",
    "<img src=\"data:image/png;base64,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\"\n",
    "     style=\"display:block;margin:auto;width:5%\"/>\n",
    "<br>\n",
    "\n",
    "<div style=\"text-align:center; font-size:200%;\">\n",
    " <b>Überladen von Operatoren</b>\n",
    "</div>\n",
    "<br/>\n",
    "<div style=\"text-align:center; font-size:120%;\">Dr. Matthias Hölzl</div>\n",
    "<br/>\n",
    "<div style=\"text-align:center;\">Coding-Akademie München</div>\n",
    "<br/>\n",
    "<!-- 03 Überladen von Operatoren.ipynb -->\n",
    "<!-- slides/module_190_standard_library/topic_135_operator_overloading.cpp -->"
   ]
  },
  {
   "cell_type": "markdown",
   "id": "948568e8d91b0c7e",
   "metadata": {
    "lang": "de",
    "slideshow": {
     "slide_type": "slide"
    },
    "tags": [
     "slide"
    ]
   },
   "source": [
    "\n",
    "- Wir haben gesehen, dass man in C++ Funktionen überladen kann:"
   ]
  },
  {
   "cell_type": "code",
   "execution_count": null,
   "id": "a0ee650c342d197c",
   "metadata": {
    "tags": [
     "keep"
    ]
   },
   "outputs": [],
   "source": [
    "#include <iostream>"
   ]
  },
  {
   "cell_type": "code",
   "execution_count": null,
   "id": "0d6a3c02bf372ebc",
   "metadata": {
    "tags": [
     "keep"
    ]
   },
   "outputs": [],
   "source": [
    "void f(int i) { std::cout << \"f(int): \" << i << \"\\n\"; }"
   ]
  },
  {
   "cell_type": "code",
   "execution_count": null,
   "id": "56abe9403b3b70fc",
   "metadata": {
    "tags": [
     "keep"
    ]
   },
   "outputs": [],
   "source": [
    "void f(double d) { std::cout << \"f(double): \" << d << \"\\n\"; }"
   ]
  },
  {
   "cell_type": "code",
   "execution_count": null,
   "id": "26127abc1c7bb8f0",
   "metadata": {
    "tags": [
     "keep"
    ]
   },
   "outputs": [],
   "source": [
    "f(1);\n",
    "f(1.0);"
   ]
  },
  {
   "cell_type": "markdown",
   "id": "bece208ee96d206b",
   "metadata": {
    "lang": "de",
    "slideshow": {
     "slide_type": "subslide"
    },
    "tags": [
     "subslide"
    ]
   },
   "source": [
    "\n",
    "Viele Operatoren in C++ werden durch Funktionen implementiert, die überladen\n",
    "werden können:"
   ]
  },
  {
   "cell_type": "code",
   "execution_count": null,
   "id": "b8ee053d69a70842",
   "metadata": {
    "tags": [
     "keep"
    ]
   },
   "outputs": [],
   "source": [
    "namespace frac {\n",
    "struct Fraction\n",
    "{\n",
    "    int numerator;\n",
    "    int denominator;\n",
    "};\n",
    "}"
   ]
  },
  {
   "cell_type": "code",
   "execution_count": null,
   "id": "90e20ea9c0597bc1",
   "metadata": {
    "tags": [
     "start"
    ]
   },
   "outputs": [],
   "source": [
    "namespace frac {\n",
    "} // namespace frac"
   ]
  },
  {
   "cell_type": "code",
   "execution_count": null,
   "id": "79bf50aa2714fc40",
   "metadata": {
    "slideshow": {
     "slide_type": "subslide"
    },
    "tags": [
     "keep",
     "subslide"
    ]
   },
   "outputs": [],
   "source": [
    "frac::Fraction half{1, 2};\n",
    "frac::Fraction third{1, 3};"
   ]
  },
  {
   "cell_type": "code",
   "execution_count": null,
   "id": "a338ba592139b4b9",
   "metadata": {
    "tags": [
     "keep"
    ]
   },
   "outputs": [],
   "source": [
    "frac::Fraction result{third * half};"
   ]
  },
  {
   "cell_type": "code",
   "execution_count": null,
   "id": "570b910421cdf94a",
   "metadata": {
    "tags": [
     "keep"
    ]
   },
   "outputs": [],
   "source": [
    "std::cout << result.numerator << \"/\" << result.denominator << \"\\n\";"
   ]
  },
  {
   "cell_type": "markdown",
   "id": "2b3ac93f38b36a72",
   "metadata": {
    "lang": "de",
    "slideshow": {
     "slide_type": "subslide"
    },
    "tags": [
     "subslide"
    ]
   },
   "source": [
    "\n",
    "Welche Operatoren können überladen werden?\n",
    "\n",
    "- [Viele!](https://en.cppreference.com/w/cpp/language/operators)\n",
    "  - Unäre Operatoren: `+`, `-`, `*`, `&`, `!`, `~`, `++`, `--`, ...\n",
    "  - Binäre Operatoren: `+`, `-`, `&`, `<<`,`==`, `!=`, `<`, `=`, `+=`, `->`, ...\n",
    "  - Funktionsaufruf- und Indexoperator: `()`, `[]`\n",
    "  - Allokationssoperatoren: `new`, `new[]`, `delete`, `delete[]`\n",
    "  - Typkonvertierungsoperatoren: `T()`\n",
    "- Wichtige Ausnahmen:\n",
    "  - Member-Zugriff: `.` (Keine Smart-References oder Properties!)\n",
    "  - Gültigkeitsbereichsoperator: `::`"
   ]
  },
  {
   "cell_type": "markdown",
   "id": "df8930e6925ced38",
   "metadata": {
    "lang": "de",
    "slideshow": {
     "slide_type": "subslide"
    },
    "tags": [
     "subslide"
    ]
   },
   "source": [
    "\n",
    "## Definition von Operatoren\n",
    "\n",
    "- Operatoren können als Member-Funktionen oder als freie Funktionen\n",
    "  definiert werden\n",
    "- `=`, `->`, `()` und `[]` müssen als Member-Funktionen definiert werden\n",
    "- Die anderen Operatoren werden typischerweise als freie Funktionen\n",
    "  definiert\n",
    "  - Oft als `friend`-Funktionen, um Zugriff auf private Member zu haben"
   ]
  },
  {
   "cell_type": "markdown",
   "id": "97f556a287c22692",
   "metadata": {
    "lang": "de",
    "slideshow": {
     "slide_type": "subslide"
    },
    "tags": [
     "subslide"
    ]
   },
   "source": [
    "\n",
    "## Beispiel: Polynome\n",
    "\n",
    "Wir wollen eine Klasse für Polynome der Form\n",
    "\n",
    "$$p(x) = a_0 + a_1 x + a_2 x^2 + \\ldots + a_n x^n$$\n",
    "\n",
    "implementieren.\n",
    "\n",
    "- Die Koeffizienten $a_i$ sollen als `std::vector<double>` gespeichert\n",
    "  werden\n",
    "- Wir wollen den Funktionsaufruf-Operator `()` überladen, um Polynome\n",
    "  auswerten zu können\n",
    "- Wir wollen den Ausgabeoperator `<<` überladen, um Polynome ausgeben zu\n",
    "  können"
   ]
  },
  {
   "cell_type": "code",
   "execution_count": null,
   "id": "c0baa91462aa6d04",
   "metadata": {
    "slideshow": {
     "slide_type": "subslide"
    },
    "tags": [
     "keep",
     "subslide"
    ]
   },
   "outputs": [],
   "source": [
    "#include <iostream>\n",
    "#include <vector>"
   ]
  },
  {
   "cell_type": "code",
   "execution_count": null,
   "id": "21238d752f840a30",
   "metadata": {
    "tags": [
     "start"
    ]
   },
   "outputs": [],
   "source": [
    "namespace poly {\n",
    "    class Polynomial;\n",
    "}"
   ]
  },
  {
   "cell_type": "code",
   "execution_count": null,
   "id": "397e4ad26a33b830",
   "metadata": {
    "slideshow": {
     "slide_type": "subslide"
    },
    "tags": [
     "keep",
     "subslide"
    ]
   },
   "outputs": [],
   "source": [
    "namespace poly {\n",
    "Polynomial::Polynomial(std::vector<double> coefficients)\n",
    "    : coefficients_{std::move(coefficients)}\n",
    "{\n",
    "    if (coefficients_.empty()) {\n",
    "        throw std::invalid_argument{\"Polynomial must have at least one coefficient\"};\n",
    "    }\n",
    "    if (coefficients_.size() > 1 && coefficients_.back() == 0.0) {\n",
    "        throw std::invalid_argument{\"Leading coefficient must not be zero\"};\n",
    "    }\n",
    "}\n",
    "} // namespace poly"
   ]
  },
  {
   "cell_type": "code",
   "execution_count": null,
   "id": "6016cb6ab5c7cadc",
   "metadata": {
    "slideshow": {
     "slide_type": "subslide"
    },
    "tags": [
     "keep",
     "subslide"
    ]
   },
   "outputs": [],
   "source": [
    "namespace poly {\n",
    "double Polynomial::operator()(double x) const\n",
    "{\n",
    "    double result{0};\n",
    "    double power_of_x{1};\n",
    "    for (const auto coeff : coefficients_) {\n",
    "        result += coeff * power_of_x;\n",
    "        power_of_x *= x;\n",
    "    }\n",
    "    return result;\n",
    "}\n",
    "} // namespace poly"
   ]
  },
  {
   "cell_type": "code",
   "execution_count": null,
   "id": "91157c951ecd78b8",
   "metadata": {
    "slideshow": {
     "slide_type": "subslide"
    },
    "tags": [
     "keep",
     "subslide"
    ]
   },
   "outputs": [],
   "source": [
    "namespace poly {\n",
    "void write_single_term(std::ostream& os, double coeff, int power, bool is_last_term)\n",
    "{\n",
    "    if (coeff != 0.0) {\n",
    "        if (power == 0) {\n",
    "            os << coeff;\n",
    "        }\n",
    "        else if (power == 1) {\n",
    "            os << coeff << \"x\";\n",
    "        }\n",
    "        else {\n",
    "            os << coeff << \"x^\" << power;\n",
    "        }\n",
    "        if (!is_last_term) {\n",
    "            os << \" + \";\n",
    "        }\n",
    "    }\n",
    "    else if (is_last_term) {\n",
    "        os << \"0\";\n",
    "    }\n",
    "}\n",
    "} // namespace poly"
   ]
  },
  {
   "cell_type": "code",
   "execution_count": null,
   "id": "b1eadc3e0c17d053",
   "metadata": {
    "slideshow": {
     "slide_type": "subslide"
    },
    "tags": [
     "keep",
     "subslide"
    ]
   },
   "outputs": [],
   "source": [
    "namespace poly {\n",
    "std::ostream& operator<<(std::ostream& os, const Polynomial& p)\n",
    "{\n",
    "    int power{0};\n",
    "    for (auto coeff : p.coefficients_) {\n",
    "        bool is_last_term{power == p.coefficients_.size() - 1};\n",
    "        write_single_term(os, coeff, power, is_last_term);\n",
    "        ++power;\n",
    "    }\n",
    "    return os;\n",
    "}\n",
    "} // namespace poly"
   ]
  },
  {
   "cell_type": "code",
   "execution_count": null,
   "id": "969a16171d98c104",
   "metadata": {
    "slideshow": {
     "slide_type": "subslide"
    },
    "tags": [
     "keep",
     "subslide"
    ]
   },
   "outputs": [],
   "source": [
    "#include <algorithm>\n",
    "\n",
    "namespace poly {\n",
    "Polynomial operator+(const Polynomial& lhs, const Polynomial& rhs)\n",
    "{\n",
    "    auto [smaller_size, larger_size]{\n",
    "        std::minmax(lhs.coefficients_.size(), rhs.coefficients_.size())};\n",
    "\n",
    "    std::vector<double> coefficients;\n",
    "    coefficients.reserve(larger_size);\n",
    "\n",
    "    for (std::size_t i{0}; i < smaller_size; ++i) {\n",
    "        coefficients.push_back(lhs.coefficients_[i] + rhs.coefficients_[i]);\n",
    "    }\n",
    "\n",
    "    const auto& larger_poly{\n",
    "        lhs.coefficients_.size() > rhs.coefficients_.size() ? lhs : rhs};\n",
    "    for (std::size_t i{smaller_size}; i < larger_size; ++i) {\n",
    "        coefficients.push_back(larger_poly.coefficients_[i]);\n",
    "    }\n",
    "    return Polynomial{coefficients};\n",
    "}\n",
    "} // namespace poly"
   ]
  },
  {
   "cell_type": "code",
   "execution_count": null,
   "id": "f2b9b0e39f56874b",
   "metadata": {
    "slideshow": {
     "slide_type": "subslide"
    },
    "tags": [
     "keep",
     "subslide"
    ]
   },
   "outputs": [],
   "source": [
    "poly::Polynomial p1({1, 2, 0, 4, 3});"
   ]
  },
  {
   "cell_type": "code",
   "execution_count": null,
   "id": "1f9bedeea27e235b",
   "metadata": {},
   "outputs": [],
   "source": []
  },
  {
   "cell_type": "code",
   "execution_count": null,
   "id": "ae61750e5d8ded13",
   "metadata": {},
   "outputs": [],
   "source": []
  },
  {
   "cell_type": "code",
   "execution_count": null,
   "id": "fd7720717c3899a7",
   "metadata": {
    "slideshow": {
     "slide_type": "subslide"
    },
    "tags": [
     "keep",
     "subslide"
    ]
   },
   "outputs": [],
   "source": [
    "poly::Polynomial p2({1, 2, 3});"
   ]
  },
  {
   "cell_type": "code",
   "execution_count": null,
   "id": "59f558beaf4b3a51",
   "metadata": {},
   "outputs": [],
   "source": []
  },
  {
   "cell_type": "code",
   "execution_count": null,
   "id": "4535efbf4a561c13",
   "metadata": {},
   "outputs": [],
   "source": []
  },
  {
   "cell_type": "code",
   "execution_count": null,
   "id": "2cf4aec051800e6d",
   "metadata": {
    "slideshow": {
     "slide_type": "subslide"
    },
    "tags": [
     "keep",
     "subslide"
    ]
   },
   "outputs": [],
   "source": [
    "poly::Polynomial zero({0.0});\n",
    "poly::Polynomial one({1.0});"
   ]
  },
  {
   "cell_type": "code",
   "execution_count": null,
   "id": "3dd3934ba6c35b8d",
   "metadata": {},
   "outputs": [],
   "source": []
  },
  {
   "cell_type": "code",
   "execution_count": null,
   "id": "5db6c9315628f80a",
   "metadata": {},
   "outputs": [],
   "source": []
  },
  {
   "cell_type": "code",
   "execution_count": null,
   "id": "26baaab0fbd63b6f",
   "metadata": {},
   "outputs": [],
   "source": []
  },
  {
   "cell_type": "code",
   "execution_count": null,
   "id": "7c83294cf7a11363",
   "metadata": {},
   "outputs": [],
   "source": []
  },
  {
   "cell_type": "markdown",
   "id": "21ea65d8f34e0a77",
   "metadata": {
    "lang": "de",
    "slideshow": {
     "slide_type": "subslide"
    },
    "tags": [
     "subslide"
    ]
   },
   "source": [
    "\n",
    "## Mini-Workshop: Komplexe Zahlen\n",
    "\n",
    "In diesem Workshop implementieren Sie eine Klasse für komplexe Zahlen.\n",
    "\n",
    "Komplexe Zahlen kann man als Paar zweier `double`-Werte darstellen:\n",
    "- Einen Realteil $x$\n",
    "- Einen Imaginärteil $y$\n",
    "- Man schreibt eine solche Zahl dann als $x + yi$"
   ]
  },
  {
   "cell_type": "markdown",
   "id": "673f48765785cbfb",
   "metadata": {
    "lang": "de",
    "slideshow": {
     "slide_type": "subslide"
    },
    "tags": [
     "subslide"
    ]
   },
   "source": [
    "\n",
    "Die Rechenoperationen auf komplexen Zahlen sind wie folgt definiert:\n",
    "- Addition: $(x + yi) + (u + vi) = (x + u) + (y + v)i$\n",
    "- Subtraktion: $(x + yi) - (u + vi) = (x - u) + (y - v)i$\n",
    "- Multiplikation: $(x + yi) \\cdot (u + vi) = (xu - yv) + (xv + yu)i$"
   ]
  },
  {
   "cell_type": "markdown",
   "id": "496f2bde1714bca0",
   "metadata": {
    "lang": "de",
    "lines_to_next_cell": 2,
    "slideshow": {
     "slide_type": "subslide"
    },
    "tags": [
     "subslide"
    ]
   },
   "source": [
    "\n",
    "Implementieren Sie die Klasse `Complex` mit:\n",
    "- Member-Variablen `real_` und `imag_`\n",
    "- Einen Konstruktor, der Real- und Imaginärteil als Argumente nimmt\n",
    "- Methoden `real()` und `imag()`, die Real- und Imaginärteil zurückgeben"
   ]
  },
  {
   "cell_type": "code",
   "execution_count": null,
   "id": "ab47d678b4608197",
   "metadata": {
    "slideshow": {
     "slide_type": "subslide"
    },
    "tags": [
     "subslide"
    ]
   },
   "outputs": [],
   "source": []
  },
  {
   "cell_type": "code",
   "execution_count": null,
   "id": "45cf972f9b883594",
   "metadata": {},
   "outputs": [],
   "source": []
  },
  {
   "cell_type": "code",
   "execution_count": null,
   "id": "e01cedd05deda2f3",
   "metadata": {
    "slideshow": {
     "slide_type": "subslide"
    },
    "tags": [
     "subslide"
    ]
   },
   "outputs": [],
   "source": []
  },
  {
   "cell_type": "markdown",
   "id": "4b6d34ee85e77808",
   "metadata": {
    "lang": "de",
    "slideshow": {
     "slide_type": "subslide"
    },
    "tags": [
     "subslide"
    ]
   },
   "source": [
    "\n",
    "Implementieren Sie für die Klasse `Complex`:\n",
    "\n",
    "- Operatoren für `+`, `-` und `*`\n",
    "- Einen Ausgabeoperator `<<`\n",
    "- Optional: Operatoren für `==` und `!=`// - Operators for `+`, `-` and `*`\n",
    "\n",
    "Müssen Sie die Operatoren als Friend-Funktionen implementieren?"
   ]
  },
  {
   "cell_type": "code",
   "execution_count": null,
   "id": "3942a7597a13947c",
   "metadata": {
    "slideshow": {
     "slide_type": "subslide"
    },
    "tags": [
     "subslide"
    ]
   },
   "outputs": [],
   "source": []
  },
  {
   "cell_type": "markdown",
   "id": "607a7c1bf4084873",
   "metadata": {
    "lang": "de",
    "slideshow": {
     "slide_type": "subslide"
    },
    "tags": [
     "subslide",
     "answer"
    ]
   },
   "source": [
    "*Antwort:* "
   ]
  },
  {
   "cell_type": "code",
   "execution_count": null,
   "id": "796ee26eb01ebdc3",
   "metadata": {
    "slideshow": {
     "slide_type": "subslide"
    },
    "tags": [
     "subslide"
    ]
   },
   "outputs": [],
   "source": []
  },
  {
   "cell_type": "code",
   "execution_count": null,
   "id": "977e3e3334d90201",
   "metadata": {},
   "outputs": [],
   "source": []
  },
  {
   "cell_type": "code",
   "execution_count": null,
   "id": "13f65ec1838243e1",
   "metadata": {},
   "outputs": [],
   "source": []
  },
  {
   "cell_type": "code",
   "execution_count": null,
   "id": "851b00b0f12bd13e",
   "metadata": {},
   "outputs": [],
   "source": []
  },
  {
   "cell_type": "code",
   "execution_count": null,
   "id": "108138e8af545b79",
   "metadata": {},
   "outputs": [],
   "source": []
  }
 ],
 "metadata": {
  "kernelspec": {
   "display_name": "C++17",
   "language": "C++17",
   "name": "xcpp17"
  },
  "language_info": {
   "codemirror_mode": "text/x-c++src",
   "file_extension": ".cpp",
   "mimetype": "text/x-c++src",
   "name": "c++",
   "version": "17"
  }
 },
 "nbformat": 4,
 "nbformat_minor": 5
}
