{
 "cells": [
  {
   "cell_type": "markdown",
   "id": "47213a513f010571",
   "metadata": {
    "lang": "de",
    "slideshow": {
     "slide_type": "slide"
    },
    "tags": [
     "slide"
    ]
   },
   "source": [
    "\n",
    "<img src=\"data:image/png;base64,iVBORw0KGgoAAAANSUhEUgAAAEAAAABACAYAAACqaXHeAAAABHNCSVQICAgIfAhkiAAAAAlwSFlzAAACkwAAApMBv+Bu1wAAABl0RVh0U29mdHdhcmUAd3d3Lmlua3NjYXBlLm9yZ5vuPBoAAAumSURBVHic1Vt7WFRlGv99ZwYGZoABVGCQS2gqqVikbImauanrqm31aNaz1SYhdtu85LqumTjenloto9ZWS+yiWZZPW7aaaWghXjC8cF0uclHuAwwwA3Ofc779A0HGGZgzZway318z53u/93vP73zn/d73O99L8Ctg6QcF8yjBK5TQSYRCSihKAOw3e/vv+iQpxjiYtpDBHOy5vXljRCzZAWBuHyK1lNB16Usm7AchdDBsGhQCXvx3fpBVjDUAVgLw5tElk+GY5R+8MD5vgE0bWAKUSsrUDs9/mlCyHUCIi905gB6ghFmdnhKnGgj7gAEkYOkHhTMo4dIATHBTVTuAN32Mvmn/WjbK5AHTbOBxApI+KogUW7mtAHnGw6rLALJqz9K4I55U6jECntmXJ/M1YDUlZA0AH0/pdYAMgFuxZ+k9RZ5Q5j4BlJKlHxYsBPA2JYh03yResFBCd1nF3IZPkuLb3VHkFgEpHxYmAFwagER39LiBVoBuag8s3Xlo0SJWiAJBBDy393K42CreQAmWAGCE6PAsaC5AVuxZOiHT1Z4uEbByxznfTj+/ZQDWAfB3dbCBBz1CCZalp9xdxbcHbwKSd+c9zDDkXQAxgmwbPJgpobs5RvL6R8mxHc6EnRKQnJ4bTyiTRige8Ix9g4Z6SrAxoi4uXakkXF9CfRLw8s7iISaJOZVQ8jIAkbvWyKVi3BXuhzvDZAgLlCDIzwsy7y61OjOLTqMV9W0mVDcbUFLfiYZ2j8U8OV3+Ie6co0aHBKR8WDAfoPsBBLozMiHAvTFyPBAbjNhwPxAXPE5tqxHnr7bhdHErTJY+HyBfcAC2D6+Pe+3W2WBn0o2l7Qz4JS19YkKUPxber0CYXOKOGnQarTie34KMghawnHsJIiVEmZ4St7H3NQcE5GcDuE/oIFKJCM9MG46JMXKhKhyiRm3Ex5k1qFUL2y4ws2zxycJyU217+8M4kFLbfd3m3V6yJy+GgGwXaqQiSIK/zx+BkaEyoSr6hFwqRuLoYKg0JjS08fcPlEJ18Vpt3vH8snitwaQASDUKvrvQ3S7uLUwoGSnUwOhhvlgxJwYyH7f9ZZ/wEhEs/X0UvvStx6kitTNxY7Vak32qqDzBwrJTeq5yuLO3kA0BDEfFHON6cBgWKMHyOXcM6M13gxDgicRwdJpY/FLuOA3QGU05R/NKwzR644MOmm2MFDsQcAk+Xgxenh0NPx+3VfEGAbB4egRatGZUNul7rrMsV5lZUtVW0aRO4KvL7Tj+icRwhLrp6YVAzBAkPRgBLzEDULQV1TWe/jjrYnRFk3qiS3rcMWKUQobE0UEu99MZWZSrdGjVWWC2cpD7eiFqqA/Cg1zbRhjq741RIZKi1w6dVRjMVkGRqlsELEgIcymbqmzS47tLKpTU6cBR+zU9VC7BrAlDMXVMEBgnUVNJfac2Jf10+5mShnEumm0DwQSMVsgwIlTKS5bjKL7KbsBPRWr0F8qoNCZ8llWHs6VteH5mFIJlXnYyzVqzZdt/CyveOnolFkCAMOtvQrAPmBobzEuOoxS7M6pxysnN90ZVkx5vHq6AusPcc81o4egXZ6sropZ9wd24eY9A0AwQiwji7+BH/rc5KuRe17o8RrvOgvdPXMfaR0biYlWb6s87T4mvNWsFxyl9QRABI0KkkIidT57GdhNOFLQIGQIAUNmkK/rd+iPi3OvNYwQrcQJhBPB894/lNoMTkMBQioaL12orc6/XJ4I69rNiEYNRYV2zsLjOPiDy8RIhJsQfFiuHclXfM1AQAQoe6z7LUeRVuzz19TXq9pyTRRWTbMJXBwgJ8MH/ti8AADBP7cWti8r4yCDkbHkEje0GKF76vE89gggIdOCdb0WjxgS9ifdGLdUYjdnHckujOgym6f0JMoTAz0cMP5+bNvjf+N1htEDEMJB6iyCTdN0aIUCAb1e71mCx0yeIAImX8/e/XWc/mCNYWbY4o7DcUtOqmcxHfmLMUPyy5U821zR7/wIAiPzrQUyMGYpvV83saQuV+/a0i576yC7+GLAAnjgJkSioKq/katnFopIh1C8I8B78cBoQSACfLSq5rE/VlvrmlvM/Zl2IN1st0wAAGjUgEuVAPiQcIvHw/vReqmqBPHkfwgKlKH17YddYyfsAdL0CjRoD5Mn7EH/HEPy8fh5UGgNGv3oIABxGn4IIaOMxvRWBEsh8RNAZb/oBnd6Q8/3pc6Ht2g77uJ1lE9DapIe3JBMBwZNAiMNdFY5SaA0W+PnctKHDaOlxglaWg9bAQWeyAgAodfzud0MQAY08dmwZQjAhKgDny9rAclzl6ZzLreXXa52lqVKYTdOhbmyA1D8XUr9E9LFx26Q1YuzqrwHAbgUAgMKaNoxd/TUs1v5nqyACKnrl4P1hXnwI+8nxy+fOXMyfzFE6gvcAlCqg0yqg7yhSREeIG3SsXSBkZTmH6383jBa23/ZuCMoFqpr0vPxASIC3aMqdftM4SgURfXdMyLiKnU+P+eqlKaqwAInTPTAhEESAlaW4co1fkLMlaQYem+J67hIxLACHNz0BX4kYj0+NDS3d8Xjw1kfHVXiJGY+eEhGcDWaVtvIbgBAcSl2IlQvu4/1hZPLYCJx/NwnRoTe31gOkEvLaovtHFv/zUebJiYoSITY7tE9ox6sNOpSr+PkCEUOw44XZyH4vGXMSRkIscjzs2OhhSH91PrLeWYyIYY6zzZGKIK8vVs2NzVw7Szte4Vct1P5u2DyT53fnzeEYcoxnXxoVJCpct+CuOOLKNy8ArR0GnCuqRXWTBnqTBYpgP0wcrUBs5FCX9FisHJLeOVp04FKjAgzDb4OCYhcOLnmp+68g52SxsEU/nsumdarmOIVsPpL/GO9S/2B/X8y/f5SQoW1Q2dCG/2QWjoOJbYNUehoyeSJcvCeXhDlKGy8VFlfklpT1pKkrdp3AlPGRLj89d2GysHh222EYugKeIOh1D0BvqESAvBUS30l89fD1AYaahsbMfd8c9c8tLpvSO0fvNJjxSOpXaNbw8weeAKXA4u2HcaGk7pYWbgS0bZPQqsoBa6nho8uGAI4h1lvH6ujszDp4NEP9Q1b2dIvV6jA8LatVY87az9EyCCRwlGLZ+z/g4E/9nJJj2QS0NodCqz4PSnW3tvb+Y0MAJbSi+7eFtZb8kHU+/+D3GdM6dJ0Rzgy7fLUB01Z+ior6Nl43IgQGkxWLNn+NnYdz+Ih7w2SajJYGHXTabODGniyD8t5Cdu47afeVo4VlFZKL+cUPUlCXP/bJZRLsXj4PT85wa7veDpevNmDx9u9QUNUkTAFhShAQaAbjPxeHnu15d+zXr1lbJoFyZ+HmAYk5CSPx9vOzMDZ6mDtq0KzRY9uX5/DuNxecJjZOQbABP6Zusr3kCDM3zgPIZ3DziAxDCB6bGouUufGYee8IiFz48nylvBGfnshD+rEr0Bn57S71Aw7ANkzl1kGp7P+ITA/+oAwGx2wAhUcOSYUEyvBQfAymxUUhNnIIokLkCPL3ASEErVoDWrR6FFY14dLVBpy8cg1ltR7LfXJAsRwnU887anT+SGYp7wFl0gD0u1l5G6IewFpkrN8P9F19wn9Ozt74MLjfxEFJA0Dfg8FnK86ucf+gpA0eV3qjXfQiKN2M2/KoLI6AIctwYr3nj8raYJYyHJTZANwuh6VxBQyzAideP+1qR/fqBR7alACGpoGSX+u4vBqEbEbgmJ04NIjH5W1BCWZtWghK3gIQ5b4+XrCAYBeodyoy/qFxR5HnaoZmb5eB068GBqFkhsUK/JR6m5TM3IrZWyLB0a0A9XzRFCWrcHL97Vk0ZYeHNs4AYdIA6n7ZHCFvQixPw7Flt3/ZnA2USgZnmKcBCCycJAfAsH/DCaXADMg5Bqd2eN4bQTCZ1wCEb+nszxBhBY6n/rZLZ+0wY/MYiGjfxdMEtaBY5yx89SQGl4BudGWbrwCYBEAKkGIAn8HK7sLPykEtn/8/zE19fO7n0IAAAAAASUVORK5CYII=\"\n",
    "     style=\"display:block;margin:auto;width:5%\"/>\n",
    "<br>\n",
    "\n",
    "<div style=\"text-align:center; font-size:200%;\">\n",
    " <b>Beispiel: Namen von Typen</b>\n",
    "</div>\n",
    "<br/>\n",
    "<div style=\"text-align:center; font-size:120%;\">Dr. Matthias Hölzl</div>\n",
    "<br/>\n",
    "<div style=\"text-align:center;\">Coding-Akademie München</div>\n",
    "<br/>\n",
    "<!-- 03 Beispiel Namen von Typen.ipynb -->\n",
    "<!-- slides/module_400_templates/topic_200_type_name.cpp -->"
   ]
  },
  {
   "cell_type": "markdown",
   "id": "11ba41e58f54f42d",
   "metadata": {
    "lang": "de",
    "slideshow": {
     "slide_type": "slide"
    },
    "tags": [
     "slide"
    ]
   },
   "source": [
    "\n",
    "- C++ hat keine guten Reflection-Fähigkeiten\n",
    "  - Laufzeit-Informationen über Typen (RTTI) sind sehr begrenzt\n",
    "  - Keine gute Möglichkeit, den Namen eines Typs zur Laufzeit zu ermitteln\n",
    "  - Wert von `std::type_info::name()` ist nicht standardisiert\n",
    "- Aber: Compiler kennt die Namen der Typen\n",
    "  - Können wir den Compiler dazu bringen, uns diese Namen zur Verfügung zu stellen?"
   ]
  },
  {
   "cell_type": "code",
   "execution_count": null,
   "id": "27c23835e750a187",
   "metadata": {
    "tags": [
     "keep"
    ]
   },
   "outputs": [],
   "source": [
    "#include <typeinfo>"
   ]
  },
  {
   "cell_type": "code",
   "execution_count": null,
   "id": "146f76f2ed367f90",
   "metadata": {
    "tags": [
     "keep"
    ]
   },
   "outputs": [],
   "source": [
    "typeid(int).name()"
   ]
  },
  {
   "cell_type": "markdown",
   "id": "c54a7a3a2025b347",
   "metadata": {
    "lang": "de",
    "slideshow": {
     "slide_type": "subslide"
    },
    "tags": [
     "subslide"
    ]
   },
   "source": [
    "\n",
    "## Idee: Template-Metaprogrammierung\n",
    "\n",
    "- Funktion `type_name<T>()`\n",
    "  - gibt den Namen des Typs `T` zurück\n",
    "  - kann für benutzerdefinierte Typen erweitert werden"
   ]
  },
  {
   "cell_type": "markdown",
   "id": "35659206b43b768f",
   "metadata": {
    "lang": "de",
    "lines_to_next_cell": 2,
    "slideshow": {
     "slide_type": "subslide"
    },
    "tags": [
     "subslide"
    ]
   },
   "source": [
    "\n",
    "## Version 1: Direkte Implementierung"
   ]
  },
  {
   "cell_type": "code",
   "execution_count": null,
   "id": "2b730308c30db6f5",
   "metadata": {
    "tags": [
     "keep"
    ]
   },
   "outputs": [],
   "source": [
    "#include <string>\n",
    "#include <typeinfo>"
   ]
  },
  {
   "cell_type": "code",
   "execution_count": null,
   "id": "c8ebac692aa72098",
   "metadata": {
    "tags": [
     "keep"
    ]
   },
   "outputs": [],
   "source": [
    "template <typename T>\n",
    "std::string type_name_v1()\n",
    "{\n",
    "    std::string type_name{typeid(T).name()};\n",
    "    if (type_name.find(\"class \") == 0) {\n",
    "        type_name.erase(0, 6);\n",
    "    }\n",
    "    return type_name;\n",
    "}"
   ]
  },
  {
   "cell_type": "markdown",
   "id": "1ecadc3b37796743",
   "metadata": {
    "lang": "de",
    "slideshow": {
     "slide_type": "subslide"
    },
    "tags": [
     "subslide"
    ]
   },
   "source": [
    "\n",
    "- Template-Spezialisierung für bestimmte Typen"
   ]
  },
  {
   "cell_type": "code",
   "execution_count": null,
   "id": "4a939bd0f4cc6164",
   "metadata": {
    "slideshow": {
     "slide_type": "subslide"
    },
    "tags": [
     "keep",
     "subslide"
    ]
   },
   "outputs": [],
   "source": [
    "template <>\n",
    "std::string type_name_v1<int>()\n",
    "{\n",
    "    return \"int\";\n",
    "}"
   ]
  },
  {
   "cell_type": "code",
   "execution_count": null,
   "id": "7f6e39d2dc88b9fd",
   "metadata": {
    "tags": [
     "keep"
    ]
   },
   "outputs": [],
   "source": [
    "type_name_v1<int>()"
   ]
  },
  {
   "cell_type": "code",
   "execution_count": null,
   "id": "b70a108944926c0a",
   "metadata": {
    "tags": [
     "keep"
    ]
   },
   "outputs": [],
   "source": [
    "type_name_v1<std::string>()"
   ]
  },
  {
   "cell_type": "code",
   "execution_count": null,
   "id": "33abd4cfcb72f9d5",
   "metadata": {
    "tags": [
     "keep"
    ]
   },
   "outputs": [],
   "source": [
    "type_name_v1<std::vector<int>>()"
   ]
  },
  {
   "cell_type": "markdown",
   "id": "4c72efce66ddfa99",
   "metadata": {
    "lang": "de",
    "slideshow": {
     "slide_type": "subslide"
    },
    "tags": [
     "subslide"
    ]
   },
   "source": [
    "\n",
    "- Funktioniert, aber:\n",
    "  - `type_name_v1<std::vector<int>>()` ist nicht sehr schön\n",
    "  - Es ist schwierig einen passenden Overload zu definieren\n",
    "  - Partielle Spezialisierung von Funktions-Templates ist nicht erlaubt"
   ]
  },
  {
   "cell_type": "code",
   "execution_count": null,
   "id": "824c7280c5f672c8",
   "metadata": {
    "tags": [
     "keep"
    ]
   },
   "outputs": [],
   "source": [
    "// template <typename T>\n",
    "// std::string type_name_v1<std::vector<T>>()\n",
    "// {\n",
    "//     return \"std::vector<\" + type_name_v1<T>() + \">\";\n",
    "// }"
   ]
  },
  {
   "cell_type": "markdown",
   "id": "08f3ba9780fb8645",
   "metadata": {
    "lang": "de",
    "slideshow": {
     "slide_type": "subslide"
    },
    "tags": [
     "subslide"
    ]
   },
   "source": [
    "\n",
    "## Version 2: Type-Traits\n",
    "\n",
    "- Im Gegensatz zu Funktionen können Klassen partiell spezialisiert werden\n",
    "- Wir können also eine Klasse `TypeName` definieren, die den Namen eines Typs enthält\n",
    "- Die Klasse `TypeName` kann dann partiell spezialisiert werden:"
   ]
  },
  {
   "cell_type": "code",
   "execution_count": null,
   "id": "0406f77931e06f97",
   "metadata": {
    "tags": [
     "keep"
    ]
   },
   "outputs": [],
   "source": [
    "template <typename T>\n",
    "struct TypeName\n",
    "{\n",
    "    static std::string name()\n",
    "    {\n",
    "        std::string type_name{typeid(T).name()};\n",
    "        if (type_name.find(\"class \") == 0) {\n",
    "            type_name.erase(0, 6);\n",
    "        }\n",
    "        return type_name;\n",
    "    }\n",
    "};"
   ]
  },
  {
   "cell_type": "code",
   "execution_count": null,
   "id": "cbf46c92e3f88d6d",
   "metadata": {
    "slideshow": {
     "slide_type": "subslide"
    },
    "tags": [
     "subslide",
     "keep"
    ]
   },
   "outputs": [],
   "source": [
    "template <>\n",
    "struct TypeName<int>\n",
    "{\n",
    "    static std::string name()\n",
    "    {\n",
    "        return \"int\";\n",
    "    }\n",
    "};"
   ]
  },
  {
   "cell_type": "code",
   "execution_count": null,
   "id": "9913ec56d0daa485",
   "metadata": {
    "slideshow": {
     "slide_type": "subslide"
    },
    "tags": [
     "subslide",
     "keep"
    ]
   },
   "outputs": [],
   "source": [
    "template <>\n",
    "struct TypeName<std::string>\n",
    "{\n",
    "    static std::string name()\n",
    "    {\n",
    "        return \"std::string\";\n",
    "    }\n",
    "};"
   ]
  },
  {
   "cell_type": "code",
   "execution_count": null,
   "id": "9db9bd80a6b0f721",
   "metadata": {
    "slideshow": {
     "slide_type": "subslide"
    },
    "tags": [
     "subslide",
     "keep"
    ]
   },
   "outputs": [],
   "source": [
    "template <typename T>\n",
    "struct TypeName<std::vector<T>>\n",
    "{\n",
    "    static std::string name()\n",
    "    {\n",
    "        return \"std::vector<\" + TypeName<T>::name() + \">\";\n",
    "    }\n",
    "};"
   ]
  },
  {
   "cell_type": "code",
   "execution_count": null,
   "id": "7885945b26e71d49",
   "metadata": {
    "slideshow": {
     "slide_type": "subslide"
    },
    "tags": [
     "subslide",
     "keep"
    ]
   },
   "outputs": [],
   "source": [
    "TypeName<int>::name()"
   ]
  },
  {
   "cell_type": "code",
   "execution_count": null,
   "id": "4eb0475b8a8777d0",
   "metadata": {
    "tags": [
     "keep"
    ]
   },
   "outputs": [],
   "source": [
    "TypeName<bool>::name()"
   ]
  },
  {
   "cell_type": "code",
   "execution_count": null,
   "id": "7ceb50d920016bb1",
   "metadata": {
    "tags": [
     "keep"
    ]
   },
   "outputs": [],
   "source": [
    "TypeName<std::string>::name()"
   ]
  },
  {
   "cell_type": "code",
   "execution_count": null,
   "id": "86f405cd9700e37a",
   "metadata": {
    "tags": [
     "keep"
    ]
   },
   "outputs": [],
   "source": [
    "TypeName<std::vector<int>>::name()"
   ]
  },
  {
   "cell_type": "code",
   "execution_count": null,
   "id": "aa61e81041155ee7",
   "metadata": {
    "tags": [
     "keep"
    ]
   },
   "outputs": [],
   "source": [
    "TypeName<std::vector<bool>>::name()"
   ]
  },
  {
   "cell_type": "code",
   "execution_count": null,
   "id": "e12f49273f670e79",
   "metadata": {
    "tags": [
     "keep"
    ]
   },
   "outputs": [],
   "source": [
    "TypeName<std::vector<std::vector<std::string>>>::name()"
   ]
  },
  {
   "cell_type": "markdown",
   "id": "37ef0f3cc375f8c9",
   "metadata": {
    "lang": "de",
    "slideshow": {
     "slide_type": "subslide"
    },
    "tags": [
     "subslide"
    ]
   },
   "source": [
    "\n",
    "- Eine solche Struct nennen wir einen *Type-Trait*\n",
    "- Wir können jetzt das Erzeugen des Type-Traits in eine Funktion auslagern:"
   ]
  },
  {
   "cell_type": "code",
   "execution_count": null,
   "id": "47ade01e9e7b8900",
   "metadata": {},
   "outputs": [],
   "source": []
  },
  {
   "cell_type": "code",
   "execution_count": null,
   "id": "3552deeb2fdb5d94",
   "metadata": {},
   "outputs": [],
   "source": []
  },
  {
   "cell_type": "code",
   "execution_count": null,
   "id": "0b546bad53b5e3a8",
   "metadata": {},
   "outputs": [],
   "source": []
  },
  {
   "cell_type": "code",
   "execution_count": null,
   "id": "d571d50600d2a2d4",
   "metadata": {},
   "outputs": [],
   "source": []
  },
  {
   "cell_type": "markdown",
   "id": "8a8a5e4c214c8885",
   "metadata": {
    "lang": "de",
    "slideshow": {
     "slide_type": "subslide"
    },
    "tags": [
     "subslide"
    ]
   },
   "source": [
    "\n",
    "- Im Header `type_name.hpp` finden Sie eine vollständigere Implementierung\n",
    "- Der Header definiert auch zwei Macros\n",
    "  - `DEFINE_TYPE_NAME(T)`, das die partielle Spezialisierung für `T`\n",
    "    definiert\n",
    "  - `DEFINE_TYPE_NAME_ALIAS(T, U)`, der eine partielle Spezialisierung für\n",
    "    `T` definiert, die `U` als Namen verwendet\n",
    "  - Um Namenskonflikte zu vermeiden, definiert die Version von\n",
    "    `type_name.hpp`, die in diesem Notebook verwendet wird, den Trait\n",
    "    `TypeName` im Namespace `tn`\n",
    "  - Daher müssen die Macros auch in diesem Namespace aufgerufen werden"
   ]
  },
  {
   "cell_type": "code",
   "execution_count": null,
   "id": "c1c879be7c32cffb",
   "metadata": {
    "tags": [
     "keep"
    ]
   },
   "outputs": [],
   "source": [
    "#include \"type_name.hpp\""
   ]
  },
  {
   "cell_type": "code",
   "execution_count": null,
   "id": "6d89345441d2e38d",
   "metadata": {
    "slideshow": {
     "slide_type": "subslide"
    },
    "tags": [
     "keep",
     "subslide"
    ]
   },
   "outputs": [],
   "source": [
    "type_name<int>()"
   ]
  },
  {
   "cell_type": "code",
   "execution_count": null,
   "id": "b71126f109e58759",
   "metadata": {
    "tags": [
     "keep"
    ]
   },
   "outputs": [],
   "source": [
    "struct MyStruct\n",
    "{\n",
    "    int x;\n",
    "    std::string y;\n",
    "};"
   ]
  },
  {
   "cell_type": "code",
   "execution_count": null,
   "id": "40ce21467a4f0b9b",
   "metadata": {
    "tags": [
     "keep"
    ]
   },
   "outputs": [],
   "source": [
    "namespace tn {\n",
    "using ::MyStruct;\n",
    "DEFINE_TYPE_NAME(MyStruct);\n",
    "}"
   ]
  },
  {
   "cell_type": "code",
   "execution_count": null,
   "id": "da5ccb1be84a1342",
   "metadata": {
    "tags": [
     "keep"
    ]
   },
   "outputs": [],
   "source": [
    "type_name<MyStruct>()"
   ]
  },
  {
   "cell_type": "code",
   "execution_count": null,
   "id": "056a7ac49e175247",
   "metadata": {
    "slideshow": {
     "slide_type": "subslide"
    },
    "tags": [
     "keep",
     "subslide"
    ]
   },
   "outputs": [],
   "source": [
    "type_name<const int&>()"
   ]
  },
  {
   "cell_type": "code",
   "execution_count": null,
   "id": "ffebc30113ed75e3",
   "metadata": {
    "tags": [
     "keep"
    ]
   },
   "outputs": [],
   "source": [
    "type_name<const int*>()"
   ]
  },
  {
   "cell_type": "code",
   "execution_count": null,
   "id": "bf602674718659d4",
   "metadata": {
    "tags": [
     "keep"
    ]
   },
   "outputs": [],
   "source": [
    "type_name<int* const>()"
   ]
  },
  {
   "cell_type": "code",
   "execution_count": null,
   "id": "6ab52c26d9e9f621",
   "metadata": {
    "tags": [
     "keep"
    ]
   },
   "outputs": [],
   "source": [
    "type_name<const int* const>()"
   ]
  },
  {
   "cell_type": "code",
   "execution_count": null,
   "id": "6e4a927c42316fa4",
   "metadata": {
    "tags": [
     "keep"
    ]
   },
   "outputs": [],
   "source": [
    "type_name<const std::vector<const MyStruct*>&>()"
   ]
  },
  {
   "cell_type": "code",
   "execution_count": null,
   "id": "6b4e03423667dbb7",
   "metadata": {},
   "outputs": [],
   "source": []
  }
 ],
 "metadata": {
  "kernelspec": {
   "display_name": "C++17",
   "language": "C++17",
   "name": "xcpp17"
  },
  "language_info": {
   "codemirror_mode": "text/x-c++src",
   "file_extension": ".cpp",
   "mimetype": "text/x-c++src",
   "name": "c++",
   "version": "17"
  }
 },
 "nbformat": 4,
 "nbformat_minor": 5
}
