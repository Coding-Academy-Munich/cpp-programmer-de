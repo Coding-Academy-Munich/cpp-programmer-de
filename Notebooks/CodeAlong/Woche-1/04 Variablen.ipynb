{
 "cells": [
  {
   "cell_type": "markdown",
   "id": "7dde9e8cfe0f458c",
   "metadata": {
    "lang": "de",
    "slideshow": {
     "slide_type": "slide"
    },
    "tags": [
     "slide"
    ]
   },
   "source": [
    "\n",
    "<img src=\"data:image/png;base64,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\"\n",
    "     style=\"display:block;margin:auto;width:5%\"/>\n",
    "<br>\n",
    "\n",
    "<div style=\"text-align:center; font-size:200%;\">\n",
    " <b>Variablen</b>\n",
    "</div>\n",
    "<br/>\n",
    "<div style=\"text-align:center; font-size:120%;\">Dr. Matthias Hölzl</div>\n",
    "<br/>\n",
    "<div style=\"text-align:center;\">Coding-Akademie München</div>\n",
    "<br/>\n",
    "<!-- 04 Variablen.ipynb -->\n",
    "<!-- slides/module_120_basics/topic_130_variables.cpp -->"
   ]
  },
  {
   "cell_type": "markdown",
   "id": "0b94ca894ef365a3",
   "metadata": {
    "lang": "de",
    "slideshow": {
     "slide_type": "subslide"
    },
    "tags": [
     "subslide"
    ]
   },
   "source": [
    "\n",
    "# Objekte und Variablen\n",
    "\n",
    "- Ein *Objekt* in C++\n",
    "    - ist ein Speicherbereich\n",
    "    - mit einem bestimmten Typ\n",
    "- Eine *Variable*\n",
    "    - ist ein benanntes Objekt"
   ]
  },
  {
   "cell_type": "markdown",
   "id": "a2ba1dcc8e6a1493",
   "metadata": {
    "lang": "de",
    "slideshow": {
     "slide_type": "subslide"
    },
    "tags": [
     "subslide"
    ]
   },
   "source": [
    "\n",
    "## Variablendefinition\n",
    "\n",
    "- Die **Definition** einer Variablen\n",
    "    - reserviert den Speicherplatz für die Variable und\n",
    "    - führt den Namen ins Programm ein.\n",
    "- Eine Variablendefinition *kann* die Variable initialisieren."
   ]
  },
  {
   "cell_type": "code",
   "execution_count": null,
   "id": "cef58fde5c579eb8",
   "metadata": {},
   "outputs": [],
   "source": []
  },
  {
   "cell_type": "code",
   "execution_count": null,
   "id": "ca0e1bce24fbaf26",
   "metadata": {},
   "outputs": [],
   "source": []
  },
  {
   "cell_type": "code",
   "execution_count": null,
   "id": "e46b30f130a97aed",
   "metadata": {},
   "outputs": [],
   "source": []
  },
  {
   "cell_type": "code",
   "execution_count": null,
   "id": "471633e8d365f532",
   "metadata": {},
   "outputs": [],
   "source": []
  },
  {
   "cell_type": "markdown",
   "id": "4870a0d8d350727a",
   "metadata": {
    "lang": "de",
    "slideshow": {
     "slide_type": "subslide"
    },
    "tags": [
     "subslide"
    ]
   },
   "source": [
    "\n",
    "- Eine initialisierte Variable hat einen definierten Wert.\n",
    "- Uninitialisierte Variablen können beliebige Werte enthalten.\n",
    "- Das Lesen einer uninitialisierten Variable ist undefiniertes Verhalten und\n",
    "  kann zu Absturz des Programms führen."
   ]
  },
  {
   "cell_type": "markdown",
   "id": "60243a349e374f74",
   "metadata": {
    "lang": "de",
    "slideshow": {
     "slide_type": "subslide"
    },
    "tags": [
     "subslide"
    ]
   },
   "source": [
    "\n",
    "- Variablendefinition:\n",
    "  - *Typ* *Name* `;`\n",
    "  - Beispiel: `int i;`\n",
    "  - Optionale Initialisierung\n",
    "  - Beispiel: `int i{1};`\n",
    "- Falls keine explizite Initialisierung erfolgt, hängt es vom Typ der Variablen\n",
    "  und der Stelle im Programm ab, ob die Variable initialisiert ist oder nicht."
   ]
  },
  {
   "cell_type": "markdown",
   "id": "69d3106c035374f0",
   "metadata": {
    "lang": "de",
    "slideshow": {
     "slide_type": "subslide"
    },
    "tags": [
     "subslide"
    ]
   },
   "source": [
    "\n",
    "### Core Guidelines zur Initialisierung\n",
    "\n",
    "- [ES.20: Always initialize an\n",
    "  object](https://isocpp.github.io/CppCoreGuidelines/CppCoreGuidelines#es20-always-initialize-an-object)\n",
    "- [ES.21: Don’t introduce a variable (or constant) before you need to use\n",
    "  it](https://isocpp.github.io/CppCoreGuidelines/CppCoreGuidelines#es21-dont-introduce-a-variable-or-constant-before-you-need-to-use-it)\n",
    "- [ES.22: Don’t declare a variable until you have a value to initialize it\n",
    "  with](https://isocpp.github.io/CppCoreGuidelines/CppCoreGuidelines#es22-dont-declare-a-variable-until-you-have-a-value-to-initialize-it-with)"
   ]
  },
  {
   "cell_type": "markdown",
   "id": "abb617104529b38f",
   "metadata": {
    "lang": "de",
    "slideshow": {
     "slide_type": "subslide"
    },
    "tags": [
     "subslide"
    ]
   },
   "source": [
    "\n",
    "Es gibt mehrere Varianten für die Initialisierung von Variablen:"
   ]
  },
  {
   "cell_type": "code",
   "execution_count": null,
   "id": "7cc1120d5597fb71",
   "metadata": {},
   "outputs": [],
   "source": []
  },
  {
   "cell_type": "code",
   "execution_count": null,
   "id": "957b5d574e8b828e",
   "metadata": {},
   "outputs": [],
   "source": []
  },
  {
   "cell_type": "code",
   "execution_count": null,
   "id": "0733f63081f751fc",
   "metadata": {},
   "outputs": [],
   "source": []
  },
  {
   "cell_type": "code",
   "execution_count": null,
   "id": "2b332bc0ce1df18f",
   "metadata": {},
   "outputs": [],
   "source": []
  },
  {
   "cell_type": "code",
   "execution_count": null,
   "id": "f8f678bfafb04d1a",
   "metadata": {},
   "outputs": [],
   "source": []
  },
  {
   "cell_type": "markdown",
   "id": "f1da01434edbfc84",
   "metadata": {
    "lang": "de",
    "slideshow": {
     "slide_type": "subslide"
    },
    "tags": [
     "subslide"
    ]
   },
   "source": [
    "\n",
    "### Unterschiede bei der Initialisierung\n",
    "\n",
    "- Manche Formen der Initialisierung führen verlustbehaftete Konversionen\n",
    "  durch.\n",
    "- Die Initialisierung mit Klammern `int i(1)` kann manchmal vom Compiler als\n",
    "  Funktionsdeklaration interpretiert werden (\"most vexing parse\")"
   ]
  },
  {
   "cell_type": "code",
   "execution_count": null,
   "id": "258831ca12500cc3",
   "metadata": {},
   "outputs": [],
   "source": []
  },
  {
   "cell_type": "code",
   "execution_count": null,
   "id": "4d5a16a3457af0c4",
   "metadata": {},
   "outputs": [],
   "source": []
  },
  {
   "cell_type": "code",
   "execution_count": null,
   "id": "f7dd97d9b5191a11",
   "metadata": {},
   "outputs": [],
   "source": []
  },
  {
   "cell_type": "code",
   "execution_count": null,
   "id": "04842dac18986f0f",
   "metadata": {},
   "outputs": [],
   "source": []
  },
  {
   "cell_type": "code",
   "execution_count": null,
   "id": "734287b2baa7f663",
   "metadata": {},
   "outputs": [],
   "source": []
  },
  {
   "cell_type": "code",
   "execution_count": null,
   "id": "2d9ca356a062a76f",
   "metadata": {
    "lang": "de",
    "slideshow": {
     "slide_type": "subslide"
    },
    "tags": [
     "subslide"
    ]
   },
   "outputs": [],
   "source": []
  },
  {
   "cell_type": "code",
   "execution_count": null,
   "id": "1afec59ad2322cc4",
   "metadata": {
    "lang": "de"
   },
   "outputs": [],
   "source": []
  },
  {
   "cell_type": "markdown",
   "id": "4e20c46cda450973",
   "metadata": {
    "lang": "de",
    "slideshow": {
     "slide_type": "subslide"
    },
    "tags": [
     "subslide"
    ]
   },
   "source": [
    "\n",
    "- Im Allgemeinen ist die `{}`-Syntax die bevorzugte Variante.\n",
    "- [Core Guidelines ES.23: Prefer the `{}`-initializer\n",
    "  Syntax](https://isocpp.github.io/CppCoreGuidelines/CppCoreGuidelines#Res-list)"
   ]
  },
  {
   "cell_type": "markdown",
   "id": "e2f9e7cba0ba36ae",
   "metadata": {
    "lang": "de",
    "slideshow": {
     "slide_type": "subslide"
    },
    "tags": [
     "subslide"
    ]
   },
   "source": [
    "\n",
    "### Value-Initialisierung\n",
    "\n",
    "- Wenn ein Objekt mit leerem Initialisierer erzeugt wird, spricht man von\n",
    "  [*Value-Initialisierung*](https://en.cppreference.com/w/cpp/language/value_initialization).\n",
    "- Damit kann man sicherstellen, dass ein Objekt mit einem Standardwert\n",
    "  initialisiert wird ohne ihn explizit angeben zu müssen."
   ]
  },
  {
   "cell_type": "code",
   "execution_count": null,
   "id": "577123b21176878b",
   "metadata": {
    "lang": "de"
   },
   "outputs": [],
   "source": []
  },
  {
   "cell_type": "markdown",
   "id": "cdf5002b82f5fbd0",
   "metadata": {
    "lang": "de",
    "slideshow": {
     "slide_type": "subslide"
    },
    "tags": [
     "subslide"
    ]
   },
   "source": [
    "\n",
    "### `{}`-Syntax der Variablendefinition\n",
    "\n",
    "- Die `{}`-Syntax der Variablendefinition ist:\n",
    "\n",
    "```cpp\n",
    "T var{};\n",
    "T var{arg};\n",
    "T var{arg1, arg2, ...};\n",
    "```"
   ]
  },
  {
   "cell_type": "markdown",
   "id": "3a41dc07b7530433",
   "metadata": {
    "lang": "de",
    "slideshow": {
     "slide_type": "subslide"
    },
    "tags": [
     "subslide"
    ]
   },
   "source": [
    "\n",
    "### Gleichzeitige Definition mehrerer Variablen\n",
    "\n",
    "- Wir können mehrere Variablen gleichzeitig definieren.\n",
    "- Die Variablen können mit allen gezeigten Initialisierungsformen\n",
    "  initialisiert werden oder uninitialisiert bleiben.\n",
    "- Das kann leicht unübersichtlich werden, vor allem wenn wir Modifikatoren\n",
    "  verwenden."
   ]
  },
  {
   "cell_type": "code",
   "execution_count": null,
   "id": "7fbf03320b78f7f3",
   "metadata": {},
   "outputs": [],
   "source": []
  },
  {
   "cell_type": "code",
   "execution_count": null,
   "id": "be5f72d3ae438500",
   "metadata": {},
   "outputs": [],
   "source": []
  },
  {
   "cell_type": "code",
   "execution_count": null,
   "id": "3c75d9d60d103751",
   "metadata": {},
   "outputs": [],
   "source": []
  },
  {
   "cell_type": "markdown",
   "id": "427fab9b11c30e8c",
   "metadata": {
    "lang": "de",
    "slideshow": {
     "slide_type": "subslide"
    },
    "tags": [
     "subslide"
    ]
   },
   "source": [
    "\n",
    "### Core Guidelines\n",
    "\n",
    "- [ES.10: Declare one name (only) per\n",
    "  declaration](https://isocpp.github.io/CppCoreGuidelines/CppCoreGuidelines#es10-declare-one-name-only-per-declaration)"
   ]
  },
  {
   "cell_type": "markdown",
   "id": "e27c9a5627485fac",
   "metadata": {
    "lang": "de",
    "slideshow": {
     "slide_type": "subslide"
    },
    "tags": [
     "subslide"
    ]
   },
   "source": [
    "\n",
    "## Zuweisung von Werten\n",
    "\n",
    "- `=` ist der Zuweisungsoperator.\n",
    "- Bei der Zuweisung wird der Typ der Variablen nicht mehr angegeben.\n",
    "- Die Variable muss bereits definiert sein, bevor wir ihr einen Wert\n",
    "  zuweisen."
   ]
  },
  {
   "cell_type": "code",
   "execution_count": null,
   "id": "c02eb2d369c5afa4",
   "metadata": {},
   "outputs": [],
   "source": []
  },
  {
   "cell_type": "code",
   "execution_count": null,
   "id": "077bbdfc713ebc3b",
   "metadata": {},
   "outputs": [],
   "source": []
  },
  {
   "cell_type": "code",
   "execution_count": null,
   "id": "b3005869eecb32e4",
   "metadata": {},
   "outputs": [],
   "source": []
  },
  {
   "cell_type": "code",
   "execution_count": null,
   "id": "47bf8e4b4eb4983d",
   "metadata": {},
   "outputs": [],
   "source": []
  },
  {
   "cell_type": "code",
   "execution_count": null,
   "id": "544c8ee5ddc35f0f",
   "metadata": {
    "tags": [
     "keep"
    ]
   },
   "outputs": [],
   "source": [
    "// an_undefined_variable = 1;"
   ]
  },
  {
   "cell_type": "markdown",
   "id": "a71e9d4223d48bef",
   "metadata": {
    "lang": "de",
    "slideshow": {
     "slide_type": "subslide"
    },
    "tags": [
     "subslide"
    ]
   },
   "source": [
    "\n",
    "- Zuweisung"
   ]
  },
  {
   "cell_type": "code",
   "execution_count": null,
   "id": "038227c39f87c106",
   "metadata": {
    "tags": [
     "keep"
    ]
   },
   "outputs": [],
   "source": [
    "i = 123;"
   ]
  },
  {
   "cell_type": "markdown",
   "id": "81fba537099cbe93",
   "metadata": {
    "lang": "de"
   },
   "source": [
    "\n",
    "- Keine Zuweisung sondern neue Definition:"
   ]
  },
  {
   "cell_type": "code",
   "execution_count": null,
   "id": "aa0b3c50ee4a6017",
   "metadata": {
    "tags": [
     "keep"
    ]
   },
   "outputs": [],
   "source": [
    "int i = 1;"
   ]
  },
  {
   "cell_type": "markdown",
   "id": "e4eb6b271193aa4b",
   "metadata": {
    "lang": "de"
   },
   "source": [
    "\n",
    "Mehrfache Definitionen der gleichen Variablen (in einem Scope) sind nur in\n",
    "Notebooks erlaubt, nicht in C++-Programmen!"
   ]
  },
  {
   "cell_type": "markdown",
   "id": "1e5c4c4c05598567",
   "metadata": {
    "lang": "de",
    "lines_to_next_cell": 2,
    "slideshow": {
     "slide_type": "subslide"
    },
    "tags": [
     "subslide"
    ]
   },
   "source": [
    "\n",
    "- Wir können auf der rechten Seite der Zuweisung den alten Wert der Variablen\n",
    "  verwenden."
   ]
  },
  {
   "cell_type": "code",
   "execution_count": null,
   "id": "f2ac7aa2032d8853",
   "metadata": {
    "tags": [
     "keep"
    ]
   },
   "outputs": [],
   "source": [
    "int i{1};"
   ]
  },
  {
   "cell_type": "code",
   "execution_count": null,
   "id": "96e80eee89dc6e74",
   "metadata": {},
   "outputs": [],
   "source": []
  },
  {
   "cell_type": "code",
   "execution_count": null,
   "id": "5df1bbcafdb856d8",
   "metadata": {},
   "outputs": [],
   "source": []
  },
  {
   "cell_type": "markdown",
   "id": "4aaebf8f037fa4f2",
   "metadata": {
    "lang": "de",
    "slideshow": {
     "slide_type": "subslide"
    },
    "tags": [
     "subslide"
    ]
   },
   "source": [
    "\n",
    "- Der Typ der rechten Seite muss mit dem Typ der linken Seite kompatibel sein.\n",
    "- Dabei werden implizite Konversionen durchgeführt.\n",
    "- Konversionen können verlustbehaftet sein."
   ]
  },
  {
   "cell_type": "code",
   "execution_count": null,
   "id": "c131688fc872cc0f",
   "metadata": {},
   "outputs": [],
   "source": []
  },
  {
   "cell_type": "code",
   "execution_count": null,
   "id": "fa6468a922c52f8e",
   "metadata": {},
   "outputs": [],
   "source": []
  },
  {
   "cell_type": "code",
   "execution_count": null,
   "id": "af81fd2b118fc4b3",
   "metadata": {},
   "outputs": [],
   "source": []
  },
  {
   "cell_type": "code",
   "execution_count": null,
   "id": "c9b4578f9b833751",
   "metadata": {
    "slideshow": {
     "slide_type": "subslide"
    },
    "tags": [
     "keep",
     "subslide"
    ]
   },
   "outputs": [],
   "source": [
    "int i{1};"
   ]
  },
  {
   "cell_type": "code",
   "execution_count": null,
   "id": "990106164f382976",
   "metadata": {},
   "outputs": [],
   "source": []
  },
  {
   "cell_type": "code",
   "execution_count": null,
   "id": "007e3a78e2ba0824",
   "metadata": {},
   "outputs": [],
   "source": []
  },
  {
   "cell_type": "code",
   "execution_count": null,
   "id": "3ddab4383328bd7e",
   "metadata": {},
   "outputs": [],
   "source": []
  },
  {
   "cell_type": "markdown",
   "id": "5f4847f6fe87ab43",
   "metadata": {
    "lang": "de",
    "slideshow": {
     "slide_type": "subslide"
    },
    "tags": [
     "subslide"
    ]
   },
   "source": [
    "\n",
    "- Wir können den Zuweisungsoperator auch mit anderen Operatoren kombinieren:"
   ]
  },
  {
   "cell_type": "code",
   "execution_count": null,
   "id": "6be1bac62ecc2562",
   "metadata": {
    "tags": [
     "keep"
    ]
   },
   "outputs": [],
   "source": [
    "int i{1};"
   ]
  },
  {
   "cell_type": "code",
   "execution_count": null,
   "id": "746ba778c06e1683",
   "metadata": {},
   "outputs": [],
   "source": []
  },
  {
   "cell_type": "code",
   "execution_count": null,
   "id": "82b4de25b9c1092d",
   "metadata": {
    "lines_to_next_cell": 2
   },
   "outputs": [],
   "source": []
  },
  {
   "cell_type": "markdown",
   "id": "2af5329225899893",
   "metadata": {
    "lang": "de",
    "slideshow": {
     "slide_type": "subslide"
    },
    "tags": [
     "subslide"
    ]
   },
   "source": [
    "\n",
    "- `i += 1` ist eine Kurzform für `i = i + 1;`\n",
    "- Entsprechend gibt es auch `-=`, `*=`, `/=`, `%=`, usw."
   ]
  },
  {
   "cell_type": "code",
   "execution_count": null,
   "id": "2623b47a2d511398",
   "metadata": {
    "tags": [
     "keep"
    ]
   },
   "outputs": [],
   "source": [
    "int i{2};"
   ]
  },
  {
   "cell_type": "code",
   "execution_count": null,
   "id": "13ad17f6a5b1980e",
   "metadata": {},
   "outputs": [],
   "source": []
  },
  {
   "cell_type": "code",
   "execution_count": null,
   "id": "c3c0336b0de94a8a",
   "metadata": {
    "lines_to_next_cell": 2
   },
   "outputs": [],
   "source": []
  },
  {
   "cell_type": "markdown",
   "id": "1a444b6143414a19",
   "metadata": {
    "lang": "de",
    "slideshow": {
     "slide_type": "subslide"
    },
    "tags": [
     "subslide"
    ]
   },
   "source": [
    "\n",
    "## Mini-Workshop: Variablen\n",
    "\n",
    "Welche der folgenden Initialisierungen sind gültig?\n",
    "\n",
    "Versuchen Sie sich zu überlegen, welches Ergebnis Sie erwarten\n",
    "und überprüfen Sie es dann indem Sie die Zelle evaluieren."
   ]
  },
  {
   "cell_type": "code",
   "execution_count": null,
   "id": "ad136be615ae25da",
   "metadata": {
    "tags": [
     "keep"
    ]
   },
   "outputs": [],
   "source": [
    "// int i1 = 1;"
   ]
  },
  {
   "cell_type": "code",
   "execution_count": null,
   "id": "200951dbac5836fa",
   "metadata": {
    "tags": [
     "keep"
    ]
   },
   "outputs": [],
   "source": [
    "// signed short i2(65535u);"
   ]
  },
  {
   "cell_type": "code",
   "execution_count": null,
   "id": "69218cd0ccadeef5",
   "metadata": {
    "tags": [
     "keep"
    ]
   },
   "outputs": [],
   "source": [
    "// i2"
   ]
  },
  {
   "cell_type": "code",
   "execution_count": null,
   "id": "9d811f3185e70d90",
   "metadata": {
    "tags": [
     "keep"
    ]
   },
   "outputs": [],
   "source": [
    "// long i3{3};"
   ]
  },
  {
   "cell_type": "code",
   "execution_count": null,
   "id": "068bf595cdc3fab4",
   "metadata": {
    "tags": [
     "keep"
    ]
   },
   "outputs": [],
   "source": [
    "// int i4 = {4.0};"
   ]
  },
  {
   "cell_type": "code",
   "execution_count": null,
   "id": "98ab741169ac02d4",
   "metadata": {
    "tags": [
     "keep"
    ]
   },
   "outputs": [],
   "source": [
    "// int i5 = 4.0;"
   ]
  },
  {
   "cell_type": "code",
   "execution_count": null,
   "id": "0f110e92af94ba18",
   "metadata": {
    "lines_to_next_cell": 2,
    "tags": [
     "keep"
    ]
   },
   "outputs": [],
   "source": [
    "// int i6 = 4.5;"
   ]
  },
  {
   "cell_type": "markdown",
   "id": "e439d82f3d1d29ed",
   "metadata": {
    "lang": "de",
    "slideshow": {
     "slide_type": "subslide"
    },
    "tags": [
     "subslide"
    ]
   },
   "source": [
    "\n",
    "- Was ist der Wert von `v1` und `v2` nach der Ausführung der folgenden\n",
    "  Anweisungen?\n",
    "- (Versuchen Sie, die Werte erst zu bestimmen, ohne die Zelle auszuführen)"
   ]
  },
  {
   "cell_type": "code",
   "execution_count": null,
   "id": "36f11da32d2ea4ee",
   "metadata": {
    "tags": [
     "keep"
    ]
   },
   "outputs": [],
   "source": [
    "int v1{1}, v2{2};\n",
    "v1 = v1 + 1;\n",
    "v1 += v2;\n",
    "v2 *= v2;"
   ]
  },
  {
   "cell_type": "code",
   "execution_count": null,
   "id": "1cd1a1a4ea512d93",
   "metadata": {
    "tags": [
     "keep"
    ]
   },
   "outputs": [],
   "source": [
    "v1"
   ]
  },
  {
   "cell_type": "code",
   "execution_count": null,
   "id": "d7187951c2fbb8a2",
   "metadata": {
    "tags": [
     "keep"
    ]
   },
   "outputs": [],
   "source": [
    "v2"
   ]
  }
 ],
 "metadata": {
  "kernelspec": {
   "display_name": "C++17",
   "language": "C++17",
   "name": "xcpp17"
  },
  "language_info": {
   "codemirror_mode": "text/x-c++src",
   "file_extension": ".cpp",
   "mimetype": "text/x-c++src",
   "name": "c++",
   "version": "17"
  }
 },
 "nbformat": 4,
 "nbformat_minor": 5
}
