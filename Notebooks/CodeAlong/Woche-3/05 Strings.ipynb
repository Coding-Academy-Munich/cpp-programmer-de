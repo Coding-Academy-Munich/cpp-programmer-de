{
 "cells": [
  {
   "cell_type": "markdown",
   "id": "533ad1c6841996ef",
   "metadata": {
    "lang": "de",
    "slideshow": {
     "slide_type": "slide"
    },
    "tags": [
     "slide"
    ]
   },
   "source": [
    "\n",
    "<img src=\"data:image/png;base64,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\"\n",
    "     style=\"display:block;margin:auto;width:5%\"/>\n",
    "<br>\n",
    "\n",
    "<div style=\"text-align:center; font-size:200%;\">\n",
    " <b>Strings</b>\n",
    "</div>\n",
    "<br/>\n",
    "<div style=\"text-align:center; font-size:120%;\">Dr. Matthias Hölzl</div>\n",
    "<br/>\n",
    "<div style=\"text-align:center;\">Coding-Akademie München</div>\n",
    "<br/>\n",
    "<!-- 05 Strings.ipynb -->\n",
    "<!-- slides/module_140_collections/topic_190_strings.cpp -->"
   ]
  },
  {
   "cell_type": "markdown",
   "id": "073f3374126bf69e",
   "metadata": {
    "lang": "de",
    "slideshow": {
     "slide_type": "slide"
    },
    "tags": [
     "slide"
    ]
   },
   "source": [
    "\n",
    "## C++ Strings: `std::string`\n",
    "\n",
    "In den meisten Fällen ist es besser `std::string` anstelle von C-Strings zu\n",
    "verwenden."
   ]
  },
  {
   "cell_type": "markdown",
   "id": "afdfe62f07cde03f",
   "metadata": {
    "lang": "de",
    "slideshow": {
     "slide_type": "subslide"
    },
    "tags": [
     "subslide"
    ]
   },
   "source": [
    "\n",
    "- `empty`: Prüfen, ob String leer ist"
   ]
  },
  {
   "cell_type": "code",
   "execution_count": null,
   "id": "fbe81a04bd548f5f",
   "metadata": {
    "tags": [
     "keep"
    ]
   },
   "outputs": [],
   "source": [
    "std::string str1{\"Hello, World!\"};"
   ]
  },
  {
   "cell_type": "code",
   "execution_count": null,
   "id": "96a6331a3fda78f5",
   "metadata": {
    "tags": [
     "keep"
    ]
   },
   "outputs": [],
   "source": [
    "str1.empty()"
   ]
  },
  {
   "cell_type": "code",
   "execution_count": null,
   "id": "129637435d65e43b",
   "metadata": {
    "tags": [
     "keep"
    ]
   },
   "outputs": [],
   "source": [
    "std::string str2{};"
   ]
  },
  {
   "cell_type": "code",
   "execution_count": null,
   "id": "86f05217ccb2e1e3",
   "metadata": {
    "tags": [
     "keep"
    ]
   },
   "outputs": [],
   "source": [
    "str2.empty()"
   ]
  },
  {
   "cell_type": "markdown",
   "id": "37ebf6b8e301094c",
   "metadata": {
    "lang": "de",
    "slideshow": {
     "slide_type": "subslide"
    },
    "tags": [
     "subslide"
    ]
   },
   "source": [
    "\n",
    "- `length` oder `size`: Länge eines Strings ermitteln"
   ]
  },
  {
   "cell_type": "code",
   "execution_count": null,
   "id": "fdf0d1ed89fe617b",
   "metadata": {
    "tags": [
     "keep"
    ]
   },
   "outputs": [],
   "source": [
    "std::string str{\"Hello, World!\"};"
   ]
  },
  {
   "cell_type": "code",
   "execution_count": null,
   "id": "c811dc22ce216c66",
   "metadata": {
    "tags": [
     "keep"
    ]
   },
   "outputs": [],
   "source": [
    "std::string::size_type length{str.length()};"
   ]
  },
  {
   "cell_type": "code",
   "execution_count": null,
   "id": "03f28b83a0c856fe",
   "metadata": {
    "tags": [
     "keep"
    ]
   },
   "outputs": [],
   "source": [
    "length"
   ]
  },
  {
   "cell_type": "code",
   "execution_count": null,
   "id": "0ff3cf832c743617",
   "metadata": {
    "tags": [
     "keep"
    ]
   },
   "outputs": [],
   "source": [
    "str.size()"
   ]
  },
  {
   "cell_type": "markdown",
   "id": "8afd2d0675d2a15b",
   "metadata": {
    "lang": "de",
    "slideshow": {
     "slide_type": "subslide"
    },
    "tags": [
     "subslide"
    ]
   },
   "source": [
    "\n",
    "- `operator[]`: Zugriff auf einzelne Zeichen"
   ]
  },
  {
   "cell_type": "code",
   "execution_count": null,
   "id": "1a434be912b50e04",
   "metadata": {
    "tags": [
     "keep"
    ]
   },
   "outputs": [],
   "source": [
    "std::string str{\"Hello, World!\"};"
   ]
  },
  {
   "cell_type": "code",
   "execution_count": null,
   "id": "1ed59167ae8f16c4",
   "metadata": {
    "tags": [
     "keep"
    ]
   },
   "outputs": [],
   "source": [
    "str[0]"
   ]
  },
  {
   "cell_type": "code",
   "execution_count": null,
   "id": "21d7b7f6599d00af",
   "metadata": {
    "tags": [
     "keep"
    ]
   },
   "outputs": [],
   "source": [
    "str[1]"
   ]
  },
  {
   "cell_type": "markdown",
   "id": "17161e005d909c03",
   "metadata": {
    "lang": "de",
    "slideshow": {
     "slide_type": "subslide"
    },
    "tags": [
     "subslide"
    ]
   },
   "source": [
    "\n",
    "- `at`: Zugriff auf einzelne Zeichen"
   ]
  },
  {
   "cell_type": "code",
   "execution_count": null,
   "id": "4761d568b67f00dd",
   "metadata": {
    "tags": [
     "keep"
    ]
   },
   "outputs": [],
   "source": [
    "std::string str{\"Hello, World!\"};"
   ]
  },
  {
   "cell_type": "code",
   "execution_count": null,
   "id": "17d2190af43bc213",
   "metadata": {
    "tags": [
     "keep"
    ]
   },
   "outputs": [],
   "source": [
    "str.at(0)"
   ]
  },
  {
   "cell_type": "code",
   "execution_count": null,
   "id": "99c6493d992d34c0",
   "metadata": {
    "tags": [
     "keep"
    ]
   },
   "outputs": [],
   "source": [
    "str.at(1)"
   ]
  },
  {
   "cell_type": "markdown",
   "id": "08152fcad8edc0be",
   "metadata": {
    "lang": "de",
    "slideshow": {
     "slide_type": "subslide"
    },
    "tags": [
     "subslide"
    ]
   },
   "source": [
    "\n",
    "- `clear`: Löschen des Strings"
   ]
  },
  {
   "cell_type": "code",
   "execution_count": null,
   "id": "762b995f0bd949fc",
   "metadata": {
    "tags": [
     "keep"
    ]
   },
   "outputs": [],
   "source": [
    "std::string str{\"Hello, World!\"};"
   ]
  },
  {
   "cell_type": "code",
   "execution_count": null,
   "id": "aeca59a1463450af",
   "metadata": {
    "tags": [
     "keep"
    ]
   },
   "outputs": [],
   "source": [
    "str.clear();"
   ]
  },
  {
   "cell_type": "code",
   "execution_count": null,
   "id": "0dfff584e020fde6",
   "metadata": {
    "tags": [
     "keep"
    ]
   },
   "outputs": [],
   "source": [
    "str"
   ]
  },
  {
   "cell_type": "markdown",
   "id": "0c1d2a295ec42063",
   "metadata": {
    "lang": "de",
    "slideshow": {
     "slide_type": "subslide"
    },
    "tags": [
     "subslide"
    ]
   },
   "source": [
    "\n",
    "- `substr`: Extrahieren eines Teilstrings"
   ]
  },
  {
   "cell_type": "code",
   "execution_count": null,
   "id": "53103a3127e7f6d8",
   "metadata": {
    "tags": [
     "keep"
    ]
   },
   "outputs": [],
   "source": [
    "std::string str{\"Hello, World!\"};"
   ]
  },
  {
   "cell_type": "code",
   "execution_count": null,
   "id": "008c3f36ca95416e",
   "metadata": {
    "tags": [
     "keep"
    ]
   },
   "outputs": [],
   "source": [
    "str.substr(0, 5)"
   ]
  },
  {
   "cell_type": "markdown",
   "id": "e718880b77de5819",
   "metadata": {
    "lang": "de",
    "slideshow": {
     "slide_type": "subslide"
    },
    "tags": [
     "subslide"
    ]
   },
   "source": [
    "\n",
    "- `find`: Ermitteln der Position eines Teilstrings"
   ]
  },
  {
   "cell_type": "code",
   "execution_count": null,
   "id": "a80c5cf41eaa7629",
   "metadata": {
    "tags": [
     "keep"
    ]
   },
   "outputs": [],
   "source": [
    "std::string str{\"Hello, World!\"};"
   ]
  },
  {
   "cell_type": "code",
   "execution_count": null,
   "id": "950981f7414c2ba4",
   "metadata": {
    "tags": [
     "keep"
    ]
   },
   "outputs": [],
   "source": [
    "std::string::size_type pos{str.find(\"World\")};"
   ]
  },
  {
   "cell_type": "code",
   "execution_count": null,
   "id": "8f5f752fc9e5bd73",
   "metadata": {
    "tags": [
     "keep"
    ]
   },
   "outputs": [],
   "source": [
    "pos"
   ]
  },
  {
   "cell_type": "code",
   "execution_count": null,
   "id": "d578e7de511cf270",
   "metadata": {
    "tags": [
     "keep"
    ]
   },
   "outputs": [],
   "source": [
    "std::string::size_type pos{str.find(\"Universe\")};"
   ]
  },
  {
   "cell_type": "code",
   "execution_count": null,
   "id": "608d3e2dd831ab62",
   "metadata": {
    "tags": [
     "keep"
    ]
   },
   "outputs": [],
   "source": [
    "pos"
   ]
  },
  {
   "cell_type": "code",
   "execution_count": null,
   "id": "2783bcf84edfd640",
   "metadata": {
    "tags": [
     "keep"
    ]
   },
   "outputs": [],
   "source": [
    "pos == std::string::npos"
   ]
  },
  {
   "cell_type": "markdown",
   "id": "64b713a4e3c2abfe",
   "metadata": {
    "lang": "de",
    "slideshow": {
     "slide_type": "subslide"
    },
    "tags": [
     "subslide"
    ]
   },
   "source": [
    "\n",
    "- `append`: Verketten von Strings"
   ]
  },
  {
   "cell_type": "code",
   "execution_count": null,
   "id": "4fe8aa4323630c75",
   "metadata": {
    "tags": [
     "keep"
    ]
   },
   "outputs": [],
   "source": [
    "std::string str1{\"Hello\"};\n",
    "std::string str2{\", World!\"};"
   ]
  },
  {
   "cell_type": "code",
   "execution_count": null,
   "id": "ef9bf4ceeec0c109",
   "metadata": {
    "tags": [
     "keep"
    ]
   },
   "outputs": [],
   "source": [
    "str1.append(str2)"
   ]
  },
  {
   "cell_type": "code",
   "execution_count": null,
   "id": "4c7e3b19b74972a2",
   "metadata": {
    "tags": [
     "keep"
    ]
   },
   "outputs": [],
   "source": [
    "str1"
   ]
  },
  {
   "cell_type": "markdown",
   "id": "9d03f6bd56218918",
   "metadata": {
    "lang": "de",
    "slideshow": {
     "slide_type": "subslide"
    },
    "tags": [
     "subslide"
    ]
   },
   "source": [
    "\n",
    "### Vergleichen von Strings\n",
    "\n",
    "- `<`, `<=`, `>`, `>=`\n",
    "- `compare`"
   ]
  },
  {
   "cell_type": "code",
   "execution_count": null,
   "id": "6c14a670e8c33f3e",
   "metadata": {
    "tags": [
     "keep"
    ]
   },
   "outputs": [],
   "source": [
    "std::string str1{\"apple\"};\n",
    "std::string str2{\"banana\"};"
   ]
  },
  {
   "cell_type": "code",
   "execution_count": null,
   "id": "fa433e3dd49a95d5",
   "metadata": {
    "tags": [
     "keep"
    ]
   },
   "outputs": [],
   "source": [
    "str1 < str2"
   ]
  },
  {
   "cell_type": "code",
   "execution_count": null,
   "id": "ee2885f054fad4f0",
   "metadata": {
    "tags": [
     "keep"
    ]
   },
   "outputs": [],
   "source": [
    "str1 <= str2"
   ]
  },
  {
   "cell_type": "code",
   "execution_count": null,
   "id": "f26adc6bb124b017",
   "metadata": {
    "slideshow": {
     "slide_type": "subslide"
    },
    "tags": [
     "subslide",
     "keep"
    ]
   },
   "outputs": [],
   "source": [
    "str1.compare(str2)"
   ]
  },
  {
   "cell_type": "code",
   "execution_count": null,
   "id": "11007b8950b0f45a",
   "metadata": {
    "tags": [
     "keep"
    ]
   },
   "outputs": [],
   "source": [
    "str2.compare(str1)"
   ]
  },
  {
   "cell_type": "code",
   "execution_count": null,
   "id": "a464fec8ed2c2205",
   "metadata": {
    "tags": [
     "keep"
    ]
   },
   "outputs": [],
   "source": [
    "str1.compare(str1)"
   ]
  },
  {
   "cell_type": "markdown",
   "id": "b0e621f713adcdee",
   "metadata": {
    "lang": "de",
    "slideshow": {
     "slide_type": "subslide"
    },
    "tags": [
     "subslide"
    ]
   },
   "source": [
    "\n",
    "### Modifizieren von Strings\n",
    "\n",
    "- `replace`: Ersetzen von Teilstrings"
   ]
  },
  {
   "cell_type": "code",
   "execution_count": null,
   "id": "4ae1188103aceddc",
   "metadata": {
    "tags": [
     "keep"
    ]
   },
   "outputs": [],
   "source": [
    "std::string str{\"Hello, World!\"};"
   ]
  },
  {
   "cell_type": "code",
   "execution_count": null,
   "id": "c5ec0968f1ecaee6",
   "metadata": {
    "tags": [
     "keep"
    ]
   },
   "outputs": [],
   "source": [
    "str.replace(0, 5, \"Goodbye\")"
   ]
  },
  {
   "cell_type": "markdown",
   "id": "91e62039bab33bb2",
   "metadata": {
    "lang": "de",
    "slideshow": {
     "slide_type": "subslide"
    },
    "tags": [
     "subslide"
    ]
   },
   "source": [
    "\n",
    "- `insert`: Einfügen von Teilstrings"
   ]
  },
  {
   "cell_type": "code",
   "execution_count": null,
   "id": "55039953ee27e714",
   "metadata": {
    "tags": [
     "keep"
    ]
   },
   "outputs": [],
   "source": [
    "std::string str{\"Hello, World!\"};"
   ]
  },
  {
   "cell_type": "code",
   "execution_count": null,
   "id": "d73ab31117721421",
   "metadata": {
    "lines_to_next_cell": 2,
    "tags": [
     "keep"
    ]
   },
   "outputs": [],
   "source": [
    "str.insert(5, \"Goodbye, \")"
   ]
  },
  {
   "cell_type": "markdown",
   "id": "10a44a393f6e3759",
   "metadata": {
    "lang": "de",
    "slideshow": {
     "slide_type": "subslide"
    },
    "tags": [
     "subslide"
    ]
   },
   "source": [
    "\n",
    "- `erase`: Löschen von Teilstrings"
   ]
  },
  {
   "cell_type": "code",
   "execution_count": null,
   "id": "75a60250b0b9f088",
   "metadata": {
    "tags": [
     "keep"
    ]
   },
   "outputs": [],
   "source": [
    "std::string str{\"Hello, World!\"};"
   ]
  },
  {
   "cell_type": "code",
   "execution_count": null,
   "id": "546d2544d2c9e099",
   "metadata": {
    "tags": [
     "keep"
    ]
   },
   "outputs": [],
   "source": [
    "str.erase(5, 7)"
   ]
  },
  {
   "cell_type": "markdown",
   "id": "b8a836a785b59070",
   "metadata": {
    "lang": "de",
    "slideshow": {
     "slide_type": "subslide"
    },
    "tags": [
     "subslide"
    ]
   },
   "source": [
    "\n",
    "- `push_back`: Anhängen eines Zeichens"
   ]
  },
  {
   "cell_type": "code",
   "execution_count": null,
   "id": "1519b514decc64cb",
   "metadata": {
    "tags": [
     "keep"
    ]
   },
   "outputs": [],
   "source": [
    "std::string str{\"Hello, World!\"};"
   ]
  },
  {
   "cell_type": "code",
   "execution_count": null,
   "id": "c798c9796eed8e5d",
   "metadata": {
    "tags": [
     "keep"
    ]
   },
   "outputs": [],
   "source": [
    "str.push_back('!');"
   ]
  },
  {
   "cell_type": "code",
   "execution_count": null,
   "id": "f212ed9e84049477",
   "metadata": {},
   "outputs": [],
   "source": []
  },
  {
   "cell_type": "markdown",
   "id": "dee0b63e711d014c",
   "metadata": {
    "lang": "de",
    "slideshow": {
     "slide_type": "subslide"
    },
    "tags": [
     "subslide"
    ]
   },
   "source": [
    "\n",
    "- `pop_back`: Entfernen des letzten Zeichens"
   ]
  },
  {
   "cell_type": "code",
   "execution_count": null,
   "id": "0e0b3ca9fd928c93",
   "metadata": {
    "tags": [
     "keep"
    ]
   },
   "outputs": [],
   "source": [
    "std::string str{\"Hello, World!\"};"
   ]
  },
  {
   "cell_type": "code",
   "execution_count": null,
   "id": "667d4eac798d8abc",
   "metadata": {
    "tags": [
     "keep"
    ]
   },
   "outputs": [],
   "source": [
    "str.pop_back();"
   ]
  },
  {
   "cell_type": "code",
   "execution_count": null,
   "id": "7d3ce3a4cfcecc9f",
   "metadata": {
    "tags": [
     "keep"
    ]
   },
   "outputs": [],
   "source": [
    "str"
   ]
  },
  {
   "cell_type": "markdown",
   "id": "30c34be7412ba1a1",
   "metadata": {
    "lang": "de",
    "slideshow": {
     "slide_type": "subslide"
    },
    "tags": [
     "subslide"
    ]
   },
   "source": [
    "\n",
    "- `c_str`: Zugriff auf C-String"
   ]
  },
  {
   "cell_type": "code",
   "execution_count": null,
   "id": "2032c99990b04336",
   "metadata": {
    "tags": [
     "keep"
    ]
   },
   "outputs": [],
   "source": [
    "std::string str{\"Hello, World!\"};"
   ]
  },
  {
   "cell_type": "code",
   "execution_count": null,
   "id": "6e48c1e7553c8e97",
   "metadata": {
    "tags": [
     "keep"
    ]
   },
   "outputs": [],
   "source": [
    "str.c_str()"
   ]
  },
  {
   "cell_type": "markdown",
   "id": "fe1345cdcb288b50",
   "metadata": {
    "lang": "de",
    "slideshow": {
     "slide_type": "subslide"
    },
    "tags": [
     "subslide"
    ]
   },
   "source": [
    "\n",
    "- `data`: Zugriff auf Daten\n",
    "- Muss für Versionen vor C++11 nicht mit `'\\0'` enden\n",
    "- Seit C++11 die gleiche Funktion wie `c_str()`"
   ]
  },
  {
   "cell_type": "code",
   "execution_count": null,
   "id": "6cb2dae42d9b32c8",
   "metadata": {
    "tags": [
     "keep"
    ]
   },
   "outputs": [],
   "source": [
    "std::string str{\"Hello, World!\"};"
   ]
  },
  {
   "cell_type": "code",
   "execution_count": null,
   "id": "bca99c87f6d01204",
   "metadata": {
    "tags": [
     "keep"
    ]
   },
   "outputs": [],
   "source": [
    "str.data()"
   ]
  },
  {
   "cell_type": "markdown",
   "id": "1803732757df03d3",
   "metadata": {
    "lang": "de",
    "slideshow": {
     "slide_type": "subslide"
    },
    "tags": [
     "subslide"
    ]
   },
   "source": [
    "\n",
    "- `resize`: Ändern der Länge des Strings\n",
    "  - Zweites Argument: Zeichen, mit dem aufgefüllt wird\n",
    "  - Ohne zweites Argument: `'0'`"
   ]
  },
  {
   "cell_type": "code",
   "execution_count": null,
   "id": "f79e5bee42591817",
   "metadata": {
    "tags": [
     "keep"
    ]
   },
   "outputs": [],
   "source": [
    "std::string str{\"Hello, World!\"};"
   ]
  },
  {
   "cell_type": "code",
   "execution_count": null,
   "id": "9c018753b5da5c16",
   "metadata": {
    "tags": [
     "keep"
    ]
   },
   "outputs": [],
   "source": [
    "str.resize(5);"
   ]
  },
  {
   "cell_type": "code",
   "execution_count": null,
   "id": "a94d981e7c5254cb",
   "metadata": {
    "tags": [
     "keep"
    ]
   },
   "outputs": [],
   "source": [
    "str"
   ]
  },
  {
   "cell_type": "code",
   "execution_count": null,
   "id": "6d51f768fd47ff92",
   "metadata": {
    "tags": [
     "keep"
    ]
   },
   "outputs": [],
   "source": [
    "str.resize(20, '!');"
   ]
  },
  {
   "cell_type": "code",
   "execution_count": null,
   "id": "895dc85df7ec3ce9",
   "metadata": {
    "tags": [
     "keep"
    ]
   },
   "outputs": [],
   "source": [
    "str"
   ]
  },
  {
   "cell_type": "markdown",
   "id": "550631408974a37c",
   "metadata": {
    "lang": "de",
    "slideshow": {
     "slide_type": "subslide"
    },
    "tags": [
     "subslide"
    ]
   },
   "source": [
    "\n",
    "- `reserve`: Reservieren von Speicherplatz"
   ]
  },
  {
   "cell_type": "code",
   "execution_count": null,
   "id": "e17be9cb0d924212",
   "metadata": {
    "tags": [
     "keep"
    ]
   },
   "outputs": [],
   "source": [
    "std::string str{\"Hello, World!\"};"
   ]
  },
  {
   "cell_type": "code",
   "execution_count": null,
   "id": "547c913a2c0df050",
   "metadata": {
    "tags": [
     "keep"
    ]
   },
   "outputs": [],
   "source": [
    "str.reserve(100);"
   ]
  },
  {
   "cell_type": "code",
   "execution_count": null,
   "id": "8d1bc26c3de1e2c0",
   "metadata": {
    "tags": [
     "keep"
    ]
   },
   "outputs": [],
   "source": [
    "str"
   ]
  },
  {
   "cell_type": "markdown",
   "id": "b7904be017ca7974",
   "metadata": {
    "lang": "de",
    "slideshow": {
     "slide_type": "subslide"
    },
    "tags": [
     "subslide"
    ]
   },
   "source": [
    "\n",
    "- `shrink_to_fit`: Freigeben von nicht benötigtem Speicherplatz"
   ]
  },
  {
   "cell_type": "code",
   "execution_count": null,
   "id": "2953f33039f2fab8",
   "metadata": {
    "tags": [
     "keep"
    ]
   },
   "outputs": [],
   "source": [
    "std::string str{\"Hello, World!\"};\n",
    "str.reserve(100);"
   ]
  },
  {
   "cell_type": "code",
   "execution_count": null,
   "id": "efc8591363241aa5",
   "metadata": {
    "tags": [
     "keep"
    ]
   },
   "outputs": [],
   "source": [
    "str.capacity()"
   ]
  },
  {
   "cell_type": "code",
   "execution_count": null,
   "id": "97d9005fbed3a34c",
   "metadata": {
    "tags": [
     "keep"
    ]
   },
   "outputs": [],
   "source": [
    "str.shrink_to_fit();"
   ]
  },
  {
   "cell_type": "code",
   "execution_count": null,
   "id": "1839353476e9fcf4",
   "metadata": {
    "tags": [
     "keep"
    ]
   },
   "outputs": [],
   "source": [
    "str.capacity()"
   ]
  },
  {
   "cell_type": "markdown",
   "id": "e51d826035b4d931",
   "metadata": {
    "lang": "de",
    "slideshow": {
     "slide_type": "subslide"
    },
    "tags": [
     "subslide"
    ]
   },
   "source": [
    "\n",
    "### Iteration über Strings\n",
    "\n",
    "- Range-based `for`-Schleife\n",
    "- (Iteratoren)"
   ]
  },
  {
   "cell_type": "code",
   "execution_count": null,
   "id": "89f538a4cb5f042a",
   "metadata": {
    "tags": [
     "keep"
    ]
   },
   "outputs": [],
   "source": [
    "std::string str{\"Hello, World!\"};"
   ]
  },
  {
   "cell_type": "code",
   "execution_count": null,
   "id": "a0ee650c342d197c",
   "metadata": {
    "tags": [
     "keep"
    ]
   },
   "outputs": [],
   "source": [
    "#include <iostream>"
   ]
  },
  {
   "cell_type": "code",
   "execution_count": null,
   "id": "bfb10a1e6ed3ce1a",
   "metadata": {
    "tags": [
     "keep"
    ]
   },
   "outputs": [],
   "source": [
    "for (char c : str) {\n",
    "    std::cout << c << '\\n';\n",
    "}"
   ]
  },
  {
   "cell_type": "markdown",
   "id": "5a6a26243387d996",
   "metadata": {
    "lang": "de",
    "slideshow": {
     "slide_type": "subslide"
    },
    "tags": [
     "subslide"
    ]
   },
   "source": [
    "\n",
    "## C++-String-Literale\n",
    "\n",
    "- In C++ gibt es benutzerdefinierte Literale\n",
    "- Die Standardbibliothek definiert ein Literal für `std::string`\n",
    "- Benötigt `<string>` Header und `using namespace std::string_literals;`\n",
    "- Syntax: String-Literal gefolgt von `s`"
   ]
  },
  {
   "cell_type": "code",
   "execution_count": null,
   "id": "4b31709ade895473",
   "metadata": {
    "tags": [
     "keep"
    ]
   },
   "outputs": [],
   "source": [
    "#include <string>\n",
    "using namespace std::string_literals;"
   ]
  },
  {
   "cell_type": "code",
   "execution_count": null,
   "id": "bfad8121f46cc3de",
   "metadata": {
    "tags": [
     "keep"
    ]
   },
   "outputs": [],
   "source": [
    "auto str{\"Hello, World!\"s};"
   ]
  },
  {
   "cell_type": "code",
   "execution_count": null,
   "id": "162a4199f72d77ce",
   "metadata": {
    "tags": [
     "keep"
    ]
   },
   "outputs": [],
   "source": [
    "str"
   ]
  },
  {
   "cell_type": "code",
   "execution_count": null,
   "id": "4ca80fff36ea4554",
   "metadata": {
    "lines_to_next_cell": 2,
    "tags": [
     "keep"
    ]
   },
   "outputs": [],
   "source": [
    "str.size()"
   ]
  },
  {
   "cell_type": "markdown",
   "id": "5ddb1d07bbffd97d",
   "metadata": {
    "lang": "de",
    "slideshow": {
     "slide_type": "subslide"
    },
    "tags": [
     "subslide"
    ]
   },
   "source": [
    "\n",
    "## Mini-Workshop: Strings\n",
    "\n",
    "- Schreiben Sie ein Programm, das einen String vom Benutzer einliest und alle\n",
    "  Vorkommen `Dollar` durch `Euro` ersetzt.\n",
    "- *Hinweise:*\n",
    "  - Zum Einlesen eines Strings mit Leerzeichen ist es zweckmäßig, die\n",
    "    Funktion `std::getline(std::cin, str)` zu verwenden.\n",
    "  - Es genügt, wenn Sie eine Zeile einlesen."
   ]
  },
  {
   "cell_type": "code",
   "execution_count": null,
   "id": "963ea7079d341b97",
   "metadata": {
    "slideshow": {
     "slide_type": "subslide"
    },
    "tags": [
     "keep",
     "subslide"
    ]
   },
   "outputs": [],
   "source": [
    "#include <iostream>\n",
    "#include <string>\n",
    "\n",
    "using namespace std::string_literals;"
   ]
  },
  {
   "cell_type": "code",
   "execution_count": null,
   "id": "4718a5aeacc0bce8",
   "metadata": {},
   "outputs": [],
   "source": []
  },
  {
   "cell_type": "code",
   "execution_count": null,
   "id": "f6c057db737c9f8c",
   "metadata": {
    "slideshow": {
     "slide_type": "subslide"
    },
    "tags": [
     "keep",
     "subslide"
    ]
   },
   "outputs": [],
   "source": [
    "std::string text{\"I'm on the grind, chasing a Dollar and a dream. But mostly a Dollar.\"};\n",
    "std::string text2{\"Dollar and Dollar\"};"
   ]
  },
  {
   "cell_type": "code",
   "execution_count": null,
   "id": "077fd05aa83adf46",
   "metadata": {
    "lines_to_next_cell": 2
   },
   "outputs": [],
   "source": []
  },
  {
   "cell_type": "code",
   "execution_count": null,
   "id": "8163a27fc6525354",
   "metadata": {},
   "outputs": [],
   "source": []
  },
  {
   "cell_type": "code",
   "execution_count": null,
   "id": "7bec5f17f19f742c",
   "metadata": {
    "slideshow": {
     "slide_type": "subslide"
    },
    "tags": [
     "subslide"
    ]
   },
   "outputs": [],
   "source": []
  },
  {
   "cell_type": "code",
   "execution_count": null,
   "id": "abad7bb9af2969a0",
   "metadata": {},
   "outputs": [],
   "source": []
  },
  {
   "cell_type": "code",
   "execution_count": null,
   "id": "03b7d52f68bc5d35",
   "metadata": {},
   "outputs": [],
   "source": []
  },
  {
   "cell_type": "code",
   "execution_count": null,
   "id": "b2992b5c92cb75d5",
   "metadata": {
    "slideshow": {
     "slide_type": "subslide"
    },
    "tags": [
     "subslide"
    ]
   },
   "outputs": [],
   "source": []
  },
  {
   "cell_type": "code",
   "execution_count": null,
   "id": "5dd81f0770aa155e",
   "metadata": {},
   "outputs": [],
   "source": []
  },
  {
   "cell_type": "code",
   "execution_count": null,
   "id": "35ee8ccbf012aef9",
   "metadata": {},
   "outputs": [],
   "source": []
  },
  {
   "cell_type": "markdown",
   "id": "bb07f88eadea58db",
   "metadata": {
    "lang": "de",
    "slideshow": {
     "slide_type": "subslide"
    },
    "tags": [
     "subslide"
    ]
   },
   "source": [
    "\n",
    "- Schreiben Sie ein Programm, das einen String vom Benutzer einliest und\n",
    "  ausgibt, wie viele Vokale (`a`, `e`, `i`, `o`, `u`) der String enthält.\n",
    "  Verwenden Sie für diese Aufgabe `std::string`."
   ]
  },
  {
   "cell_type": "code",
   "execution_count": null,
   "id": "71a12c6d97d810e7",
   "metadata": {
    "slideshow": {
     "slide_type": "subslide"
    },
    "tags": [
     "keep",
     "subslide"
    ]
   },
   "outputs": [],
   "source": [
    "#include <iostream>\n",
    "#include <string>"
   ]
  },
  {
   "cell_type": "code",
   "execution_count": null,
   "id": "7ccf81066aac1263",
   "metadata": {},
   "outputs": [],
   "source": []
  },
  {
   "cell_type": "code",
   "execution_count": null,
   "id": "0a60c2c059232709",
   "metadata": {},
   "outputs": [],
   "source": []
  },
  {
   "cell_type": "code",
   "execution_count": null,
   "id": "d477e569d95f2f8c",
   "metadata": {
    "slideshow": {
     "slide_type": "subslide"
    },
    "tags": [
     "subslide"
    ]
   },
   "outputs": [],
   "source": []
  },
  {
   "cell_type": "code",
   "execution_count": null,
   "id": "a4d8fc7d1175cf9e",
   "metadata": {},
   "outputs": [],
   "source": []
  },
  {
   "cell_type": "code",
   "execution_count": null,
   "id": "6b4e03423667dbb7",
   "metadata": {},
   "outputs": [],
   "source": []
  }
 ],
 "metadata": {
  "kernelspec": {
   "display_name": "C++17",
   "language": "C++17",
   "name": "xcpp17"
  },
  "language_info": {
   "codemirror_mode": "text/x-c++src",
   "file_extension": ".cpp",
   "mimetype": "text/x-c++src",
   "name": "c++",
   "version": "17"
  }
 },
 "nbformat": 4,
 "nbformat_minor": 5
}
