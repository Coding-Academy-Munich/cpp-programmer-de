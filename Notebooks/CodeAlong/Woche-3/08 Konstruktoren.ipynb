{
 "cells": [
  {
   "cell_type": "markdown",
   "id": "d9d8e67bd0ffc1fd",
   "metadata": {
    "lang": "de",
    "slideshow": {
     "slide_type": "slide"
    },
    "tags": [
     "slide"
    ]
   },
   "source": [
    "\n",
    "<img src=\"data:image/png;base64,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\"\n",
    "     style=\"display:block;margin:auto;width:5%\"/>\n",
    "<br>\n",
    "\n",
    "<div style=\"text-align:center; font-size:200%;\">\n",
    " <b>Konstruktoren</b>\n",
    "</div>\n",
    "<br/>\n",
    "<div style=\"text-align:center; font-size:120%;\">Dr. Matthias Hölzl</div>\n",
    "<br/>\n",
    "<div style=\"text-align:center;\">Coding-Akademie München</div>\n",
    "<br/>\n",
    "<!-- 08 Konstruktoren.ipynb -->\n",
    "<!-- slides/module_150_classes/topic_160_constructors.cpp -->"
   ]
  },
  {
   "cell_type": "markdown",
   "id": "153ee8b473b70066",
   "metadata": {
    "lang": "de",
    "slideshow": {
     "slide_type": "subslide"
    },
    "tags": [
     "subslide"
    ]
   },
   "source": [
    "\n",
    "## Konstruktoren\n",
    "\n",
    "- Unsere `MyVector`-Implementierung kann im Moment nur als leerer Vektor\n",
    "  konstruiert werden.\n",
    "- Wir würden gerne auch einen Vektor mit vorgegebener Größe oder\n",
    "  Initialwerten konstruieren können.\n",
    "- Dafür können wir einen *Konstruktor* definieren."
   ]
  },
  {
   "cell_type": "markdown",
   "id": "882e992cf2408187",
   "metadata": {
    "lang": "de",
    "slideshow": {
     "slide_type": "subslide"
    },
    "tags": [
     "subslide"
    ]
   },
   "source": [
    "\n",
    "- Ein Konstruktor ist eine spezielle Funktion, die automatisch aufgerufen wird,\n",
    "  wenn ein Objekt erzeugt wird.\n",
    "- Der Name des Konstruktors ist immer der Name der Klasse.\n",
    "- Ein Konstruktor hat keinen Rückgabetyp, nicht einmal `void`.\n",
    "- Ein Konstruktor kann überladen werden."
   ]
  },
  {
   "cell_type": "markdown",
   "id": "b0e7f97c51b8837d",
   "metadata": {
    "lang": "de",
    "slideshow": {
     "slide_type": "subslide"
    },
    "tags": [
     "subslide"
    ]
   },
   "source": [
    "\n",
    "### Default-Konstruktor\n",
    "\n",
    "- Ein Konstruktor ohne Parameter wird *Default-Konstruktor* genannt.\n",
    "- Wenn wir keinen Konstruktor definieren, wird automatisch ein\n",
    "  Default-Konstruktor erzeugt.\n",
    "- Der Default-Konstruktor default-initialisiert alle Member-Variablen\n",
    "  - Wenn wir Default-Member-Initializer angeben, werden diese verwendet.\n",
    "- Der Default-Konstruktor wird *nur* erzeugt, wenn wir *keinen* Konstruktor\n",
    "  definieren.\n",
    "- Wir können die Default-Implementierung explizit mit `= default;` erzeugen.\n",
    "- Wir können mit `= delete;` verhindern, dass ein Default-Konstruktor\n",
    "  erzeugt wird."
   ]
  },
  {
   "cell_type": "code",
   "execution_count": null,
   "id": "ec6d6a4ae3549f74",
   "metadata": {
    "lang": "de",
    "slideshow": {
     "slide_type": "subslide"
    },
    "tags": [
     "keep",
     "subslide"
    ]
   },
   "outputs": [],
   "source": [
    "class MyVector\n",
    "{\n",
    "public:\n",
    "    // Synthetisierter Default-Konstruktor\n",
    "    MyVector() = default;\n",
    "    MyVector(std::size_t size);\n",
    "    // Delegierender Konstruktor (siehe Implementierung)\n",
    "    MyVector(std::size_t size, int value);\n",
    "    MyVector(std::initializer_list<int> init);\n",
    "\n",
    "    void print();\n",
    "\n",
    "private:\n",
    "    std::size_t size_{0};     // Beide Member haben Default-Member-Initializer\n",
    "    int* data_{nullptr};\n",
    "};"
   ]
  },
  {
   "cell_type": "markdown",
   "id": "742e155e88bfa91d",
   "metadata": {
    "lang": "de",
    "slideshow": {
     "slide_type": "subslide"
    },
    "tags": [
     "subslide"
    ]
   },
   "source": [
    "\n",
    "## Member-Initialisierungsliste\n",
    "\n",
    "- Ein Konstruktor kann eine Member-Initialisierungsliste haben.\n",
    "- In der Member-Initialisierungsliste werden die Member-Variablen\n",
    "  initialisiert.\n",
    "- Die Member-Variablen werden in der Reihenfolge initialisiert, in der sie\n",
    "  **in der Klasse** deklariert wurden.\n",
    "- Die Member-Initialisierungsliste wird durch einen Doppelpunkt `:` vom\n",
    "  Konstruktor-Rumpf getrennt.\n",
    "- Viele Konstruktoren haben eine Member-Initialisierungsliste, gefolgt von\n",
    "  einem leeren Rumpf."
   ]
  },
  {
   "cell_type": "code",
   "execution_count": null,
   "id": "d0ea129b8bd0c06b",
   "metadata": {
    "tags": [
     "keep"
    ]
   },
   "outputs": [],
   "source": [
    "MyVector::MyVector(std::size_t size) : size_(size), data_(new int[size_]) { }"
   ]
  },
  {
   "cell_type": "markdown",
   "id": "c6756283fa7fee0c",
   "metadata": {
    "lang": "de",
    "slideshow": {
     "slide_type": "subslide"
    },
    "tags": [
     "subslide"
    ]
   },
   "source": [
    "\n",
    "### Delegierender Konstruktor\n",
    "\n",
    "- Ein Konstruktor kann einen anderen Konstruktor aufrufen.\n",
    "- Dieser Konstruktor wird *delegierender Konstruktor* genannt.\n",
    "- Der delegierende Konstruktor muss den anderen Konstruktor in der\n",
    "  Member-Initialisierungsliste aufrufen.\n",
    "- Es dürfen dann keine weiteren Member-Initializer angegeben werden."
   ]
  },
  {
   "cell_type": "code",
   "execution_count": null,
   "id": "60778797491310e2",
   "metadata": {
    "tags": [
     "keep"
    ]
   },
   "outputs": [],
   "source": [
    "MyVector::MyVector(std::size_t size, int value) : MyVector(size)\n",
    "{\n",
    "    for (std::size_t i{0}; i != size_; ++i) {\n",
    "        data_[i] = value;\n",
    "    }\n",
    "}"
   ]
  },
  {
   "cell_type": "markdown",
   "id": "605cbe094a180821",
   "metadata": {
    "lang": "de",
    "slideshow": {
     "slide_type": "subslide"
    },
    "tags": [
     "subslide"
    ]
   },
   "source": [
    "\n",
    "- Dieser Overload ermöglicht es, einen `MyVector` mit einer\n",
    "  Initialisierungsliste von Werten zu initialisieren.\n",
    "- Wenn ein Konstruktor für den Typ `initializer_list<T>` definiert wird,\n",
    "  dann wird er für Initialisierungslisten vom Typ `T` verwendet.\n",
    "- Initialisierungslisten mit anderen Typen werden wie üblich behandelt."
   ]
  },
  {
   "cell_type": "code",
   "execution_count": null,
   "id": "42b2318492e94a45",
   "metadata": {
    "lines_to_next_cell": 2,
    "tags": [
     "keep"
    ]
   },
   "outputs": [],
   "source": [
    "MyVector::MyVector(std::initializer_list<int> init)\n",
    "    : size_(init.size()), data_(new int[size_])\n",
    "{\n",
    "    std::copy(init.begin(), init.end(), data_);\n",
    "}"
   ]
  },
  {
   "cell_type": "code",
   "execution_count": null,
   "id": "a0ee650c342d197c",
   "metadata": {
    "slideshow": {
     "slide_type": "subslide"
    },
    "tags": [
     "keep",
     "subslide"
    ]
   },
   "outputs": [],
   "source": [
    "#include <iostream>"
   ]
  },
  {
   "cell_type": "code",
   "execution_count": null,
   "id": "7ac0df6ab1b4c633",
   "metadata": {
    "tags": [
     "keep"
    ]
   },
   "outputs": [],
   "source": [
    "void MyVector::print()\n",
    "{\n",
    "    std::cout << \"size: \" << size_ << \"\\n\";\n",
    "    std::cout << \"data: \";\n",
    "    for (int i = 0; i != size_; ++i) {\n",
    "        std::cout << data_[i] << \" \";\n",
    "    }\n",
    "    std::cout << \"\\n\";\n",
    "}"
   ]
  },
  {
   "cell_type": "code",
   "execution_count": null,
   "id": "d1750ce786309103",
   "metadata": {
    "slideshow": {
     "slide_type": "subslide"
    },
    "tags": [
     "keep",
     "subslide"
    ]
   },
   "outputs": [],
   "source": [
    "MyVector v1{};"
   ]
  },
  {
   "cell_type": "code",
   "execution_count": null,
   "id": "0fb411b54a6958ee",
   "metadata": {
    "tags": [
     "keep"
    ]
   },
   "outputs": [],
   "source": [
    "v1.print();"
   ]
  },
  {
   "cell_type": "code",
   "execution_count": null,
   "id": "723b618bda4431ed",
   "metadata": {
    "tags": [
     "keep"
    ]
   },
   "outputs": [],
   "source": [
    "MyVector v2(5);"
   ]
  },
  {
   "cell_type": "code",
   "execution_count": null,
   "id": "ecff9c2cdf59ec40",
   "metadata": {
    "tags": [
     "keep"
    ]
   },
   "outputs": [],
   "source": [
    "v2.print();"
   ]
  },
  {
   "cell_type": "code",
   "execution_count": null,
   "id": "b098765e8d7769f2",
   "metadata": {
    "slideshow": {
     "slide_type": "subslide"
    },
    "tags": [
     "keep",
     "subslide"
    ]
   },
   "outputs": [],
   "source": [
    "MyVector v3(5, 42);"
   ]
  },
  {
   "cell_type": "code",
   "execution_count": null,
   "id": "84ff1803d81dec82",
   "metadata": {
    "tags": [
     "keep"
    ]
   },
   "outputs": [],
   "source": [
    "v3.print();"
   ]
  },
  {
   "cell_type": "code",
   "execution_count": null,
   "id": "fa3188e52883eeec",
   "metadata": {
    "tags": [
     "keep"
    ]
   },
   "outputs": [],
   "source": [
    "MyVector v4{1, 2, 3, 4, 5, 6, 7, 8, 9, 10};"
   ]
  },
  {
   "cell_type": "code",
   "execution_count": null,
   "id": "8e089a165942edfe",
   "metadata": {
    "tags": [
     "keep"
    ]
   },
   "outputs": [],
   "source": [
    "v4.print();"
   ]
  },
  {
   "cell_type": "markdown",
   "id": "dc38aaed409ca5d4",
   "metadata": {
    "lang": "de",
    "slideshow": {
     "slide_type": "subslide"
    },
    "tags": [
     "subslide"
    ]
   },
   "source": [
    "\n",
    "## Konvertierende Konstruktoren\n",
    "\n",
    "- Aus Gründen, die wir später sehen werden, heißen die Konstruktoren, die\n",
    "  wir in diesem Abschnitt gesehen haben, *konvertierende Konstruktoren*."
   ]
  },
  {
   "cell_type": "markdown",
   "id": "12b40338aa29eb19",
   "metadata": {
    "lang": "de",
    "slideshow": {
     "slide_type": "subslide"
    },
    "tags": [
     "subslide"
    ]
   },
   "source": [
    "\n",
    "## Mini-Workshop: Todo-Liste\n",
    "\n",
    "In dieser Aufgabe sollen Sie eine einfache Todo-Liste implementieren.\n",
    "\n",
    "- Jede Aufgabe in der Todo-Liste hat einen Titel und einen Booleschen Status\n",
    "  (`done`).\n",
    "- Implementieren Sie eine Struct `Item` zur Repräsentation einer Aufgabe.\n",
    "  - Implementieren Sie einen Konstruktor für `Item`, der einen Titel\n",
    "    akzeptiert und den Status auf `false` setzt.\n",
    "  - Implementieren Sie einen Konstruktor für `Item`, der einen Titel und\n",
    "    einen Status akzeptiert.\n",
    "  - Können Sie diese beiden Konstruktoren kombinieren?\n",
    "  - Können Sie `Item`-Instanzen ohne Argumente erzeugen, nachdem Sie diese\n",
    "    Konstruktoren definiert haben?\n",
    "  - Was passiert, wenn Sie keinen expliziten Konstruktor für `Item`\n",
    "    definieren?"
   ]
  },
  {
   "cell_type": "markdown",
   "id": "1c79ce5d29569b67",
   "metadata": {
    "lang": "de",
    "slideshow": {
     "slide_type": "subslide"
    },
    "tags": [
     "subslide"
    ]
   },
   "source": [
    "\n",
    "- Implementieren Sie eine Klasse `TodoList` zur Verwaltung einer Liste von\n",
    "  Aufgaben.\n",
    "  - Implementieren Sie einen Konstruktor für `TodoList`, der eine\n",
    "    Initialisierungsliste von `Item`s akzeptiert.\n",
    "  - Implementieren Sie eine Member-Funktion `print()`, die die Liste der\n",
    "    Aufgaben ausgibt.\n",
    "  - Welche Datenstruktur ist zur Speicherung der Aufgaben sinnvoll?\n",
    "- Konstruieren Sie eine `TodoList` mit einigen Aufgaben und geben Sie diese\n",
    "  aus."
   ]
  },
  {
   "cell_type": "code",
   "execution_count": null,
   "id": "d9013d74a09f9fb8",
   "metadata": {
    "slideshow": {
     "slide_type": "subslide"
    },
    "tags": [
     "subslide"
    ]
   },
   "outputs": [],
   "source": []
  },
  {
   "cell_type": "code",
   "execution_count": null,
   "id": "c4f11cd6367ad81d",
   "metadata": {},
   "outputs": [],
   "source": []
  },
  {
   "cell_type": "code",
   "execution_count": null,
   "id": "744b6f1d1dfe9473",
   "metadata": {},
   "outputs": [],
   "source": []
  },
  {
   "cell_type": "code",
   "execution_count": null,
   "id": "b261a85ea738f1d0",
   "metadata": {},
   "outputs": [],
   "source": []
  },
  {
   "cell_type": "code",
   "execution_count": null,
   "id": "adffb4317d0068ff",
   "metadata": {},
   "outputs": [],
   "source": []
  },
  {
   "cell_type": "code",
   "execution_count": null,
   "id": "4d983f24461a0b5e",
   "metadata": {
    "slideshow": {
     "slide_type": "subslide"
    },
    "tags": [
     "subslide"
    ]
   },
   "outputs": [],
   "source": []
  },
  {
   "cell_type": "code",
   "execution_count": null,
   "id": "db5b97ad5db952ff",
   "metadata": {},
   "outputs": [],
   "source": []
  },
  {
   "cell_type": "code",
   "execution_count": null,
   "id": "38be52db415f4499",
   "metadata": {
    "slideshow": {
     "slide_type": "subslide"
    },
    "tags": [
     "subslide"
    ]
   },
   "outputs": [],
   "source": []
  },
  {
   "cell_type": "code",
   "execution_count": null,
   "id": "187d175568daf755",
   "metadata": {},
   "outputs": [],
   "source": []
  }
 ],
 "metadata": {
  "kernelspec": {
   "display_name": "C++17",
   "language": "C++17",
   "name": "xcpp17"
  },
  "language_info": {
   "codemirror_mode": "text/x-c++src",
   "file_extension": ".cpp",
   "mimetype": "text/x-c++src",
   "name": "c++",
   "version": "17"
  }
 },
 "nbformat": 4,
 "nbformat_minor": 5
}
