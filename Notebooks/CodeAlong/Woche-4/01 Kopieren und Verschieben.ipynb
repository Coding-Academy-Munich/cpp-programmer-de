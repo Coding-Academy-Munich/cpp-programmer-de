{
 "cells": [
  {
   "cell_type": "markdown",
   "id": "f47d182a53271de0",
   "metadata": {
    "lang": "de",
    "slideshow": {
     "slide_type": "slide"
    },
    "tags": [
     "slide"
    ]
   },
   "source": [
    "\n",
    "<img src=\"data:image/png;base64,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\"\n",
    "     style=\"display:block;margin:auto;width:5%\"/>\n",
    "<br>\n",
    "\n",
    "<div style=\"text-align:center; font-size:200%;\">\n",
    " <b>Kopieren und Verschieben</b>\n",
    "</div>\n",
    "<br/>\n",
    "<div style=\"text-align:center; font-size:120%;\">Dr. Matthias Hölzl</div>\n",
    "<br/>\n",
    "<div style=\"text-align:center;\">Coding-Akademie München</div>\n",
    "<br/>\n",
    "<!-- 01 Kopieren und Verschieben.ipynb -->\n",
    "<!-- slides/module_150_classes/topic_190_copy_and_move.cpp -->"
   ]
  },
  {
   "cell_type": "markdown",
   "id": "4408dab7c7f601af",
   "metadata": {
    "lang": "de",
    "lines_to_next_cell": 2,
    "slideshow": {
     "slide_type": "slide"
    },
    "tags": [
     "slide"
    ]
   },
   "source": [
    "\n",
    "## Kopieren und Verschieben\n",
    "\n",
    "- `MyVector`-Objekte werden korrekt zerstört und kopiert.\n",
    "- Es werden potentiell zu viele Kopien erstellt.\n",
    "- Das können wir verbessern, indem wir Move-Operationen für Vektoren\n",
    "  implementieren."
   ]
  },
  {
   "cell_type": "markdown",
   "id": "8b0e6c41a98b009b",
   "metadata": {
    "lang": "de",
    "slideshow": {
     "slide_type": "subslide"
    },
    "tags": [
     "subslide"
    ]
   },
   "source": [
    "\n",
    "- Vier Member-Funktionen für Kopieren und Verschieben:\n",
    "  - Kopierkonstruktor (Copy Constructor)\n",
    "  - Kopierzuweisungsoperator (Copy Assignment Operator)\n",
    "  - Move-Konstruktor (Move Constructor)\n",
    "  - Move-Zuweisungsoperator (Move Assignment Operator)"
   ]
  },
  {
   "cell_type": "markdown",
   "id": "1014744532de591b",
   "metadata": {
    "lang": "de",
    "slideshow": {
     "slide_type": "subslide"
    },
    "tags": [
     "subslide"
    ]
   },
   "source": [
    "\n",
    "### Copy Constructor und Copy Assignment Operator\n",
    "\n",
    "- Haben als Parameter eine (`const`)-Referenz auf ein Objekt der eigenen\n",
    "  Klasse.\n",
    "- Werden (oft) automatisch generiert, wenn sie nicht explizit implementiert\n",
    "  werden.\n",
    "  - Default: Member werden kopiert.\n",
    "- Können explizit mit `= default` deklariert werden.\n",
    "- Die Default-Implementierung kann mit `= delete` verhindert werden."
   ]
  },
  {
   "cell_type": "markdown",
   "id": "9133dd9085d92cb6",
   "metadata": {
    "lang": "de",
    "slideshow": {
     "slide_type": "subslide"
    },
    "tags": [
     "subslide"
    ]
   },
   "source": [
    "\n",
    "### Copy Constructor\n",
    "\n",
    "- Wird aufgerufen, wenn ein Objekt mit einem anderen Objekt vom gleichen Typ\n",
    "  initialisiert wird.\n",
    "\n",
    "### Copy Assignment Operator\n",
    "\n",
    "- Wird aufgerufen, wenn ein Objekt an ein anderes Objekt zugewiesen wird.\n",
    "- Definition mit `operator=()`.\n",
    "- Gibt eine Referenz auf `*this` zurück."
   ]
  },
  {
   "cell_type": "code",
   "execution_count": null,
   "id": "45567955e26609bc",
   "metadata": {
    "slideshow": {
     "slide_type": "subslide"
    },
    "tags": [
     "keep",
     "subslide"
    ]
   },
   "outputs": [],
   "source": [
    "#include <iostream>\n",
    "#include <cmath>"
   ]
  },
  {
   "cell_type": "code",
   "execution_count": null,
   "id": "c86432781993fc1f",
   "metadata": {
    "lines_to_next_cell": 2,
    "tags": [
     "keep"
    ]
   },
   "outputs": [],
   "source": [
    "int index_for_copy(int i) {\n",
    "    if (i <= 0) return -1;\n",
    "\n",
    "    int num_digits{static_cast<int>(std::log10(i)) + 1};\n",
    "    int last_digit{i % 10};\n",
    "    int multiplier{static_cast<int>(std::pow(10, num_digits))};\n",
    "    return last_digit * multiplier + i;\n",
    "}"
   ]
  },
  {
   "cell_type": "code",
   "execution_count": null,
   "id": "a940d49f9fa08716",
   "metadata": {
    "slideshow": {
     "slide_type": "subslide"
    },
    "tags": [
     "keep",
     "subslide"
    ]
   },
   "outputs": [],
   "source": [
    "struct Copyable {\n",
    "    static int next_index() {\n",
    "        static int result{0};\n",
    "        return ++result;\n",
    "    }\n",
    "\n",
    "    int i;\n",
    "\n",
    "    Copyable() : i{next_index()} {\n",
    "        std::cout << \"Copyable(\" << i << \")\\n\";\n",
    "    };\n",
    "\n",
    "    Copyable(const Copyable& other) : i{index_for_copy(other.i)} {\n",
    "        std::cout << \"Copyable(\" << i << \"): copy constructor called. (Other = \" << other.i << \")\\n\";\n",
    "    };\n",
    "\n",
    "    Copyable& operator=(const Copyable& other) {\n",
    "        i = index_for_copy(other.i);\n",
    "        std::cout << \"Copyable(\" << i << \"): copy assignment operator called. (Other = \" << other.i << \")\\n\";\n",
    "        return *this;\n",
    "    };\n",
    "\n",
    "    ~Copyable() {\n",
    "        std::cout << \"~Copyable(\" << i << \")\\n\";\n",
    "    }\n",
    "};"
   ]
  },
  {
   "cell_type": "code",
   "execution_count": null,
   "id": "f9b25dbccae1c5ff",
   "metadata": {
    "slideshow": {
     "slide_type": "subslide"
    },
    "tags": [
     "keep",
     "subslide"
    ]
   },
   "outputs": [],
   "source": [
    "Copyable c1{};"
   ]
  },
  {
   "cell_type": "code",
   "execution_count": null,
   "id": "a39a9fb070e310f1",
   "metadata": {
    "tags": [
     "keep"
    ]
   },
   "outputs": [],
   "source": [
    "Copyable c2{};"
   ]
  },
  {
   "cell_type": "code",
   "execution_count": null,
   "id": "b61d3882aeaa79df",
   "metadata": {
    "tags": [
     "keep"
    ]
   },
   "outputs": [],
   "source": [
    "c1 = c2;"
   ]
  },
  {
   "cell_type": "code",
   "execution_count": null,
   "id": "821b9184d95de69e",
   "metadata": {
    "tags": [
     "keep"
    ]
   },
   "outputs": [],
   "source": [
    "c1.i"
   ]
  },
  {
   "cell_type": "code",
   "execution_count": null,
   "id": "4e83d017d0de6746",
   "metadata": {
    "tags": [
     "keep"
    ]
   },
   "outputs": [],
   "source": [
    "c2.i"
   ]
  },
  {
   "cell_type": "code",
   "execution_count": null,
   "id": "03e450310250cb55",
   "metadata": {
    "slideshow": {
     "slide_type": "subslide"
    },
    "tags": [
     "keep",
     "subslide"
    ]
   },
   "outputs": [],
   "source": [
    "const Copyable c3{};"
   ]
  },
  {
   "cell_type": "code",
   "execution_count": null,
   "id": "986aa0869d95575e",
   "metadata": {
    "tags": [
     "keep"
    ]
   },
   "outputs": [],
   "source": [
    "Copyable c4{c3};"
   ]
  },
  {
   "cell_type": "code",
   "execution_count": null,
   "id": "56078bac5ba4c71c",
   "metadata": {
    "tags": [
     "keep"
    ]
   },
   "outputs": [],
   "source": [
    "c4.i"
   ]
  },
  {
   "cell_type": "code",
   "execution_count": null,
   "id": "9119402e5d70a68a",
   "metadata": {
    "tags": [
     "keep"
    ]
   },
   "outputs": [],
   "source": [
    "c4.i = 44;"
   ]
  },
  {
   "cell_type": "code",
   "execution_count": null,
   "id": "26dc354dcd489991",
   "metadata": {
    "lines_to_next_cell": 2,
    "tags": [
     "keep"
    ]
   },
   "outputs": [],
   "source": [
    "c4.i"
   ]
  },
  {
   "cell_type": "markdown",
   "id": "d6dd5165cad6e034",
   "metadata": {
    "lang": "de",
    "slideshow": {
     "slide_type": "subslide"
    },
    "tags": [
     "subslide"
    ]
   },
   "source": [
    "\n",
    "### Verschieben von Objekten\n",
    "\n",
    "- Viele Objekte werden als Handles realisiert:\n",
    "  - Kleine Struktur mit Zeiger auf großen Datenbereich.\n",
    "  - Kopieren der Struktur ist billig, Kopieren der Daten teuer.\n",
    "- In manchen Fällen kann man statt zu kopieren die Daten der Quelle \"stehlen\".\n",
    "  - Das geht, wenn die Quelle nicht mehr benötigt wird.\n",
    "  - Man muss die Quelle dabei in einem Zustand lassen, in dem der Destruktor\n",
    "    aufgerufen werden kann.\n",
    "- Diesen Vorgang nennt man \"Verschieben\" (move)."
   ]
  },
  {
   "cell_type": "markdown",
   "id": "aada5d398aed8848",
   "metadata": {
    "lang": "de",
    "slideshow": {
     "slide_type": "subslide"
    },
    "tags": [
     "subslide"
    ]
   },
   "source": [
    "\n",
    "### Move-Konstruktor und Move-Zuweisungsoperator\n",
    "\n",
    "- Haben als Parameter eine Rvalue-Referenz (`T&&`) auf ein Objekt der eigenen\n",
    "  Klasse.\n",
    "- Erlauben effizientes Verschieben von Objekten.\n",
    "- Werden nicht implementiert, wenn Copy-Konstruktor oder\n",
    "  Copy-Zuweisungsoperator explizit implementiert werden.\n",
    "- Können explizit mit `= default` deklariert werden.\n",
    "- Die Default-Implementierung kann mit `= delete` verhindert werden."
   ]
  },
  {
   "cell_type": "markdown",
   "id": "62228f1f80582bab",
   "metadata": {
    "lang": "de",
    "slideshow": {
     "slide_type": "subslide"
    },
    "tags": [
     "subslide"
    ]
   },
   "source": [
    "\n",
    "### Move-Konstruktor\n",
    "\n",
    "- Wird aufgerufen, wenn ein Objekt mit einem Rvalue initialisiert wird.\n",
    "- Rvalues sind grob gesagt Objekte, die nach ihrer Verwendung nicht mehr\n",
    "  benötigt werden.\n",
    "\n",
    "### Move-Zuweisungsoperator\n",
    "\n",
    "- Wird aufgerufen, wenn ein Rvalue an ein Objekt zugewiesen wird.\n",
    "- Definition mit `operator=()`.\n",
    "- Gibt eine Referenz auf das eigene Objekt zurück."
   ]
  },
  {
   "cell_type": "code",
   "execution_count": null,
   "id": "e63de2a85f6f67b0",
   "metadata": {
    "slideshow": {
     "slide_type": "subslide"
    },
    "tags": [
     "keep",
     "subslide"
    ]
   },
   "outputs": [],
   "source": [
    "struct Movable {\n",
    "    static int next_index() {\n",
    "        static int result{0};\n",
    "        return ++result;\n",
    "    }\n",
    "    int i;\n",
    "\n",
    "    Movable() : i{next_index()} { std::cout << \"Movable(\" << i << \") constructed\\n\"; };\n",
    "\n",
    "    Movable(const Movable& other) : i{index_for_copy(other.i)} {\n",
    "        std::cout << \"Movable(\" << i << \"): copy constructor called. (Other = \" << other.i << \")\\n\";\n",
    "    };\n",
    "    Movable(Movable&& other) : i{index_for_copy(other.i)} {\n",
    "        std::cout << \"Movable(\" << i << \"): move constructor called. (Other = \" << other.i << \")\\n\";\n",
    "        other.i *= -1;\n",
    "    };\n",
    "\n",
    "    Movable& operator=(const Movable& other) {\n",
    "        i = index_for_copy(other.i);\n",
    "        std::cout << \"Movable(\" << i << \"): copy assignment operator called. (Other = \" << other.i << \")\\n\";\n",
    "        return *this;\n",
    "    };\n",
    "    Movable& operator=(Movable&& other) {\n",
    "        i = index_for_copy(other.i);\n",
    "        std::cout << \"Movable(\" << i << \"): move assignment operator called. (Other = \" << other.i << \")\\n\";\n",
    "        other.i *= -1;\n",
    "        return *this;\n",
    "    };\n",
    "\n",
    "    ~Movable() { std::cout << \"~Movable(\" << i << \")\\n\"; }\n",
    "\n",
    "    void print() const { std::cout << \"Movable(\" << i << \")\\n\"; }\n",
    "};"
   ]
  },
  {
   "cell_type": "code",
   "execution_count": null,
   "id": "dd91f6969660b646",
   "metadata": {
    "slideshow": {
     "slide_type": "subslide"
    },
    "tags": [
     "keep",
     "subslide"
    ]
   },
   "outputs": [],
   "source": [
    "Movable make_movable()\n",
    "{\n",
    "    Movable m1{};\n",
    "    Movable m2{};\n",
    "    if (m1.i % 1234 == 0) {\n",
    "        return m1;\n",
    "    } else {\n",
    "        return m2;\n",
    "    }\n",
    "}"
   ]
  },
  {
   "cell_type": "code",
   "execution_count": null,
   "id": "bebb1d0b445a6ced",
   "metadata": {
    "slideshow": {
     "slide_type": "subslide"
    },
    "tags": [
     "keep",
     "subslide"
    ]
   },
   "outputs": [],
   "source": [
    "Movable m1{};"
   ]
  },
  {
   "cell_type": "code",
   "execution_count": null,
   "id": "68265ab3626b371d",
   "metadata": {
    "tags": [
     "keep"
    ]
   },
   "outputs": [],
   "source": [
    "Movable m2{m1};"
   ]
  },
  {
   "cell_type": "code",
   "execution_count": null,
   "id": "a50c6e8f001d8cb1",
   "metadata": {
    "tags": [
     "keep"
    ]
   },
   "outputs": [],
   "source": [
    "m1.print();\n",
    "m2.print();"
   ]
  },
  {
   "cell_type": "code",
   "execution_count": null,
   "id": "1651cc7443f6aa9b",
   "metadata": {
    "slideshow": {
     "slide_type": "subslide"
    },
    "tags": [
     "keep",
     "subslide"
    ]
   },
   "outputs": [],
   "source": [
    "m1 = m2;"
   ]
  },
  {
   "cell_type": "code",
   "execution_count": null,
   "id": "ce19c16650f49f7a",
   "metadata": {
    "tags": [
     "keep"
    ]
   },
   "outputs": [],
   "source": [
    "m1.print();\n",
    "m2.print();"
   ]
  },
  {
   "cell_type": "code",
   "execution_count": null,
   "id": "914d05eb08ee0c6b",
   "metadata": {
    "slideshow": {
     "slide_type": "subslide"
    },
    "tags": [
     "keep",
     "subslide"
    ]
   },
   "outputs": [],
   "source": [
    "Movable m3{make_movable()};"
   ]
  },
  {
   "cell_type": "code",
   "execution_count": null,
   "id": "3b58ad1f37949aaa",
   "metadata": {
    "tags": [
     "keep"
    ]
   },
   "outputs": [],
   "source": [
    "m3 = make_movable();"
   ]
  },
  {
   "cell_type": "code",
   "execution_count": null,
   "id": "51137158ad1499b9",
   "metadata": {
    "tags": [
     "keep"
    ]
   },
   "outputs": [],
   "source": [
    "Movable m4{static_cast<Movable&&>(m3)};"
   ]
  },
  {
   "cell_type": "code",
   "execution_count": null,
   "id": "f0a63853e8a95674",
   "metadata": {
    "tags": [
     "keep"
    ]
   },
   "outputs": [],
   "source": [
    "m3.print();\n",
    "m4.print();"
   ]
  },
  {
   "cell_type": "code",
   "execution_count": null,
   "id": "7984c1777d489ed5",
   "metadata": {
    "tags": [
     "keep"
    ]
   },
   "outputs": [],
   "source": [
    "Movable m5{std::move(m4)};"
   ]
  },
  {
   "cell_type": "code",
   "execution_count": null,
   "id": "d5e4e345a97b8360",
   "metadata": {
    "tags": [
     "keep"
    ]
   },
   "outputs": [],
   "source": [
    "m4.print();\n",
    "m5.print();"
   ]
  },
  {
   "cell_type": "markdown",
   "id": "72366bb42bbd9ce5",
   "metadata": {
    "lang": "de",
    "slideshow": {
     "slide_type": "subslide"
    },
    "tags": [
     "subslide"
    ]
   },
   "source": [
    "\n",
    "## Mini-Workshop: Explizite Konstruktoren\n",
    "\n",
    "Gegeben seien die folgenden Structs:"
   ]
  },
  {
   "cell_type": "code",
   "execution_count": null,
   "id": "c683abefd4373e54",
   "metadata": {
    "slideshow": {
     "slide_type": "subslide"
    },
    "tags": [
     "keep",
     "subslide"
    ]
   },
   "outputs": [],
   "source": [
    "#include <iostream>\n",
    "\n",
    "struct B;\n",
    "struct C;\n",
    "\n",
    "struct A {\n",
    "    A()                  { std::cout << \"A()\\n\"; }\n",
    "    A(int)               { std::cout << \"A(int)\\n\"; }\n",
    "    A(const A&)          { std::cout << \"A(const A&)\\n\"; }\n",
    "    A(A&&)               { std::cout << \"A(A&&)\\n\"; }\n",
    "    A(const B&)          { std::cout << \"A(const B&)\\n\"; }\n",
    "    A(B&&)               { std::cout << \"A(B&&)\\n\"; }\n",
    "};\n",
    "\n",
    "struct B {\n",
    "    B(const B&)          { std::cout << \"B(const B&)\\n\"; }\n",
    "\n",
    "    explicit B(int)      { std::cout << \"B(int)\\n\"; }\n",
    "    explicit B(const A&) { std::cout << \"B(const A&)\\n\"; }\n",
    "    B(const C&)          { std::cout << \"B(const C&)\\n\"; }\n",
    "};\n",
    "\n",
    "struct C {\n",
    "    C(const A&)          { std::cout << \"C(const A&)\\n\"; }\n",
    "    C(A&&)               { std::cout << \"C(A&&)\\n\"; }\n",
    "    C(const B&)          { std::cout << \"C(const B&)\\n\"; }\n",
    "}"
   ]
  },
  {
   "cell_type": "markdown",
   "id": "c8762eb9d761372c",
   "metadata": {
    "lang": "de",
    "slideshow": {
     "slide_type": "subslide"
    },
    "tags": [
     "subslide"
    ]
   },
   "source": [
    "\n",
    "Und die folgenden Funktionen:"
   ]
  },
  {
   "cell_type": "code",
   "execution_count": null,
   "id": "41609cef51dd9f8b",
   "metadata": {
    "tags": [
     "keep"
    ]
   },
   "outputs": [],
   "source": [
    "A f(A a) { std::cout << \"f(A)\\n\"; return a; }"
   ]
  },
  {
   "cell_type": "code",
   "execution_count": null,
   "id": "d597f88db71b0a42",
   "metadata": {
    "tags": [
     "keep"
    ]
   },
   "outputs": [],
   "source": [
    "B f(B b) { std::cout << \"f(B)\\n\"; return b; }"
   ]
  },
  {
   "cell_type": "code",
   "execution_count": null,
   "id": "554bda4809e97b6e",
   "metadata": {
    "tags": [
     "keep"
    ]
   },
   "outputs": [],
   "source": [
    "C f(C c) { std::cout << \"f(C)\\n\"; return c; }"
   ]
  },
  {
   "cell_type": "code",
   "execution_count": null,
   "id": "7cad9604aaf44248",
   "metadata": {
    "tags": [
     "keep"
    ]
   },
   "outputs": [],
   "source": [
    "A ga(A a) { std::cout << \"ga(A)\\n\"; return a; }"
   ]
  },
  {
   "cell_type": "code",
   "execution_count": null,
   "id": "3cf065a061840d4f",
   "metadata": {
    "tags": [
     "keep"
    ]
   },
   "outputs": [],
   "source": [
    "B gb(B b) { std::cout << \"gb(B)\\n\"; return b; }"
   ]
  },
  {
   "cell_type": "code",
   "execution_count": null,
   "id": "a341a857f001dc1d",
   "metadata": {
    "tags": [
     "keep"
    ]
   },
   "outputs": [],
   "source": [
    "C gc(C c) { std::cout << \"gc(C)\\n\"; return c; }"
   ]
  },
  {
   "cell_type": "markdown",
   "id": "0a948622198264ab",
   "metadata": {
    "lang": "de",
    "slideshow": {
     "slide_type": "subslide"
    },
    "tags": [
     "subslide"
    ]
   },
   "source": [
    "\n",
    "Welche der folgenden Zeilen kompilieren? Was ist die Ausgabe?"
   ]
  },
  {
   "cell_type": "code",
   "execution_count": null,
   "id": "5647dcbb30ff3567",
   "metadata": {
    "tags": [
     "keep"
    ]
   },
   "outputs": [],
   "source": [
    "// A a0;"
   ]
  },
  {
   "cell_type": "code",
   "execution_count": null,
   "id": "444dd9ca734527af",
   "metadata": {
    "tags": [
     "keep"
    ]
   },
   "outputs": [],
   "source": [
    "// B b0;"
   ]
  },
  {
   "cell_type": "code",
   "execution_count": null,
   "id": "a02202c4ff8ab1f2",
   "metadata": {
    "tags": [
     "keep"
    ]
   },
   "outputs": [],
   "source": [
    "// A a1 = 5;"
   ]
  },
  {
   "cell_type": "code",
   "execution_count": null,
   "id": "9316312580b75acd",
   "metadata": {
    "tags": [
     "keep"
    ]
   },
   "outputs": [],
   "source": [
    "// B b1 = 5;"
   ]
  },
  {
   "cell_type": "code",
   "execution_count": null,
   "id": "cecc0cb636e4c626",
   "metadata": {
    "tags": [
     "keep"
    ]
   },
   "outputs": [],
   "source": [
    "// A a2 = A{2};"
   ]
  },
  {
   "cell_type": "code",
   "execution_count": null,
   "id": "47edb61b54eff12e",
   "metadata": {
    "tags": [
     "keep"
    ]
   },
   "outputs": [],
   "source": [
    "// B b2 = B{2};"
   ]
  },
  {
   "cell_type": "code",
   "execution_count": null,
   "id": "d91ce8ef4e7cb1b5",
   "metadata": {
    "tags": [
     "keep"
    ]
   },
   "outputs": [],
   "source": [
    "// A a3 = A{B{3}};"
   ]
  },
  {
   "cell_type": "code",
   "execution_count": null,
   "id": "9d889cfc4de91339",
   "metadata": {
    "tags": [
     "keep"
    ]
   },
   "outputs": [],
   "source": [
    "// B b3 = C{B{A{}}};"
   ]
  },
  {
   "cell_type": "code",
   "execution_count": null,
   "id": "d4c9eb048e0d575d",
   "metadata": {
    "tags": [
     "keep"
    ]
   },
   "outputs": [],
   "source": [
    "// A a4 = f(5);"
   ]
  },
  {
   "cell_type": "code",
   "execution_count": null,
   "id": "15490ad8a5a439c2",
   "metadata": {
    "tags": [
     "keep"
    ]
   },
   "outputs": [],
   "source": [
    "// B b4 = f(5);"
   ]
  },
  {
   "cell_type": "code",
   "execution_count": null,
   "id": "fa377f3eef74f1f8",
   "metadata": {
    "tags": [
     "keep"
    ]
   },
   "outputs": [],
   "source": [
    "// C c4 = f(5);"
   ]
  },
  {
   "cell_type": "code",
   "execution_count": null,
   "id": "6a2f130858815705",
   "metadata": {
    "tags": [
     "keep"
    ]
   },
   "outputs": [],
   "source": [
    "// A a5 = f(A{});"
   ]
  },
  {
   "cell_type": "code",
   "execution_count": null,
   "id": "af075a08144f69f3",
   "metadata": {
    "tags": [
     "keep"
    ]
   },
   "outputs": [],
   "source": [
    "// B b5 = f(B{1});"
   ]
  },
  {
   "cell_type": "code",
   "execution_count": null,
   "id": "9b05e39bcb217de2",
   "metadata": {
    "tags": [
     "keep"
    ]
   },
   "outputs": [],
   "source": [
    "// A a6 = ga(5);"
   ]
  },
  {
   "cell_type": "code",
   "execution_count": null,
   "id": "6d25b6a6ee3d8a85",
   "metadata": {
    "tags": [
     "keep"
    ]
   },
   "outputs": [],
   "source": [
    "// B b6 = gb(5);"
   ]
  },
  {
   "cell_type": "code",
   "execution_count": null,
   "id": "961f3440e73e06d4",
   "metadata": {
    "tags": [
     "keep"
    ]
   },
   "outputs": [],
   "source": [
    "// C c6 = gc(6);"
   ]
  },
  {
   "cell_type": "code",
   "execution_count": null,
   "id": "e9fb6758433d1651",
   "metadata": {
    "tags": [
     "keep"
    ]
   },
   "outputs": [],
   "source": [
    "// A a7 = ga(B{7});"
   ]
  },
  {
   "cell_type": "code",
   "execution_count": null,
   "id": "2eefba515c3a4c2a",
   "metadata": {
    "tags": [
     "keep"
    ]
   },
   "outputs": [],
   "source": [
    "// B b7 = gb(C{7});"
   ]
  },
  {
   "cell_type": "code",
   "execution_count": null,
   "id": "124b32b1d78c5aac",
   "metadata": {
    "tags": [
     "keep"
    ]
   },
   "outputs": [],
   "source": [
    "// A a8 = ga(C{8});"
   ]
  },
  {
   "cell_type": "code",
   "execution_count": null,
   "id": "337ea07231649d3e",
   "metadata": {
    "tags": [
     "keep"
    ]
   },
   "outputs": [],
   "source": [
    "// A a9 = f(ga(5));"
   ]
  },
  {
   "cell_type": "code",
   "execution_count": null,
   "id": "77e849be6632ce1a",
   "metadata": {
    "tags": [
     "keep"
    ]
   },
   "outputs": [],
   "source": [
    "// B b9 = f(gb(C{5}));"
   ]
  },
  {
   "cell_type": "code",
   "execution_count": null,
   "id": "2843125515fa9e28",
   "metadata": {
    "tags": [
     "keep"
    ]
   },
   "outputs": [],
   "source": [
    "// C c9 = f(gb(C{5}));"
   ]
  },
  {
   "cell_type": "code",
   "execution_count": null,
   "id": "57ec83f1c1346363",
   "metadata": {
    "tags": [
     "keep"
    ]
   },
   "outputs": [],
   "source": [
    "// A a;\n",
    "// C c10 = f(gb(C{a}));"
   ]
  },
  {
   "cell_type": "code",
   "execution_count": null,
   "id": "d815f3702c756b00",
   "metadata": {
    "tags": [
     "keep"
    ]
   },
   "outputs": [],
   "source": [
    "// A a10 = ga(f(5));"
   ]
  },
  {
   "cell_type": "code",
   "execution_count": null,
   "id": "356094bef78b8bf5",
   "metadata": {
    "tags": [
     "keep"
    ]
   },
   "outputs": [],
   "source": [
    "// B b10 = gb(f(5));"
   ]
  }
 ],
 "metadata": {
  "kernelspec": {
   "display_name": "C++17",
   "language": "C++17",
   "name": "xcpp17"
  },
  "language_info": {
   "codemirror_mode": "text/x-c++src",
   "file_extension": ".cpp",
   "mimetype": "text/x-c++src",
   "name": "c++",
   "version": "17"
  }
 },
 "nbformat": 4,
 "nbformat_minor": 5
}
