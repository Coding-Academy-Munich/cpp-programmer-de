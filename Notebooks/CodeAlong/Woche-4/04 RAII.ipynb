{
 "cells": [
  {
   "cell_type": "markdown",
   "id": "49e245db64ed1358",
   "metadata": {
    "lang": "de",
    "slideshow": {
     "slide_type": "slide"
    },
    "tags": [
     "slide"
    ]
   },
   "source": [
    "\n",
    "<img src=\"data:image/png;base64,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\"\n",
    "     style=\"display:block;margin:auto;width:5%\"/>\n",
    "<br>\n",
    "\n",
    "<div style=\"text-align:center; font-size:200%;\">\n",
    " <b>RAII</b>\n",
    "</div>\n",
    "<br/>\n",
    "<div style=\"text-align:center; font-size:120%;\">Dr. Matthias Hölzl</div>\n",
    "<br/>\n",
    "<div style=\"text-align:center;\">Coding-Akademie München</div>\n",
    "<br/>\n",
    "<!-- 04 RAII.ipynb -->\n",
    "<!-- slides/module_160_raii/topic_110_raii.cpp -->"
   ]
  },
  {
   "cell_type": "markdown",
   "id": "72648d17b8defda4",
   "metadata": {
    "lang": "de",
    "slideshow": {
     "slide_type": "slide"
    },
    "tags": [
     "slide"
    ]
   },
   "source": [
    "\n",
    "## Resource Acquisition Is Initialization (RAII)\n",
    "\n",
    "Schema zur Ressourcenverwaltung in C++\n",
    "\n",
    "- Ressourcen werden in Konstruktoren erworben\n",
    "- Ressourcen werden in Destruktoren freigegeben\n",
    "\n",
    "Ressourcenverwaltung ist damit automatisch"
   ]
  },
  {
   "cell_type": "markdown",
   "id": "0feb46be1fc61c82",
   "metadata": {
    "lang": "de",
    "slideshow": {
     "slide_type": "subslide"
    },
    "tags": [
     "subslide"
    ]
   },
   "source": [
    "\n",
    "## Beispiel: Vektor\n",
    "\n",
    "- Heap-Speicher wird im Konstruktor angelegt\n",
    "- Heap-Speicher wird im Destruktor freigegeben\n",
    "- Copy-Control-Operationen müssen die Ressourcen richtig verwalten"
   ]
  },
  {
   "cell_type": "markdown",
   "id": "65e2e7bfe3d49c65",
   "metadata": {
    "lang": "de",
    "slideshow": {
     "slide_type": "subslide"
    },
    "tags": [
     "subslide"
    ]
   },
   "source": [
    "\n",
    "## C++ Core Guidelines für RAII\n",
    "\n",
    "- [P.8: Don’t leak any\n",
    "  resources](https://isocpp.github.io/CppCoreGuidelines/CppCoreGuidelines#p8-dont-leak-any-resources)\n",
    "- [R.1: Manage resources automatically using resource handles and RAII\n",
    "  (Resource Acquisition Is\n",
    "  Initialization)](https://isocpp.github.io/CppCoreGuidelines/CppCoreGuidelines#r1-manage-resources-automatically-using-resource-handles-and-raii-resource-acquisition-is-initialization)\n",
    "- [E.6: Use RAII to prevent\n",
    "  leaks](https://isocpp.github.io/CppCoreGuidelines/CppCoreGuidelines#e6-use-raii-to-prevent-leaks)"
   ]
  },
  {
   "cell_type": "markdown",
   "id": "c8f03097c1468162",
   "metadata": {
    "lang": "de",
    "slideshow": {
     "slide_type": "subslide"
    },
    "tags": [
     "subslide"
    ]
   },
   "source": [
    "\n",
    "## Beispiel: Dateien\n",
    "\n",
    "- [Filesystem](https://en.cppreference.com/w/cpp/filesystem)-Bibliothek für\n",
    "  Dateioperationen (C++17)\n",
    "- Ein- und Ausgabe über Streams"
   ]
  },
  {
   "cell_type": "markdown",
   "id": "ec867ca917c66daf",
   "metadata": {
    "lang": "de",
    "slideshow": {
     "slide_type": "subslide"
    },
    "tags": [
     "subslide"
    ]
   },
   "source": [
    "\n",
    "### RAII für Dateien\n",
    "\n",
    "- Datei wird im Konstruktor geöffnet\n",
    "- Datei wird im Destruktor geschlossen\n",
    "\n",
    "Ressourcenverwaltung ist damit automatisch"
   ]
  },
  {
   "cell_type": "code",
   "execution_count": null,
   "id": "8e9afa7b7d533226",
   "metadata": {
    "tags": [
     "keep"
    ]
   },
   "outputs": [],
   "source": [
    "// !ls /tmp"
   ]
  },
  {
   "cell_type": "code",
   "execution_count": null,
   "id": "4b12f07a541416e0",
   "metadata": {
    "slideshow": {
     "slide_type": "subslide"
    },
    "tags": [
     "keep",
     "subslide"
    ]
   },
   "outputs": [],
   "source": [
    "#include <fstream>\n",
    "#include <iostream>"
   ]
  },
  {
   "cell_type": "code",
   "execution_count": null,
   "id": "a9b4db9a6fe41627",
   "metadata": {
    "tags": [
     "keep"
    ]
   },
   "outputs": [],
   "source": [
    "{\n",
    "    std::ifstream file{\"/tmp/test.txt\"};\n",
    "    if (file) {\n",
    "        std::cout << \"File exists!\\n\";\n",
    "    } else {\n",
    "        std::cout << \"Could not open file!\\n\";\n",
    "    }\n",
    "}"
   ]
  },
  {
   "cell_type": "code",
   "execution_count": null,
   "id": "19636a12b5c8709b",
   "metadata": {
    "slideshow": {
     "slide_type": "subslide"
    },
    "tags": [
     "keep",
     "subslide"
    ]
   },
   "outputs": [],
   "source": [
    "{\n",
    "    std::ofstream file{\"/tmp/test.txt\"};\n",
    "    file << \"Hello World!\\n\";\n",
    "}"
   ]
  },
  {
   "cell_type": "code",
   "execution_count": null,
   "id": "7be2ab37c02b1b86",
   "metadata": {
    "tags": [
     "keep"
    ]
   },
   "outputs": [],
   "source": [
    "// !ls /tmp"
   ]
  },
  {
   "cell_type": "code",
   "execution_count": null,
   "id": "63eb8ae66e20296f",
   "metadata": {
    "slideshow": {
     "slide_type": "subslide"
    },
    "tags": [
     "keep",
     "subslide"
    ]
   },
   "outputs": [],
   "source": [
    "{\n",
    "    std::ifstream file{\"/tmp/test.txt\"};\n",
    "    if (file) {\n",
    "        std::string line;\n",
    "        std::getline(file, line);\n",
    "        if (file) {\n",
    "            std::cout << \"Line is: \" << line << \"\\n\";\n",
    "        } else {\n",
    "            std::cout << \"Could not read line!\\n\";\n",
    "        }\n",
    "    } else {\n",
    "        std::cout << \"Could not open file!\\n\";\n",
    "    }\n",
    "    // file is closed here\n",
    "}"
   ]
  },
  {
   "cell_type": "markdown",
   "id": "7a91a845019b7344",
   "metadata": {
    "lang": "de",
    "slideshow": {
     "slide_type": "subslide"
    },
    "tags": [
     "subslide"
    ]
   },
   "source": [
    "\n",
    "- Vektoren können kopiert werden, Speicher wird dupliziert\n",
    "- Bei anderen Ressourcen ist das nicht immer möglich\n",
    "  - Dateien\n",
    "  - Mutexes\n",
    "  - Threads\n",
    "  - ..."
   ]
  },
  {
   "cell_type": "code",
   "execution_count": null,
   "id": "46dd1a9e599764be",
   "metadata": {
    "slideshow": {
     "slide_type": "subslide"
    },
    "tags": [
     "keep",
     "subslide"
    ]
   },
   "outputs": [],
   "source": [
    "#include <fstream>"
   ]
  },
  {
   "cell_type": "code",
   "execution_count": null,
   "id": "35d43db3e83d2212",
   "metadata": {
    "lines_to_next_cell": 2,
    "tags": [
     "keep"
    ]
   },
   "outputs": [],
   "source": [
    "{\n",
    "    std::ofstream file1{\"/tmp/test.txt\"};\n",
    "    // std::ofstream file2{file1};\n",
    "}"
   ]
  },
  {
   "cell_type": "code",
   "execution_count": null,
   "id": "3ab41d7a73e1ed24",
   "metadata": {
    "slideshow": {
     "slide_type": "subslide"
    },
    "tags": [
     "keep",
     "subslide"
    ]
   },
   "outputs": [],
   "source": [
    "{\n",
    "    std::ofstream file1{\"/tmp/test.txt\"};\n",
    "    std::ofstream file2{std::move(file1)};\n",
    "\n",
    "    if (!file1.is_open()) {\n",
    "        std::cout << \"file1 is closed\\n\";\n",
    "    }\n",
    "    if (file2.is_open()) {\n",
    "        std::cout << \"file2 is open\\n\";\n",
    "    }\n",
    "}"
   ]
  },
  {
   "cell_type": "code",
   "execution_count": null,
   "id": "cfcb08c627f0de3d",
   "metadata": {
    "slideshow": {
     "slide_type": "subslide"
    },
    "tags": [
     "keep",
     "subslide"
    ]
   },
   "outputs": [],
   "source": [
    "#include <filesystem>"
   ]
  },
  {
   "cell_type": "code",
   "execution_count": null,
   "id": "03fa83560eba563a",
   "metadata": {
    "tags": [
     "keep"
    ]
   },
   "outputs": [],
   "source": [
    "std::filesystem::exists(\"/tmp/test.txt\");"
   ]
  },
  {
   "cell_type": "code",
   "execution_count": null,
   "id": "3fb3fd3f88513153",
   "metadata": {
    "tags": [
     "keep"
    ]
   },
   "outputs": [],
   "source": [
    "std::filesystem::path file{\"/tmp/test.txt\"};\n",
    "\n",
    "std::cout << \"stem = \" << file.stem() << \", ext = \" << file.extension() << \"\\n\";"
   ]
  },
  {
   "cell_type": "code",
   "execution_count": null,
   "id": "2207d767afcd5a8a",
   "metadata": {
    "tags": [
     "keep"
    ]
   },
   "outputs": [],
   "source": [
    "std::filesystem::remove(file);"
   ]
  },
  {
   "cell_type": "code",
   "execution_count": null,
   "id": "4d0c4c535635306f",
   "metadata": {
    "tags": [
     "keep"
    ]
   },
   "outputs": [],
   "source": [
    "std::filesystem::exists(file);"
   ]
  },
  {
   "cell_type": "code",
   "execution_count": null,
   "id": "2c09acbd39882005",
   "metadata": {
    "tags": [
     "keep"
    ]
   },
   "outputs": [],
   "source": [
    "// !ls /tmp"
   ]
  },
  {
   "cell_type": "markdown",
   "id": "7d9d6518a74ab58a",
   "metadata": {
    "lang": "de",
    "slideshow": {
     "slide_type": "subslide"
    },
    "tags": [
     "subslide"
    ]
   },
   "source": [
    "\n",
    "## Mini-Workshop: RAII Integer auf dem Heap\n",
    "\n",
    "- Schreiben Sie eine Klasse `IntOnHeap`, die einen `int` Wert auf dem Heap\n",
    "  verwaltet\n",
    "- Ein Konstruktor soll einen `int` Wert übergeben bekommen und diesen auf dem\n",
    "  Heap anlegen\n",
    "- Ein Destruktor soll den Wert wieder freigeben\n",
    "- Implementieren Sie Copy-Control-Operationen, die das richtige Verhalten\n",
    "  sicherstellen\n",
    "  - Kopieren soll nicht erlaubt sein\n",
    "  - Verschieben soll möglich sein\n",
    "- Implementieren Sie eine Methode `get`, die den Wert zurückgibt\n",
    "- Implementieren Sie eine Methode `set`, die den Wert ändert"
   ]
  },
  {
   "cell_type": "code",
   "execution_count": null,
   "id": "963ea7079d341b97",
   "metadata": {
    "slideshow": {
     "slide_type": "subslide"
    },
    "tags": [
     "keep",
     "subslide"
    ]
   },
   "outputs": [],
   "source": [
    "#include <iostream>\n",
    "#include <string>\n",
    "\n",
    "using namespace std::string_literals;"
   ]
  },
  {
   "cell_type": "code",
   "execution_count": null,
   "id": "70af3e66c22ea997",
   "metadata": {},
   "outputs": [],
   "source": []
  },
  {
   "cell_type": "code",
   "execution_count": null,
   "id": "eb3716399ef01305",
   "metadata": {
    "slideshow": {
     "slide_type": "subslide"
    },
    "tags": [
     "subslide"
    ]
   },
   "outputs": [],
   "source": []
  }
 ],
 "metadata": {
  "kernelspec": {
   "display_name": "C++17",
   "language": "C++17",
   "name": "xcpp17"
  },
  "language_info": {
   "codemirror_mode": "text/x-c++src",
   "file_extension": ".cpp",
   "mimetype": "text/x-c++src",
   "name": "c++",
   "version": "17"
  }
 },
 "nbformat": 4,
 "nbformat_minor": 5
}
