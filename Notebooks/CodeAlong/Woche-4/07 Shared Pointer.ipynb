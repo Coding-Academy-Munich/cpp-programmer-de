{
 "cells": [
  {
   "cell_type": "markdown",
   "id": "f9f00d6176569396",
   "metadata": {
    "lang": "de",
    "slideshow": {
     "slide_type": "slide"
    },
    "tags": [
     "slide"
    ]
   },
   "source": [
    "\n",
    "<img src=\"data:image/png;base64,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\"\n",
    "     style=\"display:block;margin:auto;width:5%\"/>\n",
    "<br>\n",
    "\n",
    "<div style=\"text-align:center; font-size:200%;\">\n",
    " <b>Shared Pointer</b>\n",
    "</div>\n",
    "<br/>\n",
    "<div style=\"text-align:center; font-size:120%;\">Dr. Matthias Hölzl</div>\n",
    "<br/>\n",
    "<div style=\"text-align:center;\">Coding-Akademie München</div>\n",
    "<br/>\n",
    "<!-- 07 Shared Pointer.ipynb -->\n",
    "<!-- slides/module_160_raii/topic_140_shared_ptr.cpp -->"
   ]
  },
  {
   "cell_type": "markdown",
   "id": "a4a31e83ad6b1f92",
   "metadata": {
    "lang": "de",
    "slideshow": {
     "slide_type": "subslide"
    },
    "tags": [
     "subslide"
    ]
   },
   "source": [
    "\n",
    "- Shared Pointers können *gemeinsam* Eigentümer eines Objekts sein\n",
    "- Sie verwenden Reference-Counting"
   ]
  },
  {
   "cell_type": "code",
   "execution_count": null,
   "id": "da36895d51e2479e",
   "metadata": {
    "slideshow": {
     "slide_type": "subslide"
    },
    "tags": [
     "keep",
     "subslide"
    ]
   },
   "outputs": [],
   "source": [
    "#include <iostream>\n",
    "#include <memory>\n",
    "#include <vector>\n",
    "#include <xcpp/xdisplay.hpp>\n",
    "\n",
    "#include \"lifetime_observer.hpp\"\n",
    "#include \"print_info.hpp\""
   ]
  },
  {
   "cell_type": "code",
   "execution_count": null,
   "id": "1d6808984694975a",
   "metadata": {
    "slideshow": {
     "slide_type": "subslide"
    },
    "tags": [
     "keep",
     "subslide"
    ]
   },
   "outputs": [],
   "source": [
    "std::shared_ptr<Obs> obs{};"
   ]
  },
  {
   "cell_type": "code",
   "execution_count": null,
   "id": "dbca893a71dd9447",
   "metadata": {
    "tags": [
     "keep"
    ]
   },
   "outputs": [],
   "source": [
    "print_bool(obs);"
   ]
  },
  {
   "cell_type": "code",
   "execution_count": null,
   "id": "de6d06b73cfb2c04",
   "metadata": {},
   "outputs": [],
   "source": []
  },
  {
   "cell_type": "code",
   "execution_count": null,
   "id": "281468594a867ac4",
   "metadata": {
    "slideshow": {
     "slide_type": "subslide"
    },
    "tags": [
     "keep",
     "subslide"
    ]
   },
   "outputs": [],
   "source": [
    "{\n",
    "    std::shared_ptr<Obs> obs{std::make_shared<Obs>(1)};\n",
    "    print_bool(\"obs\", obs);\n",
    "    print_use_count(\"obs\", obs);\n",
    "    std::shared_ptr<Obs> obs2{obs};\n",
    "    print_use_count(\"obs\", obs);\n",
    "    print_use_count(\"obs2\", obs2);\n",
    "}"
   ]
  },
  {
   "cell_type": "code",
   "execution_count": null,
   "id": "7232cb87a289ee85",
   "metadata": {
    "lines_to_next_cell": 2,
    "slideshow": {
     "slide_type": "subslide"
    },
    "tags": [
     "keep",
     "subslide"
    ]
   },
   "outputs": [],
   "source": [
    "{\n",
    "    std::shared_ptr<Obs> obs{std::make_shared<Obs>(2)};\n",
    "    std::shared_ptr<Obs> obs2{};\n",
    "    print_use_count(\"obs  (outer block)\", obs);\n",
    "    print_use_count(\"obs2 (outer block)\", obs2);\n",
    "    {\n",
    "        std::shared_ptr<Obs> obs3{obs};\n",
    "        obs2 = obs3;\n",
    "        print_use_count(\"obs  (inner block)\", obs);\n",
    "        print_use_count(\"obs2 (inner block)\", obs2);\n",
    "        print_use_count(\"obs3 (inner block)\", obs3);\n",
    "    }\n",
    "    print_use_count(\"obs  (outer block, again)\", obs);\n",
    "    print_use_count(\"obs2 (outer block, again)\", obs2);\n",
    "    obs.reset();\n",
    "    print_use_count(\"obs  (outer block, after reset)\", obs);\n",
    "    print_use_count(\"obs2 (outer block, after reset)\", obs2);\n",
    "}"
   ]
  },
  {
   "cell_type": "markdown",
   "id": "aef8376e1457f919",
   "metadata": {
    "lang": "de",
    "slideshow": {
     "slide_type": "subslide"
    },
    "tags": [
     "subslide"
    ]
   },
   "source": [
    "\n",
    "## Shared Pointers und Funktionsaufrufe"
   ]
  },
  {
   "cell_type": "code",
   "execution_count": null,
   "id": "876bdadce51e87e7",
   "metadata": {
    "tags": [
     "keep"
    ]
   },
   "outputs": [],
   "source": [
    "void describe(const Obs& obs) { std::cout << \"describe(Obs&): \" << obs << \"\\n\"; }"
   ]
  },
  {
   "cell_type": "code",
   "execution_count": null,
   "id": "6b62800c2ac1c394",
   "metadata": {
    "tags": [
     "keep"
    ]
   },
   "outputs": [],
   "source": [
    "void describe(const Obs* obs) { std::cout << \"describe(Obs*): \" << obs << \"\\n\"; }"
   ]
  },
  {
   "cell_type": "code",
   "execution_count": null,
   "id": "3e827ab7d9078bae",
   "metadata": {
    "slideshow": {
     "slide_type": "subslide"
    },
    "tags": [
     "keep",
     "subslide"
    ]
   },
   "outputs": [],
   "source": [
    "auto obs{std::make_shared<Obs>()};"
   ]
  },
  {
   "cell_type": "code",
   "execution_count": null,
   "id": "d4d43826ab4feb36",
   "metadata": {
    "tags": [
     "keep"
    ]
   },
   "outputs": [],
   "source": [
    "describe(*obs);"
   ]
  },
  {
   "cell_type": "code",
   "execution_count": null,
   "id": "09d22d7c894a985e",
   "metadata": {
    "tags": [
     "keep"
    ]
   },
   "outputs": [],
   "source": [
    "describe(obs.get());"
   ]
  },
  {
   "cell_type": "markdown",
   "id": "6fcdc04ece57ec1b",
   "metadata": {
    "lang": "de",
    "slideshow": {
     "slide_type": "subslide"
    },
    "tags": [
     "subslide"
    ]
   },
   "source": [
    "\n",
    "## Shared und Unique Pointers\n",
    "\n",
    "- Ein Unique Pointer kann in einen Shared Pointer umgewandelt werden:"
   ]
  },
  {
   "cell_type": "code",
   "execution_count": null,
   "id": "789a2ba8abb625cc",
   "metadata": {
    "tags": [
     "keep"
    ]
   },
   "outputs": [],
   "source": [
    "std::unique_ptr<Obs> obs_up{std::make_unique<Obs>()};\n",
    "std::shared_ptr<Obs> obs_sp{std::move(obs_up)};"
   ]
  },
  {
   "cell_type": "code",
   "execution_count": null,
   "id": "760c33859505e62b",
   "metadata": {
    "tags": [
     "keep"
    ]
   },
   "outputs": [],
   "source": [
    "std::cout << obs_up.get() << \"\\n\";\n",
    "std::cout << obs_sp.get() << \"\\n\";"
   ]
  },
  {
   "cell_type": "code",
   "execution_count": null,
   "id": "a5d03480c64bfd7b",
   "metadata": {
    "tags": [
     "keep"
    ]
   },
   "outputs": [],
   "source": [
    "std::cout << *obs_sp;"
   ]
  },
  {
   "cell_type": "code",
   "execution_count": null,
   "id": "7b891a10bad26d2b",
   "metadata": {
    "tags": [
     "keep"
    ]
   },
   "outputs": [],
   "source": [
    "xcpp::display(obs_sp.use_count());"
   ]
  },
  {
   "cell_type": "markdown",
   "id": "28d898790b7152bf",
   "metadata": {
    "lang": "de",
    "slideshow": {
     "slide_type": "subslide"
    },
    "tags": [
     "subslide"
    ]
   },
   "source": [
    "\n",
    "## Vorsicht bei Zyklen!\n",
    "\n",
    "- Shared Pointer können Zyklen bilden\n",
    "- Diese Zyklen werden nicht automatisch aufgelöst"
   ]
  },
  {
   "cell_type": "code",
   "execution_count": null,
   "id": "0c386d205f4f9f80",
   "metadata": {
    "slideshow": {
     "slide_type": "subslide"
    },
    "tags": [
     "keep",
     "subslide"
    ]
   },
   "outputs": [],
   "source": [
    "struct Cycle {\n",
    "    ~Cycle() { std::cout << \"Cycle::~Cycle()\\n\"; }\n",
    "    std::shared_ptr<Cycle> other;\n",
    "};"
   ]
  },
  {
   "cell_type": "code",
   "execution_count": null,
   "id": "b97718f7304e8c3f",
   "metadata": {
    "tags": [
     "keep"
    ]
   },
   "outputs": [],
   "source": [
    "{\n",
    "    std::shared_ptr<Cycle> c1{std::make_shared<Cycle>()};\n",
    "    std::shared_ptr<Cycle> c2{std::make_shared<Cycle>()};\n",
    "    std::shared_ptr<Cycle> c3{std::make_shared<Cycle>()};\n",
    "    c1->other = c2;\n",
    "    c2->other = c1;\n",
    "    print_use_count(\"c1\", c1);\n",
    "    print_use_count(\"c2\", c2);\n",
    "    print_use_count(\"c3\", c3);\n",
    "}"
   ]
  },
  {
   "cell_type": "markdown",
   "id": "f2ded9dd3497df81",
   "metadata": {
    "lang": "de",
    "slideshow": {
     "slide_type": "subslide"
    },
    "tags": [
     "subslide"
    ]
   },
   "source": [
    "\n",
    "- Zum Auflösen von Zyklen kann man Weak Pointers einsetzen"
   ]
  },
  {
   "cell_type": "markdown",
   "id": "4dd88f87dfa8a5d1",
   "metadata": {
    "lang": "de",
    "slideshow": {
     "slide_type": "slide"
    },
    "tags": [
     "slide"
    ]
   },
   "source": [
    "\n",
    "## Enable Shared From This\n",
    "\n",
    "- Wir übergeben typischerweise Argumente als Referenzen oder Raw Pointers\n",
    "- Was ist, wenn wir einen Shared Pointer auf ein solches Objekt erzeugen\n",
    "  wollen?\n",
    "- Wir können **nicht** einfach den Konstruktor verwenden\n",
    "- Wenn eine Klasse von `std::enable_shared_from_this` erbt, können wir die\n",
    "  `shared_from_this()` Member-Funktion verwenden\n",
    "- **Dazu muss das Objekt bereits von einem Shared Pointer verwaltet werden!**"
   ]
  },
  {
   "cell_type": "code",
   "execution_count": null,
   "id": "c46971fa94e47b17",
   "metadata": {
    "slideshow": {
     "slide_type": "subslide"
    },
    "tags": [
     "keep",
     "subslide"
    ]
   },
   "outputs": [],
   "source": [
    "struct SharedFromThis : std::enable_shared_from_this<SharedFromThis> {\n",
    "    Obs value{};\n",
    "};"
   ]
  },
  {
   "cell_type": "code",
   "execution_count": null,
   "id": "bb787282e961efda",
   "metadata": {
    "slideshow": {
     "slide_type": "subslide"
    },
    "tags": [
     "keep",
     "subslide"
    ]
   },
   "outputs": [],
   "source": [
    "std::vector<std::shared_ptr<SharedFromThis>> vec{};"
   ]
  },
  {
   "cell_type": "code",
   "execution_count": null,
   "id": "247114ec0192a6ce",
   "metadata": {
    "tags": [
     "keep"
    ]
   },
   "outputs": [],
   "source": [
    "void StoreInVec(SharedFromThis& sft) { vec.push_back(sft.shared_from_this()); }"
   ]
  },
  {
   "cell_type": "code",
   "execution_count": null,
   "id": "f37b0796d0bfc374",
   "metadata": {
    "tags": [
     "keep"
    ]
   },
   "outputs": [],
   "source": [
    "auto sft{std::make_shared<SharedFromThis>()};"
   ]
  },
  {
   "cell_type": "code",
   "execution_count": null,
   "id": "883d0bbbbe2d505f",
   "metadata": {
    "tags": [
     "keep"
    ]
   },
   "outputs": [],
   "source": [
    "StoreInVec(*sft);"
   ]
  },
  {
   "cell_type": "code",
   "execution_count": null,
   "id": "540bd7b819dc3b42",
   "metadata": {
    "tags": [
     "keep"
    ]
   },
   "outputs": [],
   "source": [
    "xcpp::display(vec[0]->value);\n",
    "xcpp::display(sft->value);"
   ]
  },
  {
   "cell_type": "code",
   "execution_count": null,
   "id": "236744aef84772b7",
   "metadata": {
    "slideshow": {
     "slide_type": "subslide"
    },
    "tags": [
     "keep",
     "subslide"
    ]
   },
   "outputs": [],
   "source": [
    "vec[0]->value = 42;"
   ]
  },
  {
   "cell_type": "code",
   "execution_count": null,
   "id": "9439a55c5686bff4",
   "metadata": {
    "tags": [
     "keep"
    ]
   },
   "outputs": [],
   "source": [
    "xcpp::display(vec[0].use_count());\n",
    "xcpp::display(vec[0]->value);\n",
    "xcpp::display(sft->value);"
   ]
  },
  {
   "cell_type": "code",
   "execution_count": null,
   "id": "bbd9cbecdb2c7ab9",
   "metadata": {
    "tags": [
     "keep"
    ]
   },
   "outputs": [],
   "source": [
    "sft.reset();"
   ]
  },
  {
   "cell_type": "code",
   "execution_count": null,
   "id": "f50ac401e3e0e804",
   "metadata": {
    "tags": [
     "keep"
    ]
   },
   "outputs": [],
   "source": [
    "xcpp::display(vec[0].use_count());\n",
    "xcpp::display(vec[0]->value);"
   ]
  },
  {
   "cell_type": "code",
   "execution_count": null,
   "id": "76a807d379cfe566",
   "metadata": {
    "tags": [
     "keep"
    ]
   },
   "outputs": [],
   "source": [
    "vec.clear();"
   ]
  },
  {
   "cell_type": "code",
   "execution_count": null,
   "id": "6b4e03423667dbb7",
   "metadata": {},
   "outputs": [],
   "source": []
  }
 ],
 "metadata": {
  "kernelspec": {
   "display_name": "C++17",
   "language": "C++17",
   "name": "xcpp17"
  },
  "language_info": {
   "codemirror_mode": "text/x-c++src",
   "file_extension": ".cpp",
   "mimetype": "text/x-c++src",
   "name": "c++",
   "version": "17"
  }
 },
 "nbformat": 4,
 "nbformat_minor": 5
}
