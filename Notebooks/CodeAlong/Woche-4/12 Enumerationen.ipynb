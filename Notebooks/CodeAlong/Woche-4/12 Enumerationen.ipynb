{
 "cells": [
  {
   "cell_type": "markdown",
   "id": "1b3acd67174ade81",
   "metadata": {
    "lang": "de",
    "slideshow": {
     "slide_type": "slide"
    },
    "tags": [
     "slide"
    ]
   },
   "source": [
    "\n",
    "<img src=\"data:image/png;base64,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\"\n",
    "     style=\"display:block;margin:auto;width:5%\"/>\n",
    "<br>\n",
    "\n",
    "<div style=\"text-align:center; font-size:200%;\">\n",
    " <b>Enumerationen</b>\n",
    "</div>\n",
    "<br/>\n",
    "<div style=\"text-align:center; font-size:120%;\">Dr. Matthias Hölzl</div>\n",
    "<br/>\n",
    "<div style=\"text-align:center;\">Coding-Akademie München</div>\n",
    "<br/>\n",
    "<!-- 12 Enumerationen.ipynb -->\n",
    "<!-- slides/module_120_basics/topic_220_enumerations.cpp -->"
   ]
  },
  {
   "cell_type": "markdown",
   "id": "4098449c8d21bbc3",
   "metadata": {
    "Lang": "de",
    "slideshow": {
     "slide_type": "subslide"
    },
    "tags": [
     "subslide"
    ]
   },
   "source": [
    "\n",
    "# Enumerations\n",
    "\n",
    "- Enumerationen sind eine Möglichkeit, eine Menge von zusammengehörigen,\n",
    "  numerischen Werten zu definieren.\n",
    "- In C++ gibt es zwei Arten von Enumerationen:\n",
    "    - `enum class` (scoped Enumeration, C++11)\n",
    "    - `enum` (unscoped Enumeration, C++98)\n",
    "- `enum class` ist typischerweise empfehlenswert, weil\n",
    "   - die Enumerations-Werte im Namespace der Enumeration definiert werden\n",
    "   - sie nicht implizit in einen `int`-Wert konvertiert."
   ]
  },
  {
   "cell_type": "markdown",
   "id": "4273b31ba60b2328",
   "metadata": {
    "lang": "de",
    "slideshow": {
     "slide_type": "subslide"
    },
    "tags": [
     "subslide"
    ]
   },
   "source": [
    "\n",
    "## Scoped Enumerations\n",
    "\n",
    "- Die Werte einer scoped Enumeration werden durch den Namen der Enumeration\n",
    "  und den Enumerator angegeben:"
   ]
  },
  {
   "cell_type": "code",
   "execution_count": null,
   "id": "8544cbd107aa308e",
   "metadata": {
    "slideshow": {
     "slide_type": "subslide"
    },
    "tags": [
     "subslide",
     "keep"
    ]
   },
   "outputs": [],
   "source": [
    "enum class Color\n",
    "{\n",
    "    Red,\n",
    "    Green,\n",
    "    Blue\n",
    "};"
   ]
  },
  {
   "cell_type": "code",
   "execution_count": null,
   "id": "eecd697293cf35a6",
   "metadata": {
    "tags": [
     "keep"
    ]
   },
   "outputs": [],
   "source": [
    "Color color{Color::Red};"
   ]
  },
  {
   "cell_type": "code",
   "execution_count": null,
   "id": "a0ee650c342d197c",
   "metadata": {
    "slideshow": {
     "slide_type": "subslide"
    },
    "tags": [
     "subslide",
     "keep"
    ]
   },
   "outputs": [],
   "source": [
    "#include <iostream>"
   ]
  },
  {
   "cell_type": "code",
   "execution_count": null,
   "id": "456cdf448d48b49e",
   "metadata": {
    "tags": [
     "keep"
    ]
   },
   "outputs": [],
   "source": [
    "if (color == Color::Red) {\n",
    "    std::cout << \"Red\";\n",
    "}"
   ]
  },
  {
   "cell_type": "code",
   "execution_count": null,
   "id": "c49f33dc5f9a4b85",
   "metadata": {
    "tags": [
     "keep"
    ]
   },
   "outputs": [],
   "source": [
    "color = Color::Green;"
   ]
  },
  {
   "cell_type": "markdown",
   "id": "f3228be480afb502",
   "metadata": {
    "lang": "de",
    "slideshow": {
     "slide_type": "subslide"
    },
    "tags": [
     "subslide"
    ]
   },
   "source": [
    "\n",
    "- Verschiedene Enumerationen können den gleichen Enumerator haben:"
   ]
  },
  {
   "cell_type": "code",
   "execution_count": null,
   "id": "02eb9fa790982f65",
   "metadata": {
    "tags": [
     "keep"
    ]
   },
   "outputs": [],
   "source": [
    "enum class TrafficLight\n",
    "{\n",
    "    Red,\n",
    "    Yellow,\n",
    "    Green\n",
    "};"
   ]
  },
  {
   "cell_type": "code",
   "execution_count": null,
   "id": "088e0e9b65a27f8c",
   "metadata": {
    "tags": [
     "keep"
    ]
   },
   "outputs": [],
   "source": [
    "TrafficLight light{TrafficLight::Red};"
   ]
  },
  {
   "cell_type": "code",
   "execution_count": null,
   "id": "c2164eb2d702f230",
   "metadata": {
    "slideshow": {
     "slide_type": "subslide"
    },
    "tags": [
     "subslide",
     "keep"
    ]
   },
   "outputs": [],
   "source": [
    "void print_light(TrafficLight light)\n",
    "{\n",
    "    switch (light) {\n",
    "    case TrafficLight::Red: std::cout << \"Red\"; break;\n",
    "    case TrafficLight::Yellow: std::cout << \"Yellow\"; break;\n",
    "    case TrafficLight::Green: std::cout << \"Green\"; break;\n",
    "    }\n",
    "}"
   ]
  },
  {
   "cell_type": "code",
   "execution_count": null,
   "id": "fa112b04bbf4bb4c",
   "metadata": {
    "tags": [
     "keep"
    ]
   },
   "outputs": [],
   "source": [
    "print_light(light);"
   ]
  },
  {
   "cell_type": "code",
   "execution_count": null,
   "id": "de6f437dd4574426",
   "metadata": {
    "tags": [
     "keep"
    ]
   },
   "outputs": [],
   "source": [
    "print_light(TrafficLight::Green);"
   ]
  },
  {
   "cell_type": "markdown",
   "id": "c948daaa787658de",
   "metadata": {
    "lang": "de",
    "slideshow": {
     "slide_type": "subslide"
    },
    "tags": [
     "subslide"
    ]
   },
   "source": [
    "\n",
    "- Jede Enumeration definiert einen eigenen Typ.\n",
    "- Bei Scoped Enumerations können die Werte nur mit dem Typ der Enumeration\n",
    "  verwendet werden."
   ]
  },
  {
   "cell_type": "code",
   "execution_count": null,
   "id": "3eb8f6a533d23888",
   "metadata": {
    "tags": [
     "keep"
    ]
   },
   "outputs": [],
   "source": [
    "// color == light"
   ]
  },
  {
   "cell_type": "code",
   "execution_count": null,
   "id": "3a4e68dd9859a050",
   "metadata": {
    "tags": [
     "keep"
    ]
   },
   "outputs": [],
   "source": [
    "// color = TrafficLight::Green;"
   ]
  },
  {
   "cell_type": "code",
   "execution_count": null,
   "id": "e0cb582671c3b9ce",
   "metadata": {
    "tags": [
     "keep"
    ]
   },
   "outputs": [],
   "source": [
    "// print_light(Color::Green);"
   ]
  },
  {
   "cell_type": "markdown",
   "id": "51793b32ee595652",
   "metadata": {
    "lang": "de",
    "slideshow": {
     "slide_type": "subslide"
    },
    "tags": [
     "subslide"
    ]
   },
   "source": [
    "\n",
    "- Um den Wert einer scoped Enumeration in einen `int`-Wert zu konvertieren\n",
    "  muss man einen Cast verwenden.\n",
    "- Enumerations-Werte können aus ganzen Zahlen erzeugt werden."
   ]
  },
  {
   "cell_type": "code",
   "execution_count": null,
   "id": "ce7920d45d97d76f",
   "metadata": {
    "slideshow": {
     "slide_type": "subslide"
    },
    "tags": [
     "subslide",
     "keep"
    ]
   },
   "outputs": [],
   "source": [
    "// int my_int{TrafficLight::Red};"
   ]
  },
  {
   "cell_type": "code",
   "execution_count": null,
   "id": "ede7ae740e5dec8c",
   "metadata": {
    "tags": [
     "keep"
    ]
   },
   "outputs": [],
   "source": [
    "// int my_int(TrafficLight::Red);"
   ]
  },
  {
   "cell_type": "code",
   "execution_count": null,
   "id": "974ede93137a944d",
   "metadata": {
    "tags": [
     "keep"
    ]
   },
   "outputs": [],
   "source": [
    "static_cast<int>(TrafficLight::Red)"
   ]
  },
  {
   "cell_type": "code",
   "execution_count": null,
   "id": "553fac02e524a661",
   "metadata": {
    "tags": [
     "keep"
    ]
   },
   "outputs": [],
   "source": [
    "static_cast<int>(TrafficLight::Yellow)"
   ]
  },
  {
   "cell_type": "code",
   "execution_count": null,
   "id": "4591b82a98a8a9ef",
   "metadata": {
    "tags": [
     "keep"
    ]
   },
   "outputs": [],
   "source": [
    "static_cast<int>(TrafficLight::Green)"
   ]
  },
  {
   "cell_type": "code",
   "execution_count": null,
   "id": "90f2b9e3173c71f3",
   "metadata": {
    "slideshow": {
     "slide_type": "subslide"
    },
    "tags": [
     "keep",
     "subslide"
    ]
   },
   "outputs": [],
   "source": [
    "TrafficLight red_light{0};"
   ]
  },
  {
   "cell_type": "code",
   "execution_count": null,
   "id": "6ad0868bd2dc440e",
   "metadata": {
    "tags": [
     "keep"
    ]
   },
   "outputs": [],
   "source": [
    "print_light(red_light);"
   ]
  },
  {
   "cell_type": "code",
   "execution_count": null,
   "id": "021b087006adcfcf",
   "metadata": {
    "slideshow": {
     "slide_type": "subslide"
    },
    "tags": [
     "subslide",
     "keep"
    ]
   },
   "outputs": [],
   "source": [
    "TrafficLight weird_light{42};"
   ]
  },
  {
   "cell_type": "code",
   "execution_count": null,
   "id": "0a8f2e050b8b6df9",
   "metadata": {
    "tags": [
     "keep"
    ]
   },
   "outputs": [],
   "source": [
    "print_light(weird_light);"
   ]
  },
  {
   "cell_type": "markdown",
   "id": "4ffda0a6f5751c8c",
   "metadata": {
    "lang": "de",
    "slideshow": {
     "slide_type": "subslide"
    },
    "tags": [
     "subslide"
    ]
   },
   "source": [
    "\n",
    "## Unscoped Enumerations\n",
    "\n",
    "- Die Werte einer unscoped Enumeration werden durch den Namen des Enumerators\n",
    "  ohne Präfix angegeben:"
   ]
  },
  {
   "cell_type": "code",
   "execution_count": null,
   "id": "2e13ba9d351fd07f",
   "metadata": {
    "tags": [
     "keep"
    ]
   },
   "outputs": [],
   "source": [
    "enum Color2 {\n",
    "    Red,\n",
    "    Green,\n",
    "    Blue\n",
    "};"
   ]
  },
  {
   "cell_type": "code",
   "execution_count": null,
   "id": "2513e17e6b5e70c5",
   "metadata": {
    "tags": [
     "keep"
    ]
   },
   "outputs": [],
   "source": [
    "Color2 color2{Red};"
   ]
  },
  {
   "cell_type": "code",
   "execution_count": null,
   "id": "db2dc90e3c0b5105",
   "metadata": {
    "slideshow": {
     "slide_type": "subslide"
    },
    "tags": [
     "keep",
     "subslide"
    ]
   },
   "outputs": [],
   "source": [
    "#include <iostream>"
   ]
  },
  {
   "cell_type": "code",
   "execution_count": null,
   "id": "b24bff3bf3cba507",
   "metadata": {
    "tags": [
     "keep"
    ]
   },
   "outputs": [],
   "source": [
    "if (color2 == Red) {\n",
    "    std::cout << \"Red!\";\n",
    "}"
   ]
  },
  {
   "cell_type": "markdown",
   "id": "669904aebe82d8ac",
   "metadata": {
    "lang": "de",
    "slideshow": {
     "slide_type": "subslide"
    },
    "tags": [
     "subslide"
    ]
   },
   "source": [
    "\n",
    "- Unscoped Enumerations können implizit in einen `int`-Wert konvertiert werden."
   ]
  },
  {
   "cell_type": "code",
   "execution_count": null,
   "id": "41a2ae186d7c178e",
   "metadata": {
    "tags": [
     "keep"
    ]
   },
   "outputs": [],
   "source": [
    "color2 = Green;"
   ]
  },
  {
   "cell_type": "code",
   "execution_count": null,
   "id": "2f03f856134c2ca2",
   "metadata": {
    "tags": [
     "keep"
    ]
   },
   "outputs": [],
   "source": [
    "if (color2 == 1) {\n",
    "    std::cout << \"Green!\";\n",
    "}"
   ]
  },
  {
   "cell_type": "markdown",
   "id": "f76ce832078850bd",
   "metadata": {
    "lang": "de",
    "slideshow": {
     "slide_type": "subslide"
    },
    "tags": [
     "subslide"
    ]
   },
   "source": [
    "\n",
    "- Verschiedene Enumerationen können nicht den gleichen Enumerator haben.\n",
    "- Es ist (bei scoped und unscoped Enumerations) möglich den zugrunde\n",
    "  liegenden Typ anzugeben.\n",
    "- Man kann auch die Werte für die Enumeratoren explizit angeben."
   ]
  },
  {
   "cell_type": "code",
   "execution_count": null,
   "id": "64a86ac7d4f80da2",
   "metadata": {
    "tags": [
     "keep"
    ]
   },
   "outputs": [],
   "source": [
    "// enum TrafficLight2\n",
    "// {\n",
    "//     Red,\n",
    "//     Yellow,\n",
    "//     Green\n",
    "// };"
   ]
  },
  {
   "cell_type": "code",
   "execution_count": null,
   "id": "8d8ebb32354e7437",
   "metadata": {
    "slideshow": {
     "slide_type": "subslide"
    },
    "tags": [
     "keep",
     "subslide"
    ]
   },
   "outputs": [],
   "source": [
    "#include <cstdint>"
   ]
  },
  {
   "cell_type": "code",
   "execution_count": null,
   "id": "9eb2415a0321135a",
   "metadata": {
    "tags": [
     "keep"
    ]
   },
   "outputs": [],
   "source": [
    "enum TrafficLight2 : std::uint8_t\n",
    "{\n",
    "    TLRed = 1,\n",
    "    TLYellow,\n",
    "    TLGreen\n",
    "};"
   ]
  },
  {
   "cell_type": "code",
   "execution_count": null,
   "id": "599c8fa50feadd76",
   "metadata": {
    "slideshow": {
     "slide_type": "subslide"
    },
    "tags": [
     "keep",
     "subslide"
    ]
   },
   "outputs": [],
   "source": [
    "#include <iostream>"
   ]
  },
  {
   "cell_type": "code",
   "execution_count": null,
   "id": "24edd7cee4bc9099",
   "metadata": {
    "tags": [
     "keep"
    ]
   },
   "outputs": [],
   "source": [
    "void print_light(TrafficLight2 light)\n",
    "{\n",
    "    if (light == TLRed)\n",
    "        std::cout << \"TLRed\";\n",
    "    else if (light == TLYellow)\n",
    "        std::cout << \"TLYellow\";\n",
    "    else if (light == TLGreen)\n",
    "        std::cout << \"TLGreen\";\n",
    "    else\n",
    "        std::cout << \"???\";\n",
    "}"
   ]
  },
  {
   "cell_type": "code",
   "execution_count": null,
   "id": "4b63ed72263654e9",
   "metadata": {
    "slideshow": {
     "slide_type": "subslide"
    },
    "tags": [
     "keep",
     "subslide"
    ]
   },
   "outputs": [],
   "source": [
    "TrafficLight2 light2{TLRed};"
   ]
  },
  {
   "cell_type": "code",
   "execution_count": null,
   "id": "e60ae2b932d456ba",
   "metadata": {
    "tags": [
     "keep"
    ]
   },
   "outputs": [],
   "source": [
    "print_light(light2);"
   ]
  },
  {
   "cell_type": "code",
   "execution_count": null,
   "id": "5203281ac430273c",
   "metadata": {
    "tags": [
     "keep"
    ]
   },
   "outputs": [],
   "source": [
    "// if (light2 == Green) {\n",
    "//     std::cout << \"Green?\";\n",
    "// }"
   ]
  },
  {
   "cell_type": "markdown",
   "id": "1696ded950ee2ded",
   "metadata": {
    "lang": "de",
    "slideshow": {
     "slide_type": "subslide"
    },
    "tags": [
     "subslide"
    ]
   },
   "source": [
    "\n",
    "- Unscoped Enumerations können von Int-Werten erzeugt werden, wenn ihr\n",
    "  zugrundeliegender Typ festgelegt ist.\n",
    "  - Das ist nur dann der Fall, wenn er explizit angegeben wurde\n",
    "- Bei unscoped Enumerations können die Werte implizit in `int`-Werte\n",
    "  konvertiert werden."
   ]
  },
  {
   "cell_type": "code",
   "execution_count": null,
   "id": "28e40e11bd446082",
   "metadata": {
    "tags": [
     "keep"
    ]
   },
   "outputs": [],
   "source": [
    "// Color2 red_color2{0};"
   ]
  },
  {
   "cell_type": "code",
   "execution_count": null,
   "id": "80dbe3383d364ea7",
   "metadata": {
    "tags": [
     "keep"
    ]
   },
   "outputs": [],
   "source": [
    "TrafficLight2 red_light2{1};"
   ]
  },
  {
   "cell_type": "code",
   "execution_count": null,
   "id": "d92c878944bea1f1",
   "metadata": {
    "tags": [
     "keep"
    ]
   },
   "outputs": [],
   "source": [
    "if (red_light2 == TLRed) {\n",
    "    std::cout << \"TLRed!\";\n",
    "}"
   ]
  },
  {
   "cell_type": "code",
   "execution_count": null,
   "id": "fce6bd88ef45ceb1",
   "metadata": {
    "slideshow": {
     "slide_type": "subslide"
    },
    "tags": [
     "keep",
     "subslide"
    ]
   },
   "outputs": [],
   "source": [
    "int my_int{light2};"
   ]
  },
  {
   "cell_type": "code",
   "execution_count": null,
   "id": "8a8afa0c2f3c0997",
   "metadata": {
    "tags": [
     "keep"
    ]
   },
   "outputs": [],
   "source": [
    "my_int"
   ]
  },
  {
   "cell_type": "code",
   "execution_count": null,
   "id": "68c0a0cac8b969d7",
   "metadata": {
    "tags": [
     "keep"
    ]
   },
   "outputs": [],
   "source": [
    "TrafficLight2 weird_light2{42};"
   ]
  },
  {
   "cell_type": "code",
   "execution_count": null,
   "id": "e02c511b3aa2a82f",
   "metadata": {
    "tags": [
     "keep"
    ]
   },
   "outputs": [],
   "source": [
    "static_cast<int>(weird_light2)"
   ]
  },
  {
   "cell_type": "code",
   "execution_count": null,
   "id": "7ef70456000ef013",
   "metadata": {
    "tags": [
     "keep"
    ]
   },
   "outputs": [],
   "source": [
    "print_light(weird_light2);"
   ]
  },
  {
   "cell_type": "markdown",
   "id": "398ecc6a79bb2fcb",
   "metadata": {
    "lang": "de",
    "slideshow": {
     "slide_type": "subslide"
    },
    "tags": [
     "subslide"
    ]
   },
   "source": [
    "\n",
    "## Mini-Workshop: Wochentage\n",
    "\n",
    "- Schreiben Sie eine Enumeration `Weekday`, die Wochentage repräsentieren\n",
    "  kann.\n",
    "- Schreiben Sie eine Funktion `is_weekend()`, die einen Wochentag als\n",
    "  Parameter entgegennimmt und `true` zurückgibt, wenn es sich um einen Tag am\n",
    "  Wochenende handelt."
   ]
  },
  {
   "cell_type": "code",
   "execution_count": null,
   "id": "45481b42ec312136",
   "metadata": {
    "slideshow": {
     "slide_type": "subslide"
    },
    "tags": [
     "subslide"
    ]
   },
   "outputs": [],
   "source": []
  },
  {
   "cell_type": "code",
   "execution_count": null,
   "id": "6f62c10b2dbd706c",
   "metadata": {
    "slideshow": {
     "slide_type": "subslide"
    },
    "tags": [
     "subslide"
    ]
   },
   "outputs": [],
   "source": []
  },
  {
   "cell_type": "code",
   "execution_count": null,
   "id": "95e0918e777f9157",
   "metadata": {},
   "outputs": [],
   "source": []
  },
  {
   "cell_type": "code",
   "execution_count": null,
   "id": "dd64b6150644615e",
   "metadata": {},
   "outputs": [],
   "source": []
  }
 ],
 "metadata": {
  "kernelspec": {
   "display_name": "C++17",
   "language": "C++17",
   "name": "xcpp17"
  },
  "language_info": {
   "codemirror_mode": "text/x-c++src",
   "file_extension": ".cpp",
   "mimetype": "text/x-c++src",
   "name": "c++",
   "version": "17"
  }
 },
 "nbformat": 4,
 "nbformat_minor": 5
}
