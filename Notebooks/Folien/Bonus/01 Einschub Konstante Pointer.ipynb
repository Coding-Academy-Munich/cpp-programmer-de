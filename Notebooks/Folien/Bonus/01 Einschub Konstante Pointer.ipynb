{
 "cells": [
  {
   "cell_type": "markdown",
   "id": "cf1dec1495e8adf6",
   "metadata": {
    "lang": "de",
    "slideshow": {
     "slide_type": "slide"
    },
    "tags": [
     "slide"
    ]
   },
   "source": [
    "\n",
    "<img src=\"data:image/png;base64,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\"\n",
    "     style=\"display:block;margin:auto;width:5%\"/>\n",
    "<br>\n",
    "\n",
    "<div style=\"text-align:center; font-size:200%;\">\n",
    " <b>Einschub: Konstante Pointer</b>\n",
    "</div>\n",
    "<br/>\n",
    "<div style=\"text-align:center; font-size:120%;\">Dr. Matthias Hölzl</div>\n",
    "<br/>\n",
    "<div style=\"text-align:center;\">Coding-Akademie München</div>\n",
    "<br/>\n",
    "<!-- 01 Einschub Konstante Pointer.ipynb -->\n",
    "<!-- slides/module_130_pointers/topic_300_const_pointer.cpp -->"
   ]
  },
  {
   "cell_type": "markdown",
   "id": "d841aa4a7d330183",
   "metadata": {
    "lang": "de",
    "slideshow": {
     "slide_type": "subslide"
    },
    "tags": [
     "subslide"
    ]
   },
   "source": [
    "\n",
    "- In den meisten Fällen meinen wir einen *Pointer auf Const*, wenn wir von\n",
    "  einem *konstanten Pointer* sprechen.\n",
    "- Es gibt aber auch wirklich *konstante Pointer*."
   ]
  },
  {
   "cell_type": "markdown",
   "id": "c18498efcaba525f",
   "metadata": {
    "lang": "de",
    "slideshow": {
     "slide_type": "subslide"
    },
    "tags": [
     "subslide"
    ]
   },
   "source": [
    "\n",
    "- Um die Syntax zu verstehen, sehen wir uns die Stellung des Schlüsselworts\n",
    "  `const` an.\n",
    "- In C++ werden Typen von rechts nach links gelesen.\n",
    "- Allerdings kann `const` sowolh links als auch rechts vom Typ stehen.\n",
    "- `const int` und `int const` sind also äquivalent.\n",
    "- Um Pointer zu verstehen ist die zweite Schreibweise hilfreich."
   ]
  },
  {
   "cell_type": "code",
   "execution_count": null,
   "id": "117f3c71491d6619",
   "metadata": {},
   "outputs": [],
   "source": [
    "int const i{};"
   ]
  },
  {
   "cell_type": "code",
   "execution_count": null,
   "id": "ca0e1bce24fbaf26",
   "metadata": {},
   "outputs": [],
   "source": [
    "i"
   ]
  },
  {
   "cell_type": "code",
   "execution_count": null,
   "id": "219fca02c2cea919",
   "metadata": {},
   "outputs": [],
   "source": [
    "const int j{};"
   ]
  },
  {
   "cell_type": "code",
   "execution_count": null,
   "id": "7689b617e73b395e",
   "metadata": {},
   "outputs": [],
   "source": [
    "j"
   ]
  },
  {
   "cell_type": "markdown",
   "id": "3034b866f4a330fa",
   "metadata": {
    "lang": "de",
    "slideshow": {
     "slide_type": "subslide"
    },
    "tags": [
     "subslide"
    ]
   },
   "source": [
    "\n",
    "Konstanter `int`-Wert:"
   ]
  },
  {
   "cell_type": "code",
   "execution_count": null,
   "id": "34e772319d20bf01",
   "metadata": {},
   "outputs": [],
   "source": [
    "int const i{};"
   ]
  },
  {
   "cell_type": "markdown",
   "id": "270053f5093bb522",
   "metadata": {
    "lang": "de"
   },
   "source": [
    "\n",
    "Pointer auf int:"
   ]
  },
  {
   "cell_type": "code",
   "execution_count": null,
   "id": "8a875c2ef1d0bbf6",
   "metadata": {},
   "outputs": [],
   "source": [
    "int* pi{};"
   ]
  },
  {
   "cell_type": "markdown",
   "id": "73b352b283ef3556",
   "metadata": {
    "lang": "de",
    "tss": [
     "subslide"
    ]
   },
   "source": [
    "\n",
    "Pointer auf konstanten `int`-Wert:"
   ]
  },
  {
   "cell_type": "code",
   "execution_count": null,
   "id": "55a36ddeb4395ac9",
   "metadata": {},
   "outputs": [],
   "source": [
    "int const* pci{};"
   ]
  },
  {
   "cell_type": "markdown",
   "id": "ea29f8ad13a4351f",
   "metadata": {
    "lang": "de"
   },
   "source": [
    "\n",
    "Konstanter Pointer auf `int`-Wert:"
   ]
  },
  {
   "cell_type": "code",
   "execution_count": null,
   "id": "26fe21768ae70c5d",
   "metadata": {},
   "outputs": [],
   "source": [
    "int* const cpi{};"
   ]
  },
  {
   "cell_type": "markdown",
   "id": "b2fe2d99b409e14a",
   "metadata": {
    "lang": "de"
   },
   "source": [
    "\n",
    "Konstanter Pointer auf konstanten `int`-Wert:"
   ]
  },
  {
   "cell_type": "code",
   "execution_count": null,
   "id": "f16ea9b791b338a1",
   "metadata": {},
   "outputs": [],
   "source": [
    "int const* const cpci{};"
   ]
  },
  {
   "cell_type": "markdown",
   "id": "60ae3d8fa1268708",
   "metadata": {
    "lang": "de",
    "slideshow": {
     "slide_type": "subslide"
    },
    "tags": [
     "subslide"
    ]
   },
   "source": [
    "\n",
    "- Bei einem Pointer auf Const kann man\n",
    "  - den Pointer selbst verändern, aber\n",
    "  - das referenzierte Objekt nicht verändern.\n",
    "- Man spricht auch von einem **low-level `const`**."
   ]
  },
  {
   "cell_type": "code",
   "execution_count": null,
   "id": "ad5434b54123b8ae",
   "metadata": {},
   "outputs": [],
   "source": [
    "int i{1};\n",
    "int j{2};\n",
    "const int* pci{&i};"
   ]
  },
  {
   "cell_type": "code",
   "execution_count": null,
   "id": "b13433ba35e79ca3",
   "metadata": {},
   "outputs": [],
   "source": [
    "pci = &j;"
   ]
  },
  {
   "cell_type": "code",
   "execution_count": null,
   "id": "ea03b91f1870211a",
   "metadata": {},
   "outputs": [],
   "source": [
    "// *pi = 10;"
   ]
  },
  {
   "cell_type": "markdown",
   "id": "dfb94ff1840966a0",
   "metadata": {
    "lang": "de",
    "slideshow": {
     "slide_type": "subslide"
    },
    "tags": [
     "subslide"
    ]
   },
   "source": [
    "\n",
    "- Bei einem konstanten Pointer kann man\n",
    "  - den Pointer selbst nicht verändern, aber\n",
    "  - das referenzierte Objekt verändern.\n",
    "- Man spricht auch von einem **top-level `const`**."
   ]
  },
  {
   "cell_type": "code",
   "execution_count": null,
   "id": "c266632e9ff5595b",
   "metadata": {},
   "outputs": [],
   "source": [
    "int i{1};\n",
    "int j{2};\n",
    "int* const cpi{&i};"
   ]
  },
  {
   "cell_type": "code",
   "execution_count": null,
   "id": "8cb8a341a418e088",
   "metadata": {},
   "outputs": [],
   "source": [
    "// cpi = &j;"
   ]
  },
  {
   "cell_type": "code",
   "execution_count": null,
   "id": "9032214554747642",
   "metadata": {},
   "outputs": [],
   "source": [
    "*cpi = 10;"
   ]
  },
  {
   "cell_type": "code",
   "execution_count": null,
   "id": "48a57cebc98f2b59",
   "metadata": {},
   "outputs": [],
   "source": [
    "i"
   ]
  },
  {
   "cell_type": "markdown",
   "id": "adf50db8336d0f0a",
   "metadata": {
    "lang": "de",
    "slideshow": {
     "slide_type": "subslide"
    },
    "tags": [
     "subslide"
    ]
   },
   "source": [
    "\n",
    "- Bei einem konstanten Pointer auf Const kann man\n",
    "  - den Pointer selbst nicht verändern, und\n",
    "  - das referenzierte Objekt nicht verändern.\n",
    "- Hier haben wir sowohl low-level als auch top-level `const`."
   ]
  },
  {
   "cell_type": "code",
   "execution_count": null,
   "id": "4f5624d4882c0424",
   "metadata": {},
   "outputs": [],
   "source": [
    "int i{1};\n",
    "int j{2};\n",
    "const int* const cpci{&i};"
   ]
  },
  {
   "cell_type": "code",
   "execution_count": null,
   "id": "4338fc61d2edd05b",
   "metadata": {},
   "outputs": [],
   "source": [
    "// cpci = &j;"
   ]
  },
  {
   "cell_type": "code",
   "execution_count": null,
   "id": "98e3a6c43af42b21",
   "metadata": {},
   "outputs": [],
   "source": [
    "// *cpci = 10;"
   ]
  },
  {
   "cell_type": "markdown",
   "id": "198dca9f44474244",
   "metadata": {
    "lang": "de",
    "slideshow": {
     "slide_type": "subslide"
    },
    "tags": [
     "subslide"
    ]
   },
   "source": [
    "\n",
    "## `constexpr` Pointer\n",
    "\n",
    "- Pointer können auch `constexpr` sein.\n",
    "- Das bedeutet, dass der Pointer zur Compile-Zeit bekannt sein muss.\n",
    "  - Das ist z.B. für Variablen mit statischer Speicherdauer der Fall.\n",
    "- Der Wert des Pointers kann sich zur Laufzeit ändern.\n",
    "- D.h. `constexpr` Pointer sind *immer* top-level `const`."
   ]
  },
  {
   "cell_type": "code",
   "execution_count": null,
   "id": "f526bbe36f15eb83",
   "metadata": {
    "slideshow": {
     "slide_type": "subslide"
    },
    "tags": [
     "subslide"
    ]
   },
   "outputs": [],
   "source": [
    "static int i{};\n",
    "static int j{1};\n",
    "constexpr int* cpi{&i}"
   ]
  },
  {
   "cell_type": "code",
   "execution_count": null,
   "id": "83a6e2770dff6d92",
   "metadata": {},
   "outputs": [],
   "source": [
    "*cpi"
   ]
  },
  {
   "cell_type": "code",
   "execution_count": null,
   "id": "7bc759a6ba015cf8",
   "metadata": {},
   "outputs": [],
   "source": [
    "// cpi = &j;"
   ]
  },
  {
   "cell_type": "code",
   "execution_count": null,
   "id": "04300281f14ebf10",
   "metadata": {},
   "outputs": [],
   "source": [
    "*cpi = 10;"
   ]
  },
  {
   "cell_type": "code",
   "execution_count": null,
   "id": "9edd6bae74a40602",
   "metadata": {},
   "outputs": [],
   "source": [
    "*cpi"
   ]
  },
  {
   "cell_type": "code",
   "execution_count": null,
   "id": "f1362ded5f9356a1",
   "metadata": {},
   "outputs": [],
   "source": [
    "i"
   ]
  },
  {
   "cell_type": "markdown",
   "id": "8be00c0dc3d0f1fb",
   "metadata": {
    "lang": "de",
    "slideshow": {
     "slide_type": "subslide"
    },
    "tags": [
     "subslide"
    ]
   },
   "source": [
    "\n",
    "- Auch `constexpr` Pointer auf `const` sind möglich.\n",
    "- Ein derartiger Pointer ist sowohl low-level als auch top-level `const`."
   ]
  },
  {
   "cell_type": "code",
   "execution_count": null,
   "id": "24ae2e38fb8c65a9",
   "metadata": {},
   "outputs": [],
   "source": [
    "constexpr const int* cpci{&i}"
   ]
  },
  {
   "cell_type": "code",
   "execution_count": null,
   "id": "b5e2eac3c4c2463c",
   "metadata": {},
   "outputs": [],
   "source": [
    "*cpci"
   ]
  },
  {
   "cell_type": "code",
   "execution_count": null,
   "id": "d48f9eb05a60a873",
   "metadata": {},
   "outputs": [],
   "source": [
    "// cpci = &j;"
   ]
  },
  {
   "cell_type": "code",
   "execution_count": null,
   "id": "a90a6a3ae50db5a8",
   "metadata": {},
   "outputs": [],
   "source": [
    "// *cpci = 10;"
   ]
  },
  {
   "cell_type": "markdown",
   "id": "2ddfaef68b1f9684",
   "metadata": {
    "lang": "de",
    "slideshow": {
     "slide_type": "subslide"
    },
    "tags": [
     "subslide"
    ]
   },
   "source": [
    "\n",
    "- Bei fundamentalen Typen ist es nicht notwendig, `constexpr` zusammen mit\n",
    "  `const` zu verwenden."
   ]
  },
  {
   "cell_type": "code",
   "execution_count": null,
   "id": "3053a5453441f5cf",
   "metadata": {},
   "outputs": [],
   "source": [
    "constexpr int i{1};\n",
    "constexpr const int j{2};"
   ]
  },
  {
   "cell_type": "code",
   "execution_count": null,
   "id": "33b6c020fce4e3e9",
   "metadata": {},
   "outputs": [],
   "source": [
    "// i = 10;"
   ]
  },
  {
   "cell_type": "code",
   "execution_count": null,
   "id": "353ed71c13344bce",
   "metadata": {},
   "outputs": [],
   "source": [
    "// j = 20;"
   ]
  },
  {
   "cell_type": "code",
   "execution_count": null,
   "id": "6b4e03423667dbb7",
   "metadata": {},
   "outputs": [],
   "source": []
  },
  {
   "cell_type": "markdown",
   "id": "45317c91b4007ddf",
   "metadata": {
    "lang": "de",
    "slideshow": {
     "slide_type": "subslide"
    },
    "tags": [
     "subslide"
    ]
   },
   "source": [
    "\n",
    "## Mini-Workshop: `const` Pointer\n",
    "\n",
    "Gegeben seien die folgenden Variablendefinitionen:"
   ]
  },
  {
   "cell_type": "code",
   "execution_count": null,
   "id": "5944f615759c8fba",
   "metadata": {
    "tags": [
     "keep"
    ]
   },
   "outputs": [],
   "source": [
    "int i{};\n",
    "const int ci{};\n",
    "int* pi{};\n",
    "const int* pci{};\n",
    "int* const cpi{};\n",
    "const int* const cpci{};"
   ]
  },
  {
   "cell_type": "markdown",
   "id": "4fb51e14b8f07028",
   "metadata": {
    "lang": "de"
   },
   "source": [
    "\n",
    "Welche der folgenden Zuweisungen sind gültig? Warum (nicht)?"
   ]
  },
  {
   "cell_type": "code",
   "execution_count": null,
   "id": "b3bbfe954cbbd553",
   "metadata": {
    "tags": [
     "keep"
    ]
   },
   "outputs": [],
   "source": [
    "// i = 1;"
   ]
  },
  {
   "cell_type": "code",
   "execution_count": null,
   "id": "fe7ebae98d6362d1",
   "metadata": {},
   "outputs": [],
   "source": [
    "// ci = 2;"
   ]
  },
  {
   "cell_type": "code",
   "execution_count": null,
   "id": "2313839f9063d0d9",
   "metadata": {},
   "outputs": [],
   "source": [
    "// pi = &i;"
   ]
  },
  {
   "cell_type": "code",
   "execution_count": null,
   "id": "325d6cee3c3cdbc8",
   "metadata": {},
   "outputs": [],
   "source": [
    "// pi = &ci;"
   ]
  },
  {
   "cell_type": "code",
   "execution_count": null,
   "id": "2acec38b68fdac36",
   "metadata": {
    "slideshow": {
     "slide_type": "subslide"
    },
    "tags": [
     "subslide"
    ]
   },
   "outputs": [],
   "source": [
    "// pci = &i;"
   ]
  },
  {
   "cell_type": "code",
   "execution_count": null,
   "id": "23d0b32eb2069df4",
   "metadata": {},
   "outputs": [],
   "source": [
    "// pci = &ci;"
   ]
  },
  {
   "cell_type": "code",
   "execution_count": null,
   "id": "89638061801f940f",
   "metadata": {},
   "outputs": [],
   "source": [
    "// cpi = &i;"
   ]
  },
  {
   "cell_type": "code",
   "execution_count": null,
   "id": "cacbb169045a4c61",
   "metadata": {},
   "outputs": [],
   "source": [
    "// cpi = &ci;"
   ]
  },
  {
   "cell_type": "code",
   "execution_count": null,
   "id": "929d5e365fb9d29a",
   "metadata": {
    "slideshow": {
     "slide_type": "subslide"
    },
    "tags": [
     "subslide"
    ]
   },
   "outputs": [],
   "source": [
    "// cpci = &i;"
   ]
  },
  {
   "cell_type": "code",
   "execution_count": null,
   "id": "e4ca9c882e6ec11f",
   "metadata": {},
   "outputs": [],
   "source": [
    "// cpci = &ci;"
   ]
  },
  {
   "cell_type": "code",
   "execution_count": null,
   "id": "8851aad63bd5f0fa",
   "metadata": {
    "slideshow": {
     "slide_type": "subslide"
    },
    "tags": [
     "subslide"
    ]
   },
   "outputs": [],
   "source": [
    "// *pi = 1;"
   ]
  },
  {
   "cell_type": "code",
   "execution_count": null,
   "id": "118182a1d1ae45d4",
   "metadata": {},
   "outputs": [],
   "source": [
    "// *pci = 2;"
   ]
  },
  {
   "cell_type": "code",
   "execution_count": null,
   "id": "ed9be1e9efbe32ba",
   "metadata": {},
   "outputs": [],
   "source": [
    "// *cpi = 3;"
   ]
  },
  {
   "cell_type": "code",
   "execution_count": null,
   "id": "9be14b0d89e5e2b6",
   "metadata": {},
   "outputs": [],
   "source": [
    "// *cpci = 4;"
   ]
  },
  {
   "cell_type": "code",
   "execution_count": null,
   "id": "1d758cb7324c58fd",
   "metadata": {
    "slideshow": {
     "slide_type": "subslide"
    },
    "tags": [
     "subslide"
    ]
   },
   "outputs": [],
   "source": [
    "// i = *pi;"
   ]
  },
  {
   "cell_type": "code",
   "execution_count": null,
   "id": "fe5dec34284e660c",
   "metadata": {},
   "outputs": [],
   "source": [
    "// i = *pci;"
   ]
  },
  {
   "cell_type": "code",
   "execution_count": null,
   "id": "14d6939086574c02",
   "metadata": {},
   "outputs": [],
   "source": [
    "// i = *cpi;"
   ]
  },
  {
   "cell_type": "code",
   "execution_count": null,
   "id": "40bc2f43dfbd3c9f",
   "metadata": {},
   "outputs": [],
   "source": [
    "// i = *cpci;"
   ]
  }
 ],
 "metadata": {
  "kernelspec": {
   "display_name": "C++17",
   "language": "C++17",
   "name": "xcpp17"
  },
  "language_info": {
   "codemirror_mode": "text/x-c++src",
   "file_extension": ".cpp",
   "mimetype": "text/x-c++src",
   "name": "c++",
   "version": "17"
  }
 },
 "nbformat": 4,
 "nbformat_minor": 5
}
