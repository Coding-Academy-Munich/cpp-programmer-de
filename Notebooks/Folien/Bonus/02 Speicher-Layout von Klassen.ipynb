{
 "cells": [
  {
   "cell_type": "markdown",
   "id": "bba7d8e66da3138a",
   "metadata": {
    "lang": "de",
    "slideshow": {
     "slide_type": "slide"
    },
    "tags": [
     "slide"
    ]
   },
   "source": [
    "\n",
    "<img src=\"data:image/png;base64,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\"\n",
    "     style=\"display:block;margin:auto;width:5%\"/>\n",
    "<br>\n",
    "\n",
    "<div style=\"text-align:center; font-size:200%;\">\n",
    " <b>Speicher-Layout von Klassen</b>\n",
    "</div>\n",
    "<br/>\n",
    "<div style=\"text-align:center; font-size:120%;\">Dr. Matthias Hölzl</div>\n",
    "<br/>\n",
    "<div style=\"text-align:center;\">Coding-Akademie München</div>\n",
    "<br/>\n",
    "<!-- 02 Speicher-Layout von Klassen.ipynb -->\n",
    "<!-- slides/module_170_oop/topic_125_class_layout.cpp -->"
   ]
  },
  {
   "cell_type": "markdown",
   "id": "32dc974673737c76",
   "metadata": {
    "lang": "de",
    "slideshow": {
     "slide_type": "subslide"
    },
    "tags": [
     "subslide"
    ]
   },
   "source": [
    "\n",
    "- Wie werden Klassen im Speicher abgelegt?\n",
    "- Wie werden Methodenaufrufe implementiert?"
   ]
  },
  {
   "cell_type": "markdown",
   "id": "a9d1b182bb451aa0",
   "metadata": {
    "lang": "de",
    "slideshow": {
     "slide_type": "subslide"
    },
    "tags": [
     "subslide"
    ]
   },
   "source": [
    "\n",
    "Speicher-Layout generiert mit:\n",
    "\n",
    "```bash\n",
    "clang++ -cc1 -emit-llvm -fdump-record-layouts layout_examples.cpp > layout_examples.txt\n",
    "```"
   ]
  },
  {
   "cell_type": "code",
   "execution_count": null,
   "id": "b12aa0f4fb43a438",
   "metadata": {
    "slideshow": {
     "slide_type": "subslide"
    },
    "tags": [
     "keep",
     "subslide"
    ]
   },
   "outputs": [],
   "source": [
    "class PlainOldClass\n",
    "{\n",
    "public:\n",
    "    int x;\n",
    "    PlainOldClass(int x) : x{x} {}\n",
    "\n",
    "    void print() const {}\n",
    "};"
   ]
  },
  {
   "cell_type": "markdown",
   "id": "1a2f9cdcba1309f4",
   "metadata": {
    "slideshow": {
     "slide_type": "subslide"
    },
    "tags": [
     "subslide"
    ]
   },
   "source": [
    "```\n",
    "*** Dumping AST Record Layout\n",
    "         0 | class PlainOldClass\n",
    "         0 |   int x\n",
    "           | [sizeof=4, dsize=4, align=4,\n",
    "           |  nvsize=4, nvalign=4]\n",
    "```"
   ]
  },
  {
   "cell_type": "markdown",
   "id": "58cb2a1dcfc26218",
   "metadata": {
    "slideshow": {
     "slide_type": "subslide"
    },
    "tags": [
     "subslide"
    ]
   },
   "source": [
    "\n",
    "<img src=\"../img/class-layout-poc.png\" width=\"35%\">"
   ]
  },
  {
   "cell_type": "code",
   "execution_count": null,
   "id": "3c3c3a4ef6a5b275",
   "metadata": {
    "slideshow": {
     "slide_type": "subslide"
    },
    "tags": [
     "keep",
     "subslide"
    ]
   },
   "outputs": [],
   "source": [
    "class BaseV1\n",
    "{\n",
    "public:\n",
    "    int x;\n",
    "    BaseV1(int x) : x{x} {}\n",
    "\n",
    "    void print() const {}\n",
    "};"
   ]
  },
  {
   "cell_type": "markdown",
   "id": "b7d7f41ab298d1f3",
   "metadata": {
    "slideshow": {
     "slide_type": "subslide"
    },
    "tags": [
     "subslide"
    ]
   },
   "source": [
    "```\n",
    "*** Dumping AST Record Layout\n",
    "         0 | class BaseV1\n",
    "         0 |   int x\n",
    "           | [sizeof=4, dsize=4, align=4,\n",
    "           |  nvsize=4, nvalign=4]\n",
    "```"
   ]
  },
  {
   "cell_type": "markdown",
   "id": "f7fc2579d06b3f2c",
   "metadata": {
    "slideshow": {
     "slide_type": "subslide"
    },
    "tags": [
     "subslide"
    ]
   },
   "source": [
    "\n",
    "<img src=\"../img/class-layout-base-v1.png\" width=\"35%\">"
   ]
  },
  {
   "cell_type": "code",
   "execution_count": null,
   "id": "f65c9c1a87fa4119",
   "metadata": {
    "slideshow": {
     "slide_type": "subslide"
    },
    "tags": [
     "keep",
     "subslide"
    ]
   },
   "outputs": [],
   "source": [
    "class DerivedV1 : public BaseV1\n",
    "{\n",
    "public:\n",
    "    int y;\n",
    "    DerivedV1(int x, int y) : BaseV1{x}, y{y} {}\n",
    "\n",
    "    void print() const {}\n",
    "};"
   ]
  },
  {
   "cell_type": "markdown",
   "id": "90d73f436bab6e86",
   "metadata": {
    "slideshow": {
     "slide_type": "subslide"
    },
    "tags": [
     "subslide"
    ]
   },
   "source": [
    "```\n",
    "*** Dumping AST Record Layout\n",
    "         0 | class DerivedV1\n",
    "         0 |   class BaseV1 (base)\n",
    "         0 |     int x\n",
    "         4 |   int y\n",
    "           | [sizeof=8, dsize=8, align=4,\n",
    "           |  nvsize=8, nvalign=4]\n",
    "```"
   ]
  },
  {
   "cell_type": "markdown",
   "id": "eedd5f620e1c6ca9",
   "metadata": {
    "slideshow": {
     "slide_type": "subslide"
    },
    "tags": [
     "subslide"
    ]
   },
   "source": [
    "\n",
    "<img src=\"../img/class-layout-derived-v1.png\" width=\"35%\">"
   ]
  },
  {
   "cell_type": "code",
   "execution_count": null,
   "id": "d4ba55e9b5464da6",
   "metadata": {
    "slideshow": {
     "slide_type": "subslide"
    },
    "tags": [
     "keep",
     "subslide"
    ]
   },
   "outputs": [],
   "source": [
    "class BaseV2\n",
    "{\n",
    "public:\n",
    "    int x;\n",
    "    BaseV2(int x) : x{x} {}\n",
    "\n",
    "    virtual void print() const {}\n",
    "};"
   ]
  },
  {
   "cell_type": "markdown",
   "id": "e2e271f13ddd08e8",
   "metadata": {
    "slideshow": {
     "slide_type": "subslide"
    },
    "tags": [
     "subslide"
    ]
   },
   "source": [
    "```\n",
    "*** Dumping AST Record Layout\n",
    "         0 | class BaseV2\n",
    "         0 |   (BaseV2 vtable pointer)\n",
    "         8 |   int x\n",
    "           | [sizeof=16, dsize=12, align=8,\n",
    "           |  nvsize=12, nvalign=8]\n",
    "```"
   ]
  },
  {
   "cell_type": "markdown",
   "id": "30e73dcd5cb16c53",
   "metadata": {
    "slideshow": {
     "slide_type": "subslide"
    },
    "tags": [
     "subslide"
    ]
   },
   "source": [
    "\n",
    "<img src=\"../img/class-layout-base-v2.png\" width=\"75%\">"
   ]
  },
  {
   "cell_type": "code",
   "execution_count": null,
   "id": "0ad2043dbb2e2baa",
   "metadata": {
    "slideshow": {
     "slide_type": "subslide"
    },
    "tags": [
     "keep",
     "subslide"
    ]
   },
   "outputs": [],
   "source": [
    "class DerivedV2 : public BaseV2\n",
    "{\n",
    "public:\n",
    "    int y;\n",
    "    DerivedV2(int x, int y) : BaseV2{x}, y{y} {}\n",
    "\n",
    "    void print() const override {}\n",
    "};"
   ]
  },
  {
   "cell_type": "markdown",
   "id": "889acae51a94dcce",
   "metadata": {
    "slideshow": {
     "slide_type": "subslide"
    },
    "tags": [
     "subslide"
    ]
   },
   "source": [
    "```\n",
    "*** Dumping AST Record Layout\n",
    "         0 | class DerivedV2\n",
    "         0 |   class BaseV2 (primary base)\n",
    "         0 |     (BaseV2 vtable pointer)\n",
    "         8 |     int x\n",
    "        12 |   int y\n",
    "           | [sizeof=16, dsize=16, align=8,\n",
    "           |  nvsize=16, nvalign=8]\n",
    "```"
   ]
  },
  {
   "cell_type": "markdown",
   "id": "3bc6cc79566bfef4",
   "metadata": {
    "slideshow": {
     "slide_type": "subslide"
    },
    "tags": [
     "subslide"
    ]
   },
   "source": [
    "\n",
    "<img src=\"../img/class-layout-derived-v2.png\" width=\"75%\">"
   ]
  },
  {
   "cell_type": "code",
   "execution_count": null,
   "id": "d8ed16a92a892bef",
   "metadata": {
    "slideshow": {
     "slide_type": "subslide"
    },
    "tags": [
     "keep",
     "subslide"
    ]
   },
   "outputs": [],
   "source": [
    "class BaseV3\n",
    "{\n",
    "public:\n",
    "    int y;\n",
    "    BaseV3(int y) : y{y} {}\n",
    "\n",
    "    virtual void foo() const {}\n",
    "};"
   ]
  },
  {
   "cell_type": "markdown",
   "id": "7e47e47a4f4faf64",
   "metadata": {
    "slideshow": {
     "slide_type": "subslide"
    },
    "tags": [
     "subslide"
    ]
   },
   "source": [
    "```\n",
    "*** Dumping AST Record Layout\n",
    "         0 | class BaseV3\n",
    "         0 |   (BaseV3 vtable pointer)\n",
    "         8 |   int y\n",
    "           | [sizeof=16, dsize=12, align=8,\n",
    "           |  nvsize=12, nvalign=8]\n",
    "```"
   ]
  },
  {
   "cell_type": "markdown",
   "id": "946b5fa17bbcf9e6",
   "metadata": {
    "slideshow": {
     "slide_type": "subslide"
    },
    "tags": [
     "subslide"
    ]
   },
   "source": [
    "\n",
    "<img src=\"../img/class-layout-base-v3.png\" width=\"75%\">"
   ]
  },
  {
   "cell_type": "code",
   "execution_count": null,
   "id": "03aca3f63421c0ef",
   "metadata": {
    "slideshow": {
     "slide_type": "subslide"
    },
    "tags": [
     "keep",
     "subslide"
    ]
   },
   "outputs": [],
   "source": [
    "class DerivedV3\n",
    "    : public BaseV2\n",
    "    , public BaseV3\n",
    "{\n",
    "public:\n",
    "    int z;\n",
    "    DerivedV3(int x, int y, int z) : BaseV2{x}, BaseV3{y}, z{z} {}\n",
    "\n",
    "    void print() const override {}\n",
    "};"
   ]
  },
  {
   "cell_type": "markdown",
   "id": "1647cadd552647f4",
   "metadata": {
    "slideshow": {
     "slide_type": "subslide"
    },
    "tags": [
     "subslide"
    ]
   },
   "source": [
    "```\n",
    "*** Dumping AST Record Layout\n",
    "         0 | class DerivedV3\n",
    "         0 |   class BaseV2 (primary base)\n",
    "         0 |     (BaseV2 vtable pointer)\n",
    "         8 |     int x\n",
    "        16 |   class BaseV3 (base)\n",
    "        16 |     (BaseV3 vtable pointer)\n",
    "        24 |     int y\n",
    "        28 |   int z\n",
    "           | [sizeof=32, dsize=32, align=8,\n",
    "           |  nvsize=32, nvalign=8]\n",
    "```"
   ]
  },
  {
   "cell_type": "markdown",
   "id": "e997ccc86902f12e",
   "metadata": {
    "slideshow": {
     "slide_type": "subslide"
    },
    "tags": [
     "subslide"
    ]
   },
   "source": [
    "\n",
    "<img src=\"../img/class-layout-derived-v3.png\" width=\"75%\">"
   ]
  },
  {
   "cell_type": "markdown",
   "id": "b9be15cb038854e4",
   "metadata": {
    "lang": "de",
    "slideshow": {
     "slide_type": "subslide"
    },
    "tags": [
     "subslide"
    ]
   },
   "source": [
    "\n",
    "- Pointer auf das gleiche Objekt können unterschiedliche Adressen haben:"
   ]
  },
  {
   "cell_type": "code",
   "execution_count": null,
   "id": "0fc7e53776b8d21c",
   "metadata": {
    "tags": [
     "keep"
    ]
   },
   "outputs": [],
   "source": [
    "BaseV3 b3{4};\n",
    "DerivedV3 d3{1, 2, 3};"
   ]
  },
  {
   "cell_type": "code",
   "execution_count": null,
   "id": "e0456310a5618806",
   "metadata": {
    "tags": [
     "keep"
    ]
   },
   "outputs": [],
   "source": [
    "BaseV2 *pb2 = &d3;\n",
    "BaseV3 *pb3 = &d3;"
   ]
  },
  {
   "cell_type": "code",
   "execution_count": null,
   "id": "ab37bb1cd0c0fd37",
   "metadata": {
    "tags": [
     "keep"
    ]
   },
   "outputs": [],
   "source": [
    "#include <iostream>\n",
    "\n",
    "std::cout << \"pb2: \" << pb2 << \"\\n\";\n",
    "std::cout << \"pb3: \" << pb3 << \"\\n\";\n",
    "std::cout << \"ab3: \" << &b3 << \"\\n\";"
   ]
  },
  {
   "cell_type": "code",
   "execution_count": null,
   "id": "1cf5f758aaecdc16",
   "metadata": {
    "tags": [
     "keep"
    ]
   },
   "outputs": [],
   "source": [
    "DerivedV3* ccpb2{(DerivedV3*)(pb2)};\n",
    "DerivedV3* ccpb3{(DerivedV3*)(pb3)};\n",
    "DerivedV3* ccab3{(DerivedV3*)(&b3)};"
   ]
  },
  {
   "cell_type": "code",
   "execution_count": null,
   "id": "435e5d0c6e6ae212",
   "metadata": {
    "tags": [
     "keep"
    ]
   },
   "outputs": [],
   "source": [
    "std::cout << \"ccpb2: \" << ccpb2 << \"\\n\";\n",
    "std::cout << \"ccpb3: \" << ccpb3 << \"\\n\";\n",
    "std::cout << \"ccab3: \" << ccab3 << \"\\n\";"
   ]
  },
  {
   "cell_type": "code",
   "execution_count": null,
   "id": "5561258b3e6104de",
   "metadata": {
    "tags": [
     "keep"
    ]
   },
   "outputs": [],
   "source": [
    "ccab3->y"
   ]
  },
  {
   "cell_type": "code",
   "execution_count": null,
   "id": "2e7a516ec8c65de3",
   "metadata": {
    "slideshow": {
     "slide_type": "subslide"
    },
    "tags": [
     "keep",
     "subslide"
    ]
   },
   "outputs": [],
   "source": [
    "DerivedV3* scpb2{static_cast<DerivedV3*>(pb2)};\n",
    "DerivedV3* scpb3{static_cast<DerivedV3*>(pb3)};\n",
    "DerivedV3* scab3{static_cast<DerivedV3*>(&b3)};"
   ]
  },
  {
   "cell_type": "code",
   "execution_count": null,
   "id": "527d38395dfa3601",
   "metadata": {
    "tags": [
     "keep"
    ]
   },
   "outputs": [],
   "source": [
    "std::cout << \"ccab3: \" << ccab3 << \"\\n\";\n",
    "std::cout << \"scpb2: \" << scpb2 << \"\\n\";\n",
    "std::cout << \"scpb3: \" << scpb3 << \"\\n\";"
   ]
  },
  {
   "cell_type": "code",
   "execution_count": null,
   "id": "6779d99e1681ddf9",
   "metadata": {
    "slideshow": {
     "slide_type": "subslide"
    },
    "tags": [
     "keep",
     "subslide"
    ]
   },
   "outputs": [],
   "source": [
    "DerivedV3* dcpb2{dynamic_cast<DerivedV3*>(pb2)};\n",
    "DerivedV3* dcpb3{dynamic_cast<DerivedV3*>(pb2)};\n",
    "DerivedV3* dcab3{dynamic_cast<DerivedV3*>(&b3)};"
   ]
  },
  {
   "cell_type": "code",
   "execution_count": null,
   "id": "a1f786755f9cdcb2",
   "metadata": {
    "tags": [
     "keep"
    ]
   },
   "outputs": [],
   "source": [
    "std::cout << \"dcpb2: \" << dcpb2 << \"\\n\";\n",
    "std::cout << \"dcpb3: \" << dcpb3 << \"\\n\";\n",
    "std::cout << \"dcpb3: \" << dcpb3 << \"\\n\";"
   ]
  },
  {
   "cell_type": "markdown",
   "id": "2d65bfdd1d936680",
   "metadata": {
    "lang": "de",
    "slideshow": {
     "slide_type": "subslide"
    },
    "tags": [
     "subslide"
    ]
   },
   "source": [
    "\n",
    "## Vorsicht mit `void*`!"
   ]
  },
  {
   "cell_type": "code",
   "execution_count": null,
   "id": "ddcb68a971c7a5a3",
   "metadata": {
    "tags": [
     "keep"
    ]
   },
   "outputs": [],
   "source": [
    "void* v2{(void*)pb2};\n",
    "void* v3{(void*)pb3};"
   ]
  },
  {
   "cell_type": "code",
   "execution_count": null,
   "id": "d6e1c10d61fc937a",
   "metadata": {
    "tags": [
     "keep"
    ]
   },
   "outputs": [],
   "source": [
    "std::cout << \"pb2: \" << (DerivedV3*)v2 << \"\\n\";\n",
    "std::cout << \"pb3: \" << (DerivedV3*)v3 << \"\\n\";"
   ]
  },
  {
   "cell_type": "code",
   "execution_count": null,
   "id": "1dc8e0232fa38671",
   "metadata": {
    "tags": [
     "keep"
    ]
   },
   "outputs": [],
   "source": [
    "((DerivedV3*)v3)->x"
   ]
  },
  {
   "cell_type": "code",
   "execution_count": null,
   "id": "358999005864acca",
   "metadata": {
    "tags": [
     "keep"
    ]
   },
   "outputs": [],
   "source": [
    "d3.x"
   ]
  },
  {
   "cell_type": "code",
   "execution_count": null,
   "id": "6b4e03423667dbb7",
   "metadata": {},
   "outputs": [],
   "source": []
  }
 ],
 "metadata": {
  "kernelspec": {
   "display_name": "C++17",
   "language": "C++17",
   "name": "xcpp17"
  },
  "language_info": {
   "codemirror_mode": "text/x-c++src",
   "file_extension": ".cpp",
   "mimetype": "text/x-c++src",
   "name": "c++",
   "version": "17"
  }
 },
 "nbformat": 4,
 "nbformat_minor": 5
}
