{
 "cells": [
  {
   "cell_type": "markdown",
   "id": "984ad2d5fcfbb906",
   "metadata": {
    "lang": "de",
    "slideshow": {
     "slide_type": "slide"
    },
    "tags": [
     "slide"
    ]
   },
   "source": [
    "\n",
    "<img src=\"data:image/png;base64,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\"\n",
    "     style=\"display:block;margin:auto;width:5%\"/>\n",
    "<br>\n",
    "\n",
    "<div style=\"text-align:center; font-size:200%;\">\n",
    " <b>Blockstruktur</b>\n",
    "</div>\n",
    "<br/>\n",
    "<div style=\"text-align:center; font-size:120%;\">Dr. Matthias Hölzl</div>\n",
    "<br/>\n",
    "<div style=\"text-align:center;\">Coding-Akademie München</div>\n",
    "<br/>\n",
    "<!-- 01 Blockstruktur.ipynb -->\n",
    "<!-- slides/module_120_basics/topic_176_block_structure.cpp -->"
   ]
  },
  {
   "cell_type": "markdown",
   "id": "80110460ba427062",
   "metadata": {
    "lang": "de",
    "slideshow": {
     "slide_type": "subslide"
    },
    "tags": [
     "subslide"
    ]
   },
   "source": [
    "\n",
    "# Blockstruktur, Scopes und Lifetimes\n",
    "\n",
    "- Wichtige Konzepte im Zusammenhang mit der Verwendung und Organisation von\n",
    "  Variablen in C++:\n",
    "- Block: Folge von Anweisungen.\n",
    "- Scope: Bereich des Quelltexts, in dem eine Variable sichtbar ist.\n",
    "- Lifetime: Zeitraum, bei der Programm-Ausführung in dem eine Variable\n",
    "  existiert."
   ]
  },
  {
   "cell_type": "markdown",
   "id": "9aa6dedc9672aa40",
   "metadata": {
    "lang": "de",
    "slideshow": {
     "slide_type": "subslide"
    },
    "tags": [
     "subslide"
    ]
   },
   "source": [
    "\n",
    "## Blockstruktur\n",
    "\n",
    "- Ein Block ist eine Sequenz von Anweisungen, die in geschweiften Klammern\n",
    "  (`{}`) eingeschlossen sind.\n",
    "- Definiert einen lokalen Scope;\n",
    "  - Variablen, die in einem Block definiert werden sind nur in diesem Block sichtbar.\n",
    "  - Ihre Lebensdauer endet, wenn der Kontrollfluss den Block verlässt.\n",
    "- Kann in anderen Blöcken verschachtelt werden."
   ]
  },
  {
   "cell_type": "code",
   "execution_count": null,
   "id": "a0ee650c342d197c",
   "metadata": {
    "tags": [
     "keep"
    ]
   },
   "outputs": [],
   "source": [
    "#include <iostream>"
   ]
  },
  {
   "cell_type": "code",
   "execution_count": null,
   "id": "82a7a9fa8341bec0",
   "metadata": {},
   "outputs": [],
   "source": [
    "void block_structure() {\n",
    "    int outer_var{42};\n",
    "    {\n",
    "        int inner_var{84};\n",
    "        std::cout << outer_var << \", \" << inner_var << \"\\n\";\n",
    "    } // inner_var is destroyed when control flow leaves the block\n",
    "    // inner_var is not accessible here\n",
    "    std::cout << outer_var << \"\\n\";\n",
    "}"
   ]
  },
  {
   "cell_type": "code",
   "execution_count": null,
   "id": "1e64810545841f14",
   "metadata": {},
   "outputs": [],
   "source": [
    "block_structure();"
   ]
  },
  {
   "cell_type": "markdown",
   "id": "734afe8674092057",
   "metadata": {
    "lang": "de",
    "slideshow": {
     "slide_type": "subslide"
    },
    "tags": [
     "subslide"
    ]
   },
   "source": [
    "\n",
    "- Variablen in einem inneren Block können Variablen aus äußeren Blöcken\n",
    "  verschatten."
   ]
  },
  {
   "cell_type": "code",
   "execution_count": null,
   "id": "e6692c65df54bbe7",
   "metadata": {
    "tags": [
     "keep"
    ]
   },
   "outputs": [],
   "source": [
    "#include <iostream>"
   ]
  },
  {
   "cell_type": "code",
   "execution_count": null,
   "id": "98675ed743bc64ce",
   "metadata": {},
   "outputs": [],
   "source": [
    "void shadowing() {\n",
    "    int var{42};\n",
    "    std::cout << var << \"\\n\";\n",
    "    {\n",
    "        int var{84}; // OK, shadows outer var\n",
    "        // outer var still exists (i.e., it is not destoryed), but is not visible.\n",
    "        std::cout << var << \"\\n\";\n",
    "    }\n",
    "    // int var{168}; // Not allowed!\n",
    "    std::cout << var << \"\\n\";\n",
    "}"
   ]
  },
  {
   "cell_type": "code",
   "execution_count": null,
   "id": "cb3e3c177a7d8ba5",
   "metadata": {},
   "outputs": [],
   "source": [
    "shadowing();"
   ]
  },
  {
   "cell_type": "markdown",
   "id": "fffc8ecec30cb40c",
   "metadata": {
    "lang": "de",
    "slideshow": {
     "slide_type": "subslide"
    },
    "tags": [
     "subslide"
    ]
   },
   "source": [
    "\n",
    "## Mini-Workshop: Blockstruktur\n",
    "\n",
    "- Welche Ausgabe erzeugt der folgende Code? Warum?\n",
    "- Benennen Sie die Variablen so um, dass kein Shadowing mehr auftritt."
   ]
  },
  {
   "cell_type": "code",
   "execution_count": null,
   "id": "a0e973911abb7194",
   "metadata": {
    "tags": [
     "keep"
    ]
   },
   "outputs": [],
   "source": [
    "#include <iostream>"
   ]
  },
  {
   "cell_type": "code",
   "execution_count": null,
   "id": "5191473b817fb3ac",
   "metadata": {
    "tags": [
     "keep"
    ]
   },
   "outputs": [],
   "source": [
    "void workshop_block_structure() {\n",
    "    int var{1};\n",
    "    std::cout << \"1. var: \" << ++var << \"\\n\";\n",
    "    {\n",
    "        int var{10};\n",
    "        std::cout << \"2. var: \" << ++var << \"\\n\";\n",
    "        {\n",
    "            int var{20};\n",
    "            std::cout << \"3. var: \" << ++var << \"\\n\";\n",
    "        }\n",
    "        std::cout << \"4. var: \" << ++var << \"\\n\";\n",
    "        {\n",
    "            int var{100};\n",
    "            std::cout << \"5. var: \" << ++var << \"\\n\";\n",
    "        }\n",
    "        std::cout << \"6. var: \" << ++var << \"\\n\";\n",
    "        {\n",
    "            std::cout << \"7. var: \" << ++var << \"\\n\";\n",
    "        }\n",
    "        std::cout << \"8. var: \" << ++var << \"\\n\";\n",
    "    }\n",
    "    std::cout << \"9. var: \" << ++var << \"\\n\";\n",
    "}"
   ]
  },
  {
   "cell_type": "code",
   "execution_count": null,
   "id": "3cdebe9c31b4ec2f",
   "metadata": {},
   "outputs": [],
   "source": [
    "workshop_block_structure();"
   ]
  },
  {
   "cell_type": "code",
   "execution_count": null,
   "id": "48bc75d1164966d6",
   "metadata": {
    "tags": [
     "alt"
    ]
   },
   "outputs": [],
   "source": [
    "void workshop_block_structure_no_shadowing() {\n",
    "    int var_1{1};\n",
    "    std::cout << \"1. var_1: \" << ++var_1 << \"\\n\";\n",
    "    {\n",
    "        int var_2{10};\n",
    "        std::cout << \"2. var_2: \" << ++var_2 << \"\\n\";\n",
    "        {\n",
    "            int var_3{20};\n",
    "            std::cout << \"3. var_3: \" << ++var_3 << \"\\n\";\n",
    "        }\n",
    "        std::cout << \"4. var_2: \" << ++var_2 << \"\\n\";\n",
    "        {\n",
    "            int var_4{100};\n",
    "            std::cout << \"5. var_4: \" << ++var_4 << \"\\n\";\n",
    "        }\n",
    "        std::cout << \"6. var_2: \" << ++var_2 << \"\\n\";\n",
    "        {\n",
    "            std::cout << \"7. var_2: \" << ++var_2 << \"\\n\";\n",
    "        }\n",
    "        std::cout << \"8. var_2: \" << ++var_2 << \"\\n\";\n",
    "    }\n",
    "    std::cout << \"9. var_1: \" << ++var_1 << \"\\n\";\n",
    "}"
   ]
  }
 ],
 "metadata": {
  "kernelspec": {
   "display_name": "C++17",
   "language": "C++17",
   "name": "xcpp17"
  },
  "language_info": {
   "codemirror_mode": "text/x-c++src",
   "file_extension": ".cpp",
   "mimetype": "text/x-c++src",
   "name": "c++",
   "version": "17"
  }
 },
 "nbformat": 4,
 "nbformat_minor": 5
}
