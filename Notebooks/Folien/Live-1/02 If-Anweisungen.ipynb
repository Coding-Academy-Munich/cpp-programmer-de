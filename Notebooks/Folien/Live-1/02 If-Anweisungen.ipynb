{
 "cells": [
  {
   "cell_type": "markdown",
   "id": "6499edcb60bd5e47",
   "metadata": {
    "lang": "de",
    "slideshow": {
     "slide_type": "slide"
    },
    "tags": [
     "slide"
    ]
   },
   "source": [
    "\n",
    "<img src=\"data:image/png;base64,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\"\n",
    "     style=\"display:block;margin:auto;width:5%\"/>\n",
    "<br>\n",
    "\n",
    "<div style=\"text-align:center; font-size:200%;\">\n",
    " <b>If-Anweisungen</b>\n",
    "</div>\n",
    "<br/>\n",
    "<div style=\"text-align:center; font-size:120%;\">Dr. Matthias Hölzl</div>\n",
    "<br/>\n",
    "<div style=\"text-align:center;\">Coding-Akademie München</div>\n",
    "<br/>\n",
    "<!-- 02 If-Anweisungen.ipynb -->\n",
    "<!-- slides/module_120_basics/topic_162_if.cpp -->"
   ]
  },
  {
   "cell_type": "markdown",
   "id": "bce33ac44ede4d90",
   "metadata": {
    "lang": "de",
    "slideshow": {
     "slide_type": "subslide"
    },
    "tags": [
     "subslide"
    ]
   },
   "source": [
    "\n",
    "## Die `if`-Anweisung\n",
    "\n",
    "- Kontrollfluss wird anhand einer Bedingung gesteuert.\n",
    "- Schlüsselwort `if`.\n",
    "- Die Bedingung *muss* in Klammern eingeschlossen werden.\n",
    "- `else`-Zweig wird genommen, wenn die Bedingung falsch ist."
   ]
  },
  {
   "cell_type": "code",
   "execution_count": null,
   "id": "a0ee650c342d197c",
   "metadata": {
    "tags": [
     "keep"
    ]
   },
   "outputs": [],
   "source": [
    "#include <iostream>"
   ]
  },
  {
   "cell_type": "code",
   "execution_count": null,
   "id": "95fb16c73587be07",
   "metadata": {},
   "outputs": [],
   "source": [
    "if (false)\n",
    "    std::cout << \"Condition is true.\\n\";\n",
    "else\n",
    "    std::cout << \"Condition is false.\\n\";"
   ]
  },
  {
   "cell_type": "markdown",
   "id": "37a7dd78d5de46d0",
   "metadata": {
    "lang": "de",
    "slideshow": {
     "slide_type": "subslide"
    },
    "tags": [
     "subslide"
    ]
   },
   "source": [
    "\n",
    "- Wenn ein Zweig mehrere Anweisungen enthält, müssen diese in geschweifte\n",
    "  Klammern eingeschlossen werden:"
   ]
  },
  {
   "cell_type": "code",
   "execution_count": null,
   "id": "fba0e8153afec063",
   "metadata": {},
   "outputs": [],
   "source": [
    "if (true) {\n",
    "    std::cout << \"Condition is true.\\n\";\n",
    "    std::cout << \"Condition is still true.\\n\";\n",
    "}\n",
    "else {\n",
    "    std::cout << \"Condition is false.\\n\";\n",
    "}"
   ]
  },
  {
   "cell_type": "markdown",
   "id": "9d293d68955691b9",
   "metadata": {
    "lang": "de",
    "slideshow": {
     "slide_type": "subslide"
    },
    "tags": [
     "subslide"
    ]
   },
   "source": [
    "\n",
    "- Die `else`-Klausel ist optional.\n",
    "- Es können beliebig viele `else if`-Klauseln verwendet werden."
   ]
  },
  {
   "cell_type": "code",
   "execution_count": null,
   "id": "97d9511d175595b8",
   "metadata": {},
   "outputs": [],
   "source": [
    "if (false) {\n",
    "    std::cout << \"Condition is true.\\n\";\n",
    "}"
   ]
  },
  {
   "cell_type": "code",
   "execution_count": null,
   "id": "c36286f561ae44d7",
   "metadata": {
    "slideshow": {
     "slide_type": "subslide"
    },
    "tags": [
     "keep",
     "subslide"
    ]
   },
   "outputs": [],
   "source": [
    "int value{4};"
   ]
  },
  {
   "cell_type": "code",
   "execution_count": null,
   "id": "00a63ce3a19c7b7f",
   "metadata": {},
   "outputs": [],
   "source": [
    "if (value == 1) {\n",
    "    std::cout << \"Value is 1.\\n\";\n",
    "}\n",
    "else if (value == 2) {\n",
    "    std::cout << \"Value is 2.\\n\";\n",
    "}\n",
    "else {\n",
    "    std::cout << \"Value is neither 1 nor 2.\\n\";\n",
    "}"
   ]
  },
  {
   "cell_type": "markdown",
   "id": "706b6b490e7ed4dc",
   "metadata": {
    "lang": "de",
    "slideshow": {
     "slide_type": "subslide"
    },
    "tags": [
     "subslide"
    ]
   },
   "source": [
    "\n",
    "- Das letzte Beispiel könnte auch so geschrieben werden:\n",
    "- Natürlich macht man das nicht, aber es ist hilfreich um in den Nächsten\n",
    "  Beispielen den Scope der Variablen zu verstehen."
   ]
  },
  {
   "cell_type": "code",
   "execution_count": null,
   "id": "c14955cf83339973",
   "metadata": {
    "tags": [
     "keep"
    ]
   },
   "outputs": [],
   "source": [
    "if (value == 1) {\n",
    "    std::cout << \"Value is 1.\\n\";\n",
    "}\n",
    "else {\n",
    "    if (value == 2) {\n",
    "        std::cout << \"Value is 2.\\n\";\n",
    "    }\n",
    "    else {\n",
    "        std::cout << \"Value is neither 1 nor 2.\\n\";\n",
    "    }\n",
    "}"
   ]
  },
  {
   "cell_type": "markdown",
   "id": "8d764e856ae691de",
   "metadata": {
    "lang": "de",
    "slideshow": {
     "slide_type": "subslide"
    },
    "tags": [
     "subslide"
    ]
   },
   "source": [
    "\n",
    "- Vorsicht auf das `dangling else`-Problem:"
   ]
  },
  {
   "cell_type": "code",
   "execution_count": null,
   "id": "f8b469e78c6eef3a",
   "metadata": {
    "tags": [
     "keep"
    ]
   },
   "outputs": [],
   "source": [
    "void dangling_else(int value) {\n",
    "    if (value >= 1)\n",
    "        if (value <= 10)\n",
    "            std::cout << \"Value is between 1 and 10.\\n\";\n",
    "    else\n",
    "        std::cout << \"Value is NOT between 1 and 10.\\n\";\n",
    "}"
   ]
  },
  {
   "cell_type": "code",
   "execution_count": null,
   "id": "ad4b2d2fe74df726",
   "metadata": {},
   "outputs": [],
   "source": [
    "dangling_else(20);"
   ]
  },
  {
   "cell_type": "code",
   "execution_count": null,
   "id": "5717940ac7ca3f1b",
   "metadata": {},
   "outputs": [],
   "source": [
    "dangling_else(5);"
   ]
  },
  {
   "cell_type": "code",
   "execution_count": null,
   "id": "d5f92d22c0d5c8c3",
   "metadata": {
    "lines_to_next_cell": 2
   },
   "outputs": [],
   "source": [
    "dangling_else(0);"
   ]
  },
  {
   "cell_type": "markdown",
   "id": "391de02457d4da4b",
   "metadata": {
    "lang": "de",
    "slideshow": {
     "slide_type": "subslide"
    },
    "tags": [
     "subslide"
    ]
   },
   "source": [
    "\n",
    "- Die Bedingung kann einen beliebigen Typ haben, der implizit in `bool`\n",
    "  konvertiert werden kann:"
   ]
  },
  {
   "cell_type": "code",
   "execution_count": null,
   "id": "dda4dfaf8f7f6bfb",
   "metadata": {
    "tags": [
     "keep"
    ]
   },
   "outputs": [],
   "source": [
    "int condition{1};"
   ]
  },
  {
   "cell_type": "code",
   "execution_count": null,
   "id": "dc1d10343bb64e85",
   "metadata": {},
   "outputs": [],
   "source": [
    "if (condition)\n",
    "    std::cout << \"Condition is true\";\n",
    "else\n",
    "    std::cout << \"Condition is false\";"
   ]
  },
  {
   "cell_type": "code",
   "execution_count": null,
   "id": "a58dd6d0f56453bd",
   "metadata": {
    "slideshow": {
     "slide_type": "subslide"
    },
    "tags": [
     "subslide",
     "keep"
    ]
   },
   "outputs": [],
   "source": [
    "int value{0};"
   ]
  },
  {
   "cell_type": "code",
   "execution_count": null,
   "id": "17697ed62a1315c1",
   "metadata": {},
   "outputs": [],
   "source": [
    "// if (std::cin >> value) {\n",
    "//   std::cout << \"Input is valid: \" << value;\n",
    "// } else {\n",
    "//   std::cout << \"Input is invalid: \" << value;\n",
    "// }"
   ]
  },
  {
   "cell_type": "markdown",
   "id": "3f9cbbdb3ec625f8",
   "metadata": {
    "lang": "de",
    "slideshow": {
     "slide_type": "subslide"
    },
    "tags": [
     "subslide"
    ]
   },
   "source": [
    "\n",
    "- In der Bedingung können Variablen definiert werden.\n",
    "- Der Scope dieser Variablen ist die komplette `if`-Anweisung:\n",
    "  - sie sind nur innerhalb der `if`-Anweisung gültig,\n",
    "  - sie können auch in den `else`- oder `else if`-Zweigen verwendet werden."
   ]
  },
  {
   "cell_type": "code",
   "execution_count": null,
   "id": "6dbae41322ad3962",
   "metadata": {
    "tags": [
     "keep"
    ]
   },
   "outputs": [],
   "source": [
    "int value{10};"
   ]
  },
  {
   "cell_type": "code",
   "execution_count": null,
   "id": "c2615cc1f99e88d2",
   "metadata": {},
   "outputs": [],
   "source": [
    "if (int rest{value % 5}; rest == 0) {\n",
    "    std::cout << \"Divisible by 5, rest is \" << rest;\n",
    "}\n",
    "else if (rest == 1) {\n",
    "    std::cout << \"Almost, but not quite, rest is \" << rest;\n",
    "}\n",
    "else {\n",
    "    std::cout << \"NOT divisible by 5, rest is \" << rest;\n",
    "}"
   ]
  },
  {
   "cell_type": "markdown",
   "id": "f61c455f1857fac9",
   "metadata": {
    "lang": "de",
    "slideshow": {
     "slide_type": "subslide"
    },
    "tags": [
     "subslide"
    ]
   },
   "source": [
    "\n",
    "Wenn\n",
    "\n",
    "- nur eine Variable definiert wird und\n",
    "- nach der Definition kein Test angegeben wird\n",
    "\n",
    "so wird der Wert der Variablen nach `bool` konvertiert."
   ]
  },
  {
   "cell_type": "code",
   "execution_count": null,
   "id": "941a51e307b72e46",
   "metadata": {
    "tags": [
     "keep"
    ]
   },
   "outputs": [],
   "source": [
    "int value{12};"
   ]
  },
  {
   "cell_type": "code",
   "execution_count": null,
   "id": "7ce60a11645e84f2",
   "metadata": {},
   "outputs": [],
   "source": [
    "if (int rest{value % 5}) {\n",
    "    std::cout << \"NOT divisible by 3, rest is \" << rest;\n",
    "}\n",
    "else {\n",
    "    std::cout << \"Divisible by 3, rest is \" << rest;\n",
    "}"
   ]
  },
  {
   "cell_type": "markdown",
   "id": "8761648beb7115d0",
   "metadata": {
    "lang": "de",
    "slideshow": {
     "slide_type": "subslide"
    },
    "tags": [
     "subslide"
    ]
   },
   "source": [
    "\n",
    "- Wenn mehrere Variablen definiert werden muss ein expliziter Test angegeben\n",
    "  werden:"
   ]
  },
  {
   "cell_type": "code",
   "execution_count": null,
   "id": "c89397835e21d34b",
   "metadata": {},
   "outputs": [],
   "source": [
    "if (int i{0}, j{1}; i == 0) {\n",
    "    std::cout << \"i = \" << i << \", j = \" << j;\n",
    "}"
   ]
  },
  {
   "cell_type": "markdown",
   "id": "2f370cd2a6322d5d",
   "metadata": {
    "lang": "de",
    "slideshow": {
     "slide_type": "subslide"
    },
    "tags": [
     "subslide"
    ]
   },
   "source": [
    "\n",
    "## Mini-Workshop: Amerikanische Schulnoten\n",
    "\n",
    "In diesem Workshop soll zunächst die Note eines Schülers im amerikanischen\n",
    "Notensystem bestimmt werden.\n",
    "\n",
    "- Schreiben Sie ein Programm, das den Benutzer nach einer Punktzahl (einem\n",
    "  ganzzahligen Wert) fragt.\n",
    "- Verwenden Sie eine `if`-Anweisung um die entsprechende Note anhand der\n",
    "  folgenden Skala zu bestimmen:\n",
    "  - `A` für Punktzahlen von 90 oder höher\n",
    "  - `B` für Punktzahlen zwischen 80 und 89\n",
    "  - `C` für Punktzahlen zwischen 70 und 79\n",
    "  - `D` für Punktzahlen zwischen 60 und 69\n",
    "  - `F` für Punktzahlen unter 60\n",
    "- Geben Sie die Note auf dem Bildschirm aus."
   ]
  },
  {
   "cell_type": "code",
   "execution_count": null,
   "id": "d7b98f88e7ca1b45",
   "metadata": {
    "slideshow": {
     "slide_type": "subslide"
    },
    "tags": [
     "subslide"
    ]
   },
   "outputs": [],
   "source": [
    "char grade_from_score(int score)\n",
    "{\n",
    "    if (score >= 90) {\n",
    "        return 'A';\n",
    "    }\n",
    "    else if (score >= 80) {\n",
    "        return 'B';\n",
    "    }\n",
    "    else if (score >= 70) {\n",
    "        return 'C';\n",
    "    }\n",
    "    else if (score >= 60) {\n",
    "        return 'D';\n",
    "    }\n",
    "    else {\n",
    "        return 'F';\n",
    "    }\n",
    "}"
   ]
  },
  {
   "cell_type": "code",
   "execution_count": null,
   "id": "da064afaa50259f3",
   "metadata": {
    "slideshow": {
     "slide_type": "subslide"
    },
    "tags": [
     "subslide"
    ]
   },
   "outputs": [],
   "source": [
    "#include <iostream>\n",
    "\n",
    "void read_score_print_grade()\n",
    "{\n",
    "    std::cout << \"Enter the score: \";\n",
    "\n",
    "    if (int score; std::cin >> score) {\n",
    "        std::cout << \"Grade is \" << grade_from_score(score) << \".\\n\";\n",
    "    }\n",
    "    else {\n",
    "        std::cout << \"Please enter a valid score.\\n\";\n",
    "    }\n",
    "}"
   ]
  },
  {
   "cell_type": "code",
   "execution_count": null,
   "id": "5db4ab140c31177a",
   "metadata": {},
   "outputs": [],
   "source": [
    "// read_score_print_grade();"
   ]
  },
  {
   "cell_type": "markdown",
   "id": "b5a1ef41b57d1ffd",
   "metadata": {
    "lang": "de",
    "lines_to_next_cell": 2,
    "slideshow": {
     "slide_type": "subslide"
    },
    "tags": [
     "subslide"
    ]
   },
   "source": [
    "\n",
    "Im zweiten Teil der Aufgabe sollen Sie eine Note im amerikanischen\n",
    "Notensystem in einen der zugehörigen numerischen Werte konvertieren:\n",
    "\n",
    "- Schreiben Sie ein Programm, das den Benutzer nach einer Note (ein Zeichen\n",
    "  vom Typ `char`) fragt.\n",
    "- Verwenden Sie eine `if`-Anweisung, um die Note in einen der zugehörigen\n",
    "  numerischen Werte umzuwandeln. Verwenden Sie den niedrigsten möglichen Wert\n",
    "  für jede Note.\n",
    "- Geben Sie den numerischen Wert auf dem Bildschirm aus."
   ]
  },
  {
   "cell_type": "code",
   "execution_count": null,
   "id": "9258ae7629522aa3",
   "metadata": {
    "lines_to_next_cell": 2,
    "slideshow": {
     "slide_type": "subslide"
    },
    "tags": [
     "subslide"
    ]
   },
   "outputs": [],
   "source": [
    "int score_from_grade(char grade)\n",
    "{\n",
    "    grade = std::toupper(grade);\n",
    "    if (grade == 'A') {\n",
    "        return 90;\n",
    "    }\n",
    "    else if (grade == 'B') {\n",
    "        return 80;\n",
    "    }\n",
    "    else if (grade == 'C') {\n",
    "        return 70;\n",
    "    }\n",
    "    else if (grade == 'D') {\n",
    "        return 60;\n",
    "    }\n",
    "    else if (grade == 'F') {\n",
    "        return 0;\n",
    "    }\n",
    "    else {\n",
    "        return -1;\n",
    "    }\n",
    "}"
   ]
  },
  {
   "cell_type": "code",
   "execution_count": null,
   "id": "356387c612cbb5d9",
   "metadata": {
    "slideshow": {
     "slide_type": "subslide"
    },
    "tags": [
     "subslide"
    ]
   },
   "outputs": [],
   "source": [
    "#include <iostream>\n",
    "\n",
    "void read_grade_print_score()\n",
    "{\n",
    "    std::cout << \"Enter the grade: \";\n",
    "\n",
    "    if (char grade; std::cin >> grade) {\n",
    "        int score{score_from_grade(grade)};\n",
    "        if (score >= 0) {\n",
    "            std::cout << \"Score is \" << score << \".\\n\";\n",
    "        }\n",
    "        else {\n",
    "            std::cout << \"Please enter a valid grade.\\n\";\n",
    "        }\n",
    "    }\n",
    "    else {\n",
    "        std::cout << \"Please enter a character.\\n\";\n",
    "    }\n",
    "}"
   ]
  },
  {
   "cell_type": "code",
   "execution_count": null,
   "id": "0d03e401b481bd04",
   "metadata": {},
   "outputs": [],
   "source": [
    "// read_grade_print_score();"
   ]
  },
  {
   "cell_type": "code",
   "execution_count": null,
   "id": "6b4e03423667dbb7",
   "metadata": {},
   "outputs": [],
   "source": []
  }
 ],
 "metadata": {
  "kernelspec": {
   "display_name": "C++17",
   "language": "C++17",
   "name": "xcpp17"
  },
  "language_info": {
   "codemirror_mode": "text/x-c++src",
   "file_extension": ".cpp",
   "mimetype": "text/x-c++src",
   "name": "c++",
   "version": "17"
  }
 },
 "nbformat": 4,
 "nbformat_minor": 5
}
