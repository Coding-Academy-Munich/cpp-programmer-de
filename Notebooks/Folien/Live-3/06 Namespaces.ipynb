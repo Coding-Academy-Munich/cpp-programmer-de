{
 "cells": [
  {
   "cell_type": "markdown",
   "id": "ac0a551e41efc4a7",
   "metadata": {
    "lang": "de",
    "slideshow": {
     "slide_type": "slide"
    },
    "tags": [
     "slide"
    ]
   },
   "source": [
    "\n",
    "<img src=\"data:image/png;base64,iVBORw0KGgoAAAANSUhEUgAAAEAAAABACAYAAACqaXHeAAAABHNCSVQICAgIfAhkiAAAAAlwSFlzAAACkwAAApMBv+Bu1wAAABl0RVh0U29mdHdhcmUAd3d3Lmlua3NjYXBlLm9yZ5vuPBoAAAumSURBVHic1Vt7WFRlGv99ZwYGZoABVGCQS2gqqVikbImauanrqm31aNaz1SYhdtu85LqumTjenloto9ZWS+yiWZZPW7aaaWghXjC8cF0uclHuAwwwA3Ofc779A0HGGZgzZway318z53u/93vP73zn/d73O99L8Ctg6QcF8yjBK5TQSYRCSihKAOw3e/vv+iQpxjiYtpDBHOy5vXljRCzZAWBuHyK1lNB16Usm7AchdDBsGhQCXvx3fpBVjDUAVgLw5tElk+GY5R+8MD5vgE0bWAKUSsrUDs9/mlCyHUCIi905gB6ghFmdnhKnGgj7gAEkYOkHhTMo4dIATHBTVTuAN32Mvmn/WjbK5AHTbOBxApI+KogUW7mtAHnGw6rLALJqz9K4I55U6jECntmXJ/M1YDUlZA0AH0/pdYAMgFuxZ+k9RZ5Q5j4BlJKlHxYsBPA2JYh03yResFBCd1nF3IZPkuLb3VHkFgEpHxYmAFwagER39LiBVoBuag8s3Xlo0SJWiAJBBDy393K42CreQAmWAGCE6PAsaC5AVuxZOiHT1Z4uEbByxznfTj+/ZQDWAfB3dbCBBz1CCZalp9xdxbcHbwKSd+c9zDDkXQAxgmwbPJgpobs5RvL6R8mxHc6EnRKQnJ4bTyiTRige8Ix9g4Z6SrAxoi4uXakkXF9CfRLw8s7iISaJOZVQ8jIAkbvWyKVi3BXuhzvDZAgLlCDIzwsy7y61OjOLTqMV9W0mVDcbUFLfiYZ2j8U8OV3+Ie6co0aHBKR8WDAfoPsBBLozMiHAvTFyPBAbjNhwPxAXPE5tqxHnr7bhdHErTJY+HyBfcAC2D6+Pe+3W2WBn0o2l7Qz4JS19YkKUPxber0CYXOKOGnQarTie34KMghawnHsJIiVEmZ4St7H3NQcE5GcDuE/oIFKJCM9MG46JMXKhKhyiRm3Ex5k1qFUL2y4ws2zxycJyU217+8M4kFLbfd3m3V6yJy+GgGwXaqQiSIK/zx+BkaEyoSr6hFwqRuLoYKg0JjS08fcPlEJ18Vpt3vH8snitwaQASDUKvrvQ3S7uLUwoGSnUwOhhvlgxJwYyH7f9ZZ/wEhEs/X0UvvStx6kitTNxY7Vak32qqDzBwrJTeq5yuLO3kA0BDEfFHON6cBgWKMHyOXcM6M13gxDgicRwdJpY/FLuOA3QGU05R/NKwzR644MOmm2MFDsQcAk+Xgxenh0NPx+3VfEGAbB4egRatGZUNul7rrMsV5lZUtVW0aRO4KvL7Tj+icRwhLrp6YVAzBAkPRgBLzEDULQV1TWe/jjrYnRFk3qiS3rcMWKUQobE0UEu99MZWZSrdGjVWWC2cpD7eiFqqA/Cg1zbRhjq741RIZKi1w6dVRjMVkGRqlsELEgIcymbqmzS47tLKpTU6cBR+zU9VC7BrAlDMXVMEBgnUVNJfac2Jf10+5mShnEumm0DwQSMVsgwIlTKS5bjKL7KbsBPRWr0F8qoNCZ8llWHs6VteH5mFIJlXnYyzVqzZdt/CyveOnolFkCAMOtvQrAPmBobzEuOoxS7M6pxysnN90ZVkx5vHq6AusPcc81o4egXZ6sropZ9wd24eY9A0AwQiwji7+BH/rc5KuRe17o8RrvOgvdPXMfaR0biYlWb6s87T4mvNWsFxyl9QRABI0KkkIidT57GdhNOFLQIGQIAUNmkK/rd+iPi3OvNYwQrcQJhBPB894/lNoMTkMBQioaL12orc6/XJ4I69rNiEYNRYV2zsLjOPiDy8RIhJsQfFiuHclXfM1AQAQoe6z7LUeRVuzz19TXq9pyTRRWTbMJXBwgJ8MH/ti8AADBP7cWti8r4yCDkbHkEje0GKF76vE89gggIdOCdb0WjxgS9ifdGLdUYjdnHckujOgym6f0JMoTAz0cMP5+bNvjf+N1htEDEMJB6iyCTdN0aIUCAb1e71mCx0yeIAImX8/e/XWc/mCNYWbY4o7DcUtOqmcxHfmLMUPyy5U821zR7/wIAiPzrQUyMGYpvV83saQuV+/a0i576yC7+GLAAnjgJkSioKq/katnFopIh1C8I8B78cBoQSACfLSq5rE/VlvrmlvM/Zl2IN1st0wAAGjUgEuVAPiQcIvHw/vReqmqBPHkfwgKlKH17YddYyfsAdL0CjRoD5Mn7EH/HEPy8fh5UGgNGv3oIABxGn4IIaOMxvRWBEsh8RNAZb/oBnd6Q8/3pc6Ht2g77uJ1lE9DapIe3JBMBwZNAiMNdFY5SaA0W+PnctKHDaOlxglaWg9bAQWeyAgAodfzud0MQAY08dmwZQjAhKgDny9rAclzl6ZzLreXXa52lqVKYTdOhbmyA1D8XUr9E9LFx26Q1YuzqrwHAbgUAgMKaNoxd/TUs1v5nqyACKnrl4P1hXnwI+8nxy+fOXMyfzFE6gvcAlCqg0yqg7yhSREeIG3SsXSBkZTmH6383jBa23/ZuCMoFqpr0vPxASIC3aMqdftM4SgURfXdMyLiKnU+P+eqlKaqwAInTPTAhEESAlaW4co1fkLMlaQYem+J67hIxLACHNz0BX4kYj0+NDS3d8Xjw1kfHVXiJGY+eEhGcDWaVtvIbgBAcSl2IlQvu4/1hZPLYCJx/NwnRoTe31gOkEvLaovtHFv/zUebJiYoSITY7tE9ox6sNOpSr+PkCEUOw44XZyH4vGXMSRkIscjzs2OhhSH91PrLeWYyIYY6zzZGKIK8vVs2NzVw7Szte4Vct1P5u2DyT53fnzeEYcoxnXxoVJCpct+CuOOLKNy8ArR0GnCuqRXWTBnqTBYpgP0wcrUBs5FCX9FisHJLeOVp04FKjAgzDb4OCYhcOLnmp+68g52SxsEU/nsumdarmOIVsPpL/GO9S/2B/X8y/f5SQoW1Q2dCG/2QWjoOJbYNUehoyeSJcvCeXhDlKGy8VFlfklpT1pKkrdp3AlPGRLj89d2GysHh222EYugKeIOh1D0BvqESAvBUS30l89fD1AYaahsbMfd8c9c8tLpvSO0fvNJjxSOpXaNbw8weeAKXA4u2HcaGk7pYWbgS0bZPQqsoBa6nho8uGAI4h1lvH6ujszDp4NEP9Q1b2dIvV6jA8LatVY87az9EyCCRwlGLZ+z/g4E/9nJJj2QS0NodCqz4PSnW3tvb+Y0MAJbSi+7eFtZb8kHU+/+D3GdM6dJ0Rzgy7fLUB01Z+ior6Nl43IgQGkxWLNn+NnYdz+Ih7w2SajJYGHXTabODGniyD8t5Cdu47afeVo4VlFZKL+cUPUlCXP/bJZRLsXj4PT85wa7veDpevNmDx9u9QUNUkTAFhShAQaAbjPxeHnu15d+zXr1lbJoFyZ+HmAYk5CSPx9vOzMDZ6mDtq0KzRY9uX5/DuNxecJjZOQbABP6Zusr3kCDM3zgPIZ3DziAxDCB6bGouUufGYee8IiFz48nylvBGfnshD+rEr0Bn57S71Aw7ANkzl1kGp7P+ITA/+oAwGx2wAhUcOSYUEyvBQfAymxUUhNnIIokLkCPL3ASEErVoDWrR6FFY14dLVBpy8cg1ltR7LfXJAsRwnU887anT+SGYp7wFl0gD0u1l5G6IewFpkrN8P9F19wn9Ozt74MLjfxEFJA0Dfg8FnK86ucf+gpA0eV3qjXfQiKN2M2/KoLI6AIctwYr3nj8raYJYyHJTZANwuh6VxBQyzAideP+1qR/fqBR7alACGpoGSX+u4vBqEbEbgmJ04NIjH5W1BCWZtWghK3gIQ5b4+XrCAYBeodyoy/qFxR5HnaoZmb5eB068GBqFkhsUK/JR6m5TM3IrZWyLB0a0A9XzRFCWrcHL97Vk0ZYeHNs4AYdIA6n7ZHCFvQixPw7Flt3/ZnA2USgZnmKcBCCycJAfAsH/DCaXADMg5Bqd2eN4bQTCZ1wCEb+nszxBhBY6n/rZLZ+0wY/MYiGjfxdMEtaBY5yx89SQGl4BudGWbrwCYBEAKkGIAn8HK7sLPykEtn/8/zE19fO7n0IAAAAAASUVORK5CYII=\"\n",
    "     style=\"display:block;margin:auto;width:5%\"/>\n",
    "<br>\n",
    "\n",
    "<div style=\"text-align:center; font-size:200%;\">\n",
    " <b>Namespaces</b>\n",
    "</div>\n",
    "<br/>\n",
    "<div style=\"text-align:center; font-size:120%;\">Dr. Matthias Hölzl</div>\n",
    "<br/>\n",
    "<div style=\"text-align:center;\">Coding-Akademie München</div>\n",
    "<br/>\n",
    "<!-- 06 Namespaces.ipynb -->\n",
    "<!-- slides/module_150_classes/topic_155_namespaces.cpp -->"
   ]
  },
  {
   "cell_type": "markdown",
   "id": "46004fd36347acbd",
   "metadata": {
    "lang": "de",
    "slideshow": {
     "slide_type": "slide"
    },
    "tags": [
     "slide"
    ]
   },
   "source": [
    "\n",
    "# Namespaces in C++\n",
    "\n",
    "- Mittel zum Vermeiden von Namenskonflikten\n",
    "- Jeder Namespace ist ein eigener Gültigkeitsbereich (Scope)\n",
    "  - Gleiche Namen in verschiedenen Namespaces sind erlaubt und führen nicht\n",
    "    zu Konflikten\n",
    "- Kann verschiedene Code-Elemente enthalten:\n",
    "  - Variablen, Funktionen, Strukturen, andere Namespaces, ..."
   ]
  },
  {
   "cell_type": "code",
   "execution_count": null,
   "id": "a0ee650c342d197c",
   "metadata": {
    "slideshow": {
     "slide_type": "subslide"
    },
    "tags": [
     "subslide",
     "keep"
    ]
   },
   "outputs": [],
   "source": [
    "#include <iostream>"
   ]
  },
  {
   "cell_type": "code",
   "execution_count": null,
   "id": "a48db90c1df3d08b",
   "metadata": {
    "tags": [
     "keep"
    ]
   },
   "outputs": [],
   "source": [
    "namespace ns1 {\n",
    "    int my_var{1};\n",
    "\n",
    "    void my_function() {\n",
    "        std::cout << \"Hello from ns1!\\n\";\n",
    "        std::cout << \"my_var = \" << my_var << \"\\n\";\n",
    "    }\n",
    "}"
   ]
  },
  {
   "cell_type": "markdown",
   "id": "24ca2304a73abb26",
   "metadata": {
    "lang": "de",
    "slideshow": {
     "slide_type": "slide"
    },
    "tags": [
     "slide"
    ]
   },
   "source": [
    "\n",
    "## Verwenden von Namespaces\n",
    "\n",
    "- Zugriff mit dem Gültigkeitsbereichsoperator `::` (scope resolution\n",
    "  operator)"
   ]
  },
  {
   "cell_type": "code",
   "execution_count": null,
   "id": "960a76d10902a793",
   "metadata": {
    "slideshow": {
     "slide_type": "subslide"
    },
    "tags": [
     "subslide",
     "keep"
    ]
   },
   "outputs": [],
   "source": [
    "namespace ns2 {\n",
    "    int my_var{2};\n",
    "}"
   ]
  },
  {
   "cell_type": "code",
   "execution_count": null,
   "id": "62e5f9f2f199cc5e",
   "metadata": {
    "tags": [
     "keep"
    ]
   },
   "outputs": [],
   "source": [
    "std::cout << \"ns1::my_var = \" << ns1::my_var << \"\\n\";\n",
    "std::cout << \"ns2::my_var = \" << ns2::my_var << \"\\n\";"
   ]
  },
  {
   "cell_type": "code",
   "execution_count": null,
   "id": "839ce2f0b0ca4d7e",
   "metadata": {},
   "outputs": [],
   "source": [
    "ns1::my_function();"
   ]
  },
  {
   "cell_type": "markdown",
   "id": "49372b30c27cf16d",
   "metadata": {
    "lang": "de",
    "slideshow": {
     "slide_type": "subslide"
    },
    "tags": [
     "subslide"
    ]
   },
   "source": [
    "\n",
    "## Mehrere Blöcke\n",
    "\n",
    "- Ein Namespace kann in mehreren Blöcken definiert werden"
   ]
  },
  {
   "cell_type": "code",
   "execution_count": null,
   "id": "0b67d5decd775b39",
   "metadata": {
    "tags": [
     "keep"
    ]
   },
   "outputs": [],
   "source": [
    "namespace ns3 {\n",
    "    int my_var{3};\n",
    "}"
   ]
  },
  {
   "cell_type": "code",
   "execution_count": null,
   "id": "ef1720eb6ae51cb7",
   "metadata": {
    "tags": [
     "keep"
    ]
   },
   "outputs": [],
   "source": [
    "namespace ns3 {\n",
    "    void my_function() {\n",
    "        std::cout << \"Hello from ns3!\\n\";\n",
    "        std::cout << \"my_var = \" << my_var << \"\\n\";\n",
    "    }\n",
    "}"
   ]
  },
  {
   "cell_type": "code",
   "execution_count": null,
   "id": "9be9580e56be9aa1",
   "metadata": {
    "tags": [
     "keep"
    ]
   },
   "outputs": [],
   "source": [
    "#include <iostream>"
   ]
  },
  {
   "cell_type": "code",
   "execution_count": null,
   "id": "8594d159d8c3e75b",
   "metadata": {
    "tags": [
     "keep"
    ]
   },
   "outputs": [],
   "source": [
    "std::cout << \"ns3::my_var = \" << ns3::my_var << \"\\n\";"
   ]
  },
  {
   "cell_type": "code",
   "execution_count": null,
   "id": "05fef715b858fcfa",
   "metadata": {},
   "outputs": [],
   "source": [
    "ns3::my_function();"
   ]
  },
  {
   "cell_type": "markdown",
   "id": "e0e14462c1236734",
   "metadata": {
    "lang": "de",
    "slideshow": {
     "slide_type": "slide"
    },
    "tags": [
     "slide"
    ]
   },
   "source": [
    "\n",
    "## Verschachtelte Namespaces\n",
    "\n",
    "- Namespaces können ineinander verschachtelt werden\n",
    "- Zugriff auf Elemente in verschachtelten Namespaces mit mehreren\n",
    "  `::`-Operatoren"
   ]
  },
  {
   "cell_type": "code",
   "execution_count": null,
   "id": "a2c87c35cdacd588",
   "metadata": {
    "tags": [
     "keep"
    ]
   },
   "outputs": [],
   "source": [
    "namespace outer_ns {\n",
    "    namespace inner_ns {\n",
    "        int my_var{42};\n",
    "    }\n",
    "}"
   ]
  },
  {
   "cell_type": "code",
   "execution_count": null,
   "id": "234814e9d1d9e5b3",
   "metadata": {
    "tags": [
     "keep"
    ]
   },
   "outputs": [],
   "source": [
    "#include <iostream>"
   ]
  },
  {
   "cell_type": "code",
   "execution_count": null,
   "id": "1f67998fbcbe315d",
   "metadata": {
    "tags": [
     "keep"
    ]
   },
   "outputs": [],
   "source": [
    "std::cout << \"outer_ns::inner_ns::my_var = \" << outer_ns::inner_ns::my_var << \"\\n\";"
   ]
  },
  {
   "cell_type": "markdown",
   "id": "cc8cfbd04def46db",
   "metadata": {
    "lang": "de",
    "slideshow": {
     "slide_type": "subslide"
    },
    "tags": [
     "subslide"
    ]
   },
   "source": [
    "\n",
    "## Verschachtelte Namespaces (C++17)\n",
    "\n",
    "- Seit C++17 können verschachtelte Namespaces in einer kompakteren Syntax\n",
    "  definiert werden:"
   ]
  },
  {
   "cell_type": "code",
   "execution_count": null,
   "id": "af1fedee58730bac",
   "metadata": {
    "tags": [
     "keep"
    ]
   },
   "outputs": [],
   "source": [
    "#include <iostream>\n",
    "\n",
    "namespace outer_ns_17::inner_ns {\n",
    "    int my_var{17};\n",
    "}"
   ]
  },
  {
   "cell_type": "code",
   "execution_count": null,
   "id": "531c38344f224709",
   "metadata": {
    "tags": [
     "keep"
    ]
   },
   "outputs": [],
   "source": [
    "std::cout << \"outer_ns_17::inner_ns::my_var = \" << outer_ns_17::inner_ns::my_var << \"\\n\";"
   ]
  },
  {
   "cell_type": "markdown",
   "id": "19032c20794bebd6",
   "metadata": {
    "lang": "de",
    "slideshow": {
     "slide_type": "subslide"
    },
    "tags": [
     "subslide"
    ]
   },
   "source": [
    "\n",
    "## Namespace-Aliase\n",
    "\n",
    "- Kürzer/anderer Namen für einen Namespace\n",
    "- Syntax: `namespace new_name = old_name;`"
   ]
  },
  {
   "cell_type": "code",
   "execution_count": null,
   "id": "b1da72b292d0e0dd",
   "metadata": {
    "tags": [
     "keep"
    ]
   },
   "outputs": [],
   "source": [
    "namespace very_long_namespace_name {\n",
    "    int my_var{4};\n",
    "}"
   ]
  },
  {
   "cell_type": "code",
   "execution_count": null,
   "id": "d6439c89cd3e98ab",
   "metadata": {
    "tags": [
     "keep"
    ]
   },
   "outputs": [],
   "source": [
    "namespace short_name = very_long_namespace_name;"
   ]
  },
  {
   "cell_type": "code",
   "execution_count": null,
   "id": "5a33440935375e97",
   "metadata": {
    "tags": [
     "keep"
    ]
   },
   "outputs": [],
   "source": [
    "std::cout << \"short_name::my_var = \" << short_name::my_var << \"\\n\";"
   ]
  },
  {
   "cell_type": "markdown",
   "id": "c7a4e7eac4910249",
   "metadata": {
    "lang": "de",
    "slideshow": {
     "slide_type": "subslide"
    },
    "tags": [
     "subslide"
    ]
   },
   "source": [
    "\n",
    "## Using-Direktive\n",
    "\n",
    "- Importieren aller Symbole eines Namespaces in den aktuellen Scope\n",
    "- Syntax: `using namespace name;`"
   ]
  },
  {
   "cell_type": "code",
   "execution_count": null,
   "id": "8b6bc102ebb91eb5",
   "metadata": {
    "tags": [
     "keep"
    ]
   },
   "outputs": [],
   "source": [
    "#include <iostream>"
   ]
  },
  {
   "cell_type": "code",
   "execution_count": null,
   "id": "d19351987c42c23e",
   "metadata": {
    "tags": [
     "keep"
    ]
   },
   "outputs": [],
   "source": [
    "namespace ns5 {\n",
    "    int my_var{5};\n",
    "    int your_var{55};\n",
    "}"
   ]
  },
  {
   "cell_type": "code",
   "execution_count": null,
   "id": "9cec1e91db18cd4e",
   "metadata": {
    "tags": [
     "keep"
    ]
   },
   "outputs": [],
   "source": [
    "{\n",
    "    using namespace ns5;\n",
    "\n",
    "    std::cout << \"my_var = \" << my_var << \"\\n\";\n",
    "    std::cout << \"your_var = \" << your_var << \"\\n\";\n",
    "}"
   ]
  },
  {
   "cell_type": "markdown",
   "id": "c9cdbd2a0433c9c4",
   "metadata": {
    "lang": "de",
    "slideshow": {
     "slide_type": "subslide"
    },
    "tags": [
     "subslide"
    ]
   },
   "source": [
    "\n",
    "## Using-Deklaration\n",
    "\n",
    "- Importieren einzelner Elemente eines Namespaces in den aktuellen Scope\n",
    "- Syntax: `using name::element;`"
   ]
  },
  {
   "cell_type": "code",
   "execution_count": null,
   "id": "4fc13e3e7fa888b5",
   "metadata": {
    "tags": [
     "keep"
    ]
   },
   "outputs": [],
   "source": [
    "namespace ns6 {\n",
    "    int my_var{6};\n",
    "    int your_var{66};\n",
    "}"
   ]
  },
  {
   "cell_type": "code",
   "execution_count": null,
   "id": "d77c50b7ebc03c83",
   "metadata": {
    "tags": [
     "keep"
    ]
   },
   "outputs": [],
   "source": [
    "{\n",
    "    using ns6::my_var;\n",
    "\n",
    "    std::cout << \"my_var = \" << my_var << \"\\n\";\n",
    "    std::cout << \"your_var = \" << ns6::your_var << \"\\n\";\n",
    "}"
   ]
  },
  {
   "cell_type": "markdown",
   "id": "b087e464b4d21ddf",
   "metadata": {
    "lang": "de",
    "slideshow": {
     "slide_type": "subslide"
    },
    "tags": [
     "subslide"
    ]
   },
   "source": [
    "\n",
    "## Using-Deklaration (C++17)\n",
    "\n",
    "- Seit C++17 können mehrere Elemente eines Namespaces in den aktuellen Scope\n",
    "  importiert werden\n",
    "- Syntax: `using name::element1, name::element2, ...;`"
   ]
  },
  {
   "cell_type": "code",
   "execution_count": null,
   "id": "2e8c33aca6779a4f",
   "metadata": {
    "tags": [
     "keep"
    ]
   },
   "outputs": [],
   "source": [
    "namespace ns7 {\n",
    "    int my_var{7};\n",
    "    int your_var{77};\n",
    "}"
   ]
  },
  {
   "cell_type": "code",
   "execution_count": null,
   "id": "6dcd628b33fea94a",
   "metadata": {
    "tags": [
     "keep"
    ]
   },
   "outputs": [],
   "source": [
    "{\n",
    "    using ns7::my_var, ns7::your_var;\n",
    "\n",
    "    std::cout << \"my_var = \" << my_var << \"\\n\";\n",
    "    std::cout << \"your_var = \" << your_var << \"\\n\";\n",
    "}"
   ]
  },
  {
   "cell_type": "markdown",
   "id": "0dcabc189c9dc72d",
   "metadata": {
    "lang": "de",
    "slideshow": {
     "slide_type": "subslide"
    },
    "tags": [
     "subslide"
    ]
   },
   "source": [
    "\n",
    "## Using und Overload-Resolution\n",
    "\n",
    "- Namen, die mit `using` importiert werden, werden bei der Overload-Resolution\n",
    "  berücksichtigt:"
   ]
  },
  {
   "cell_type": "code",
   "execution_count": null,
   "id": "2ffceb934ff80907",
   "metadata": {
    "tags": [
     "keep"
    ]
   },
   "outputs": [],
   "source": [
    "void foo(bool) { std::cout << \"::foo(bool)\\n\"; }"
   ]
  },
  {
   "cell_type": "code",
   "execution_count": null,
   "id": "89c8d4e916668e6a",
   "metadata": {
    "tags": [
     "keep"
    ]
   },
   "outputs": [],
   "source": [
    "namespace ns8 {\n",
    "    void foo(int) { std::cout << \"ns8::foo(int)\\n\"; }\n",
    "    void foo(double) { std::cout << \"ns8::foo(double)\\n\"; }\n",
    "}"
   ]
  },
  {
   "cell_type": "code",
   "execution_count": null,
   "id": "c1e608e60c426fd2",
   "metadata": {
    "slideshow": {
     "slide_type": "subslide"
    },
    "tags": [
     "keep",
     "subslide"
    ]
   },
   "outputs": [],
   "source": [
    "foo(true);\n",
    "foo(1);\n",
    "foo(1.0);"
   ]
  },
  {
   "cell_type": "code",
   "execution_count": null,
   "id": "7a270db453d68bfd",
   "metadata": {
    "tags": [
     "keep"
    ]
   },
   "outputs": [],
   "source": [
    "{\n",
    "    using ::foo;\n",
    "    using ns8::foo;\n",
    "\n",
    "    foo(true);\n",
    "    foo(1);\n",
    "    foo(1.0);\n",
    "}"
   ]
  },
  {
   "cell_type": "code",
   "execution_count": null,
   "id": "010921465fd8c844",
   "metadata": {
    "slideshow": {
     "slide_type": "subslide"
    },
    "tags": [
     "keep",
     "subslide"
    ]
   },
   "outputs": [],
   "source": [
    "namespace ns8a {\n",
    "    void foo(bool) { std::cout << \"ns8a::foo(bool)\\n\"; }\n",
    "}"
   ]
  },
  {
   "cell_type": "code",
   "execution_count": null,
   "id": "e439c4e0fd34201a",
   "metadata": {
    "tags": [
     "keep"
    ]
   },
   "outputs": [],
   "source": [
    "// {\n",
    "//     using ::foo;\n",
    "//     using ns8a::foo;\n",
    "//     foo(true);\n",
    "// }"
   ]
  },
  {
   "cell_type": "markdown",
   "id": "c9ebfc0dd2866c23",
   "metadata": {
    "lang": "de",
    "slideshow": {
     "slide_type": "subslide"
    },
    "tags": [
     "subslide"
    ]
   },
   "source": [
    "\n",
    "## Anonyme Namespaces\n",
    "\n",
    "- Ein Namespace ohne Namen\n",
    "- Bietet einen eindeutigen Namespace für jede Translation Unit (Source-Datei)\n",
    "- Elemente sind nur innerhalb der gleichen Translation Unit zugreifbar\n",
    "- Sollte nie in Header-Dateien verwendet werden"
   ]
  },
  {
   "cell_type": "code",
   "execution_count": null,
   "id": "42c40258f89f1340",
   "metadata": {
    "tags": [
     "keep"
    ]
   },
   "outputs": [],
   "source": [
    "namespace {\n",
    "    int var_in_anonymous_namespace{8};\n",
    "}"
   ]
  },
  {
   "cell_type": "code",
   "execution_count": null,
   "id": "e04feb422eedb1cd",
   "metadata": {
    "tags": [
     "keep"
    ]
   },
   "outputs": [],
   "source": [
    "var_in_anonymous_namespace"
   ]
  },
  {
   "cell_type": "markdown",
   "id": "e3d2f9e45c0477ab",
   "metadata": {
    "lang": "de",
    "slideshow": {
     "slide_type": "subslide"
    },
    "tags": [
     "subslide"
    ]
   },
   "source": [
    "\n",
    "## Argument-dependent lookup (ADL)\n",
    "\n",
    "- Namen von Funktionen werden auch in den Namensräumen der Argumente gesucht"
   ]
  },
  {
   "cell_type": "code",
   "execution_count": null,
   "id": "7beacf7cfe390476",
   "metadata": {
    "slideshow": {
     "slide_type": "subslide"
    },
    "tags": [
     "keep",
     "subslide"
    ]
   },
   "outputs": [],
   "source": [
    "#include <typeinfo>\n",
    "\n",
    "template <typename T>\n",
    "void fun(T t) {\n",
    "    std::cout << \"fun< \" << typeid(T).name() << \" >(...)\\n\";\n",
    "}\n",
    "\n",
    "template <typename T>\n",
    "void nofun(T t) {\n",
    "    std::cout << \"nofun< \" << typeid(T).name() << \" >(...)\\n\";\n",
    "}"
   ]
  },
  {
   "cell_type": "code",
   "execution_count": null,
   "id": "fe7d1dc509a21f3a",
   "metadata": {
    "slideshow": {
     "slide_type": "subslide"
    },
    "tags": [
     "keep",
     "subslide"
    ]
   },
   "outputs": [],
   "source": [
    "namespace ns10 {\n",
    "    struct MyStruct {\n",
    "        int x;\n",
    "        int y;\n",
    "    };\n",
    "\n",
    "    void fun(const MyStruct& ms) {\n",
    "        std::cout << \"fun(MyStruct{\" << ms.x << \", \" << ms.y << \"})\\n\";\n",
    "    }\n",
    "}"
   ]
  },
  {
   "cell_type": "code",
   "execution_count": null,
   "id": "4d916fd98328ca8e",
   "metadata": {
    "tags": [
     "keep"
    ]
   },
   "outputs": [],
   "source": [
    "ns10::MyStruct ms{10, 20};"
   ]
  },
  {
   "cell_type": "code",
   "execution_count": null,
   "id": "4142d6d761567ffb",
   "metadata": {
    "tags": [
     "keep"
    ]
   },
   "outputs": [],
   "source": [
    "fun(ms);"
   ]
  },
  {
   "cell_type": "code",
   "execution_count": null,
   "id": "7a10cbd4bcb3597d",
   "metadata": {
    "tags": [
     "keep"
    ]
   },
   "outputs": [],
   "source": [
    "ns10::fun(ms);"
   ]
  },
  {
   "cell_type": "code",
   "execution_count": null,
   "id": "98b5879e07491531",
   "metadata": {
    "tags": [
     "keep"
    ]
   },
   "outputs": [],
   "source": [
    "::fun(ms);"
   ]
  },
  {
   "cell_type": "code",
   "execution_count": null,
   "id": "e833da8dc8f0abf7",
   "metadata": {
    "tags": [
     "keep"
    ]
   },
   "outputs": [],
   "source": [
    "nofun(ms);"
   ]
  },
  {
   "cell_type": "markdown",
   "id": "13f3cdc4240f9f0f",
   "metadata": {
    "lang": "de",
    "lines_to_next_cell": 2,
    "slideshow": {
     "slide_type": "subslide"
    },
    "tags": [
     "subslide"
    ]
   },
   "source": [
    "\n",
    "- ADL betrifft nur Namespaces und nicht Klassen\n",
    "  - Obwohl der Scope-Operator auch für statische Member von Klassen verwendet\n",
    "    werden kann"
   ]
  },
  {
   "cell_type": "code",
   "execution_count": null,
   "id": "14847700c77f57c7",
   "metadata": {
    "slideshow": {
     "slide_type": "subslide"
    },
    "tags": [
     "keep",
     "subslide"
    ]
   },
   "outputs": [],
   "source": [
    "struct YourStruct {\n",
    "    int x;\n",
    "    int y;\n",
    "\n",
    "    static void fun(const YourStruct& ys) {\n",
    "        std::cout << \"YourStruct::fun()\\n\";\n",
    "    }\n",
    "};"
   ]
  },
  {
   "cell_type": "code",
   "execution_count": null,
   "id": "bfa0ec572e949b9b",
   "metadata": {
    "tags": [
     "keep"
    ]
   },
   "outputs": [],
   "source": [
    "YourStruct ys{30, 40};"
   ]
  },
  {
   "cell_type": "code",
   "execution_count": null,
   "id": "d0ec6db627d2c4d4",
   "metadata": {
    "tags": [
     "keep"
    ]
   },
   "outputs": [],
   "source": [
    "YourStruct::fun(ys);"
   ]
  },
  {
   "cell_type": "code",
   "execution_count": null,
   "id": "82490cb0b7daf0a3",
   "metadata": {
    "tags": [
     "keep"
    ]
   },
   "outputs": [],
   "source": [
    "fun(ys);"
   ]
  },
  {
   "cell_type": "code",
   "execution_count": null,
   "id": "5b4d80f2fc87010d",
   "metadata": {
    "tags": [
     "keep"
    ]
   },
   "outputs": [],
   "source": [
    "nofun(ys);"
   ]
  }
 ],
 "metadata": {
  "kernelspec": {
   "display_name": "C++17",
   "language": "C++17",
   "name": "xcpp17"
  },
  "language_info": {
   "codemirror_mode": "text/x-c++src",
   "file_extension": ".cpp",
   "mimetype": "text/x-c++src",
   "name": "c++",
   "version": "17"
  }
 },
 "nbformat": 4,
 "nbformat_minor": 5
}
