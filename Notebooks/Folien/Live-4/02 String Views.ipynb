{
 "cells": [
  {
   "cell_type": "markdown",
   "id": "ab0566d13aec0c0d",
   "metadata": {
    "lang": "de",
    "slideshow": {
     "slide_type": "slide"
    },
    "tags": [
     "slide"
    ]
   },
   "source": [
    "\n",
    "<img src=\"data:image/png;base64,iVBORw0KGgoAAAANSUhEUgAAAEAAAABACAYAAACqaXHeAAAABHNCSVQICAgIfAhkiAAAAAlwSFlzAAACkwAAApMBv+Bu1wAAABl0RVh0U29mdHdhcmUAd3d3Lmlua3NjYXBlLm9yZ5vuPBoAAAumSURBVHic1Vt7WFRlGv99ZwYGZoABVGCQS2gqqVikbImauanrqm31aNaz1SYhdtu85LqumTjenloto9ZWS+yiWZZPW7aaaWghXjC8cF0uclHuAwwwA3Ofc779A0HGGZgzZway318z53u/93vP73zn/d73O99L8Ctg6QcF8yjBK5TQSYRCSihKAOw3e/vv+iQpxjiYtpDBHOy5vXljRCzZAWBuHyK1lNB16Usm7AchdDBsGhQCXvx3fpBVjDUAVgLw5tElk+GY5R+8MD5vgE0bWAKUSsrUDs9/mlCyHUCIi905gB6ghFmdnhKnGgj7gAEkYOkHhTMo4dIATHBTVTuAN32Mvmn/WjbK5AHTbOBxApI+KogUW7mtAHnGw6rLALJqz9K4I55U6jECntmXJ/M1YDUlZA0AH0/pdYAMgFuxZ+k9RZ5Q5j4BlJKlHxYsBPA2JYh03yResFBCd1nF3IZPkuLb3VHkFgEpHxYmAFwagER39LiBVoBuag8s3Xlo0SJWiAJBBDy393K42CreQAmWAGCE6PAsaC5AVuxZOiHT1Z4uEbByxznfTj+/ZQDWAfB3dbCBBz1CCZalp9xdxbcHbwKSd+c9zDDkXQAxgmwbPJgpobs5RvL6R8mxHc6EnRKQnJ4bTyiTRige8Ix9g4Z6SrAxoi4uXakkXF9CfRLw8s7iISaJOZVQ8jIAkbvWyKVi3BXuhzvDZAgLlCDIzwsy7y61OjOLTqMV9W0mVDcbUFLfiYZ2j8U8OV3+Ie6co0aHBKR8WDAfoPsBBLozMiHAvTFyPBAbjNhwPxAXPE5tqxHnr7bhdHErTJY+HyBfcAC2D6+Pe+3W2WBn0o2l7Qz4JS19YkKUPxber0CYXOKOGnQarTie34KMghawnHsJIiVEmZ4St7H3NQcE5GcDuE/oIFKJCM9MG46JMXKhKhyiRm3Ex5k1qFUL2y4ws2zxycJyU217+8M4kFLbfd3m3V6yJy+GgGwXaqQiSIK/zx+BkaEyoSr6hFwqRuLoYKg0JjS08fcPlEJ18Vpt3vH8snitwaQASDUKvrvQ3S7uLUwoGSnUwOhhvlgxJwYyH7f9ZZ/wEhEs/X0UvvStx6kitTNxY7Vak32qqDzBwrJTeq5yuLO3kA0BDEfFHON6cBgWKMHyOXcM6M13gxDgicRwdJpY/FLuOA3QGU05R/NKwzR644MOmm2MFDsQcAk+Xgxenh0NPx+3VfEGAbB4egRatGZUNul7rrMsV5lZUtVW0aRO4KvL7Tj+icRwhLrp6YVAzBAkPRgBLzEDULQV1TWe/jjrYnRFk3qiS3rcMWKUQobE0UEu99MZWZSrdGjVWWC2cpD7eiFqqA/Cg1zbRhjq741RIZKi1w6dVRjMVkGRqlsELEgIcymbqmzS47tLKpTU6cBR+zU9VC7BrAlDMXVMEBgnUVNJfac2Jf10+5mShnEumm0DwQSMVsgwIlTKS5bjKL7KbsBPRWr0F8qoNCZ8llWHs6VteH5mFIJlXnYyzVqzZdt/CyveOnolFkCAMOtvQrAPmBobzEuOoxS7M6pxysnN90ZVkx5vHq6AusPcc81o4egXZ6sropZ9wd24eY9A0AwQiwji7+BH/rc5KuRe17o8RrvOgvdPXMfaR0biYlWb6s87T4mvNWsFxyl9QRABI0KkkIidT57GdhNOFLQIGQIAUNmkK/rd+iPi3OvNYwQrcQJhBPB894/lNoMTkMBQioaL12orc6/XJ4I69rNiEYNRYV2zsLjOPiDy8RIhJsQfFiuHclXfM1AQAQoe6z7LUeRVuzz19TXq9pyTRRWTbMJXBwgJ8MH/ti8AADBP7cWti8r4yCDkbHkEje0GKF76vE89gggIdOCdb0WjxgS9ifdGLdUYjdnHckujOgym6f0JMoTAz0cMP5+bNvjf+N1htEDEMJB6iyCTdN0aIUCAb1e71mCx0yeIAImX8/e/XWc/mCNYWbY4o7DcUtOqmcxHfmLMUPyy5U821zR7/wIAiPzrQUyMGYpvV83saQuV+/a0i576yC7+GLAAnjgJkSioKq/katnFopIh1C8I8B78cBoQSACfLSq5rE/VlvrmlvM/Zl2IN1st0wAAGjUgEuVAPiQcIvHw/vReqmqBPHkfwgKlKH17YddYyfsAdL0CjRoD5Mn7EH/HEPy8fh5UGgNGv3oIABxGn4IIaOMxvRWBEsh8RNAZb/oBnd6Q8/3pc6Ht2g77uJ1lE9DapIe3JBMBwZNAiMNdFY5SaA0W+PnctKHDaOlxglaWg9bAQWeyAgAodfzud0MQAY08dmwZQjAhKgDny9rAclzl6ZzLreXXa52lqVKYTdOhbmyA1D8XUr9E9LFx26Q1YuzqrwHAbgUAgMKaNoxd/TUs1v5nqyACKnrl4P1hXnwI+8nxy+fOXMyfzFE6gvcAlCqg0yqg7yhSREeIG3SsXSBkZTmH6383jBa23/ZuCMoFqpr0vPxASIC3aMqdftM4SgURfXdMyLiKnU+P+eqlKaqwAInTPTAhEESAlaW4co1fkLMlaQYem+J67hIxLACHNz0BX4kYj0+NDS3d8Xjw1kfHVXiJGY+eEhGcDWaVtvIbgBAcSl2IlQvu4/1hZPLYCJx/NwnRoTe31gOkEvLaovtHFv/zUebJiYoSITY7tE9ox6sNOpSr+PkCEUOw44XZyH4vGXMSRkIscjzs2OhhSH91PrLeWYyIYY6zzZGKIK8vVs2NzVw7Szte4Vct1P5u2DyT53fnzeEYcoxnXxoVJCpct+CuOOLKNy8ArR0GnCuqRXWTBnqTBYpgP0wcrUBs5FCX9FisHJLeOVp04FKjAgzDb4OCYhcOLnmp+68g52SxsEU/nsumdarmOIVsPpL/GO9S/2B/X8y/f5SQoW1Q2dCG/2QWjoOJbYNUehoyeSJcvCeXhDlKGy8VFlfklpT1pKkrdp3AlPGRLj89d2GysHh222EYugKeIOh1D0BvqESAvBUS30l89fD1AYaahsbMfd8c9c8tLpvSO0fvNJjxSOpXaNbw8weeAKXA4u2HcaGk7pYWbgS0bZPQqsoBa6nho8uGAI4h1lvH6ujszDp4NEP9Q1b2dIvV6jA8LatVY87az9EyCCRwlGLZ+z/g4E/9nJJj2QS0NodCqz4PSnW3tvb+Y0MAJbSi+7eFtZb8kHU+/+D3GdM6dJ0Rzgy7fLUB01Z+ior6Nl43IgQGkxWLNn+NnYdz+Ih7w2SajJYGHXTabODGniyD8t5Cdu47afeVo4VlFZKL+cUPUlCXP/bJZRLsXj4PT85wa7veDpevNmDx9u9QUNUkTAFhShAQaAbjPxeHnu15d+zXr1lbJoFyZ+HmAYk5CSPx9vOzMDZ6mDtq0KzRY9uX5/DuNxecJjZOQbABP6Zusr3kCDM3zgPIZ3DziAxDCB6bGouUufGYee8IiFz48nylvBGfnshD+rEr0Bn57S71Aw7ANkzl1kGp7P+ITA/+oAwGx2wAhUcOSYUEyvBQfAymxUUhNnIIokLkCPL3ASEErVoDWrR6FFY14dLVBpy8cg1ltR7LfXJAsRwnU887anT+SGYp7wFl0gD0u1l5G6IewFpkrN8P9F19wn9Ozt74MLjfxEFJA0Dfg8FnK86ucf+gpA0eV3qjXfQiKN2M2/KoLI6AIctwYr3nj8raYJYyHJTZANwuh6VxBQyzAideP+1qR/fqBR7alACGpoGSX+u4vBqEbEbgmJ04NIjH5W1BCWZtWghK3gIQ5b4+XrCAYBeodyoy/qFxR5HnaoZmb5eB068GBqFkhsUK/JR6m5TM3IrZWyLB0a0A9XzRFCWrcHL97Vk0ZYeHNs4AYdIA6n7ZHCFvQixPw7Flt3/ZnA2USgZnmKcBCCycJAfAsH/DCaXADMg5Bqd2eN4bQTCZ1wCEb+nszxBhBY6n/rZLZ+0wY/MYiGjfxdMEtaBY5yx89SQGl4BudGWbrwCYBEAKkGIAn8HK7sLPykEtn/8/zE19fO7n0IAAAAAASUVORK5CYII=\"\n",
    "     style=\"display:block;margin:auto;width:5%\"/>\n",
    "<br>\n",
    "\n",
    "<div style=\"text-align:center; font-size:200%;\">\n",
    " <b>String Views</b>\n",
    "</div>\n",
    "<br/>\n",
    "<div style=\"text-align:center; font-size:120%;\">Dr. Matthias Hölzl</div>\n",
    "<br/>\n",
    "<div style=\"text-align:center;\">Coding-Akademie München</div>\n",
    "<br/>\n",
    "<!-- 02 String Views.ipynb -->\n",
    "<!-- slides/module_190_standard_library/topic_130_string_views.cpp -->"
   ]
  },
  {
   "cell_type": "markdown",
   "id": "5f709f4284502f90",
   "metadata": {
    "lang": "de",
    "slideshow": {
     "slide_type": "slide"
    },
    "tags": [
     "slide"
    ]
   },
   "source": [
    "\n",
    "- Zwei String-Typen:\n",
    "  - `std::string`\n",
    "  - `char*`, `char[]`\n",
    "- Probleme:\n",
    "  - Literale typischerweise `const char*`\n",
    "  - Wie sollen Strings an Funktionen übergeben werden?\n",
    "    - `std::string` als Wert?\n",
    "    - `std::string` als Referenz?\n",
    "    - `const char*`?"
   ]
  },
  {
   "cell_type": "markdown",
   "id": "c50efe5d52751aa3",
   "metadata": {
    "lang": "de",
    "slideshow": {
     "slide_type": "slide"
    },
    "tags": [
     "slide"
    ]
   },
   "source": [
    "\n",
    "## String Views\n",
    "\n",
    "- `std::string_view` ist ein Paar aus `const char*` und `size_t`\n",
    "- Kann (relativ) effizient für C-style strings und `std::string` verwendet\n",
    "  werden\n",
    "- Kann nicht modifiziert werden\n",
    "- Hat kein Eigentum an den Daten\n",
    "- Kann als Parameter für Funktionen verwendet werden\n",
    "  - `std::string_view` als Wert\n",
    "- Soll typischerweise **nicht** als Rückgabetyp verwendet werden"
   ]
  },
  {
   "cell_type": "code",
   "execution_count": null,
   "id": "c63b701396b11ab2",
   "metadata": {
    "slideshow": {
     "slide_type": "subslide"
    },
    "tags": [
     "keep",
     "subslide"
    ]
   },
   "outputs": [],
   "source": [
    "#include <string>\n",
    "#include <string_view>"
   ]
  },
  {
   "cell_type": "code",
   "execution_count": null,
   "id": "db7e16491d3327d6",
   "metadata": {
    "tags": [
     "keep"
    ]
   },
   "outputs": [],
   "source": [
    "std::string concat(std::string_view sv1, std::string_view sv2)\n",
    "{\n",
    "    std::string result{sv1};\n",
    "    result += sv2;\n",
    "    return result;\n",
    "}"
   ]
  },
  {
   "cell_type": "code",
   "execution_count": null,
   "id": "8916e1e44924892a",
   "metadata": {
    "slideshow": {
     "slide_type": "subslide"
    },
    "tags": [
     "keep",
     "subslide"
    ]
   },
   "outputs": [],
   "source": [
    "using namespace std::literals;\n",
    "\n",
    "std::string hello{\"Hello, World!\"};\n",
    "const char* world{\"Hello, World!\"};"
   ]
  },
  {
   "cell_type": "code",
   "execution_count": null,
   "id": "20e562085b0f4bbb",
   "metadata": {
    "tags": [
     "keep"
    ]
   },
   "outputs": [],
   "source": [
    "concat(\"Hello, \", \"World!\"s)"
   ]
  },
  {
   "cell_type": "code",
   "execution_count": null,
   "id": "2ac60af7bae00c8c",
   "metadata": {
    "tags": [
     "keep"
    ]
   },
   "outputs": [],
   "source": [
    "    concat({&hello[0], 7}, world + 7)"
   ]
  },
  {
   "cell_type": "code",
   "execution_count": null,
   "id": "0a8df338035d7a54",
   "metadata": {
    "tags": [
     "keep"
    ]
   },
   "outputs": [],
   "source": [
    "    concat({world, 7}, hello.substr(7))"
   ]
  },
  {
   "cell_type": "code",
   "execution_count": null,
   "id": "69b297508e75182c",
   "metadata": {
    "tags": [
     "keep"
    ]
   },
   "outputs": [],
   "source": [
    "    concat(\"Hello, \"sv, {world + 7, 6})"
   ]
  },
  {
   "cell_type": "markdown",
   "id": "565387007637fcc6",
   "metadata": {
    "lang": "de",
    "slideshow": {
     "slide_type": "subslide"
    },
    "tags": [
     "subslide"
    ]
   },
   "source": [
    "\n",
    "### Vorteile gegenüber anderen Parameter-Typen\n",
    "\n",
    "- Kann verschiedene Typen von Strings akzeptieren\n",
    "- Übergeben von Substrings ist leicht möglich\n",
    "- Muss für C-style Strings nicht kopieren\n",
    "- Kann mit range-based `for`-Schleifen verwendet werden"
   ]
  },
  {
   "cell_type": "markdown",
   "id": "c6e701a6e8316076",
   "metadata": {
    "lang": "de",
    "slideshow": {
     "slide_type": "subslide"
    },
    "tags": [
     "subslide"
    ]
   },
   "source": [
    "\n",
    "### Fallstricke\n",
    "\n",
    "- Kein Eigentum an den Daten\n",
    "- Daher ist es wichtig, dass die Daten während der Lebenszeit des\n",
    "  `std::string_view` gültig bleiben"
   ]
  },
  {
   "cell_type": "markdown",
   "id": "1ba225a9044a2449",
   "metadata": {
    "lang": "de",
    "slideshow": {
     "slide_type": "subslide"
    },
    "tags": [
     "subslide"
    ]
   },
   "source": [
    "\n",
    "## Mini-Workshop: String Views\n",
    "\n",
    "Schreiben Sie eine Funktion `to_lower()`, die eine String-View als Argument\n",
    "akzeptiert und einen `std::string` zurückgibt, der die Zeichen des String in\n",
    "Kleinbuchstaben enthält."
   ]
  },
  {
   "cell_type": "code",
   "execution_count": null,
   "id": "0a773b99b39197de",
   "metadata": {},
   "outputs": [],
   "source": [
    "#include <string_view>"
   ]
  },
  {
   "cell_type": "code",
   "execution_count": null,
   "id": "898b5a3a2cf967d0",
   "metadata": {},
   "outputs": [],
   "source": [
    "#include <algorithm>\n",
    "#include <string>"
   ]
  },
  {
   "cell_type": "code",
   "execution_count": null,
   "id": "8241747bedba539f",
   "metadata": {},
   "outputs": [],
   "source": [
    "std::string to_lower(std::string_view sv)\n",
    "{\n",
    "    std::string result;\n",
    "    result.reserve(sv.size());\n",
    "    for (char c : sv) {\n",
    "        result.push_back(std::tolower(c));\n",
    "    }\n",
    "    return result;\n",
    "}"
   ]
  },
  {
   "cell_type": "code",
   "execution_count": null,
   "id": "98f8418bf89d09a2",
   "metadata": {},
   "outputs": [],
   "source": [
    "to_lower(\"Hello, World!\"sv)"
   ]
  },
  {
   "cell_type": "code",
   "execution_count": null,
   "id": "9571451eb3d83f50",
   "metadata": {},
   "outputs": [],
   "source": [
    "std::string to_lower_2(std::string_view sv)\n",
    "{\n",
    "    std::string result{};\n",
    "    result.reserve(sv.size());\n",
    "    std::transform(\n",
    "        sv.begin(), sv.end(), std::back_inserter(result),\n",
    "        [](unsigned char c) { return std::tolower(c); });\n",
    "    return result;\n",
    "}"
   ]
  },
  {
   "cell_type": "code",
   "execution_count": null,
   "id": "a0878c5c0330d97d",
   "metadata": {},
   "outputs": [],
   "source": [
    "to_lower_2(\"Hello, World!\"sv)"
   ]
  },
  {
   "cell_type": "markdown",
   "id": "d8ce892bfea8bbab",
   "metadata": {
    "lang": "de",
    "lines_to_next_cell": 2,
    "slideshow": {
     "slide_type": "subslide"
    },
    "tags": [
     "subslide"
    ]
   },
   "source": [
    "\n",
    "### Bonus-Aufgabe\n",
    "\n",
    "Schreiben Sie eine Funktion `rot13()`, die eine String-View als Argument\n",
    "akzeptiert und einen `std::string` zurückgibt, der die Zeichen des String\n",
    "nach ROT13 verschlüsselt enthält.\n",
    "\n",
    "- Konvertieren Sie nur Buchstaben, andere Zeichen sollen unverändert bleiben\n",
    "- ROT13 ersetzt jeden Buchstaben durch den 13. Buchstaben nach ihm im\n",
    "  Alphabet\n",
    "  - `A` wird zu `N`, `B` zu `O`, `C` zu `P`, usw.\n",
    "  - `N` wird zu `A`, `O` zu `B`, `P` zu `C`, usw.\n",
    "  - [Wikipedia Eintrag](https://de.wikipedia.org/wiki/ROT13)\n",
    "\n",
    "Testen Sie die Funktion, indem Sie den folgenden Text zweimal verschlüsseln:\n",
    "\n",
    "```\n",
    "The \"Magic Words\" are Squeamish Ossifrage!?!\n",
    "```"
   ]
  },
  {
   "cell_type": "code",
   "execution_count": null,
   "id": "7119c2beb8e95fd3",
   "metadata": {
    "slideshow": {
     "slide_type": "subslide"
    },
    "tags": [
     "subslide"
    ]
   },
   "outputs": [],
   "source": [
    "#include <algorithm>\n",
    "#include <string>\n",
    "#include <iostream>"
   ]
  },
  {
   "cell_type": "code",
   "execution_count": null,
   "id": "2f294db846119706",
   "metadata": {},
   "outputs": [],
   "source": [
    "std::string rot13(std::string_view sv)\n",
    "{\n",
    "    std::string result;\n",
    "    result.reserve(sv.size());\n",
    "    for (char c : sv) {\n",
    "        if (c >= 'A' && c <= 'Z') {\n",
    "            result.push_back('A' + (c - 'A' + 13) % 26);\n",
    "        } else if (c >= 'a' && c <= 'z') {\n",
    "            result.push_back('a' + (c - 'a' + 13) % 26);\n",
    "        } else {\n",
    "            result.push_back(c);\n",
    "        }\n",
    "    }\n",
    "    return result;\n",
    "}"
   ]
  },
  {
   "cell_type": "code",
   "execution_count": null,
   "id": "1e424bf326a152e1",
   "metadata": {},
   "outputs": [],
   "source": [
    "std::string encrypted{rot13(\"The \\\"Magic Words\\\" are Squeamish Ossifrage!?!\"sv)};\n",
    "std::cout << encrypted;"
   ]
  },
  {
   "cell_type": "code",
   "execution_count": null,
   "id": "2fbe96c1687ca777",
   "metadata": {},
   "outputs": [],
   "source": [
    "std::cout << rot13(encrypted);"
   ]
  },
  {
   "cell_type": "code",
   "execution_count": null,
   "id": "6b4e03423667dbb7",
   "metadata": {},
   "outputs": [],
   "source": []
  }
 ],
 "metadata": {
  "kernelspec": {
   "display_name": "C++17",
   "language": "C++17",
   "name": "xcpp17"
  },
  "language_info": {
   "codemirror_mode": "text/x-c++src",
   "file_extension": ".cpp",
   "mimetype": "text/x-c++src",
   "name": "c++",
   "version": "17"
  }
 },
 "nbformat": 4,
 "nbformat_minor": 5
}
