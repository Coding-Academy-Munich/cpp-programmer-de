{
 "cells": [
  {
   "cell_type": "markdown",
   "id": "74fffb73044d60ec",
   "metadata": {
    "lang": "de",
    "slideshow": {
     "slide_type": "slide"
    },
    "tags": [
     "slide"
    ]
   },
   "source": [
    "\n",
    "<img src=\"data:image/png;base64,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\"\n",
    "     style=\"display:block;margin:auto;width:5%\"/>\n",
    "<br>\n",
    "\n",
    "<div style=\"text-align:center; font-size:200%;\">\n",
    " <b>Klassen-Templates</b>\n",
    "</div>\n",
    "<br/>\n",
    "<div style=\"text-align:center; font-size:120%;\">Dr. Matthias Hölzl</div>\n",
    "<br/>\n",
    "<div style=\"text-align:center;\">Coding-Akademie München</div>\n",
    "<br/>\n",
    "<!-- 01 Klassen-Templates.ipynb -->\n",
    "<!-- slides/module_400_templates/topic_130_class_templates.cpp -->"
   ]
  },
  {
   "cell_type": "markdown",
   "id": "7eca93acf00a0a78",
   "metadata": {
    "lang": "de",
    "slideshow": {
     "slide_type": "subslide"
    },
    "tags": [
     "subslide"
    ]
   },
   "source": [
    "\n",
    "- Templates erlauben es, Klassen zu definieren, die von einem Typ abhängen\n",
    "- Beispiel: `std::vector<T>`\n",
    "  - `T` ist der Typ der Elemente im Vektor\n",
    "  - `std::vector<int>` ist ein Vektor von `int`s\n",
    "- Für jeden Typ, den wir für `T` einsetzen, wird eine neue Vektor-Klasse\n",
    "  erzeugt\n",
    "- Wir können solche Klassen selbst definieren\n",
    "- Dazu verwenden wir das Schlüsselwort `template`, gefolgt von einer\n",
    "  Template-Parameter-Liste"
   ]
  },
  {
   "cell_type": "code",
   "execution_count": null,
   "id": "907a6814891ebb0b",
   "metadata": {
    "slideshow": {
     "slide_type": "subslide"
    },
    "tags": [
     "subslide"
    ]
   },
   "outputs": [],
   "source": [
    "template <typename T>\n",
    "struct BufferV1\n",
    "{\n",
    "    T data[10];\n",
    "\n",
    "    T& operator[](int index) { return data[index]; }\n",
    "\n",
    "    void add(T value)\n",
    "    {\n",
    "        for (T& v : data) {\n",
    "            v += value;\n",
    "        }\n",
    "    }\n",
    "};"
   ]
  },
  {
   "cell_type": "markdown",
   "id": "e87f7d57739fdcf7",
   "metadata": {
    "lang": "de",
    "slideshow": {
     "slide_type": "subslide"
    },
    "tags": [
     "subslide"
    ]
   },
   "source": [
    "\n",
    "## Template-Parameter\n",
    "\n",
    "- `T` ist ein Template-Parameter (genauer: Typ-Template-Parameter)\n",
    "- `T` kann in der Klasse wie ein Typ verwendet werden\n",
    "- Beim Instanziieren der Klasse wird `T` durch einen konkreten Typ ersetzt"
   ]
  },
  {
   "cell_type": "code",
   "execution_count": null,
   "id": "c0cd558ebecc7583",
   "metadata": {
    "slideshow": {
     "slide_type": "subslide"
    },
    "tags": [
     "subslide"
    ]
   },
   "outputs": [],
   "source": [
    "BufferV1<int> ib;"
   ]
  },
  {
   "cell_type": "code",
   "execution_count": null,
   "id": "b2cc300c240f7bcf",
   "metadata": {},
   "outputs": [],
   "source": [
    "ib[0] = 42;"
   ]
  },
  {
   "cell_type": "code",
   "execution_count": null,
   "id": "9c7d6b8ff62361f4",
   "metadata": {},
   "outputs": [],
   "source": [
    "ib[0]"
   ]
  },
  {
   "cell_type": "code",
   "execution_count": null,
   "id": "daeae1203594229f",
   "metadata": {},
   "outputs": [],
   "source": [
    "ib.add(1);"
   ]
  },
  {
   "cell_type": "code",
   "execution_count": null,
   "id": "58dadb6bc8884b30",
   "metadata": {},
   "outputs": [],
   "source": [
    "ib[0]"
   ]
  },
  {
   "cell_type": "code",
   "execution_count": null,
   "id": "8d54049343a90832",
   "metadata": {
    "slideshow": {
     "slide_type": "subslide"
    },
    "tags": [
     "subslide",
     "keep"
    ]
   },
   "outputs": [],
   "source": [
    "BufferV1<std::string> sb;"
   ]
  },
  {
   "cell_type": "code",
   "execution_count": null,
   "id": "9a01a21eebc92dda",
   "metadata": {
    "tags": [
     "keep"
    ]
   },
   "outputs": [],
   "source": [
    "sb[0] = \"Hello\";"
   ]
  },
  {
   "cell_type": "code",
   "execution_count": null,
   "id": "2f5fb3f32361ec1f",
   "metadata": {
    "tags": [
     "keep"
    ]
   },
   "outputs": [],
   "source": [
    "sb[0]"
   ]
  },
  {
   "cell_type": "code",
   "execution_count": null,
   "id": "e563a00129a25afd",
   "metadata": {
    "tags": [
     "keep"
    ]
   },
   "outputs": [],
   "source": [
    "sb.add(\" World\");"
   ]
  },
  {
   "cell_type": "code",
   "execution_count": null,
   "id": "9e5a89f6f8101bac",
   "metadata": {
    "tags": [
     "keep"
    ]
   },
   "outputs": [],
   "source": [
    "sb[0]"
   ]
  },
  {
   "cell_type": "markdown",
   "id": "f332b7ba81e34bd0",
   "metadata": {
    "lang": "de",
    "slideshow": {
     "slide_type": "subslide"
    },
    "tags": [
     "subslide"
    ]
   },
   "source": [
    "\n",
    "- Das Instanziieren einer Template-Klasse funktioniert nur, wenn die aufgerufenen\n",
    "  Methoden für den konkreten Typ `T` definiert sind:"
   ]
  },
  {
   "cell_type": "code",
   "execution_count": null,
   "id": "42991d571ff878d8",
   "metadata": {
    "slideshow": {
     "slide_type": "subslide"
    },
    "tags": [
     "keep",
     "subslide"
    ]
   },
   "outputs": [],
   "source": [
    "#include <vector>"
   ]
  },
  {
   "cell_type": "code",
   "execution_count": null,
   "id": "7410f47dbdae6910",
   "metadata": {
    "tags": [
     "keep"
    ]
   },
   "outputs": [],
   "source": [
    "BufferV1<std::vector<int>> bvi;"
   ]
  },
  {
   "cell_type": "code",
   "execution_count": null,
   "id": "cd5e58d4e078f1f4",
   "metadata": {
    "tags": [
     "keep"
    ]
   },
   "outputs": [],
   "source": [
    "bvi[0] = {1, 2, 3};"
   ]
  },
  {
   "cell_type": "code",
   "execution_count": null,
   "id": "feb8331887b00489",
   "metadata": {
    "tags": [
     "keep"
    ]
   },
   "outputs": [],
   "source": [
    "bvi[0]"
   ]
  },
  {
   "cell_type": "code",
   "execution_count": null,
   "id": "902e04c267ded0ad",
   "metadata": {},
   "outputs": [],
   "source": [
    "// bvi.add({4, 5, 6});"
   ]
  },
  {
   "cell_type": "markdown",
   "id": "9c29ef7a1d96dda1",
   "metadata": {
    "lang": "de",
    "lines_to_next_cell": 2,
    "slideshow": {
     "slide_type": "subslide"
    },
    "tags": [
     "subslide"
    ]
   },
   "source": [
    "\n",
    "## Template-Spezialisierung\n",
    "\n",
    "- Wir können eine Template-Klasse für bestimmte Typen spezialisieren"
   ]
  },
  {
   "cell_type": "code",
   "execution_count": null,
   "id": "acbbcc1fa178fc4d",
   "metadata": {
    "slideshow": {
     "slide_type": "subslide"
    },
    "tags": [
     "subslide",
     "keep"
    ]
   },
   "outputs": [],
   "source": [
    "template <typename T>\n",
    "struct BufferV2\n",
    "{\n",
    "    T data[10];\n",
    "\n",
    "    T& operator[](std::size_t index) { return data[index]; }\n",
    "\n",
    "    void add(T value)\n",
    "    {\n",
    "        for (T& v : data) {\n",
    "            v += value;\n",
    "        }\n",
    "    }\n",
    "};"
   ]
  },
  {
   "cell_type": "code",
   "execution_count": null,
   "id": "f7d12ffb6cd1f5eb",
   "metadata": {
    "lines_to_next_cell": 2,
    "slideshow": {
     "slide_type": "subslide"
    },
    "tags": [
     "subslide"
    ]
   },
   "outputs": [],
   "source": [
    "template <>\n",
    "struct BufferV2<std::vector<int>>\n",
    "{\n",
    "    std::vector<int> data[10];\n",
    "\n",
    "    std::vector<int>& operator[](std::size_t index) { return data[index]; }\n",
    "\n",
    "    void add(std::vector<int> value)\n",
    "    {\n",
    "        for (std::vector<int>& v : data) {\n",
    "            v.insert(v.end(), value.begin(), value.end());\n",
    "        }\n",
    "    }\n",
    "\n",
    "};"
   ]
  },
  {
   "cell_type": "code",
   "execution_count": null,
   "id": "52a16177a1a2ee71",
   "metadata": {
    "slideshow": {
     "slide_type": "subslide"
    },
    "tags": [
     "subslide",
     "keep"
    ]
   },
   "outputs": [],
   "source": [
    "BufferV2<std::vector<int>> bvi2;"
   ]
  },
  {
   "cell_type": "code",
   "execution_count": null,
   "id": "9df202ef4d0b087d",
   "metadata": {
    "tags": [
     "keep"
    ]
   },
   "outputs": [],
   "source": [
    "bvi2[0] = {1, 2, 3};"
   ]
  },
  {
   "cell_type": "code",
   "execution_count": null,
   "id": "948fa716a1b5821e",
   "metadata": {
    "tags": [
     "keep"
    ]
   },
   "outputs": [],
   "source": [
    "bvi2[0]"
   ]
  },
  {
   "cell_type": "code",
   "execution_count": null,
   "id": "cbbf33f0fa1e4f96",
   "metadata": {
    "tags": [
     "keep"
    ]
   },
   "outputs": [],
   "source": [
    "bvi2.add({4, 5, 6});"
   ]
  },
  {
   "cell_type": "code",
   "execution_count": null,
   "id": "83ab63a1ec04d2c1",
   "metadata": {
    "tags": [
     "keep"
    ]
   },
   "outputs": [],
   "source": [
    "bvi2[0]"
   ]
  },
  {
   "cell_type": "code",
   "execution_count": null,
   "id": "b7aa1b4ffb70ec50",
   "metadata": {
    "lines_to_next_cell": 2,
    "tags": [
     "keep"
    ]
   },
   "outputs": [],
   "source": [
    "bvi2[1]"
   ]
  },
  {
   "cell_type": "markdown",
   "id": "c4ae172c3216142f",
   "metadata": {
    "lang": "de",
    "slideshow": {
     "slide_type": "subslide"
    },
    "tags": [
     "subslide"
    ]
   },
   "source": [
    "\n",
    "## Partielle Spezialisierung\n",
    "\n",
    "- Wir haben `BufferV2` für `std::vector<int>` spezialisiert\n",
    "- Oft wäre es besser, wenn wir die Spezialisierung für `std::vector<T>`\n",
    "  durchführen könnten\n",
    "- Das ist mit partieller Spezialisierung möglich:"
   ]
  },
  {
   "cell_type": "code",
   "execution_count": null,
   "id": "04a0215358f2889c",
   "metadata": {
    "lines_to_next_cell": 2,
    "slideshow": {
     "slide_type": "subslide"
    },
    "tags": [
     "subslide",
     "keep"
    ]
   },
   "outputs": [],
   "source": [
    "template <typename T>\n",
    "struct BufferV3\n",
    "{\n",
    "    T data[10];\n",
    "\n",
    "    T& operator[](std::size_t index) { return data[index]; }\n",
    "\n",
    "    void add(T value)\n",
    "    {\n",
    "        for (T& v : data) {\n",
    "            v += value;\n",
    "        }\n",
    "    }\n",
    "};"
   ]
  },
  {
   "cell_type": "code",
   "execution_count": null,
   "id": "9d0985707caee8fe",
   "metadata": {
    "slideshow": {
     "slide_type": "subslide"
    },
    "tags": [
     "subslide",
     "alt"
    ]
   },
   "outputs": [],
   "source": [
    "template <typename T>\n",
    "struct BufferV3<std::vector<T>>\n",
    "{\n",
    "    std::vector<T> data[10];\n",
    "\n",
    "    std::vector<T>& operator[](std::size_t index) { return data[index]; }\n",
    "\n",
    "    void add(std::vector<T> value)\n",
    "    {\n",
    "        for (std::vector<T>& v : data) {\n",
    "            v.insert(v.end(), value.begin(), value.end());\n",
    "        }\n",
    "    }\n",
    "\n",
    "};"
   ]
  },
  {
   "cell_type": "code",
   "execution_count": null,
   "id": "dbeb067a86197220",
   "metadata": {
    "slideshow": {
     "slide_type": "subslide"
    },
    "tags": [
     "subslide",
     "keep"
    ]
   },
   "outputs": [],
   "source": [
    "BufferV3<std::vector<std::string>> bvs;"
   ]
  },
  {
   "cell_type": "code",
   "execution_count": null,
   "id": "a33c123cfa524c4d",
   "metadata": {
    "tags": [
     "keep"
    ]
   },
   "outputs": [],
   "source": [
    "bvs[0] = {\"a\", \"b\", \"c\"};"
   ]
  },
  {
   "cell_type": "code",
   "execution_count": null,
   "id": "4c837cfea771d72a",
   "metadata": {
    "tags": [
     "keep"
    ]
   },
   "outputs": [],
   "source": [
    "bvs[0]"
   ]
  },
  {
   "cell_type": "code",
   "execution_count": null,
   "id": "c27a2f118e11a48a",
   "metadata": {
    "tags": [
     "keep"
    ]
   },
   "outputs": [],
   "source": [
    "bvs.add({\"d\", \"e\", \"f\"});"
   ]
  },
  {
   "cell_type": "code",
   "execution_count": null,
   "id": "7225c8bbfbc21cf7",
   "metadata": {
    "tags": [
     "keep"
    ]
   },
   "outputs": [],
   "source": [
    "bvs[0]"
   ]
  },
  {
   "cell_type": "code",
   "execution_count": null,
   "id": "ae68364e5574c2d6",
   "metadata": {
    "tags": [
     "keep"
    ]
   },
   "outputs": [],
   "source": [
    "bvs[1]"
   ]
  },
  {
   "cell_type": "markdown",
   "id": "3a5d82df803174a5",
   "metadata": {
    "lang": "de",
    "slideshow": {
     "slide_type": "subslide"
    },
    "tags": [
     "subslide"
    ]
   },
   "source": [
    "\n",
    "- Template-Parameter können auch Werte sein\n",
    "- Sie können dann wie Konstanten verwendet werden\n",
    "- Beispiel: `std::array<T, N>`\n",
    "  - `T` ist der Typ der Elemente im Array\n",
    "  - `N` ist die Anzahl der Elemente im Array\n",
    "- Für jeden Typ, den wir für `T` und jede Zahl, die wir für `N` einsetzen,\n",
    "  wird eine neue Array-Klasse erzeugt"
   ]
  },
  {
   "cell_type": "code",
   "execution_count": null,
   "id": "0af1fe3393aa6af3",
   "metadata": {
    "slideshow": {
     "slide_type": "subslide"
    },
    "tags": [
     "subslide",
     "alt"
    ]
   },
   "outputs": [],
   "source": [
    "template <typename T, int N>\n",
    "struct BufferV4\n",
    "{\n",
    "    T data[N];\n",
    "\n",
    "    T& operator[](std::size_t index) { return data[index]; }\n",
    "\n",
    "    void add(T value)\n",
    "    {\n",
    "        for (T& v : data) {\n",
    "            v += value;\n",
    "        }\n",
    "    }\n",
    "\n",
    "    int size() const { return N; }\n",
    "};"
   ]
  },
  {
   "cell_type": "code",
   "execution_count": null,
   "id": "c844d5d84b4ea49e",
   "metadata": {
    "slideshow": {
     "slide_type": "subslide"
    },
    "tags": [
     "subslide"
    ]
   },
   "outputs": [],
   "source": [
    "BufferV4<int, 10> ib4;"
   ]
  },
  {
   "cell_type": "code",
   "execution_count": null,
   "id": "1aba1c361b0723e5",
   "metadata": {},
   "outputs": [],
   "source": [
    "ib4.size()"
   ]
  },
  {
   "cell_type": "code",
   "execution_count": null,
   "id": "fe743f58c5f71b6a",
   "metadata": {},
   "outputs": [],
   "source": [
    "BufferV4<int, 20> ib5;"
   ]
  },
  {
   "cell_type": "code",
   "execution_count": null,
   "id": "b513335bdc052601",
   "metadata": {},
   "outputs": [],
   "source": [
    "ib5.size()"
   ]
  },
  {
   "cell_type": "markdown",
   "id": "2914715aa5e1b08c",
   "metadata": {
    "lang": "de",
    "slideshow": {
     "slide_type": "subslide"
    },
    "tags": [
     "subslide"
    ]
   },
   "source": [
    "\n",
    "- Wir können die Werte von Template-Parametern auch berechnen\n",
    "- Die Berechnung muss zur Compile-Zeit erfolgen\n",
    "- Dazu verwenden wir `constexpr`-Funktionen"
   ]
  },
  {
   "cell_type": "code",
   "execution_count": null,
   "id": "e1bc27dc573055e9",
   "metadata": {
    "slideshow": {
     "slide_type": "subslide"
    },
    "tags": [
     "subslide",
     "alt"
    ]
   },
   "outputs": [],
   "source": [
    "constexpr int square(int x)\n",
    "{\n",
    "    return x * x;\n",
    "}"
   ]
  },
  {
   "cell_type": "code",
   "execution_count": null,
   "id": "5f4f70b546d4081f",
   "metadata": {},
   "outputs": [],
   "source": [
    "BufferV4<int, square(10)> ib6;"
   ]
  },
  {
   "cell_type": "code",
   "execution_count": null,
   "id": "60b48b6b5e38b3b6",
   "metadata": {},
   "outputs": [],
   "source": [
    "ib6.size()"
   ]
  }
 ],
 "metadata": {
  "kernelspec": {
   "display_name": "C++17",
   "language": "C++17",
   "name": "xcpp17"
  },
  "language_info": {
   "codemirror_mode": "text/x-c++src",
   "file_extension": ".cpp",
   "mimetype": "text/x-c++src",
   "name": "c++",
   "version": "17"
  }
 },
 "nbformat": 4,
 "nbformat_minor": 5
}
