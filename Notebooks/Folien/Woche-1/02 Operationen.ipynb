{
 "cells": [
  {
   "cell_type": "markdown",
   "id": "9aafe937a4a1fe54",
   "metadata": {
    "lang": "de",
    "slideshow": {
     "slide_type": "slide"
    },
    "tags": [
     "slide"
    ]
   },
   "source": [
    "\n",
    "<img src=\"data:image/png;base64,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\"\n",
    "     style=\"display:block;margin:auto;width:5%\"/>\n",
    "<br>\n",
    "\n",
    "<div style=\"text-align:center; font-size:200%;\">\n",
    " <b>Operationen</b>\n",
    "</div>\n",
    "<br/>\n",
    "<div style=\"text-align:center; font-size:120%;\">Dr. Matthias Hölzl</div>\n",
    "<br/>\n",
    "<div style=\"text-align:center;\">Coding-Akademie München</div>\n",
    "<br/>\n",
    "<!-- 02 Operationen.ipynb -->\n",
    "<!-- slides/module_120_basics/topic_120_operations.cpp -->"
   ]
  },
  {
   "cell_type": "markdown",
   "id": "6b19e1ed087ce30b",
   "metadata": {
    "lang": "de",
    "slideshow": {
     "slide_type": "subslide"
    },
    "tags": [
     "subslide"
    ]
   },
   "source": [
    "\n",
    "## Operationen\n",
    "\n",
    "C++ bietet die üblichen Operationen an:\n",
    "- Vergleichsoperationen\n",
    "- Boolesche Operationen (und, oder, nicht)\n",
    "- Arithmetik\n",
    "- ..."
   ]
  },
  {
   "cell_type": "markdown",
   "id": "b543388585ba5951",
   "metadata": {
    "lang": "de",
    "slideshow": {
     "slide_type": "subslide"
    },
    "tags": [
     "subslide"
    ]
   },
   "source": [
    "\n",
    "### Vergleichsoperationen\n",
    "\n",
    "| Operation | Bedeutung      |\n",
    "| :-------: | :------------- |\n",
    "| `x == y`  | Gleichheit     |\n",
    "| `x != y`  | Ungleichheit   |\n",
    "| `x < y`   | Kleiner        |\n",
    "| `x <= y`  | Kleiner oder gleich |\n",
    "| `x > y`   | Größer         |\n",
    "| `x >= y`  | Größer oder gleich |"
   ]
  },
  {
   "cell_type": "markdown",
   "id": "99edb1242a715d58",
   "metadata": {
    "lang": "de",
    "slideshow": {
     "slide_type": "subslide"
    },
    "tags": [
     "subslide"
    ]
   },
   "source": [
    "\n",
    "#### Gleichheit"
   ]
  },
  {
   "cell_type": "code",
   "execution_count": null,
   "id": "c798886db31a775d",
   "metadata": {},
   "outputs": [],
   "source": [
    "1 == 2"
   ]
  },
  {
   "cell_type": "code",
   "execution_count": null,
   "id": "4a782ccb8d074743",
   "metadata": {},
   "outputs": [],
   "source": [
    "1 == 1"
   ]
  },
  {
   "cell_type": "code",
   "execution_count": null,
   "id": "30fd341d394bc402",
   "metadata": {},
   "outputs": [],
   "source": [
    "1 != 2"
   ]
  },
  {
   "cell_type": "code",
   "execution_count": null,
   "id": "2176cdb467635956",
   "metadata": {},
   "outputs": [],
   "source": [
    "1 != 1"
   ]
  },
  {
   "cell_type": "markdown",
   "id": "c04436aed1bb54de",
   "metadata": {
    "lang": "de",
    "slideshow": {
     "slide_type": "subslide"
    },
    "tags": [
     "subslide"
    ]
   },
   "source": [
    "\n",
    "#### Ungleichheit"
   ]
  },
  {
   "cell_type": "code",
   "execution_count": null,
   "id": "08eea0bbe7955d9c",
   "metadata": {},
   "outputs": [],
   "source": [
    "1 < 2"
   ]
  },
  {
   "cell_type": "code",
   "execution_count": null,
   "id": "6a1256c148a75acb",
   "metadata": {},
   "outputs": [],
   "source": [
    "1 < 1"
   ]
  },
  {
   "cell_type": "code",
   "execution_count": null,
   "id": "661db02db61aec30",
   "metadata": {},
   "outputs": [],
   "source": [
    "1 <= 1"
   ]
  },
  {
   "cell_type": "markdown",
   "id": "40eb1b7c5a2e5a97",
   "metadata": {
    "lang": "de",
    "slideshow": {
     "slide_type": "subslide"
    },
    "tags": [
     "subslide"
    ]
   },
   "source": [
    "\n",
    "### Boolesche Operationen\n",
    "\n",
    "| Operation   | Bedeutung          |\n",
    "| :---------: | :----------------- |\n",
    "| `x && y`    | Logisches Und      |\n",
    "| `x \\|\\| y`  | Logisches Oder     |\n",
    "| `!x`        | Negation           |"
   ]
  },
  {
   "cell_type": "markdown",
   "id": "71ebdd51cdf909a1",
   "metadata": {
    "lang": "de",
    "slideshow": {
     "slide_type": "subslide"
    },
    "tags": [
     "subslide"
    ]
   },
   "source": [
    "\n",
    "#### Negation"
   ]
  },
  {
   "cell_type": "code",
   "execution_count": null,
   "id": "8f6eb64d8b4fbfaf",
   "metadata": {
    "lang": "de"
   },
   "outputs": [],
   "source": [
    "// Verhindere, dass das Notebook `!` am Anfang einer Zelle als Shell-Escape interpretiert\n",
    "!true"
   ]
  },
  {
   "cell_type": "code",
   "execution_count": null,
   "id": "816888fdf4d0de04",
   "metadata": {},
   "outputs": [],
   "source": [
    "//\n",
    "!false"
   ]
  },
  {
   "cell_type": "markdown",
   "id": "ee5cfe8cb7ae9181",
   "metadata": {
    "lang": "de",
    "slideshow": {
     "slide_type": "subslide"
    },
    "tags": [
     "subslide"
    ]
   },
   "source": [
    "\n",
    "#### Logisches Und"
   ]
  },
  {
   "cell_type": "code",
   "execution_count": null,
   "id": "640a9f5c0b4755f9",
   "metadata": {},
   "outputs": [],
   "source": [
    "true && true"
   ]
  },
  {
   "cell_type": "code",
   "execution_count": null,
   "id": "517d793caaa32166",
   "metadata": {},
   "outputs": [],
   "source": [
    "true && false"
   ]
  },
  {
   "cell_type": "code",
   "execution_count": null,
   "id": "cca106756a5f4fb2",
   "metadata": {},
   "outputs": [],
   "source": [
    "false && true"
   ]
  },
  {
   "cell_type": "code",
   "execution_count": null,
   "id": "38560e1788db5436",
   "metadata": {},
   "outputs": [],
   "source": [
    "false && false"
   ]
  },
  {
   "cell_type": "markdown",
   "id": "7519128a505ccce7",
   "metadata": {
    "lang": "de",
    "slideshow": {
     "slide_type": "subslide"
    },
    "tags": [
     "subslide"
    ]
   },
   "source": [
    "\n",
    "#### Logisches Oder"
   ]
  },
  {
   "cell_type": "code",
   "execution_count": null,
   "id": "6bab8c447f930c25",
   "metadata": {},
   "outputs": [],
   "source": [
    "true || true"
   ]
  },
  {
   "cell_type": "code",
   "execution_count": null,
   "id": "365848708d7f744f",
   "metadata": {},
   "outputs": [],
   "source": [
    "true || false"
   ]
  },
  {
   "cell_type": "code",
   "execution_count": null,
   "id": "d4846906d0853fb6",
   "metadata": {},
   "outputs": [],
   "source": [
    "false || true"
   ]
  },
  {
   "cell_type": "code",
   "execution_count": null,
   "id": "8a140399dcb70777",
   "metadata": {},
   "outputs": [],
   "source": [
    "false || false"
   ]
  },
  {
   "cell_type": "markdown",
   "id": "7e0e34d16ab6fe0f",
   "metadata": {
    "lang": "de",
    "slideshow": {
     "slide_type": "subslide"
    },
    "tags": [
     "subslide"
    ]
   },
   "source": [
    "\n",
    "- Die Booleschen Operatoren können auch mit Werten verwendet werden, die\n",
    "  nicht den Typ `bool` haben.\n",
    "- Bei integralen Werten gilt `0` als falsch und jeder andere Wert als wahr."
   ]
  },
  {
   "cell_type": "code",
   "execution_count": null,
   "id": "535f89668ac2eea0",
   "metadata": {
    "slideshow": {
     "slide_type": "subslide"
    },
    "tags": [
     "subslide"
    ]
   },
   "outputs": [],
   "source": [
    "1 || true"
   ]
  },
  {
   "cell_type": "code",
   "execution_count": null,
   "id": "571111080fb680ec",
   "metadata": {},
   "outputs": [],
   "source": [
    "true || 2"
   ]
  },
  {
   "cell_type": "code",
   "execution_count": null,
   "id": "bdf05e39d6261319",
   "metadata": {},
   "outputs": [],
   "source": [
    "true && 0"
   ]
  },
  {
   "cell_type": "code",
   "execution_count": null,
   "id": "3676d201fbca6b11",
   "metadata": {},
   "outputs": [],
   "source": [
    "//\n",
    "!-1"
   ]
  },
  {
   "cell_type": "code",
   "execution_count": null,
   "id": "1355051de5281ebe",
   "metadata": {},
   "outputs": [],
   "source": [
    "//\n",
    "!0"
   ]
  },
  {
   "cell_type": "markdown",
   "id": "79516a84eb6fcd8b",
   "metadata": {
    "lang": "de",
    "slideshow": {
     "slide_type": "subslide"
    },
    "tags": [
     "subslide"
    ]
   },
   "source": [
    "\n",
    "Die Operatoren `&&` und `||` werden nicht-strikt ausgewertet, d.h., wenn nach\n",
    "der Auswertung von `x` das Ergebnis schon klar ist wird `y` nicht mehr\n",
    "ausgewertet."
   ]
  },
  {
   "cell_type": "code",
   "execution_count": null,
   "id": "51e8c833ef4ce1d8",
   "metadata": {},
   "outputs": [],
   "source": [
    "// 1 / 0"
   ]
  },
  {
   "cell_type": "code",
   "execution_count": null,
   "id": "f7962cac57dd57f5",
   "metadata": {},
   "outputs": [],
   "source": [
    "false && (1 / 0)"
   ]
  },
  {
   "cell_type": "markdown",
   "id": "422f56f7859de020",
   "metadata": {
    "lang": "de",
    "slideshow": {
     "slide_type": "subslide"
    },
    "tags": [
     "subslide"
    ]
   },
   "source": [
    "\n",
    "### Arithmetik\n",
    "\n",
    "| Operation | Bedeutung          |\n",
    "| :-------: | :----------------- |\n",
    "| `-x`      | Negation           |\n",
    "| `x + y`   | Addition           |\n",
    "| `x - y`   | Subtraktion        |\n",
    "| `x * y`   | Multiplikation     |\n",
    "| `x / y`   | Division           |\n",
    "| `x % y`   | Rest (Modulus)     |\n",
    "\n",
    "- Arithmetische Operatoren folgen den übliche Punkt vor Strich Regeln.\n",
    "- Mit Klammern kann die Präzedenz verändert werden."
   ]
  },
  {
   "cell_type": "code",
   "execution_count": null,
   "id": "7ef9033476cdf5b1",
   "metadata": {
    "slideshow": {
     "slide_type": "subslide"
    },
    "tags": [
     "subslide"
    ]
   },
   "outputs": [],
   "source": [
    "1 + 2 * 3"
   ]
  },
  {
   "cell_type": "code",
   "execution_count": null,
   "id": "ce0f283a401e7aba",
   "metadata": {},
   "outputs": [],
   "source": [
    "(1 + 2) * 3"
   ]
  },
  {
   "cell_type": "code",
   "execution_count": null,
   "id": "6d45a9403c406151",
   "metadata": {},
   "outputs": [],
   "source": [
    "1 / 2"
   ]
  },
  {
   "cell_type": "code",
   "execution_count": null,
   "id": "a769e0b641eb00a3",
   "metadata": {},
   "outputs": [],
   "source": [
    "1.0 / 2.0"
   ]
  },
  {
   "cell_type": "code",
   "execution_count": null,
   "id": "338bfd783b1a1a1a",
   "metadata": {},
   "outputs": [],
   "source": [
    "1 % 2"
   ]
  },
  {
   "cell_type": "code",
   "execution_count": null,
   "id": "63c2b31c3ff40154",
   "metadata": {},
   "outputs": [],
   "source": [
    "// 1.0 % 2.0"
   ]
  },
  {
   "cell_type": "markdown",
   "id": "c683fb59c58f9dbf",
   "metadata": {
    "lang": "de",
    "slideshow": {
     "slide_type": "subslide"
    },
    "tags": [
     "subslide"
    ]
   },
   "source": [
    "\n",
    "### Gleitkommazahlen\n",
    "\n",
    "- Gleitkommazahlen können viele Werte nicht exakt darstellen\n",
    "- Das führt zu Rundungsfehlern!"
   ]
  },
  {
   "cell_type": "code",
   "execution_count": null,
   "id": "d5cea182cf687244",
   "metadata": {},
   "outputs": [],
   "source": [
    "0.1"
   ]
  },
  {
   "cell_type": "code",
   "execution_count": null,
   "id": "2cf55fb03018e37e",
   "metadata": {},
   "outputs": [],
   "source": [
    "0.1 * 0.1"
   ]
  },
  {
   "cell_type": "code",
   "execution_count": null,
   "id": "cfca0baa7b1d25ae",
   "metadata": {},
   "outputs": [],
   "source": [
    "0.1 * 0.1 == 0.01"
   ]
  },
  {
   "cell_type": "code",
   "execution_count": null,
   "id": "f832cbfdc2094240",
   "metadata": {},
   "outputs": [],
   "source": [
    "0.1 * 0.1 - 0.01"
   ]
  },
  {
   "cell_type": "markdown",
   "id": "f2e827cdc2fa77df",
   "metadata": {
    "lang": "de",
    "slideshow": {
     "slide_type": "subslide"
    },
    "tags": [
     "subslide"
    ]
   },
   "source": [
    "\n",
    "### Typkonversionen\n",
    "\n",
    "- C++ führt oft automatische Typkonversionen durch.\n",
    "- Dabei wird versucht in den Typ zu konvertieren, der die meisten Werte\n",
    "  darstellen kann.\n",
    "- Das führt manchmal zu unerwarteten Ergebnissen!"
   ]
  },
  {
   "cell_type": "code",
   "execution_count": null,
   "id": "0ac06a900262e761",
   "metadata": {},
   "outputs": [],
   "source": [
    "10 + 2.0"
   ]
  },
  {
   "cell_type": "code",
   "execution_count": null,
   "id": "59137b9e832c7696",
   "metadata": {},
   "outputs": [],
   "source": [
    "10 + 1.f"
   ]
  },
  {
   "cell_type": "code",
   "execution_count": null,
   "id": "60dd2ec2bbafc1e3",
   "metadata": {
    "slideshow": {
     "slide_type": "subslide"
    },
    "tags": [
     "subslide"
    ]
   },
   "outputs": [],
   "source": [
    "2'000'000'000 + 1 - 2'000'000'000"
   ]
  },
  {
   "cell_type": "code",
   "execution_count": null,
   "id": "98b671b551857fcd",
   "metadata": {},
   "outputs": [],
   "source": [
    "2'000'000'000 + 1.f - 2'000'000'000"
   ]
  },
  {
   "cell_type": "code",
   "execution_count": null,
   "id": "66b923a82a8a5409",
   "metadata": {},
   "outputs": [],
   "source": [
    "2'000'000'000 + 1.0 - 2'000'000'000"
   ]
  },
  {
   "cell_type": "markdown",
   "id": "ad820194648410fe",
   "metadata": {
    "lang": "de",
    "slideshow": {
     "slide_type": "subslide"
    },
    "tags": [
     "subslide"
    ]
   },
   "source": [
    "\n",
    "Vorsicht bei Arithmetik zwischen `signed` und `unsigned` Typen:"
   ]
  },
  {
   "cell_type": "code",
   "execution_count": null,
   "id": "93d85c9aff017688",
   "metadata": {},
   "outputs": [],
   "source": [
    "2u - 1"
   ]
  },
  {
   "cell_type": "code",
   "execution_count": null,
   "id": "7bb6db848f9f9cb9",
   "metadata": {},
   "outputs": [],
   "source": [
    "1u - 2"
   ]
  },
  {
   "cell_type": "code",
   "execution_count": null,
   "id": "c29877cac2203699",
   "metadata": {},
   "outputs": [],
   "source": [
    "1 - 2u"
   ]
  },
  {
   "cell_type": "markdown",
   "id": "7df007b155516c48",
   "metadata": {
    "lang": "de",
    "lines_to_next_cell": 2,
    "slideshow": {
     "slide_type": "subslide"
    },
    "tags": [
     "subslide"
    ]
   },
   "source": [
    "\n",
    "### Zeichen und Boolesche Werte\n",
    "\n",
    "- Zeichen (`char`) und Boolesche Werte sind integrale Typen.\n",
    "- Sie können mit den üblichen arithmetischen Operatoren verwendet werden.\n",
    "- Zeichen werden dabei als ihre Werte im Zeichensatz des Computers\n",
    "  interpretiert.\n",
    "- Typischerweise ist das der ASCII-Zeichensatz."
   ]
  },
  {
   "cell_type": "code",
   "execution_count": null,
   "id": "435c162172f3e589",
   "metadata": {
    "slideshow": {
     "slide_type": "subslide"
    },
    "tags": [
     "subslide"
    ]
   },
   "outputs": [],
   "source": [
    "'c' / 'a'"
   ]
  },
  {
   "cell_type": "code",
   "execution_count": null,
   "id": "ce9c6c76bd5eb77b",
   "metadata": {},
   "outputs": [],
   "source": [
    "'c' % 'a'"
   ]
  },
  {
   "cell_type": "markdown",
   "id": "a7af8fb797349966",
   "metadata": {
    "lang": "de",
    "slideshow": {
     "slide_type": "subslide"
    },
    "tags": [
     "subslide"
    ]
   },
   "source": [
    "\n",
    "Bei den Booleschen Werten entspricht\n",
    "- `true` der Zahl 1 und\n",
    "- `false` der Zahl 0."
   ]
  },
  {
   "cell_type": "code",
   "execution_count": null,
   "id": "c52e1da241cd54b5",
   "metadata": {},
   "outputs": [],
   "source": [
    "true + true"
   ]
  },
  {
   "cell_type": "code",
   "execution_count": null,
   "id": "f2238c64dfb73c1e",
   "metadata": {},
   "outputs": [],
   "source": [
    "true + false"
   ]
  },
  {
   "cell_type": "code",
   "execution_count": null,
   "id": "75d53151b4510933",
   "metadata": {},
   "outputs": [],
   "source": [
    "10 + true"
   ]
  },
  {
   "cell_type": "code",
   "execution_count": null,
   "id": "1213ad6d0eb4e729",
   "metadata": {},
   "outputs": [],
   "source": [
    "'a' + 1"
   ]
  },
  {
   "cell_type": "markdown",
   "id": "3a0e35d9135b5e24",
   "metadata": {
    "lang": "de",
    "slideshow": {
     "slide_type": "subslide"
    },
    "tags": [
     "subslide"
    ]
   },
   "source": [
    "\n",
    "## Mini-Workshop: Rechenoperationen\n",
    "\n",
    "In diesem sehr kurzen Workshop werden wir einige Rechenoperationen in C++\n",
    "ausprobieren. Der Hauptzweck ist wieder, dass Sie im Umgang mit Notebooks\n",
    "vertraut werden."
   ]
  },
  {
   "cell_type": "markdown",
   "id": "751c9f84f68ea131",
   "metadata": {
    "lang": "de",
    "slideshow": {
     "slide_type": "subslide"
    },
    "tags": [
     "subslide"
    ]
   },
   "source": [
    "\n",
    "Was ist das Ergebnis von `7 / 2`?"
   ]
  },
  {
   "cell_type": "code",
   "execution_count": null,
   "id": "a5cedbe2a2f0038a",
   "metadata": {},
   "outputs": [],
   "source": [
    "7 / 2"
   ]
  },
  {
   "cell_type": "markdown",
   "id": "cf2b49943171c030",
   "metadata": {
    "lang": "de",
    "slideshow": {
     "slide_type": "subslide"
    },
    "tags": [
     "subslide"
    ]
   },
   "source": [
    "\n",
    "Welche Möglichkeiten gibt es, um das Ergebnis als Gleitkommazahl zu erhalten?"
   ]
  },
  {
   "cell_type": "code",
   "execution_count": null,
   "id": "68339e709b65738b",
   "metadata": {},
   "outputs": [],
   "source": [
    "7 / 2.0"
   ]
  },
  {
   "cell_type": "code",
   "execution_count": null,
   "id": "c061ac731414bc67",
   "metadata": {},
   "outputs": [],
   "source": [
    "7.0 / 2"
   ]
  },
  {
   "cell_type": "code",
   "execution_count": null,
   "id": "a108ed3ede17a1b7",
   "metadata": {},
   "outputs": [],
   "source": [
    "7.0 / 2.0"
   ]
  },
  {
   "cell_type": "markdown",
   "id": "46008dfdfd2d8c10",
   "metadata": {
    "lang": "de",
    "slideshow": {
     "slide_type": "subslide"
    },
    "tags": [
     "subslide"
    ]
   },
   "source": [
    "\n",
    "Was ist der Rest von `7 / 2`?"
   ]
  },
  {
   "cell_type": "code",
   "execution_count": null,
   "id": "a848e23dd08a5b3e",
   "metadata": {},
   "outputs": [],
   "source": [
    "7 % 2"
   ]
  },
  {
   "cell_type": "markdown",
   "id": "98e7b5cf050b98c6",
   "metadata": {
    "lang": "de",
    "slideshow": {
     "slide_type": "subslide"
    },
    "tags": [
     "subslide"
    ]
   },
   "source": [
    "\n",
    "Wie können Sie in C++ testen, ob gleichzeitig die Bedingungen `0 < 1` und\n",
    "`1 < 10` erfüllt sind?"
   ]
  },
  {
   "cell_type": "code",
   "execution_count": null,
   "id": "02cd4e416de4d100",
   "metadata": {},
   "outputs": [],
   "source": [
    "0 < 1 && 1 < 10"
   ]
  },
  {
   "cell_type": "markdown",
   "id": "523a194e59e8b325",
   "metadata": {
    "lang": "de",
    "slideshow": {
     "slide_type": "subslide"
    },
    "tags": [
     "subslide",
     "alt"
    ]
   },
   "source": [
    "\n",
    "**Hinweis:** Sie können diese Operationen nicht in einen Ausdruck der Form `0\n",
    "< 1 < 10` schreiben. Dieser Ausdruck ist in C++ zwar syntaktisch erlaubt, hat\n",
    "aber eine andere Bedeutung."
   ]
  },
  {
   "cell_type": "code",
   "execution_count": null,
   "id": "0620542fef3fc9d2",
   "metadata": {
    "tags": [
     "alt"
    ]
   },
   "outputs": [],
   "source": [
    "0 < 1 < 10"
   ]
  },
  {
   "cell_type": "markdown",
   "id": "125d2f67500b1f4d",
   "metadata": {
    "lang": "de",
    "slideshow": {
     "slide_type": "subslide"
    },
    "tags": [
     "subslide",
     "alt"
    ]
   },
   "source": [
    "\n",
    "Dieser Ausdruck wird wie folgt ausgewertet:\n",
    "- `0 < 1` ist wahr, hat also den Wert `true`.\n",
    "- `true < 10` wird als `1 < 10` ausgewertet, ergibt also ebenfalls `true`.\n",
    "\n",
    "In diesem Fall ist das das selbe Ergebnis wie `0 < 1 && 1 < 10`.\n",
    "\n",
    "Wir sehen den Unterschied, wenn wir zwei andere Bedingungen verwenden:"
   ]
  },
  {
   "cell_type": "code",
   "execution_count": null,
   "id": "a83599820962d7b4",
   "metadata": {
    "tags": [
     "alt"
    ]
   },
   "outputs": [],
   "source": [
    "10 > 5 && 5 > 2"
   ]
  },
  {
   "cell_type": "code",
   "execution_count": null,
   "id": "41762a5b0e7f13d4",
   "metadata": {
    "tags": [
     "alt"
    ]
   },
   "outputs": [],
   "source": [
    "10 > 5 > 2"
   ]
  }
 ],
 "metadata": {
  "kernelspec": {
   "display_name": "C++17",
   "language": "C++17",
   "name": "xcpp17"
  },
  "language_info": {
   "codemirror_mode": "text/x-c++src",
   "file_extension": ".cpp",
   "mimetype": "text/x-c++src",
   "name": "c++",
   "version": "17"
  }
 },
 "nbformat": 4,
 "nbformat_minor": 5
}
