{
 "cells": [
  {
   "cell_type": "markdown",
   "id": "e50cbfe1211daa34",
   "metadata": {
    "lang": "de",
    "slideshow": {
     "slide_type": "slide"
    },
    "tags": [
     "slide"
    ]
   },
   "source": [
    "\n",
    "<img src=\"data:image/png;base64,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\"\n",
    "     style=\"display:block;margin:auto;width:5%\"/>\n",
    "<br>\n",
    "\n",
    "<div style=\"text-align:center; font-size:200%;\">\n",
    " <b>Größe von Typen</b>\n",
    "</div>\n",
    "<br/>\n",
    "<div style=\"text-align:center; font-size:120%;\">Dr. Matthias Hölzl</div>\n",
    "<br/>\n",
    "<div style=\"text-align:center;\">Coding-Akademie München</div>\n",
    "<br/>\n",
    "<!-- 05 Größe von Typen.ipynb -->\n",
    "<!-- slides/module_120_basics/topic_200_size_of_types.cpp -->"
   ]
  },
  {
   "cell_type": "markdown",
   "id": "2fbd5a069556e0bf",
   "metadata": {
    "lang": "de",
    "slideshow": {
     "slide_type": "slide"
    },
    "tags": [
     "slide"
    ]
   },
   "source": [
    "\n",
    "## Werte\n",
    "\n",
    "- Ein *Wert*\n",
    "    - ist ein Speicherbereich\n",
    "    - der entsprechend den Regeln eines Typs interpretiert wird\n",
    "    - z.B. Bits `0x3f800000`\n",
    "        - `1.f` als `float`\n",
    "        - `1065353216` als `int`"
   ]
  },
  {
   "cell_type": "markdown",
   "id": "2a174ade34b67ff3",
   "metadata": {
    "lang": "de",
    "slideshow": {
     "slide_type": "subslide"
    },
    "tags": [
     "subslide"
    ]
   },
   "source": [
    "\n",
    "## Wiederholung: Einige Fundamentale Typen\n",
    "\n",
    "| Typ         | Beschreibung      | Größe   | Werte     | &nbsp;   | Literale Syntax   |\n",
    "| :---------- | :---------------- | ------: | :-------: | :------: | ----------------- |\n",
    "| `bool`      | Boolesche Werte   | N/A     | `false`   | `true`   | `true`            |\n",
    "| `char`      | Zeichen           | 8 Bit   | 0         | 127      | `'a'`             |\n",
    "| `int`       | Zahlen            | 16 Bit  | -32768    | 32767    | `123`, `0xF1`     |\n",
    "| `unsigned`  | positive Zahlen   | 16 Bit  | 0         | 65535    | `123u`            |\n",
    "| `long`      | große Zahlen      | 32 Bit  | -2^31     | 2^31 - 1 | `123L`            |\n",
    "| `long long` | sehr große Zahlen | 64 Bit  | -2^63     | 2^63 - 1 | `123LL`           |\n",
    "| `float`     | Gleitkommazahlen  | 6 SD    | 10.0^-38  | 10.0^38  | `1.0f`, `123e-2f` |\n",
    "| `double`    | Gleitkommazahlen  | 10 SD   | 10.0^-308 | 10.0^308 | `1.23`, `123e-2`  |\n",
    "\n",
    "- (SD = Significant Digits, Signifikante Stellen)\n",
    "- Typischerweise sind `int` und `unsigned` 32 Bit, aber das ist nicht vom Standard garantiert."
   ]
  },
  {
   "cell_type": "markdown",
   "id": "0fbbecc58dd0cf00",
   "metadata": {
    "lang": "de",
    "slideshow": {
     "slide_type": "subslide"
    },
    "tags": [
     "subslide"
    ]
   },
   "source": [
    "\n",
    "### Größe von Typen\n",
    "\n",
    "- Die Größe von Typen ist abhängig von der Plattform\n",
    "- Mit dem `sizeof()`-Operator kann die Größe eines Typs ermittelt werden\n",
    "- Der kleinste Typ ist `char`\n",
    "  - `sizeof(char)` ist immer 1\n",
    "  - `char` ist ein Zeichen im Zeichensatz der Plattform\n",
    "- Für andere Typen gibt `sizeof()` den Faktor an, um den der Typ größer als\n",
    "  `char` ist.\n",
    "- Auf den meisten Plattformen ist das die Größe in Bytes."
   ]
  },
  {
   "cell_type": "code",
   "execution_count": null,
   "id": "2d4efd2c226d659b",
   "metadata": {
    "slideshow": {
     "slide_type": "subslide"
    },
    "tags": [
     "subslide"
    ]
   },
   "outputs": [],
   "source": [
    "sizeof(char)"
   ]
  },
  {
   "cell_type": "code",
   "execution_count": null,
   "id": "7baa5bc1af14058b",
   "metadata": {},
   "outputs": [],
   "source": [
    "sizeof(int)"
   ]
  },
  {
   "cell_type": "code",
   "execution_count": null,
   "id": "ffc8c460f47e40e1",
   "metadata": {},
   "outputs": [],
   "source": [
    "sizeof(long)"
   ]
  },
  {
   "cell_type": "code",
   "execution_count": null,
   "id": "8dc8cbb5b2a27844",
   "metadata": {},
   "outputs": [],
   "source": [
    "sizeof(long long)"
   ]
  },
  {
   "cell_type": "code",
   "execution_count": null,
   "id": "a685f4ce1ed2e320",
   "metadata": {},
   "outputs": [],
   "source": [
    "sizeof(float)"
   ]
  },
  {
   "cell_type": "code",
   "execution_count": null,
   "id": "92a05b0780aab148",
   "metadata": {
    "lines_to_next_cell": 2
   },
   "outputs": [],
   "source": [
    "sizeof(double)"
   ]
  },
  {
   "cell_type": "markdown",
   "id": "1195a171a3c51e00",
   "metadata": {
    "lang": "de",
    "slideshow": {
     "slide_type": "subslide"
    },
    "tags": [
     "subslide"
    ]
   },
   "source": [
    "\n",
    "### Integrale Typen mit Größenangabe\n",
    "\n",
    "- Die Mindestgrößen der eingebauten Typen sind oft zu klein.\n",
    "- Im Header `<cstdint>` sind Typen mit Größenangabe definiert, die es\n",
    "  erlauben portablen Code zu schreiben.\n",
    "\n",
    "| Type           | Description             | Size    | Values    | &nbsp;   | Optional |\n",
    "| :------------- | :---------------------- | ------: | :-------: | :------: | :------- |\n",
    "| `int8_t`       | 8-Bit Zahlen            | 8 Bit   | -128      | 127      | Ja       |\n",
    "| `uint8_t`      | 8-Bit positive Zahlen   | 8 Bit   | 0         | 255      | Ja       |\n",
    "| `int_fast8_t`  | schnellste 8-Bit Zahlen | 8 Bit   | -128      | 127      | Nein     |\n",
    "| `int_least8_t` | kleinste 8-Bit Zahlen   | 8 Bit   | -128      | 127      | Nein     |\n",
    "| `int16_t`      | 16-Bit Zahlen           | 16 Bit  | -32768    | 32767    | Ja       |\n",
    "| `int32_t`      | 32-Bit Zahlen           | 32 Bit  | -2^31     | 2^31 - 1 | Ja       |\n",
    "| `int64_t`      | 64-Bit Zahlen           | 64 Bit  | -2^63     | 2^63 - 1 | Ja       |"
   ]
  },
  {
   "cell_type": "code",
   "execution_count": null,
   "id": "8d8ebb32354e7437",
   "metadata": {
    "slideshow": {
     "slide_type": "subslide"
    },
    "tags": [
     "subslide"
    ]
   },
   "outputs": [],
   "source": [
    "#include <cstdint>"
   ]
  },
  {
   "cell_type": "code",
   "execution_count": null,
   "id": "806b3bb2341b7f0c",
   "metadata": {},
   "outputs": [],
   "source": [
    "sizeof(int8_t)"
   ]
  },
  {
   "cell_type": "code",
   "execution_count": null,
   "id": "6b2eec20f83931d5",
   "metadata": {},
   "outputs": [],
   "source": [
    "sizeof(uint8_t)"
   ]
  },
  {
   "cell_type": "code",
   "execution_count": null,
   "id": "f0dca053de91c4ca",
   "metadata": {},
   "outputs": [],
   "source": [
    "sizeof(int_fast8_t)"
   ]
  },
  {
   "cell_type": "code",
   "execution_count": null,
   "id": "490188906adfb7d8",
   "metadata": {},
   "outputs": [],
   "source": [
    "sizeof(int_least8_t)"
   ]
  },
  {
   "cell_type": "code",
   "execution_count": null,
   "id": "bba94589eec1de79",
   "metadata": {},
   "outputs": [],
   "source": [
    "sizeof(int32_t)"
   ]
  },
  {
   "cell_type": "markdown",
   "id": "d7cde100eadef1bd",
   "metadata": {
    "lang": "de",
    "slideshow": {
     "slide_type": "subslide"
    },
    "tags": [
     "subslide"
    ]
   },
   "source": [
    "\n",
    "## Mini-Workshop: Integer-Typen mit Größenangabe\n",
    "\n",
    "Stellen Sie fest, wie groß folgende Typen auf Ihrem System sind:\n",
    "\n",
    "- `int16_t`\n",
    "- `uint16_t`\n",
    "- `int_fast16_t`\n",
    "- `int_least16_t`\n",
    "- `int64_t`"
   ]
  },
  {
   "cell_type": "code",
   "execution_count": null,
   "id": "ffad94cff25a6cc5",
   "metadata": {
    "slideshow": {
     "slide_type": "subslide"
    },
    "tags": [
     "subslide"
    ]
   },
   "outputs": [],
   "source": [
    "#include <cstdint>"
   ]
  },
  {
   "cell_type": "code",
   "execution_count": null,
   "id": "7ded5e36891549f6",
   "metadata": {},
   "outputs": [],
   "source": [
    "sizeof(int16_t)"
   ]
  },
  {
   "cell_type": "code",
   "execution_count": null,
   "id": "3a9d514aaac02d72",
   "metadata": {},
   "outputs": [],
   "source": [
    "sizeof(uint16_t)"
   ]
  },
  {
   "cell_type": "code",
   "execution_count": null,
   "id": "282421d049f2bfeb",
   "metadata": {},
   "outputs": [],
   "source": [
    "sizeof(int_fast16_t)"
   ]
  },
  {
   "cell_type": "code",
   "execution_count": null,
   "id": "a7a186c697e12251",
   "metadata": {},
   "outputs": [],
   "source": [
    "sizeof(int_least16_t)"
   ]
  },
  {
   "cell_type": "code",
   "execution_count": null,
   "id": "f2d94739484e0b59",
   "metadata": {
    "lines_to_next_cell": 2
   },
   "outputs": [],
   "source": [
    "sizeof(int64_t)"
   ]
  }
 ],
 "metadata": {
  "kernelspec": {
   "display_name": "C++17",
   "language": "C++17",
   "name": "xcpp17"
  },
  "language_info": {
   "codemirror_mode": "text/x-c++src",
   "file_extension": ".cpp",
   "mimetype": "text/x-c++src",
   "name": "c++",
   "version": "17"
  }
 },
 "nbformat": 4,
 "nbformat_minor": 5
}
