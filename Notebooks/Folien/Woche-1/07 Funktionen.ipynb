{
 "cells": [
  {
   "cell_type": "markdown",
   "id": "ccf689523b00ec29",
   "metadata": {
    "lang": "de",
    "slideshow": {
     "slide_type": "slide"
    },
    "tags": [
     "slide"
    ]
   },
   "source": [
    "\n",
    "<img src=\"data:image/png;base64,iVBORw0KGgoAAAANSUhEUgAAAEAAAABACAYAAACqaXHeAAAABHNCSVQICAgIfAhkiAAAAAlwSFlzAAACkwAAApMBv+Bu1wAAABl0RVh0U29mdHdhcmUAd3d3Lmlua3NjYXBlLm9yZ5vuPBoAAAumSURBVHic1Vt7WFRlGv99ZwYGZoABVGCQS2gqqVikbImauanrqm31aNaz1SYhdtu85LqumTjenloto9ZWS+yiWZZPW7aaaWghXjC8cF0uclHuAwwwA3Ofc779A0HGGZgzZway318z53u/93vP73zn/d73O99L8Ctg6QcF8yjBK5TQSYRCSihKAOw3e/vv+iQpxjiYtpDBHOy5vXljRCzZAWBuHyK1lNB16Usm7AchdDBsGhQCXvx3fpBVjDUAVgLw5tElk+GY5R+8MD5vgE0bWAKUSsrUDs9/mlCyHUCIi905gB6ghFmdnhKnGgj7gAEkYOkHhTMo4dIATHBTVTuAN32Mvmn/WjbK5AHTbOBxApI+KogUW7mtAHnGw6rLALJqz9K4I55U6jECntmXJ/M1YDUlZA0AH0/pdYAMgFuxZ+k9RZ5Q5j4BlJKlHxYsBPA2JYh03yResFBCd1nF3IZPkuLb3VHkFgEpHxYmAFwagER39LiBVoBuag8s3Xlo0SJWiAJBBDy393K42CreQAmWAGCE6PAsaC5AVuxZOiHT1Z4uEbByxznfTj+/ZQDWAfB3dbCBBz1CCZalp9xdxbcHbwKSd+c9zDDkXQAxgmwbPJgpobs5RvL6R8mxHc6EnRKQnJ4bTyiTRige8Ix9g4Z6SrAxoi4uXakkXF9CfRLw8s7iISaJOZVQ8jIAkbvWyKVi3BXuhzvDZAgLlCDIzwsy7y61OjOLTqMV9W0mVDcbUFLfiYZ2j8U8OV3+Ie6co0aHBKR8WDAfoPsBBLozMiHAvTFyPBAbjNhwPxAXPE5tqxHnr7bhdHErTJY+HyBfcAC2D6+Pe+3W2WBn0o2l7Qz4JS19YkKUPxber0CYXOKOGnQarTie34KMghawnHsJIiVEmZ4St7H3NQcE5GcDuE/oIFKJCM9MG46JMXKhKhyiRm3Ex5k1qFUL2y4ws2zxycJyU217+8M4kFLbfd3m3V6yJy+GgGwXaqQiSIK/zx+BkaEyoSr6hFwqRuLoYKg0JjS08fcPlEJ18Vpt3vH8snitwaQASDUKvrvQ3S7uLUwoGSnUwOhhvlgxJwYyH7f9ZZ/wEhEs/X0UvvStx6kitTNxY7Vak32qqDzBwrJTeq5yuLO3kA0BDEfFHON6cBgWKMHyOXcM6M13gxDgicRwdJpY/FLuOA3QGU05R/NKwzR644MOmm2MFDsQcAk+Xgxenh0NPx+3VfEGAbB4egRatGZUNul7rrMsV5lZUtVW0aRO4KvL7Tj+icRwhLrp6YVAzBAkPRgBLzEDULQV1TWe/jjrYnRFk3qiS3rcMWKUQobE0UEu99MZWZSrdGjVWWC2cpD7eiFqqA/Cg1zbRhjq741RIZKi1w6dVRjMVkGRqlsELEgIcymbqmzS47tLKpTU6cBR+zU9VC7BrAlDMXVMEBgnUVNJfac2Jf10+5mShnEumm0DwQSMVsgwIlTKS5bjKL7KbsBPRWr0F8qoNCZ8llWHs6VteH5mFIJlXnYyzVqzZdt/CyveOnolFkCAMOtvQrAPmBobzEuOoxS7M6pxysnN90ZVkx5vHq6AusPcc81o4egXZ6sropZ9wd24eY9A0AwQiwji7+BH/rc5KuRe17o8RrvOgvdPXMfaR0biYlWb6s87T4mvNWsFxyl9QRABI0KkkIidT57GdhNOFLQIGQIAUNmkK/rd+iPi3OvNYwQrcQJhBPB894/lNoMTkMBQioaL12orc6/XJ4I69rNiEYNRYV2zsLjOPiDy8RIhJsQfFiuHclXfM1AQAQoe6z7LUeRVuzz19TXq9pyTRRWTbMJXBwgJ8MH/ti8AADBP7cWti8r4yCDkbHkEje0GKF76vE89gggIdOCdb0WjxgS9ifdGLdUYjdnHckujOgym6f0JMoTAz0cMP5+bNvjf+N1htEDEMJB6iyCTdN0aIUCAb1e71mCx0yeIAImX8/e/XWc/mCNYWbY4o7DcUtOqmcxHfmLMUPyy5U821zR7/wIAiPzrQUyMGYpvV83saQuV+/a0i576yC7+GLAAnjgJkSioKq/katnFopIh1C8I8B78cBoQSACfLSq5rE/VlvrmlvM/Zl2IN1st0wAAGjUgEuVAPiQcIvHw/vReqmqBPHkfwgKlKH17YddYyfsAdL0CjRoD5Mn7EH/HEPy8fh5UGgNGv3oIABxGn4IIaOMxvRWBEsh8RNAZb/oBnd6Q8/3pc6Ht2g77uJ1lE9DapIe3JBMBwZNAiMNdFY5SaA0W+PnctKHDaOlxglaWg9bAQWeyAgAodfzud0MQAY08dmwZQjAhKgDny9rAclzl6ZzLreXXa52lqVKYTdOhbmyA1D8XUr9E9LFx26Q1YuzqrwHAbgUAgMKaNoxd/TUs1v5nqyACKnrl4P1hXnwI+8nxy+fOXMyfzFE6gvcAlCqg0yqg7yhSREeIG3SsXSBkZTmH6383jBa23/ZuCMoFqpr0vPxASIC3aMqdftM4SgURfXdMyLiKnU+P+eqlKaqwAInTPTAhEESAlaW4co1fkLMlaQYem+J67hIxLACHNz0BX4kYj0+NDS3d8Xjw1kfHVXiJGY+eEhGcDWaVtvIbgBAcSl2IlQvu4/1hZPLYCJx/NwnRoTe31gOkEvLaovtHFv/zUebJiYoSITY7tE9ox6sNOpSr+PkCEUOw44XZyH4vGXMSRkIscjzs2OhhSH91PrLeWYyIYY6zzZGKIK8vVs2NzVw7Szte4Vct1P5u2DyT53fnzeEYcoxnXxoVJCpct+CuOOLKNy8ArR0GnCuqRXWTBnqTBYpgP0wcrUBs5FCX9FisHJLeOVp04FKjAgzDb4OCYhcOLnmp+68g52SxsEU/nsumdarmOIVsPpL/GO9S/2B/X8y/f5SQoW1Q2dCG/2QWjoOJbYNUehoyeSJcvCeXhDlKGy8VFlfklpT1pKkrdp3AlPGRLj89d2GysHh222EYugKeIOh1D0BvqESAvBUS30l89fD1AYaahsbMfd8c9c8tLpvSO0fvNJjxSOpXaNbw8weeAKXA4u2HcaGk7pYWbgS0bZPQqsoBa6nho8uGAI4h1lvH6ujszDp4NEP9Q1b2dIvV6jA8LatVY87az9EyCCRwlGLZ+z/g4E/9nJJj2QS0NodCqz4PSnW3tvb+Y0MAJbSi+7eFtZb8kHU+/+D3GdM6dJ0Rzgy7fLUB01Z+ior6Nl43IgQGkxWLNn+NnYdz+Ih7w2SajJYGHXTabODGniyD8t5Cdu47afeVo4VlFZKL+cUPUlCXP/bJZRLsXj4PT85wa7veDpevNmDx9u9QUNUkTAFhShAQaAbjPxeHnu15d+zXr1lbJoFyZ+HmAYk5CSPx9vOzMDZ6mDtq0KzRY9uX5/DuNxecJjZOQbABP6Zusr3kCDM3zgPIZ3DziAxDCB6bGouUufGYee8IiFz48nylvBGfnshD+rEr0Bn57S71Aw7ANkzl1kGp7P+ITA/+oAwGx2wAhUcOSYUEyvBQfAymxUUhNnIIokLkCPL3ASEErVoDWrR6FFY14dLVBpy8cg1ltR7LfXJAsRwnU887anT+SGYp7wFl0gD0u1l5G6IewFpkrN8P9F19wn9Ozt74MLjfxEFJA0Dfg8FnK86ucf+gpA0eV3qjXfQiKN2M2/KoLI6AIctwYr3nj8raYJYyHJTZANwuh6VxBQyzAideP+1qR/fqBR7alACGpoGSX+u4vBqEbEbgmJ04NIjH5W1BCWZtWghK3gIQ5b4+XrCAYBeodyoy/qFxR5HnaoZmb5eB068GBqFkhsUK/JR6m5TM3IrZWyLB0a0A9XzRFCWrcHL97Vk0ZYeHNs4AYdIA6n7ZHCFvQixPw7Flt3/ZnA2USgZnmKcBCCycJAfAsH/DCaXADMg5Bqd2eN4bQTCZ1wCEb+nszxBhBY6n/rZLZ+0wY/MYiGjfxdMEtaBY5yx89SQGl4BudGWbrwCYBEAKkGIAn8HK7sLPykEtn/8/zE19fO7n0IAAAAAASUVORK5CYII=\"\n",
    "     style=\"display:block;margin:auto;width:5%\"/>\n",
    "<br>\n",
    "\n",
    "<div style=\"text-align:center; font-size:200%;\">\n",
    " <b>Funktionen</b>\n",
    "</div>\n",
    "<br/>\n",
    "<div style=\"text-align:center; font-size:120%;\">Dr. Matthias Hölzl</div>\n",
    "<br/>\n",
    "<div style=\"text-align:center;\">Coding-Akademie München</div>\n",
    "<br/>\n",
    "<!-- 07 Funktionen.ipynb -->\n",
    "<!-- slides/module_120_basics/topic_160_functions.cpp -->"
   ]
  },
  {
   "cell_type": "markdown",
   "id": "684faf52f068b980",
   "metadata": {
    "lang": "de",
    "slideshow": {
     "slide_type": "slide"
    },
    "tags": [
     "slide"
    ]
   },
   "source": [
    "\n",
    "## Funktionen\n",
    "\n",
    "Wir hatten den Abstand zweier Punkte folgendermaßen berechnet:"
   ]
  },
  {
   "cell_type": "code",
   "execution_count": null,
   "id": "6ccceafcbfb00ba7",
   "metadata": {},
   "outputs": [],
   "source": [
    "double dx{4.0 - 1.0};\n",
    "double dy{6.0 - 2.0};"
   ]
  },
  {
   "cell_type": "code",
   "execution_count": null,
   "id": "a0ee650c342d197c",
   "metadata": {},
   "outputs": [],
   "source": [
    "#include <iostream>"
   ]
  },
  {
   "cell_type": "code",
   "execution_count": null,
   "id": "79e24c5e2c28e06d",
   "metadata": {},
   "outputs": [],
   "source": [
    "std::cout << sqrt(dx * dx + dy * dy);"
   ]
  },
  {
   "cell_type": "markdown",
   "id": "05fe6d6ba0cac91f",
   "metadata": {
    "lang": "de",
    "slideshow": {
     "slide_type": "subslide"
    },
    "tags": [
     "subslide"
    ]
   },
   "source": [
    "\n",
    "- Das ist unpraktisch, wenn wir die Distanz öfters ausrechnen müssen.\n",
    "- Wir wollen nun von den Details der Berechnung abstrahieren.\n",
    "- Das können wir durch die Definition einer Funktion erreichen:"
   ]
  },
  {
   "cell_type": "code",
   "execution_count": null,
   "id": "736d0478285a3a0e",
   "metadata": {},
   "outputs": [],
   "source": [
    "double distance(double p1x, double p1y, double p2x, double p2y)\n",
    "{\n",
    "    double dx{p2x - p1x};\n",
    "    double dy{p2y - p1y};\n",
    "    return sqrt(dx * dx + dy * dy);\n",
    "}"
   ]
  },
  {
   "cell_type": "code",
   "execution_count": null,
   "id": "46fb9fd2ee23eba4",
   "metadata": {},
   "outputs": [],
   "source": [
    "std::cout << distance(1.0, 2.0, 4.0, 6.0);"
   ]
  },
  {
   "cell_type": "markdown",
   "id": "cd841f26e9e1530e",
   "metadata": {
    "lang": "de",
    "slideshow": {
     "slide_type": "subslide"
    },
    "tags": [
     "subslide"
    ]
   },
   "source": [
    "\n",
    "## Funktionsdefinition\n",
    "\n",
    "- Eine Funktion wird durch einen Funktionskopf und einen Funktionsrumpf\n",
    "  definiert.\n",
    "- Der Funktionskopf besteht aus dem Rückgabetyp, dem Funktionsnamen und der\n",
    "  Parameterliste.\n",
    "- Die Parameterliste besteht aus Parametern, die durch Kommata getrennt sind.\n",
    "- Die Parameterliste kann leer sein.\n",
    "- Ein Parameter besteht aus einem Typ und (optional) einem Namen.\n",
    "- ```cpp\n",
    "  double distance(double p1x, double p1y, double p2x, double p2y)\n",
    "  ```\n",
    "- Der Funktionskopf, gefolgt von einem Semikolon, ist die Funktionsdeklaration."
   ]
  },
  {
   "cell_type": "markdown",
   "id": "3bcdb19554b55035",
   "metadata": {
    "lang": "de",
    "slideshow": {
     "slide_type": "subslide"
    },
    "tags": [
     "subslide"
    ]
   },
   "source": [
    "\n",
    "- Der Funktionsrumpf besteht aus einer oder mehreren Anweisungen, die in\n",
    "  geschweifte Klammern eingeschlossen sind.\n",
    "- Mit dem Schlüsselwort `return` kann ein Wert zurückgegeben werden.\n",
    "- ```cpp\n",
    "  return sqrt(dx * dx + dy * dy);\n",
    "  ```\n",
    "- Der Typ des Rückgabewerts muss mit dem Rückgabetyp der Funktion\n",
    "  übereinstimmen.\n",
    "- Die `return` Anweisung beendet die Funktion. Code der danach kommt wird\n",
    "  nicht mehr ausgeführt."
   ]
  },
  {
   "cell_type": "code",
   "execution_count": null,
   "id": "cda6db73738b392a",
   "metadata": {},
   "outputs": [],
   "source": [
    "int add(int x, int y)\n",
    "{\n",
    "    return x + y;\n",
    "    std::cout << \"This is not executed.\\n\";\n",
    "}"
   ]
  },
  {
   "cell_type": "markdown",
   "id": "e0d467eec35cc66e",
   "metadata": {
    "lang": "de",
    "slideshow": {
     "slide_type": "subslide"
    },
    "tags": [
     "subslide"
    ]
   },
   "source": [
    "\n",
    "## Funktionsaufruf\n",
    "\n",
    "- Eine Funktion wird durch ihren Funktionsnamen und die Argumente aufgerufen.\n",
    "- Die Argumente werden in der Reihenfolge der Parameter in der Parameterliste\n",
    "  übergeben.\n",
    "- Die Anzahl der Argumente muss mit der Anzahl der Parameter übereinstimmen.\n",
    "- Die Argumente werden durch Kommata getrennt.\n",
    "- ```cpp\n",
    "  distance(1.0, 2.0, 4.0, 6.0)\n",
    "  ```"
   ]
  },
  {
   "cell_type": "markdown",
   "id": "70ffec51ce7d76eb",
   "metadata": {
    "lang": "de",
    "slideshow": {
     "slide_type": "subslide"
    },
    "tags": [
     "subslide"
    ]
   },
   "source": [
    "\n",
    "## Funktionen ohne Rückgabewert\n",
    "\n",
    "- Mit der `distance()`-Funktion können wir eine Funktion schreiben, die die\n",
    "  Distanz zwischen zwei Punkten ausgibt.\n",
    "- Diese Funktion gibt keinen (sinnvollen) Wert zurück.\n",
    "- Der Rückgabetyp einer derartigen Funktion ist `void`.\n",
    "- Funktionen, die `void` zurückgeben, brauchen keinen `return`-Ausdruck.\n",
    "- Wenn ein `return`-Ausdruck verwendet wird, darf er keinen Wert zurückgeben:\n",
    "  ```cpp\n",
    "  return;\n",
    "  ```"
   ]
  },
  {
   "cell_type": "code",
   "execution_count": null,
   "id": "57f7649a4e226137",
   "metadata": {
    "slideshow": {
     "slide_type": "subslide"
    },
    "tags": [
     "subslide"
    ]
   },
   "outputs": [],
   "source": [
    "#include <iostream>\n",
    "\n",
    "void print_distance(double p1x, double p1y, double p2x, double p2y)\n",
    "{\n",
    "    std::cout << \"The distance is \" << distance(p1x, p1y, p2x, p2y) << \".\\n\";\n",
    "}"
   ]
  },
  {
   "cell_type": "code",
   "execution_count": null,
   "id": "9fbf403a1d1035c4",
   "metadata": {},
   "outputs": [],
   "source": [
    "print_distance(1, 2, 4, 6);"
   ]
  },
  {
   "cell_type": "code",
   "execution_count": null,
   "id": "2107e10aaa670566",
   "metadata": {},
   "outputs": [],
   "source": [
    "print_distance(1.0, 2.0, 4.0, 6.0);"
   ]
  },
  {
   "cell_type": "markdown",
   "id": "bf1e62d7875a8e48",
   "metadata": {
    "lang": "de",
    "slideshow": {
     "slide_type": "subslide"
    },
    "tags": [
     "subslide"
    ]
   },
   "source": [
    "\n",
    "## Mini-Workshop: Party-Gäste\n",
    "\n",
    "Wenn auf einer Party mit `n` Gästen jeder Gast jeden anderen Gast begrüßt, so\n",
    "werden\n",
    "```\n",
    "n * (n - 1)\n",
    "```\n",
    "Begrüßungen ausgetauscht.\n",
    "\n",
    "- Schreiben Sie eine Funktion `int greetings(int n)`, die die Anzahl der\n",
    "  Begrüßungen für eine Party mit `n` Gästen berechnet.\n",
    "  - `greetings(12)` soll also den Wert `132` zurückgeben.\n",
    "- Schreiben Sie eine Funktion `void print_greetings(int n)`, die die Anzahl\n",
    "  der Begrüßungen für eine Party mit `n` Gästen ausgibt.\n",
    "  - `print_greetings(12)` soll den Text\n",
    "    ```\n",
    "    Auf einer Party mit 12 Gästen werden 132 Begrüßungen ausgetauscht.\n",
    "    ```\n",
    "    ausgeben."
   ]
  },
  {
   "cell_type": "code",
   "execution_count": null,
   "id": "750d5e5fa5517a64",
   "metadata": {
    "slideshow": {
     "slide_type": "subslide"
    },
    "tags": [
     "subslide"
    ]
   },
   "outputs": [],
   "source": [
    "int greetings(int n) { return n * (n - 1); }"
   ]
  },
  {
   "cell_type": "code",
   "execution_count": null,
   "id": "b6734b3a8d0007f3",
   "metadata": {
    "lang": "de",
    "slideshow": {
     "slide_type": "subslide"
    },
    "tags": [
     "subslide"
    ]
   },
   "outputs": [],
   "source": [
    "void print_greetings(int n)\n",
    "{\n",
    "    std::cout << \"Auf einer Party mit \" << n << \" Gästen werden \" << greetings(n)\n",
    "              << \" Begrüßungen ausgetauscht.\\n\";\n",
    "}"
   ]
  },
  {
   "cell_type": "code",
   "execution_count": null,
   "id": "d4495454ece7e5de",
   "metadata": {},
   "outputs": [],
   "source": [
    "std::cout << greetings(12) << \"\\n\";"
   ]
  },
  {
   "cell_type": "code",
   "execution_count": null,
   "id": "7c4d6b043924286f",
   "metadata": {},
   "outputs": [],
   "source": [
    "print_greetings(12);"
   ]
  }
 ],
 "metadata": {
  "kernelspec": {
   "display_name": "C++17",
   "language": "C++17",
   "name": "xcpp17"
  },
  "language_info": {
   "codemirror_mode": "text/x-c++src",
   "file_extension": ".cpp",
   "mimetype": "text/x-c++src",
   "name": "c++",
   "version": "17"
  }
 },
 "nbformat": 4,
 "nbformat_minor": 5
}
