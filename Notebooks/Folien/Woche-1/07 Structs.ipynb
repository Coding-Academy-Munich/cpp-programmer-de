{
 "cells": [
  {
   "cell_type": "markdown",
   "id": "a8d57874b7598112",
   "metadata": {
    "lang": "de",
    "slideshow": {
     "slide_type": "slide"
    },
    "tags": [
     "slide"
    ]
   },
   "source": [
    "\n",
    "<img src=\"data:image/png;base64,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\"\n",
    "     style=\"display:block;margin:auto;width:5%\"/>\n",
    "<br>\n",
    "\n",
    "<div style=\"text-align:center; font-size:200%;\">\n",
    " <b>Structs</b>\n",
    "</div>\n",
    "<br/>\n",
    "<div style=\"text-align:center; font-size:120%;\">Dr. Matthias Hölzl</div>\n",
    "<br/>\n",
    "<div style=\"text-align:center;\">Coding-Akademie München</div>\n",
    "<br/>\n",
    "<!-- 07 Structs.ipynb -->\n",
    "<!-- slides/module_120_basics/topic_170_structs.cpp -->"
   ]
  },
  {
   "cell_type": "markdown",
   "id": "afff0ca51ac61469",
   "metadata": {
    "lang": "de",
    "slideshow": {
     "slide_type": "slide"
    },
    "tags": [
     "slide"
    ]
   },
   "source": [
    "\n",
    "# Structs\n",
    "\n",
    "- Wir behandeln die `x` und `y` Koordinaten von Punkten als unabhängige Werte.\n",
    "- Es wäre besser sie zusammenzufassen.\n",
    "- Das können wir mit Structs (oder Klassen):"
   ]
  },
  {
   "cell_type": "code",
   "execution_count": null,
   "id": "82c79e117e883514",
   "metadata": {
    "slideshow": {
     "slide_type": "subslide"
    },
    "tags": [
     "subslide"
    ]
   },
   "outputs": [],
   "source": [
    "struct Point {\n",
    "    double x{};\n",
    "    double y{};\n",
    "}"
   ]
  },
  {
   "cell_type": "code",
   "execution_count": null,
   "id": "7e7b722d77635c96",
   "metadata": {},
   "outputs": [],
   "source": [
    "Point{1.0, 2.0}"
   ]
  },
  {
   "cell_type": "code",
   "execution_count": null,
   "id": "a4be0b1acf1321d9",
   "metadata": {},
   "outputs": [],
   "source": [
    "Point p{1.0, 2.0}"
   ]
  },
  {
   "cell_type": "code",
   "execution_count": null,
   "id": "cefe7782e6a7c296",
   "metadata": {},
   "outputs": [],
   "source": [
    "p.x"
   ]
  },
  {
   "cell_type": "code",
   "execution_count": null,
   "id": "ddc5e10c9d998623",
   "metadata": {},
   "outputs": [],
   "source": [
    "p.y"
   ]
  },
  {
   "cell_type": "markdown",
   "id": "eb6374e0d9628dc1",
   "metadata": {
    "lang": "de",
    "slideshow": {
     "slide_type": "subslide"
    },
    "tags": [
     "subslide"
    ]
   },
   "source": [
    "\n",
    "- Structs sind Datentypen, die aus mehreren Attributen bestehen.\n",
    "- Die Attribute können unterschiedliche Typen haben.\n",
    "- Structs können wie die eingebauten Datentypen verwendet werden:\n",
    " - Wir können Variablen vom Typ `Point` deklarieren.\n",
    " - Wir können `Point`-Objekte erzeugen.\n",
    " - Wir können Structs als Parameter und Rückgabetypen von Funktionen verwenden.\n",
    "- Wir können auf die Attribute zugreifen."
   ]
  },
  {
   "cell_type": "markdown",
   "id": "155ddf700a066842",
   "metadata": {
    "lang": "de",
    "slideshow": {
     "slide_type": "slide"
    },
    "tags": [
     "slide"
    ]
   },
   "source": [
    "\n",
    "## `Point` als Funktionsparameter\n",
    "\n",
    "- Wir können Structs als Parameter von Funktionen verwenden:"
   ]
  },
  {
   "cell_type": "code",
   "execution_count": null,
   "id": "2c6119004d92d304",
   "metadata": {},
   "outputs": [],
   "source": [
    "#include <iostream>\n",
    "void print(Point p)\n",
    "{\n",
    "    std::cout << \"Point{\" << p.x << \", \" << p.y << \"}\";\n",
    "}"
   ]
  },
  {
   "cell_type": "code",
   "execution_count": null,
   "id": "0cdd77be234d51b9",
   "metadata": {},
   "outputs": [],
   "source": [
    "print(p)"
   ]
  },
  {
   "cell_type": "markdown",
   "id": "a649af9b0d78ac3d",
   "metadata": {
    "lang": "de",
    "slideshow": {
     "slide_type": "subslide"
    },
    "tags": [
     "subslide"
    ]
   },
   "source": [
    "\n",
    "- Damit können wir das Interface der `distance()`-Funktion verbessern:"
   ]
  },
  {
   "cell_type": "code",
   "execution_count": null,
   "id": "05f7534758438584",
   "metadata": {},
   "outputs": [],
   "source": [
    "double distance(Point p1, Point p2)\n",
    "{\n",
    "    double dx{p2.x - p1.x};\n",
    "    double dy{p2.y - p1.y};\n",
    "    return sqrt(dx * dx + dy * dy);\n",
    "}"
   ]
  },
  {
   "cell_type": "code",
   "execution_count": null,
   "id": "ba140b69989ac28a",
   "metadata": {
    "slideshow": {
     "slide_type": "subslide"
    },
    "tags": [
     "subslide"
    ]
   },
   "outputs": [],
   "source": [
    "Point p1{1.0, 2.0};\n",
    "Point p2{4.0, 6.0};"
   ]
  },
  {
   "cell_type": "code",
   "execution_count": null,
   "id": "dbd6f64eafdd1287",
   "metadata": {},
   "outputs": [],
   "source": [
    "distance(p1, p2)"
   ]
  },
  {
   "cell_type": "code",
   "execution_count": null,
   "id": "aec5bcdc1e1e10ef",
   "metadata": {},
   "outputs": [],
   "source": [
    "distance(Point{1.0, 2.0}, Point{3.0, 4.0})"
   ]
  },
  {
   "cell_type": "markdown",
   "id": "808550db7fdeac52",
   "metadata": {
    "lang": "de",
    "slideshow": {
     "slide_type": "subslide"
    },
    "tags": [
     "subslide"
    ]
   },
   "source": [
    "\n",
    "## Verändern von Attributen\n",
    "\n",
    "- Wir können die Werte von Attributen durch Zuweisung verändern.\n",
    "- Um das Attribut `x` von `p` zu verändern schreiben wir `p.x` auf die linke\n",
    "  Seite einer Zuweisung:"
   ]
  },
  {
   "cell_type": "code",
   "execution_count": null,
   "id": "623b742a33b060d1",
   "metadata": {},
   "outputs": [],
   "source": [
    "Point p{0.0, 0.0};"
   ]
  },
  {
   "cell_type": "code",
   "execution_count": null,
   "id": "e8cbf757a20673bc",
   "metadata": {},
   "outputs": [],
   "source": [
    "print(p);"
   ]
  },
  {
   "cell_type": "code",
   "execution_count": null,
   "id": "0b9b1394af6696a0",
   "metadata": {},
   "outputs": [],
   "source": [
    "p.x = 10.0;"
   ]
  },
  {
   "cell_type": "code",
   "execution_count": null,
   "id": "008d54e262504256",
   "metadata": {},
   "outputs": [],
   "source": [
    "print(p);"
   ]
  },
  {
   "cell_type": "code",
   "execution_count": null,
   "id": "e0fda4abe3aaa8a0",
   "metadata": {},
   "outputs": [],
   "source": [
    "p.y = 20.0;\n",
    "print(p);"
   ]
  },
  {
   "cell_type": "markdown",
   "id": "5160007f5ee5ef9b",
   "metadata": {
    "lang": "de",
    "slideshow": {
     "slide_type": "subslide"
    },
    "tags": [
     "subslide"
    ]
   },
   "source": [
    "\n",
    "## Structs als Argumente\n",
    "\n",
    "- Funktionsargumente werden als Werte übergeben (d.h., kopiert).\n",
    "- Änderungen in der Funktion habe keine Auswirkung auf den übergebenen Wert.\n",
    "- Wir werden später sehen, wie wir das ändern können."
   ]
  },
  {
   "cell_type": "code",
   "execution_count": null,
   "id": "8a81da6354746d4c",
   "metadata": {},
   "outputs": [],
   "source": [
    "void does_it_change(Point p)\n",
    "{\n",
    "    p.x = 2.0 * p.x + 1.0;\n",
    "    p.y = 3.0 * p.y + 2.0;\n",
    "    print(p);\n",
    "}"
   ]
  },
  {
   "cell_type": "code",
   "execution_count": null,
   "id": "76e8f725ed9eea45",
   "metadata": {},
   "outputs": [],
   "source": [
    "print(p);"
   ]
  },
  {
   "cell_type": "code",
   "execution_count": null,
   "id": "69945aea2ccb88db",
   "metadata": {},
   "outputs": [],
   "source": [
    "does_it_change(p);"
   ]
  },
  {
   "cell_type": "code",
   "execution_count": null,
   "id": "f7fbce6e6262868f",
   "metadata": {},
   "outputs": [],
   "source": [
    "print(p);"
   ]
  },
  {
   "cell_type": "markdown",
   "id": "eb01d995a757c494",
   "metadata": {
    "lang": "de",
    "slideshow": {
     "slide_type": "subslide"
    },
    "tags": [
     "subslide"
    ]
   },
   "source": [
    "\n",
    "## Mini-Workshop: Fläche eines Rechtecks\n",
    "\n",
    "In diesem Workshop wollen wir ein Programm schreiben, das die Fläche eines\n",
    "Rechtecks unter Verwendung von C++ Structs berechnet.\n",
    "\n",
    "Definieren Sie eine Struct `Rectangle`, die die Länge (`length`) und Breite\n",
    "(`width`) speichert.\n",
    "\n",
    "Implementieren Sie eine Funktion `area()`, die ein `Rectangle` als Parameter\n",
    "entgegennimmt und die Fläche des Rechtecks berechnet. Die Fläche eines\n",
    "Rechtecks wird mit der Formel `Fläche = Länge * Breite` berechnet."
   ]
  },
  {
   "cell_type": "markdown",
   "id": "7597266cd9b294b7",
   "metadata": {
    "lang": "de",
    "slideshow": {
     "slide_type": "subslide"
    },
    "tags": [
     "subslide"
    ]
   },
   "source": [
    "\n",
    "Schreiben Sie ein Programm, das folgende Schritte ausführt:\n",
    "\n",
    "1. Einlesen der Länge und Breite eines Rechtecks von der Konsole.\n",
    "2. Speichern der eingelesenen Werte in einer Instanz des `Rectangle`-Structs.\n",
    "3. Berechnen der Fläche des Rechtecks mit der Funktion `area()`.\n",
    "4. Ausgeben der berechneten Fläche."
   ]
  },
  {
   "cell_type": "code",
   "execution_count": null,
   "id": "a0ee650c342d197c",
   "metadata": {
    "slideshow": {
     "slide_type": "subslide"
    },
    "tags": [
     "subslide"
    ]
   },
   "outputs": [],
   "source": [
    "#include <iostream>"
   ]
  },
  {
   "cell_type": "code",
   "execution_count": null,
   "id": "8f828caceda06a31",
   "metadata": {},
   "outputs": [],
   "source": [
    "struct Rectangle {\n",
    "    double length{};\n",
    "    double width{};\n",
    "};"
   ]
  },
  {
   "cell_type": "code",
   "execution_count": null,
   "id": "b94c2e3b2f611584",
   "metadata": {},
   "outputs": [],
   "source": [
    "double area(Rectangle r)\n",
    "{\n",
    "    return r.length * r.width;\n",
    "}"
   ]
  },
  {
   "cell_type": "code",
   "execution_count": null,
   "id": "6977a8eff8efb034",
   "metadata": {
    "lang": "de",
    "slideshow": {
     "slide_type": "subslide"
    },
    "tags": [
     "subslide"
    ]
   },
   "outputs": [],
   "source": [
    "Rectangle r{};\n",
    "std::cout << \"Länge: \";\n",
    "// std::cin >> r.length;\n",
    "std::cout << \"Breite: \";\n",
    "// std::cin >> r.width;\n",
    "std::cout << \"Fläche: \" << area(r) << \"\\n\";"
   ]
  }
 ],
 "metadata": {
  "kernelspec": {
   "display_name": "C++17",
   "language": "C++17",
   "name": "xcpp17"
  },
  "language_info": {
   "codemirror_mode": "text/x-c++src",
   "file_extension": ".cpp",
   "mimetype": "text/x-c++src",
   "name": "c++",
   "version": "17"
  }
 },
 "nbformat": 4,
 "nbformat_minor": 5
}
