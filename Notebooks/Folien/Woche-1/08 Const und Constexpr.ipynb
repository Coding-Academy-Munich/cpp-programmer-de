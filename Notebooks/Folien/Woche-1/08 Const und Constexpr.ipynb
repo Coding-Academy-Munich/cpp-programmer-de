{
 "cells": [
  {
   "cell_type": "markdown",
   "id": "126be553893c40a6",
   "metadata": {
    "lang": "de",
    "slideshow": {
     "slide_type": "slide"
    },
    "tags": [
     "slide"
    ]
   },
   "source": [
    "\n",
    "<img src=\"data:image/png;base64,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\"\n",
    "     style=\"display:block;margin:auto;width:5%\"/>\n",
    "<br>\n",
    "\n",
    "<div style=\"text-align:center; font-size:200%;\">\n",
    " <b>Const und Constexpr</b>\n",
    "</div>\n",
    "<br/>\n",
    "<div style=\"text-align:center; font-size:120%;\">Dr. Matthias Hölzl</div>\n",
    "<br/>\n",
    "<div style=\"text-align:center;\">Coding-Akademie München</div>\n",
    "<br/>\n",
    "<!-- 08 Const und Constexpr.ipynb -->\n",
    "<!-- slides/module_120_basics/topic_174_const.cpp -->"
   ]
  },
  {
   "cell_type": "markdown",
   "id": "09c5d85c25825d9f",
   "metadata": {
    "lang": "de",
    "slideshow": {
     "slide_type": "slide"
    },
    "tags": [
     "slide"
    ]
   },
   "source": [
    "\n",
    "# `const`\n",
    "\n",
    "- Wir können das Schlüsselwort `const` verwenden, um Konstanten zu deklarieren.\n",
    "- Konstanten können nicht verändert werden.\n",
    "- Konstanten müssen initialisiert werden."
   ]
  },
  {
   "cell_type": "code",
   "execution_count": null,
   "id": "d9d796d6a77b532b",
   "metadata": {
    "slideshow": {
     "slide_type": "subslide"
    },
    "tags": [
     "subslide"
    ]
   },
   "outputs": [],
   "source": [
    "const int answer{42};"
   ]
  },
  {
   "cell_type": "code",
   "execution_count": null,
   "id": "0bca999ae82148ee",
   "metadata": {},
   "outputs": [],
   "source": [
    "answer"
   ]
  },
  {
   "cell_type": "code",
   "execution_count": null,
   "id": "92d7e2c3ee8ab060",
   "metadata": {},
   "outputs": [],
   "source": [
    "// answer = 43;"
   ]
  },
  {
   "cell_type": "code",
   "execution_count": null,
   "id": "23bcb7bc4c50905b",
   "metadata": {},
   "outputs": [],
   "source": [
    "// const int nope;"
   ]
  },
  {
   "cell_type": "markdown",
   "id": "91844fb8e30bc7f6",
   "metadata": {
    "lang": "de",
    "slideshow": {
     "slide_type": "subslide"
    },
    "tags": [
     "subslide"
    ]
   },
   "source": [
    "\n",
    "- Konstanten können zur Laufzeit initialisiert werden:"
   ]
  },
  {
   "cell_type": "code",
   "execution_count": null,
   "id": "5b26baa03dc629f9",
   "metadata": {
    "tags": [
     "keep"
    ]
   },
   "outputs": [],
   "source": [
    "#include <iostream>\n",
    "\n",
    "int value{10};\n",
    "// std::cin >> value;"
   ]
  },
  {
   "cell_type": "code",
   "execution_count": null,
   "id": "827f3b1dceefaf88",
   "metadata": {},
   "outputs": [],
   "source": [
    "const int runtime_answer{value};"
   ]
  },
  {
   "cell_type": "code",
   "execution_count": null,
   "id": "ec0d3138fde860ea",
   "metadata": {},
   "outputs": [],
   "source": [
    "runtime_answer"
   ]
  },
  {
   "cell_type": "markdown",
   "id": "371635a8bf232ea1",
   "metadata": {
    "lang": "de",
    "slideshow": {
     "slide_type": "subslide"
    },
    "tags": [
     "subslide"
    ]
   },
   "source": [
    "\n",
    "- Eine Anwendung von Konstanten ist das Benennen von\n",
    "  Zwischenergebnissen:"
   ]
  },
  {
   "cell_type": "code",
   "execution_count": null,
   "id": "e26454c906f40b08",
   "metadata": {
    "tags": [
     "keep"
    ]
   },
   "outputs": [],
   "source": [
    "struct Point\n",
    "{\n",
    "    double x;\n",
    "    double y;\n",
    "};"
   ]
  },
  {
   "cell_type": "code",
   "execution_count": null,
   "id": "ba140b69989ac28a",
   "metadata": {
    "tags": [
     "keep"
    ]
   },
   "outputs": [],
   "source": [
    "Point p1{1.0, 2.0};\n",
    "Point p2{4.0, 6.0};"
   ]
  },
  {
   "cell_type": "code",
   "execution_count": null,
   "id": "297e6c327e8a70dd",
   "metadata": {},
   "outputs": [],
   "source": [
    "double distance(Point p1, Point p2)\n",
    "{\n",
    "    const double dx{p2.x - p1.x};\n",
    "    const double dy{p2.y - p1.y};\n",
    "    return std::sqrt(dx * dx + dy * dy);\n",
    "}"
   ]
  },
  {
   "cell_type": "code",
   "execution_count": null,
   "id": "dbd6f64eafdd1287",
   "metadata": {},
   "outputs": [],
   "source": [
    "distance(p1, p2)"
   ]
  },
  {
   "cell_type": "markdown",
   "id": "ed324267de6cb71d",
   "metadata": {
    "lang": "de",
    "slideshow": {
     "slide_type": "subslide"
    },
    "tags": [
     "subslide"
    ]
   },
   "source": [
    "\n",
    "- Unveränderliche Variablen sind ein wichtiges Werkzeug, um die Code-Qualität zu verbessern:\n",
    "- [CG Con.1: By default, make objects\n",
    "  immutable](https://isocpp.github.io/CppCoreGuidelines/CppCoreGuidelines#con1-by-default-make-objects-immutable)\n",
    "- [CG Con.4: Use const to define objects with values that do not change after\n",
    "  construction](https://isocpp.github.io/CppCoreGuidelines/CppCoreGuidelines#con4-use-const-to-define-objects-with-values-that-do-not-change-after-construction)\n",
    "- [CG ES.25: Declare an object const or constexpr unless you want to modify\n",
    "  its value later\n",
    "  on](https://isocpp.github.io/CppCoreGuidelines/CppCoreGuidelines#es25-declare-an-object-const-or-constexpr-unless-you-want-to-modify-its-value-later-on)"
   ]
  },
  {
   "cell_type": "markdown",
   "id": "634c1db86ee0d5e3",
   "metadata": {
    "lang": "de",
    "slideshow": {
     "slide_type": "subslide"
    },
    "tags": [
     "subslide"
    ]
   },
   "source": [
    "\n",
    "# `constexpr`-Variablen\n",
    "\n",
    "- `constexpr`-Variablen müssen zur Compile-Zeit initialisiert werden.\n",
    "- Der Initialisierungs-Wert muss vom Compiler ausgewertet werden können.\n",
    "- `constexpr`-Variablen sind implizit `const`."
   ]
  },
  {
   "cell_type": "code",
   "execution_count": null,
   "id": "0e8de6d6b0020c0f",
   "metadata": {},
   "outputs": [],
   "source": [
    "constexpr int compiletime_answer{42};"
   ]
  },
  {
   "cell_type": "code",
   "execution_count": null,
   "id": "3ff81606f1c71e83",
   "metadata": {},
   "outputs": [],
   "source": [
    "compiletime_answer"
   ]
  },
  {
   "cell_type": "code",
   "execution_count": null,
   "id": "8c61d18b86cc04f0",
   "metadata": {},
   "outputs": [],
   "source": [
    "// constexpr int compiletime_answer{value};"
   ]
  },
  {
   "cell_type": "code",
   "execution_count": null,
   "id": "3fa79f95bd93285f",
   "metadata": {
    "slideshow": {
     "slide_type": "subslide"
    },
    "tags": [
     "subslide"
    ]
   },
   "outputs": [],
   "source": [
    "constexpr int computed_answer{6 * 7};"
   ]
  },
  {
   "cell_type": "code",
   "execution_count": null,
   "id": "4c4eb7c9c8e322bb",
   "metadata": {},
   "outputs": [],
   "source": [
    "computed_answer"
   ]
  },
  {
   "cell_type": "markdown",
   "id": "53be6f2a28f9ff2a",
   "metadata": {
    "lang": "de",
    "slideshow": {
     "slide_type": "subslide"
    },
    "tags": [
     "subslide"
    ]
   },
   "source": [
    "\n",
    "- [CG Con.5: Use constexpr for values that can be computed at compile\n",
    "  time](https://isocpp.github.io/CppCoreGuidelines/CppCoreGuidelines#con5-use-constexpr-for-values-that-can-be-computed-at-compile-time)"
   ]
  },
  {
   "cell_type": "markdown",
   "id": "7d10cf92ccd47737",
   "metadata": {
    "lang": "de",
    "lines_to_next_cell": 2,
    "slideshow": {
     "slide_type": "subslide"
    },
    "tags": [
     "subslide"
    ]
   },
   "source": [
    "\n",
    "# `constinit`-Variablen (C++20)\n",
    "\n",
    "- `constinit`-Variablen werden zur Compile-Zeit initialisiert.\n",
    "- Sie können zur Laufzeit geändert werden.\n",
    "- Sie können nicht in einem Header deklariert werden.\n",
    "\n",
    "```cpp\n",
    "constinit int answer{42};\n",
    "answer += 1;\n",
    "```"
   ]
  },
  {
   "cell_type": "markdown",
   "id": "ff6ba1cc568ece86",
   "metadata": {
    "lang": "de",
    "slideshow": {
     "slide_type": "subslide"
    },
    "tags": [
     "subslide"
    ]
   },
   "source": [
    "\n",
    "# `constexpr`-Funktionen\n",
    "\n",
    "- `constexpr`-Funktionen sind Funktionen, die zur Compile-Zeit ausgewertet\n",
    "  werden können.\n",
    "- Sie müssen \"reine Funktionen\" sein (ohne Seiteneffekte).\n",
    "- Sie können auch zur Laufzeit ausgewertet werden."
   ]
  },
  {
   "cell_type": "code",
   "execution_count": null,
   "id": "ac0424bff7f63eea",
   "metadata": {
    "slideshow": {
     "slide_type": "subslide"
    },
    "tags": [
     "subslide"
    ]
   },
   "outputs": [],
   "source": [
    "constexpr int prod(int a, int b)\n",
    "{\n",
    "    int result{1};\n",
    "    for (int i{a}; i <= b; ++i) {\n",
    "        result *= i;\n",
    "    }\n",
    "    return result;\n",
    "}"
   ]
  },
  {
   "cell_type": "code",
   "execution_count": null,
   "id": "378b9f9663218758",
   "metadata": {},
   "outputs": [],
   "source": [
    "constexpr int prod_1_to_10{prod(1, 10)};"
   ]
  },
  {
   "cell_type": "code",
   "execution_count": null,
   "id": "05c6a509bd8278d7",
   "metadata": {
    "lines_to_next_cell": 2
   },
   "outputs": [],
   "source": [
    "prod_1_to_10"
   ]
  },
  {
   "cell_type": "code",
   "execution_count": null,
   "id": "a0ee650c342d197c",
   "metadata": {
    "slideshow": {
     "slide_type": "subslide"
    },
    "tags": [
     "subslide",
     "keep"
    ]
   },
   "outputs": [],
   "source": [
    "#include <iostream>"
   ]
  },
  {
   "cell_type": "code",
   "execution_count": null,
   "id": "fbd10739ae5657c1",
   "metadata": {},
   "outputs": [],
   "source": [
    "void print_prod(int a, int b)\n",
    "{\n",
    "    std::cout << \"prod(\" << a << \", \" << b << \") = \" << prod(a, b) << \"\\n\";\n",
    "}"
   ]
  },
  {
   "cell_type": "code",
   "execution_count": null,
   "id": "31c41b84db74d00a",
   "metadata": {},
   "outputs": [],
   "source": [
    "print_prod(1, 10)"
   ]
  },
  {
   "cell_type": "markdown",
   "id": "6fa60c46830f6fdb",
   "metadata": {
    "lang": "de",
    "lines_to_next_cell": 2,
    "slideshow": {
     "slide_type": "subslide"
    },
    "tags": [
     "subslide"
    ]
   },
   "source": [
    "\n",
    "- [CG F.4: If a function might have to be evaluated at compile time, declare\n",
    "  it\n",
    "  constexpr](https://isocpp.github.io/CppCoreGuidelines/CppCoreGuidelines#f4-if-a-function-might-have-to-be-evaluated-at-compile-time-declare-it-constexpr)"
   ]
  },
  {
   "cell_type": "markdown",
   "id": "692a5646b60f0d55",
   "metadata": {
    "lang": "de",
    "slideshow": {
     "slide_type": "subslide"
    },
    "tags": [
     "subslide"
    ]
   },
   "source": [
    "\n",
    "# `consteval`-Funktionen (C++20)\n",
    "\n",
    "- Wenn wir sicherstellen wollen, dass eine Funktion zur Compile-Zeit\n",
    "  ausgewertet wird, können wir das Schlüsselwort `consteval` verwenden:"
   ]
  },
  {
   "cell_type": "markdown",
   "id": "4bfde494069c2d19",
   "metadata": {},
   "source": [
    "```cpp\n",
    "consteval int sum(int a, int b)\n",
    "{\n",
    "    int result{0};\n",
    "    for (int i{a}; i <= b; ++i) {\n",
    "        result += i;\n",
    "    }\n",
    "    return result;\n",
    "}\n",
    "```"
   ]
  },
  {
   "cell_type": "markdown",
   "id": "10e8f533cb0e0c33",
   "metadata": {
    "slideshow": {
     "slide_type": "subslide"
    },
    "tags": [
     "subslide"
    ]
   },
   "source": [
    "```cpp\n",
    "constexpr int sum_1_to_10{sum(1, 10)};\n",
    "\n",
    "// ERROR: Cannot use sum() at runtime\n",
    "void print_sum(int a, int b)\n",
    "{\n",
    "    std::cout << \"sum(\" << a << \", \" << b << \") = \" << sum(a, b) << \"\\n\";\n",
    "}\n",
    "```"
   ]
  },
  {
   "cell_type": "markdown",
   "id": "8456ac42bf448c58",
   "metadata": {
    "lang": "de",
    "slideshow": {
     "slide_type": "subslide"
    },
    "tags": [
     "subslide"
    ]
   },
   "source": [
    "\n",
    "- Durch `consteval`- und `constexpr`-Funktionen ermöglichen viele Formen der\n",
    "  Metaprogrammierung zur Compile-Zeit.\n",
    "- Damit lassen sich manche Aufgabenstellungen, für die man in älteren\n",
    "  C++-Versionen Template-Metaprogrammierung verwenden musste einfacher lösen.\n",
    "- [CG Per.11: Move computation from run time to compile\n",
    "  time](https://isocpp.github.io/CppCoreGuidelines/CppCoreGuidelines#per11-move-computation-from-run-time-to-compile-time)\n",
    "- [CG T.123: Use constexpr functions to compute values at compile\n",
    "  time](https://isocpp.github.io/CppCoreGuidelines/CppCoreGuidelines#t123-use-constexpr-functions-to-compute-values-at-compile-time)"
   ]
  },
  {
   "cell_type": "markdown",
   "id": "b1621576df1b4f9f",
   "metadata": {
    "lang": "de",
    "slideshow": {
     "slide_type": "subslide"
    },
    "tags": [
     "subslide"
    ]
   },
   "source": [
    "\n",
    "## Mini-Workshop: Fakultät zur Compile-Zeit\n",
    "\n",
    "Die Fakultät einer Zahl `n` ist das Produkt aller natürlichen Zahlen von `1`\n",
    "bis `n`: `fact(n) = 1 * 2 * ... * n`.\n",
    "\n",
    "- Schreiben Sie eine `constexpr`-Funktion `fact`, die die Fakultät einer Zahl\n",
    "  berechnet.\n",
    "- Berechnen Sie die Fakultät von 10. Wie stellen Sie sicher, dass die\n",
    "  Berechnung zur Compile-Zeit erfolgt?"
   ]
  },
  {
   "cell_type": "code",
   "execution_count": null,
   "id": "11e10b0e23c871b7",
   "metadata": {
    "slideshow": {
     "slide_type": "subslide"
    },
    "tags": [
     "subslide"
    ]
   },
   "outputs": [],
   "source": [
    "constexpr long fact(int n)\n",
    "{\n",
    "    long result{1L};\n",
    "    for (int i{2}; i <= n; ++i) {\n",
    "        result *= i;\n",
    "    }\n",
    "    return result;\n",
    "}"
   ]
  },
  {
   "cell_type": "code",
   "execution_count": null,
   "id": "f861a1a22f3f1eb8",
   "metadata": {},
   "outputs": [],
   "source": [
    "constexpr long fact_10{fact(10)};"
   ]
  },
  {
   "cell_type": "code",
   "execution_count": null,
   "id": "a9d0443081481d53",
   "metadata": {},
   "outputs": [],
   "source": [
    "fact_10"
   ]
  }
 ],
 "metadata": {
  "kernelspec": {
   "display_name": "C++17",
   "language": "C++17",
   "name": "xcpp17"
  },
  "language_info": {
   "codemirror_mode": "text/x-c++src",
   "file_extension": ".cpp",
   "mimetype": "text/x-c++src",
   "name": "c++",
   "version": "17"
  }
 },
 "nbformat": 4,
 "nbformat_minor": 5
}
