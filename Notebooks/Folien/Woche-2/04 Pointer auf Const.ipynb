{
 "cells": [
  {
   "cell_type": "markdown",
   "id": "acfedc747908b43e",
   "metadata": {
    "lang": "de",
    "slideshow": {
     "slide_type": "slide"
    },
    "tags": [
     "slide"
    ]
   },
   "source": [
    "\n",
    "<img src=\"data:image/png;base64,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\"\n",
    "     style=\"display:block;margin:auto;width:5%\"/>\n",
    "<br>\n",
    "\n",
    "<div style=\"text-align:center; font-size:200%;\">\n",
    " <b>Pointer auf Const</b>\n",
    "</div>\n",
    "<br/>\n",
    "<div style=\"text-align:center; font-size:120%;\">Dr. Matthias Hölzl</div>\n",
    "<br/>\n",
    "<div style=\"text-align:center;\">Coding-Akademie München</div>\n",
    "<br/>\n",
    "<!-- 04 Pointer auf Const.ipynb -->\n",
    "<!-- slides/module_130_pointers/topic_140_pointer_to_const.cpp -->"
   ]
  },
  {
   "cell_type": "markdown",
   "id": "9bcb03624517391f",
   "metadata": {
    "lang": "de",
    "slideshow": {
     "slide_type": "subslide"
    },
    "tags": [
     "subslide"
    ]
   },
   "source": [
    "\n",
    "Wir können Objekte, auf die ein Pointer zeigt verändern:"
   ]
  },
  {
   "cell_type": "code",
   "execution_count": null,
   "id": "261b33b8452cc151",
   "metadata": {},
   "outputs": [],
   "source": [
    "int i{1};\n",
    "int* pi{&i};"
   ]
  },
  {
   "cell_type": "code",
   "execution_count": null,
   "id": "a6148ac21e9a8a29",
   "metadata": {},
   "outputs": [],
   "source": [
    "*pi = 10;"
   ]
  },
  {
   "cell_type": "code",
   "execution_count": null,
   "id": "ca0e1bce24fbaf26",
   "metadata": {},
   "outputs": [],
   "source": [
    "i"
   ]
  },
  {
   "cell_type": "markdown",
   "id": "e908f57829f51c7d",
   "metadata": {
    "lang": "de",
    "slideshow": {
     "slide_type": "subslide"
    },
    "tags": [
     "subslide"
    ]
   },
   "source": [
    "\n",
    "Wenn wir das verhindern wollen, können wir einen Pointer auf `const`\n",
    "erzeugen:"
   ]
  },
  {
   "cell_type": "code",
   "execution_count": null,
   "id": "1159fcec51f0fcb1",
   "metadata": {},
   "outputs": [],
   "source": [
    "const int i{1};\n",
    "const int* pci{&i};"
   ]
  },
  {
   "cell_type": "code",
   "execution_count": null,
   "id": "982722a9df72c1f4",
   "metadata": {},
   "outputs": [],
   "source": [
    "*pci"
   ]
  },
  {
   "cell_type": "code",
   "execution_count": null,
   "id": "ea03b91f1870211a",
   "metadata": {},
   "outputs": [],
   "source": [
    "// *pi = 10;"
   ]
  },
  {
   "cell_type": "markdown",
   "id": "f34090cf1d2f8f7f",
   "metadata": {
    "lang": "de",
    "slideshow": {
     "slide_type": "subslide"
    },
    "tags": [
     "subslide"
    ]
   },
   "source": [
    "\n",
    "- Wir können auch einen `const T*` Pointer auf ein Objekt erzeugen, das nicht\n",
    "  konstant ist.\n",
    "- Das ist eine Ausnahme von der Regl, dass ein Pointer `T*` auf ein Objekt\n",
    "  vom Typ `T` zeigen muss."
   ]
  },
  {
   "cell_type": "code",
   "execution_count": null,
   "id": "9e7ffb87d8c09bf7",
   "metadata": {
    "slideshow": {
     "slide_type": "subslide"
    },
    "tags": [
     "subslide"
    ]
   },
   "outputs": [],
   "source": [
    "int i{1};\n",
    "const int* pci{&i};"
   ]
  },
  {
   "cell_type": "code",
   "execution_count": null,
   "id": "b8bf0a87c3894d66",
   "metadata": {},
   "outputs": [],
   "source": [
    "*pci"
   ]
  },
  {
   "cell_type": "code",
   "execution_count": null,
   "id": "d11efc730ba04b6c",
   "metadata": {},
   "outputs": [],
   "source": [
    "i = 2;"
   ]
  },
  {
   "cell_type": "code",
   "execution_count": null,
   "id": "0dee5ccd097aaac8",
   "metadata": {},
   "outputs": [],
   "source": [
    "*pci"
   ]
  },
  {
   "cell_type": "code",
   "execution_count": null,
   "id": "0c27ed04fb2955cb",
   "metadata": {},
   "outputs": [],
   "source": [
    "// *pci = 3;"
   ]
  },
  {
   "cell_type": "markdown",
   "id": "567aac276fd05ecb",
   "metadata": {
    "lang": "de",
    "slideshow": {
     "slide_type": "subslide"
    },
    "tags": [
     "subslide"
    ]
   },
   "source": [
    "\n",
    "- Ein Pointer vom Typ `T*` kann nicht auf ein Objekt vom Typ `const T`\n",
    "  zeigen:"
   ]
  },
  {
   "cell_type": "code",
   "execution_count": null,
   "id": "509a6f61ce0999dc",
   "metadata": {},
   "outputs": [],
   "source": [
    "const int i{1};"
   ]
  },
  {
   "cell_type": "code",
   "execution_count": null,
   "id": "5f92dd8c138fcd7c",
   "metadata": {},
   "outputs": [],
   "source": [
    "// int* pi{&i};"
   ]
  },
  {
   "cell_type": "code",
   "execution_count": null,
   "id": "5cb7e40c1c422afa",
   "metadata": {},
   "outputs": [],
   "source": [
    "const int* pci{&i};"
   ]
  },
  {
   "cell_type": "code",
   "execution_count": null,
   "id": "c7510bde8a308031",
   "metadata": {
    "lines_to_next_cell": 2
   },
   "outputs": [],
   "source": [
    "*pci"
   ]
  },
  {
   "cell_type": "markdown",
   "id": "ada4577d471e42f5",
   "metadata": {
    "lang": "de",
    "slideshow": {
     "slide_type": "subslide"
    },
    "tags": [
     "subslide"
    ]
   },
   "source": [
    "\n",
    "- Ein Pointer auf Const ist selber *nicht* `const`.\n",
    "- Er kann modifiziert werden, so dass er auf ein anderes Objekt zeigt.\n",
    "- Man sagt, das `const` ist **low-level**."
   ]
  },
  {
   "cell_type": "code",
   "execution_count": null,
   "id": "900c0f652ad3c359",
   "metadata": {
    "tss": [
     "subslide"
    ]
   },
   "outputs": [],
   "source": [
    "int j{10};\n",
    "pci = &j;\n",
    "*pci"
   ]
  },
  {
   "cell_type": "markdown",
   "id": "e30d9fe9b7fd9f71",
   "metadata": {
    "lang": "de",
    "slideshow": {
     "slide_type": "subslide"
    },
    "tags": [
     "subslide"
    ]
   },
   "source": [
    "\n",
    "## Mini-Workshop: Pointer auf Const\n",
    "\n",
    "Gegeben seien die folgenden Variablen:"
   ]
  },
  {
   "cell_type": "code",
   "execution_count": null,
   "id": "f8fccb32bdbffb91",
   "metadata": {
    "tags": [
     "keep"
    ]
   },
   "outputs": [],
   "source": [
    "int i{1};\n",
    "const int ci{2};"
   ]
  },
  {
   "cell_type": "code",
   "execution_count": null,
   "id": "1ba27e183d51c436",
   "metadata": {
    "tags": [
     "keep"
    ]
   },
   "outputs": [],
   "source": [
    "int* pi{};\n",
    "const int* pci{};"
   ]
  },
  {
   "cell_type": "markdown",
   "id": "31ea868a16fe913d",
   "metadata": {
    "lang": "de"
   },
   "source": [
    "\n",
    "Welche der folgenden Ausdrücke sind gültig? Warum?"
   ]
  },
  {
   "cell_type": "code",
   "execution_count": null,
   "id": "2313839f9063d0d9",
   "metadata": {
    "slideshow": {
     "slide_type": "subslide"
    },
    "tags": [
     "keep",
     "subslide"
    ]
   },
   "outputs": [],
   "source": [
    "// pi = &i;"
   ]
  },
  {
   "cell_type": "code",
   "execution_count": null,
   "id": "325d6cee3c3cdbc8",
   "metadata": {
    "tags": [
     "keep"
    ]
   },
   "outputs": [],
   "source": [
    "// pi = &ci;"
   ]
  },
  {
   "cell_type": "code",
   "execution_count": null,
   "id": "2acec38b68fdac36",
   "metadata": {
    "tags": [
     "keep"
    ]
   },
   "outputs": [],
   "source": [
    "// pci = &i;"
   ]
  },
  {
   "cell_type": "code",
   "execution_count": null,
   "id": "23d0b32eb2069df4",
   "metadata": {
    "tags": [
     "keep"
    ]
   },
   "outputs": [],
   "source": [
    "// pci = &ci;"
   ]
  },
  {
   "cell_type": "code",
   "execution_count": null,
   "id": "bc60b0911de303ea",
   "metadata": {
    "slideshow": {
     "slide_type": "subslide"
    },
    "tags": [
     "keep",
     "subslide"
    ]
   },
   "outputs": [],
   "source": [
    "// *pi = 3;"
   ]
  },
  {
   "cell_type": "code",
   "execution_count": null,
   "id": "6e2dac5e37c1dcc4",
   "metadata": {
    "tags": [
     "keep"
    ]
   },
   "outputs": [],
   "source": [
    "// *pci = 4;"
   ]
  },
  {
   "cell_type": "markdown",
   "id": "98f6ae7ec36cf8b3",
   "metadata": {
    "lang": "de"
   },
   "source": [
    "\n",
    "Hängt die Korrektheit des letzten Ausdrucks davon ab, ob `pci` auf ein Objekt\n",
    "vom Typ `const int` zeigt?"
   ]
  },
  {
   "cell_type": "markdown",
   "id": "e677c1923db80b93",
   "metadata": {
    "lang": "de",
    "tags": [
     "answer"
    ]
   },
   "source": [
    "*Antwort:* \n",
    "Nein, Modifikationen über einen Pointer auf const sind immer ungültig."
   ]
  }
 ],
 "metadata": {
  "kernelspec": {
   "display_name": "C++17",
   "language": "C++17",
   "name": "xcpp17"
  },
  "language_info": {
   "codemirror_mode": "text/x-c++src",
   "file_extension": ".cpp",
   "mimetype": "text/x-c++src",
   "name": "c++",
   "version": "17"
  }
 },
 "nbformat": 4,
 "nbformat_minor": 5
}
