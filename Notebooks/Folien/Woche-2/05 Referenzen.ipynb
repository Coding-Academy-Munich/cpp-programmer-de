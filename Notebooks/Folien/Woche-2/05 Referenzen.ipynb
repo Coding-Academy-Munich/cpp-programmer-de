{
 "cells": [
  {
   "cell_type": "markdown",
   "id": "5f3c0aa3423b170f",
   "metadata": {
    "lang": "de",
    "slideshow": {
     "slide_type": "slide"
    },
    "tags": [
     "slide"
    ]
   },
   "source": [
    "\n",
    "<img src=\"data:image/png;base64,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\"\n",
    "     style=\"display:block;margin:auto;width:5%\"/>\n",
    "<br>\n",
    "\n",
    "<div style=\"text-align:center; font-size:200%;\">\n",
    " <b>Referenzen</b>\n",
    "</div>\n",
    "<br/>\n",
    "<div style=\"text-align:center; font-size:120%;\">Dr. Matthias Hölzl</div>\n",
    "<br/>\n",
    "<div style=\"text-align:center;\">Coding-Akademie München</div>\n",
    "<br/>\n",
    "<!-- 05 Referenzen.ipynb -->\n",
    "<!-- slides/module_130_pointers/topic_160_references.cpp -->"
   ]
  },
  {
   "cell_type": "markdown",
   "id": "31fb26497485cfda",
   "metadata": {
    "lang": "de",
    "slideshow": {
     "slide_type": "subslide"
    },
    "tags": [
     "subslide"
    ]
   },
   "source": [
    "\n",
    "## Referenzen\n",
    "\n",
    "- Eine **Referenz** (Lvalue-Referenz) ist ein Verweis auf ein anderes Objekt.\n",
    "- Syntax: `T&` für eine Referenz auf ein Objekt vom Typ `T`.\n",
    "- Anwendungsfälle ähnlich wie Pointer.\n",
    "- Referenzen sind keine Objekte.\n",
    "  - In manchen Fällen muss der Compiler keinen Speicher reservieren.\n",
    "  - Dennoch ist der erzeugte Maschinencode für Pointer und Referenzen meist\n",
    "    ähnlich."
   ]
  },
  {
   "cell_type": "code",
   "execution_count": null,
   "id": "b76974fcf6719b60",
   "metadata": {
    "slideshow": {
     "slide_type": "subslide"
    },
    "tags": [
     "subslide"
    ]
   },
   "outputs": [],
   "source": [
    "int i{1};\n",
    "int& ri{i};"
   ]
  },
  {
   "cell_type": "code",
   "execution_count": null,
   "id": "ca0e1bce24fbaf26",
   "metadata": {},
   "outputs": [],
   "source": [
    "i"
   ]
  },
  {
   "cell_type": "code",
   "execution_count": null,
   "id": "fdfd719e08ba639b",
   "metadata": {},
   "outputs": [],
   "source": [
    "ri"
   ]
  },
  {
   "cell_type": "code",
   "execution_count": null,
   "id": "dbb5d639ee577295",
   "metadata": {},
   "outputs": [],
   "source": [
    "ri = 2"
   ]
  },
  {
   "cell_type": "code",
   "execution_count": null,
   "id": "cc1b506eaf469f87",
   "metadata": {
    "lines_to_next_cell": 2
   },
   "outputs": [],
   "source": [
    "i"
   ]
  },
  {
   "cell_type": "markdown",
   "id": "52cc3d6eb320bc79",
   "metadata": {
    "lang": "de",
    "slideshow": {
     "slide_type": "subslide"
    },
    "tags": [
     "subslide"
    ]
   },
   "source": [
    "\n",
    "### Unterschiede zu Pointern:\n",
    "\n",
    "- Keine explizite Syntax zum Nehmen der Adresse und Dereferenzieren.\n",
    "- Kein \"Reseating\":\n",
    "  - Keine Möglichkeit zum Verändern des Objekts, auf das die Referenz\n",
    "    verweist.\n",
    "  - Jede Änderung an der Referenz ändert das referenzierte Objekt.\n",
    "- Muss gültigen Wert enthalten:\n",
    "  - Keine \"Null-Referenz\".\n",
    "  - Keine uninitialisierte Referenz."
   ]
  },
  {
   "cell_type": "code",
   "execution_count": null,
   "id": "8f5b62d2e899aaad",
   "metadata": {
    "slideshow": {
     "slide_type": "subslide"
    },
    "tags": [
     "subslide",
     "keep"
    ]
   },
   "outputs": [],
   "source": [
    "int i{1};\n",
    "int& ri{i};\n",
    "int* pi;"
   ]
  },
  {
   "cell_type": "code",
   "execution_count": null,
   "id": "a0ee650c342d197c",
   "metadata": {
    "tags": [
     "keep"
    ]
   },
   "outputs": [],
   "source": [
    "#include <iostream>"
   ]
  },
  {
   "cell_type": "code",
   "execution_count": null,
   "id": "3ee8aa27f8d926bf",
   "metadata": {},
   "outputs": [],
   "source": [
    "pi = nullptr;"
   ]
  },
  {
   "cell_type": "code",
   "execution_count": null,
   "id": "4888ba771b556d30",
   "metadata": {},
   "outputs": [],
   "source": [
    "if (!pi) {\n",
    "    std::cout << \"pi is null\\n\";\n",
    "}"
   ]
  },
  {
   "cell_type": "code",
   "execution_count": null,
   "id": "ee65d93a0182b445",
   "metadata": {
    "lines_to_next_cell": 2
   },
   "outputs": [],
   "source": [
    "pi = &i;"
   ]
  },
  {
   "cell_type": "markdown",
   "id": "4681705df11035be",
   "metadata": {
    "lang": "de",
    "slideshow": {
     "slide_type": "subslide"
    },
    "tags": [
     "subslide"
    ]
   },
   "source": [
    "\n",
    "## Referenzen auf const\n",
    "\n",
    "- Syntax: `const T& cr{c}`.\n",
    "- `c` kann durch `cr` nicht verändert werden.\n",
    "- `c` muss nicht const sein.\n",
    "- Aber **über `cr`** kann `c` nicht verändert werden.\n",
    "- Referenzen auf const werden häufig für Funktionsparameter verwendet."
   ]
  },
  {
   "cell_type": "code",
   "execution_count": null,
   "id": "31c7c52cc2b88757",
   "metadata": {
    "slideshow": {
     "slide_type": "subslide"
    },
    "tags": [
     "subslide"
    ]
   },
   "outputs": [],
   "source": [
    "int i{1};\n",
    "const int& rci{i};"
   ]
  },
  {
   "cell_type": "code",
   "execution_count": null,
   "id": "221ccce9c3960d20",
   "metadata": {},
   "outputs": [],
   "source": [
    "rci"
   ]
  },
  {
   "cell_type": "code",
   "execution_count": null,
   "id": "d11efc730ba04b6c",
   "metadata": {},
   "outputs": [],
   "source": [
    "i = 2;"
   ]
  },
  {
   "cell_type": "code",
   "execution_count": null,
   "id": "0d032cb94b792eb4",
   "metadata": {},
   "outputs": [],
   "source": [
    "rci"
   ]
  },
  {
   "cell_type": "markdown",
   "id": "e7abd62663aa226e",
   "metadata": {
    "lang": "de",
    "slideshow": {
     "slide_type": "subslide"
    },
    "tags": [
     "subslide"
    ]
   },
   "source": [
    "\n",
    "## Mini-Workshop: Reference auf Structs\n",
    "\n",
    "Gegeben seien die beiden Punkte `p1` und `p2`:"
   ]
  },
  {
   "cell_type": "code",
   "execution_count": null,
   "id": "fd07d7cce7ac5725",
   "metadata": {
    "tags": [
     "keep"
    ]
   },
   "outputs": [],
   "source": [
    "struct Point {\n",
    "    double x;\n",
    "    double y;\n",
    "};"
   ]
  },
  {
   "cell_type": "code",
   "execution_count": null,
   "id": "509100494767782a",
   "metadata": {
    "tags": [
     "keep"
    ]
   },
   "outputs": [],
   "source": [
    "#include <iostream>"
   ]
  },
  {
   "cell_type": "code",
   "execution_count": null,
   "id": "d719240bbe9971bb",
   "metadata": {
    "tags": [
     "keep"
    ]
   },
   "outputs": [],
   "source": [
    "void print(Point p)\n",
    "{\n",
    "    std::cout << \"Point{\" << p.x << \", \" << p.y << \"}\\n\";\n",
    "}"
   ]
  },
  {
   "cell_type": "code",
   "execution_count": null,
   "id": "9246510dca6ec553",
   "metadata": {
    "tags": [
     "keep"
    ]
   },
   "outputs": [],
   "source": [
    "Point p1{1.0, 2.0};\n",
    "Point p2{3.0, 4.0};"
   ]
  },
  {
   "cell_type": "markdown",
   "id": "014e7959f5778292",
   "metadata": {
    "lang": "de",
    "slideshow": {
     "slide_type": "subslide"
    },
    "tags": [
     "subslide"
    ]
   },
   "source": [
    "\n",
    "Definieren Sie eine Variable `rp1` vom Typ `Point&`, die `p1` referenziert."
   ]
  },
  {
   "cell_type": "code",
   "execution_count": null,
   "id": "7996961c24ac5f02",
   "metadata": {},
   "outputs": [],
   "source": [
    "Point& rp1{p1};"
   ]
  },
  {
   "cell_type": "markdown",
   "id": "baca48570b3ef2f3",
   "metadata": {
    "lang": "de"
   },
   "source": [
    "\n",
    "Verwenden Sie `rp1` um die Werte von `p1.x` und `p1.y` auf dem Bildschirm\n",
    "auszugeben."
   ]
  },
  {
   "cell_type": "code",
   "execution_count": null,
   "id": "f1e0fc7d9a9a57f5",
   "metadata": {},
   "outputs": [],
   "source": [
    "std::cout << rp1.x << \", \" << rp1.y << \"\\n\";"
   ]
  },
  {
   "cell_type": "markdown",
   "id": "e00d5e816a82b3a4",
   "metadata": {
    "lang": "de",
    "slideshow": {
     "slide_type": "subslide"
    },
    "tags": [
     "subslide"
    ]
   },
   "source": [
    "\n",
    "Verwenden Sie `rp1` um die Werte von `p1.x` und `p1.y` auf die Werte 10.0 und\n",
    "20.0 zu setzen."
   ]
  },
  {
   "cell_type": "code",
   "execution_count": null,
   "id": "3491998e37a23091",
   "metadata": {},
   "outputs": [],
   "source": [
    "rp1.x = 10.0;\n",
    "rp1.y = 20.0;"
   ]
  },
  {
   "cell_type": "code",
   "execution_count": null,
   "id": "3507f539b146fdf2",
   "metadata": {
    "tags": [
     "keep"
    ]
   },
   "outputs": [],
   "source": [
    "print(p1);\n",
    "print(p2);"
   ]
  },
  {
   "cell_type": "markdown",
   "id": "25368284136ac72d",
   "metadata": {
    "lang": "de",
    "slideshow": {
     "slide_type": "subslide"
    },
    "tags": [
     "subslide"
    ]
   },
   "source": [
    "\n",
    "Können Sie `rp1` verwenden um `p2.x` und `p2.y` auf die Werte 30.0 und 40.0\n",
    "zu setzen? Warum (nicht)?"
   ]
  },
  {
   "cell_type": "markdown",
   "id": "408a72c581e0a3c2",
   "metadata": {
    "lang": "de",
    "tags": [
     "answer"
    ]
   },
   "source": [
    "*Antwort:* \n",
    "Nein, weil `rp1` eine Referenz auf `p1` ist und der Wert, auf den `rp1`\n",
    "verweist nicht geändert werden kann."
   ]
  }
 ],
 "metadata": {
  "kernelspec": {
   "display_name": "C++17",
   "language": "C++17",
   "name": "xcpp17"
  },
  "language_info": {
   "codemirror_mode": "text/x-c++src",
   "file_extension": ".cpp",
   "mimetype": "text/x-c++src",
   "name": "c++",
   "version": "17"
  }
 },
 "nbformat": 4,
 "nbformat_minor": 5
}
