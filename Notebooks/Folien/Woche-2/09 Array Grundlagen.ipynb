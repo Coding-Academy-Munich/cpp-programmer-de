{
 "cells": [
  {
   "cell_type": "markdown",
   "id": "47fac3fa4846db00",
   "metadata": {
    "lang": "de",
    "slideshow": {
     "slide_type": "slide"
    },
    "tags": [
     "slide"
    ]
   },
   "source": [
    "\n",
    "<img src=\"data:image/png;base64,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\"\n",
    "     style=\"display:block;margin:auto;width:5%\"/>\n",
    "<br>\n",
    "\n",
    "<div style=\"text-align:center; font-size:200%;\">\n",
    " <b>Array Grundlagen</b>\n",
    "</div>\n",
    "<br/>\n",
    "<div style=\"text-align:center; font-size:120%;\">Dr. Matthias Hölzl</div>\n",
    "<br/>\n",
    "<div style=\"text-align:center;\">Coding-Akademie München</div>\n",
    "<br/>\n",
    "<!-- 09 Array Grundlagen.ipynb -->\n",
    "<!-- slides/module_140_collections/topic_110_array_basics.cpp -->"
   ]
  },
  {
   "cell_type": "markdown",
   "id": "a1ffe5654b1374c0",
   "metadata": {
    "lang": "de",
    "slideshow": {
     "slide_type": "slide"
    },
    "tags": [
     "slide"
    ]
   },
   "source": [
    "\n",
    "# Arrays in C++\n",
    "\n",
    "- Zusammenhängender Speicherbereich\n",
    "- Speichert Elemente des gleichen Datentyps\n",
    "- Feste Größe, zur Kompilierzeit bestimmt\n",
    "- Indizierung beginnt bei 0"
   ]
  },
  {
   "cell_type": "markdown",
   "id": "a45f001f24fd1943",
   "metadata": {
    "lang": "de",
    "slideshow": {
     "slide_type": "subslide"
    },
    "tags": [
     "subslide"
    ]
   },
   "source": [
    "\n",
    "## Definition von Arrays\n",
    "\n",
    "- Syntax: `T name[size]`.\n",
    "- Größe ist Teil des Typs, muss zur Kompilierzeit bekannt sein.\n",
    "- Definition mit oder ohne Initialwerte möglich.\n",
    "- Lokale Arrays werden auf dem Stack gespeichert."
   ]
  },
  {
   "cell_type": "markdown",
   "id": "3fd59181325a4122",
   "metadata": {
    "lang": "de",
    "lines_to_next_cell": 2,
    "slideshow": {
     "slide_type": "subslide"
    },
    "tags": [
     "subslide"
    ]
   },
   "source": [
    "\n",
    "### Ohne Initialwerte\n",
    "\n",
    "- Größe muss angegeben werden.\n",
    "- Elemente werden nicht initialisiert."
   ]
  },
  {
   "cell_type": "code",
   "execution_count": null,
   "id": "b7d33284bf884e03",
   "metadata": {},
   "outputs": [],
   "source": [
    "int numbers[5];"
   ]
  },
  {
   "cell_type": "markdown",
   "id": "cbe689d173abf684",
   "metadata": {
    "lang": "de",
    "slideshow": {
     "slide_type": "subslide"
    },
    "tags": [
     "subslide"
    ]
   },
   "source": [
    "\n",
    "### Mit Initialwerten\n",
    "\n",
    "- Initialwerte als Initialisierungsliste angeben.\n",
    "- Größe wird automatisch bestimmt."
   ]
  },
  {
   "cell_type": "code",
   "execution_count": null,
   "id": "55be6acf3698c139",
   "metadata": {},
   "outputs": [],
   "source": [
    "int numbers[]{1, 2, 3, 4, 5};"
   ]
  },
  {
   "cell_type": "markdown",
   "id": "60c8d75a348b418a",
   "metadata": {
    "lang": "de",
    "slideshow": {
     "slide_type": "subslide"
    },
    "tags": [
     "subslide"
    ]
   },
   "source": [
    "\n",
    "### Teilweise Initialisierung\n",
    "\n",
    "- Nicht alle Werte müssen angegeben werden.\n",
    "- In diesem Fall muss die Größe angegeben werden.\n",
    "- Restliche Elemente werden automatisch mit 0 initialisiert, wenn weniger\n",
    "  Werte angegeben werden."
   ]
  },
  {
   "cell_type": "code",
   "execution_count": null,
   "id": "2852ed5f362a2cc0",
   "metadata": {},
   "outputs": [],
   "source": [
    "// First three elements initialized, others set to 0\n",
    "int numbers[5]{1, 2, 3};"
   ]
  },
  {
   "cell_type": "code",
   "execution_count": null,
   "id": "ddbbf79713ecc2a9",
   "metadata": {},
   "outputs": [],
   "source": [
    "int numbers[5]{};"
   ]
  },
  {
   "cell_type": "markdown",
   "id": "847041070765da54",
   "metadata": {
    "lang": "de",
    "lines_to_next_cell": 2,
    "slideshow": {
     "slide_type": "subslide"
    },
    "tags": [
     "subslide"
    ]
   },
   "source": [
    "\n",
    "## Zugriff auf Elemente\n",
    "\n",
    "- Zugriff auf Elemente mittels Index.\n",
    "- Syntax: `array[index]`.\n",
    "- Indizes beginnen bei 0.\n",
    "- Zugriff auf nicht existierende Elemente führt zu undefiniertem Verhalten.\n",
    "- Zugriff auf Elemente ist schnell."
   ]
  },
  {
   "cell_type": "code",
   "execution_count": null,
   "id": "89d494b7e84e567e",
   "metadata": {},
   "outputs": [],
   "source": [
    "int first_number = numbers[0];"
   ]
  },
  {
   "cell_type": "code",
   "execution_count": null,
   "id": "ce32bf4f7fb6342d",
   "metadata": {},
   "outputs": [],
   "source": [
    "numbers[1] = 42;"
   ]
  },
  {
   "cell_type": "markdown",
   "id": "2b932359f6d68f7f",
   "metadata": {
    "lang": "de",
    "slideshow": {
     "slide_type": "subslide"
    },
    "tags": [
     "subslide"
    ]
   },
   "source": [
    "\n",
    "## Modifikation von Arrays\n",
    "\n",
    "- Es gibt keine Operationen zur Modifikation des gesamten Arrays.\n",
    "- Z.B. `array_1 = array_2` ist nicht möglich."
   ]
  },
  {
   "cell_type": "markdown",
   "id": "6500c75696c0c47c",
   "metadata": {
    "lang": "de",
    "slideshow": {
     "slide_type": "subslide"
    },
    "tags": [
     "subslide"
    ]
   },
   "source": [
    "\n",
    "## Iteration über Arrays\n",
    "\n",
    "- Schleifen zur Iteration über Elemente:\n",
    "  - Range-based for loop\n",
    "  - Indexierte for-Schleife\n",
    "- Range-based for loop immer verwenden, wenn möglich."
   ]
  },
  {
   "cell_type": "markdown",
   "id": "4baba3ca2be82029",
   "metadata": {
    "lang": "de",
    "slideshow": {
     "slide_type": "subslide"
    },
    "tags": [
     "subslide"
    ]
   },
   "source": [
    "\n",
    "### Range-based For Loop\n",
    "\n",
    "- Iteriert über alle Elemente eines Arrays.\n",
    "- Syntax: `for (T element : array) { ... }`"
   ]
  },
  {
   "cell_type": "code",
   "execution_count": null,
   "id": "a0ee650c342d197c",
   "metadata": {},
   "outputs": [],
   "source": [
    "#include <iostream>"
   ]
  },
  {
   "cell_type": "code",
   "execution_count": null,
   "id": "1819d6b4e58ddea5",
   "metadata": {},
   "outputs": [],
   "source": [
    "for (int number : numbers) {\n",
    "    std::cout << number << \" \";\n",
    "}"
   ]
  },
  {
   "cell_type": "markdown",
   "id": "5e7d36f5ce6bfbeb",
   "metadata": {
    "lang": "de",
    "slideshow": {
     "slide_type": "subslide"
    },
    "tags": [
     "subslide"
    ]
   },
   "source": [
    "\n",
    "### Indexierte For-Schleife\n",
    "\n",
    "- Iteriert über alle Indizes eines Arrays.\n",
    "- Zugriff auf Elemente mittels Index.\n",
    "- Syntax: `for (std::size_t i{0}; i < size; ++i) { ... }`\n",
    "- Problem: Größe muss bekannt sein."
   ]
  },
  {
   "cell_type": "code",
   "execution_count": null,
   "id": "1875b93e6a2da901",
   "metadata": {},
   "outputs": [],
   "source": [
    "for (std::size_t i{0}; i < 5; ++i) {\n",
    "    std::cout << numbers[i] << \" \";\n",
    "}"
   ]
  },
  {
   "cell_type": "markdown",
   "id": "d5c6fa0ea161ffc2",
   "metadata": {
    "lang": "de",
    "lines_to_next_cell": 2,
    "slideshow": {
     "slide_type": "subslide"
    },
    "tags": [
     "subslide"
    ]
   },
   "source": [
    "\n",
    "## Übergeben von Arrays als Funktionsargumenten\n",
    "\n",
    "- Array-Typen können als Parametertypen verwendet werden.\n",
    "- Aber: Arrays können nicht als Wert übergeben werden.\n",
    "- Werden als Zeiger behandelt."
   ]
  },
  {
   "cell_type": "code",
   "execution_count": null,
   "id": "8249b9f9114f751b",
   "metadata": {
    "slideshow": {
     "slide_type": "subslide"
    },
    "tags": [
     "keep",
     "subslide"
    ]
   },
   "outputs": [],
   "source": [
    "// void print_array_5(int arr[5])\n",
    "// {\n",
    "//     for (int elt : arr) {\n",
    "//         std::cout << elt << \" \";\n",
    "//     }\n",
    "// }"
   ]
  },
  {
   "cell_type": "code",
   "execution_count": null,
   "id": "2aa067449a731a1c",
   "metadata": {},
   "outputs": [],
   "source": [
    "void print_array_5(int arr[5])\n",
    "{\n",
    "    for (std::size_t i{0}; i < 5; ++i) {\n",
    "        std::cout << arr[i] << \" \";\n",
    "    }\n",
    "}"
   ]
  },
  {
   "cell_type": "code",
   "execution_count": null,
   "id": "9f158bc0b5869680",
   "metadata": {
    "tags": [
     "keep"
    ]
   },
   "outputs": [],
   "source": [
    "int numbers[]{1, 2, 3, 4, 5};"
   ]
  },
  {
   "cell_type": "code",
   "execution_count": null,
   "id": "647803ac0b4daa48",
   "metadata": {},
   "outputs": [],
   "source": [
    "print_array_5(numbers);"
   ]
  },
  {
   "cell_type": "code",
   "execution_count": null,
   "id": "e2529febddce3f8a",
   "metadata": {
    "slideshow": {
     "slide_type": "subslide"
    },
    "tags": [
     "keep",
     "subslide"
    ]
   },
   "outputs": [],
   "source": [
    "void inc_array_5(int arr[5])\n",
    "{\n",
    "    for (std::size_t i{0}; i < 5; ++i) {\n",
    "        ++arr[i];\n",
    "    }\n",
    "}"
   ]
  },
  {
   "cell_type": "code",
   "execution_count": null,
   "id": "da7debb7b6089fa7",
   "metadata": {},
   "outputs": [],
   "source": [
    "inc_array_5(numbers);\n",
    "print_array_5(numbers);"
   ]
  },
  {
   "cell_type": "markdown",
   "id": "b10b49c514c3c56d",
   "metadata": {
    "lang": "de",
    "slideshow": {
     "slide_type": "subslide"
    },
    "tags": [
     "subslide"
    ]
   },
   "source": [
    "\n",
    "- Typ `array[]` ist \"unvollständiger Typ.\"\n",
    "- Wird beim Funktionsaufruf wie ein Zeiger behandelt.\n",
    "- Größe des Arrays geht verloren.\n",
    "  - Sentinel-Wert\n",
    "  - Größe des Arrays als zusätzlicher Parameter"
   ]
  },
  {
   "cell_type": "code",
   "execution_count": null,
   "id": "f64caee4b31cde48",
   "metadata": {
    "tags": [
     "keep"
    ]
   },
   "outputs": [],
   "source": [
    "void print_array_incomplete(int arr[], std::size_t size)\n",
    "{\n",
    "    for (std::size_t i{0}; i < size; ++i) {\n",
    "        std::cout << arr[i] << \" \";\n",
    "    }\n",
    "}"
   ]
  },
  {
   "cell_type": "code",
   "execution_count": null,
   "id": "1e1f7629fcbe49bf",
   "metadata": {
    "tags": [
     "keep"
    ]
   },
   "outputs": [],
   "source": [
    "int numbers[]{1, 2, 3, 4, 5};"
   ]
  },
  {
   "cell_type": "code",
   "execution_count": null,
   "id": "007c217e3be43f90",
   "metadata": {},
   "outputs": [],
   "source": [
    "print_array_incomplete(numbers, 5);"
   ]
  },
  {
   "cell_type": "markdown",
   "id": "936d7956c7129505",
   "metadata": {
    "lang": "de",
    "slideshow": {
     "slide_type": "subslide"
    },
    "tags": [
     "subslide"
    ]
   },
   "source": [
    "\n",
    "- Ein Array kann implizit in einen Zeiger auf das erste Element konvertiert\n",
    "  werden (\"decay\").\n",
    "- Größe des Arrays geht verloren."
   ]
  },
  {
   "cell_type": "code",
   "execution_count": null,
   "id": "0b05acbe1780ed47",
   "metadata": {
    "slideshow": {
     "slide_type": "subslide"
    },
    "tags": [
     "keep",
     "subslide"
    ]
   },
   "outputs": [],
   "source": [
    "void print_array(int* arr, std::size_t size)\n",
    "{\n",
    "    for (std::size_t i{0}; i < size; ++i) {\n",
    "        std::cout << arr[i] << \" \";\n",
    "    }\n",
    "}"
   ]
  },
  {
   "cell_type": "code",
   "execution_count": null,
   "id": "03bfd30ace888345",
   "metadata": {
    "tags": [
     "keep"
    ]
   },
   "outputs": [],
   "source": [
    "int numbers[]{1, 2, 3, 4, 5};"
   ]
  },
  {
   "cell_type": "code",
   "execution_count": null,
   "id": "5be2b94758a37ef6",
   "metadata": {},
   "outputs": [],
   "source": [
    "print_array(numbers, 5);"
   ]
  },
  {
   "cell_type": "markdown",
   "id": "19da1b7510c5a824",
   "metadata": {
    "lang": "de",
    "slideshow": {
     "slide_type": "subslide"
    },
    "tags": [
     "subslide"
    ]
   },
   "source": [
    "\n",
    "## Arrays und Zeiger\n",
    "\n",
    "- Arrays und Zeiger sind eng miteinander verwandt.\n",
    "- Arrays können implizit in Zeiger konvertiert werden.\n",
    "- Zeiger unterstützen Addition und Subtraktion."
   ]
  },
  {
   "cell_type": "code",
   "execution_count": null,
   "id": "8d42fd6c4b9d1bbd",
   "metadata": {
    "slideshow": {
     "slide_type": "subslide"
    },
    "tags": [
     "subslide"
    ]
   },
   "outputs": [],
   "source": [
    "numbers[0]"
   ]
  },
  {
   "cell_type": "code",
   "execution_count": null,
   "id": "275bce24a001604c",
   "metadata": {},
   "outputs": [],
   "source": [
    "&numbers[0] == numbers"
   ]
  },
  {
   "cell_type": "code",
   "execution_count": null,
   "id": "28c34e2cff67f881",
   "metadata": {},
   "outputs": [],
   "source": [
    "&numbers[1] == numbers + 1"
   ]
  },
  {
   "cell_type": "code",
   "execution_count": null,
   "id": "19631c6bb466aa84",
   "metadata": {},
   "outputs": [],
   "source": [
    "std::cout << (numbers[1] == *(numbers + 1));"
   ]
  },
  {
   "cell_type": "code",
   "execution_count": null,
   "id": "dfd08b985af0b3fb",
   "metadata": {
    "slideshow": {
     "slide_type": "subslide"
    },
    "tags": [
     "subslide"
    ]
   },
   "outputs": [],
   "source": [
    "&numbers[2] == numbers + 2"
   ]
  },
  {
   "cell_type": "code",
   "execution_count": null,
   "id": "996cbd596def4d1e",
   "metadata": {},
   "outputs": [],
   "source": [
    "numbers + 2 == 2 + numbers"
   ]
  },
  {
   "cell_type": "code",
   "execution_count": null,
   "id": "a1b403f24cc8272e",
   "metadata": {},
   "outputs": [],
   "source": [
    "2[numbers]"
   ]
  },
  {
   "cell_type": "markdown",
   "id": "11e03ac3b28959d3",
   "metadata": {
    "lang": "de",
    "slideshow": {
     "slide_type": "subslide"
    },
    "tags": [
     "subslide"
    ]
   },
   "source": [
    "\n",
    "## Mini-Workshop: Arrays\n",
    "\n",
    "- Schreiben Sie eine Funktion `max()`, die das größte Element eines Arrays\n",
    "  von `unsigned int`-Werten zurückgibt."
   ]
  },
  {
   "cell_type": "code",
   "execution_count": null,
   "id": "d96eecb2fc8c79f9",
   "metadata": {
    "slideshow": {
     "slide_type": "subslide"
    },
    "tags": [
     "subslide"
    ]
   },
   "outputs": [],
   "source": [
    "unsigned max(const unsigned* arr, std::size_t size)\n",
    "{\n",
    "    unsigned result{0};\n",
    "    for (std::size_t i{0}; i < size; ++i) {\n",
    "        if (arr[i] > result) {\n",
    "            result = arr[i];\n",
    "        }\n",
    "    }\n",
    "    return result;\n",
    "}"
   ]
  },
  {
   "cell_type": "code",
   "execution_count": null,
   "id": "d5d5de205fe2a527",
   "metadata": {
    "slideshow": {
     "slide_type": "subslide"
    },
    "tags": [
     "subslide",
     "keep"
    ]
   },
   "outputs": [],
   "source": [
    "unsigned values[]{1, 8, 3, 5, 2, 9, 4, 7, 6};"
   ]
  },
  {
   "cell_type": "code",
   "execution_count": null,
   "id": "c73d321b8b3f58c5",
   "metadata": {
    "lines_to_next_cell": 2
   },
   "outputs": [],
   "source": [
    "max(values, 9)"
   ]
  },
  {
   "cell_type": "markdown",
   "id": "bf53d0862bd13e58",
   "metadata": {
    "lang": "de",
    "slideshow": {
     "slide_type": "subslide"
    },
    "tags": [
     "subslide"
    ]
   },
   "source": [
    "\n",
    "- Schreiben Sie eine Funktion `add()`, die zwei Arrays der gleichen Länge\n",
    "  elementweise addiert.\n",
    "- Welche Argumente müssen Sie an die Funktion übergeben?"
   ]
  },
  {
   "cell_type": "code",
   "execution_count": null,
   "id": "9558a81dcd334a81",
   "metadata": {
    "slideshow": {
     "slide_type": "subslide"
    },
    "tags": [
     "subslide"
    ]
   },
   "outputs": [],
   "source": [
    "void add(const int* a, const int* b, int* c, std::size_t size)\n",
    "{\n",
    "    for (std::size_t i{0}; i < size; ++i) {\n",
    "        c[i] = a[i] + b[i];\n",
    "    }\n",
    "}"
   ]
  },
  {
   "cell_type": "code",
   "execution_count": null,
   "id": "7a977003cd95159a",
   "metadata": {
    "slideshow": {
     "slide_type": "subslide"
    },
    "tags": [
     "subslide",
     "keep"
    ]
   },
   "outputs": [],
   "source": [
    "int a1[]{1, 2};\n",
    "int a2[]{10, 20};\n",
    "int a3[2];"
   ]
  },
  {
   "cell_type": "code",
   "execution_count": null,
   "id": "f0188d8765b1276b",
   "metadata": {},
   "outputs": [],
   "source": [
    "add(a1, a2, a3, 2);\n",
    "a3"
   ]
  },
  {
   "cell_type": "code",
   "execution_count": null,
   "id": "c1f17e44f894b52a",
   "metadata": {
    "slideshow": {
     "slide_type": "subslide"
    },
    "tags": [
     "subslide",
     "keep"
    ]
   },
   "outputs": [],
   "source": [
    "int b1[]{1, 2, 3, 4, 5};\n",
    "int b2[]{5, 4, 3, 2, 1};\n",
    "int b3[5];"
   ]
  },
  {
   "cell_type": "code",
   "execution_count": null,
   "id": "38eb241d8ac9ac9a",
   "metadata": {},
   "outputs": [],
   "source": [
    "add(b1, b2, b3, 5);\n",
    "b3"
   ]
  },
  {
   "cell_type": "markdown",
   "id": "b28181a422116b25",
   "metadata": {
    "lang": "de",
    "slideshow": {
     "slide_type": "subslide"
    },
    "tags": [
     "subslide"
    ]
   },
   "source": [
    "\n",
    "- Schreiben Sie eine Funktion `reverse()`, die ein Array in-place umdreht."
   ]
  },
  {
   "cell_type": "code",
   "execution_count": null,
   "id": "1434616b79137e60",
   "metadata": {
    "slideshow": {
     "slide_type": "subslide"
    },
    "tags": [
     "subslide"
    ]
   },
   "outputs": [],
   "source": [
    "void reverse(int* arr, std::size_t size)\n",
    "{\n",
    "    for (std::size_t i{0}; i < size / 2; ++i) {\n",
    "        std::swap(arr[i], arr[size - i - 1]);\n",
    "    }\n",
    "}"
   ]
  },
  {
   "cell_type": "code",
   "execution_count": null,
   "id": "43533f18879afe26",
   "metadata": {
    "slideshow": {
     "slide_type": "subslide"
    },
    "tags": [
     "subslide",
     "keep"
    ]
   },
   "outputs": [],
   "source": [
    "int c[]{1, 2, 3, 4, 5};"
   ]
  },
  {
   "cell_type": "code",
   "execution_count": null,
   "id": "43510d02e2aadd4c",
   "metadata": {},
   "outputs": [],
   "source": [
    "reverse(c, 5);"
   ]
  },
  {
   "cell_type": "code",
   "execution_count": null,
   "id": "d77fb1a25346cfae",
   "metadata": {},
   "outputs": [],
   "source": [
    "c"
   ]
  }
 ],
 "metadata": {
  "kernelspec": {
   "display_name": "C++17",
   "language": "C++17",
   "name": "xcpp17"
  },
  "language_info": {
   "codemirror_mode": "text/x-c++src",
   "file_extension": ".cpp",
   "mimetype": "text/x-c++src",
   "name": "c++",
   "version": "17"
  }
 },
 "nbformat": 4,
 "nbformat_minor": 5
}
