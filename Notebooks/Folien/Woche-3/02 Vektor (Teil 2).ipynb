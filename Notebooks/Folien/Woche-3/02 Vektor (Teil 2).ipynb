{
 "cells": [
  {
   "cell_type": "markdown",
   "id": "cb8eee85e6577c69",
   "metadata": {
    "lang": "de",
    "slideshow": {
     "slide_type": "slide"
    },
    "tags": [
     "slide"
    ]
   },
   "source": [
    "\n",
    "<img src=\"data:image/png;base64,iVBORw0KGgoAAAANSUhEUgAAAEAAAABACAYAAACqaXHeAAAABHNCSVQICAgIfAhkiAAAAAlwSFlzAAACkwAAApMBv+Bu1wAAABl0RVh0U29mdHdhcmUAd3d3Lmlua3NjYXBlLm9yZ5vuPBoAAAumSURBVHic1Vt7WFRlGv99ZwYGZoABVGCQS2gqqVikbImauanrqm31aNaz1SYhdtu85LqumTjenloto9ZWS+yiWZZPW7aaaWghXjC8cF0uclHuAwwwA3Ofc779A0HGGZgzZway318z53u/93vP73zn/d73O99L8Ctg6QcF8yjBK5TQSYRCSihKAOw3e/vv+iQpxjiYtpDBHOy5vXljRCzZAWBuHyK1lNB16Usm7AchdDBsGhQCXvx3fpBVjDUAVgLw5tElk+GY5R+8MD5vgE0bWAKUSsrUDs9/mlCyHUCIi905gB6ghFmdnhKnGgj7gAEkYOkHhTMo4dIATHBTVTuAN32Mvmn/WjbK5AHTbOBxApI+KogUW7mtAHnGw6rLALJqz9K4I55U6jECntmXJ/M1YDUlZA0AH0/pdYAMgFuxZ+k9RZ5Q5j4BlJKlHxYsBPA2JYh03yResFBCd1nF3IZPkuLb3VHkFgEpHxYmAFwagER39LiBVoBuag8s3Xlo0SJWiAJBBDy393K42CreQAmWAGCE6PAsaC5AVuxZOiHT1Z4uEbByxznfTj+/ZQDWAfB3dbCBBz1CCZalp9xdxbcHbwKSd+c9zDDkXQAxgmwbPJgpobs5RvL6R8mxHc6EnRKQnJ4bTyiTRige8Ix9g4Z6SrAxoi4uXakkXF9CfRLw8s7iISaJOZVQ8jIAkbvWyKVi3BXuhzvDZAgLlCDIzwsy7y61OjOLTqMV9W0mVDcbUFLfiYZ2j8U8OV3+Ie6co0aHBKR8WDAfoPsBBLozMiHAvTFyPBAbjNhwPxAXPE5tqxHnr7bhdHErTJY+HyBfcAC2D6+Pe+3W2WBn0o2l7Qz4JS19YkKUPxber0CYXOKOGnQarTie34KMghawnHsJIiVEmZ4St7H3NQcE5GcDuE/oIFKJCM9MG46JMXKhKhyiRm3Ex5k1qFUL2y4ws2zxycJyU217+8M4kFLbfd3m3V6yJy+GgGwXaqQiSIK/zx+BkaEyoSr6hFwqRuLoYKg0JjS08fcPlEJ18Vpt3vH8snitwaQASDUKvrvQ3S7uLUwoGSnUwOhhvlgxJwYyH7f9ZZ/wEhEs/X0UvvStx6kitTNxY7Vak32qqDzBwrJTeq5yuLO3kA0BDEfFHON6cBgWKMHyOXcM6M13gxDgicRwdJpY/FLuOA3QGU05R/NKwzR644MOmm2MFDsQcAk+Xgxenh0NPx+3VfEGAbB4egRatGZUNul7rrMsV5lZUtVW0aRO4KvL7Tj+icRwhLrp6YVAzBAkPRgBLzEDULQV1TWe/jjrYnRFk3qiS3rcMWKUQobE0UEu99MZWZSrdGjVWWC2cpD7eiFqqA/Cg1zbRhjq741RIZKi1w6dVRjMVkGRqlsELEgIcymbqmzS47tLKpTU6cBR+zU9VC7BrAlDMXVMEBgnUVNJfac2Jf10+5mShnEumm0DwQSMVsgwIlTKS5bjKL7KbsBPRWr0F8qoNCZ8llWHs6VteH5mFIJlXnYyzVqzZdt/CyveOnolFkCAMOtvQrAPmBobzEuOoxS7M6pxysnN90ZVkx5vHq6AusPcc81o4egXZ6sropZ9wd24eY9A0AwQiwji7+BH/rc5KuRe17o8RrvOgvdPXMfaR0biYlWb6s87T4mvNWsFxyl9QRABI0KkkIidT57GdhNOFLQIGQIAUNmkK/rd+iPi3OvNYwQrcQJhBPB894/lNoMTkMBQioaL12orc6/XJ4I69rNiEYNRYV2zsLjOPiDy8RIhJsQfFiuHclXfM1AQAQoe6z7LUeRVuzz19TXq9pyTRRWTbMJXBwgJ8MH/ti8AADBP7cWti8r4yCDkbHkEje0GKF76vE89gggIdOCdb0WjxgS9ifdGLdUYjdnHckujOgym6f0JMoTAz0cMP5+bNvjf+N1htEDEMJB6iyCTdN0aIUCAb1e71mCx0yeIAImX8/e/XWc/mCNYWbY4o7DcUtOqmcxHfmLMUPyy5U821zR7/wIAiPzrQUyMGYpvV83saQuV+/a0i576yC7+GLAAnjgJkSioKq/katnFopIh1C8I8B78cBoQSACfLSq5rE/VlvrmlvM/Zl2IN1st0wAAGjUgEuVAPiQcIvHw/vReqmqBPHkfwgKlKH17YddYyfsAdL0CjRoD5Mn7EH/HEPy8fh5UGgNGv3oIABxGn4IIaOMxvRWBEsh8RNAZb/oBnd6Q8/3pc6Ht2g77uJ1lE9DapIe3JBMBwZNAiMNdFY5SaA0W+PnctKHDaOlxglaWg9bAQWeyAgAodfzud0MQAY08dmwZQjAhKgDny9rAclzl6ZzLreXXa52lqVKYTdOhbmyA1D8XUr9E9LFx26Q1YuzqrwHAbgUAgMKaNoxd/TUs1v5nqyACKnrl4P1hXnwI+8nxy+fOXMyfzFE6gvcAlCqg0yqg7yhSREeIG3SsXSBkZTmH6383jBa23/ZuCMoFqpr0vPxASIC3aMqdftM4SgURfXdMyLiKnU+P+eqlKaqwAInTPTAhEESAlaW4co1fkLMlaQYem+J67hIxLACHNz0BX4kYj0+NDS3d8Xjw1kfHVXiJGY+eEhGcDWaVtvIbgBAcSl2IlQvu4/1hZPLYCJx/NwnRoTe31gOkEvLaovtHFv/zUebJiYoSITY7tE9ox6sNOpSr+PkCEUOw44XZyH4vGXMSRkIscjzs2OhhSH91PrLeWYyIYY6zzZGKIK8vVs2NzVw7Szte4Vct1P5u2DyT53fnzeEYcoxnXxoVJCpct+CuOOLKNy8ArR0GnCuqRXWTBnqTBYpgP0wcrUBs5FCX9FisHJLeOVp04FKjAgzDb4OCYhcOLnmp+68g52SxsEU/nsumdarmOIVsPpL/GO9S/2B/X8y/f5SQoW1Q2dCG/2QWjoOJbYNUehoyeSJcvCeXhDlKGy8VFlfklpT1pKkrdp3AlPGRLj89d2GysHh222EYugKeIOh1D0BvqESAvBUS30l89fD1AYaahsbMfd8c9c8tLpvSO0fvNJjxSOpXaNbw8weeAKXA4u2HcaGk7pYWbgS0bZPQqsoBa6nho8uGAI4h1lvH6ujszDp4NEP9Q1b2dIvV6jA8LatVY87az9EyCCRwlGLZ+z/g4E/9nJJj2QS0NodCqz4PSnW3tvb+Y0MAJbSi+7eFtZb8kHU+/+D3GdM6dJ0Rzgy7fLUB01Z+ior6Nl43IgQGkxWLNn+NnYdz+Ih7w2SajJYGHXTabODGniyD8t5Cdu47afeVo4VlFZKL+cUPUlCXP/bJZRLsXj4PT85wa7veDpevNmDx9u9QUNUkTAFhShAQaAbjPxeHnu15d+zXr1lbJoFyZ+HmAYk5CSPx9vOzMDZ6mDtq0KzRY9uX5/DuNxecJjZOQbABP6Zusr3kCDM3zgPIZ3DziAxDCB6bGouUufGYee8IiFz48nylvBGfnshD+rEr0Bn57S71Aw7ANkzl1kGp7P+ITA/+oAwGx2wAhUcOSYUEyvBQfAymxUUhNnIIokLkCPL3ASEErVoDWrR6FFY14dLVBpy8cg1ltR7LfXJAsRwnU887anT+SGYp7wFl0gD0u1l5G6IewFpkrN8P9F19wn9Ozt74MLjfxEFJA0Dfg8FnK86ucf+gpA0eV3qjXfQiKN2M2/KoLI6AIctwYr3nj8raYJYyHJTZANwuh6VxBQyzAideP+1qR/fqBR7alACGpoGSX+u4vBqEbEbgmJ04NIjH5W1BCWZtWghK3gIQ5b4+XrCAYBeodyoy/qFxR5HnaoZmb5eB068GBqFkhsUK/JR6m5TM3IrZWyLB0a0A9XzRFCWrcHL97Vk0ZYeHNs4AYdIA6n7ZHCFvQixPw7Flt3/ZnA2USgZnmKcBCCycJAfAsH/DCaXADMg5Bqd2eN4bQTCZ1wCEb+nszxBhBY6n/rZLZ+0wY/MYiGjfxdMEtaBY5yx89SQGl4BudGWbrwCYBEAKkGIAn8HK7sLPykEtn/8/zE19fO7n0IAAAAAASUVORK5CYII=\"\n",
    "     style=\"display:block;margin:auto;width:5%\"/>\n",
    "<br>\n",
    "\n",
    "<div style=\"text-align:center; font-size:200%;\">\n",
    " <b>Vektor (Teil 2)</b>\n",
    "</div>\n",
    "<br/>\n",
    "<div style=\"text-align:center; font-size:120%;\">Dr. Matthias Hölzl</div>\n",
    "<br/>\n",
    "<div style=\"text-align:center;\">Coding-Akademie München</div>\n",
    "<br/>\n",
    "<!-- 02 Vektor (Teil 2).ipynb -->\n",
    "<!-- slides/module_140_collections/topic_154_vector_part2.cpp -->"
   ]
  },
  {
   "cell_type": "markdown",
   "id": "ce8a95addd56c67a",
   "metadata": {
    "lang": "de",
    "slideshow": {
     "slide_type": "subslide"
    },
    "tags": [
     "subslide"
    ]
   },
   "source": [
    "\n",
    "## Pfade\n",
    "\n",
    "- Wir können uns jetzt wieder unserem Beispiel zuwenden.\n",
    "- Um einen Pfad zu speichern, können wir einen Vektor von `Point`-Objekten\n",
    "  verwenden:"
   ]
  },
  {
   "cell_type": "code",
   "execution_count": null,
   "id": "8e1ad791ecbae8f2",
   "metadata": {
    "tags": [
     "keep"
    ]
   },
   "outputs": [],
   "source": [
    "#include \"point.hpp\""
   ]
  },
  {
   "cell_type": "markdown",
   "id": "1575ec49235a16f8",
   "metadata": {
    "lang": "de"
   },
   "source": [
    "\n",
    "Dieser Header definiert die folgende Struktur:\n",
    "\n",
    "```cpp\n",
    "struct Point {\n",
    "    double x;\n",
    "    double y;\n",
    "    double z;\n",
    "};\n",
    "```\n",
    "\n",
    "Außerdem definiert er Funktionen zum Anzeigen von Punkten und Vektoren von\n",
    "Punkten in Notebooks, sowie zum Ausgeben auf `std::cout`."
   ]
  },
  {
   "cell_type": "code",
   "execution_count": null,
   "id": "627d2df138b49a8f",
   "metadata": {
    "slideshow": {
     "slide_type": "subslide"
    },
    "tags": [
     "keep",
     "subslide"
    ]
   },
   "outputs": [],
   "source": [
    "Point p1{1.0, 2.0, 3.0};\n",
    "Point p2{2.0, 3.0, 4.0};\n",
    "Point p3{3.0, 4.0, 5.0};"
   ]
  },
  {
   "cell_type": "code",
   "execution_count": null,
   "id": "905ed1873c2125be",
   "metadata": {},
   "outputs": [],
   "source": [
    "p1"
   ]
  },
  {
   "cell_type": "code",
   "execution_count": null,
   "id": "2c9b9c819951e52f",
   "metadata": {},
   "outputs": [],
   "source": [
    "std::cout << p1;"
   ]
  },
  {
   "cell_type": "code",
   "execution_count": null,
   "id": "fd52e9455f687e07",
   "metadata": {
    "tags": [
     "keep"
    ]
   },
   "outputs": [],
   "source": [
    "std::vector<Point> path{p1, p2, p3};"
   ]
  },
  {
   "cell_type": "code",
   "execution_count": null,
   "id": "9633f94703e75b14",
   "metadata": {},
   "outputs": [],
   "source": [
    "path"
   ]
  },
  {
   "cell_type": "code",
   "execution_count": null,
   "id": "6a8593aa09f4b7bd",
   "metadata": {
    "tags": [
     "keep"
    ]
   },
   "outputs": [],
   "source": [
    "std::vector<Point>{ {1, 2, 3}, {2, 3, 4}, {3, 4, 5} }"
   ]
  },
  {
   "cell_type": "code",
   "execution_count": null,
   "id": "f2d3e1d17e7df124",
   "metadata": {
    "tags": [
     "keep"
    ]
   },
   "outputs": [],
   "source": [
    "std::cout << path;"
   ]
  },
  {
   "cell_type": "markdown",
   "id": "826341bb36058c84",
   "metadata": {
    "lang": "de",
    "slideshow": {
     "slide_type": "subslide"
    },
    "tags": [
     "subslide"
    ]
   },
   "source": [
    "\n",
    "- Vektoren werden \"by value\" an Funktionen übergeben und von Funktionen\n",
    "  zurückgegeben."
   ]
  },
  {
   "cell_type": "code",
   "execution_count": null,
   "id": "a0ee650c342d197c",
   "metadata": {
    "slideshow": {
     "slide_type": "subslide"
    },
    "tags": [
     "keep",
     "subslide"
    ]
   },
   "outputs": [],
   "source": [
    "#include <iostream>"
   ]
  },
  {
   "cell_type": "code",
   "execution_count": null,
   "id": "79a7dd54a0c32ba3",
   "metadata": {
    "tags": [
     "keep"
    ]
   },
   "outputs": [],
   "source": [
    "void call_by_value(std::vector<Point> path)\n",
    "{\n",
    "    path.push_back({4, 5, 6});\n",
    "    path[0] = {-1, -2, -3};\n",
    "    std::cout << path << \"\\n\";\n",
    "}"
   ]
  },
  {
   "cell_type": "code",
   "execution_count": null,
   "id": "8bb8e724b6a155a8",
   "metadata": {
    "tags": [
     "keep"
    ]
   },
   "outputs": [],
   "source": [
    "path"
   ]
  },
  {
   "cell_type": "code",
   "execution_count": null,
   "id": "d7594dbc70eb73e5",
   "metadata": {
    "tags": [
     "keep"
    ]
   },
   "outputs": [],
   "source": [
    "call_by_value(path);"
   ]
  },
  {
   "cell_type": "code",
   "execution_count": null,
   "id": "2b55ec474fabbf0c",
   "metadata": {
    "lines_to_next_cell": 2,
    "tags": [
     "keep"
    ]
   },
   "outputs": [],
   "source": [
    "path"
   ]
  },
  {
   "cell_type": "markdown",
   "id": "213054756ab54316",
   "metadata": {
    "lang": "de",
    "slideshow": {
     "slide_type": "subslide"
    },
    "tags": [
     "subslide"
    ]
   },
   "source": [
    "\n",
    "- Wir können Vektoren als `const vector<T>&` übergeben, um sie nicht kopieren\n",
    "  zu müssen:"
   ]
  },
  {
   "cell_type": "code",
   "execution_count": null,
   "id": "28822c90ac85d55e",
   "metadata": {
    "tags": [
     "keep"
    ]
   },
   "outputs": [],
   "source": [
    "void print_path(const std::vector<Point>& path)\n",
    "{\n",
    "    std::cout << \"Path:\\n\";\n",
    "    for (const Point& p : path) {\n",
    "        std::cout << \"  \" << p << \"\\n\";\n",
    "    }\n",
    "}"
   ]
  },
  {
   "cell_type": "code",
   "execution_count": null,
   "id": "431709c84aa8f2de",
   "metadata": {},
   "outputs": [],
   "source": [
    "print_path(path);"
   ]
  },
  {
   "cell_type": "markdown",
   "id": "94f1709a2c91590b",
   "metadata": {
    "lang": "de",
    "slideshow": {
     "slide_type": "subslide"
    },
    "tags": [
     "subslide"
    ]
   },
   "source": [
    "\n",
    "- Wenn wir den Vektor verändern wollen übergeben wir ihn als `vector<T>&`:"
   ]
  },
  {
   "cell_type": "code",
   "execution_count": null,
   "id": "86804db2f24a0197",
   "metadata": {
    "tags": [
     "keep"
    ]
   },
   "outputs": [],
   "source": [
    "bool read_next_point(std::vector<Point>& path)\n",
    "{\n",
    "    std::cout << \"Enter next point (x y z): \";\n",
    "    Point p;\n",
    "    std::cin >> p.x >> p.y >> p.z;\n",
    "    if (!std::cin) {\n",
    "        return false;\n",
    "    }\n",
    "    path.push_back(p);\n",
    "    return true;\n",
    "}"
   ]
  },
  {
   "cell_type": "code",
   "execution_count": null,
   "id": "753e7bf6a6d17a65",
   "metadata": {
    "slideshow": {
     "slide_type": "subslide"
    },
    "tags": [
     "keep",
     "subslide"
    ]
   },
   "outputs": [],
   "source": [
    "std::vector<Point> path{p1, p2, p3};"
   ]
  },
  {
   "cell_type": "code",
   "execution_count": null,
   "id": "89eb0628b26c0c7c",
   "metadata": {
    "tags": [
     "keep"
    ]
   },
   "outputs": [],
   "source": [
    "// read_next_point(path)"
   ]
  },
  {
   "cell_type": "code",
   "execution_count": null,
   "id": "d37bc013d692f87b",
   "metadata": {},
   "outputs": [],
   "source": [
    "path"
   ]
  },
  {
   "cell_type": "markdown",
   "id": "ccd43082883f96b2",
   "metadata": {
    "lang": "de",
    "slideshow": {
     "slide_type": "subslide"
    },
    "tags": [
     "subslide"
    ]
   },
   "source": [
    "\n",
    "- Typischerweise geben wir Vektoren als Werte zurück.\n",
    "- Seit C++11 ist das effizient möglich.\n",
    "  - Move Semantik\n",
    "  - Return Value Optimization (RVO)\n",
    "- In älteren C++-Versionen wird der Vektor kopiert.\n",
    "  - Daher gibt man oft einen Pointer zurück.\n",
    "  - Damit muss man sich aber um die Speicherverwaltung kümmern."
   ]
  },
  {
   "cell_type": "code",
   "execution_count": null,
   "id": "9740ec5b8c260a3f",
   "metadata": {
    "tags": [
     "keep"
    ]
   },
   "outputs": [],
   "source": [
    "std::vector<Point> read_path()\n",
    "{\n",
    "    std::vector<Point> path{};\n",
    "    while (read_next_point(path));\n",
    "    return path;\n",
    "}"
   ]
  },
  {
   "cell_type": "code",
   "execution_count": null,
   "id": "6020b67a0ff7273a",
   "metadata": {
    "slideshow": {
     "slide_type": "subslide"
    },
    "tags": [
     "keep",
     "subslide"
    ]
   },
   "outputs": [],
   "source": [
    "// path = read_path();"
   ]
  },
  {
   "cell_type": "code",
   "execution_count": null,
   "id": "3a4109eabaf85c42",
   "metadata": {
    "lines_to_next_cell": 2
   },
   "outputs": [],
   "source": [
    "print_path(path);"
   ]
  },
  {
   "cell_type": "markdown",
   "id": "5ff7ad3899cc8b3d",
   "metadata": {
    "lang": "de",
    "slideshow": {
     "slide_type": "subslide"
    },
    "tags": [
     "subslide"
    ]
   },
   "source": [
    "\n",
    "## Mini-Workshop: Regen-Daten\n",
    "\n",
    "Ein Meteorologe möchte die Gesamtmenge an Regen für mehrere\n",
    "aufeinanderfolgende Monate analysieren. Schreiben Sie ein Programm, das die\n",
    "Regendaten (in mm) für jeden Monat vom Benutzer einliest und in einem Vektor\n",
    "speichert. Berechnen und drucken Sie den Gesamtniederschlag während des\n",
    "Zeitraums, den durchschnittlichen monatlichen Niederschlag und die Indizes\n",
    "der Monate mit dem höchsten und dem niedrigsten Niederschlag."
   ]
  },
  {
   "cell_type": "markdown",
   "id": "27e2ecc8b7ce7734",
   "metadata": {
    "lang": "de",
    "slideshow": {
     "slide_type": "subslide"
    },
    "tags": [
     "subslide"
    ]
   },
   "source": [
    "\n",
    "Strukturieren Sie Ihr Programm in Funktionen, so dass jede eine klar\n",
    "definierte Aufgabe erfüllt:\n",
    "\n",
    "- `read_data()`: Liest die Regendaten vom Benutzer ein.\n",
    "- `calculate_total()`: Berechnet und gibt den Gesamtniederschlag zurück.\n",
    "- `calculate_mean()`: Berechnet und gibt den durchschnittlichen Niederschlag\n",
    "  zurück.\n",
    "- `calculate_min_indices()`: Berechnet und gibt die Indizes der Monate mit\n",
    "   dem geringsten Niederschlag zurück.\n",
    "- `calculate_max_indices()`: Berechnet und gibt die Indizes der Monate mit\n",
    "   dem höchsten Niederschlag zurück."
   ]
  },
  {
   "cell_type": "markdown",
   "id": "c61a2db0365ec138",
   "metadata": {
    "lang": "de",
    "slideshow": {
     "slide_type": "subslide"
    },
    "tags": [
     "subslide"
    ]
   },
   "source": [
    "\n",
    "### Hinweise:\n",
    "\n",
    "- Verwenden Sie `std::vector<double>` um die Regendaten zu speichern.\n",
    "- Sie können `std::numeric_limits<double>::max()` und\n",
    "  `std::numeric_limits<double>::lowest()` als Startwerte für die Berechnung\n",
    "  des minimalen und maximalen Niederschlags verwenden.\n",
    "  [Hier](https://en.cppreference.com/w/cpp/types/numeric_limits) finden Sie\n",
    "  weitere Informationen zu `std::numeric_limits`.\n",
    "- Beachten Sie, dass es mehrere Monate geben kann, in denen der minimale oder\n",
    "  maximale Niederschlag erreicht wird und dass die entsprechenden Funktionen\n",
    "  daher Vektoren zurückgeben sollten."
   ]
  },
  {
   "cell_type": "code",
   "execution_count": null,
   "id": "305d3c655539af95",
   "metadata": {
    "lines_to_next_cell": 2,
    "slideshow": {
     "slide_type": "subslide"
    },
    "tags": [
     "subslide",
     "keep"
    ]
   },
   "outputs": [],
   "source": [
    "std::vector<double> data{2.0, 1.0, 5.0, 1.0, 2.0, 3.0, 4.0, 5.0, 5.0, 4.0};"
   ]
  },
  {
   "cell_type": "code",
   "execution_count": null,
   "id": "172fede368a6a7d4",
   "metadata": {
    "slideshow": {
     "slide_type": "subslide"
    },
    "tags": [
     "subslide"
    ]
   },
   "outputs": [],
   "source": [
    "std::vector<double> read_data()\n",
    "{\n",
    "    std::vector<double> data;\n",
    "    while (true) {\n",
    "        std::cout << \"Enter rainfall (mm): \";\n",
    "        double d;\n",
    "        std::cin >> d;\n",
    "        if (!std::cin) {\n",
    "            break;\n",
    "        }\n",
    "        data.push_back(d);\n",
    "    }\n",
    "    return data;\n",
    "}"
   ]
  },
  {
   "cell_type": "code",
   "execution_count": null,
   "id": "8d16dc0ffc54f5c3",
   "metadata": {
    "slideshow": {
     "slide_type": "subslide"
    },
    "tags": [
     "subslide"
    ]
   },
   "outputs": [],
   "source": [
    "// std::vector<double> data2{read_data()};\n",
    "// data2"
   ]
  },
  {
   "cell_type": "code",
   "execution_count": null,
   "id": "b83f62304aa5ff54",
   "metadata": {
    "slideshow": {
     "slide_type": "subslide"
    },
    "tags": [
     "subslide"
    ]
   },
   "outputs": [],
   "source": [
    "double calculate_total(const std::vector<double>& data)\n",
    "{\n",
    "    double total{0.0};\n",
    "    for (double d : data) {\n",
    "        total += d;\n",
    "    }\n",
    "    return total;\n",
    "}"
   ]
  },
  {
   "cell_type": "code",
   "execution_count": null,
   "id": "3475b874e4296863",
   "metadata": {},
   "outputs": [],
   "source": [
    "calculate_total(data)"
   ]
  },
  {
   "cell_type": "code",
   "execution_count": null,
   "id": "c9aae6be451263ad",
   "metadata": {
    "slideshow": {
     "slide_type": "subslide"
    },
    "tags": [
     "subslide"
    ]
   },
   "outputs": [],
   "source": [
    "double calculate_mean(const std::vector<double>& data)\n",
    "{\n",
    "    return calculate_total(data) / data.size();\n",
    "}"
   ]
  },
  {
   "cell_type": "code",
   "execution_count": null,
   "id": "cf085d1f05a8fe97",
   "metadata": {},
   "outputs": [],
   "source": [
    "calculate_mean(data)"
   ]
  },
  {
   "cell_type": "code",
   "execution_count": null,
   "id": "6642b36568bbddc1",
   "metadata": {
    "slideshow": {
     "slide_type": "subslide"
    },
    "tags": [
     "subslide"
    ]
   },
   "outputs": [],
   "source": [
    "#include <limits>"
   ]
  },
  {
   "cell_type": "code",
   "execution_count": null,
   "id": "9ba34940a4a15fe4",
   "metadata": {},
   "outputs": [],
   "source": [
    "std::vector<std::vector<double>::size_type> calculate_min_indices(const std::vector<double>& data)\n",
    "{\n",
    "    std::vector<std::vector<double>::size_type> indices;\n",
    "    double min{std::numeric_limits<double>::max()};\n",
    "    for (std::vector<double>::size_type i{0}; i < data.size(); ++i) {\n",
    "        if (data[i] < min) {\n",
    "            min = data[i];\n",
    "            indices.clear();\n",
    "            indices.push_back(i);\n",
    "        } else if (data[i] == min) {\n",
    "            indices.push_back(i);\n",
    "        }\n",
    "    }\n",
    "    return indices;\n",
    "}"
   ]
  },
  {
   "cell_type": "code",
   "execution_count": null,
   "id": "e5361d0ecb58d435",
   "metadata": {},
   "outputs": [],
   "source": [
    "calculate_min_indices(data)"
   ]
  },
  {
   "cell_type": "code",
   "execution_count": null,
   "id": "fe56a75c0bf39d57",
   "metadata": {
    "slideshow": {
     "slide_type": "subslide"
    },
    "tags": [
     "subslide"
    ]
   },
   "outputs": [],
   "source": [
    "std::vector<std::vector<double>::size_type> calculate_max_indices(const std::vector<double>& data)\n",
    "{\n",
    "    std::vector<std::vector<double>::size_type> indices;\n",
    "    double max{std::numeric_limits<double>::lowest()};\n",
    "    for (std::vector<double>::size_type i{0}; i < data.size(); ++i) {\n",
    "        if (data[i] > max) {\n",
    "            max = data[i];\n",
    "            indices.clear();\n",
    "            indices.push_back(i);\n",
    "        } else if (data[i] == max) {\n",
    "            indices.push_back(i);\n",
    "        }\n",
    "    }\n",
    "    return indices;\n",
    "}"
   ]
  },
  {
   "cell_type": "code",
   "execution_count": null,
   "id": "9522e78608961261",
   "metadata": {},
   "outputs": [],
   "source": [
    "calculate_max_indices(data)"
   ]
  }
 ],
 "metadata": {
  "kernelspec": {
   "display_name": "C++17",
   "language": "C++17",
   "name": "xcpp17"
  },
  "language_info": {
   "codemirror_mode": "text/x-c++src",
   "file_extension": ".cpp",
   "mimetype": "text/x-c++src",
   "name": "c++",
   "version": "17"
  }
 },
 "nbformat": 4,
 "nbformat_minor": 5
}
