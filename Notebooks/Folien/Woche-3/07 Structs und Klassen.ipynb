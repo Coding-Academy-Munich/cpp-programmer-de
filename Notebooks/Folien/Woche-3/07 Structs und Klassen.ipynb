{
 "cells": [
  {
   "cell_type": "markdown",
   "id": "81d9999b784a8c43",
   "metadata": {
    "lang": "de",
    "slideshow": {
     "slide_type": "slide"
    },
    "tags": [
     "slide"
    ]
   },
   "source": [
    "\n",
    "<img src=\"data:image/png;base64,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\"\n",
    "     style=\"display:block;margin:auto;width:5%\"/>\n",
    "<br>\n",
    "\n",
    "<div style=\"text-align:center; font-size:200%;\">\n",
    " <b>Structs und Klassen</b>\n",
    "</div>\n",
    "<br/>\n",
    "<div style=\"text-align:center; font-size:120%;\">Dr. Matthias Hölzl</div>\n",
    "<br/>\n",
    "<div style=\"text-align:center;\">Coding-Akademie München</div>\n",
    "<br/>\n",
    "<!-- 07 Structs und Klassen.ipynb -->\n",
    "<!-- slides/module_150_classes/topic_150_structs_and_classes.cpp -->"
   ]
  },
  {
   "cell_type": "markdown",
   "id": "9a69d2377b89c3d6",
   "metadata": {
    "lang": "de",
    "lines_to_next_cell": 2,
    "slideshow": {
     "slide_type": "slide"
    },
    "tags": [
     "slide"
    ]
   },
   "source": [
    "\n",
    "## Sichtbarkeit von Membern\n",
    "\n",
    "- Member von `struct` und `class` können `public`, `protected` oder `private`\n",
    "  sein.\n",
    "- `public`-Member sind von außen sichtbar.\n",
    "- `private`-Member sind nur von Member-Funktionen der Klasse sichtbar.\n",
    "- `protected`-Member sind nur von Member-Funktionen der Klasse und von\n",
    "  abgeleiteten Klassen sichtbar.\n",
    "- Sichtbarkeit ist eine Eigenschaft der Klasse, nicht des Objekts."
   ]
  },
  {
   "cell_type": "code",
   "execution_count": null,
   "id": "c707a3aeb5b7b020",
   "metadata": {
    "slideshow": {
     "slide_type": "subslide"
    },
    "tags": [
     "keep",
     "subslide"
    ]
   },
   "outputs": [],
   "source": [
    "#include <iostream>\n",
    "\n",
    "struct MyStruct {\n",
    "public:\n",
    "    void print() {\n",
    "        std::cout << public_var << \", \" << private_var << \"\\n\";\n",
    "    }\n",
    "\n",
    "    int public_var{1};\n",
    "private:\n",
    "    int private_var{2};\n",
    "}"
   ]
  },
  {
   "cell_type": "code",
   "execution_count": null,
   "id": "5bc6438de48d0234",
   "metadata": {
    "slideshow": {
     "slide_type": "subslide"
    },
    "tags": [
     "keep",
     "subslide"
    ]
   },
   "outputs": [],
   "source": [
    "MyStruct my_struct{};"
   ]
  },
  {
   "cell_type": "code",
   "execution_count": null,
   "id": "fe6f5db28e927583",
   "metadata": {
    "tags": [
     "keep"
    ]
   },
   "outputs": [],
   "source": [
    "my_struct.print();"
   ]
  },
  {
   "cell_type": "code",
   "execution_count": null,
   "id": "cee38af4abf80dc2",
   "metadata": {
    "tags": [
     "keep"
    ]
   },
   "outputs": [],
   "source": [
    "my_struct.public_var"
   ]
  },
  {
   "cell_type": "code",
   "execution_count": null,
   "id": "1808629aa936f12e",
   "metadata": {
    "tags": [
     "keep"
    ]
   },
   "outputs": [],
   "source": [
    "my_struct.public_var = 3;"
   ]
  },
  {
   "cell_type": "code",
   "execution_count": null,
   "id": "ed19bc444700076b",
   "metadata": {
    "tags": [
     "keep"
    ]
   },
   "outputs": [],
   "source": [
    "// my_struct.private_var"
   ]
  },
  {
   "cell_type": "markdown",
   "id": "f8b6a6da22e1e24f",
   "metadata": {
    "lang": "de",
    "slideshow": {
     "slide_type": "subslide"
    },
    "tags": [
     "subslide"
    ]
   },
   "source": [
    "\n",
    "## Invarianten\n",
    "\n",
    "- Invarianten sind Eigenschaften eines Objekts, die immer wahr sind.\n",
    "- Typischerweise wollen wir den Zustand eines Objekts von der Außenwelt\n",
    "  \"verstecken\", um sicherzustellen, dass seine Invarianten immer wahr sind.\n",
    "- Getter und Setter-Methoden sind eine Möglichkeit dies zu erreichen."
   ]
  },
  {
   "cell_type": "code",
   "execution_count": null,
   "id": "085afc3c68bb3eaa",
   "metadata": {
    "slideshow": {
     "slide_type": "subslide"
    },
    "tags": [
     "keep",
     "subslide"
    ]
   },
   "outputs": [],
   "source": [
    "struct MyStruct {\n",
    "public:\n",
    "    int get_state() { return state; }\n",
    "    void set_state(int new_state)\n",
    "    {\n",
    "         state = new_state;\n",
    "         if (state < 0) state = 0;\n",
    "    }\n",
    "\n",
    "private:\n",
    "    int state{1};\n",
    "}"
   ]
  },
  {
   "cell_type": "code",
   "execution_count": null,
   "id": "8ee10523201424bf",
   "metadata": {
    "slideshow": {
     "slide_type": "subslide"
    },
    "tags": [
     "keep",
     "subslide"
    ]
   },
   "outputs": [],
   "source": [
    "MyStruct my_struct{};"
   ]
  },
  {
   "cell_type": "code",
   "execution_count": null,
   "id": "d4fade7e7dfb0222",
   "metadata": {
    "tags": [
     "keep"
    ]
   },
   "outputs": [],
   "source": [
    "my_struct.get_state()"
   ]
  },
  {
   "cell_type": "code",
   "execution_count": null,
   "id": "97fcf46f7cfb3bd0",
   "metadata": {
    "tags": [
     "keep"
    ]
   },
   "outputs": [],
   "source": [
    "my_struct.set_state(3);"
   ]
  },
  {
   "cell_type": "code",
   "execution_count": null,
   "id": "ebdad7b9c93d2a3f",
   "metadata": {
    "tags": [
     "keep"
    ]
   },
   "outputs": [],
   "source": [
    "my_struct.get_state()"
   ]
  },
  {
   "cell_type": "code",
   "execution_count": null,
   "id": "e3d05f82df208c7c",
   "metadata": {
    "tags": [
     "keep"
    ]
   },
   "outputs": [],
   "source": [
    "my_struct.set_state(-1);"
   ]
  },
  {
   "cell_type": "code",
   "execution_count": null,
   "id": "23b702da5664864c",
   "metadata": {
    "lines_to_next_cell": 2,
    "tags": [
     "keep"
    ]
   },
   "outputs": [],
   "source": [
    "my_struct.get_state()"
   ]
  },
  {
   "cell_type": "markdown",
   "id": "f8555413de1c031a",
   "metadata": {
    "lang": "de",
    "slideshow": {
     "slide_type": "subslide"
    },
    "tags": [
     "subslide"
    ]
   },
   "source": [
    "\n",
    "## `struct` vs. `class`\n",
    "\n",
    "- `struct` und `class` sind in C++ sehr ähnlich.\n",
    "- `struct` ist eine Klasse, bei der alle Member standardmäßig `public` sind.\n",
    "- `class` ist eine Klasse, bei der alle Member standardmäßig `private` sind.\n",
    "- Oft verwendet man `struct` für einfache Datenstrukturen und `class` für\n",
    "  Klassen mit Methoden."
   ]
  },
  {
   "cell_type": "code",
   "execution_count": null,
   "id": "31c2b15c297db2a2",
   "metadata": {
    "slideshow": {
     "slide_type": "subslide"
    },
    "tags": [
     "keep",
     "subslide"
    ]
   },
   "outputs": [],
   "source": [
    "struct MyStruct {\n",
    "    int default_var{0};\n",
    "public:\n",
    "    int public_var{1};\n",
    "private:\n",
    "    int private_var{2};\n",
    "public:\n",
    "    void print() {\n",
    "        std::cout << default_var << \" \" << public_var << \" \" << private_var << \"\\n\";\n",
    "    }\n",
    "};"
   ]
  },
  {
   "cell_type": "code",
   "execution_count": null,
   "id": "30fd7b503101380b",
   "metadata": {
    "slideshow": {
     "slide_type": "subslide"
    },
    "tags": [
     "keep",
     "subslide"
    ]
   },
   "outputs": [],
   "source": [
    "class MyClass {\n",
    "    int default_var{0};\n",
    "public:\n",
    "    int public_var{1};\n",
    "private:\n",
    "    int private_var{2};\n",
    "public:\n",
    "    void print() {\n",
    "        std::cout << default_var << \" \" << public_var << \" \" << private_var << \"\\n\";\n",
    "    }\n",
    "};"
   ]
  },
  {
   "cell_type": "code",
   "execution_count": null,
   "id": "26fcd47e08b734f1",
   "metadata": {
    "slideshow": {
     "slide_type": "subslide"
    },
    "tags": [
     "keep",
     "subslide"
    ]
   },
   "outputs": [],
   "source": [
    "MyStruct my_struct{};"
   ]
  },
  {
   "cell_type": "code",
   "execution_count": null,
   "id": "fb8b2daa642f96f8",
   "metadata": {
    "tags": [
     "keep"
    ]
   },
   "outputs": [],
   "source": [
    "my_struct.print();"
   ]
  },
  {
   "cell_type": "code",
   "execution_count": null,
   "id": "ee28e9e89467b5fa",
   "metadata": {
    "tags": [
     "keep"
    ]
   },
   "outputs": [],
   "source": [
    "my_struct.default_var"
   ]
  },
  {
   "cell_type": "code",
   "execution_count": null,
   "id": "8de7205a6dd5a2af",
   "metadata": {
    "tags": [
     "keep"
    ]
   },
   "outputs": [],
   "source": [
    "my_struct.public_var"
   ]
  },
  {
   "cell_type": "code",
   "execution_count": null,
   "id": "7ad111ddbec1a86c",
   "metadata": {
    "lines_to_next_cell": 2,
    "tags": [
     "keep"
    ]
   },
   "outputs": [],
   "source": [
    "// my_struct.private_var"
   ]
  },
  {
   "cell_type": "code",
   "execution_count": null,
   "id": "eba2ec294c9329b7",
   "metadata": {
    "slideshow": {
     "slide_type": "subslide"
    },
    "tags": [
     "keep",
     "subslide"
    ]
   },
   "outputs": [],
   "source": [
    "MyClass my_class{};"
   ]
  },
  {
   "cell_type": "code",
   "execution_count": null,
   "id": "30f978ac82283367",
   "metadata": {
    "tags": [
     "keep"
    ]
   },
   "outputs": [],
   "source": [
    "my_class.print();"
   ]
  },
  {
   "cell_type": "code",
   "execution_count": null,
   "id": "f295d8ddbcb6f8ab",
   "metadata": {
    "tags": [
     "keep"
    ]
   },
   "outputs": [],
   "source": [
    "// my_class.default_var"
   ]
  },
  {
   "cell_type": "code",
   "execution_count": null,
   "id": "5401d378b8b9b8b2",
   "metadata": {
    "tags": [
     "keep"
    ]
   },
   "outputs": [],
   "source": [
    "my_class.public_var"
   ]
  },
  {
   "cell_type": "code",
   "execution_count": null,
   "id": "8db4f6bb4bc4c46e",
   "metadata": {
    "tags": [
     "keep"
    ]
   },
   "outputs": [],
   "source": [
    "// my_class.private_var"
   ]
  },
  {
   "cell_type": "markdown",
   "id": "5ef47baebb60a183",
   "metadata": {
    "lang": "de",
    "slideshow": {
     "slide_type": "subslide"
    },
    "tags": [
     "subslide"
    ]
   },
   "source": [
    "\n",
    "## Mini-Workshop: Garantieren von Invarianten\n",
    "\n",
    "Die Struct `MyComplex` soll folgende Invariante haben:\n",
    "- `abs` ist immer der Abstand vom Punkt `(0, 0)`\n",
    "\n",
    "Wie können Sie diese Invariante sicherstellen?\n",
    "\n",
    "- Sie können das Interface der Struct anpassen um das zu ermöglichen.\n",
    "- Möglicherweise empfiehlt es sich dabei, `MyComplex` in eine Klasse\n",
    "  umzuwandeln.\n",
    "- Benutzer der Struct/Klasse sollten `update_abs` nicht selbst aufrufen müssen."
   ]
  },
  {
   "cell_type": "code",
   "execution_count": null,
   "id": "cf7cf5d9f70b1894",
   "metadata": {
    "slideshow": {
     "slide_type": "subslide"
    },
    "tags": [
     "keep",
     "subslide"
    ]
   },
   "outputs": [],
   "source": [
    "#include <cmath>"
   ]
  },
  {
   "cell_type": "code",
   "execution_count": null,
   "id": "908102ff94748e5f",
   "metadata": {
    "slideshow": {
     "slide_type": "subslide"
    },
    "tags": [
     "subslide",
     "alt"
    ]
   },
   "outputs": [],
   "source": [
    "class MyComplex {\n",
    "public:\n",
    "    void set_re(double new_re) {\n",
    "        re = new_re;\n",
    "        update_abs();\n",
    "    }\n",
    "\n",
    "    void set_im(double new_im) {\n",
    "        im = new_im;\n",
    "        update_abs();\n",
    "    }\n",
    "\n",
    "    double get_re() const {\n",
    "        return re;\n",
    "    }\n",
    "\n",
    "    double get_im() const {\n",
    "        return im;\n",
    "    }\n",
    "\n",
    "    double get_abs() const {\n",
    "        return abs;\n",
    "    }\n",
    "private:\n",
    "    double re{};\n",
    "    double im{};\n",
    "    double abs{};\n",
    "\n",
    "    void update_abs() {\n",
    "        abs = std::sqrt(re * re + im * im);\n",
    "    }\n",
    "};"
   ]
  },
  {
   "cell_type": "code",
   "execution_count": null,
   "id": "c9359081c1d3db90",
   "metadata": {
    "slideshow": {
     "slide_type": "subslide"
    },
    "tags": [
     "subslide",
     "alt"
    ]
   },
   "outputs": [],
   "source": [
    "MyComplex c;"
   ]
  },
  {
   "cell_type": "code",
   "execution_count": null,
   "id": "179b0bc19e1ea91c",
   "metadata": {
    "tags": [
     "alt"
    ]
   },
   "outputs": [],
   "source": [
    "c.set_re(3);"
   ]
  },
  {
   "cell_type": "code",
   "execution_count": null,
   "id": "3309d232befb698f",
   "metadata": {
    "tags": [
     "alt"
    ]
   },
   "outputs": [],
   "source": [
    "c.set_im(4);"
   ]
  },
  {
   "cell_type": "code",
   "execution_count": null,
   "id": "f80e317e1359c1ac",
   "metadata": {
    "tags": [
     "alt"
    ]
   },
   "outputs": [],
   "source": [
    "c.get_re()"
   ]
  },
  {
   "cell_type": "code",
   "execution_count": null,
   "id": "e997ee932f4d3e21",
   "metadata": {
    "tags": [
     "alt"
    ]
   },
   "outputs": [],
   "source": [
    "c.get_im()"
   ]
  },
  {
   "cell_type": "code",
   "execution_count": null,
   "id": "91082df01dba56f7",
   "metadata": {
    "tags": [
     "alt"
    ]
   },
   "outputs": [],
   "source": [
    "c.get_abs()"
   ]
  }
 ],
 "metadata": {
  "kernelspec": {
   "display_name": "C++17",
   "language": "C++17",
   "name": "xcpp17"
  },
  "language_info": {
   "codemirror_mode": "text/x-c++src",
   "file_extension": ".cpp",
   "mimetype": "text/x-c++src",
   "name": "c++",
   "version": "17"
  }
 },
 "nbformat": 4,
 "nbformat_minor": 5
}
