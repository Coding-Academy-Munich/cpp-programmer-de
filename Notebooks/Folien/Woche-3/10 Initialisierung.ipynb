{
 "cells": [
  {
   "cell_type": "markdown",
   "id": "4dc4677d0b73c801",
   "metadata": {
    "lang": "de",
    "slideshow": {
     "slide_type": "slide"
    },
    "tags": [
     "slide"
    ]
   },
   "source": [
    "\n",
    "<img src=\"data:image/png;base64,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\"\n",
    "     style=\"display:block;margin:auto;width:5%\"/>\n",
    "<br>\n",
    "\n",
    "<div style=\"text-align:center; font-size:200%;\">\n",
    " <b>Initialisierung</b>\n",
    "</div>\n",
    "<br/>\n",
    "<div style=\"text-align:center; font-size:120%;\">Dr. Matthias Hölzl</div>\n",
    "<br/>\n",
    "<div style=\"text-align:center;\">Coding-Akademie München</div>\n",
    "<br/>\n",
    "<!-- 10 Initialisierung.ipynb -->\n",
    "<!-- slides/module_150_classes/topic_162_initialization.cpp -->"
   ]
  },
  {
   "cell_type": "markdown",
   "id": "59e25a715dc02638",
   "metadata": {
    "lang": "de",
    "slideshow": {
     "slide_type": "subslide"
    },
    "tags": [
     "subslide"
    ]
   },
   "source": [
    "\n",
    "## Verschiedene Konstruktoren\n",
    "\n",
    "- Einfache Struktur mit zwei Attributen\n",
    "- Verschiedene Arten der Konstruktion/Initialisierung"
   ]
  },
  {
   "cell_type": "code",
   "execution_count": null,
   "id": "03dfdb990d5efe06",
   "metadata": {
    "slideshow": {
     "slide_type": "subslide"
    },
    "tags": [
     "keep",
     "subslide"
    ]
   },
   "outputs": [],
   "source": [
    "#include <iostream>\n",
    "#include \"print.h\""
   ]
  },
  {
   "cell_type": "code",
   "execution_count": null,
   "id": "41112af4fa41a086",
   "metadata": {
    "tags": [
     "keep"
    ]
   },
   "outputs": [],
   "source": [
    "struct S1 {\n",
    "    int m1;\n",
    "    int m2;\n",
    "\n",
    "    S1(int m1 = 11, int m2 = 22) : m1{m1}, m2{m2} {\n",
    "        std::cout << \"S1(\" << m1 << \", \" << m2 << \")\\n\";\n",
    "    }\n",
    "}"
   ]
  },
  {
   "cell_type": "code",
   "execution_count": null,
   "id": "440377dc4656855b",
   "metadata": {
    "slideshow": {
     "slide_type": "subslide"
    },
    "tags": [
     "keep",
     "subslide"
    ]
   },
   "outputs": [],
   "source": [
    "S1 s1;\n",
    "print(\"S1\", s1);"
   ]
  },
  {
   "cell_type": "code",
   "execution_count": null,
   "id": "0f24bae919ce7779",
   "metadata": {},
   "outputs": [],
   "source": [
    "// S1 s2();"
   ]
  },
  {
   "cell_type": "code",
   "execution_count": null,
   "id": "8d39aa849b521086",
   "metadata": {},
   "outputs": [],
   "source": [
    "S1 s3(5);\n",
    "print(\"S1\", s3);"
   ]
  },
  {
   "cell_type": "code",
   "execution_count": null,
   "id": "c45d8e919be8efe7",
   "metadata": {},
   "outputs": [],
   "source": [
    "S1 s4(5.6);\n",
    "print(\"S1\", s4);"
   ]
  },
  {
   "cell_type": "code",
   "execution_count": null,
   "id": "955fdcbea7d313d3",
   "metadata": {},
   "outputs": [],
   "source": [
    "S1 s5(5, 10);\n",
    "print(\"S1\", s5);"
   ]
  },
  {
   "cell_type": "code",
   "execution_count": null,
   "id": "bc3982b2ff016397",
   "metadata": {
    "slideshow": {
     "slide_type": "subslide"
    },
    "tags": [
     "subslide"
    ]
   },
   "outputs": [],
   "source": [
    "S1 s6{};\n",
    "print(\"S1\", s6);"
   ]
  },
  {
   "cell_type": "code",
   "execution_count": null,
   "id": "66d5d9b6627ee809",
   "metadata": {},
   "outputs": [],
   "source": [
    "S1 s7{5};\n",
    "print(\"S1\", s7);"
   ]
  },
  {
   "cell_type": "code",
   "execution_count": null,
   "id": "d8487738cb15a8c9",
   "metadata": {},
   "outputs": [],
   "source": [
    "// S1 s8{5.6};"
   ]
  },
  {
   "cell_type": "code",
   "execution_count": null,
   "id": "22d4b30b62850b83",
   "metadata": {},
   "outputs": [],
   "source": [
    "S1 s9{5, 10};\n",
    "print(\"S1\", s9);"
   ]
  },
  {
   "cell_type": "markdown",
   "id": "68d7fd6da757e58a",
   "metadata": {
    "lang": "de",
    "slideshow": {
     "slide_type": "subslide"
    },
    "tags": [
     "subslide"
    ]
   },
   "source": [
    "\n",
    "## Workshop: Initialisierung\n",
    "\n",
    "Gegeben die folgende Struct:"
   ]
  },
  {
   "cell_type": "code",
   "execution_count": null,
   "id": "1342fddd722170da",
   "metadata": {
    "tags": [
     "keep"
    ]
   },
   "outputs": [],
   "source": [
    "#include <iostream>\n",
    "#include <iomanip>"
   ]
  },
  {
   "cell_type": "code",
   "execution_count": null,
   "id": "a9fa3852d487900e",
   "metadata": {
    "tags": [
     "keep"
    ]
   },
   "outputs": [],
   "source": [
    "struct MyStruct {\n",
    "    int my_int;\n",
    "    double my_double;\n",
    "    bool my_bool;\n",
    "\n",
    "    MyStruct(int i, double d, bool b) : my_int{i}, my_double{d}, my_bool{b} {}\n",
    "\n",
    "    void print() {\n",
    "        // std::cout << std::boolalpha;\n",
    "        std::cout << \"MyStruct{\" << my_int << \", \" << my_double << \", \" << my_bool << \"}\\n\";\n",
    "    }\n",
    "}"
   ]
  },
  {
   "cell_type": "markdown",
   "id": "8c4cb96ec34cd895",
   "metadata": {
    "lang": "de",
    "slideshow": {
     "slide_type": "subslide"
    },
    "tags": [
     "subslide"
    ]
   },
   "source": [
    "\n",
    "- Welche der folgenden Initialisierungen sind gültig?\n",
    "- Was sind danach die Werte der Member-Variablen?"
   ]
  },
  {
   "cell_type": "code",
   "execution_count": null,
   "id": "63d9cc6327fadaa5",
   "metadata": {
    "tags": [
     "keep"
    ]
   },
   "outputs": [],
   "source": [
    "// MyStruct ms1{1, 2.3, true};\n",
    "// ms1.print();"
   ]
  },
  {
   "cell_type": "code",
   "execution_count": null,
   "id": "fd5d47b7bc73ba09",
   "metadata": {
    "tags": [
     "keep"
    ]
   },
   "outputs": [],
   "source": [
    "// MyStruct ms2(1, 2.3, true);\n",
    "// ms2.print();"
   ]
  },
  {
   "cell_type": "code",
   "execution_count": null,
   "id": "46ac6d0bb9e41410",
   "metadata": {
    "tags": [
     "keep"
    ]
   },
   "outputs": [],
   "source": [
    "// MyStruct ms3{1, 2, true};\n",
    "// ms3.print();"
   ]
  },
  {
   "cell_type": "code",
   "execution_count": null,
   "id": "71674dffb48abe52",
   "metadata": {
    "tags": [
     "keep"
    ]
   },
   "outputs": [],
   "source": [
    "// MyStruct ms4(1, 2, true);\n",
    "// ms4.print();"
   ]
  },
  {
   "cell_type": "code",
   "execution_count": null,
   "id": "b39fbabd6ffdec29",
   "metadata": {
    "tags": [
     "keep"
    ]
   },
   "outputs": [],
   "source": [
    "// MyStruct ms5{1.0, 2.3, true};\n",
    "// ms5.print();"
   ]
  },
  {
   "cell_type": "code",
   "execution_count": null,
   "id": "13a6b5308ba30772",
   "metadata": {
    "tags": [
     "keep"
    ]
   },
   "outputs": [],
   "source": [
    "// MyStruct ms6(1.0, 2.3, true);\n",
    "// ms6.print();"
   ]
  },
  {
   "cell_type": "code",
   "execution_count": null,
   "id": "5d0822acd2c1e2eb",
   "metadata": {
    "tags": [
     "keep"
    ]
   },
   "outputs": [],
   "source": [
    "// MyStruct ms7{1, 2.3, 3};\n",
    "// ms7.print();"
   ]
  },
  {
   "cell_type": "code",
   "execution_count": null,
   "id": "de1901298d4d0247",
   "metadata": {
    "tags": [
     "keep"
    ]
   },
   "outputs": [],
   "source": [
    "// MyStruct ms8(1, 2.3, 3);\n",
    "// ms8.print();"
   ]
  },
  {
   "cell_type": "code",
   "execution_count": null,
   "id": "fec6f88659f9a6c1",
   "metadata": {
    "tags": [
     "keep"
    ]
   },
   "outputs": [],
   "source": [
    "// MyStruct ms9{1, 2.3, 0.0};\n",
    "// ms9.print();"
   ]
  },
  {
   "cell_type": "code",
   "execution_count": null,
   "id": "e03f26e64a1e1b37",
   "metadata": {
    "tags": [
     "keep"
    ]
   },
   "outputs": [],
   "source": [
    "// MyStruct ms10(1, 2.3, 0.0);\n",
    "// ms10.print();"
   ]
  },
  {
   "cell_type": "code",
   "execution_count": null,
   "id": "e80477f99ebf918f",
   "metadata": {
    "tags": [
     "keep"
    ]
   },
   "outputs": [],
   "source": [
    "// MyStruct ms11{\"foo\", 2, true};\n",
    "// ms11.print();"
   ]
  },
  {
   "cell_type": "code",
   "execution_count": null,
   "id": "b4d4b51ea819c6e7",
   "metadata": {
    "tags": [
     "keep"
    ]
   },
   "outputs": [],
   "source": [
    "// MyStruct ms12(\"foo\", 2, true);\n",
    "// ms12.print();"
   ]
  }
 ],
 "metadata": {
  "kernelspec": {
   "display_name": "C++17",
   "language": "C++17",
   "name": "xcpp17"
  },
  "language_info": {
   "codemirror_mode": "text/x-c++src",
   "file_extension": ".cpp",
   "mimetype": "text/x-c++src",
   "name": "c++",
   "version": "17"
  }
 },
 "nbformat": 4,
 "nbformat_minor": 5
}
