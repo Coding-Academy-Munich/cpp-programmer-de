{
 "cells": [
  {
   "cell_type": "markdown",
   "id": "bd381867e1e14620",
   "metadata": {
    "lang": "de",
    "slideshow": {
     "slide_type": "slide"
    },
    "tags": [
     "slide"
    ]
   },
   "source": [
    "\n",
    "<img src=\"data:image/png;base64,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\"\n",
    "     style=\"display:block;margin:auto;width:5%\"/>\n",
    "<br>\n",
    "\n",
    "<div style=\"text-align:center; font-size:200%;\">\n",
    " <b>Kopieren von Objekten</b>\n",
    "</div>\n",
    "<br/>\n",
    "<div style=\"text-align:center; font-size:120%;\">Dr. Matthias Hölzl</div>\n",
    "<br/>\n",
    "<div style=\"text-align:center;\">Coding-Akademie München</div>\n",
    "<br/>\n",
    "<!-- 10 Kopieren von Objekten.ipynb -->\n",
    "<!-- slides/module_150_classes/topic_163_copy_construction.cpp -->"
   ]
  },
  {
   "cell_type": "markdown",
   "id": "a00ce851d22e8512",
   "metadata": {
    "lang": "de",
    "slideshow": {
     "slide_type": "subslide"
    },
    "tags": [
     "subslide"
    ]
   },
   "source": [
    "\n",
    "## Kopierkonstruktor\n",
    "\n",
    "- Bisher: Konstruktion aus Werten für die Member-Variablen.\n",
    "- Wir würden gerne Objekte aus anderen Objekten konstruieren.\n",
    "- Das geht mit dem Kopierkonstruktor."
   ]
  },
  {
   "cell_type": "code",
   "execution_count": null,
   "id": "03dfdb990d5efe06",
   "metadata": {
    "slideshow": {
     "slide_type": "subslide"
    },
    "tags": [
     "subslide",
     "keep"
    ]
   },
   "outputs": [],
   "source": [
    "#include <iostream>\n",
    "#include \"print.h\""
   ]
  },
  {
   "cell_type": "code",
   "execution_count": null,
   "id": "db303ec6bd09c671",
   "metadata": {
    "tags": [
     "alt"
    ]
   },
   "outputs": [],
   "source": [
    "struct S2 {\n",
    "    int m1;\n",
    "    int m2;\n",
    "\n",
    "\n",
    "    S2(int m1 = 11, int m2 = 22) : m1{m1}, m2{m2} {\n",
    "        std::cout << \"S2(\" << m1 << \", \" << m2 << \") \" << addr(*this) << \"\\n\";\n",
    "    }\n",
    "\n",
    "    S2(const S2& other) : m1{other.m1}, m2{other.m2} {\n",
    "        std::cout << \"S2(const S2&) \" << addr(*this) << \" <- \" << addr(other) << \"\\n\";\n",
    "    }\n",
    "\n",
    "    S2& operator=(const S2& other) {\n",
    "        m1 = other.m1;\n",
    "        m2 = other.m2;\n",
    "        std::cout << \"operator=(const S2&) \" << addr(*this) << \" <- \" << addr(other) << \"\\n\";\n",
    "        return *this;\n",
    "    }\n",
    "};"
   ]
  },
  {
   "cell_type": "code",
   "execution_count": null,
   "id": "89ca4ffcf3d332dd",
   "metadata": {
    "slideshow": {
     "slide_type": "subslide"
    },
    "tags": [
     "subslide",
     "keep"
    ]
   },
   "outputs": [],
   "source": [
    "S2 s1{2, 4};"
   ]
  },
  {
   "cell_type": "code",
   "execution_count": null,
   "id": "682b22152beb6cf0",
   "metadata": {
    "tags": [
     "keep"
    ]
   },
   "outputs": [],
   "source": [
    "print(\"S2\", s1);"
   ]
  },
  {
   "cell_type": "code",
   "execution_count": null,
   "id": "6c73da2354f61ce4",
   "metadata": {
    "tags": [
     "keep"
    ]
   },
   "outputs": [],
   "source": [
    "S2 s2{s1.m1, s1.m2};"
   ]
  },
  {
   "cell_type": "code",
   "execution_count": null,
   "id": "f3ad62268de7c398",
   "metadata": {
    "tags": [
     "keep"
    ]
   },
   "outputs": [],
   "source": [
    "print(\"S2\", s2);"
   ]
  },
  {
   "cell_type": "code",
   "execution_count": null,
   "id": "4d7cfa411ccac23b",
   "metadata": {
    "tags": [
     "keep"
    ]
   },
   "outputs": [],
   "source": [
    "S2 s3{s1};"
   ]
  },
  {
   "cell_type": "code",
   "execution_count": null,
   "id": "6201b2ec8e84c961",
   "metadata": {
    "tags": [
     "keep"
    ]
   },
   "outputs": [],
   "source": [
    "print(\"S2\", s3);"
   ]
  },
  {
   "cell_type": "code",
   "execution_count": null,
   "id": "0094edb9b2e177f2",
   "metadata": {
    "slideshow": {
     "slide_type": "subslide"
    },
    "tags": [
     "keep",
     "subslide"
    ]
   },
   "outputs": [],
   "source": [
    "S2 s4{};"
   ]
  },
  {
   "cell_type": "code",
   "execution_count": null,
   "id": "a6d5054e73a9bad5",
   "metadata": {
    "tags": [
     "keep"
    ]
   },
   "outputs": [],
   "source": [
    "print(\"S2\", s4);"
   ]
  },
  {
   "cell_type": "code",
   "execution_count": null,
   "id": "99e95a8897e7ff1f",
   "metadata": {
    "tags": [
     "keep"
    ]
   },
   "outputs": [],
   "source": [
    "s4 = s1;"
   ]
  },
  {
   "cell_type": "code",
   "execution_count": null,
   "id": "c36b3798cd6086b8",
   "metadata": {
    "tags": [
     "keep"
    ]
   },
   "outputs": [],
   "source": [
    "print(\"S2\", s4);"
   ]
  },
  {
   "cell_type": "markdown",
   "id": "6f6f279a9a129cd3",
   "metadata": {
    "lang": "de",
    "slideshow": {
     "slide_type": "subslide"
    },
    "tags": [
     "subslide"
    ]
   },
   "source": [
    "\n",
    "- Der Kopierkonstruktor wird aufgerufen, wenn ein Objekt aus einem anderen\n",
    "  Objekt des gleichen Typs konstruiert wird.\n",
    "- Er ist durch den Parametertyp `const T&` gekennzeichnet."
   ]
  },
  {
   "cell_type": "markdown",
   "id": "7f22f3a58972b9b2",
   "metadata": {
    "lang": "de",
    "slideshow": {
     "slide_type": "subslide"
    },
    "tags": [
     "subslide"
    ]
   },
   "source": [
    "\n",
    "## Kopierzuweisungsoperator\n",
    "\n",
    "- Mit dem Kopierkonstruktor können wir definieren, wie die Konstruktion eines\n",
    "  neuen Objekts aus einem bestehenden erfolgt.\n",
    "- Das sollten wir auch für die Zuweisung von Objekten tun können.\n",
    "- Das geht mit dem Kopierzuweisungsoperator (Copy Assignment Operator)."
   ]
  },
  {
   "cell_type": "markdown",
   "id": "58f4bd4a94e79a33",
   "metadata": {
    "lang": "de",
    "slideshow": {
     "slide_type": "subslide"
    },
    "tags": [
     "subslide"
    ]
   },
   "source": [
    "\n",
    "- Der Kopierzuweisungsoperator wird aufgerufen, wenn ein Objekt einem anderen\n",
    "  zugewiesen wird.\n",
    "- Er ist durch die Signatur `T& operator=(const T&)` gekennzeichnet.\n",
    "- Er gibt eine Referenz auf das Objekt zurück, dem neue Attribut-Werte\n",
    "  zugewiesen wurden."
   ]
  },
  {
   "cell_type": "markdown",
   "id": "a331eb627165cc87",
   "metadata": {
    "lang": "de",
    "slideshow": {
     "slide_type": "subslide"
    },
    "tags": [
     "subslide"
    ]
   },
   "source": [
    "\n",
    "- In C++ können wir mehrere Zuweisungen hintereinander schreiben:"
   ]
  },
  {
   "cell_type": "code",
   "execution_count": null,
   "id": "3221d4c53e78b08e",
   "metadata": {
    "tags": [
     "keep"
    ]
   },
   "outputs": [],
   "source": [
    "S2 s4, s5;"
   ]
  },
  {
   "cell_type": "code",
   "execution_count": null,
   "id": "22779343ddce7c1f",
   "metadata": {
    "tags": [
     "keep"
    ]
   },
   "outputs": [],
   "source": [
    "print(\"S2: s3\", s3);\n",
    "print(\"S2: s4\", s4);\n",
    "print(\"S2: s5\", s5);"
   ]
  },
  {
   "cell_type": "code",
   "execution_count": null,
   "id": "5a6a8dce281f42f1",
   "metadata": {},
   "outputs": [],
   "source": [
    "s5 = s4 = s3;"
   ]
  },
  {
   "cell_type": "code",
   "execution_count": null,
   "id": "514b37f7f4d2be35",
   "metadata": {
    "tags": [
     "keep"
    ]
   },
   "outputs": [],
   "source": [
    "print(\"S2: s3\", s3);\n",
    "print(\"S2: s4\", s4);\n",
    "print(\"S2: s5\", s5);"
   ]
  },
  {
   "cell_type": "markdown",
   "id": "f076acba8d3be3d8",
   "metadata": {
    "lang": "de",
    "slideshow": {
     "slide_type": "subslide"
    },
    "tags": [
     "subslide"
    ]
   },
   "source": [
    "\n",
    "- Der Zuweisungsoperator wird von rechts nach links ausgewertet.\n",
    "- Daher muss das Ergebnis der Zuweisung `s4 = s3` ein Objekt sein, das an\n",
    "  `s5` zugewiesen werden kann."
   ]
  },
  {
   "cell_type": "markdown",
   "id": "c2f41f3b6bac4986",
   "metadata": {
    "lang": "de",
    "slideshow": {
     "slide_type": "subslide"
    },
    "tags": [
     "subslide"
    ]
   },
   "source": [
    "\n",
    "- Wir können auch destruktive Operationen auf dem Ergebnis einer Zuweisung\n",
    "  ausführen:"
   ]
  },
  {
   "cell_type": "code",
   "execution_count": null,
   "id": "a8b57aa4a0d4a1d0",
   "metadata": {
    "tags": [
     "keep"
    ]
   },
   "outputs": [],
   "source": [
    "s3.m1 = 12;"
   ]
  },
  {
   "cell_type": "code",
   "execution_count": null,
   "id": "4d56d5ef159b4b28",
   "metadata": {},
   "outputs": [],
   "source": [
    "++(s4 = s3).m1;"
   ]
  },
  {
   "cell_type": "code",
   "execution_count": null,
   "id": "e6cbd7b7ba2f48b4",
   "metadata": {
    "tags": [
     "keep"
    ]
   },
   "outputs": [],
   "source": [
    "print(\"S2: s3\", s3);\n",
    "print(\"S2: s4\", s4);"
   ]
  },
  {
   "cell_type": "markdown",
   "id": "de3bf433956521f2",
   "metadata": {
    "lang": "de",
    "slideshow": {
     "slide_type": "subslide"
    },
    "tags": [
     "subslide"
    ]
   },
   "source": [
    "\n",
    "## Kopierkonstruktor und Kopierzuweisungsoperator\n",
    "\n",
    "- Wann immer eine Klasse einen benutzerdefinierten Kopierkonstruktor hat\n",
    "  sollte sie auch einen benutzerdefinierten Kopierzuweisungsoperator haben,\n",
    "  und umgekehrt.\n",
    "- Sie sollte dann auch einen Destruktor haben (siehe später)."
   ]
  },
  {
   "cell_type": "markdown",
   "id": "5bcc6e8a89b9a451",
   "metadata": {
    "lang": "de",
    "slideshow": {
     "slide_type": "subslide"
    },
    "tags": [
     "subslide"
    ]
   },
   "source": [
    "\n",
    "## Workshop: Kopieren von Objekten\n",
    "\n",
    "Gegeben seien die folgenden Structs `MyStruct` und `YourStruct`:"
   ]
  },
  {
   "cell_type": "code",
   "execution_count": null,
   "id": "95f31d8d16b678d7",
   "metadata": {
    "tags": [
     "keep"
    ]
   },
   "outputs": [],
   "source": [
    "struct MyStruct {\n",
    "    int ms_int;\n",
    "    bool ms_bool;\n",
    "\n",
    "    MyStruct(int ms_int = 33, bool ms_bool = true) : ms_int{ms_int}, ms_bool{ms_bool} {\n",
    "        std::cout << \"MyStruct(\" << ms_int << \", \" << ms_bool << \")\\n\";\n",
    "    }\n",
    "\n",
    "    void print() const {\n",
    "        std::cout << \"MyStruct(\" << ms_int << \", \" << ms_bool << \") \" << addr(*this) <<\"\\n\";\n",
    "    }\n",
    "};"
   ]
  },
  {
   "cell_type": "code",
   "execution_count": null,
   "id": "e3abc4eff7f22508",
   "metadata": {
    "slideshow": {
     "slide_type": "subslide"
    },
    "tags": [
     "keep",
     "subslide"
    ]
   },
   "outputs": [],
   "source": [
    "struct YourStruct {\n",
    "    int ys_int;\n",
    "    MyStruct ys_ms;\n",
    "\n",
    "    YourStruct(int ys_int, const MyStruct& ys_ms) : ys_int{ys_int}, ys_ms{ys_ms} {\n",
    "        std::cout << \"YourStruct(\" << ys_int << \", \" << ys_ms.ms_int << \", \" << ys_ms.ms_bool << \")\\n\";\n",
    "    }\n",
    "\n",
    "    void print() const {\n",
    "        std::cout << \"YourStruct(\" << ys_int << \", \" << ys_ms.ms_int << \", \" << ys_ms.ms_bool << \") \"\n",
    "                  << addr(*this) << \"\\n\";\n",
    "    }\n",
    "}"
   ]
  },
  {
   "cell_type": "markdown",
   "id": "0dbb80593afd0223",
   "metadata": {
    "lang": "de",
    "slideshow": {
     "slide_type": "subslide"
    },
    "tags": [
     "subslide"
    ]
   },
   "source": [
    "\n",
    "- Erweitern Sie `MyStruct` und `YourStruct` um Kopierkonstruktoren und Kopierzuweisungsoperatoren.\n",
    "- Überprüfen Sie, ob die nachfolgenden Ausdrücke korrekt kompilieren und das\n",
    "  erwartete Ergebnis liefern:"
   ]
  },
  {
   "cell_type": "code",
   "execution_count": null,
   "id": "82681d3fd2f4c729",
   "metadata": {
    "tags": [
     "alt"
    ]
   },
   "outputs": [],
   "source": [
    "struct MyStruct {\n",
    "    int ms_int;\n",
    "    bool ms_bool;\n",
    "\n",
    "    MyStruct(int ms_int, bool ms_bool) : ms_int{ms_int}, ms_bool{ms_bool} {\n",
    "        std::cout << \"MyStruct(\" << ms_int << \", \" << ms_bool << \")\\n\";\n",
    "    }\n",
    "\n",
    "    void print() const {\n",
    "        std::cout << \"MyStruct(\" << ms_int << \", \" << ms_bool << \") \" << addr(*this) <<\"\\n\";\n",
    "    }\n",
    "\n",
    "    MyStruct(const MyStruct& other) : ms_int{other.ms_int}, ms_bool{other.ms_bool} {\n",
    "        std::cout << \"MyStruct(const MyStruct&)\\n\";\n",
    "    }\n",
    "\n",
    "    MyStruct& operator=(const MyStruct& other) {\n",
    "        ms_int = other.ms_int;\n",
    "        ms_bool = other.ms_bool;\n",
    "        std::cout << \"operator=(const MyStruct&)\\n\";\n",
    "        return *this;\n",
    "    }\n",
    "};"
   ]
  },
  {
   "cell_type": "code",
   "execution_count": null,
   "id": "856fb8ecbba5ee89",
   "metadata": {
    "slideshow": {
     "slide_type": "subslide"
    },
    "tags": [
     "alt",
     "subslide"
    ]
   },
   "outputs": [],
   "source": [
    "struct YourStruct {\n",
    "    int ys_int;\n",
    "    MyStruct ys_ms;\n",
    "\n",
    "    YourStruct(int ys_int, const MyStruct& ys_ms) : ys_int{ys_int}, ys_ms{ys_ms} {\n",
    "        std::cout << \"YourStruct(\" << ys_int << \", \" << ys_ms.ms_int << \", \" << ys_ms.ms_bool << \")\\n\";\n",
    "    }\n",
    "\n",
    "    void print() const {\n",
    "        std::cout << \"YourStruct(\" << ys_int << \", \" << ys_ms.ms_int << \", \" << ys_ms.ms_bool << \") \"\n",
    "                  << addr(*this) << \"\\n\";\n",
    "    }\n",
    "\n",
    "    YourStruct(const YourStruct& other) : ys_int{other.ys_int}, ys_ms{other.ys_ms} {\n",
    "        std::cout << \"YourStruct(const YourStruct&)\\n\";\n",
    "    }\n",
    "\n",
    "    YourStruct& operator=(const YourStruct& other) {\n",
    "        ys_int = other.ys_int;\n",
    "        ys_ms = other.ys_ms;\n",
    "        std::cout << \"operator=(const YourStruct&)\\n\";\n",
    "        return *this;\n",
    "    }\n",
    "}"
   ]
  },
  {
   "cell_type": "code",
   "execution_count": null,
   "id": "8a11ca0be0796f58",
   "metadata": {
    "slideshow": {
     "slide_type": "subslide"
    },
    "tags": [
     "subslide",
     "keep"
    ]
   },
   "outputs": [],
   "source": [
    "MyStruct ms1{1, false};\n",
    "ms1.print();"
   ]
  },
  {
   "cell_type": "code",
   "execution_count": null,
   "id": "6553d5e9d1e470e0",
   "metadata": {
    "tags": [
     "keep"
    ]
   },
   "outputs": [],
   "source": [
    "MyStruct ms2{ms1};\n",
    "ms2.ms_int = 2;\n",
    "ms2.print();"
   ]
  },
  {
   "cell_type": "code",
   "execution_count": null,
   "id": "14eb437a3f931aa6",
   "metadata": {
    "tags": [
     "keep"
    ]
   },
   "outputs": [],
   "source": [
    "YourStruct ys1{3, ms1};\n",
    "ys1.print();"
   ]
  },
  {
   "cell_type": "code",
   "execution_count": null,
   "id": "d9670dda262ed069",
   "metadata": {
    "tags": [
     "keep"
    ]
   },
   "outputs": [],
   "source": [
    "YourStruct ys2{ys1};\n",
    "ys2.ys_ms.ms_int = 44;\n",
    "ys2.ys_int = 4;\n",
    "ys2.print();"
   ]
  },
  {
   "cell_type": "code",
   "execution_count": null,
   "id": "9c0af3bd113d9514",
   "metadata": {
    "tags": [
     "keep"
    ]
   },
   "outputs": [],
   "source": [
    "ys1.ys_ms.ms_int = 55;\n",
    "ys1.ys_int = 5;\n",
    "ys1.print();\n",
    "ys2.print();"
   ]
  },
  {
   "cell_type": "code",
   "execution_count": null,
   "id": "c002674892a7570e",
   "metadata": {
    "tags": [
     "keep"
    ]
   },
   "outputs": [],
   "source": [
    "ms1 = ms2;\n",
    "ms1.print();"
   ]
  },
  {
   "cell_type": "code",
   "execution_count": null,
   "id": "e239b7c22d4a8efd",
   "metadata": {
    "tags": [
     "keep"
    ]
   },
   "outputs": [],
   "source": [
    "ys2 = ys1;\n",
    "ys2.print();"
   ]
  },
  {
   "cell_type": "code",
   "execution_count": null,
   "id": "a16d44691e3ad499",
   "metadata": {
    "tags": [
     "keep"
    ]
   },
   "outputs": [],
   "source": [
    "ms1.print();\n",
    "ms2.print();\n",
    "ys1.print();\n",
    "ys2.print();"
   ]
  }
 ],
 "metadata": {
  "kernelspec": {
   "display_name": "C++17",
   "language": "C++17",
   "name": "xcpp17"
  },
  "language_info": {
   "codemirror_mode": "text/x-c++src",
   "file_extension": ".cpp",
   "mimetype": "text/x-c++src",
   "name": "c++",
   "version": "17"
  }
 },
 "nbformat": 4,
 "nbformat_minor": 5
}
