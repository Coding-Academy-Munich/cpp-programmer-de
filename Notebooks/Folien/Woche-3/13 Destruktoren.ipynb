{
 "cells": [
  {
   "cell_type": "markdown",
   "id": "371d6e04ff956317",
   "metadata": {
    "lang": "de",
    "slideshow": {
     "slide_type": "slide"
    },
    "tags": [
     "slide"
    ]
   },
   "source": [
    "\n",
    "<img src=\"data:image/png;base64,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\"\n",
    "     style=\"display:block;margin:auto;width:5%\"/>\n",
    "<br>\n",
    "\n",
    "<div style=\"text-align:center; font-size:200%;\">\n",
    " <b>Destruktoren</b>\n",
    "</div>\n",
    "<br/>\n",
    "<div style=\"text-align:center; font-size:120%;\">Dr. Matthias Hölzl</div>\n",
    "<br/>\n",
    "<div style=\"text-align:center;\">Coding-Akademie München</div>\n",
    "<br/>\n",
    "<!-- 13 Destruktoren.ipynb -->\n",
    "<!-- slides/module_150_classes/topic_170_destructors.cpp -->"
   ]
  },
  {
   "cell_type": "markdown",
   "id": "d290ee406d772474",
   "metadata": {
    "lang": "de",
    "slideshow": {
     "slide_type": "slide"
    },
    "tags": [
     "slide"
    ]
   },
   "source": [
    "\n",
    "## Destruktoren\n",
    "\n",
    "- Destruktoren sind spezielle Member-Funktionen, die aufgerufen werden, wenn\n",
    "  ein Objekt zerstört wird.\n",
    "- Destruktoren haben keinen Rückgabetyp und keinen Parameter.\n",
    "- Destruktoren können nicht überladen werden."
   ]
  },
  {
   "cell_type": "code",
   "execution_count": null,
   "id": "a0ee650c342d197c",
   "metadata": {
    "slideshow": {
     "slide_type": "subslide"
    },
    "tags": [
     "keep",
     "subslide"
    ]
   },
   "outputs": [],
   "source": [
    "#include <iostream>"
   ]
  },
  {
   "cell_type": "code",
   "execution_count": null,
   "id": "9137d771cd35e0c2",
   "metadata": {
    "tags": [
     "keep"
    ]
   },
   "outputs": [],
   "source": [
    "struct MyStruct {\n",
    "    int i;\n",
    "\n",
    "    MyStruct(int i = 1) : i{i} {\n",
    "        std::cout << \"MyStruct(\" << i << \")\\n\";\n",
    "    }\n",
    "\n",
    "    ~MyStruct() {\n",
    "        std::cout << \"~MyStruct(\" << i << \")\\n\";\n",
    "    }\n",
    "};"
   ]
  },
  {
   "cell_type": "code",
   "execution_count": null,
   "id": "de800d1778b2c50a",
   "metadata": {
    "slideshow": {
     "slide_type": "subslide"
    },
    "tags": [
     "keep",
     "subslide"
    ]
   },
   "outputs": [],
   "source": [
    "{\n",
    "    MyStruct my_struct{};\n",
    "}"
   ]
  },
  {
   "cell_type": "code",
   "execution_count": null,
   "id": "3c94524366094350",
   "metadata": {
    "tags": [
     "keep"
    ]
   },
   "outputs": [],
   "source": [
    "{\n",
    "    MyStruct my_struct{};\n",
    "    MyStruct my_struct2{2};\n",
    "}"
   ]
  },
  {
   "cell_type": "code",
   "execution_count": null,
   "id": "2a1d4e8865686e0f",
   "metadata": {
    "tags": [
     "keep"
    ]
   },
   "outputs": [],
   "source": [
    "MyStruct* my_struct_ptr = new MyStruct{};"
   ]
  },
  {
   "cell_type": "code",
   "execution_count": null,
   "id": "536ea9976d2d3573",
   "metadata": {
    "tags": [
     "keep"
    ]
   },
   "outputs": [],
   "source": [
    "delete my_struct_ptr;"
   ]
  },
  {
   "cell_type": "markdown",
   "id": "588cd00bbdab5052",
   "metadata": {
    "lang": "de",
    "slideshow": {
     "slide_type": "subslide"
    },
    "tags": [
     "subslide"
    ]
   },
   "source": [
    "\n",
    "- Destruktoren erlauben es uns, Ressourcen freizugeben, die von einem Objekt\n",
    "  verwaltet werden.\n",
    "- Das kann z.B. Speicher sein, der mit `new` allokiert wurde.\n",
    "- Diese automatische Freigabe von Ressourcen ist ein wichtiger Bestandteil\n",
    "  von korrekten C++-Programmen.\n",
    "- In C++ werden Ressourcen im Konstruktor einer Klasse allokiert und im\n",
    "  Destruktor freigegeben.\n",
    "- Man nennt das \"Resource Acquisition Is Initialization\" (RAII)."
   ]
  },
  {
   "cell_type": "code",
   "execution_count": null,
   "id": "c9706a5e021660a8",
   "metadata": {
    "slideshow": {
     "slide_type": "subslide"
    },
    "tags": [
     "subslide",
     "alt"
    ]
   },
   "outputs": [],
   "source": [
    "class ManagedArray {\n",
    "    int* data_;\n",
    "    int size_;\n",
    "\n",
    "public:\n",
    "    ManagedArray(int size) : data_{new int[size]}, size_{size} {\n",
    "        std::cout << \"ManagedArray(\" << size << \")\\n\";\n",
    "    }\n",
    "\n",
    "    ~ManagedArray() {\n",
    "        delete[] data_;\n",
    "        std::cout << \"~ManagedArray(\" << size_ << \")\\n\";\n",
    "    }\n",
    "\n",
    "    // Functionality for working with the pointer.\n",
    "};"
   ]
  },
  {
   "cell_type": "code",
   "execution_count": null,
   "id": "f258615ea4713c39",
   "metadata": {
    "slideshow": {
     "slide_type": "subslide"
    },
    "tags": [
     "subslide"
    ]
   },
   "outputs": [],
   "source": [
    "{\n",
    "    ManagedArray ma{5};\n",
    "}"
   ]
  },
  {
   "cell_type": "code",
   "execution_count": null,
   "id": "0713d5d4f32c0e5b",
   "metadata": {},
   "outputs": [],
   "source": [
    "{\n",
    "    ManagedArray ma{5};\n",
    "    ManagedArray ma2{10};\n",
    "}"
   ]
  },
  {
   "cell_type": "code",
   "execution_count": null,
   "id": "e8a41297bc91ba25",
   "metadata": {},
   "outputs": [],
   "source": [
    "ManagedArray* ma_ptr = new ManagedArray{5};"
   ]
  },
  {
   "cell_type": "code",
   "execution_count": null,
   "id": "f01f0866520a1899",
   "metadata": {},
   "outputs": [],
   "source": [
    "delete ma_ptr;"
   ]
  },
  {
   "cell_type": "markdown",
   "id": "8b77982f2888ceff",
   "metadata": {
    "lang": "de",
    "slideshow": {
     "slide_type": "subslide"
    },
    "tags": [
     "subslide"
    ]
   },
   "source": [
    "\n",
    "## Workshop: Stack mit fester Maximalgröße\n",
    "\n",
    "In diesem Workshop implementieren wir eine Klasse `FixedStack`, die einen\n",
    "Stack von `int`-Werten mit fester Maximalgröße implementiert."
   ]
  },
  {
   "cell_type": "markdown",
   "id": "4243f5c957221e37",
   "metadata": {
    "lang": "de",
    "slideshow": {
     "slide_type": "subslide"
    },
    "tags": [
     "subslide"
    ]
   },
   "source": [
    "\n",
    "- Ein Stack ist eine Datenstruktur, die nach dem LIFO-Prinzip (Last In, First\n",
    "  Out) arbeitet.\n",
    "- Die Maximalgröße einer `FixedStack`-Instanz wird beim Aufruf des\n",
    "  Konstruktors übergeben.\n",
    "- Die Klasse soll die Methoden `push()`, `pop()` und `top()` implementieren.\n",
    "- Mit `void FixedStack::push(int i)` wird ein Wert auf den Stack gelegt.\n",
    "  Falls der Stack bereits seine maximale Zahl an Elementen enthält, soll\n",
    "  nichts passieren.\n",
    "- Mit `void FixedStack::pop()` wird das oberste Element vom Stack entfernt.\n",
    "  Falls der Stack leer ist, soll nichts passieren.\n",
    "- Mit `int FixedStack top() const` kann das oberste Element des Stacks\n",
    "  gelesen werden. Falls der Stack leer ist, soll `-1` zurückgegeben werden.\n",
    "- Es wäre besser, in den Ausnahmefällen eine Exception zu werfen, aber das\n",
    "  wurde in diesem Kurs noch nicht behandelt."
   ]
  },
  {
   "cell_type": "markdown",
   "id": "e24d1b55398df661",
   "metadata": {
    "lang": "de",
    "slideshow": {
     "slide_type": "subslide"
    },
    "tags": [
     "subslide"
    ]
   },
   "source": [
    "\n",
    "Zum Beispiel soll der folgende Code"
   ]
  },
  {
   "cell_type": "markdown",
   "id": "02d15dea9c27da88",
   "metadata": {},
   "source": [
    "\n",
    "```cpp\n",
    "{\n",
    "    FixedStack fs{5};\n",
    "\n",
    "    for (int i = 0; i < 8; ++i) {\n",
    "        fs.push(i);\n",
    "    }\n",
    "\n",
    "    for (int i = 0; i < 3; ++i) {\n",
    "        std::cout << fs.top() << \" \";\n",
    "        fs.pop();\n",
    "    }\n",
    "\n",
    "    std::cout << \"\\n\";\n",
    "\n",
    "    for (int i = 10; i < 20; ++i) {\n",
    "        fs.push(i);\n",
    "    }\n",
    "\n",
    "    for (int i = 0; i < 8; ++i) {\n",
    "        std::cout << fs.top() << \" \";\n",
    "        fs.pop();\n",
    "    }\n",
    "\n",
    "    std::cout << \"\\n\";\n",
    "}\n",
    "```"
   ]
  },
  {
   "cell_type": "markdown",
   "id": "9df462aed5839232",
   "metadata": {
    "lang": "de"
   },
   "source": [
    "\n",
    "soll die folgende Ausgabe erzeugen:\n",
    "\n",
    "```\n",
    "4 3 2\n",
    "12 11 10 1 0 -1 -1 -1\n",
    "```"
   ]
  },
  {
   "cell_type": "markdown",
   "id": "966a4e15c489026b",
   "metadata": {
    "lang": "de",
    "slideshow": {
     "slide_type": "subslide"
    },
    "tags": [
     "subslide"
    ]
   },
   "source": [
    "\n",
    "- Implementieren Sie die Klasse `FixedStack`.\n",
    "- Verwenden Sie ein Heap-allokiertes Array, um die Elemente zu speichern.\n",
    "- Achten Sie darauf, dass der Speicher für die Elemente freigegeben wird,\n",
    "  wenn ein `FixedStack`-Objekt zerstört wird.\n",
    "\n",
    "### Hinweise:\n",
    "\n",
    "- Es wäre erheblich besser, einen Vektor zur Speicherung der Elemente zu\n",
    "  verwenden.\n",
    "- Noch besser wäre es, die Klasse `std::stack` zu verwenden statt sie selbst\n",
    "  zu implementieren."
   ]
  },
  {
   "cell_type": "code",
   "execution_count": null,
   "id": "9f662b35f3aa12c1",
   "metadata": {
    "slideshow": {
     "slide_type": "subslide"
    },
    "tags": [
     "subslide"
    ]
   },
   "outputs": [],
   "source": [
    "class FixedStack {\n",
    "    int* data_;\n",
    "    int size_;\n",
    "    int top_;\n",
    "\n",
    "public:\n",
    "    FixedStack(int size) : data_{new int[size]}, size_{size}, top_{0} {\n",
    "        std::cout << \"FixedStack(\" << size << \")\\n\";\n",
    "    }\n",
    "\n",
    "    ~FixedStack() {\n",
    "        delete[] data_;\n",
    "        std::cout << \"~FixedStack(\" << size_ << \")\\n\";\n",
    "    }\n",
    "\n",
    "    void push(int i) {\n",
    "        if (top_ < size_) {\n",
    "            data_[top_++] = i;\n",
    "        }\n",
    "    }\n",
    "\n",
    "    void pop() {\n",
    "        if (top_ > 0) {\n",
    "            --top_;\n",
    "        }\n",
    "    }\n",
    "\n",
    "    int top() const {\n",
    "        if (top_ > 0) {\n",
    "            return data_[top_ - 1];\n",
    "        }\n",
    "        return -1;\n",
    "    }\n",
    "};"
   ]
  },
  {
   "cell_type": "code",
   "execution_count": null,
   "id": "a53bc57423c370dd",
   "metadata": {
    "slideshow": {
     "slide_type": "subslide"
    },
    "tags": [
     "subslide",
     "keep"
    ]
   },
   "outputs": [],
   "source": [
    "{\n",
    "    FixedStack fs{5};\n",
    "\n",
    "    for (int i = 0; i < 8; ++i) {\n",
    "        fs.push(i);\n",
    "    }\n",
    "\n",
    "    for (int i = 0; i < 3; ++i) {\n",
    "        std::cout << fs.top() << \" \";\n",
    "        fs.pop();\n",
    "    }\n",
    "\n",
    "    std::cout << \"\\n\";\n",
    "\n",
    "    for (int i = 10; i < 20; ++i) {\n",
    "        fs.push(i);\n",
    "    }\n",
    "\n",
    "    for (int i = 0; i < 8; ++i) {\n",
    "        std::cout << fs.top() << \" \";\n",
    "        fs.pop();\n",
    "    }\n",
    "\n",
    "    std::cout << \"\\n\";\n",
    "}"
   ]
  }
 ],
 "metadata": {
  "kernelspec": {
   "display_name": "C++17",
   "language": "C++17",
   "name": "xcpp17"
  },
  "language_info": {
   "codemirror_mode": "text/x-c++src",
   "file_extension": ".cpp",
   "mimetype": "text/x-c++src",
   "name": "c++",
   "version": "17"
  }
 },
 "nbformat": 4,
 "nbformat_minor": 5
}
