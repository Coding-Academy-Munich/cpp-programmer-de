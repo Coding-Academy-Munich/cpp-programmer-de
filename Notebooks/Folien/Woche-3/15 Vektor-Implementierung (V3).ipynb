{
 "cells": [
  {
   "cell_type": "markdown",
   "id": "427e21730b6b66d1",
   "metadata": {
    "lang": "de",
    "slideshow": {
     "slide_type": "slide"
    },
    "tags": [
     "slide"
    ]
   },
   "source": [
    "\n",
    "<img src=\"data:image/png;base64,iVBORw0KGgoAAAANSUhEUgAAAEAAAABACAYAAACqaXHeAAAABHNCSVQICAgIfAhkiAAAAAlwSFlzAAACkwAAApMBv+Bu1wAAABl0RVh0U29mdHdhcmUAd3d3Lmlua3NjYXBlLm9yZ5vuPBoAAAumSURBVHic1Vt7WFRlGv99ZwYGZoABVGCQS2gqqVikbImauanrqm31aNaz1SYhdtu85LqumTjenloto9ZWS+yiWZZPW7aaaWghXjC8cF0uclHuAwwwA3Ofc779A0HGGZgzZway318z53u/93vP73zn/d73O99L8Ctg6QcF8yjBK5TQSYRCSihKAOw3e/vv+iQpxjiYtpDBHOy5vXljRCzZAWBuHyK1lNB16Usm7AchdDBsGhQCXvx3fpBVjDUAVgLw5tElk+GY5R+8MD5vgE0bWAKUSsrUDs9/mlCyHUCIi905gB6ghFmdnhKnGgj7gAEkYOkHhTMo4dIATHBTVTuAN32Mvmn/WjbK5AHTbOBxApI+KogUW7mtAHnGw6rLALJqz9K4I55U6jECntmXJ/M1YDUlZA0AH0/pdYAMgFuxZ+k9RZ5Q5j4BlJKlHxYsBPA2JYh03yResFBCd1nF3IZPkuLb3VHkFgEpHxYmAFwagER39LiBVoBuag8s3Xlo0SJWiAJBBDy393K42CreQAmWAGCE6PAsaC5AVuxZOiHT1Z4uEbByxznfTj+/ZQDWAfB3dbCBBz1CCZalp9xdxbcHbwKSd+c9zDDkXQAxgmwbPJgpobs5RvL6R8mxHc6EnRKQnJ4bTyiTRige8Ix9g4Z6SrAxoi4uXakkXF9CfRLw8s7iISaJOZVQ8jIAkbvWyKVi3BXuhzvDZAgLlCDIzwsy7y61OjOLTqMV9W0mVDcbUFLfiYZ2j8U8OV3+Ie6co0aHBKR8WDAfoPsBBLozMiHAvTFyPBAbjNhwPxAXPE5tqxHnr7bhdHErTJY+HyBfcAC2D6+Pe+3W2WBn0o2l7Qz4JS19YkKUPxber0CYXOKOGnQarTie34KMghawnHsJIiVEmZ4St7H3NQcE5GcDuE/oIFKJCM9MG46JMXKhKhyiRm3Ex5k1qFUL2y4ws2zxycJyU217+8M4kFLbfd3m3V6yJy+GgGwXaqQiSIK/zx+BkaEyoSr6hFwqRuLoYKg0JjS08fcPlEJ18Vpt3vH8snitwaQASDUKvrvQ3S7uLUwoGSnUwOhhvlgxJwYyH7f9ZZ/wEhEs/X0UvvStx6kitTNxY7Vak32qqDzBwrJTeq5yuLO3kA0BDEfFHON6cBgWKMHyOXcM6M13gxDgicRwdJpY/FLuOA3QGU05R/NKwzR644MOmm2MFDsQcAk+Xgxenh0NPx+3VfEGAbB4egRatGZUNul7rrMsV5lZUtVW0aRO4KvL7Tj+icRwhLrp6YVAzBAkPRgBLzEDULQV1TWe/jjrYnRFk3qiS3rcMWKUQobE0UEu99MZWZSrdGjVWWC2cpD7eiFqqA/Cg1zbRhjq741RIZKi1w6dVRjMVkGRqlsELEgIcymbqmzS47tLKpTU6cBR+zU9VC7BrAlDMXVMEBgnUVNJfac2Jf10+5mShnEumm0DwQSMVsgwIlTKS5bjKL7KbsBPRWr0F8qoNCZ8llWHs6VteH5mFIJlXnYyzVqzZdt/CyveOnolFkCAMOtvQrAPmBobzEuOoxS7M6pxysnN90ZVkx5vHq6AusPcc81o4egXZ6sropZ9wd24eY9A0AwQiwji7+BH/rc5KuRe17o8RrvOgvdPXMfaR0biYlWb6s87T4mvNWsFxyl9QRABI0KkkIidT57GdhNOFLQIGQIAUNmkK/rd+iPi3OvNYwQrcQJhBPB894/lNoMTkMBQioaL12orc6/XJ4I69rNiEYNRYV2zsLjOPiDy8RIhJsQfFiuHclXfM1AQAQoe6z7LUeRVuzz19TXq9pyTRRWTbMJXBwgJ8MH/ti8AADBP7cWti8r4yCDkbHkEje0GKF76vE89gggIdOCdb0WjxgS9ifdGLdUYjdnHckujOgym6f0JMoTAz0cMP5+bNvjf+N1htEDEMJB6iyCTdN0aIUCAb1e71mCx0yeIAImX8/e/XWc/mCNYWbY4o7DcUtOqmcxHfmLMUPyy5U821zR7/wIAiPzrQUyMGYpvV83saQuV+/a0i576yC7+GLAAnjgJkSioKq/katnFopIh1C8I8B78cBoQSACfLSq5rE/VlvrmlvM/Zl2IN1st0wAAGjUgEuVAPiQcIvHw/vReqmqBPHkfwgKlKH17YddYyfsAdL0CjRoD5Mn7EH/HEPy8fh5UGgNGv3oIABxGn4IIaOMxvRWBEsh8RNAZb/oBnd6Q8/3pc6Ht2g77uJ1lE9DapIe3JBMBwZNAiMNdFY5SaA0W+PnctKHDaOlxglaWg9bAQWeyAgAodfzud0MQAY08dmwZQjAhKgDny9rAclzl6ZzLreXXa52lqVKYTdOhbmyA1D8XUr9E9LFx26Q1YuzqrwHAbgUAgMKaNoxd/TUs1v5nqyACKnrl4P1hXnwI+8nxy+fOXMyfzFE6gvcAlCqg0yqg7yhSREeIG3SsXSBkZTmH6383jBa23/ZuCMoFqpr0vPxASIC3aMqdftM4SgURfXdMyLiKnU+P+eqlKaqwAInTPTAhEESAlaW4co1fkLMlaQYem+J67hIxLACHNz0BX4kYj0+NDS3d8Xjw1kfHVXiJGY+eEhGcDWaVtvIbgBAcSl2IlQvu4/1hZPLYCJx/NwnRoTe31gOkEvLaovtHFv/zUebJiYoSITY7tE9ox6sNOpSr+PkCEUOw44XZyH4vGXMSRkIscjzs2OhhSH91PrLeWYyIYY6zzZGKIK8vVs2NzVw7Szte4Vct1P5u2DyT53fnzeEYcoxnXxoVJCpct+CuOOLKNy8ArR0GnCuqRXWTBnqTBYpgP0wcrUBs5FCX9FisHJLeOVp04FKjAgzDb4OCYhcOLnmp+68g52SxsEU/nsumdarmOIVsPpL/GO9S/2B/X8y/f5SQoW1Q2dCG/2QWjoOJbYNUehoyeSJcvCeXhDlKGy8VFlfklpT1pKkrdp3AlPGRLj89d2GysHh222EYugKeIOh1D0BvqESAvBUS30l89fD1AYaahsbMfd8c9c8tLpvSO0fvNJjxSOpXaNbw8weeAKXA4u2HcaGk7pYWbgS0bZPQqsoBa6nho8uGAI4h1lvH6ujszDp4NEP9Q1b2dIvV6jA8LatVY87az9EyCCRwlGLZ+z/g4E/9nJJj2QS0NodCqz4PSnW3tvb+Y0MAJbSi+7eFtZb8kHU+/+D3GdM6dJ0Rzgy7fLUB01Z+ior6Nl43IgQGkxWLNn+NnYdz+Ih7w2SajJYGHXTabODGniyD8t5Cdu47afeVo4VlFZKL+cUPUlCXP/bJZRLsXj4PT85wa7veDpevNmDx9u9QUNUkTAFhShAQaAbjPxeHnu15d+zXr1lbJoFyZ+HmAYk5CSPx9vOzMDZ6mDtq0KzRY9uX5/DuNxecJjZOQbABP6Zusr3kCDM3zgPIZ3DziAxDCB6bGouUufGYee8IiFz48nylvBGfnshD+rEr0Bn57S71Aw7ANkzl1kGp7P+ITA/+oAwGx2wAhUcOSYUEyvBQfAymxUUhNnIIokLkCPL3ASEErVoDWrR6FFY14dLVBpy8cg1ltR7LfXJAsRwnU887anT+SGYp7wFl0gD0u1l5G6IewFpkrN8P9F19wn9Ozt74MLjfxEFJA0Dfg8FnK86ucf+gpA0eV3qjXfQiKN2M2/KoLI6AIctwYr3nj8raYJYyHJTZANwuh6VxBQyzAideP+1qR/fqBR7alACGpoGSX+u4vBqEbEbgmJ04NIjH5W1BCWZtWghK3gIQ5b4+XrCAYBeodyoy/qFxR5HnaoZmb5eB068GBqFkhsUK/JR6m5TM3IrZWyLB0a0A9XzRFCWrcHL97Vk0ZYeHNs4AYdIA6n7ZHCFvQixPw7Flt3/ZnA2USgZnmKcBCCycJAfAsH/DCaXADMg5Bqd2eN4bQTCZ1wCEb+nszxBhBY6n/rZLZ+0wY/MYiGjfxdMEtaBY5yx89SQGl4BudGWbrwCYBEAKkGIAn8HK7sLPykEtn/8/zE19fO7n0IAAAAAASUVORK5CYII=\"\n",
    "     style=\"display:block;margin:auto;width:5%\"/>\n",
    "<br>\n",
    "\n",
    "<div style=\"text-align:center; font-size:200%;\">\n",
    " <b>Vektor-Implementierung (V3)</b>\n",
    "</div>\n",
    "<br/>\n",
    "<div style=\"text-align:center; font-size:120%;\">Dr. Matthias Hölzl</div>\n",
    "<br/>\n",
    "<div style=\"text-align:center;\">Coding-Akademie München</div>\n",
    "<br/>\n",
    "<!-- 15 Vektor-Implementierung (V3).ipynb -->\n",
    "<!-- slides/module_150_classes/topic_180_my_vector_v3.cpp -->"
   ]
  },
  {
   "cell_type": "markdown",
   "id": "9b42d1426d976a34",
   "metadata": {
    "lang": "de",
    "slideshow": {
     "slide_type": "subslide"
    },
    "tags": [
     "subslide"
    ]
   },
   "source": [
    "\n",
    "## `MyVector`-Class\n",
    "\n",
    "Wir können jetzt die folgenden Verbesserungen vornehmen:\n",
    "\n",
    "- Kapseln der Implementierung\n",
    "- Mehrere Konstruktoren\n",
    "- Automatische Freigabe des Heap-Speichers beim Zerstören des Objekts\n",
    "- Korrektes Kopieren von Vektoren"
   ]
  },
  {
   "cell_type": "code",
   "execution_count": null,
   "id": "85e855459bcd4e3d",
   "metadata": {
    "slideshow": {
     "slide_type": "subslide"
    },
    "tags": [
     "keep",
     "subslide"
    ]
   },
   "outputs": [],
   "source": [
    "#include <algorithm>\n",
    "#include <iostream>"
   ]
  },
  {
   "cell_type": "code",
   "execution_count": null,
   "id": "ab0274840aec924b",
   "metadata": {
    "slideshow": {
     "slide_type": "subslide"
    },
    "tags": [
     "keep",
     "subslide"
    ]
   },
   "outputs": [],
   "source": [
    "class MyVector\n",
    "{\n",
    "public:\n",
    "    MyVector() = default;\n",
    "    explicit MyVector(std::size_t size, int value = 0);\n",
    "    MyVector(std::initializer_list<int> init);\n",
    "    MyVector(const MyVector& other);\n",
    "    MyVector& operator=(const MyVector& other) {\n",
    "        std::cout << \"MyVector::operator=(const MyVector&)\\n\";\n",
    "        if (this != &other) {\n",
    "            if (capacity_ < other.size_) {\n",
    "                delete[] data_;\n",
    "                data_ = new int[other.capacity_];\n",
    "                capacity_ = other.capacity_;\n",
    "            }\n",
    "            size_ = other.size_;\n",
    "            std::copy(other.data_, other.data_ + other.size_, data_);\n",
    "        }\n",
    "        return *this;\n",
    "    }\n",
    "    ~MyVector();\n",
    "\n",
    "    void push_back(int value);\n",
    "    int at(std::size_t index) const;\n",
    "    int& at(std::size_t index);\n",
    "    std::size_t size() const;\n",
    "    std::size_t capacity() const;\n",
    "    void print() const;\n",
    "\n",
    "private:\n",
    "    std::size_t size_{0};\n",
    "    std::size_t capacity_{0};\n",
    "    int* data_{nullptr};\n",
    "};"
   ]
  },
  {
   "cell_type": "markdown",
   "id": "a8ba2cf049c9abfa",
   "metadata": {
    "lang": "de",
    "slideshow": {
     "slide_type": "subslide"
    },
    "tags": [
     "subslide"
    ]
   },
   "source": [
    "\n",
    "## `MyVector`-Implementierung\n"
   ]
  },
  {
   "cell_type": "code",
   "execution_count": null,
   "id": "785e53cdd42fe651",
   "metadata": {
    "slideshow": {
     "slide_type": "subslide"
    },
    "tags": [
     "keep",
     "subslide"
    ]
   },
   "outputs": [],
   "source": [
    "MyVector::MyVector(std::size_t size, int value)\n",
    "    : size_(size), capacity_(size), data_(new int[size_])\n",
    "{\n",
    "    for (std::size_t i = 0; i != size_; ++i)\n",
    "    {\n",
    "        data_[i] = value;\n",
    "    }\n",
    "    // Alternative:\n",
    "    // std::fill_n(data_, size_, value);\n",
    "}"
   ]
  },
  {
   "cell_type": "code",
   "execution_count": null,
   "id": "f591ccd2a47c3619",
   "metadata": {
    "slideshow": {
     "slide_type": "subslide"
    },
    "tags": [
     "keep",
     "subslide"
    ]
   },
   "outputs": [],
   "source": [
    "MyVector::MyVector(std::initializer_list<int> init)\n",
    "    : size_(init.size()), capacity_(init.size()), data_(new int[size_])\n",
    "{\n",
    "    std::copy(init.begin(), init.end(), data_);\n",
    "}"
   ]
  },
  {
   "cell_type": "code",
   "execution_count": null,
   "id": "b615c296189f6064",
   "metadata": {
    "tags": [
     "keep"
    ]
   },
   "outputs": [],
   "source": [
    "MyVector::MyVector(const MyVector& other)\n",
    "    : size_(other.size_), capacity_(other.capacity_), data_(new int[other.capacity_])\n",
    "{\n",
    "    std::cout << \"MyVector(const MyVector&)\\n\";\n",
    "    std::copy(other.data_, other.data_ + other.size_, data_);\n",
    "}"
   ]
  },
  {
   "cell_type": "code",
   "execution_count": null,
   "id": "33563f3a28d53c3f",
   "metadata": {
    "slideshow": {
     "slide_type": "subslide"
    },
    "tags": [
     "keep",
     "subslide"
    ]
   },
   "outputs": [],
   "source": [
    "MyVector::~MyVector()\n",
    "{\n",
    "    delete[] data_;\n",
    "    data_ = nullptr;\n",
    "    size_ = 0;\n",
    "    capacity_ = 0;\n",
    "    std::cout << \"~MyVector()\\n\";\n",
    "}"
   ]
  },
  {
   "cell_type": "code",
   "execution_count": null,
   "id": "ffbd97fe1e2edfa4",
   "metadata": {
    "slideshow": {
     "slide_type": "subslide"
    },
    "tags": [
     "keep",
     "subslide"
    ]
   },
   "outputs": [],
   "source": [
    "void MyVector::push_back(int value)\n",
    "{\n",
    "    if (size_ == capacity_)\n",
    "    {\n",
    "        std::size_t new_capacity = capacity_ == 0 ? 1 : capacity_ * 2;\n",
    "        int* new_data = new int[new_capacity];\n",
    "        for (std::size_t i = 0; i != size_; ++i)\n",
    "        {\n",
    "            new_data[i] = data_[i];\n",
    "        }\n",
    "        delete[] data_;\n",
    "        data_ = new_data;\n",
    "        capacity_ = new_capacity;\n",
    "    }\n",
    "    data_[size_] = value;\n",
    "    ++size_;\n",
    "}"
   ]
  },
  {
   "cell_type": "code",
   "execution_count": null,
   "id": "3dfa2883f8ebd50b",
   "metadata": {
    "slideshow": {
     "slide_type": "subslide"
    },
    "tags": [
     "keep",
     "subslide"
    ]
   },
   "outputs": [],
   "source": [
    "int MyVector::at(std::size_t index) const\n",
    "{\n",
    "    // The `at()` method should do bounds checking...\n",
    "    return data_[index];\n",
    "}"
   ]
  },
  {
   "cell_type": "code",
   "execution_count": null,
   "id": "7195b28bb652ff6a",
   "metadata": {
    "tags": [
     "keep"
    ]
   },
   "outputs": [],
   "source": [
    "int& MyVector::at(std::size_t index)\n",
    "{\n",
    "    // ...but we don't do it here since we haven't talked about exceptions yet\n",
    "    return data_[index];\n",
    "}"
   ]
  },
  {
   "cell_type": "code",
   "execution_count": null,
   "id": "645719de82349e9f",
   "metadata": {
    "slideshow": {
     "slide_type": "subslide"
    },
    "tags": [
     "keep",
     "subslide"
    ]
   },
   "outputs": [],
   "source": [
    "std::size_t MyVector::size() const { return size_; }"
   ]
  },
  {
   "cell_type": "code",
   "execution_count": null,
   "id": "b988d958d661c5ad",
   "metadata": {
    "tags": [
     "keep"
    ]
   },
   "outputs": [],
   "source": [
    "std::size_t MyVector::capacity() const { return capacity_; }"
   ]
  },
  {
   "cell_type": "code",
   "execution_count": null,
   "id": "a0ee650c342d197c",
   "metadata": {
    "slideshow": {
     "slide_type": "subslide"
    },
    "tags": [
     "keep",
     "subslide"
    ]
   },
   "outputs": [],
   "source": [
    "#include <iostream>"
   ]
  },
  {
   "cell_type": "code",
   "execution_count": null,
   "id": "e860510e1f159f25",
   "metadata": {
    "tags": [
     "keep"
    ]
   },
   "outputs": [],
   "source": [
    "void MyVector::print() const\n",
    "{\n",
    "    std::cout << \"[\";\n",
    "    for (std::size_t i = 0; i < size_; ++i)\n",
    "    {\n",
    "        std::cout << data_[i];\n",
    "        if (i < size_ - 1)\n",
    "        {\n",
    "            std::cout << \", \";\n",
    "        }\n",
    "    }\n",
    "    std::cout << \"]\";\n",
    "}"
   ]
  },
  {
   "cell_type": "code",
   "execution_count": null,
   "id": "c9c333b54b5cae83",
   "metadata": {
    "slideshow": {
     "slide_type": "subslide"
    },
    "tags": [
     "keep",
     "subslide"
    ]
   },
   "outputs": [],
   "source": [
    "void print_info(const MyVector& vec)\n",
    "{\n",
    "    std::cout << \"size: \" << vec.size() << \"\\n\";\n",
    "    std::cout << \"capacity: \" << vec.capacity() << \"\\n\";\n",
    "    std::cout << \"data: \";\n",
    "    vec.print();\n",
    "    std::cout << \"\\n\";\n",
    "}"
   ]
  },
  {
   "cell_type": "markdown",
   "id": "ac8efb2c3bf0e686",
   "metadata": {
    "lang": "de",
    "slideshow": {
     "slide_type": "subslide"
    },
    "tags": [
     "subslide"
    ]
   },
   "source": [
    "\n",
    "## Verwenden von `MyVector`\n",
    "\n",
    "- Die Verwendung von `MyVector` ist nun ähnlicher zu `std::vector`\n",
    "- Die Verwaltung des Speichers ist transparent, wir müssen `destroy()` nicht\n",
    "  mehr aufrufen\n",
    "- Aber es werden potentiell zu viele unnötige Kopien gemacht, z.B.:\n",
    "  - Bei der Übergabe von temporären `MyVector`-Objekten an Funktionen\n",
    "  - Bei der Rückgabe von `MyVector`-Objekten aus Funktionen"
   ]
  },
  {
   "cell_type": "code",
   "execution_count": null,
   "id": "8652ffa2a56a7ec1",
   "metadata": {
    "slideshow": {
     "slide_type": "subslide"
    },
    "tags": [
     "keep",
     "subslide"
    ]
   },
   "outputs": [],
   "source": [
    "{\n",
    "    const MyVector vec{1, 2, 3};\n",
    "    int i{vec.at(0)};\n",
    "    print_info(vec);\n",
    "}"
   ]
  },
  {
   "cell_type": "code",
   "execution_count": null,
   "id": "754dbd4543ba5f20",
   "metadata": {
    "tags": [
     "keep"
    ]
   },
   "outputs": [],
   "source": [
    "{\n",
    "    MyVector vec(4);\n",
    "    vec.push_back(1);\n",
    "    print_info(vec);\n",
    "}"
   ]
  },
  {
   "cell_type": "code",
   "execution_count": null,
   "id": "0cefaf6b1789fec2",
   "metadata": {
    "tags": [
     "keep"
    ]
   },
   "outputs": [],
   "source": [
    "{\n",
    "    MyVector vec{1, 2, 3, 4, 5};\n",
    "    MyVector vec2{vec};\n",
    "    vec.at(0) = 42;\n",
    "    vec2.push_back(6);\n",
    "    print_info(vec);\n",
    "    print_info(vec2);\n",
    "}"
   ]
  },
  {
   "cell_type": "code",
   "execution_count": null,
   "id": "94303c14445fa7a4",
   "metadata": {
    "slideshow": {
     "slide_type": "subslide"
    },
    "tags": [
     "keep",
     "subslide"
    ]
   },
   "outputs": [],
   "source": [
    "const MyVector* vec{new MyVector(3, 4)};\n",
    "print_info(*vec);"
   ]
  },
  {
   "cell_type": "code",
   "execution_count": null,
   "id": "a98021f46c01fb21",
   "metadata": {
    "tags": [
     "keep"
    ]
   },
   "outputs": [],
   "source": [
    "delete vec;"
   ]
  }
 ],
 "metadata": {
  "kernelspec": {
   "display_name": "C++17",
   "language": "C++17",
   "name": "xcpp17"
  },
  "language_info": {
   "codemirror_mode": "text/x-c++src",
   "file_extension": ".cpp",
   "mimetype": "text/x-c++src",
   "name": "c++",
   "version": "17"
  }
 },
 "nbformat": 4,
 "nbformat_minor": 5
}
