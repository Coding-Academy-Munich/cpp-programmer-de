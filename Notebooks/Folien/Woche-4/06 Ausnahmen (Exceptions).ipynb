{
 "cells": [
  {
   "cell_type": "markdown",
   "id": "e6b90ecc329102c0",
   "metadata": {
    "lang": "de",
    "slideshow": {
     "slide_type": "slide"
    },
    "tags": [
     "slide"
    ]
   },
   "source": [
    "\n",
    "<img src=\"data:image/png;base64,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\"\n",
    "     style=\"display:block;margin:auto;width:5%\"/>\n",
    "<br>\n",
    "\n",
    "<div style=\"text-align:center; font-size:200%;\">\n",
    " <b>Ausnahmen (Exceptions)</b>\n",
    "</div>\n",
    "<br/>\n",
    "<div style=\"text-align:center; font-size:120%;\">Dr. Matthias Hölzl</div>\n",
    "<br/>\n",
    "<div style=\"text-align:center;\">Coding-Akademie München</div>\n",
    "<br/>\n",
    "<!-- 06 Ausnahmen (Exceptions).ipynb -->\n",
    "<!-- slides/module_180_error_handling/topic_120_exceptions.cpp -->"
   ]
  },
  {
   "cell_type": "markdown",
   "id": "c1514e6e84e2587d",
   "metadata": {
    "lang": "de",
    "lines_to_next_cell": 2,
    "slideshow": {
     "slide_type": "slide"
    },
    "tags": [
     "slide"
    ]
   },
   "source": [
    "\n",
    "## Ausnahmen (Exceptions)\n",
    "\n",
    "- Wir können Fehler in C++ mit Ausnahmen behandeln\n",
    "- Das Auslösen einer Ausnahme unterbricht die Ausführung des Programms\n",
    "- Es wird die Kette von Funktionsaufrufen so weit abgebrochen, bis eine\n",
    "  Behandlung der Ausnahme erfolgt"
   ]
  },
  {
   "cell_type": "markdown",
   "id": "18506d7968887b85",
   "metadata": {
    "lang": "de",
    "slideshow": {
     "slide_type": "subslide"
    },
    "tags": [
     "subslide"
    ]
   },
   "source": [
    "\n",
    "## Auslösen einer Ausnahme\n",
    "\n",
    "- Wir können eine Ausnahme mit dem `throw`-Operator auslösen\n",
    "- Der `throw`-Operator bekommt ein Ausnahme-Objekt übergeben: `throw ex;`\n",
    "- Normalerweise\n",
    "  - ist `ex` Objekt einer Klasse, die von `std::exception` erbt\n",
    "  - wird `ex` als Wert übergeben (nicht als Referenz)"
   ]
  },
  {
   "cell_type": "code",
   "execution_count": null,
   "id": "cb1b64d4aa32ad07",
   "metadata": {
    "tags": [
     "alt"
    ]
   },
   "outputs": [],
   "source": [
    "#include <stdexcept>\n",
    "\n",
    "int int_sqrt(int n) {\n",
    "    for (int m = 0; m <= n; ++m) {\n",
    "        if (m * m == n) {\n",
    "            return m;\n",
    "        }\n",
    "    }\n",
    "    throw std::domain_error(\"not a square number\");\n",
    "}"
   ]
  },
  {
   "cell_type": "code",
   "execution_count": null,
   "id": "224f1ab6d4ac3611",
   "metadata": {
    "lines_to_next_cell": 2,
    "slideshow": {
     "slide_type": "subslide"
    },
    "tags": [
     "subslide",
     "keep"
    ]
   },
   "outputs": [],
   "source": [
    "int_sqrt(9)"
   ]
  },
  {
   "cell_type": "code",
   "execution_count": null,
   "id": "b89be0cd3839d287",
   "metadata": {
    "tags": [
     "keep"
    ]
   },
   "outputs": [],
   "source": [
    "// int_sqrt(8)"
   ]
  },
  {
   "cell_type": "markdown",
   "id": "7ec589514f600e6f",
   "metadata": {
    "lang": "de",
    "slideshow": {
     "slide_type": "subslide"
    },
    "tags": [
     "subslide"
    ]
   },
   "source": [
    "\n",
    "- Nicht behandelte Ausnahmen brechen die Programmausführung ab:"
   ]
  },
  {
   "cell_type": "code",
   "execution_count": null,
   "id": "4a2dbacda0753e05",
   "metadata": {
    "tags": [
     "keep"
    ]
   },
   "outputs": [],
   "source": [
    "#include <iostream>\n",
    "\n",
    "void print_int_sqrt(int n) {\n",
    "    int root{int_sqrt(n)};\n",
    "    std::cout << \"The root of \" << n << \" is \" << root << \".\\n\";\n",
    "}"
   ]
  },
  {
   "cell_type": "code",
   "execution_count": null,
   "id": "658dec7f06e7f0da",
   "metadata": {
    "tags": [
     "keep"
    ]
   },
   "outputs": [],
   "source": [
    "print_int_sqrt(9)"
   ]
  },
  {
   "cell_type": "code",
   "execution_count": null,
   "id": "21e43aec632808cc",
   "metadata": {
    "tags": [
     "keep"
    ]
   },
   "outputs": [],
   "source": [
    "// print_int_sqrt(8)"
   ]
  },
  {
   "cell_type": "markdown",
   "id": "044db85755bdccab",
   "metadata": {
    "lang": "de",
    "slideshow": {
     "slide_type": "slide"
    },
    "tags": [
     "slide"
    ]
   },
   "source": [
    "\n",
    "## Fehlerklassen\n",
    "\n",
    "- In C++ gibt es einige vordefinierte Fehlerklassen, mit denen verschiedene\n",
    "  Fehlerarten signalisiert werden können\n",
    "- Diese Klassen sind in der Header-Datei `<stdexcept>` definiert"
   ]
  },
  {
   "cell_type": "markdown",
   "id": "f577dcdfc557515c",
   "metadata": {
    "lang": "de",
    "slideshow": {
     "slide_type": "subslide"
    },
    "tags": [
     "subslide"
    ]
   },
   "source": [
    "\n",
    "| Fehlerklasse            | Oberklasse           | Beschreibung                                        |\n",
    "| :---------------------- | :------------------- | :-------------------------------------------------- |\n",
    "| `std::logic_error`      | `std::exception`     | Verletzung von Precondition oder Klasseninvariante  |\n",
    "| `std::invalid_argument` | `std::logic_error`   | Ungültiges Argument                                 |\n",
    "| `std::domain_error`     | `std::logic_error`   | Argumente außerhalb des erlauben Bereichs           |\n",
    "| `std::length_error`     | `std::logic_error`   | Länge überschreitet erlaubtes Maximum               |\n",
    "| `std::out_of_range`     | `std::logic_error`   | Elementzugriff außerhalb der gültigen Indizes       |\n",
    "| `std::runtime_error`    | `std::exception`     | Fehler, der erst zur Laufzeit erkannt werden kann   |\n",
    "| `std::range_error`      | `std::runtime_error` | Ergebnis einer Berechnung nicht vom Typ darstellbar |\n",
    "| `std::overflow_error`   | `std::runtime_error` | Überlauf bei einer Berechnung                       |\n",
    "| `std::underflow_error`  | `std::runtime_error` | Unterlauf bei einer Berechnung                      |"
   ]
  },
  {
   "cell_type": "markdown",
   "id": "6e8aa77aca855a68",
   "metadata": {
    "lang": "de",
    "slideshow": {
     "slide_type": "slide"
    },
    "tags": [
     "slide"
    ]
   },
   "source": [
    "\n",
    "## Workshop: Bank Account\n",
    "\n",
    "Definieren Sie eine Klasse `BankAccount` mit\n",
    "- einer Member-Variablen `double balance`\n",
    "- Member-Funktionen\n",
    "  - `void deposit(double amount)`\n",
    "  - `void withdraw(double amount)`\n",
    "\n",
    "*Hinweis: Für eine realistischere Implementierung sollte ein Dezimaltyp statt\n",
    "`double` verwendet werden.*"
   ]
  },
  {
   "cell_type": "markdown",
   "id": "574fa0cfa2aa7353",
   "metadata": {
    "lang": "de",
    "slideshow": {
     "slide_type": "subslide"
    },
    "tags": [
     "subslide"
    ]
   },
   "source": [
    "\n",
    "Die Klasse soll in folgenden Fällen eine Exception vom Typ `domain_error`\n",
    "auslösen:\n",
    "\n",
    "- Wenn ein neuer `BankAccount` mit negativer `balance` angelegt werden soll.\n",
    "- Wenn `deposit` mit einem negativen Wert aufgerufen wird.\n",
    "- Wenn `withdraw` mit einem negativen Wert aufgerufen wird oder durch das\n",
    "  Abheben des Betrags die `balance` des Kontos negativ werden würde."
   ]
  },
  {
   "cell_type": "code",
   "execution_count": null,
   "id": "2304393cf6a22471",
   "metadata": {
    "slideshow": {
     "slide_type": "subslide"
    },
    "tags": [
     "subslide"
    ]
   },
   "outputs": [],
   "source": [
    "#include <stdexcept>\n",
    "\n",
    "class BankAccount\n",
    "{\n",
    "public:\n",
    "    BankAccount(double balance);\n",
    "\n",
    "    void deposit(double amount);\n",
    "    void withdraw(double amount);\n",
    "\n",
    "    double balance() const;\n",
    "\n",
    "private:\n",
    "    double balance_;\n",
    "}"
   ]
  },
  {
   "cell_type": "code",
   "execution_count": null,
   "id": "b6c69db6ba242291",
   "metadata": {
    "slideshow": {
     "slide_type": "subslide"
    },
    "tags": [
     "subslide"
    ]
   },
   "outputs": [],
   "source": [
    "BankAccount::BankAccount(double balance)\n",
    "    : balance_(balance)\n",
    "{\n",
    "    if (balance < 0) {\n",
    "        throw std::domain_error(\"Cannot create an account with negative balance.\");\n",
    "    }\n",
    "}"
   ]
  },
  {
   "cell_type": "code",
   "execution_count": null,
   "id": "e2722c0d62bddd63",
   "metadata": {
    "slideshow": {
     "slide_type": "subslide"
    },
    "tags": [
     "subslide"
    ]
   },
   "outputs": [],
   "source": [
    "void BankAccount::deposit(double amount)\n",
    "{\n",
    "    if (amount < 0) {\n",
    "        throw std::domain_error(\"Cannot deposit a negative amount.\");\n",
    "    }\n",
    "    balance_ += amount;\n",
    "}"
   ]
  },
  {
   "cell_type": "code",
   "execution_count": null,
   "id": "9ad807933002ca1c",
   "metadata": {
    "slideshow": {
     "slide_type": "subslide"
    },
    "tags": [
     "subslide"
    ]
   },
   "outputs": [],
   "source": [
    "void BankAccount::withdraw(double amount)\n",
    "{\n",
    "    if (amount < 0) {\n",
    "        throw std::domain_error(\"Cannot withdraw a negative amount.\");\n",
    "    }\n",
    "    if (balance_ - amount < 0) {\n",
    "        throw std::domain_error(\"Cannot withdraw more than the balance.\");\n",
    "    }\n",
    "    balance_ -= amount;\n",
    "}"
   ]
  },
  {
   "cell_type": "markdown",
   "id": "87407c388dbc72c2",
   "metadata": {
    "lang": "de",
    "slideshow": {
     "slide_type": "subslide"
    },
    "tags": [
     "subslide"
    ]
   },
   "source": [
    "\n",
    "Testen Sie die Funktionalität der Klasse sowohl für erfolgreiche\n",
    "Transaktionen, als auch für Transaktionen, die Exceptions auslösen."
   ]
  },
  {
   "cell_type": "code",
   "execution_count": null,
   "id": "8f7a063f1f383ef1",
   "metadata": {
    "slideshow": {
     "slide_type": "subslide"
    },
    "tags": [
     "subslide"
    ]
   },
   "outputs": [],
   "source": [
    "double BankAccount::balance() const { return balance_; }"
   ]
  },
  {
   "cell_type": "code",
   "execution_count": null,
   "id": "c99b8141aad04991",
   "metadata": {},
   "outputs": [],
   "source": [
    "BankAccount b{100.0};\n",
    "b.balance()"
   ]
  },
  {
   "cell_type": "code",
   "execution_count": null,
   "id": "9ddcd711e9ae4125",
   "metadata": {},
   "outputs": [],
   "source": [
    "b.deposit(200.0);\n",
    "b.balance()"
   ]
  },
  {
   "cell_type": "code",
   "execution_count": null,
   "id": "9a2146f259d27a89",
   "metadata": {
    "slideshow": {
     "slide_type": "subslide"
    },
    "tags": [
     "subslide"
    ]
   },
   "outputs": [],
   "source": [
    "// b.deposit(-100.0);"
   ]
  },
  {
   "cell_type": "code",
   "execution_count": null,
   "id": "e0d93b4535d82dbb",
   "metadata": {},
   "outputs": [],
   "source": [
    "b.withdraw(50.0);\n",
    "b.balance()"
   ]
  },
  {
   "cell_type": "code",
   "execution_count": null,
   "id": "e0407cb5ac752997",
   "metadata": {},
   "outputs": [],
   "source": [
    "// b.withdraw(-200.0);"
   ]
  },
  {
   "cell_type": "code",
   "execution_count": null,
   "id": "7fdf79970c819001",
   "metadata": {
    "lines_to_next_cell": 2
   },
   "outputs": [],
   "source": [
    "// b.withdraw(1000.0);"
   ]
  }
 ],
 "metadata": {
  "kernelspec": {
   "display_name": "C++17",
   "language": "C++17",
   "name": "xcpp17"
  },
  "language_info": {
   "codemirror_mode": "text/x-c++src",
   "file_extension": ".cpp",
   "mimetype": "text/x-c++src",
   "name": "c++",
   "version": "17"
  }
 },
 "nbformat": 4,
 "nbformat_minor": 5
}
