{
 "cells": [
  {
   "cell_type": "markdown",
   "id": "e3264e62a3bc977c",
   "metadata": {
    "lang": "de",
    "slideshow": {
     "slide_type": "slide"
    },
    "tags": [
     "slide"
    ]
   },
   "source": [
    "\n",
    "<img src=\"data:image/png;base64,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\"\n",
    "     style=\"display:block;margin:auto;width:5%\"/>\n",
    "<br>\n",
    "\n",
    "<div style=\"text-align:center; font-size:200%;\">\n",
    " <b>Unique Pointer</b>\n",
    "</div>\n",
    "<br/>\n",
    "<div style=\"text-align:center; font-size:120%;\">Dr. Matthias Hölzl</div>\n",
    "<br/>\n",
    "<div style=\"text-align:center;\">Coding-Akademie München</div>\n",
    "<br/>\n",
    "<!-- 06 Unique Pointer.ipynb -->\n",
    "<!-- slides/module_160_raii/topic_130_unique_ptr.cpp -->"
   ]
  },
  {
   "cell_type": "markdown",
   "id": "dfed35ae2db51359",
   "metadata": {
    "lang": "de",
    "slideshow": {
     "slide_type": "subslide"
    },
    "tags": [
     "subslide"
    ]
   },
   "source": [
    "\n",
    "## `std::unique_ptr`\n",
    "\n",
    "- Smart Pointer\n",
    "- Alleiniges Eigentum an einem Objekt\n",
    "- Löscht das Objekt mit `delete`\n",
    "- Kann **nicht** kopiert werden\n",
    "- Kann verschoben werden, z.B. mit `std::move()`\n",
    "- Erzeugen mit `std::make_unique<T>()`"
   ]
  },
  {
   "cell_type": "code",
   "execution_count": null,
   "id": "e5f4dfe6374de21f",
   "metadata": {
    "slideshow": {
     "slide_type": "subslide"
    },
    "tags": [
     "subslide",
     "keep"
    ]
   },
   "outputs": [],
   "source": [
    "#include <memory>\n",
    "#include <iostream>\n",
    "#include \"lifetime_observer.hpp\"\n",
    "#include \"print_info.hpp\""
   ]
  },
  {
   "cell_type": "markdown",
   "id": "e155f776bb613c64",
   "metadata": {
    "lang": "de"
   },
   "source": [
    "\n",
    "Wir verwenden die Klasse `Obs` zum Beobachten des Lebenszyklus"
   ]
  },
  {
   "cell_type": "code",
   "execution_count": null,
   "id": "2567c7cf63ac48a4",
   "metadata": {
    "tags": [
     "keep"
    ]
   },
   "outputs": [],
   "source": [
    "{\n",
    "    Obs obs{42};\n",
    "    Obs obs2 = obs;\n",
    "    Obs obs3{std::move(obs)};\n",
    "}"
   ]
  },
  {
   "cell_type": "markdown",
   "id": "2a27b640334e05d4",
   "metadata": {
    "lang": "de",
    "slideshow": {
     "slide_type": "subslide"
    },
    "tags": [
     "subslide"
    ]
   },
   "source": [
    "\n",
    "- Erzeugung als \"Nullpointer\":"
   ]
  },
  {
   "cell_type": "code",
   "execution_count": null,
   "id": "6b9318bb5b74c74f",
   "metadata": {
    "tags": [
     "keep"
    ]
   },
   "outputs": [],
   "source": [
    "std::unique_ptr<Obs> obs{};"
   ]
  },
  {
   "cell_type": "code",
   "execution_count": null,
   "id": "6f3447172b50b7b9",
   "metadata": {},
   "outputs": [],
   "source": [
    "(obs == nullptr)"
   ]
  },
  {
   "cell_type": "code",
   "execution_count": null,
   "id": "dbca893a71dd9447",
   "metadata": {},
   "outputs": [],
   "source": [
    "print_bool(obs);"
   ]
  },
  {
   "cell_type": "code",
   "execution_count": null,
   "id": "0bbe9c6dd54f7c1b",
   "metadata": {},
   "outputs": [],
   "source": [
    "print_null(obs);"
   ]
  },
  {
   "cell_type": "code",
   "execution_count": null,
   "id": "d8855d289608eff5",
   "metadata": {
    "slideshow": {
     "slide_type": "subslide"
    },
    "tags": [
     "keep",
     "subslide"
    ]
   },
   "outputs": [],
   "source": [
    "std::unique_ptr<Obs> obs{nullptr};"
   ]
  },
  {
   "cell_type": "code",
   "execution_count": null,
   "id": "5e38d89a757d052c",
   "metadata": {},
   "outputs": [],
   "source": [
    "print_null(obs)"
   ]
  },
  {
   "cell_type": "markdown",
   "id": "b231f53769fc926a",
   "metadata": {
    "lang": "de",
    "slideshow": {
     "slide_type": "subslide"
    },
    "tags": [
     "subslide"
    ]
   },
   "source": [
    "\n",
    "- Erzeugung aus Pointer:"
   ]
  },
  {
   "cell_type": "code",
   "execution_count": null,
   "id": "22fbfd05aedbe364",
   "metadata": {
    "tags": [
     "keep"
    ]
   },
   "outputs": [],
   "source": [
    "{\n",
    "    std::unique_ptr<Obs> obs{new Obs{42}};\n",
    "    print_null(obs);\n",
    "}"
   ]
  },
  {
   "cell_type": "markdown",
   "id": "f5821319d06d74a5",
   "metadata": {
    "lang": "de",
    "slideshow": {
     "slide_type": "subslide"
    },
    "tags": [
     "subslide"
    ]
   },
   "source": [
    "\n",
    "Besser: Erzeugung mit `std::make_unique()`:"
   ]
  },
  {
   "cell_type": "code",
   "execution_count": null,
   "id": "51abe1a294d851c4",
   "metadata": {
    "tags": [
     "keep"
    ]
   },
   "outputs": [],
   "source": [
    "{\n",
    "    std::unique_ptr<Obs> obs{std::make_unique<Obs>(42)};\n",
    "    print_null(obs);\n",
    "}"
   ]
  },
  {
   "cell_type": "markdown",
   "id": "e48c4727487a19f3",
   "metadata": {
    "lang": "de",
    "slideshow": {
     "slide_type": "subslide"
    },
    "tags": [
     "subslide"
    ]
   },
   "source": [
    "\n",
    "- Da der Typ relativ lang ist und sich aus dem Template-Argument von\n",
    "  `std::make_unique()` ergibt, verwendet man oft `auto`.\n",
    "- `auto` deklariert die Variable mit dem Typ des Initialisierers.\n",
    "  - `auto` ist kein Typ!\n",
    "  - Entfernt Pointer, Referenz, const, volatile, ...\n",
    "  - `const`, `*`, `&` können mit `auto` kombiniert werden."
   ]
  },
  {
   "cell_type": "code",
   "execution_count": null,
   "id": "7a2de295c95278c4",
   "metadata": {
    "tags": [
     "keep"
    ]
   },
   "outputs": [],
   "source": [
    "{\n",
    "    auto obs{std::make_unique<Obs>(42)};\n",
    "    print_null(obs);\n",
    "}"
   ]
  },
  {
   "cell_type": "markdown",
   "id": "a66e40c90b13c026",
   "metadata": {
    "lang": "de",
    "slideshow": {
     "slide_type": "subslide"
    },
    "tags": [
     "subslide"
    ]
   },
   "source": [
    "\n",
    "- Zugriff auf das Objekt mit dem Dereferenzierungsoperator `*`:\n",
    "- `*i` liefert eine Referenz auf das Objekt."
   ]
  },
  {
   "cell_type": "code",
   "execution_count": null,
   "id": "29b9a4fd64858693",
   "metadata": {
    "tags": [
     "keep"
    ]
   },
   "outputs": [],
   "source": [
    "std::unique_ptr<Obs> obs{std::make_unique<Obs>(42)};"
   ]
  },
  {
   "cell_type": "code",
   "execution_count": null,
   "id": "3a0cd4f3d955df50",
   "metadata": {},
   "outputs": [],
   "source": [
    "*obs"
   ]
  },
  {
   "cell_type": "code",
   "execution_count": null,
   "id": "6a133e38dad30146",
   "metadata": {},
   "outputs": [],
   "source": [
    "*obs = 23;"
   ]
  },
  {
   "cell_type": "code",
   "execution_count": null,
   "id": "5d45000c2c084c3c",
   "metadata": {
    "lines_to_next_cell": 2
   },
   "outputs": [],
   "source": [
    "*obs"
   ]
  },
  {
   "cell_type": "code",
   "execution_count": null,
   "id": "6b22881ec2f5d4cc",
   "metadata": {
    "tags": [
     "keep"
    ]
   },
   "outputs": [],
   "source": [
    "obs = nullptr;"
   ]
  },
  {
   "cell_type": "markdown",
   "id": "81617b188faba1c4",
   "metadata": {
    "lang": "de",
    "slideshow": {
     "slide_type": "subslide"
    },
    "tags": [
     "subslide"
    ]
   },
   "source": [
    "\n",
    "- Wie bei Zeigern kann man mit `->` auf Member zugreifen:"
   ]
  },
  {
   "cell_type": "code",
   "execution_count": null,
   "id": "116591ee64393b16",
   "metadata": {
    "tags": [
     "keep"
    ]
   },
   "outputs": [],
   "source": [
    "std::unique_ptr<Obs> obs{std::make_unique<Obs>()};"
   ]
  },
  {
   "cell_type": "code",
   "execution_count": null,
   "id": "1a265851fc801bee",
   "metadata": {},
   "outputs": [],
   "source": [
    "obs->value"
   ]
  },
  {
   "cell_type": "code",
   "execution_count": null,
   "id": "31af14c43e36ce21",
   "metadata": {},
   "outputs": [],
   "source": [
    "obs->value = 10"
   ]
  },
  {
   "cell_type": "code",
   "execution_count": null,
   "id": "29ad4751dac4b29c",
   "metadata": {},
   "outputs": [],
   "source": [
    "obs->value"
   ]
  },
  {
   "cell_type": "markdown",
   "id": "f6fbe71b21ea27f4",
   "metadata": {
    "lang": "de",
    "slideshow": {
     "slide_type": "subslide"
    },
    "tags": [
     "subslide"
    ]
   },
   "source": [
    "\n",
    "- Mit `std::move()` kann man das Eigentum an einen anderen Unique-Pointer\n",
    "  übergeben:"
   ]
  },
  {
   "cell_type": "code",
   "execution_count": null,
   "id": "7e15acca76bc7595",
   "metadata": {
    "tags": [
     "keep"
    ]
   },
   "outputs": [],
   "source": [
    "auto obs{std::make_unique<Obs>(3)};"
   ]
  },
  {
   "cell_type": "code",
   "execution_count": null,
   "id": "86e9efb8bfda2678",
   "metadata": {
    "tags": [
     "alt"
    ]
   },
   "outputs": [],
   "source": [
    "auto obs2{std::move(obs)};"
   ]
  },
  {
   "cell_type": "code",
   "execution_count": null,
   "id": "69b5c13944dba324",
   "metadata": {
    "tags": [
     "keep"
    ]
   },
   "outputs": [],
   "source": [
    "print_null(obs);\n",
    "print_null(obs2);"
   ]
  },
  {
   "cell_type": "code",
   "execution_count": null,
   "id": "640e1af97ce9b22f",
   "metadata": {},
   "outputs": [],
   "source": [
    "*obs2"
   ]
  },
  {
   "cell_type": "markdown",
   "id": "3b3bd014832b51a2",
   "metadata": {
    "lang": "de",
    "slideshow": {
     "slide_type": "subslide"
    },
    "tags": [
     "subslide"
    ]
   },
   "source": [
    "\n",
    "- Nach dem Verschieben ist der ursprüngliche `unique_ptr` ungültig.\n",
    "  - `obs` enthält jetzt den Wert `nullptr`.\n",
    "  - An `obs` kann ein neuer Wert zugewiesen werden."
   ]
  },
  {
   "cell_type": "code",
   "execution_count": null,
   "id": "7280ac81e4e25a08",
   "metadata": {
    "tags": [
     "keep"
    ]
   },
   "outputs": [],
   "source": [
    "print_null(obs);"
   ]
  },
  {
   "cell_type": "code",
   "execution_count": null,
   "id": "ee4da52a3f0ae050",
   "metadata": {
    "tags": [
     "keep"
    ]
   },
   "outputs": [],
   "source": [
    "obs = std::make_unique<Obs>();"
   ]
  },
  {
   "cell_type": "code",
   "execution_count": null,
   "id": "4e3625d7dfc39837",
   "metadata": {
    "tags": [
     "keep"
    ]
   },
   "outputs": [],
   "source": [
    "print_null(obs);"
   ]
  },
  {
   "cell_type": "markdown",
   "id": "bb59da2167b473d7",
   "metadata": {
    "lang": "de",
    "slideshow": {
     "slide_type": "subslide"
    },
    "tags": [
     "subslide"
    ]
   },
   "source": [
    "\n",
    "## Unique Pointer und Funktionen\n",
    "\n",
    "- Funktionen können `unique_ptr`-Parameter haben.\n",
    "- Das sollten sie aber nur in Ausnahmefällen.\n",
    "- Die meisten Funktionen haben Referenzen oder Pointer als Argumente.\n",
    "- Nur Funktionen, die Eigentum an Objekten übernehmen, sollten `unique_ptr`\n",
    "  als Parameter haben."
   ]
  },
  {
   "cell_type": "code",
   "execution_count": null,
   "id": "30262e3a0dd518a5",
   "metadata": {
    "slideshow": {
     "slide_type": "subslide"
    },
    "tags": [
     "keep",
     "subslide"
    ]
   },
   "outputs": [],
   "source": [
    "#include <iostream>\n",
    "#include <memory>"
   ]
  },
  {
   "cell_type": "code",
   "execution_count": null,
   "id": "2b76af11ebb3c4d7",
   "metadata": {
    "tags": [
     "keep"
    ]
   },
   "outputs": [],
   "source": [
    "void describe(const Obs& obs)\n",
    "{\n",
    "    std::cout << \"describe(Obs&): \" << obs << \"\\n\";\n",
    "}"
   ]
  },
  {
   "cell_type": "code",
   "execution_count": null,
   "id": "2870482f88e21316",
   "metadata": {
    "tags": [
     "keep"
    ]
   },
   "outputs": [],
   "source": [
    "void describe(const Obs* obs)\n",
    "{\n",
    "    std::cout << \"describe(Obs*): \" << obs << \"\\n\";\n",
    "}"
   ]
  },
  {
   "cell_type": "code",
   "execution_count": null,
   "id": "5aa6b6d5170e88d9",
   "metadata": {
    "slideshow": {
     "slide_type": "subslide"
    },
    "tags": [
     "keep",
     "subslide"
    ]
   },
   "outputs": [],
   "source": [
    "auto obs{std::make_unique<Obs>()};"
   ]
  },
  {
   "cell_type": "code",
   "execution_count": null,
   "id": "d4d43826ab4feb36",
   "metadata": {},
   "outputs": [],
   "source": [
    "describe(*obs);"
   ]
  },
  {
   "cell_type": "code",
   "execution_count": null,
   "id": "09d22d7c894a985e",
   "metadata": {},
   "outputs": [],
   "source": [
    "describe(obs.get());"
   ]
  },
  {
   "cell_type": "code",
   "execution_count": null,
   "id": "049372c72f49101d",
   "metadata": {
    "slideshow": {
     "slide_type": "subslide"
    },
    "tags": [
     "keep",
     "subslide"
    ]
   },
   "outputs": [],
   "source": [
    "void take_ownership(std::unique_ptr<Obs> obs)\n",
    "{\n",
    "    std::cout << \"take_ownership(unique_ptr<Obs>): \";\n",
    "    if (obs) {\n",
    "        std::cout << *obs << \"\\n\";\n",
    "    } else {\n",
    "        std::cout << \"nullptr\\n\";\n",
    "    }\n",
    "}"
   ]
  },
  {
   "cell_type": "code",
   "execution_count": null,
   "id": "8c0b850356f8ad61",
   "metadata": {
    "tags": [
     "keep"
    ]
   },
   "outputs": [],
   "source": [
    "take_ownership(std::move(obs));"
   ]
  },
  {
   "cell_type": "code",
   "execution_count": null,
   "id": "858cde5582bd5d29",
   "metadata": {
    "tags": [
     "keep"
    ]
   },
   "outputs": [],
   "source": [
    "print_null(obs)"
   ]
  },
  {
   "cell_type": "markdown",
   "id": "6a9de83adb925bae",
   "metadata": {
    "lang": "de",
    "slideshow": {
     "slide_type": "subslide"
    },
    "tags": [
     "subslide"
    ]
   },
   "source": [
    "\n",
    "## C++ Core Guidelines für Unique Pointer\n",
    "\n",
    "- [R.30: Take smart pointers as parameters only to explicitly express\n",
    "  lifetime\n",
    "  semantics](https://isocpp.github.io/CppCoreGuidelines/CppCoreGuidelines#r30-take-smart-pointers-as-parameters-only-to-explicitly-express-lifetime-semantics)\n",
    "- [F.7: For general use, take `T*` or `T&` arguments rather than smart\n",
    "  pointers](https://isocpp.github.io/CppCoreGuidelines/CppCoreGuidelines#f7-for-general-use-take-t-or-t-arguments-rather-than-smart-pointers)\n",
    "- [R.32: Take a `unique_ptr<widget>` parameter to express that a function\n",
    "  assumes ownership of a\n",
    "  `widget`](https://isocpp.github.io/CppCoreGuidelines/CppCoreGuidelines#r32-take-a-unique_ptrwidget-parameter-to-express-that-a-function-assumes-ownership-of-a-widget)\n",
    "- [R.33: Take a `unique_ptr<widget>&` parameter to express that a function\n",
    "  reseats the\n",
    "  `widget`](https://isocpp.github.io/CppCoreGuidelines/CppCoreGuidelines#r33-take-a-unique_ptrwidget-parameter-to-express-that-a-function-reseats-the-widget)\n",
    "- [R.37: Do not pass a pointer or reference obtained from an aliased smart\n",
    "  pointer](https://isocpp.github.io/CppCoreGuidelines/CppCoreGuidelines#r37-do-not-pass-a-pointer-or-reference-obtained-from-an-aliased-smart-pointer)"
   ]
  },
  {
   "cell_type": "markdown",
   "id": "513cf941ad507425",
   "metadata": {
    "lang": "de",
    "slideshow": {
     "slide_type": "subslide"
    },
    "tags": [
     "subslide"
    ]
   },
   "source": [
    "\n",
    "## Zugriff\n",
    "\n",
    "- `*` zum Zugriff auf das Objekt\n",
    "- `->` zum Zugriff auf Member\n",
    "- `get()` zum Zugriff auf den Pointer\n",
    "- `reset()` zum Löschen des Objekts\n",
    "- `release()` zum Freigeben des Eigentums"
   ]
  },
  {
   "cell_type": "code",
   "execution_count": null,
   "id": "cf08347287ec7309",
   "metadata": {
    "slideshow": {
     "slide_type": "subslide"
    },
    "tags": [
     "keep",
     "subslide"
    ]
   },
   "outputs": [],
   "source": [
    "#include <iostream>\n",
    "#include <memory>"
   ]
  },
  {
   "cell_type": "code",
   "execution_count": null,
   "id": "91ad3d12e0d04117",
   "metadata": {
    "tags": [
     "keep"
    ]
   },
   "outputs": [],
   "source": [
    "auto obs{std::make_unique<Obs>(1)};\n",
    "std::cout << *obs << \"\\n\";"
   ]
  },
  {
   "cell_type": "code",
   "execution_count": null,
   "id": "d2b7d1cb0b8a9d23",
   "metadata": {
    "tags": [
     "keep"
    ]
   },
   "outputs": [],
   "source": [
    "describe(*obs);"
   ]
  },
  {
   "cell_type": "code",
   "execution_count": null,
   "id": "e810ed826b1f5528",
   "metadata": {
    "tags": [
     "keep"
    ]
   },
   "outputs": [],
   "source": [
    "obs->value"
   ]
  },
  {
   "cell_type": "code",
   "execution_count": null,
   "id": "09289cf5eba4a49b",
   "metadata": {
    "tags": [
     "keep"
    ]
   },
   "outputs": [],
   "source": [
    "describe(obs.get());"
   ]
  },
  {
   "cell_type": "code",
   "execution_count": null,
   "id": "76fbe0caaf958b63",
   "metadata": {
    "slideshow": {
     "slide_type": "subslide"
    },
    "tags": [
     "subslide",
     "keep"
    ]
   },
   "outputs": [],
   "source": [
    "obs.reset();"
   ]
  },
  {
   "cell_type": "code",
   "execution_count": null,
   "id": "1b3e5cfc0e5a7eaa",
   "metadata": {
    "tags": [
     "keep"
    ]
   },
   "outputs": [],
   "source": [
    "std::cout << obs.get();"
   ]
  },
  {
   "cell_type": "code",
   "execution_count": null,
   "id": "0664fc8bdb2d89a1",
   "metadata": {
    "tags": [
     "keep"
    ]
   },
   "outputs": [],
   "source": [
    "obs.reset(new Obs{4});"
   ]
  },
  {
   "cell_type": "code",
   "execution_count": null,
   "id": "57775a235517d667",
   "metadata": {
    "tags": [
     "keep"
    ]
   },
   "outputs": [],
   "source": [
    "obs->value"
   ]
  },
  {
   "cell_type": "code",
   "execution_count": null,
   "id": "171376459708605d",
   "metadata": {
    "slideshow": {
     "slide_type": "subslide"
    },
    "tags": [
     "subslide",
     "keep"
    ]
   },
   "outputs": [],
   "source": [
    "auto obs{std::make_unique<Obs>(10)};"
   ]
  },
  {
   "cell_type": "code",
   "execution_count": null,
   "id": "b3e90f54fe075101",
   "metadata": {
    "tags": [
     "keep"
    ]
   },
   "outputs": [],
   "source": [
    "Obs* obs_ptr{obs.release()};"
   ]
  },
  {
   "cell_type": "code",
   "execution_count": null,
   "id": "198f604da2819607",
   "metadata": {
    "tags": [
     "keep"
    ]
   },
   "outputs": [],
   "source": [
    "print_null(obs);"
   ]
  },
  {
   "cell_type": "code",
   "execution_count": null,
   "id": "b0dd461485dda43b",
   "metadata": {
    "tags": [
     "keep"
    ]
   },
   "outputs": [],
   "source": [
    "*obs_ptr"
   ]
  },
  {
   "cell_type": "code",
   "execution_count": null,
   "id": "d3733d7783982873",
   "metadata": {
    "tags": [
     "keep"
    ]
   },
   "outputs": [],
   "source": [
    "delete obs_ptr;"
   ]
  },
  {
   "cell_type": "markdown",
   "id": "bdeb3e3a8f4b9dc7",
   "metadata": {
    "lang": "de"
   },
   "source": [
    "\n",
    "**Vorsicht:** Verwenden Sie `get()` oder `*` für Argumente, nicht `release()`!"
   ]
  },
  {
   "cell_type": "markdown",
   "id": "f8cc536a9b532c25",
   "metadata": {
    "lang": "de",
    "slideshow": {
     "slide_type": "subslide"
    },
    "tags": [
     "subslide"
    ]
   },
   "source": [
    "\n",
    "## Vektoren von Unique Pointern\n",
    "\n",
    "- Vektoren von Unique Pointern sind möglich.\n",
    "- Listen-Initialisierung ist nicht möglich, da die Elemente nicht kopiert\n",
    "  werden können.\n",
    "- Die Elemente werden beim Löschen des Vektors automatisch gelöscht.\n",
    "- Der Vektor kann nicht kopiert werden.\n",
    "- Er kann aber verschoben werden."
   ]
  },
  {
   "cell_type": "code",
   "execution_count": null,
   "id": "1d76c9da590bbcfb",
   "metadata": {
    "slideshow": {
     "slide_type": "subslide"
    },
    "tags": [
     "keep",
     "subslide"
    ]
   },
   "outputs": [],
   "source": [
    "#include <vector>\n",
    "#include <memory>"
   ]
  },
  {
   "cell_type": "markdown",
   "id": "f073956fd292cc99",
   "metadata": {
    "lang": "de"
   },
   "source": [
    "\n",
    "- Wir definieren einen Typ-Alias für einen Vektor von Unique Pointern.\n",
    "- Das erspart uns das Schreiben von `std::vector<std::unique_ptr<Obs>>`.\n",
    "- Außerdem kommt der Xeus-Cling-Kernel nicht mit dem langen Typ-Namen klar."
   ]
  },
  {
   "cell_type": "code",
   "execution_count": null,
   "id": "97284f9c790395ae",
   "metadata": {
    "tags": [
     "keep"
    ]
   },
   "outputs": [],
   "source": [
    "using ObsVec = std::vector<std::unique_ptr<Obs>>;"
   ]
  },
  {
   "cell_type": "code",
   "execution_count": null,
   "id": "ff67d69d2ad2b013",
   "metadata": {
    "slideshow": {
     "slide_type": "subslide"
    },
    "tags": [
     "keep",
     "subslide"
    ]
   },
   "outputs": [],
   "source": [
    "ObsVec make_vec(int n = 3)\n",
    "{\n",
    "    ObsVec vec{};\n",
    "    for (int i{1}; i <= n; ++i) {\n",
    "        vec.push_back(std::make_unique<Obs>(i));\n",
    "    }\n",
    "    return vec;\n",
    "}"
   ]
  },
  {
   "cell_type": "code",
   "execution_count": null,
   "id": "c5c4255ff95df3c4",
   "metadata": {
    "slideshow": {
     "slide_type": "subslide"
    },
    "tags": [
     "subslide",
     "keep"
    ]
   },
   "outputs": [],
   "source": [
    "ObsVec my_vec{make_vec(5)};"
   ]
  },
  {
   "cell_type": "code",
   "execution_count": null,
   "id": "53671ab2d89920bf",
   "metadata": {},
   "outputs": [],
   "source": [
    "my_vec.clear();"
   ]
  },
  {
   "cell_type": "code",
   "execution_count": null,
   "id": "320978d24d617ac7",
   "metadata": {
    "slideshow": {
     "slide_type": "subslide"
    },
    "tags": [
     "subslide",
     "keep"
    ]
   },
   "outputs": [],
   "source": [
    "{\n",
    "    ObsVec your_vec{make_vec(4)};\n",
    "}"
   ]
  },
  {
   "cell_type": "code",
   "execution_count": null,
   "id": "e5a6549741fa0198",
   "metadata": {
    "lines_to_next_cell": 2,
    "slideshow": {
     "slide_type": "subslide"
    },
    "tags": [
     "subslide",
     "keep"
    ]
   },
   "outputs": [],
   "source": [
    "try {\n",
    "    ObsVec our_vec{make_vec(2)};\n",
    "    throw std::runtime_error{\"oops\"};\n",
    "}\n",
    "catch (const std::exception& e) {\n",
    "    std::cout << e.what() << \"\\n\";\n",
    "}"
   ]
  },
  {
   "cell_type": "markdown",
   "id": "c5ef9c5d0bd4c299",
   "metadata": {
    "lang": "de",
    "slideshow": {
     "slide_type": "subslide"
    },
    "tags": [
     "subslide"
    ]
   },
   "source": [
    "\n",
    "## Workshop: Inventarverwaltung\n",
    "\n",
    "Entwickeln Sie ein System, in dem eine Klasse `Inventory` einen Vektor von\n",
    "`Item`-Objekten verwaltet. Es gibt verschiedene `Item`-Unterklassen (wie\n",
    "`FoodItem`, `ElectronicItem`, etc.) und die `Item`-Klasse muss polymorph\n",
    "verwendet werden können."
   ]
  },
  {
   "cell_type": "markdown",
   "id": "63738bda0f6f80dd",
   "metadata": {
    "lang": "de",
    "slideshow": {
     "slide_type": "subslide"
    },
    "tags": [
     "subslide"
    ]
   },
   "source": [
    "\n",
    "- Implementieren Sie eine `Item`-Klasse, die polymorph verwendet werden kann.\n",
    "  Sie soll eine eindeutige Identifikationsnummer und einen Namen speichern.\n",
    "  Sie soll außerdem eine virtuelle Methode `std::string Describe() const`\n",
    "  bereitstellen.\n",
    "- Implementieren Sie eine `FoodItem`-Klasse, die von `Item` erbt. Sie soll\n",
    "  ein Verfallsdatum speichern. Die Implementierung von `Describe()` soll das\n",
    "  Verfallsdatum enthalten.\n",
    "- Implementieren Sie eine `ElectronicItem`-Klasse, die von `Item` erbt. Sie\n",
    "  soll eine Garantie-Periode speichern. Die Implementierung von `Describe()`\n",
    "  soll die Garantie-Periode enthalten.\n",
    "- Implementieren Sie eine `Inventory`-Klasse, die einen Vektor von `Item`\n",
    "  Objekten halten kann. Sie soll Methoden bereitstellen, um Items dem\n",
    "  Inventar hinzuzufügen und aus dem Inventar zu entfernen. Sie soll außerdem\n",
    "  eine Methode bereitstellen, um alle Items im Inventar auszugeben (unter\n",
    "  Verwendung ihrer `Describe()`-Methode).\n",
    "  - Die `Inventory`-Klasse soll der alleinige Eigentümer ihrer Items sein.\n",
    "  - Wie können Sie die Items im Inventar speichern?\n",
    "  - Was passiert, wenn die Lebensdauer eines `Inventory`-Objekts endet?\n",
    "- Modifizieren Sie Ihre `Item`-Klasse, um zu verifizieren, dass alle Items\n",
    "  korrekt gelöscht werden, wenn die Lebensdauer eines `Inventory`-Objekts\n",
    "  endet (z.B. indem Sie eine Ausgabe auf `std::cout` schreiben, wenn ein\n",
    "  `Item`-Objekt zerstört wird).\n",
    "- Erzeugen Sie ein `Inventory`-Objekt in einem lokalen Scope und fügen Sie\n",
    "  einige Items hinzu. Beobachten Sie, wie die Items gelöscht werden, wenn das\n",
    "  `Inventory`-Objekt den Scope verlässt."
   ]
  },
  {
   "cell_type": "code",
   "execution_count": null,
   "id": "7b13bc8e27adfa4c",
   "metadata": {
    "slideshow": {
     "slide_type": "subslide"
    },
    "tags": [
     "subslide"
    ]
   },
   "outputs": [],
   "source": [
    "#include <iostream>\n",
    "#include <memory>\n",
    "#include <string>\n",
    "#include <vector>"
   ]
  },
  {
   "cell_type": "code",
   "execution_count": null,
   "id": "21267e41c2fe54a1",
   "metadata": {
    "slideshow": {
     "slide_type": "subslide"
    },
    "tags": [
     "subslide"
    ]
   },
   "outputs": [],
   "source": [
    "class Item {\n",
    "public:\n",
    "    Item(int id, std::string name) : id_{id}, name_{name} {}\n",
    "    Item(const Item&) = delete;\n",
    "    Item& operator=(const Item&) = delete;\n",
    "    Item(Item&&) = delete;\n",
    "    Item& operator=(Item&&) = delete;\n",
    "    virtual ~Item() { std::cout << \"Destroying Item \" << id_ << \"\\n\"; }\n",
    "\n",
    "    int GetId() const { return id_; }\n",
    "    std::string GetName() const { return name_; }\n",
    "\n",
    "    virtual std::string Describe() const {\n",
    "        return \"Item \" + std::to_string(id_) + \": \" + name_;\n",
    "    };\n",
    "\n",
    "private:\n",
    "    int id_;\n",
    "    std::string name_;\n",
    "};"
   ]
  },
  {
   "cell_type": "code",
   "execution_count": null,
   "id": "7daa64df6d53d1e1",
   "metadata": {
    "slideshow": {
     "slide_type": "subslide"
    },
    "tags": [
     "subslide"
    ]
   },
   "outputs": [],
   "source": [
    "class FoodItem : public Item {\n",
    "public:\n",
    "    FoodItem(int id, std::string name, std::string bestBefore)\n",
    "        : Item{id, name}, bestBefore_{bestBefore} {}\n",
    "    ~FoodItem() { std::cout << \"Destroying FoodItem \" << Describe() << \"\\n\"; }\n",
    "\n",
    "    std::string BestBefore() const { return bestBefore_; }\n",
    "\n",
    "    std::string Describe() const override {\n",
    "        return Item::Describe() + \" (best before \" + bestBefore_ + \")\";\n",
    "    }\n",
    "\n",
    "private:\n",
    "    std::string bestBefore_;\n",
    "};"
   ]
  },
  {
   "cell_type": "code",
   "execution_count": null,
   "id": "c2ace80c7ff35efa",
   "metadata": {
    "slideshow": {
     "slide_type": "subslide"
    },
    "tags": [
     "subslide"
    ]
   },
   "outputs": [],
   "source": [
    "class ElectronicItem : public Item {\n",
    "public:\n",
    "    ElectronicItem(int id, std::string name, std::string warranty)\n",
    "        : Item{id, name}, warranty_{warranty} {}\n",
    "    ~ElectronicItem() {\n",
    "        std::cout << \"Destroying ElectronicItem \" << Describe() << \"\\n\";\n",
    "    }\n",
    "\n",
    "    std::string Warranty() const { return warranty_; }\n",
    "\n",
    "    std::string Describe() const override {\n",
    "        return Item::Describe() + \" (warranty \" + warranty_ + \")\";\n",
    "    }\n",
    "\n",
    "private:\n",
    "    std::string warranty_;\n",
    "};"
   ]
  },
  {
   "cell_type": "code",
   "execution_count": null,
   "id": "5861a32498527ae0",
   "metadata": {
    "lines_to_next_cell": 2,
    "slideshow": {
     "slide_type": "subslide"
    },
    "tags": [
     "subslide"
    ]
   },
   "outputs": [],
   "source": [
    "class Inventory {\n",
    "public:\n",
    "    Inventory() = default;\n",
    "    Inventory(const Inventory&) = delete;\n",
    "    Inventory& operator=(const Inventory&) = delete;\n",
    "    Inventory(Inventory&&) = default;\n",
    "    Inventory& operator=(Inventory&&) = default;\n",
    "    ~Inventory() {\n",
    "        std::cout << \"Destroying Inventory with \" << items_.size() << \" items\\n\";\n",
    "    }\n",
    "\n",
    "    void AddItem(std::unique_ptr<Item> item) { items_.push_back(std::move(item)); }\n",
    "\n",
    "    void PrintItems() const {\n",
    "        for (const auto& item : items_) {\n",
    "            std::cout << item->Describe() << \"\\n\";\n",
    "        }\n",
    "    }\n",
    "\n",
    "private:\n",
    "    std::vector<std::unique_ptr<Item>> items_;\n",
    "};"
   ]
  },
  {
   "cell_type": "code",
   "execution_count": null,
   "id": "01a7beb9b357aea0",
   "metadata": {
    "slideshow": {
     "slide_type": "subslide"
    },
    "tags": [
     "subslide"
    ]
   },
   "outputs": [],
   "source": [
    "{\n",
    "    Inventory inventory;\n",
    "    inventory.AddItem(std::make_unique<FoodItem>(1, \"Apple\", \"2021-01-01\"));\n",
    "    inventory.AddItem(std::make_unique<ElectronicItem>(2, \"Laptop\", \"2023-01-01\"));\n",
    "    inventory.PrintItems();\n",
    "}"
   ]
  }
 ],
 "metadata": {
  "kernelspec": {
   "display_name": "C++17",
   "language": "C++17",
   "name": "xcpp17"
  },
  "language_info": {
   "codemirror_mode": "text/x-c++src",
   "file_extension": ".cpp",
   "mimetype": "text/x-c++src",
   "name": "c++",
   "version": "17"
  }
 },
 "nbformat": 4,
 "nbformat_minor": 5
}
