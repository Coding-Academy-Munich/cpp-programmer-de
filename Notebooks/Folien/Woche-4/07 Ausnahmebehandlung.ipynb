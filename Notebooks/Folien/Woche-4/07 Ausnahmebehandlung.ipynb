{
 "cells": [
  {
   "cell_type": "markdown",
   "id": "c3974943fcfa01b8",
   "metadata": {
    "lang": "de",
    "slideshow": {
     "slide_type": "slide"
    },
    "tags": [
     "slide"
    ]
   },
   "source": [
    "\n",
    "<img src=\"data:image/png;base64,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\"\n",
    "     style=\"display:block;margin:auto;width:5%\"/>\n",
    "<br>\n",
    "\n",
    "<div style=\"text-align:center; font-size:200%;\">\n",
    " <b>Ausnahmebehandlung</b>\n",
    "</div>\n",
    "<br/>\n",
    "<div style=\"text-align:center; font-size:120%;\">Dr. Matthias Hölzl</div>\n",
    "<br/>\n",
    "<div style=\"text-align:center;\">Coding-Akademie München</div>\n",
    "<br/>\n",
    "<!-- 07 Ausnahmebehandlung.ipynb -->\n",
    "<!-- slides/module_180_error_handling/topic_130_handling_exceptions.cpp -->"
   ]
  },
  {
   "cell_type": "markdown",
   "id": "9789c609c7f586a3",
   "metadata": {
    "lang": "de",
    "slideshow": {
     "slide_type": "subslide"
    },
    "tags": [
     "subslide"
    ]
   },
   "source": [
    "\n",
    "# Behandeln von Exceptions\n",
    "\n",
    "Wir haben die folgende Funktion zur Berechnung ganzzahliger Quadratwurzeln\n",
    "definiert, die einen `domain_error` auslöst, falls `n` keine Quadratzahl ist:"
   ]
  },
  {
   "cell_type": "code",
   "execution_count": null,
   "id": "923d96a374d9004f",
   "metadata": {
    "tags": [
     "keep"
    ]
   },
   "outputs": [],
   "source": [
    "#include <stdexcept>"
   ]
  },
  {
   "cell_type": "code",
   "execution_count": null,
   "id": "866e8caa13856e2e",
   "metadata": {
    "lines_to_next_cell": 2,
    "tags": [
     "keep"
    ]
   },
   "outputs": [],
   "source": [
    "int int_sqrt(int n) {\n",
    "    for (int m = 0; m <= n; ++m) {\n",
    "        if (m * m == n) {\n",
    "            return m;\n",
    "        }\n",
    "    }\n",
    "    throw std::domain_error(\"not a square number\");\n",
    "}"
   ]
  },
  {
   "cell_type": "markdown",
   "id": "285f26cc99bf082b",
   "metadata": {
    "lang": "de",
    "slideshow": {
     "slide_type": "subslide"
    },
    "tags": [
     "subslide"
    ]
   },
   "source": [
    "\n",
    "Wir konnten diese Funktion dann so verwenden:"
   ]
  },
  {
   "cell_type": "code",
   "execution_count": null,
   "id": "a07ccdf5c58be5cf",
   "metadata": {
    "tags": [
     "keep"
    ]
   },
   "outputs": [],
   "source": [
    "#include <iostream>\n",
    "\n",
    "void print_int_sqrt_or_throw(int n) {\n",
    "    int root{int_sqrt(n)};\n",
    "    std::cout << \"The root of \" << n << \" is \" << root << \".\\n\";\n",
    "}"
   ]
  },
  {
   "cell_type": "code",
   "execution_count": null,
   "id": "c51bc2b9607274ee",
   "metadata": {
    "tags": [
     "keep"
    ]
   },
   "outputs": [],
   "source": [
    "print_int_sqrt_or_throw(9)"
   ]
  },
  {
   "cell_type": "code",
   "execution_count": null,
   "id": "8cc191bceb16ab9b",
   "metadata": {
    "lines_to_next_cell": 2,
    "tags": [
     "keep"
    ]
   },
   "outputs": [],
   "source": [
    "// print_int_sqrt_or_throw(8)"
   ]
  },
  {
   "cell_type": "markdown",
   "id": "fcb995e3059d38b9",
   "metadata": {
    "lang": "de",
    "slideshow": {
     "slide_type": "subslide"
    },
    "tags": [
     "subslide"
    ]
   },
   "source": [
    "\n",
    "Wie schreiben wir damit eine `print_int_sqrt()`-Funktion, die keinen Fehler\n",
    "auslöst, wenn `n` keine Quadratzahl ist?"
   ]
  },
  {
   "cell_type": "code",
   "execution_count": null,
   "id": "2473e89ff877b8a7",
   "metadata": {
    "tags": [
     "alt"
    ]
   },
   "outputs": [],
   "source": [
    "void print_int_sqrt(int n) {\n",
    "    try {\n",
    "        int root{int_sqrt(n)};\n",
    "        std::cout << \"The root of \" << n << \" is \" << root << \".\\n\";\n",
    "    } catch (std::domain_error& err) {\n",
    "        std::cout << err.what() << \"\\n\";\n",
    "    }\n",
    "}"
   ]
  },
  {
   "cell_type": "code",
   "execution_count": null,
   "id": "658dec7f06e7f0da",
   "metadata": {
    "lines_to_next_cell": 2,
    "tags": [
     "keep"
    ]
   },
   "outputs": [],
   "source": [
    "print_int_sqrt(9)"
   ]
  },
  {
   "cell_type": "code",
   "execution_count": null,
   "id": "65d8270abb4ce32d",
   "metadata": {
    "tags": [
     "keep"
    ]
   },
   "outputs": [],
   "source": [
    "print_int_sqrt(8)"
   ]
  },
  {
   "cell_type": "markdown",
   "id": "8d8a5e3fb7b315c3",
   "metadata": {
    "lang": "de",
    "slideshow": {
     "slide_type": "slide"
    },
    "tags": [
     "slide"
    ]
   },
   "source": [
    "\n",
    "## Ausnahmebehandlung\n",
    "\n",
    "- Ausnahmen können mit einem `try`/`catch`-Block behandelt werden\n",
    "- Alle \"passenden\" Ausnahmen, die während der Ausführung des `try`-Blocks\n",
    "  ausgelöst werden, führen zur Ausführung des `catch`-Blocks\n",
    "- Wir sagen, die Ausnahme wurde behandelt\n",
    "- Nach der Behandlung der Ausnahme wird das Programm nach dem `try`/`catch`-Block\n",
    "  weiter ausgeführt"
   ]
  },
  {
   "cell_type": "markdown",
   "id": "16a290b35f9e2c75",
   "metadata": {
    "lang": "de",
    "slideshow": {
     "slide_type": "slide"
    },
    "tags": [
     "slide"
    ]
   },
   "source": [
    "\n",
    "## Workshop: Bank Account (Teil 2)\n",
    "\n",
    "Wir haben eine Klasse `BankAccount` definiert, die in folgenden Fällen einen\n",
    "`std::domain_error` auslöst:\n",
    "\n",
    "- Wenn ein neuer `BankAccount` mit negativer `balance` angelegt werden soll.\n",
    "- Wenn `deposit` mit einem negativen Wert aufgerufen wird.\n",
    "- Wenn `withdraw` mit einem negativen Wert aufgerufen wird oder durch das\n",
    "  Abheben des Betrags die `balance` des Kontos negativ werden würde."
   ]
  },
  {
   "cell_type": "markdown",
   "id": "dce5ad9ec5e7e614",
   "metadata": {
    "lang": "de"
   },
   "source": [
    "\n",
    "Testen Sie die Funktionalität der Klasse sowohl für erfolgreiche\n",
    "Transaktionen, als auch für Transaktionen, die Exceptions auslösen.\n",
    "Behandeln Sie dabei die Ausnahmen, die ausgelöst werden und geben Sie\n",
    "eine sinnvolle Nachricht aus."
   ]
  },
  {
   "cell_type": "code",
   "execution_count": null,
   "id": "393fb598963f5506",
   "metadata": {
    "slideshow": {
     "slide_type": "subslide"
    },
    "tags": [
     "keep",
     "subslide"
    ]
   },
   "outputs": [],
   "source": [
    "class BankAccount\n",
    "{\n",
    "public:\n",
    "    BankAccount(double balance);\n",
    "\n",
    "    void deposit(double amount);\n",
    "    void withdraw(double amount);\n",
    "\n",
    "    double balance() const;\n",
    "\n",
    "private:\n",
    "    double balance_;\n",
    "}"
   ]
  },
  {
   "cell_type": "code",
   "execution_count": null,
   "id": "9c71f28e0b7417e2",
   "metadata": {
    "slideshow": {
     "slide_type": "subslide"
    },
    "tags": [
     "keep",
     "subslide"
    ]
   },
   "outputs": [],
   "source": [
    "BankAccount::BankAccount(double balance) : balance_(balance) {\n",
    "    if (balance < 0) {\n",
    "        throw std::domain_error(\n",
    "            \"Cannot create an account with negative balance.\");\n",
    "    }\n",
    "}"
   ]
  },
  {
   "cell_type": "code",
   "execution_count": null,
   "id": "6abf9eadd65aa6b9",
   "metadata": {
    "tags": [
     "keep"
    ]
   },
   "outputs": [],
   "source": [
    "void BankAccount::deposit(double amount) {\n",
    "    if (amount < 0) {\n",
    "        throw std::domain_error(\"Cannot deposit a negative amount.\");\n",
    "    }\n",
    "    balance_ += amount;\n",
    "}"
   ]
  },
  {
   "cell_type": "code",
   "execution_count": null,
   "id": "763cd85fb1c8f5c1",
   "metadata": {
    "slideshow": {
     "slide_type": "subslide"
    },
    "tags": [
     "keep",
     "subslide"
    ]
   },
   "outputs": [],
   "source": [
    "void BankAccount::withdraw(double amount) {\n",
    "    if (amount < 0) {\n",
    "        throw std::domain_error(\"Cannot withdraw a negative amount.\");\n",
    "    }\n",
    "    if (balance_ - amount < 0) {\n",
    "        throw std::domain_error(\"Cannot withdraw more than the balance.\");\n",
    "    }\n",
    "    balance_ -= amount;\n",
    "}"
   ]
  },
  {
   "cell_type": "code",
   "execution_count": null,
   "id": "1c645c1ef36fc542",
   "metadata": {
    "tags": [
     "keep"
    ]
   },
   "outputs": [],
   "source": [
    "double BankAccount::balance() const {\n",
    "    return balance_;\n",
    "}"
   ]
  },
  {
   "cell_type": "code",
   "execution_count": null,
   "id": "61a814864f1258c8",
   "metadata": {
    "slideshow": {
     "slide_type": "subslide"
    },
    "tags": [
     "subslide"
    ]
   },
   "outputs": [],
   "source": [
    "try {\n",
    "    BankAccount{-100.0};\n",
    "} catch (std::domain_error& err) {\n",
    "    std::cout << \"ERROR: \" << err.what() << \"\\n\";\n",
    "}"
   ]
  },
  {
   "cell_type": "code",
   "execution_count": null,
   "id": "c99b8141aad04991",
   "metadata": {},
   "outputs": [],
   "source": [
    "BankAccount b{100.0};\n",
    "b.balance()"
   ]
  },
  {
   "cell_type": "code",
   "execution_count": null,
   "id": "9ddcd711e9ae4125",
   "metadata": {},
   "outputs": [],
   "source": [
    "b.deposit(200.0);\n",
    "b.balance()"
   ]
  },
  {
   "cell_type": "code",
   "execution_count": null,
   "id": "3922aa2f11c05ec8",
   "metadata": {
    "slideshow": {
     "slide_type": "subslide"
    },
    "tags": [
     "subslide"
    ]
   },
   "outputs": [],
   "source": [
    "try {\n",
    "    b.deposit(-100.0);\n",
    "} catch (std::domain_error& err) {\n",
    "    std::cout << \"ERROR: \" << err.what() << \"\\n\";\n",
    "}\n",
    "b.balance()"
   ]
  },
  {
   "cell_type": "code",
   "execution_count": null,
   "id": "e0d93b4535d82dbb",
   "metadata": {},
   "outputs": [],
   "source": [
    "b.withdraw(50.0);\n",
    "b.balance()"
   ]
  },
  {
   "cell_type": "code",
   "execution_count": null,
   "id": "7eb3ec1507c677dd",
   "metadata": {
    "slideshow": {
     "slide_type": "subslide"
    },
    "tags": [
     "subslide"
    ]
   },
   "outputs": [],
   "source": [
    "try {\n",
    "    b.withdraw(-200.0);\n",
    "} catch (std::domain_error& err) {\n",
    "    std::cout << \"ERROR: \" << err.what() << \"\\n\";\n",
    "}\n",
    "b.balance()"
   ]
  },
  {
   "cell_type": "code",
   "execution_count": null,
   "id": "aeb2176692807ab0",
   "metadata": {},
   "outputs": [],
   "source": [
    "try {\n",
    "    b.withdraw(1000.0);\n",
    "} catch (std::domain_error& err) {\n",
    "    std::cout << \"ERROR: \" << err.what() << \"\\n\";\n",
    "}\n",
    "b.balance()"
   ]
  },
  {
   "cell_type": "code",
   "execution_count": null,
   "id": "6b4e03423667dbb7",
   "metadata": {},
   "outputs": [],
   "source": []
  }
 ],
 "metadata": {
  "kernelspec": {
   "display_name": "C++17",
   "language": "C++17",
   "name": "xcpp17"
  },
  "language_info": {
   "codemirror_mode": "text/x-c++src",
   "file_extension": ".cpp",
   "mimetype": "text/x-c++src",
   "name": "c++",
   "version": "17"
  }
 },
 "nbformat": 4,
 "nbformat_minor": 5
}
