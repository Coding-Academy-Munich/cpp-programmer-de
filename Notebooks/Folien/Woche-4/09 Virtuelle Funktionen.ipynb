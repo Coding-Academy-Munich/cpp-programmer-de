{
 "cells": [
  {
   "cell_type": "markdown",
   "id": "b67125f5a2ef404a",
   "metadata": {
    "lang": "de",
    "slideshow": {
     "slide_type": "slide"
    },
    "tags": [
     "slide"
    ]
   },
   "source": [
    "\n",
    "<img src=\"data:image/png;base64,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\"\n",
    "     style=\"display:block;margin:auto;width:5%\"/>\n",
    "<br>\n",
    "\n",
    "<div style=\"text-align:center; font-size:200%;\">\n",
    " <b>Virtuelle Funktionen</b>\n",
    "</div>\n",
    "<br/>\n",
    "<div style=\"text-align:center; font-size:120%;\">Dr. Matthias Hölzl</div>\n",
    "<br/>\n",
    "<div style=\"text-align:center;\">Coding-Akademie München</div>\n",
    "<br/>\n",
    "<!-- 09 Virtuelle Funktionen.ipynb -->\n",
    "<!-- slides/module_170_oop/topic_120_virtual_functions.cpp -->"
   ]
  },
  {
   "cell_type": "markdown",
   "id": "50e05d0572ea9ae2",
   "metadata": {
    "lang": "de",
    "slideshow": {
     "slide_type": "subslide"
    },
    "tags": [
     "subslide"
    ]
   },
   "source": [
    "\n",
    "# Statischer vs. Dynamischer Typ\n",
    "\n",
    "- *Statischer Typ* eines Objekts\n",
    "  - Typ des Objekts zur Compile-Zeit\n",
    "- *Dynamischer Typ* eines Objekts\n",
    "  - Typ des Objekts zur Laufzeit"
   ]
  },
  {
   "cell_type": "code",
   "execution_count": null,
   "id": "42991d571ff878d8",
   "metadata": {
    "slideshow": {
     "slide_type": "subslide"
    },
    "tags": [
     "keep",
     "subslide"
    ]
   },
   "outputs": [],
   "source": [
    "#include <vector>"
   ]
  },
  {
   "cell_type": "code",
   "execution_count": null,
   "id": "159d60a39d65db76",
   "metadata": {
    "tags": [
     "alt"
    ]
   },
   "outputs": [],
   "source": [
    "int i{0};             // Statischer Typ: `int`, dynamischer Typ: `int`"
   ]
  },
  {
   "cell_type": "code",
   "execution_count": null,
   "id": "4fd9009a36466ac7",
   "metadata": {
    "lines_to_next_cell": 2,
    "tags": [
     "alt"
    ]
   },
   "outputs": [],
   "source": [
    "std::vector<int> v{}; // Statischer Typ: `std::vector`, dynamischer Typ: `std::vector`"
   ]
  },
  {
   "cell_type": "markdown",
   "id": "20072cc240a88ed8",
   "metadata": {
    "lang": "de",
    "slideshow": {
     "slide_type": "subslide"
    },
    "tags": [
     "subslide"
    ]
   },
   "source": [
    "\n",
    "- Zeiger und Referenzen können auf Subtyp-Instanzen verweisen\n",
    "  - statischer Typ oft nicht dynamischer Typ\n",
    "  - statischer Typ immer ein Supertyp des dynamischen Typs\n",
    "- Das ist möglich bei\n",
    "  - Zeigern und Referenzen (z.B. `BaseV1*`, `BaseV1&`)\n",
    "  - Typen, die diese Semantik implementieren (z.B. `std::unique_ptr`)\n",
    "- Das ist **nicht** möglich bei **Werten** (z.B. `int`, `std::vector`)"
   ]
  },
  {
   "cell_type": "code",
   "execution_count": null,
   "id": "a0ee650c342d197c",
   "metadata": {
    "slideshow": {
     "slide_type": "subslide"
    },
    "tags": [
     "keep",
     "subslide"
    ]
   },
   "outputs": [],
   "source": [
    "#include <iostream>"
   ]
  },
  {
   "cell_type": "code",
   "execution_count": null,
   "id": "e1d084b0f81abb96",
   "metadata": {
    "tags": [
     "keep"
    ]
   },
   "outputs": [],
   "source": [
    "class BaseV1\n",
    "{\n",
    "public:\n",
    "    int x;\n",
    "    BaseV1(int x) : x{x} {}\n",
    "\n",
    "    void print() const { std::cout << \"BaseV1::print(): x = \" << x << \"\\n\"; }\n",
    "};"
   ]
  },
  {
   "cell_type": "code",
   "execution_count": null,
   "id": "24cef44f3324d963",
   "metadata": {
    "slideshow": {
     "slide_type": "subslide"
    },
    "tags": [
     "keep",
     "subslide"
    ]
   },
   "outputs": [],
   "source": [
    "class DerivedV1 : public BaseV1\n",
    "{\n",
    "public:\n",
    "    int y;\n",
    "    DerivedV1(int x, int y) : BaseV1{x}, y{y} {}\n",
    "\n",
    "    void print() const\n",
    "    {\n",
    "        std::cout << \"DerivedV1::print(): x = \" << x << \", y = \" << y << \"\\n\";\n",
    "    }\n",
    "};"
   ]
  },
  {
   "cell_type": "code",
   "execution_count": null,
   "id": "311fa213468900c4",
   "metadata": {
    "slideshow": {
     "slide_type": "subslide"
    },
    "tags": [
     "keep",
     "subslide"
    ]
   },
   "outputs": [],
   "source": [
    "BaseV1 b{1};\n",
    "DerivedV1 d{2, 3};"
   ]
  },
  {
   "cell_type": "code",
   "execution_count": null,
   "id": "7bf288f89a51abd3",
   "metadata": {
    "tags": [
     "keep"
    ]
   },
   "outputs": [],
   "source": [
    "BaseV1* pb = &b;    // Statischer Typ: `BaseV1*`, dynamischer Typ: `BaseV1*`\n",
    "pb->print();"
   ]
  },
  {
   "cell_type": "code",
   "execution_count": null,
   "id": "837e6bdbdb895a7a",
   "metadata": {
    "tags": [
     "keep"
    ]
   },
   "outputs": [],
   "source": [
    "pb = &d;            // Statischer Typ: `BaseV1*`, dynamischer Typ: `DerivedV1*`\n",
    "pb->print();"
   ]
  },
  {
   "cell_type": "code",
   "execution_count": null,
   "id": "dd2be0e75d7f8db6",
   "metadata": {
    "tags": [
     "keep"
    ]
   },
   "outputs": [],
   "source": [
    "DerivedV1* pd = &d; // Statischer Typ: `DerivedV1*`, dynamischer Typ: `DerivedV1*`\n",
    "pd->print();"
   ]
  },
  {
   "cell_type": "markdown",
   "id": "fabac359abad46e0",
   "metadata": {
    "lang": "de",
    "slideshow": {
     "slide_type": "subslide"
    },
    "tags": [
     "subslide"
    ]
   },
   "source": [
    "\n",
    "- `print()` ist in beiden Klassen definiert\n",
    "- Der statische Typ bestimmt, welche Funktion aufgerufen wird:\n",
    "\n",
    "| Statischer Typ | Aufgerufene Funktion |\n",
    "| -------------- | -------------------- |\n",
    "| `BaseV1`       | `BaseV1::print()`    |\n",
    "| `DerivedV1`    | `DerivedV1::print()` |\n",
    "\n",
    "- Das ist normalerweise nicht das, was wir wollen!"
   ]
  },
  {
   "cell_type": "markdown",
   "id": "a3485eb5772708c5",
   "metadata": {
    "lang": "de",
    "slideshow": {
     "slide_type": "subslide"
    },
    "tags": [
     "subslide"
    ]
   },
   "source": [
    "\n",
    "## Virtuelle Funktionen\n",
    "\n",
    "- Virtuelle Funktion:\n",
    "  - Member-Funktion\n",
    "  - In einer Basisklasse deklariert\n",
    "  - Kann in einer abgeleiteten Klasse überschrieben werden\n",
    "- Syntax:\n",
    "  - `virtual` in der Basisklasse\n",
    "  - `override` in der abgeleiteten Klasse (optional aber empfohlen)"
   ]
  },
  {
   "cell_type": "code",
   "execution_count": null,
   "id": "7f96fa752cc3f466",
   "metadata": {
    "slideshow": {
     "slide_type": "subslide"
    },
    "tags": [
     "keep",
     "subslide"
    ]
   },
   "outputs": [],
   "source": [
    "#include <iostream>"
   ]
  },
  {
   "cell_type": "code",
   "execution_count": null,
   "id": "a7bdb284c81a6c19",
   "metadata": {
    "tags": [
     "keep"
    ]
   },
   "outputs": [],
   "source": [
    "class BaseV2 {\n",
    "public:\n",
    "    int x;\n",
    "    BaseV2(int x) : x{x} {}\n",
    "\n",
    "    virtual void print() const {\n",
    "        std::cout << \"BaseV2::print(): x = \" << x << \"\\n\";\n",
    "    }\n",
    "};"
   ]
  },
  {
   "cell_type": "code",
   "execution_count": null,
   "id": "93c34611e7725440",
   "metadata": {
    "slideshow": {
     "slide_type": "subslide"
    },
    "tags": [
     "keep",
     "subslide"
    ]
   },
   "outputs": [],
   "source": [
    "class DerivedV2 : public BaseV2 {\n",
    "public:\n",
    "    int y;\n",
    "    DerivedV2(int x, int y) : BaseV2{x}, y{y} {}\n",
    "\n",
    "    void print() const override {\n",
    "        std::cout << \"DerivedV2::print(): x = \" << x << \", y = \" << y << \"\\n\";\n",
    "    }\n",
    "};"
   ]
  },
  {
   "cell_type": "markdown",
   "id": "356380a4703919e4",
   "metadata": {
    "lang": "de",
    "slideshow": {
     "slide_type": "subslide"
    },
    "tags": [
     "subslide"
    ]
   },
   "source": [
    "\n",
    "## Aufruf virtueller Funktionen\n",
    "\n",
    "- `print()` ist eine virtuelle Funktion\n",
    "- Der **dynamische Typ** bestimmt, welche Funktion aufgerufen wird:\n",
    "\n",
    "| Dynamischer Typ | Aufgerufene Funktion |\n",
    "| --------------- | -------------------- |\n",
    "| `BaseV2`        | `BaseV2::print()`    |\n",
    "| `DerivedV2`     | `DerivedV2::print()` |"
   ]
  },
  {
   "cell_type": "code",
   "execution_count": null,
   "id": "49ce3a7e8c37d3e3",
   "metadata": {
    "slideshow": {
     "slide_type": "subslide"
    },
    "tags": [
     "keep",
     "subslide"
    ]
   },
   "outputs": [],
   "source": [
    "BaseV2 b{1};       // Statischer Typ: `BaseV2`, dynamischer Typ: `BaseV2`\n",
    "b.print();"
   ]
  },
  {
   "cell_type": "code",
   "execution_count": null,
   "id": "48d7a895630bd7e7",
   "metadata": {
    "tags": [
     "keep"
    ]
   },
   "outputs": [],
   "source": [
    "DerivedV2 d{2, 3}; // Statischer Typ: `DerivedV2`, dynamischer Typ: `DerivedV2`\n",
    "d.print();"
   ]
  },
  {
   "cell_type": "code",
   "execution_count": null,
   "id": "df6df566a0e1d76e",
   "metadata": {
    "slideshow": {
     "slide_type": "subslide"
    },
    "tags": [
     "keep",
     "subslide"
    ]
   },
   "outputs": [],
   "source": [
    "BaseV2* pb = &b; // Statischer Typ: `BaseV2*`, dynamischer Typ: `BaseV2*`\n",
    "pb->print();\n",
    "pb = &d;         // Statischer Typ: `BaseV2*`, dynamischer Typ: `DerivedV2*`\n",
    "pb->print();"
   ]
  },
  {
   "cell_type": "code",
   "execution_count": null,
   "id": "112e5125b97c4f25",
   "metadata": {
    "slideshow": {
     "slide_type": "subslide"
    },
    "tags": [
     "keep",
     "subslide"
    ]
   },
   "outputs": [],
   "source": [
    "DerivedV2* pd = &d; // Statischer Typ: `DerivedV2*`, dynamischer Typ: `DerivedV2*`\n",
    "pd->print();"
   ]
  },
  {
   "cell_type": "markdown",
   "id": "c61d4c2e5588d9c1",
   "metadata": {
    "lang": "de",
    "slideshow": {
     "slide_type": "subslide"
    },
    "tags": [
     "subslide"
    ]
   },
   "source": [
    "\n",
    "## Methoden der Basisklasse aufrufen\n",
    "\n",
    "- Wir können die Methoden der Basisklasse explizit aufrufen:"
   ]
  },
  {
   "cell_type": "code",
   "execution_count": null,
   "id": "853a27082c22efbd",
   "metadata": {
    "slideshow": {
     "slide_type": "subslide"
    },
    "tags": [
     "keep",
     "subslide"
    ]
   },
   "outputs": [],
   "source": [
    "#include <iostream>\n",
    "#include <string_view>"
   ]
  },
  {
   "cell_type": "code",
   "execution_count": null,
   "id": "d437a84480cd1a5b",
   "metadata": {
    "tags": [
     "keep"
    ]
   },
   "outputs": [],
   "source": [
    "class SimpleGreeting {\n",
    "public:\n",
    "    virtual void print(std::string_view name) const {\n",
    "        std::cout << \"Hello, \" << name << \"!\\n\";\n",
    "    }\n",
    "};"
   ]
  },
  {
   "cell_type": "code",
   "execution_count": null,
   "id": "33911c137e3a5705",
   "metadata": {
    "tags": [
     "keep"
    ]
   },
   "outputs": [],
   "source": [
    "class ElaborateGreeting : public SimpleGreeting {\n",
    "public:\n",
    "    virtual void print(std::string_view name) const override {\n",
    "        SimpleGreeting::print(name);\n",
    "        std::cout << \"How are you?\\n\";\n",
    "    }\n",
    "};"
   ]
  },
  {
   "cell_type": "code",
   "execution_count": null,
   "id": "7bc8accdc9ac6f72",
   "metadata": {
    "slideshow": {
     "slide_type": "subslide"
    },
    "tags": [
     "keep",
     "subslide"
    ]
   },
   "outputs": [],
   "source": [
    "std::unique_ptr<SimpleGreeting> g{std::make_unique<ElaborateGreeting>()};"
   ]
  },
  {
   "cell_type": "code",
   "execution_count": null,
   "id": "7ae89deb083184d0",
   "metadata": {
    "tags": [
     "keep"
    ]
   },
   "outputs": [],
   "source": [
    "g->print(\"World\");"
   ]
  },
  {
   "cell_type": "code",
   "execution_count": null,
   "id": "91fda41053dd9bd4",
   "metadata": {
    "tags": [
     "keep"
    ]
   },
   "outputs": [],
   "source": [
    "g = std::make_unique<SimpleGreeting>();"
   ]
  },
  {
   "cell_type": "code",
   "execution_count": null,
   "id": "3f41abdb361badcd",
   "metadata": {
    "tags": [
     "keep"
    ]
   },
   "outputs": [],
   "source": [
    "g->print(\"World\");\n",
    "\n"
   ]
  },
  {
   "cell_type": "markdown",
   "id": "57780eda605871ea",
   "metadata": {
    "lang": "de",
    "slideshow": {
     "slide_type": "slide"
    },
    "tags": [
     "slide"
    ]
   },
   "source": [
    "\n",
    "# Rein virtuelle Funktionen\n",
    "\n",
    "- In vielen Fällen können virtuelle Funktionen in der Basisklasse nicht\n",
    "  sinnvoll implementiert werden\n",
    "- In diesen Fällen können wir die Funktion als **rein virtuell** deklarieren\n",
    "- Syntax:\n",
    "  - `= 0` nach dem Funktions-Kopf in der Basisklasse\n",
    "- Die Funktion muss in einer abgeleiteten Klasse überschrieben werden"
   ]
  },
  {
   "cell_type": "markdown",
   "id": "a89a1891d8c3284c",
   "metadata": {
    "lang": "de",
    "slideshow": {
     "slide_type": "subslide"
    },
    "tags": [
     "subslide"
    ]
   },
   "source": [
    "\n",
    "## Konsequenzen\n",
    "\n",
    "- Eine Klasse mit mindestens einer rein virtuellen Funktion ist eine\n",
    "  **abstrakte Klasse**\n",
    "- Abstrakte Klassen können nicht instanziiert werden\n",
    "- Abstrakte Klassen können als Basisklassen verwendet werden"
   ]
  },
  {
   "cell_type": "code",
   "execution_count": null,
   "id": "9c8d2c4319ebabb3",
   "metadata": {
    "slideshow": {
     "slide_type": "subslide"
    },
    "tags": [
     "keep",
     "subslide"
    ]
   },
   "outputs": [],
   "source": [
    "class BaseV3 {\n",
    "public:\n",
    "    virtual void print() const = 0;\n",
    "};"
   ]
  },
  {
   "cell_type": "code",
   "execution_count": null,
   "id": "185b3fc36fca7d09",
   "metadata": {
    "tags": [
     "keep"
    ]
   },
   "outputs": [],
   "source": [
    "class DerivedV3a : public BaseV3 {\n",
    "public:\n",
    "    void print() const override {\n",
    "        std::cout << \"DerivedV3a::print()\\n\";\n",
    "    }\n",
    "};"
   ]
  },
  {
   "cell_type": "code",
   "execution_count": null,
   "id": "1b238573c624ede9",
   "metadata": {
    "tags": [
     "keep"
    ]
   },
   "outputs": [],
   "source": [
    "class DerivedV3b : public BaseV3 {\n",
    "public:\n",
    "    void print() const override {\n",
    "        std::cout << \"DerivedV3b::print()\\n\";\n",
    "    }\n",
    "};"
   ]
  },
  {
   "cell_type": "code",
   "execution_count": null,
   "id": "45f0bf188fd45d15",
   "metadata": {
    "lang": "de",
    "slideshow": {
     "slide_type": "subslide"
    },
    "tags": [
     "keep",
     "subslide"
    ]
   },
   "outputs": [],
   "source": [
    "// BaseV3 b3; // Fehler: Kann nicht instanziiert werden"
   ]
  },
  {
   "cell_type": "code",
   "execution_count": null,
   "id": "1c09c65bcdb0cb7f",
   "metadata": {
    "slideshow": {
     "slide_type": "subslide"
    },
    "tags": [
     "keep",
     "subslide"
    ]
   },
   "outputs": [],
   "source": [
    "DerivedV3a d3a;\n",
    "DerivedV3b d3b;"
   ]
  },
  {
   "cell_type": "code",
   "execution_count": null,
   "id": "10b824329ee1b377",
   "metadata": {
    "tags": [
     "keep"
    ]
   },
   "outputs": [],
   "source": [
    "BaseV3* pb3{&d3a};"
   ]
  },
  {
   "cell_type": "code",
   "execution_count": null,
   "id": "0827b83196f831c9",
   "metadata": {
    "tags": [
     "keep"
    ]
   },
   "outputs": [],
   "source": [
    "pb3->print();"
   ]
  },
  {
   "cell_type": "code",
   "execution_count": null,
   "id": "d964c39f7129bd19",
   "metadata": {
    "tags": [
     "keep"
    ]
   },
   "outputs": [],
   "source": [
    "pb3 = &d3b;"
   ]
  },
  {
   "cell_type": "code",
   "execution_count": null,
   "id": "ff728904f346f1b0",
   "metadata": {
    "lines_to_next_cell": 2,
    "tags": [
     "keep"
    ]
   },
   "outputs": [],
   "source": [
    "pb3->print();"
   ]
  },
  {
   "cell_type": "markdown",
   "id": "af9b3cc99d1fb6ce",
   "metadata": {
    "lang": "de",
    "lines_to_next_cell": 2,
    "slideshow": {
     "slide_type": "subslide"
    },
    "tags": [
     "subslide"
    ]
   },
   "source": [
    "\n",
    "## Mini-Workshop: Mitarbeiter\n",
    "\n",
    "In dieser Aufgabe werden wir eine kleine Klassenhierarchie für die\n",
    "Repräsentation von Mitarbeitern einer Firma erstellen. Jeder Mitarbeiter hat\n",
    "einen Namen und ein Gehalt. Es gibt zwei Arten von Mitarbeitern: Ingenieure\n",
    "und Manager, deren Gehalt unterschiedlich berechnet wird. Gehen Sie dabei\n",
    "folgendermaßen vor:"
   ]
  },
  {
   "cell_type": "markdown",
   "id": "c45f28732748232c",
   "metadata": {
    "lang": "de",
    "slideshow": {
     "slide_type": "subslide"
    },
    "tags": [
     "subslide"
    ]
   },
   "source": [
    "\n",
    "1. Erstellen Sie eine Basisklasse namens \"Employee\" mit den folgenden\n",
    "   Membern:\n",
    "   - Eine protected Member-Variable `name` vom Typ `std::string` zur\n",
    "     Speicherung des Namens des Mitarbeiters.\n",
    "   - Eine protected Member-Variablen `base_salary` vom Typ `double` zur\n",
    "     Speicherung des Grundgehalts des Mitarbeiters.\n",
    "   - Einen öffentlichen Konstruktor, der `name` und `base_salary` als\n",
    "     Parameter entgegennimmt und die Member-Variablen initialisiert.\n",
    "   - Eine Funktion `get_name()`, die einen `std::string` mit dem Namen des\n",
    "     Mitarbeiters zurückgibt.\n",
    "   - Eine rein virtuelle Funktion `get_salary()`, die einen `double`-Wert\n",
    "     zurückgibt. Diese Funktion soll in abgeleiteten Klassen überschrieben\n",
    "     werden."
   ]
  },
  {
   "cell_type": "code",
   "execution_count": null,
   "id": "d4c3f0e13bd67293",
   "metadata": {
    "slideshow": {
     "slide_type": "subslide"
    },
    "tags": [
     "subslide"
    ]
   },
   "outputs": [],
   "source": [
    "#include <string>\n",
    "\n",
    "class Employee\n",
    "{\n",
    "public:\n",
    "    Employee(const std::string& name, double base_salary)\n",
    "        : name(name), base_salary(base_salary)\n",
    "    {}\n",
    "\n",
    "    virtual std::string get_name() const { return name; }\n",
    "\n",
    "    virtual double get_salary() const = 0;\n",
    "\n",
    "protected:\n",
    "    std::string name;\n",
    "    double base_salary;\n",
    "};"
   ]
  },
  {
   "cell_type": "markdown",
   "id": "adc378ef877e9584",
   "metadata": {
    "lang": "de",
    "slideshow": {
     "slide_type": "subslide"
    },
    "tags": [
     "subslide"
    ]
   },
   "source": [
    "\n",
    "2. Leiten Sie zwei Klassen von der Basisklasse `Employee` ab:\n",
    "   - Erstellen Sie eine Klasse namens \"Manager\" mit den folgenden Membern:\n",
    "     - Eine private Member-Variable `bonus` vom Typ `double` zur Speicherung\n",
    "       des Bonus.\n",
    "     - Einen öffentlichen Konstruktor, der `name`, `base_salary` und `bonus`\n",
    "       als Parameter entgegennimmt und die Member-Variablen initialisiert.\n",
    "     - Überschreiben Sie die Funktion `get_name()`, so dass sie den Namen des\n",
    "       Mitarbeiters gefolgt von \", Manager\" zurückgibt. Verwenden Sie dabei\n",
    "       `get_name()` aus der Basisklasse.\n",
    "     - Überschreiben Sie die Funktion `get_salary()`, um das Gesamtgehalt zu\n",
    "       berechnen und zurückzugeben, das die Summe aus Grundgehalt und Bonus\n",
    "       ist."
   ]
  },
  {
   "cell_type": "code",
   "execution_count": null,
   "id": "eff723e0b0c2c0bf",
   "metadata": {
    "slideshow": {
     "slide_type": "subslide"
    },
    "tags": [
     "subslide"
    ]
   },
   "outputs": [],
   "source": [
    "class Manager : public Employee\n",
    "{\n",
    "public:\n",
    "    Manager(const std::string& name, double base_salary, double bonus)\n",
    "        : Employee(name, base_salary), bonus(bonus)\n",
    "    {}\n",
    "\n",
    "    std::string get_name() const override { return Employee::get_name() + \", Manager\"; }\n",
    "\n",
    "    double get_salary() const override { return base_salary + bonus; }\n",
    "\n",
    "private:\n",
    "    double bonus;\n",
    "};"
   ]
  },
  {
   "cell_type": "markdown",
   "id": "53da38a64d572dd5",
   "metadata": {
    "lang": "de",
    "slideshow": {
     "slide_type": "subslide"
    },
    "tags": [
     "subslide"
    ]
   },
   "source": [
    "  - Erstellen Sie eine Klasse namens \"Engineer\" mit den folgenden Membern:\n",
    "    - Eine private Member-Variable `years_of_experience` vom Typ `int` zur\n",
    "      Speicherung der Berufserfahrung.\n",
    "    - Einen öffentlichen Konstruktor, der `name`, `base_salary` und\n",
    "      `years_of_experience` als Parameter entgegennimmt und die\n",
    "      Member-Variablen initialisiert.\n",
    "    - Überschreiben Sie die Funktion `get_salary()`, um das Gesamtgehalt zu\n",
    "      berechnen und zurückzugeben. Das Gesamtgehalt besteht aus dem\n",
    "      Grundgehalt plus zusätzlich 1000 Euro für jedes Jahr Berufserfahrung."
   ]
  },
  {
   "cell_type": "code",
   "execution_count": null,
   "id": "8a60ad6e29f00c18",
   "metadata": {
    "slideshow": {
     "slide_type": "subslide"
    },
    "tags": [
     "subslide"
    ]
   },
   "outputs": [],
   "source": [
    "class Engineer : public Employee\n",
    "{\n",
    "public:\n",
    "    Engineer(const std::string& name, double base_salary, int years_of_experience)\n",
    "        : Employee(name, base_salary), years_of_experience(years_of_experience)\n",
    "    {}\n",
    "\n",
    "    double get_salary() const override\n",
    "    {\n",
    "        return base_salary + years_of_experience * 1000;\n",
    "    }\n",
    "\n",
    "private:\n",
    "    int years_of_experience;\n",
    "};"
   ]
  },
  {
   "cell_type": "markdown",
   "id": "7f795e36b14eaa01",
   "metadata": {
    "lang": "de",
    "slideshow": {
     "slide_type": "subslide"
    },
    "tags": [
     "subslide"
    ]
   },
   "source": [
    "\n",
    "- Erstellen sie ein Objekt der Klasse `Manager` mit dem Namen \"John Doe\",\n",
    "  einem Grundgehalt von 5000 Euro und einem Bonus von 1000 Euro.\n",
    "- Erstellen sie ein Objekt der Klasse `Engineer` mit dem Namen \"Jane Smith\",\n",
    "  einem Grundgehalt von 4000 Euro und 3 Jahren Berufserfahrung.\n",
    "- Rufen Sie die Funktionen `get_name()` und `get_salary()` für jedes Objekt\n",
    "  sowohl direkt, als auch über einen Zeiger auf `Employee` auf."
   ]
  },
  {
   "cell_type": "code",
   "execution_count": null,
   "id": "c87240263f0f6359",
   "metadata": {
    "slideshow": {
     "slide_type": "subslide"
    },
    "tags": [
     "subslide"
    ]
   },
   "outputs": [],
   "source": [
    "Manager manager(\"John Doe\", 5000, 1000);\n",
    "Engineer engineer(\"Jane Smith\", 4000, 3);"
   ]
  },
  {
   "cell_type": "code",
   "execution_count": null,
   "id": "311527bde6aa98a1",
   "metadata": {},
   "outputs": [],
   "source": [
    "std::cout << \"Manager: \" << manager.get_name() << \", \" << manager.get_salary()\n",
    "          << \"\\n\";\n",
    "std::cout << \"Engineer: \" << engineer.get_name() << \", \" << engineer.get_salary()\n",
    "          << \"\\n\";"
   ]
  },
  {
   "cell_type": "code",
   "execution_count": null,
   "id": "8dc8637d8ef39bbb",
   "metadata": {
    "slideshow": {
     "slide_type": "subslide"
    },
    "tags": [
     "subslide"
    ]
   },
   "outputs": [],
   "source": [
    "Employee* employee{&manager};\n",
    "std::cout << \"Manager: \" << employee->get_name() << \", \" << employee->get_salary()\n",
    "          << \"\\n\";"
   ]
  },
  {
   "cell_type": "code",
   "execution_count": null,
   "id": "4c56583b7a20765e",
   "metadata": {},
   "outputs": [],
   "source": [
    "employee = &engineer;\n",
    "std::cout << \"Engineer: \" << employee->get_name() << \", \" << employee->get_salary()\n",
    "          << \"\\n\";"
   ]
  },
  {
   "cell_type": "code",
   "execution_count": null,
   "id": "6b4e03423667dbb7",
   "metadata": {},
   "outputs": [],
   "source": []
  }
 ],
 "metadata": {
  "kernelspec": {
   "display_name": "C++17",
   "language": "C++17",
   "name": "xcpp17"
  },
  "language_info": {
   "codemirror_mode": "text/x-c++src",
   "file_extension": ".cpp",
   "mimetype": "text/x-c++src",
   "name": "c++",
   "version": "17"
  }
 },
 "nbformat": 4,
 "nbformat_minor": 5
}
