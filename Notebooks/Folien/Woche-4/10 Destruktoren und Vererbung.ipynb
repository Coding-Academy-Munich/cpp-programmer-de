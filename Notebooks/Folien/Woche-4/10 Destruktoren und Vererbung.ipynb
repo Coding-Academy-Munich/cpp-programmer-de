{
 "cells": [
  {
   "cell_type": "markdown",
   "id": "ef9ed7fb70a762b1",
   "metadata": {
    "lang": "de",
    "slideshow": {
     "slide_type": "slide"
    },
    "tags": [
     "slide"
    ]
   },
   "source": [
    "\n",
    "<img src=\"data:image/png;base64,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\"\n",
    "     style=\"display:block;margin:auto;width:5%\"/>\n",
    "<br>\n",
    "\n",
    "<div style=\"text-align:center; font-size:200%;\">\n",
    " <b>Destruktoren und Vererbung</b>\n",
    "</div>\n",
    "<br/>\n",
    "<div style=\"text-align:center; font-size:120%;\">Dr. Matthias Hölzl</div>\n",
    "<br/>\n",
    "<div style=\"text-align:center;\">Coding-Akademie München</div>\n",
    "<br/>\n",
    "<!-- 10 Destruktoren und Vererbung.ipynb -->\n",
    "<!-- slides/module_170_oop/topic_130_destruction.cpp -->"
   ]
  },
  {
   "cell_type": "markdown",
   "id": "e47a2118f68759cb",
   "metadata": {
    "lang": "de",
    "slideshow": {
     "slide_type": "subslide"
    },
    "tags": [
     "subslide"
    ]
   },
   "source": [
    "\n",
    "- Der Destruktor wird wie andere Funktionen behandelt:\n",
    "  - Wenn er nicht virtuell ist, bestimmt der statische Typ, welcher Destruktor\n",
    "    aufgerufen wird.\n",
    "  - Das ist fast immer falsch wenn Vererbung im Spiel ist!\n",
    "  - Wenn die Unterklasse Ressourcen allokiert, werden diese nicht freigegeben.\n",
    "- Wir müssen den Destruktor als virtuell deklarieren, damit er korrekt\n",
    "  aufgerufen wird."
   ]
  },
  {
   "cell_type": "code",
   "execution_count": null,
   "id": "a0ee650c342d197c",
   "metadata": {
    "slideshow": {
     "slide_type": "subslide"
    },
    "tags": [
     "keep",
     "subslide"
    ]
   },
   "outputs": [],
   "source": [
    "#include <iostream>"
   ]
  },
  {
   "cell_type": "code",
   "execution_count": null,
   "id": "d134c028b6e4197f",
   "metadata": {
    "tags": [
     "keep"
    ]
   },
   "outputs": [],
   "source": [
    "class BaseV1 {\n",
    "public:\n",
    "    ~BaseV1() {\n",
    "        std::cout << \"BaseV1::~BaseV1()\\n\";\n",
    "    }\n",
    "}"
   ]
  },
  {
   "cell_type": "code",
   "execution_count": null,
   "id": "621a842cc808da59",
   "metadata": {
    "tags": [
     "keep"
    ]
   },
   "outputs": [],
   "source": [
    "class DerivedV1 : public BaseV1 {\n",
    "public:\n",
    "    ~DerivedV1() {\n",
    "        std::cout << \"DerivedV1::~DerivedV1()\\n\";\n",
    "    }\n",
    "}"
   ]
  },
  {
   "cell_type": "code",
   "execution_count": null,
   "id": "c47d2e8085e66257",
   "metadata": {
    "tags": [
     "keep"
    ]
   },
   "outputs": [],
   "source": [
    "BaseV1* pb = new DerivedV1{};\n",
    "delete pb;"
   ]
  },
  {
   "cell_type": "code",
   "execution_count": null,
   "id": "54783b57f6f0e812",
   "metadata": {
    "slideshow": {
     "slide_type": "subslide"
    },
    "tags": [
     "keep",
     "subslide"
    ]
   },
   "outputs": [],
   "source": [
    "#include <memory>"
   ]
  },
  {
   "cell_type": "code",
   "execution_count": null,
   "id": "f46e1caa4e5337c2",
   "metadata": {
    "lines_to_next_cell": 2,
    "tags": [
     "keep"
    ]
   },
   "outputs": [],
   "source": [
    "{\n",
    "    std::unique_ptr<BaseV1> pb = std::make_unique<DerivedV1>();\n",
    "}"
   ]
  },
  {
   "cell_type": "markdown",
   "id": "7637f471720fcbe2",
   "metadata": {
    "lang": "de"
   },
   "source": [
    "\n",
    "- Der Destruktor von `DerivedV1` wird nicht aufgerufen!\n",
    "- Wir müssen den Destruktor als virtuell deklarieren, damit er korrekt\n",
    "  aufgerufen wird, wenn wir Klassen über Zeiger zerstören wollen."
   ]
  },
  {
   "cell_type": "code",
   "execution_count": null,
   "id": "4bce976ce1e77b7b",
   "metadata": {
    "slideshow": {
     "slide_type": "subslide"
    },
    "tags": [
     "keep",
     "subslide"
    ]
   },
   "outputs": [],
   "source": [
    "class Base {\n",
    "public:\n",
    "    virtual ~Base() {\n",
    "        std::cout << \"Base::~Base()\\n\";\n",
    "    }\n",
    "};"
   ]
  },
  {
   "cell_type": "code",
   "execution_count": null,
   "id": "de79d638e816a77b",
   "metadata": {
    "tags": [
     "keep"
    ]
   },
   "outputs": [],
   "source": [
    "class Derived : public Base {\n",
    "public:\n",
    "    ~Derived() {\n",
    "        std::cout << \"Derived::~Derived()\\n\";\n",
    "    }\n",
    "};"
   ]
  },
  {
   "cell_type": "code",
   "execution_count": null,
   "id": "c25c26ab66e3276d",
   "metadata": {
    "slideshow": {
     "slide_type": "subslide"
    },
    "tags": [
     "keep",
     "subslide"
    ]
   },
   "outputs": [],
   "source": [
    "Base* pb = new Derived{};\n",
    "delete pb;"
   ]
  },
  {
   "cell_type": "code",
   "execution_count": null,
   "id": "cc54bfdf5854e85e",
   "metadata": {
    "slideshow": {
     "slide_type": "subslide"
    },
    "tags": [
     "keep",
     "subslide"
    ]
   },
   "outputs": [],
   "source": [
    "#include <memory>"
   ]
  },
  {
   "cell_type": "code",
   "execution_count": null,
   "id": "027c7f6e1a8baa9b",
   "metadata": {
    "tags": [
     "keep"
    ]
   },
   "outputs": [],
   "source": [
    "{\n",
    "    std::unique_ptr<Base> pb = std::make_unique<Derived>();\n",
    "}"
   ]
  },
  {
   "cell_type": "markdown",
   "id": "c7c17e469b9f0538",
   "metadata": {
    "lang": "de",
    "slideshow": {
     "slide_type": "subslide"
    },
    "tags": [
     "subslide"
    ]
   },
   "source": [
    "\n",
    "- Eine häufige Faustregel ist, dass ein Destruktor für eine Basisklasse\n",
    "  entweder\n",
    "  - public und virtuell oder\n",
    "  - protected und nicht virtuell sein muss.\n",
    "- Die zweite Form wird oft im [nicht-virtuellen\n",
    "  Interface](https://en.wikibooks.org/wiki/More_C%2B%2B_Idioms/Non-Virtual_Interface)\n",
    "  Pattern eingesetzt."
   ]
  },
  {
   "cell_type": "markdown",
   "id": "df56fb8d86f412f4",
   "metadata": {
    "lang": "de",
    "slideshow": {
     "slide_type": "subslide"
    },
    "tags": [
     "subslide"
    ]
   },
   "source": [
    "\n",
    "## Mini-Workshop: Destruktoren\n",
    "\n",
    "Gegeben seien die im folgenden definierten Klassen `Shape`, `Circle` und\n",
    "`Rectangle`.\n",
    "\n",
    "- Schreiben Sie eine Funktion `total_area()`, die die Summe der Flächen aller\n",
    "  Objekte für einen Vektor von `std::unique_ptr<Shape>` berechnet.\n",
    "- Definieren Sie einen Vektor `shapes`, der Unique Pointer auf Shapes speichert.\n",
    "- Speichern Sie in diesem Vektor folgende Objekte:\n",
    "  - Ein `Circle` mit Radius 2.0\n",
    "  - Ein `Rectangle` mit Breite 3.0 und Höhe 4.0\n",
    "- Rufen Sie diese Funktion auf. Was passiert?\n",
    "- Entfernen Sie alle Elemente aus `shapes`. Was passiert?\n",
    "- Was müssen Sie tun, um den Fehler zu beheben?"
   ]
  },
  {
   "cell_type": "code",
   "execution_count": null,
   "id": "3e2bc168161beb1a",
   "metadata": {
    "slideshow": {
     "slide_type": "subslide"
    },
    "tags": [
     "alt",
     "subslide"
    ]
   },
   "outputs": [],
   "source": [
    "#include <iostream>\n",
    "\n",
    "class Shape {\n",
    "public:\n",
    "    Shape() {\n",
    "        std::cout << \"Shape::Shape()\\n\";\n",
    "    }\n",
    "    virtual ~Shape() {\n",
    "        std::cout << \"Shape::~Shape()\\n\";\n",
    "    }\n",
    "    virtual double area() const = 0;\n",
    "};"
   ]
  },
  {
   "cell_type": "code",
   "execution_count": null,
   "id": "857d0c0d93e9d243",
   "metadata": {
    "slideshow": {
     "slide_type": "subslide"
    },
    "tags": [
     "keep",
     "subslide"
    ]
   },
   "outputs": [],
   "source": [
    "constexpr double pi{3.14159265358979323846};\n",
    "class Circle : public Shape {\n",
    "public:\n",
    "    Circle(double radius) : radius_{radius} {\n",
    "        std::cout << \"Circle::Circle()\\n\";\n",
    "    }\n",
    "    ~Circle() {\n",
    "        std::cout << \"Circle::~Circle()\\n\";\n",
    "    }\n",
    "    double area() const override {\n",
    "        return radius_ * radius_ * pi;\n",
    "    }\n",
    "private:\n",
    "    double radius_;\n",
    "};"
   ]
  },
  {
   "cell_type": "code",
   "execution_count": null,
   "id": "518263c85e0c9ac1",
   "metadata": {
    "slideshow": {
     "slide_type": "subslide"
    },
    "tags": [
     "keep",
     "subslide"
    ]
   },
   "outputs": [],
   "source": [
    "class Rectangle : public Shape {\n",
    "public:\n",
    "    Rectangle(double width, double height) : width_{width}, height_{height} {\n",
    "        std::cout << \"Rectangle::Rectangle()\\n\";\n",
    "    }\n",
    "    ~Rectangle() {\n",
    "        std::cout << \"Rectangle::~Rectangle()\\n\";\n",
    "    }\n",
    "    double area() const override {\n",
    "        return width_ * height_;\n",
    "    }\n",
    "private:\n",
    "    double width_;\n",
    "    double height_;\n",
    "};"
   ]
  },
  {
   "cell_type": "code",
   "execution_count": null,
   "id": "42991d571ff878d8",
   "metadata": {
    "slideshow": {
     "slide_type": "subslide"
    },
    "tags": [
     "keep",
     "subslide"
    ]
   },
   "outputs": [],
   "source": [
    "#include <vector>"
   ]
  },
  {
   "cell_type": "code",
   "execution_count": null,
   "id": "5b12f18a19599533",
   "metadata": {},
   "outputs": [],
   "source": [
    "double total_area(const std::vector<std::unique_ptr<Shape>>& shapes)\n",
    "{\n",
    "    double total{};\n",
    "    for (const auto& shape : shapes) {\n",
    "        total += shape->area();\n",
    "    }\n",
    "    return total;\n",
    "}"
   ]
  },
  {
   "cell_type": "code",
   "execution_count": null,
   "id": "04ce3bdbfd58a29b",
   "metadata": {
    "slideshow": {
     "slide_type": "subslide"
    },
    "tags": [
     "subslide"
    ]
   },
   "outputs": [],
   "source": [
    "std::vector<std::unique_ptr<Shape>> shapes;"
   ]
  },
  {
   "cell_type": "code",
   "execution_count": null,
   "id": "ab022244a65092da",
   "metadata": {},
   "outputs": [],
   "source": [
    "shapes.push_back(std::make_unique<Circle>(2.0));"
   ]
  },
  {
   "cell_type": "code",
   "execution_count": null,
   "id": "f789d4a5063571fa",
   "metadata": {},
   "outputs": [],
   "source": [
    "shapes.push_back(std::make_unique<Rectangle>(3.0, 4.0));"
   ]
  },
  {
   "cell_type": "code",
   "execution_count": null,
   "id": "265eb64d4854b02d",
   "metadata": {},
   "outputs": [],
   "source": [
    "total_area(shapes);"
   ]
  },
  {
   "cell_type": "code",
   "execution_count": null,
   "id": "cda968601f26071a",
   "metadata": {},
   "outputs": [],
   "source": [
    "shapes.clear();"
   ]
  },
  {
   "cell_type": "code",
   "execution_count": null,
   "id": "6b4e03423667dbb7",
   "metadata": {},
   "outputs": [],
   "source": []
  }
 ],
 "metadata": {
  "kernelspec": {
   "display_name": "C++17",
   "language": "C++17",
   "name": "xcpp17"
  },
  "language_info": {
   "codemirror_mode": "text/x-c++src",
   "file_extension": ".cpp",
   "mimetype": "text/x-c++src",
   "name": "c++",
   "version": "17"
  }
 },
 "nbformat": 4,
 "nbformat_minor": 5
}
