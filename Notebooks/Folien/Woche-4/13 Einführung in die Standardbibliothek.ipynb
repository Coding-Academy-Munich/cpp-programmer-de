{
 "cells": [
  {
   "cell_type": "markdown",
   "id": "cfe9de2eb9013f1b",
   "metadata": {
    "lang": "de",
    "slideshow": {
     "slide_type": "slide"
    },
    "tags": [
     "slide"
    ]
   },
   "source": [
    "\n",
    "<img src=\"data:image/png;base64,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\"\n",
    "     style=\"display:block;margin:auto;width:5%\"/>\n",
    "<br>\n",
    "\n",
    "<div style=\"text-align:center; font-size:200%;\">\n",
    " <b>Einführung in die Standardbibliothek</b>\n",
    "</div>\n",
    "<br/>\n",
    "<div style=\"text-align:center; font-size:120%;\">Dr. Matthias Hölzl</div>\n",
    "<br/>\n",
    "<div style=\"text-align:center;\">Coding-Akademie München</div>\n",
    "<br/>\n",
    "<!-- 13 Einführung in die Standardbibliothek.ipynb -->\n",
    "<!-- slides/module_190_standard_library/topic_110_intro_standard_lib.cpp -->"
   ]
  },
  {
   "cell_type": "markdown",
   "id": "fcf3a9800b890b0d",
   "metadata": {
    "lang": "de",
    "slideshow": {
     "slide_type": "slide"
    },
    "tags": [
     "slide"
    ]
   },
   "source": [
    "\n",
    "# Bestandteile der Standardbibliothek\n",
    "\n",
    "- Low-Level-Unterstützung (Speicherverwaltung, Ausnahmen, RTTI, ...)\n",
    "- C-Standardbibliothek\n",
    "- Utilities (Smart Pointer, Funktionswrapper, Tupel, Optional, ...)\n",
    "- Metaprogrammierungs-Utilities (Type Traits, Type Manipulation, ...)\n",
    "- Numerik, komplexe Zahlen, Zufallszahlen\n",
    "- Strings, String-Views, reguläre Ausdrücke\n",
    "- I/O-Streams, Formatierung, Dateisystem\n",
    "- Container, Iteratoren, Algorithmen, Ranges (STL)\n",
    "- Konzepte\n",
    "- Nebenläufigkeit, Threads, Coroutinen"
   ]
  },
  {
   "cell_type": "markdown",
   "id": "781967452116d326",
   "metadata": {
    "lang": "de",
    "slideshow": {
     "slide_type": "subslide"
    },
    "tags": [
     "subslide"
    ]
   },
   "source": [
    "\n",
    "## Organisation der Standardbibliothek\n",
    "\n",
    "- Header Dateien\n",
    "  - `#include <header>`\n",
    "- Namespace `std`\n",
    "  - Wenige Unter-Namespaces (z.B. `std::chrono`)"
   ]
  },
  {
   "cell_type": "code",
   "execution_count": null,
   "id": "a0ee650c342d197c",
   "metadata": {},
   "outputs": [],
   "source": [
    "#include <iostream>"
   ]
  },
  {
   "cell_type": "code",
   "execution_count": null,
   "id": "d3eb99d1160387f4",
   "metadata": {},
   "outputs": [],
   "source": [
    "std::cout << 123;"
   ]
  },
  {
   "cell_type": "code",
   "execution_count": null,
   "id": "b6fededf20c8577c",
   "metadata": {
    "slideshow": {
     "slide_type": "subslide"
    },
    "tags": [
     "subslide"
    ]
   },
   "outputs": [],
   "source": [
    "#include <math.h>"
   ]
  },
  {
   "cell_type": "code",
   "execution_count": null,
   "id": "f17be9afe764b195",
   "metadata": {
    "lines_to_next_cell": 2
   },
   "outputs": [],
   "source": [
    "std::cout << pow(2.0, 3.0);"
   ]
  },
  {
   "cell_type": "code",
   "execution_count": null,
   "id": "cf7cf5d9f70b1894",
   "metadata": {},
   "outputs": [],
   "source": [
    "#include <cmath>"
   ]
  },
  {
   "cell_type": "code",
   "execution_count": null,
   "id": "890dbc3d20ac7f44",
   "metadata": {},
   "outputs": [],
   "source": [
    "std::cout << std::pow(2.0, 3.0);"
   ]
  },
  {
   "cell_type": "markdown",
   "id": "75aa79679a83532e",
   "metadata": {
    "lang": "de",
    "slideshow": {
     "slide_type": "subslide"
    },
    "tags": [
     "subslide"
    ]
   },
   "source": [
    "\n",
    "## Workshop:Verwendung der Standardbibliothek\n",
    "\n",
    "- Schreiben Sie eine Funktion `int string_to_int(const std::string& str)`,\n",
    "  die eine Zeichenkette als Argument entgegennimmt und in eine `int`-Zahl\n",
    "  umwandelt, falls das möglich ist. Andernfalls soll die Funktion eine\n",
    "  geeignete Exception werfen.\n",
    "- Verwenden Sie den `std::pair`-Typ aus dem `utility`-Header, um eine\n",
    "  Funktion zu schreiben, die einen Vektor von `int`-Werten als Argument\n",
    "  entgegennimmt und das Minimum und das Maximum der Werte zurückgibt.\n",
    "\n",
    "### Hinweise\n",
    "\n",
    "- Die Exceptions der Standardbibliothek sind in dem Header\n",
    "  [`stdexcept`](https://en.cppreference.com/w/cpp/header/stdexcept)\n",
    "  definiert.\n",
    "- Dokumentation zu\n",
    "  [`std::pair`](https://en.cppreference.com/w/cpp/utility/pair)"
   ]
  },
  {
   "cell_type": "code",
   "execution_count": null,
   "id": "95a8126127dd49a4",
   "metadata": {
    "slideshow": {
     "slide_type": "subslide"
    },
    "tags": [
     "subslide"
    ]
   },
   "outputs": [],
   "source": [
    "#include <stdexcept>\n",
    "#include <string>"
   ]
  },
  {
   "cell_type": "code",
   "execution_count": null,
   "id": "c72cd2e826c81bb9",
   "metadata": {},
   "outputs": [],
   "source": [
    "int string_to_int(const std::string& inStr) {\n",
    "    std::string str{inStr};\n",
    "    int result = 0;\n",
    "    int sign = 1;\n",
    "    if (str.length() == 0) {\n",
    "        throw std::invalid_argument(\"string_to_int: argument is empty\");\n",
    "    }\n",
    "    if (str[0] == '-') {\n",
    "        sign = -1;\n",
    "        str.erase(0, 1);\n",
    "    }\n",
    "    for (char c : str) {\n",
    "        if (!std::isdigit(c)) {\n",
    "            throw std::invalid_argument(\"string_to_int: argument is not a number\");\n",
    "        }\n",
    "        result = result * 10 + (c - '0');\n",
    "    }\n",
    "    return sign * result;\n",
    "}"
   ]
  },
  {
   "cell_type": "code",
   "execution_count": null,
   "id": "336ca7fc3bca98c3",
   "metadata": {
    "slideshow": {
     "slide_type": "subslide"
    },
    "tags": [
     "subslide"
    ]
   },
   "outputs": [],
   "source": [
    "std::cout << string_to_int(\"123\");"
   ]
  },
  {
   "cell_type": "code",
   "execution_count": null,
   "id": "fbbafbf87047e024",
   "metadata": {},
   "outputs": [],
   "source": [
    "std::cout << string_to_int(\"-123\");"
   ]
  },
  {
   "cell_type": "code",
   "execution_count": null,
   "id": "2600936c95332850",
   "metadata": {},
   "outputs": [],
   "source": [
    "try {\n",
    "    std::cout << string_to_int(\"abc\");\n",
    "} catch (const std::invalid_argument& e) {\n",
    "    std::cerr << e.what() << std::endl;\n",
    "}"
   ]
  },
  {
   "cell_type": "code",
   "execution_count": null,
   "id": "c2cfbc3c60609706",
   "metadata": {
    "tags": [
     "alt"
    ]
   },
   "outputs": [],
   "source": [
    "int string_to_int(const std::string& str) {\n",
    "    return std::stoi(str);\n",
    " }"
   ]
  },
  {
   "cell_type": "code",
   "execution_count": null,
   "id": "417d5523c5860c7a",
   "metadata": {
    "slideshow": {
     "slide_type": "subslide"
    },
    "tags": [
     "subslide",
     "alt"
    ]
   },
   "outputs": [],
   "source": [
    "std::cout << string_to_int(\"123\");"
   ]
  },
  {
   "cell_type": "code",
   "execution_count": null,
   "id": "bc25cb12288156c2",
   "metadata": {
    "tags": [
     "alt"
    ]
   },
   "outputs": [],
   "source": [
    "std::cout << string_to_int(\"-123\");"
   ]
  },
  {
   "cell_type": "code",
   "execution_count": null,
   "id": "0dd227a93297f535",
   "metadata": {
    "lines_to_next_cell": 2,
    "tags": [
     "alt"
    ]
   },
   "outputs": [],
   "source": [
    "try {\n",
    "    std::cout << string_to_int(\"abc\");\n",
    "} catch (const std::invalid_argument& e) {\n",
    "    std::cerr << e.what() << std::endl;\n",
    "}"
   ]
  },
  {
   "cell_type": "code",
   "execution_count": null,
   "id": "50095b5ca0ed7291",
   "metadata": {
    "slideshow": {
     "slide_type": "subslide"
    },
    "tags": [
     "subslide"
    ]
   },
   "outputs": [],
   "source": [
    "#include <vector>\n",
    "#include <utility>"
   ]
  },
  {
   "cell_type": "code",
   "execution_count": null,
   "id": "bdda83f04330bc66",
   "metadata": {},
   "outputs": [],
   "source": [
    "std::pair<int, int> minmax(const std::vector<int>& values) {\n",
    "    if (values.empty()) {\n",
    "        return {0, 0};\n",
    "    }\n",
    "\n",
    "    std::pair<int, int> result{values[0], values[0]};\n",
    "\n",
    "    for (int value : values) {\n",
    "        if (value < result.first) {\n",
    "            result.first = value;\n",
    "        }\n",
    "        if (value > result.second) {\n",
    "            result.second = value;\n",
    "        }\n",
    "    }\n",
    "\n",
    "    return result;\n",
    "}"
   ]
  },
  {
   "cell_type": "code",
   "execution_count": null,
   "id": "637a4611646ccf17",
   "metadata": {
    "slideshow": {
     "slide_type": "subslide"
    },
    "tags": [
     "subslide"
    ]
   },
   "outputs": [],
   "source": [
    "std::vector<int> values{6, 7, 8, 9, 10, 1, 2, 3, 4, 5};"
   ]
  },
  {
   "cell_type": "code",
   "execution_count": null,
   "id": "72f8d2b42ea7b04c",
   "metadata": {},
   "outputs": [],
   "source": [
    "std::pair<int, int> res{minmax(values)};\n",
    "std::cout << \"min: \" << res.first << \", max: \" << res.second;"
   ]
  }
 ],
 "metadata": {
  "kernelspec": {
   "display_name": "C++17",
   "language": "C++17",
   "name": "xcpp17"
  },
  "language_info": {
   "codemirror_mode": "text/x-c++src",
   "file_extension": ".cpp",
   "mimetype": "text/x-c++src",
   "name": "c++",
   "version": "17"
  }
 },
 "nbformat": 4,
 "nbformat_minor": 5
}
