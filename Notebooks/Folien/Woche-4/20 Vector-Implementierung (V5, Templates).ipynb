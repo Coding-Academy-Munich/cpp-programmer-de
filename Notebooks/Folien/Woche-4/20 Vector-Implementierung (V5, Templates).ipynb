{
 "cells": [
  {
   "cell_type": "markdown",
   "id": "4d1f1a651a0afb59",
   "metadata": {
    "lang": "de",
    "slideshow": {
     "slide_type": "slide"
    },
    "tags": [
     "slide"
    ]
   },
   "source": [
    "\n",
    "<img src=\"data:image/png;base64,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\"\n",
    "     style=\"display:block;margin:auto;width:5%\"/>\n",
    "<br>\n",
    "\n",
    "<div style=\"text-align:center; font-size:200%;\">\n",
    " <b>Vector-Implementierung (V5, Templates)</b>\n",
    "</div>\n",
    "<br/>\n",
    "<div style=\"text-align:center; font-size:120%;\">Dr. Matthias Hölzl</div>\n",
    "<br/>\n",
    "<div style=\"text-align:center;\">Coding-Akademie München</div>\n",
    "<br/>\n",
    "<!-- 20 Vector-Implementierung (V5, Templates).ipynb -->\n",
    "<!-- slides/module_200_stl_collections/topic_135_my_vector_v5.cpp -->"
   ]
  },
  {
   "cell_type": "markdown",
   "id": "5d457ac6ad77345c",
   "metadata": {
    "lang": "de",
    "slideshow": {
     "slide_type": "subslide"
    },
    "tags": [
     "subslide"
    ]
   },
   "source": [
    "\n",
    "## `MyVector`-Class\n",
    "\n",
    "Mit Templates können wir den Code für verschiedene Typen wiederverwenden.\n",
    "\n",
    "- Diese Implementierung orientiert sich näher an der Standardbibliothek als\n",
    "  die früheren Versionen\n",
    "  - Der reservierte Speicher wird erst bei Bedarf initialisiert\n",
    "  - Elemente werden sofort zerstört, wenn sie aus dem Vektor entfernt werden\n",
    "  - Der Vektor ist iterierbar\n",
    "  - Die `at()`-Methode wirft eine `std::out_of_range`-Exception\n",
    "  - ...\n",
    "- Die Implementierung ist aber bei weitem nicht vollständig und nicht\n",
    "  optimiert\n",
    "- Es ist fast immer besser, die Standardbibliothek oder eine auf spezielle\n",
    "  Anforderungen optimierte Bibliothek zu verwenden"
   ]
  },
  {
   "cell_type": "code",
   "execution_count": null,
   "id": "1c87a0541b521f16",
   "metadata": {
    "slideshow": {
     "slide_type": "subslide"
    },
    "tags": [
     "keep",
     "subslide"
    ]
   },
   "outputs": [],
   "source": [
    "#include <algorithm>\n",
    "#include <initializer_list>\n",
    "#include <iostream>\n",
    "#include <memory>\n",
    "#include <sstream>\n",
    "#include <stdexcept>\n",
    "#include <utility>\n",
    "#include <vector>\n",
    "\n",
    "#include \"lifetime_observer.hpp\"\n",
    "#include \"type_name.hpp\""
   ]
  },
  {
   "cell_type": "code",
   "execution_count": null,
   "id": "579954b54566ecb0",
   "metadata": {
    "tags": [
     "keep"
    ]
   },
   "outputs": [],
   "source": [
    "using namespace std::string_literals;"
   ]
  },
  {
   "cell_type": "code",
   "execution_count": null,
   "id": "d55dfd87ee3cc4c0",
   "metadata": {
    "slideshow": {
     "slide_type": "subslide"
    },
    "tags": [
     "keep",
     "subslide"
    ]
   },
   "outputs": [],
   "source": [
    "template <typename T>\n",
    "class MyVector\n",
    "{\n",
    "public:\n",
    "    using value_type = T;\n",
    "    using size_type = std::size_t;\n",
    "    using difference_type = std::ptrdiff_t;\n",
    "    using pointer = T*; // or std::allocator_traits<std::allocator<T>>::pointer;\n",
    "    using const_pointer = const T*;\n",
    "    using reference = T&;\n",
    "    using const_reference = const T&;\n",
    "    using iterator = pointer;\n",
    "    using const_iterator = const_pointer;\n",
    "\n",
    "    MyVector() = default;\n",
    "    explicit MyVector(size_type size, T value = T{});\n",
    "    MyVector(std::initializer_list<T> init);\n",
    "\n",
    "    MyVector(const MyVector& other)\n",
    "        : size_(other.size_), capacity_(other.capacity_), data_(allocate_data())\n",
    "    {\n",
    "        for (size_type i{0}; i != size_; ++i) {\n",
    "            allocator.construct(data_ + i, other.data_[i]);\n",
    "        }\n",
    "        std::cout << \"MyVector<\" << type_name<T>() << \"> @\" << this\n",
    "                  << \": constructed (const MyVector&)\\n\";\n",
    "    }\n",
    "\n",
    "    MyVector& operator=(const MyVector& other)\n",
    "    {\n",
    "        if (this != &other) {\n",
    "            delete_data();\n",
    "            size_ = other.size_;\n",
    "            capacity_ = other.capacity_;\n",
    "            data_ = allocate_data();\n",
    "            for (size_type i{0}; i != size_; ++i) {\n",
    "                allocator.construct(data_ + i, other.data_[i]);\n",
    "            }\n",
    "        }\n",
    "        std::cout << \"MyVector<\" << type_name<T>() << \"> @\" << this\n",
    "                  << \": copy assignment called\\n\";\n",
    "        return *this;\n",
    "    }\n",
    "\n",
    "    MyVector(MyVector&& other) noexcept\n",
    "        : size_(other.size_), capacity_(other.capacity_), data_(other.data_)\n",
    "    {\n",
    "        // std::vector guarantees that `other` is `empty()` after move\n",
    "        other.size_ = 0;\n",
    "        other.capacity_ = 0;\n",
    "        other.data_ = nullptr;\n",
    "        std::cout << \"MyVector<\" << type_name<T>() << \"> @\" << this\n",
    "                  << \": constructed (MyVector&&)\\n\";\n",
    "    }\n",
    "\n",
    "    MyVector& operator=(MyVector&& other) noexcept\n",
    "    {\n",
    "        delete_data();\n",
    "        size_ = other.size_;\n",
    "        capacity_ = other.capacity_;\n",
    "        data_ = other.data_;\n",
    "        // std::vector guarantees that `other` is `empty()` after move-assignment\n",
    "        other.size_ = 0;\n",
    "        other.capacity_ = 0;\n",
    "        other.data_ = nullptr;\n",
    "        std::cout << \"MyVector<\" << type_name<T>() << \"> @\" << this\n",
    "                  << \": move assignment called\\n\";\n",
    "        return *this;\n",
    "    }\n",
    "\n",
    "    ~MyVector();\n",
    "\n",
    "    reference operator[](size_type index) { return data_[index]; }\n",
    "    const_reference operator[](size_type index) const { return data_[index]; }\n",
    "\n",
    "    iterator begin() { return data_; }\n",
    "    const_iterator begin() const { return data_; }\n",
    "    const_iterator cbegin() const { return data_; }\n",
    "\n",
    "    iterator end() { return data_ + size_; }\n",
    "    const_iterator end() const { return data_ + size_; }\n",
    "    const_iterator cend() const { return data_ + size_; }\n",
    "\n",
    "    reference front() { return data_[0]; }\n",
    "    const_reference front() const { return data_[0]; }\n",
    "\n",
    "    reference back() { return data_[size_ - 1]; }\n",
    "    const_reference back() const { return data_[size_ - 1]; }\n",
    "\n",
    "    void push_back(const T& value);\n",
    "    void push_back(T&& value);\n",
    "    void pop_back();\n",
    "\n",
    "    template <typename... Arg>\n",
    "    void emplace_back(Arg&&... args);\n",
    "\n",
    "    reference at(size_type index);\n",
    "    const_reference at(size_type index) const;\n",
    "\n",
    "    size_type size() const;\n",
    "    size_type capacity() const;\n",
    "    void reserve(size_type new_size);\n",
    "\n",
    "private:\n",
    "    // In contrast to `std::vector`, we don't provide the allocator as a template\n",
    "    // parameter, but use a static allocator instead\n",
    "    static std::allocator<T> allocator;\n",
    "\n",
    "    size_type size_{0};\n",
    "    size_type capacity_{0};\n",
    "    pointer data_{nullptr};\n",
    "\n",
    "    void assert_valid_index(size_type index) const;\n",
    "    void ensure_can_push_back();\n",
    "    pointer allocate_data();\n",
    "    void delete_data();\n",
    "};\n",
    "\n",
    "// Storage for the static allocator has to be provided outside the class declaration\n",
    "template <typename T>\n",
    "std::allocator<T> MyVector<T>::allocator{};\n",
    "\n",
    "template <typename T>\n",
    "std::ostream& operator<<(std::ostream& os, const MyVector<T>& vec)\n",
    "{\n",
    "    std::string sep{\"\"};\n",
    "    os << \"[\";\n",
    "    for (typename MyVector<T>::size_type i{0}; i != vec.size(); ++i) {\n",
    "        os << sep << vec.at(i);\n",
    "        sep = \", \"s;\n",
    "    }\n",
    "    os << \"]\";\n",
    "    return os;\n",
    "}"
   ]
  },
  {
   "cell_type": "markdown",
   "id": "7af7cfde8277c839",
   "metadata": {
    "lang": "de",
    "slideshow": {
     "slide_type": "subslide"
    },
    "tags": [
     "subslide"
    ]
   },
   "source": [
    "\n",
    "## `MyVector`-Implementierung\n",
    "\n",
    "- Nachdem wir den Speicher in `data_` nicht initialisieren, müssen wir die\n",
    "  Elemente mit dem Low-Level-`std::allocator`-Mechanismus konstruieren und\n",
    "  zerstören"
   ]
  },
  {
   "cell_type": "code",
   "execution_count": null,
   "id": "b076a7508cb30949",
   "metadata": {
    "slideshow": {
     "slide_type": "subslide"
    },
    "tags": [
     "keep",
     "subslide"
    ]
   },
   "outputs": [],
   "source": [
    "template <typename T>\n",
    "MyVector<T>::MyVector(size_type size, T value)\n",
    "    : size_(size), capacity_(size), data_(allocate_data())\n",
    "{\n",
    "    std::cout << \"MyVector<\" << type_name<T>() << \"> @\" << this\n",
    "              << \": constructed (size_type, T)\\n\";\n",
    "    for (size_type i{0}; i != size_; ++i) {\n",
    "        allocator.construct(data_ + i, value);\n",
    "    }\n",
    "}"
   ]
  },
  {
   "cell_type": "code",
   "execution_count": null,
   "id": "8d227dd7c5b063a4",
   "metadata": {
    "slideshow": {
     "slide_type": "subslide"
    },
    "tags": [
     "keep",
     "subslide"
    ]
   },
   "outputs": [],
   "source": [
    "template <typename T>\n",
    "MyVector<T>::MyVector(std::initializer_list<T> init)\n",
    "    : size_(init.size()), capacity_(init.size()), data_(allocate_data())\n",
    "{\n",
    "    std::cout << \"MyVector<\" << type_name<T>() << \"> @\" << this\n",
    "              << \": constructed (std::initializer_list)\\n\";\n",
    "    auto* p{data_};\n",
    "    for (const auto& elem : init) {\n",
    "        allocator.construct(p++, elem);\n",
    "    }\n",
    "}"
   ]
  },
  {
   "cell_type": "code",
   "execution_count": null,
   "id": "65a9b95de2b4445b",
   "metadata": {
    "tags": [
     "keep"
    ]
   },
   "outputs": [],
   "source": [
    "template <typename T>\n",
    "MyVector<T>::~MyVector()\n",
    "{\n",
    "    delete_data();\n",
    "    std::cout << \"MyVector<\" << type_name<T>() << \"> @\" << this << \": destroyed\\n\";\n",
    "}"
   ]
  },
  {
   "cell_type": "code",
   "execution_count": null,
   "id": "28b8681874a57542",
   "metadata": {
    "slideshow": {
     "slide_type": "subslide"
    },
    "tags": [
     "keep",
     "subslide"
    ]
   },
   "outputs": [],
   "source": [
    "template <typename T>\n",
    "void MyVector<T>::ensure_can_push_back()\n",
    "{\n",
    "    if (size_ == capacity_) {\n",
    "        size_type new_capacity = capacity() == 0 ? 1 : capacity() * 2;\n",
    "        reserve(new_capacity);\n",
    "    }\n",
    "}"
   ]
  },
  {
   "cell_type": "code",
   "execution_count": null,
   "id": "97b1dfd36f58894b",
   "metadata": {
    "lines_to_next_cell": 2,
    "slideshow": {
     "slide_type": "subslide"
    },
    "tags": [
     "keep",
     "subslide"
    ]
   },
   "outputs": [],
   "source": [
    "template <typename T>\n",
    "typename MyVector<T>::pointer MyVector<T>::allocate_data()\n",
    "{\n",
    "    return allocator.allocate(capacity());\n",
    "}"
   ]
  },
  {
   "cell_type": "code",
   "execution_count": null,
   "id": "e6a7d1834499f3cb",
   "metadata": {
    "slideshow": {
     "slide_type": "subslide"
    },
    "tags": [
     "keep",
     "subslide"
    ]
   },
   "outputs": [],
   "source": [
    "template <typename T>\n",
    "void MyVector<T>::delete_data()\n",
    "{\n",
    "    if (data_) {\n",
    "        for (size_type i{0}; i != size_; ++i) {\n",
    "            allocator.destroy(data_ + i);\n",
    "        }\n",
    "        allocator.deallocate(data_, capacity());\n",
    "    }\n",
    "    data_ = nullptr;\n",
    "}"
   ]
  },
  {
   "cell_type": "code",
   "execution_count": null,
   "id": "679ac39bbbc0330c",
   "metadata": {
    "slideshow": {
     "slide_type": "subslide"
    },
    "tags": [
     "keep",
     "subslide"
    ]
   },
   "outputs": [],
   "source": [
    "template <typename T>\n",
    "void MyVector<T>::assert_valid_index(size_type index) const\n",
    "{\n",
    "    if (index >= size_) {\n",
    "        throw std::out_of_range(\"Index out of range\");\n",
    "    }\n",
    "}"
   ]
  },
  {
   "cell_type": "code",
   "execution_count": null,
   "id": "ea9cb0b9d67073a2",
   "metadata": {
    "slideshow": {
     "slide_type": "subslide"
    },
    "tags": [
     "keep",
     "subslide"
    ]
   },
   "outputs": [],
   "source": [
    "template <typename T>\n",
    "void MyVector<T>::push_back(const T& value)\n",
    "{\n",
    "    ensure_can_push_back();\n",
    "    allocator.construct(data_ + size_, value);\n",
    "    ++size_;\n",
    "}"
   ]
  },
  {
   "cell_type": "code",
   "execution_count": null,
   "id": "18e8aaee6bcd78e4",
   "metadata": {
    "tags": [
     "keep"
    ]
   },
   "outputs": [],
   "source": [
    "template <typename T>\n",
    "void MyVector<T>::push_back(T&& value)\n",
    "{\n",
    "    ensure_can_push_back();\n",
    "    allocator.construct(data_ + size_, std::move(value));\n",
    "    ++size_;\n",
    "}"
   ]
  },
  {
   "cell_type": "code",
   "execution_count": null,
   "id": "f0d11b3fc19c127f",
   "metadata": {
    "slideshow": {
     "slide_type": "subslide"
    },
    "tags": [
     "keep",
     "subslide"
    ]
   },
   "outputs": [],
   "source": [
    "template <typename T>\n",
    "void MyVector<T>::pop_back()\n",
    "{\n",
    "    assert_valid_index(size_ - 1);\n",
    "    --size_;\n",
    "    allocator.destroy(data_ + size_);\n",
    "}"
   ]
  },
  {
   "cell_type": "code",
   "execution_count": null,
   "id": "c3b070d078f814ce",
   "metadata": {
    "slideshow": {
     "slide_type": "subslide"
    },
    "tags": [
     "keep",
     "subslide"
    ]
   },
   "outputs": [],
   "source": [
    "template <typename T>\n",
    "template <typename... Arg>\n",
    "void MyVector<T>::emplace_back(Arg&&... args)\n",
    "{\n",
    "    ensure_can_push_back();\n",
    "    auto elt_ptr{data_ + size_};\n",
    "    std::allocator_traits<decltype(allocator)>::construct(\n",
    "        allocator, elt_ptr, std::forward<Arg>(args)...);\n",
    "    ++size_;\n",
    "}"
   ]
  },
  {
   "cell_type": "code",
   "execution_count": null,
   "id": "4745df594931ae4a",
   "metadata": {
    "slideshow": {
     "slide_type": "subslide"
    },
    "tags": [
     "keep",
     "subslide"
    ]
   },
   "outputs": [],
   "source": [
    "template <typename T>\n",
    "typename MyVector<T>::reference MyVector<T>::at(size_type index)\n",
    "{\n",
    "    assert_valid_index(index);\n",
    "    return data_[index];\n",
    "}"
   ]
  },
  {
   "cell_type": "code",
   "execution_count": null,
   "id": "40998057a52020d7",
   "metadata": {
    "slideshow": {
     "slide_type": "subslide"
    },
    "tags": [
     "keep",
     "subslide"
    ]
   },
   "outputs": [],
   "source": [
    "template <typename T>\n",
    "typename MyVector<T>::const_reference MyVector<T>::at(size_type index) const\n",
    "{\n",
    "    assert_valid_index(index);\n",
    "    return data_[index];\n",
    "}"
   ]
  },
  {
   "cell_type": "code",
   "execution_count": null,
   "id": "aec31de414bc3bbb",
   "metadata": {
    "tags": [
     "keep"
    ]
   },
   "outputs": [],
   "source": [
    "template <typename T>\n",
    "typename MyVector<T>::size_type MyVector<T>::size() const\n",
    "{\n",
    "    return size_;\n",
    "}"
   ]
  },
  {
   "cell_type": "code",
   "execution_count": null,
   "id": "d5adf1063c71fbd0",
   "metadata": {
    "tags": [
     "keep"
    ]
   },
   "outputs": [],
   "source": [
    "template <typename T>\n",
    "typename MyVector<T>::size_type MyVector<T>::capacity() const\n",
    "{\n",
    "    return capacity_;\n",
    "}"
   ]
  },
  {
   "cell_type": "code",
   "execution_count": null,
   "id": "8731af7fe5984929",
   "metadata": {
    "tags": [
     "keep"
    ]
   },
   "outputs": [],
   "source": [
    "template <typename T>\n",
    "void MyVector<T>::reserve(size_type new_size)\n",
    "{\n",
    "    if (new_size > capacity_) {\n",
    "        pointer new_data{allocator.allocate(new_size)};\n",
    "        for (size_type i{0}; i != size_; ++i) {\n",
    "            allocator.construct(new_data + i, std::move(data_[i]));\n",
    "        }\n",
    "        delete_data();\n",
    "        data_ = new_data;\n",
    "        capacity_ = new_size;\n",
    "    }\n",
    "}"
   ]
  },
  {
   "cell_type": "code",
   "execution_count": null,
   "id": "8a1db09bde177524",
   "metadata": {
    "slideshow": {
     "slide_type": "subslide"
    },
    "tags": [
     "keep",
     "subslide"
    ]
   },
   "outputs": [],
   "source": [
    "template <typename T>\n",
    "void print_info(const MyVector<T>& vec)\n",
    "{\n",
    "    std::cout << \"MyVector<\" << type_name<T>() << \"> @\" << &vec << \"\\n\";\n",
    "    std::cout << \"  size:         \" << vec.size() << \"\\n\";\n",
    "    std::cout << \"  capacity:     \" << vec.capacity() << \"\\n\";\n",
    "    std::cout << \"  element type: \" << type_name<T>() << \"\\n\";\n",
    "    std::cout << \"  data:         \" << vec << \"\\n\";\n",
    "}"
   ]
  },
  {
   "cell_type": "code",
   "execution_count": null,
   "id": "b4732739470f22cb",
   "metadata": {
    "slideshow": {
     "slide_type": "subslide"
    },
    "tags": [
     "keep",
     "subslide"
    ]
   },
   "outputs": [],
   "source": [
    "template <typename T>\n",
    "std::string vector_data(const std::vector<T>& vec)\n",
    "{\n",
    "    std::ostringstream os{};\n",
    "    std::string sep{\"\"};\n",
    "    os << \"[\";\n",
    "    for (typename MyVector<T>::size_type i{0}; i != vec.size(); ++i) {\n",
    "        os << sep << to_string(vec[i]);\n",
    "        sep = \", \"s;\n",
    "    }\n",
    "    os << \"]\";\n",
    "    return os.str();\n",
    "}"
   ]
  },
  {
   "cell_type": "code",
   "execution_count": null,
   "id": "9828702692df430a",
   "metadata": {
    "slideshow": {
     "slide_type": "subslide"
    },
    "tags": [
     "keep",
     "subslide"
    ]
   },
   "outputs": [],
   "source": [
    "#include <vector>\n",
    "\n",
    "template <typename T>\n",
    "void print_info(const std::vector<T>& vec)\n",
    "{\n",
    "    const std::string& data{vector_data(vec)};\n",
    "\n",
    "    std::cout << \"std::vector<\" << type_name<T>() << \"> @\" << &vec << \"\\n\";\n",
    "    std::cout << \"size:         \" << vec.size() << \"\\n\";\n",
    "    std::cout << \"capacity:     \" << vec.capacity() << \"\\n\";\n",
    "    std::cout << \"element type: \" << type_name<T>() << \"\\n\";\n",
    "    std::cout << \"data:         \" << data << \"\\n\";\n",
    "}"
   ]
  },
  {
   "cell_type": "markdown",
   "id": "c3cf89c5cc22ebdb",
   "metadata": {
    "lang": "de",
    "slideshow": {
     "slide_type": "subslide"
    },
    "tags": [
     "subslide"
    ]
   },
   "source": [
    "\n",
    "## Verwenden von `MyVector`\n"
   ]
  },
  {
   "cell_type": "code",
   "execution_count": null,
   "id": "e37b291e59e1eda7",
   "metadata": {
    "slideshow": {
     "slide_type": "subslide"
    },
    "tags": [
     "keep",
     "subslide"
    ]
   },
   "outputs": [],
   "source": [
    "MyVector<int> mv{1, 2, 3, 4};\n",
    "print_info(mv);"
   ]
  },
  {
   "cell_type": "code",
   "execution_count": null,
   "id": "08159f922806a442",
   "metadata": {
    "tags": [
     "keep"
    ]
   },
   "outputs": [],
   "source": [
    "mv.at(0)"
   ]
  },
  {
   "cell_type": "code",
   "execution_count": null,
   "id": "2d9204b2c252d1de",
   "metadata": {
    "tags": [
     "keep"
    ]
   },
   "outputs": [],
   "source": [
    "// mv.at(10)"
   ]
  },
  {
   "cell_type": "code",
   "execution_count": null,
   "id": "5f915cd4d2c9ed22",
   "metadata": {
    "tags": [
     "keep"
    ]
   },
   "outputs": [],
   "source": [
    "try {\n",
    "    mv.at(10);\n",
    "} catch (std::out_of_range ex) {\n",
    "    std::cout << \"Index out of range!\\n\";\n",
    "}"
   ]
  },
  {
   "cell_type": "markdown",
   "id": "e87f0e52e1957c8d",
   "metadata": {
    "lang": "de",
    "slideshow": {
     "slide_type": "subslide"
    },
    "tags": [
     "subslide"
    ]
   },
   "source": [
    "\n",
    "Da wir `begin()` und `end()` Member implementiert haben, können wir\n",
    "`MyVector` mit Range-basierten `for`-Schleifen verwenden"
   ]
  },
  {
   "cell_type": "code",
   "execution_count": null,
   "id": "0357617e5b627db2",
   "metadata": {
    "tags": [
     "keep"
    ]
   },
   "outputs": [],
   "source": [
    "for (int& elt : mv) {\n",
    "    ++elt;\n",
    "}\n",
    "print_info(mv);"
   ]
  },
  {
   "cell_type": "code",
   "execution_count": null,
   "id": "2b88a47642538058",
   "metadata": {
    "slideshow": {
     "slide_type": "subslide"
    },
    "tags": [
     "keep",
     "subslide"
    ]
   },
   "outputs": [],
   "source": [
    "mv.push_back(5);\n",
    "print_info(mv);"
   ]
  },
  {
   "cell_type": "code",
   "execution_count": null,
   "id": "ab935516db5c64fe",
   "metadata": {
    "tags": [
     "keep"
    ]
   },
   "outputs": [],
   "source": [
    "mv.emplace_back(6);\n",
    "print_info(mv);"
   ]
  },
  {
   "cell_type": "code",
   "execution_count": null,
   "id": "26ad452d7d4cf300",
   "metadata": {
    "slideshow": {
     "slide_type": "subslide"
    },
    "tags": [
     "keep",
     "subslide"
    ]
   },
   "outputs": [],
   "source": [
    "mv.pop_back();\n",
    "print_info(mv);"
   ]
  },
  {
   "cell_type": "code",
   "execution_count": null,
   "id": "26f601f07d863f6c",
   "metadata": {
    "tags": [
     "keep"
    ]
   },
   "outputs": [],
   "source": [
    "mv.front()"
   ]
  },
  {
   "cell_type": "code",
   "execution_count": null,
   "id": "1689c55602946b57",
   "metadata": {
    "tags": [
     "keep"
    ]
   },
   "outputs": [],
   "source": [
    "mv.back()"
   ]
  },
  {
   "cell_type": "code",
   "execution_count": null,
   "id": "fa560d3e34e815e4",
   "metadata": {
    "slideshow": {
     "slide_type": "subslide"
    },
    "tags": [
     "keep",
     "subslide"
    ]
   },
   "outputs": [],
   "source": [
    "MyVector<std::string> mv{\"Hello\", \" world\"};\n",
    "print_info(mv);"
   ]
  },
  {
   "cell_type": "code",
   "execution_count": null,
   "id": "9696c0ed57bd4418",
   "metadata": {
    "tags": [
     "keep"
    ]
   },
   "outputs": [],
   "source": [
    "mv.front()"
   ]
  },
  {
   "cell_type": "code",
   "execution_count": null,
   "id": "1a7901b3e7cf1182",
   "metadata": {
    "tags": [
     "keep"
    ]
   },
   "outputs": [],
   "source": [
    "mv.back()"
   ]
  },
  {
   "cell_type": "code",
   "execution_count": null,
   "id": "833fc033f56e8dab",
   "metadata": {
    "slideshow": {
     "slide_type": "subslide"
    },
    "tags": [
     "keep",
     "subslide"
    ]
   },
   "outputs": [],
   "source": [
    "mv.push_back(\"!\");"
   ]
  },
  {
   "cell_type": "code",
   "execution_count": null,
   "id": "74824ba2380e56c3",
   "metadata": {
    "tags": [
     "keep"
    ]
   },
   "outputs": [],
   "source": [
    "mv.back().append(\"?!\");\n",
    "print_info(mv);"
   ]
  },
  {
   "cell_type": "code",
   "execution_count": null,
   "id": "8780ff21d6beaa18",
   "metadata": {
    "tags": [
     "keep"
    ]
   },
   "outputs": [],
   "source": [
    "mv.pop_back();\n",
    "print_info(mv);"
   ]
  },
  {
   "cell_type": "code",
   "execution_count": null,
   "id": "f8f23599dac46834",
   "metadata": {
    "slideshow": {
     "slide_type": "subslide"
    },
    "tags": [
     "keep",
     "subslide"
    ]
   },
   "outputs": [],
   "source": [
    "const MyVector<std::string> cv{\"Hello\", \" world\"};\n",
    "print_info(cv);"
   ]
  },
  {
   "cell_type": "code",
   "execution_count": null,
   "id": "acf0b6164c6b8efa",
   "metadata": {
    "tags": [
     "keep"
    ]
   },
   "outputs": [],
   "source": [
    "cv.front()"
   ]
  },
  {
   "cell_type": "code",
   "execution_count": null,
   "id": "78caf5fa648dfa2e",
   "metadata": {
    "tags": [
     "keep"
    ]
   },
   "outputs": [],
   "source": [
    "cv.back()"
   ]
  },
  {
   "cell_type": "code",
   "execution_count": null,
   "id": "ad1daa967a46c75d",
   "metadata": {
    "slideshow": {
     "slide_type": "subslide"
    },
    "tags": [
     "keep",
     "subslide"
    ]
   },
   "outputs": [],
   "source": [
    "// cv.push_back(\"!\");"
   ]
  },
  {
   "cell_type": "code",
   "execution_count": null,
   "id": "e381fcdf8ca2539e",
   "metadata": {
    "tags": [
     "keep"
    ]
   },
   "outputs": [],
   "source": [
    "// cv.back().append(\"?!\");"
   ]
  },
  {
   "cell_type": "code",
   "execution_count": null,
   "id": "263812c78f2009e2",
   "metadata": {},
   "outputs": [],
   "source": [
    "// cv.pop_back();"
   ]
  },
  {
   "cell_type": "code",
   "execution_count": null,
   "id": "70d9bfa0a3414a42",
   "metadata": {
    "slideshow": {
     "slide_type": "subslide"
    },
    "tags": [
     "keep",
     "subslide"
    ]
   },
   "outputs": [],
   "source": [
    "MyVector<Obs> mv;\n",
    "mv.reserve(8);\n",
    "print_info(mv);"
   ]
  },
  {
   "cell_type": "code",
   "execution_count": null,
   "id": "430003abedcc547d",
   "metadata": {
    "slideshow": {
     "slide_type": "subslide"
    },
    "tags": [
     "keep",
     "subslide"
    ]
   },
   "outputs": [],
   "source": [
    "std::vector<Obs> sv;\n",
    "sv.reserve(8);\n",
    "print_info(sv);"
   ]
  },
  {
   "cell_type": "code",
   "execution_count": null,
   "id": "251cebfe45bb7e71",
   "metadata": {
    "slideshow": {
     "slide_type": "subslide"
    },
    "tags": [
     "keep",
     "subslide"
    ]
   },
   "outputs": [],
   "source": [
    "Obs obs{1};\n",
    "mv.push_back(obs);\n",
    "print_info(mv);"
   ]
  },
  {
   "cell_type": "code",
   "execution_count": null,
   "id": "45dbc1ac86c84a22",
   "metadata": {
    "tags": [
     "keep"
    ]
   },
   "outputs": [],
   "source": [
    "mv.at(0)"
   ]
  },
  {
   "cell_type": "code",
   "execution_count": null,
   "id": "2236756de501867b",
   "metadata": {
    "tags": [
     "keep"
    ]
   },
   "outputs": [],
   "source": [
    "sv.push_back(obs);\n",
    "print_info(sv);"
   ]
  },
  {
   "cell_type": "code",
   "execution_count": null,
   "id": "0ce744e678dfe16a",
   "metadata": {
    "tags": [
     "keep"
    ]
   },
   "outputs": [],
   "source": [
    "sv.at(0)"
   ]
  },
  {
   "cell_type": "code",
   "execution_count": null,
   "id": "51bb8b87240d64a3",
   "metadata": {
    "slideshow": {
     "slide_type": "subslide"
    },
    "tags": [
     "keep",
     "subslide"
    ]
   },
   "outputs": [],
   "source": [
    "mv.push_back(Obs{2});\n",
    "print_info(mv);"
   ]
  },
  {
   "cell_type": "code",
   "execution_count": null,
   "id": "8e4abf0ce27a7954",
   "metadata": {
    "tags": [
     "keep"
    ]
   },
   "outputs": [],
   "source": [
    "sv.push_back(Obs{2});\n",
    "print_info(sv);"
   ]
  },
  {
   "cell_type": "code",
   "execution_count": null,
   "id": "8b046cf69e549e9c",
   "metadata": {
    "tags": [
     "keep"
    ]
   },
   "outputs": [],
   "source": [
    "mv.emplace_back(Obs{3});\n",
    "print_info(mv);"
   ]
  },
  {
   "cell_type": "code",
   "execution_count": null,
   "id": "d5d323afa7d49d81",
   "metadata": {
    "tags": [
     "keep"
    ]
   },
   "outputs": [],
   "source": [
    "sv.emplace_back(Obs{3});\n",
    "print_info(sv);"
   ]
  },
  {
   "cell_type": "code",
   "execution_count": null,
   "id": "93750d7e8c6fd4ca",
   "metadata": {
    "slideshow": {
     "slide_type": "subslide"
    },
    "tags": [
     "keep",
     "subslide"
    ]
   },
   "outputs": [],
   "source": [
    "mv.emplace_back(4);\n",
    "print_info(mv);"
   ]
  },
  {
   "cell_type": "code",
   "execution_count": null,
   "id": "3d6ed4f4bb63e56a",
   "metadata": {
    "tags": [
     "keep"
    ]
   },
   "outputs": [],
   "source": [
    "sv.emplace_back(4);\n",
    "print_info(sv);"
   ]
  },
  {
   "cell_type": "code",
   "execution_count": null,
   "id": "a6348256ef8cd1f3",
   "metadata": {
    "slideshow": {
     "slide_type": "subslide"
    },
    "tags": [
     "keep",
     "subslide"
    ]
   },
   "outputs": [],
   "source": [
    "// mv.push_back(5);\n",
    "// print_info(mv);"
   ]
  },
  {
   "cell_type": "code",
   "execution_count": null,
   "id": "e275ba76bdfb4d22",
   "metadata": {
    "tags": [
     "keep"
    ]
   },
   "outputs": [],
   "source": [
    "// sv.push_back(5);\n",
    "// print_info(sv);"
   ]
  },
  {
   "cell_type": "code",
   "execution_count": null,
   "id": "41d4293b52301230",
   "metadata": {
    "tags": [
     "keep"
    ]
   },
   "outputs": [],
   "source": [
    "mv.push_back(Obs{5});\n",
    "print_info(mv);"
   ]
  },
  {
   "cell_type": "code",
   "execution_count": null,
   "id": "1e6951a9c8ef17ab",
   "metadata": {
    "tags": [
     "keep"
    ]
   },
   "outputs": [],
   "source": [
    "sv.push_back(Obs{5});\n",
    "print_info(sv);"
   ]
  },
  {
   "cell_type": "code",
   "execution_count": null,
   "id": "80141f604c372c3c",
   "metadata": {
    "slideshow": {
     "slide_type": "subslide"
    },
    "tags": [
     "keep",
     "subslide"
    ]
   },
   "outputs": [],
   "source": [
    "mv.pop_back();\n",
    "print_info(mv);"
   ]
  },
  {
   "cell_type": "code",
   "execution_count": null,
   "id": "4422d33902ceb2ab",
   "metadata": {
    "tags": [
     "keep"
    ]
   },
   "outputs": [],
   "source": [
    "sv.pop_back();\n",
    "print_info(sv);"
   ]
  },
  {
   "cell_type": "code",
   "execution_count": null,
   "id": "5d25e802916f61a0",
   "metadata": {
    "tags": [
     "keep"
    ]
   },
   "outputs": [],
   "source": [
    "// mv.at(6)"
   ]
  },
  {
   "cell_type": "code",
   "execution_count": null,
   "id": "1bddce05827ff801",
   "metadata": {
    "tags": [
     "keep"
    ]
   },
   "outputs": [],
   "source": [
    "// sv.at(6)"
   ]
  },
  {
   "cell_type": "code",
   "execution_count": null,
   "id": "442c0cc6193edfdc",
   "metadata": {
    "slideshow": {
     "slide_type": "subslide"
    },
    "tags": [
     "keep",
     "subslide"
    ]
   },
   "outputs": [],
   "source": [
    "{\n",
    "    MyVector mv{1};\n",
    "    mv.push_back(2);\n",
    "}"
   ]
  },
  {
   "cell_type": "markdown",
   "id": "31c40821fc976fd4",
   "metadata": {
    "lang": "de",
    "slideshow": {
     "slide_type": "subslide"
    },
    "tags": [
     "subslide"
    ]
   },
   "source": [
    "\n",
    "- Seit C++17 kann auch der Typ von Klassen-Template-Parametern\n",
    "  abgeleitet werden (Class Template Argument Deduction, CTAD)"
   ]
  },
  {
   "cell_type": "code",
   "execution_count": null,
   "id": "84a5ae5df740a018",
   "metadata": {
    "tags": [
     "keep"
    ]
   },
   "outputs": [],
   "source": [
    "{\n",
    "    MyVector mv(4, 1.0);\n",
    "\n",
    "    MyVector mv2 = mv;\n",
    "\n",
    "    print_info(mv);\n",
    "    print_info(mv2);\n",
    "}"
   ]
  },
  {
   "cell_type": "code",
   "execution_count": null,
   "id": "0d528cd4e4806573",
   "metadata": {
    "slideshow": {
     "slide_type": "subslide"
    },
    "tags": [
     "keep",
     "subslide"
    ]
   },
   "outputs": [],
   "source": [
    "{\n",
    "    MyVector mv{\"foo\", \"bar\", \"baz\"};\n",
    "\n",
    "    MyVector mv2 = std::move(mv);\n",
    "\n",
    "    print_info(mv);\n",
    "    print_info(mv2);\n",
    "}"
   ]
  },
  {
   "cell_type": "code",
   "execution_count": null,
   "id": "415cb93e99cd2347",
   "metadata": {
    "slideshow": {
     "slide_type": "subslide"
    },
    "tags": [
     "keep",
     "subslide"
    ]
   },
   "outputs": [],
   "source": [
    "{\n",
    "    MyVector mv{\"a\"s, \"b\"s, \"c\"s};\n",
    "    MyVector mv2(10, \"abc\"s);\n",
    "\n",
    "    mv2 = mv;\n",
    "\n",
    "    mv.push_back(\"g\"s);\n",
    "    mv2.push_back(\"h\"s);\n",
    "    mv2.push_back(\"i\"s);\n",
    "\n",
    "    print_info(mv);\n",
    "    print_info(mv2);\n",
    "}"
   ]
  },
  {
   "cell_type": "code",
   "execution_count": null,
   "id": "5538b71d95f051f2",
   "metadata": {
    "slideshow": {
     "slide_type": "subslide"
    },
    "tags": [
     "keep",
     "subslide"
    ]
   },
   "outputs": [],
   "source": [
    "{\n",
    "    MyVector mv{\"a\"s, \"b\"s, \"c\"s};\n",
    "    MyVector mv2(10, \"abc\"s);\n",
    "\n",
    "    mv2 = std::move(mv);\n",
    "\n",
    "    mv.push_back(\"g\"s);\n",
    "    mv2.push_back(\"h\"s);\n",
    "    mv2.push_back(\"i\"s);\n",
    "\n",
    "    print_info(mv);\n",
    "    print_info(mv2);\n",
    "}"
   ]
  },
  {
   "cell_type": "code",
   "execution_count": null,
   "id": "6b4e03423667dbb7",
   "metadata": {},
   "outputs": [],
   "source": []
  }
 ],
 "metadata": {
  "kernelspec": {
   "display_name": "C++17",
   "language": "C++17",
   "name": "xcpp17"
  },
  "language_info": {
   "codemirror_mode": "text/x-c++src",
   "file_extension": ".cpp",
   "mimetype": "text/x-c++src",
   "name": "c++",
   "version": "17"
  }
 },
 "nbformat": 4,
 "nbformat_minor": 5
}
